{
 "cells": [
  {
   "cell_type": "code",
   "execution_count": 12,
   "id": "3e70040f",
   "metadata": {},
   "outputs": [],
   "source": [
    "import pandas_datareader as pdr"
   ]
  },
  {
   "cell_type": "code",
   "execution_count": 16,
   "id": "f0b23787",
   "metadata": {},
   "outputs": [],
   "source": [
    "with open('api_key.txt') as file:\n",
    "    api_key = file.readline()\n"
   ]
  },
  {
   "cell_type": "code",
   "execution_count": 20,
   "id": "7731191e",
   "metadata": {},
   "outputs": [],
   "source": [
    "df = pdr.get_data_tiingo('AAPL',api_key=api_key)"
   ]
  },
  {
   "cell_type": "code",
   "execution_count": 21,
   "id": "01814418",
   "metadata": {},
   "outputs": [],
   "source": [
    "df.to_csv('AAPL.csv')"
   ]
  },
  {
   "cell_type": "code",
   "execution_count": 22,
   "id": "344c1386",
   "metadata": {},
   "outputs": [],
   "source": [
    "import pandas as pd"
   ]
  },
  {
   "cell_type": "code",
   "execution_count": 23,
   "id": "06e9d22e",
   "metadata": {},
   "outputs": [],
   "source": [
    "df = pd.read_csv('AAPL.csv')"
   ]
  },
  {
   "cell_type": "code",
   "execution_count": 24,
   "id": "471f98a4",
   "metadata": {},
   "outputs": [
    {
     "data": {
      "text/html": [
       "<div>\n",
       "<style scoped>\n",
       "    .dataframe tbody tr th:only-of-type {\n",
       "        vertical-align: middle;\n",
       "    }\n",
       "\n",
       "    .dataframe tbody tr th {\n",
       "        vertical-align: top;\n",
       "    }\n",
       "\n",
       "    .dataframe thead th {\n",
       "        text-align: right;\n",
       "    }\n",
       "</style>\n",
       "<table border=\"1\" class=\"dataframe\">\n",
       "  <thead>\n",
       "    <tr style=\"text-align: right;\">\n",
       "      <th></th>\n",
       "      <th>symbol</th>\n",
       "      <th>date</th>\n",
       "      <th>close</th>\n",
       "      <th>high</th>\n",
       "      <th>low</th>\n",
       "      <th>open</th>\n",
       "      <th>volume</th>\n",
       "      <th>adjClose</th>\n",
       "      <th>adjHigh</th>\n",
       "      <th>adjLow</th>\n",
       "      <th>adjOpen</th>\n",
       "      <th>adjVolume</th>\n",
       "      <th>divCash</th>\n",
       "      <th>splitFactor</th>\n",
       "    </tr>\n",
       "  </thead>\n",
       "  <tbody>\n",
       "    <tr>\n",
       "      <th>0</th>\n",
       "      <td>AAPL</td>\n",
       "      <td>2016-05-24 00:00:00+00:00</td>\n",
       "      <td>97.90</td>\n",
       "      <td>98.09</td>\n",
       "      <td>96.840</td>\n",
       "      <td>97.22</td>\n",
       "      <td>35140174</td>\n",
       "      <td>22.860967</td>\n",
       "      <td>22.905334</td>\n",
       "      <td>22.613442</td>\n",
       "      <td>22.702177</td>\n",
       "      <td>140560696</td>\n",
       "      <td>0.0</td>\n",
       "      <td>1.0</td>\n",
       "    </tr>\n",
       "    <tr>\n",
       "      <th>1</th>\n",
       "      <td>AAPL</td>\n",
       "      <td>2016-05-25 00:00:00+00:00</td>\n",
       "      <td>99.62</td>\n",
       "      <td>99.74</td>\n",
       "      <td>98.110</td>\n",
       "      <td>98.67</td>\n",
       "      <td>38642108</td>\n",
       "      <td>23.262610</td>\n",
       "      <td>23.290631</td>\n",
       "      <td>22.910004</td>\n",
       "      <td>23.040772</td>\n",
       "      <td>154568432</td>\n",
       "      <td>0.0</td>\n",
       "      <td>1.0</td>\n",
       "    </tr>\n",
       "    <tr>\n",
       "      <th>2</th>\n",
       "      <td>AAPL</td>\n",
       "      <td>2016-05-26 00:00:00+00:00</td>\n",
       "      <td>100.41</td>\n",
       "      <td>100.73</td>\n",
       "      <td>98.640</td>\n",
       "      <td>99.68</td>\n",
       "      <td>56331159</td>\n",
       "      <td>23.447085</td>\n",
       "      <td>23.521810</td>\n",
       "      <td>23.033766</td>\n",
       "      <td>23.276620</td>\n",
       "      <td>225324636</td>\n",
       "      <td>0.0</td>\n",
       "      <td>1.0</td>\n",
       "    </tr>\n",
       "    <tr>\n",
       "      <th>3</th>\n",
       "      <td>AAPL</td>\n",
       "      <td>2016-05-27 00:00:00+00:00</td>\n",
       "      <td>100.35</td>\n",
       "      <td>100.47</td>\n",
       "      <td>99.245</td>\n",
       "      <td>99.44</td>\n",
       "      <td>36341240</td>\n",
       "      <td>23.433074</td>\n",
       "      <td>23.461096</td>\n",
       "      <td>23.175042</td>\n",
       "      <td>23.220577</td>\n",
       "      <td>145364960</td>\n",
       "      <td>0.0</td>\n",
       "      <td>1.0</td>\n",
       "    </tr>\n",
       "    <tr>\n",
       "      <th>4</th>\n",
       "      <td>AAPL</td>\n",
       "      <td>2016-05-31 00:00:00+00:00</td>\n",
       "      <td>99.86</td>\n",
       "      <td>100.40</td>\n",
       "      <td>98.820</td>\n",
       "      <td>99.60</td>\n",
       "      <td>42307212</td>\n",
       "      <td>23.318653</td>\n",
       "      <td>23.444750</td>\n",
       "      <td>23.075799</td>\n",
       "      <td>23.257939</td>\n",
       "      <td>169228848</td>\n",
       "      <td>0.0</td>\n",
       "      <td>1.0</td>\n",
       "    </tr>\n",
       "  </tbody>\n",
       "</table>\n",
       "</div>"
      ],
      "text/plain": [
       "  symbol                       date   close    high     low   open    volume  \\\n",
       "0   AAPL  2016-05-24 00:00:00+00:00   97.90   98.09  96.840  97.22  35140174   \n",
       "1   AAPL  2016-05-25 00:00:00+00:00   99.62   99.74  98.110  98.67  38642108   \n",
       "2   AAPL  2016-05-26 00:00:00+00:00  100.41  100.73  98.640  99.68  56331159   \n",
       "3   AAPL  2016-05-27 00:00:00+00:00  100.35  100.47  99.245  99.44  36341240   \n",
       "4   AAPL  2016-05-31 00:00:00+00:00   99.86  100.40  98.820  99.60  42307212   \n",
       "\n",
       "    adjClose    adjHigh     adjLow    adjOpen  adjVolume  divCash  splitFactor  \n",
       "0  22.860967  22.905334  22.613442  22.702177  140560696      0.0          1.0  \n",
       "1  23.262610  23.290631  22.910004  23.040772  154568432      0.0          1.0  \n",
       "2  23.447085  23.521810  23.033766  23.276620  225324636      0.0          1.0  \n",
       "3  23.433074  23.461096  23.175042  23.220577  145364960      0.0          1.0  \n",
       "4  23.318653  23.444750  23.075799  23.257939  169228848      0.0          1.0  "
      ]
     },
     "execution_count": 24,
     "metadata": {},
     "output_type": "execute_result"
    }
   ],
   "source": [
    "df.head()"
   ]
  },
  {
   "cell_type": "code",
   "execution_count": 25,
   "id": "6395e524",
   "metadata": {},
   "outputs": [
    {
     "data": {
      "text/html": [
       "<div>\n",
       "<style scoped>\n",
       "    .dataframe tbody tr th:only-of-type {\n",
       "        vertical-align: middle;\n",
       "    }\n",
       "\n",
       "    .dataframe tbody tr th {\n",
       "        vertical-align: top;\n",
       "    }\n",
       "\n",
       "    .dataframe thead th {\n",
       "        text-align: right;\n",
       "    }\n",
       "</style>\n",
       "<table border=\"1\" class=\"dataframe\">\n",
       "  <thead>\n",
       "    <tr style=\"text-align: right;\">\n",
       "      <th></th>\n",
       "      <th>symbol</th>\n",
       "      <th>date</th>\n",
       "      <th>close</th>\n",
       "      <th>high</th>\n",
       "      <th>low</th>\n",
       "      <th>open</th>\n",
       "      <th>volume</th>\n",
       "      <th>adjClose</th>\n",
       "      <th>adjHigh</th>\n",
       "      <th>adjLow</th>\n",
       "      <th>adjOpen</th>\n",
       "      <th>adjVolume</th>\n",
       "      <th>divCash</th>\n",
       "      <th>splitFactor</th>\n",
       "    </tr>\n",
       "  </thead>\n",
       "  <tbody>\n",
       "    <tr>\n",
       "      <th>1253</th>\n",
       "      <td>AAPL</td>\n",
       "      <td>2021-05-17 00:00:00+00:00</td>\n",
       "      <td>126.27</td>\n",
       "      <td>126.930</td>\n",
       "      <td>125.17</td>\n",
       "      <td>126.82</td>\n",
       "      <td>74244624</td>\n",
       "      <td>126.27</td>\n",
       "      <td>126.930</td>\n",
       "      <td>125.17</td>\n",
       "      <td>126.82</td>\n",
       "      <td>74244624</td>\n",
       "      <td>0.0</td>\n",
       "      <td>1.0</td>\n",
       "    </tr>\n",
       "    <tr>\n",
       "      <th>1254</th>\n",
       "      <td>AAPL</td>\n",
       "      <td>2021-05-18 00:00:00+00:00</td>\n",
       "      <td>124.85</td>\n",
       "      <td>126.990</td>\n",
       "      <td>124.78</td>\n",
       "      <td>126.56</td>\n",
       "      <td>63342929</td>\n",
       "      <td>124.85</td>\n",
       "      <td>126.990</td>\n",
       "      <td>124.78</td>\n",
       "      <td>126.56</td>\n",
       "      <td>63342929</td>\n",
       "      <td>0.0</td>\n",
       "      <td>1.0</td>\n",
       "    </tr>\n",
       "    <tr>\n",
       "      <th>1255</th>\n",
       "      <td>AAPL</td>\n",
       "      <td>2021-05-19 00:00:00+00:00</td>\n",
       "      <td>124.69</td>\n",
       "      <td>124.915</td>\n",
       "      <td>122.86</td>\n",
       "      <td>123.16</td>\n",
       "      <td>92611989</td>\n",
       "      <td>124.69</td>\n",
       "      <td>124.915</td>\n",
       "      <td>122.86</td>\n",
       "      <td>123.16</td>\n",
       "      <td>92611989</td>\n",
       "      <td>0.0</td>\n",
       "      <td>1.0</td>\n",
       "    </tr>\n",
       "    <tr>\n",
       "      <th>1256</th>\n",
       "      <td>AAPL</td>\n",
       "      <td>2021-05-20 00:00:00+00:00</td>\n",
       "      <td>127.31</td>\n",
       "      <td>127.720</td>\n",
       "      <td>125.10</td>\n",
       "      <td>125.23</td>\n",
       "      <td>76857123</td>\n",
       "      <td>127.31</td>\n",
       "      <td>127.720</td>\n",
       "      <td>125.10</td>\n",
       "      <td>125.23</td>\n",
       "      <td>76857123</td>\n",
       "      <td>0.0</td>\n",
       "      <td>1.0</td>\n",
       "    </tr>\n",
       "    <tr>\n",
       "      <th>1257</th>\n",
       "      <td>AAPL</td>\n",
       "      <td>2021-05-21 00:00:00+00:00</td>\n",
       "      <td>125.43</td>\n",
       "      <td>128.000</td>\n",
       "      <td>125.21</td>\n",
       "      <td>127.82</td>\n",
       "      <td>79295436</td>\n",
       "      <td>125.43</td>\n",
       "      <td>128.000</td>\n",
       "      <td>125.21</td>\n",
       "      <td>127.82</td>\n",
       "      <td>79295436</td>\n",
       "      <td>0.0</td>\n",
       "      <td>1.0</td>\n",
       "    </tr>\n",
       "  </tbody>\n",
       "</table>\n",
       "</div>"
      ],
      "text/plain": [
       "     symbol                       date   close     high     low    open  \\\n",
       "1253   AAPL  2021-05-17 00:00:00+00:00  126.27  126.930  125.17  126.82   \n",
       "1254   AAPL  2021-05-18 00:00:00+00:00  124.85  126.990  124.78  126.56   \n",
       "1255   AAPL  2021-05-19 00:00:00+00:00  124.69  124.915  122.86  123.16   \n",
       "1256   AAPL  2021-05-20 00:00:00+00:00  127.31  127.720  125.10  125.23   \n",
       "1257   AAPL  2021-05-21 00:00:00+00:00  125.43  128.000  125.21  127.82   \n",
       "\n",
       "        volume  adjClose  adjHigh  adjLow  adjOpen  adjVolume  divCash  \\\n",
       "1253  74244624    126.27  126.930  125.17   126.82   74244624      0.0   \n",
       "1254  63342929    124.85  126.990  124.78   126.56   63342929      0.0   \n",
       "1255  92611989    124.69  124.915  122.86   123.16   92611989      0.0   \n",
       "1256  76857123    127.31  127.720  125.10   125.23   76857123      0.0   \n",
       "1257  79295436    125.43  128.000  125.21   127.82   79295436      0.0   \n",
       "\n",
       "      splitFactor  \n",
       "1253          1.0  \n",
       "1254          1.0  \n",
       "1255          1.0  \n",
       "1256          1.0  \n",
       "1257          1.0  "
      ]
     },
     "execution_count": 25,
     "metadata": {},
     "output_type": "execute_result"
    }
   ],
   "source": [
    "df.tail()"
   ]
  },
  {
   "cell_type": "code",
   "execution_count": 29,
   "id": "215d4271",
   "metadata": {},
   "outputs": [],
   "source": [
    "df2 = df.reset_index()['close']"
   ]
  },
  {
   "cell_type": "code",
   "execution_count": 34,
   "id": "a3b197a0",
   "metadata": {},
   "outputs": [
    {
     "data": {
      "text/plain": [
       "0     97.90\n",
       "1     99.62\n",
       "2    100.41\n",
       "3    100.35\n",
       "4     99.86\n",
       "Name: close, dtype: float64"
      ]
     },
     "execution_count": 34,
     "metadata": {},
     "output_type": "execute_result"
    }
   ],
   "source": [
    "df2.head()"
   ]
  },
  {
   "cell_type": "code",
   "execution_count": 35,
   "id": "5006fa39",
   "metadata": {},
   "outputs": [
    {
     "data": {
      "text/plain": [
       "(1258,)"
      ]
     },
     "execution_count": 35,
     "metadata": {},
     "output_type": "execute_result"
    }
   ],
   "source": [
    "df2.shape"
   ]
  },
  {
   "cell_type": "code",
   "execution_count": 32,
   "id": "a8be1651",
   "metadata": {},
   "outputs": [],
   "source": [
    "import matplotlib.pyplot as plt\n",
    "import seaborn as sns"
   ]
  },
  {
   "cell_type": "code",
   "execution_count": 33,
   "id": "67dda0ea",
   "metadata": {},
   "outputs": [
    {
     "data": {
      "text/plain": [
       "<AxesSubplot:ylabel='close'>"
      ]
     },
     "execution_count": 33,
     "metadata": {},
     "output_type": "execute_result"
    },
    {
     "data": {
      "image/png": "[encoded data removed]",
      "text/plain": [
       "<Figure size 432x288 with 1 Axes>"
      ]
     },
     "metadata": {
      "needs_background": "light"
     },
     "output_type": "display_data"
    }
   ],
   "source": [
    "sns.lineplot(data=df2)"
   ]
  },
  {
   "cell_type": "code",
   "execution_count": 36,
   "id": "3359fc69",
   "metadata": {},
   "outputs": [],
   "source": [
    "### LSTM are sensitive to the scale of the data. so we apply MinMax scaler"
   ]
  },
  {
   "cell_type": "code",
   "execution_count": 39,
   "id": "8d038a77",
   "metadata": {},
   "outputs": [],
   "source": [
    "import numpy as np\n",
    "from sklearn.preprocessing import MinMaxScaler\n",
    "scaler=MinMaxScaler(feature_range=(0,1))\n",
    "df1=scaler.fit_transform(np.array(df2).reshape(-1,1))"
   ]
  },
  {
   "cell_type": "code",
   "execution_count": 40,
   "id": "161c5646",
   "metadata": {},
   "outputs": [
    {
     "data": {
      "text/plain": [
       "array([[0.01415288],\n",
       "       [0.01830697],\n",
       "       [0.02021495],\n",
       "       ...,\n",
       "       [0.07885521],\n",
       "       [0.08518295],\n",
       "       [0.08064243]])"
      ]
     },
     "execution_count": 40,
     "metadata": {},
     "output_type": "execute_result"
    }
   ],
   "source": [
    "df1"
   ]
  },
  {
   "cell_type": "code",
   "execution_count": 69,
   "id": "b6413138",
   "metadata": {},
   "outputs": [],
   "source": [
    "##splitting dataset into train and test split\n",
    "training_size=int(len(df1)*0.65)\n",
    "test_size=len(df1)-training_size\n",
    "train_data,test_data=df1[0:training_size,:],df1[training_size:len(df1),:1]"
   ]
  },
  {
   "cell_type": "code",
   "execution_count": 73,
   "id": "4e84a96a",
   "metadata": {},
   "outputs": [],
   "source": [
    "import numpy\n",
    "# convert an array of values into a dataset matrix\n",
    "def create_dataset(dataset, time_step=1):\n",
    "    dataX, dataY = [], []\n",
    "    for i in range(len(dataset)-time_step-1):\n",
    "        a = dataset[i:(i+time_step), 0]   ###i=0, 0,1,2,3-----99   100 \n",
    "        dataX.append(a)\n",
    "        dataY.append(dataset[i + time_step, 0])\n",
    "    return numpy.array(dataX), numpy.array(dataY)"
   ]
  },
  {
   "cell_type": "code",
   "execution_count": 74,
   "id": "ee2365d3",
   "metadata": {},
   "outputs": [],
   "source": [
    "# reshape into X=t,t+1,t+2,t+3 and Y=t+4\n",
    "time_step = 100\n",
    "X_train, y_train = create_dataset(train_data, time_step)\n",
    "X_test, ytest = create_dataset(test_data, time_step)"
   ]
  },
  {
   "cell_type": "code",
   "execution_count": 75,
   "id": "a1bc80b4",
   "metadata": {},
   "outputs": [
    {
     "data": {
      "text/plain": [
       "(716, 100)"
      ]
     },
     "execution_count": 75,
     "metadata": {},
     "output_type": "execute_result"
    }
   ],
   "source": [
    "X_train.shape"
   ]
  },
  {
   "cell_type": "code",
   "execution_count": 76,
   "id": "cfab1094",
   "metadata": {},
   "outputs": [
    {
     "data": {
      "text/plain": [
       "(716,)"
      ]
     },
     "execution_count": 76,
     "metadata": {},
     "output_type": "execute_result"
    }
   ],
   "source": [
    "y_train.shape"
   ]
  },
  {
   "cell_type": "code",
   "execution_count": 77,
   "id": "62a3d85b",
   "metadata": {},
   "outputs": [],
   "source": [
    "# reshape input to be [samples, time steps, features] which is required for LSTM\n",
    "X_train =X_train.reshape(X_train.shape[0],X_train.shape[1] , 1)\n",
    "X_test = X_test.reshape(X_test.shape[0],X_test.shape[1] , 1)"
   ]
  },
  {
   "cell_type": "code",
   "execution_count": 78,
   "id": "fd9462d3",
   "metadata": {},
   "outputs": [],
   "source": [
    "### Create the Stacked LSTM model\n",
    "from tensorflow.keras.models import Sequential\n",
    "from tensorflow.keras.layers import Dense\n",
    "from tensorflow.keras.layers import LSTM"
   ]
  },
  {
   "cell_type": "code",
   "execution_count": 79,
   "id": "1181e462",
   "metadata": {},
   "outputs": [],
   "source": [
    "model=Sequential()\n",
    "model.add(LSTM(50,return_sequences=True,input_shape=(100,1)))\n",
    "model.add(LSTM(50,return_sequences=True))\n",
    "model.add(LSTM(50))\n",
    "model.add(Dense(1))\n",
    "model.compile(loss='mean_squared_error',optimizer='adam')"
   ]
  },
  {
   "cell_type": "code",
   "execution_count": 80,
   "id": "95e329d2",
   "metadata": {},
   "outputs": [
    {
     "name": "stdout",
     "output_type": "stream",
     "text": [
      "Model: \"sequential\"\n",
      "_________________________________________________________________\n",
      "Layer (type)                 Output Shape              Param #   \n",
      "=================================================================\n",
      "lstm (LSTM)                  (None, 100, 50)           10400     \n",
      "_________________________________________________________________\n",
      "lstm_1 (LSTM)                (None, 100, 50)           20200     \n",
      "_________________________________________________________________\n",
      "lstm_2 (LSTM)                (None, 50)                20200     \n",
      "_________________________________________________________________\n",
      "dense (Dense)                (None, 1)                 51        \n",
      "=================================================================\n",
      "Total params: 50,851\n",
      "Trainable params: 50,851\n",
      "Non-trainable params: 0\n",
      "_________________________________________________________________\n"
     ]
    }
   ],
   "source": [
    "model.summary()"
   ]
  },
  {
   "cell_type": "code",
   "execution_count": 81,
   "id": "a125e6f0",
   "metadata": {},
   "outputs": [
    {
     "name": "stdout",
     "output_type": "stream",
     "text": [
      "Train on 716 samples, validate on 340 samples\n",
      "Epoch 1/100\n",
      "716/716 [==============================] - 12s 17ms/sample - loss: 0.0092 - val_loss: 0.0436\n",
      "Epoch 2/100\n",
      "716/716 [==============================] - 3s 4ms/sample - loss: 0.0023 - val_loss: 0.0246\n",
      "Epoch 3/100\n",
      "716/716 [==============================] - 2s 3ms/sample - loss: 0.0012 - val_loss: 0.0242\n",
      "Epoch 4/100\n",
      "716/716 [==============================] - 2s 3ms/sample - loss: 5.9177e-04 - val_loss: 0.0198\n",
      "Epoch 5/100\n",
      "716/716 [==============================] - 3s 4ms/sample - loss: 4.1713e-04 - val_loss: 0.0197\n",
      "Epoch 6/100\n",
      "716/716 [==============================] - 2s 3ms/sample - loss: 4.1236e-04 - val_loss: 0.0187\n",
      "Epoch 7/100\n",
      "716/716 [==============================] - 2s 3ms/sample - loss: 4.0998e-04 - val_loss: 0.0182\n",
      "Epoch 8/100\n",
      "716/716 [==============================] - 3s 4ms/sample - loss: 3.7571e-04 - val_loss: 0.0179\n",
      "Epoch 9/100\n",
      "716/716 [==============================] - 2s 3ms/sample - loss: 3.5923e-04 - val_loss: 0.0176\n",
      "Epoch 10/100\n",
      "716/716 [==============================] - 2s 3ms/sample - loss: 3.3918e-04 - val_loss: 0.0174\n",
      "Epoch 11/100\n",
      "716/716 [==============================] - 2s 3ms/sample - loss: 3.1383e-04 - val_loss: 0.0174\n",
      "Epoch 12/100\n",
      "716/716 [==============================] - 2s 3ms/sample - loss: 3.0216e-04 - val_loss: 0.0172\n",
      "Epoch 13/100\n",
      "716/716 [==============================] - 2s 3ms/sample - loss: 2.8745e-04 - val_loss: 0.0169-0\n",
      "Epoch 14/100\n",
      "716/716 [==============================] - 2s 3ms/sample - loss: 2.7311e-04 - val_loss: 0.0171\n",
      "Epoch 15/100\n",
      "716/716 [==============================] - 2s 3ms/sample - loss: 3.0417e-04 - val_loss: 0.0170\n",
      "Epoch 16/100\n",
      "716/716 [==============================] - 2s 3ms/sample - loss: 2.6925e-04 - val_loss: 0.0166\n",
      "Epoch 17/100\n",
      "716/716 [==============================] - 2s 3ms/sample - loss: 2.5034e-04 - val_loss: 0.0168\n",
      "Epoch 18/100\n",
      "716/716 [==============================] - 2s 3ms/sample - loss: 2.4091e-04 - val_loss: 0.0163\n",
      "Epoch 19/100\n",
      "716/716 [==============================] - 2s 3ms/sample - loss: 2.5839e-04 - val_loss: 0.0173\n",
      "Epoch 20/100\n",
      "716/716 [==============================] - 2s 3ms/sample - loss: 2.7990e-04 - val_loss: 0.0160\n",
      "Epoch 21/100\n",
      "716/716 [==============================] - 2s 3ms/sample - loss: 2.3743e-04 - val_loss: 0.0159\n",
      "Epoch 22/100\n",
      "716/716 [==============================] - 2s 3ms/sample - loss: 2.2948e-04 - val_loss: 0.0159\n",
      "Epoch 23/100\n",
      "716/716 [==============================] - 2s 3ms/sample - loss: 2.2326e-04 - val_loss: 0.0160\n",
      "Epoch 24/100\n",
      "716/716 [==============================] - 2s 3ms/sample - loss: 2.2472e-04 - val_loss: 0.0158\n",
      "Epoch 25/100\n",
      "716/716 [==============================] - 2s 3ms/sample - loss: 2.2191e-04 - val_loss: 0.0157\n",
      "Epoch 26/100\n",
      "716/716 [==============================] - 2s 3ms/sample - loss: 2.2120e-04 - val_loss: 0.0157\n",
      "Epoch 27/100\n",
      "716/716 [==============================] - 2s 3ms/sample - loss: 2.1766e-04 - val_loss: 0.0156\n",
      "Epoch 28/100\n",
      "716/716 [==============================] - 2s 3ms/sample - loss: 2.1457e-04 - val_loss: 0.0155\n",
      "Epoch 29/100\n",
      "716/716 [==============================] - 2s 3ms/sample - loss: 2.1457e-04 - val_loss: 0.0149\n",
      "Epoch 30/100\n",
      "716/716 [==============================] - 2s 3ms/sample - loss: 2.4394e-04 - val_loss: 0.0164\n",
      "Epoch 31/100\n",
      "716/716 [==============================] - 2s 3ms/sample - loss: 2.5390e-04 - val_loss: 0.0148\n",
      "Epoch 32/100\n",
      "716/716 [==============================] - 2s 3ms/sample - loss: 2.3468e-04 - val_loss: 0.0154\n",
      "Epoch 33/100\n",
      "716/716 [==============================] - 2s 3ms/sample - loss: 2.1888e-04 - val_loss: 0.0149\n",
      "Epoch 34/100\n",
      "716/716 [==============================] - 2s 3ms/sample - loss: 2.1775e-04 - val_loss: 0.0153\n",
      "Epoch 35/100\n",
      "716/716 [==============================] - 2s 3ms/sample - loss: 2.0876e-04 - val_loss: 0.0151\n",
      "Epoch 36/100\n",
      "716/716 [==============================] - 2s 3ms/sample - loss: 2.0238e-04 - val_loss: 0.0149\n",
      "Epoch 37/100\n",
      "716/716 [==============================] - 2s 3ms/sample - loss: 2.0568e-04 - val_loss: 0.0146\n",
      "Epoch 38/100\n",
      "716/716 [==============================] - 2s 3ms/sample - loss: 2.3371e-04 - val_loss: 0.0149\n",
      "Epoch 39/100\n",
      "716/716 [==============================] - 2s 3ms/sample - loss: 2.2258e-04 - val_loss: 0.0158\n",
      "Epoch 40/100\n",
      "716/716 [==============================] - 2s 3ms/sample - loss: 2.3293e-04 - val_loss: 0.0139\n",
      "Epoch 41/100\n",
      "716/716 [==============================] - 2s 3ms/sample - loss: 2.3109e-04 - val_loss: 0.0142\n",
      "Epoch 42/100\n",
      "716/716 [==============================] - 2s 3ms/sample - loss: 2.3470e-04 - val_loss: 0.0144\n",
      "Epoch 43/100\n",
      "716/716 [==============================] - 2s 3ms/sample - loss: 2.0440e-04 - val_loss: 0.0151\n",
      "Epoch 44/100\n",
      "716/716 [==============================] - 2s 3ms/sample - loss: 2.0912e-04 - val_loss: 0.0138\n",
      "Epoch 45/100\n",
      "716/716 [==============================] - 2s 3ms/sample - loss: 1.9194e-04 - val_loss: 0.0140\n",
      "Epoch 46/100\n",
      "716/716 [==============================] - 2s 3ms/sample - loss: 1.8279e-04 - val_loss: 0.0141\n",
      "Epoch 47/100\n",
      "716/716 [==============================] - 3s 4ms/sample - loss: 1.8200e-04 - val_loss: 0.0134\n",
      "Epoch 48/100\n",
      "716/716 [==============================] - 3s 4ms/sample - loss: 1.9031e-04 - val_loss: 0.0158\n",
      "Epoch 49/100\n",
      "716/716 [==============================] - 2s 3ms/sample - loss: 1.9838e-04 - val_loss: 0.0136\n",
      "Epoch 50/100\n",
      "716/716 [==============================] - 3s 4ms/sample - loss: 1.7350e-04 - val_loss: 0.0152\n",
      "Epoch 51/100\n",
      "716/716 [==============================] - 2s 3ms/sample - loss: 1.8090e-04 - val_loss: 0.0138\n",
      "Epoch 52/100\n",
      "716/716 [==============================] - 2s 3ms/sample - loss: 1.7233e-04 - val_loss: 0.0149\n",
      "Epoch 53/100\n",
      "716/716 [==============================] - 2s 3ms/sample - loss: 1.7195e-04 - val_loss: 0.0148\n",
      "Epoch 54/100\n",
      "716/716 [==============================] - 2s 3ms/sample - loss: 1.7094e-04 - val_loss: 0.0139\n",
      "Epoch 55/100\n",
      "716/716 [==============================] - 2s 3ms/sample - loss: 1.6673e-04 - val_loss: 0.0151\n",
      "Epoch 56/100\n",
      "716/716 [==============================] - 2s 3ms/sample - loss: 1.6201e-04 - val_loss: 0.0141\n",
      "Epoch 57/100\n",
      "716/716 [==============================] - 2s 3ms/sample - loss: 1.6049e-04 - val_loss: 0.0149\n",
      "Epoch 58/100\n",
      "716/716 [==============================] - 2s 3ms/sample - loss: 1.6118e-04 - val_loss: 0.0140\n",
      "Epoch 59/100\n",
      "716/716 [==============================] - 2s 3ms/sample - loss: 1.6111e-04 - val_loss: 0.0137\n",
      "Epoch 60/100\n",
      "716/716 [==============================] - 2s 3ms/sample - loss: 1.6140e-04 - val_loss: 0.0139\n",
      "Epoch 61/100\n",
      "716/716 [==============================] - 2s 3ms/sample - loss: 1.7684e-04 - val_loss: 0.0134\n",
      "Epoch 62/100\n",
      "716/716 [==============================] - 2s 3ms/sample - loss: 1.7128e-04 - val_loss: 0.0138\n",
      "Epoch 63/100\n",
      "716/716 [==============================] - 2s 3ms/sample - loss: 1.5220e-04 - val_loss: 0.0131\n",
      "Epoch 64/100\n",
      "716/716 [==============================] - 2s 3ms/sample - loss: 1.5443e-04 - val_loss: 0.0142\n",
      "Epoch 65/100\n",
      "716/716 [==============================] - 2s 3ms/sample - loss: 1.6146e-04 - val_loss: 0.0118\n",
      "Epoch 66/100\n",
      "716/716 [==============================] - 2s 3ms/sample - loss: 1.6401e-04 - val_loss: 0.0134\n",
      "Epoch 67/100\n",
      "716/716 [==============================] - 2s 3ms/sample - loss: 1.5356e-04 - val_loss: 0.0124\n",
      "Epoch 68/100\n",
      "716/716 [==============================] - 2s 3ms/sample - loss: 1.6255e-04 - val_loss: 0.0118\n",
      "Epoch 69/100\n",
      "716/716 [==============================] - 2s 3ms/sample - loss: 1.7631e-04 - val_loss: 0.0117\n",
      "Epoch 70/100\n",
      "716/716 [==============================] - 2s 3ms/sample - loss: 1.4630e-04 - val_loss: 0.0119\n",
      "Epoch 71/100\n",
      "716/716 [==============================] - 2s 3ms/sample - loss: 1.4877e-04 - val_loss: 0.0108\n",
      "Epoch 72/100\n",
      "716/716 [==============================] - 2s 3ms/sample - loss: 1.5284e-04 - val_loss: 0.0135\n",
      "Epoch 73/100\n",
      "716/716 [==============================] - 2s 3ms/sample - loss: 1.4438e-04 - val_loss: 0.0109\n",
      "Epoch 74/100\n",
      "716/716 [==============================] - 2s 3ms/sample - loss: 1.4371e-04 - val_loss: 0.0112\n",
      "Epoch 75/100\n",
      "716/716 [==============================] - 2s 3ms/sample - loss: 1.4463e-04 - val_loss: 0.0117\n",
      "Epoch 76/100\n"
     ]
    },
    {
     "name": "stdout",
     "output_type": "stream",
     "text": [
      "716/716 [==============================] - 2s 3ms/sample - loss: 1.4774e-04 - val_loss: 0.0106\n",
      "Epoch 77/100\n",
      "716/716 [==============================] - 2s 3ms/sample - loss: 1.3989e-04 - val_loss: 0.0134\n",
      "Epoch 78/100\n",
      "716/716 [==============================] - 2s 3ms/sample - loss: 1.5009e-04 - val_loss: 0.0103\n",
      "Epoch 79/100\n",
      "716/716 [==============================] - 2s 3ms/sample - loss: 1.4224e-04 - val_loss: 0.0136\n",
      "Epoch 80/100\n",
      "716/716 [==============================] - 2s 3ms/sample - loss: 1.5472e-04 - val_loss: 0.0090\n",
      "Epoch 81/100\n",
      "716/716 [==============================] - 2s 3ms/sample - loss: 1.3665e-04 - val_loss: 0.0107\n",
      "Epoch 82/100\n",
      "716/716 [==============================] - 2s 3ms/sample - loss: 1.9058e-04 - val_loss: 0.0080\n",
      "Epoch 83/100\n",
      "716/716 [==============================] - 2s 3ms/sample - loss: 1.4418e-04 - val_loss: 0.0105\n",
      "Epoch 84/100\n",
      "716/716 [==============================] - 2s 3ms/sample - loss: 1.3467e-04 - val_loss: 0.0120\n",
      "Epoch 85/100\n",
      "716/716 [==============================] - 2s 3ms/sample - loss: 1.3277e-04 - val_loss: 0.0091\n",
      "Epoch 86/100\n",
      "716/716 [==============================] - 2s 3ms/sample - loss: 1.3214e-04 - val_loss: 0.0104\n",
      "Epoch 87/100\n",
      "716/716 [==============================] - 2s 3ms/sample - loss: 1.3201e-04 - val_loss: 0.0087\n",
      "Epoch 88/100\n",
      "716/716 [==============================] - 2s 3ms/sample - loss: 1.4245e-04 - val_loss: 0.0101\n",
      "Epoch 89/100\n",
      "716/716 [==============================] - 2s 3ms/sample - loss: 1.2536e-04 - val_loss: 0.0092\n",
      "Epoch 90/100\n",
      "716/716 [==============================] - 2s 3ms/sample - loss: 1.2350e-04 - val_loss: 0.0098\n",
      "Epoch 91/100\n",
      "716/716 [==============================] - 2s 3ms/sample - loss: 1.2051e-04 - val_loss: 0.0091\n",
      "Epoch 92/100\n",
      "716/716 [==============================] - 2s 3ms/sample - loss: 1.2147e-04 - val_loss: 0.0095\n",
      "Epoch 93/100\n",
      "716/716 [==============================] - 2s 3ms/sample - loss: 1.1719e-04 - val_loss: 0.0094\n",
      "Epoch 94/100\n",
      "716/716 [==============================] - 2s 3ms/sample - loss: 1.4545e-04 - val_loss: 0.0092\n",
      "Epoch 95/100\n",
      "716/716 [==============================] - 2s 3ms/sample - loss: 1.4065e-04 - val_loss: 0.0077\n",
      "Epoch 96/100\n",
      "716/716 [==============================] - 3s 4ms/sample - loss: 1.3381e-04 - val_loss: 0.0088\n",
      "Epoch 97/100\n",
      "716/716 [==============================] - 3s 4ms/sample - loss: 1.2109e-04 - val_loss: 0.0083\n",
      "Epoch 98/100\n",
      "716/716 [==============================] - 3s 4ms/sample - loss: 1.3534e-04 - val_loss: 0.0078\n",
      "Epoch 99/100\n",
      "716/716 [==============================] - 2s 3ms/sample - loss: 1.1803e-04 - val_loss: 0.0082\n",
      "Epoch 100/100\n",
      "716/716 [==============================] - 2s 3ms/sample - loss: 1.3879e-04 - val_loss: 0.0070\n"
     ]
    },
    {
     "data": {
      "text/plain": [
       "<tensorflow.python.keras.callbacks.History at 0x1130673b508>"
      ]
     },
     "execution_count": 81,
     "metadata": {},
     "output_type": "execute_result"
    }
   ],
   "source": [
    "model.fit(X_train,y_train,validation_data=(X_test,ytest),epochs=100,batch_size=64,verbose=1)"
   ]
  },
  {
   "cell_type": "code",
   "execution_count": 82,
   "id": "5e9965c0",
   "metadata": {},
   "outputs": [],
   "source": [
    "import tensorflow as tf"
   ]
  },
  {
   "cell_type": "code",
   "execution_count": 83,
   "id": "a437ba33",
   "metadata": {},
   "outputs": [
    {
     "data": {
      "text/plain": [
       "'2.1.0'"
      ]
     },
     "execution_count": 83,
     "metadata": {},
     "output_type": "execute_result"
    }
   ],
   "source": [
    "tf.__version__"
   ]
  },
  {
   "cell_type": "code",
   "execution_count": 84,
   "id": "c06c0e9a",
   "metadata": {},
   "outputs": [],
   "source": [
    "### Lets Do the prediction and check performance metrics\n",
    "train_predict=model.predict(X_train)\n",
    "test_predict=model.predict(X_test)"
   ]
  },
  {
   "cell_type": "code",
   "execution_count": 85,
   "id": "2ce6bf83",
   "metadata": {},
   "outputs": [],
   "source": [
    "##Transformback to original form\n",
    "train_predict=scaler.inverse_transform(train_predict)\n",
    "test_predict=scaler.inverse_transform(test_predict)"
   ]
  },
  {
   "cell_type": "code",
   "execution_count": 86,
   "id": "8a1ca8ea",
   "metadata": {},
   "outputs": [
    {
     "data": {
      "text/plain": [
       "168.24660529965962"
      ]
     },
     "execution_count": 86,
     "metadata": {},
     "output_type": "execute_result"
    }
   ],
   "source": [
    "### Calculate RMSE performance metrics\n",
    "import math\n",
    "from sklearn.metrics import mean_squared_error\n",
    "math.sqrt(mean_squared_error(y_train,train_predict))"
   ]
  },
  {
   "cell_type": "code",
   "execution_count": 87,
   "id": "d34e05b1",
   "metadata": {},
   "outputs": [
    {
     "data": {
      "text/plain": [
       "244.30407204487"
      ]
     },
     "execution_count": 87,
     "metadata": {},
     "output_type": "execute_result"
    }
   ],
   "source": [
    "### Test Data RMSE\n",
    "math.sqrt(mean_squared_error(ytest,test_predict))"
   ]
  },
  {
   "cell_type": "code",
   "execution_count": 88,
   "id": "a74189c5",
   "metadata": {},
   "outputs": [
    {
     "data": {
      "image/png": "[encoded data removed]",
      "text/plain": [
       "<Figure size 432x288 with 1 Axes>"
      ]
     },
     "metadata": {
      "needs_background": "light"
     },
     "output_type": "display_data"
    }
   ],
   "source": [
    "### Plotting \n",
    "# shift train predictions for plotting\n",
    "look_back=100\n",
    "trainPredictPlot = numpy.empty_like(df1)\n",
    "trainPredictPlot[:, :] = np.nan\n",
    "trainPredictPlot[look_back:len(train_predict)+look_back, :] = train_predict\n",
    "# shift test predictions for plotting\n",
    "testPredictPlot = numpy.empty_like(df1)\n",
    "testPredictPlot[:, :] = numpy.nan\n",
    "testPredictPlot[len(train_predict)+(look_back*2)+1:len(df1)-1, :] = test_predict\n",
    "# plot baseline and predictions\n",
    "plt.plot(scaler.inverse_transform(df1))\n",
    "plt.plot(trainPredictPlot)\n",
    "plt.plot(testPredictPlot)\n",
    "plt.show()\n"
   ]
  },
  {
   "cell_type": "code",
   "execution_count": 89,
   "id": "c9fa14e6",
   "metadata": {},
   "outputs": [
    {
     "data": {
      "text/plain": [
       "441"
      ]
     },
     "execution_count": 89,
     "metadata": {},
     "output_type": "execute_result"
    }
   ],
   "source": [
    "len(test_data)"
   ]
  },
  {
   "cell_type": "code",
   "execution_count": 90,
   "id": "dcde0b89",
   "metadata": {},
   "outputs": [
    {
     "data": {
      "text/plain": [
       "(1, 100)"
      ]
     },
     "execution_count": 90,
     "metadata": {},
     "output_type": "execute_result"
    }
   ],
   "source": [
    "x_input=test_data[341:].reshape(1,-1)\n",
    "x_input.shape"
   ]
  },
  {
   "cell_type": "code",
   "execution_count": 91,
   "id": "665d2d0b",
   "metadata": {},
   "outputs": [],
   "source": [
    "temp_input=list(x_input)\n",
    "temp_input=temp_input[0].tolist()"
   ]
  },
  {
   "cell_type": "code",
   "execution_count": 92,
   "id": "3eb7407d",
   "metadata": {},
   "outputs": [
    {
     "data": {
      "text/plain": [
       "[0.10344161333172322,\n",
       " 0.10066417099384131,\n",
       " 0.09817654872599926,\n",
       " 0.09025480014491002,\n",
       " 0.09411906774544135,\n",
       " 0.08346818017147686,\n",
       " 0.09390170269291145,\n",
       " 0.09663084168578676,\n",
       " 0.08921627822726722,\n",
       " 0.08878154812220748,\n",
       " 0.09382924767540149,\n",
       " 0.08904721651974398,\n",
       " 0.08477237048665617,\n",
       " 0.08643883588938531,\n",
       " 0.0965825383407801,\n",
       " 0.10827194783238739,\n",
       " 0.11358531578311795,\n",
       " 0.12288370969689646,\n",
       " 0.12346334983697618,\n",
       " 0.1208066658616109,\n",
       " 0.10880328462746044,\n",
       " 0.09641347663325686,\n",
       " 0.10167854123898076,\n",
       " 0.10373143340176308,\n",
       " 0.10119550778891437,\n",
       " 0.10952783480256004,\n",
       " 0.10800627943485083,\n",
       " 0.10836855452240066,\n",
       " 0.10619490399710177,\n",
       " 0.10469750030189587,\n",
       " 0.10406955681680954,\n",
       " 0.10464919695688926,\n",
       " 0.0993841323511653,\n",
       " 0.09370848931288492,\n",
       " 0.09097935032000967,\n",
       " 0.0913657770800628,\n",
       " 0.08201907982127762,\n",
       " 0.0816809564062311,\n",
       " 0.08044922110856176,\n",
       " 0.06991909189711384,\n",
       " 0.07057118705470353,\n",
       " 0.0863422291993721,\n",
       " 0.0798937326409854,\n",
       " 0.07250332085496922,\n",
       " 0.06784204806182828,\n",
       " 0.07095761381475665,\n",
       " 0.0587368675280763,\n",
       " 0.07014853278589542,\n",
       " 0.06747977297427846,\n",
       " 0.07226180412993596,\n",
       " 0.07001569858712717,\n",
       " 0.0771645936481101,\n",
       " 0.08098055790363481,\n",
       " 0.07902427243086582,\n",
       " 0.06880811496196113,\n",
       " 0.06750392464678176,\n",
       " 0.07571549329791086,\n",
       " 0.0736626011351286,\n",
       " 0.06774544137181501,\n",
       " 0.06895302499698105,\n",
       " 0.0704504286921869,\n",
       " 0.07088515879724669,\n",
       " 0.06728655959425192,\n",
       " 0.07272068590749911,\n",
       " 0.07477357807028137,\n",
       " 0.08177756309624443,\n",
       " 0.08252626494384732,\n",
       " 0.0866078975969086,\n",
       " 0.09254920903272554,\n",
       " 0.09891317473735059,\n",
       " 0.09467455621301776,\n",
       " 0.10237893974157711,\n",
       " 0.0965825383407801,\n",
       " 0.10254800144910034,\n",
       " 0.10172684458398742,\n",
       " 0.10336915831421326,\n",
       " 0.09919091897113877,\n",
       " 0.10013283419876826,\n",
       " 0.0963651732882502,\n",
       " 0.10211327134404055,\n",
       " 0.1030793382441734,\n",
       " 0.10228233305156378,\n",
       " 0.10032604757879485,\n",
       " 0.1000845308537616,\n",
       " 0.09520589300809082,\n",
       " 0.09781427363844944,\n",
       " 0.08648713923439197,\n",
       " 0.08709093104697499,\n",
       " 0.09105180533751964,\n",
       " 0.09218693394517571,\n",
       " 0.08407197198405988,\n",
       " 0.08180171476874773,\n",
       " 0.07421808960270496,\n",
       " 0.07953145755343557,\n",
       " 0.08552107233425918,\n",
       " 0.08267117497886725,\n",
       " 0.07924163748339572,\n",
       " 0.07885521072334259,\n",
       " 0.08518294891921266,\n",
       " 0.08064243448858835]"
      ]
     },
     "execution_count": 92,
     "metadata": {},
     "output_type": "execute_result"
    }
   ],
   "source": [
    "temp_input"
   ]
  },
  {
   "cell_type": "code",
   "execution_count": 93,
   "id": "1676cc60",
   "metadata": {},
   "outputs": [
    {
     "name": "stdout",
     "output_type": "stream",
     "text": [
      "[0.0824467]\n",
      "101\n",
      "1 day input [0.10066417 0.09817655 0.0902548  0.09411907 0.08346818 0.0939017\n",
      " 0.09663084 0.08921628 0.08878155 0.09382925 0.08904722 0.08477237\n",
      " 0.08643884 0.09658254 0.10827195 0.11358532 0.12288371 0.12346335\n",
      " 0.12080667 0.10880328 0.09641348 0.10167854 0.10373143 0.10119551\n",
      " 0.10952783 0.10800628 0.10836855 0.1061949  0.1046975  0.10406956\n",
      " 0.1046492  0.09938413 0.09370849 0.09097935 0.09136578 0.08201908\n",
      " 0.08168096 0.08044922 0.06991909 0.07057119 0.08634223 0.07989373\n",
      " 0.07250332 0.06784205 0.07095761 0.05873687 0.07014853 0.06747977\n",
      " 0.0722618  0.0700157  0.07716459 0.08098056 0.07902427 0.06880811\n",
      " 0.06750392 0.07571549 0.0736626  0.06774544 0.06895302 0.07045043\n",
      " 0.07088516 0.06728656 0.07272069 0.07477358 0.08177756 0.08252626\n",
      " 0.0866079  0.09254921 0.09891317 0.09467456 0.10237894 0.09658254\n",
      " 0.102548   0.10172684 0.10336916 0.09919092 0.10013283 0.09636517\n",
      " 0.10211327 0.10307934 0.10228233 0.10032605 0.10008453 0.09520589\n",
      " 0.09781427 0.08648714 0.08709093 0.09105181 0.09218693 0.08407197\n",
      " 0.08180171 0.07421809 0.07953146 0.08552107 0.08267117 0.07924164\n",
      " 0.07885521 0.08518295 0.08064243 0.0824467 ]\n",
      "1 day output [[0.08283026]]\n",
      "2 day input [0.09817655 0.0902548  0.09411907 0.08346818 0.0939017  0.09663084\n",
      " 0.08921628 0.08878155 0.09382925 0.08904722 0.08477237 0.08643884\n",
      " 0.09658254 0.10827195 0.11358532 0.12288371 0.12346335 0.12080667\n",
      " 0.10880328 0.09641348 0.10167854 0.10373143 0.10119551 0.10952783\n",
      " 0.10800628 0.10836855 0.1061949  0.1046975  0.10406956 0.1046492\n",
      " 0.09938413 0.09370849 0.09097935 0.09136578 0.08201908 0.08168096\n",
      " 0.08044922 0.06991909 0.07057119 0.08634223 0.07989373 0.07250332\n",
      " 0.06784205 0.07095761 0.05873687 0.07014853 0.06747977 0.0722618\n",
      " 0.0700157  0.07716459 0.08098056 0.07902427 0.06880811 0.06750392\n",
      " 0.07571549 0.0736626  0.06774544 0.06895302 0.07045043 0.07088516\n",
      " 0.06728656 0.07272069 0.07477358 0.08177756 0.08252626 0.0866079\n",
      " 0.09254921 0.09891317 0.09467456 0.10237894 0.09658254 0.102548\n",
      " 0.10172684 0.10336916 0.09919092 0.10013283 0.09636517 0.10211327\n",
      " 0.10307934 0.10228233 0.10032605 0.10008453 0.09520589 0.09781427\n",
      " 0.08648714 0.08709093 0.09105181 0.09218693 0.08407197 0.08180171\n",
      " 0.07421809 0.07953146 0.08552107 0.08267117 0.07924164 0.07885521\n",
      " 0.08518295 0.08064243 0.0824467  0.08283026]\n",
      "2 day output [[0.08321746]]\n",
      "3 day input [0.0902548  0.09411907 0.08346818 0.0939017  0.09663084 0.08921628\n",
      " 0.08878155 0.09382925 0.08904722 0.08477237 0.08643884 0.09658254\n",
      " 0.10827195 0.11358532 0.12288371 0.12346335 0.12080667 0.10880328\n",
      " 0.09641348 0.10167854 0.10373143 0.10119551 0.10952783 0.10800628\n",
      " 0.10836855 0.1061949  0.1046975  0.10406956 0.1046492  0.09938413\n",
      " 0.09370849 0.09097935 0.09136578 0.08201908 0.08168096 0.08044922\n",
      " 0.06991909 0.07057119 0.08634223 0.07989373 0.07250332 0.06784205\n",
      " 0.07095761 0.05873687 0.07014853 0.06747977 0.0722618  0.0700157\n",
      " 0.07716459 0.08098056 0.07902427 0.06880811 0.06750392 0.07571549\n",
      " 0.0736626  0.06774544 0.06895302 0.07045043 0.07088516 0.06728656\n",
      " 0.07272069 0.07477358 0.08177756 0.08252626 0.0866079  0.09254921\n",
      " 0.09891317 0.09467456 0.10237894 0.09658254 0.102548   0.10172684\n",
      " 0.10336916 0.09919092 0.10013283 0.09636517 0.10211327 0.10307934\n",
      " 0.10228233 0.10032605 0.10008453 0.09520589 0.09781427 0.08648714\n",
      " 0.08709093 0.09105181 0.09218693 0.08407197 0.08180171 0.07421809\n",
      " 0.07953146 0.08552107 0.08267117 0.07924164 0.07885521 0.08518295\n",
      " 0.08064243 0.0824467  0.08283026 0.08321746]\n",
      "3 day output [[0.08357661]]\n",
      "4 day input [0.09411907 0.08346818 0.0939017  0.09663084 0.08921628 0.08878155\n",
      " 0.09382925 0.08904722 0.08477237 0.08643884 0.09658254 0.10827195\n",
      " 0.11358532 0.12288371 0.12346335 0.12080667 0.10880328 0.09641348\n",
      " 0.10167854 0.10373143 0.10119551 0.10952783 0.10800628 0.10836855\n",
      " 0.1061949  0.1046975  0.10406956 0.1046492  0.09938413 0.09370849\n",
      " 0.09097935 0.09136578 0.08201908 0.08168096 0.08044922 0.06991909\n",
      " 0.07057119 0.08634223 0.07989373 0.07250332 0.06784205 0.07095761\n",
      " 0.05873687 0.07014853 0.06747977 0.0722618  0.0700157  0.07716459\n",
      " 0.08098056 0.07902427 0.06880811 0.06750392 0.07571549 0.0736626\n",
      " 0.06774544 0.06895302 0.07045043 0.07088516 0.06728656 0.07272069\n",
      " 0.07477358 0.08177756 0.08252626 0.0866079  0.09254921 0.09891317\n",
      " 0.09467456 0.10237894 0.09658254 0.102548   0.10172684 0.10336916\n",
      " 0.09919092 0.10013283 0.09636517 0.10211327 0.10307934 0.10228233\n",
      " 0.10032605 0.10008453 0.09520589 0.09781427 0.08648714 0.08709093\n",
      " 0.09105181 0.09218693 0.08407197 0.08180171 0.07421809 0.07953146\n",
      " 0.08552107 0.08267117 0.07924164 0.07885521 0.08518295 0.08064243\n",
      " 0.0824467  0.08283026 0.08321746 0.08357661]\n",
      "4 day output [[0.08388834]]\n",
      "5 day input [0.08346818 0.0939017  0.09663084 0.08921628 0.08878155 0.09382925\n",
      " 0.08904722 0.08477237 0.08643884 0.09658254 0.10827195 0.11358532\n",
      " 0.12288371 0.12346335 0.12080667 0.10880328 0.09641348 0.10167854\n",
      " 0.10373143 0.10119551 0.10952783 0.10800628 0.10836855 0.1061949\n",
      " 0.1046975  0.10406956 0.1046492  0.09938413 0.09370849 0.09097935\n",
      " 0.09136578 0.08201908 0.08168096 0.08044922 0.06991909 0.07057119\n",
      " 0.08634223 0.07989373 0.07250332 0.06784205 0.07095761 0.05873687\n",
      " 0.07014853 0.06747977 0.0722618  0.0700157  0.07716459 0.08098056\n",
      " 0.07902427 0.06880811 0.06750392 0.07571549 0.0736626  0.06774544\n",
      " 0.06895302 0.07045043 0.07088516 0.06728656 0.07272069 0.07477358\n",
      " 0.08177756 0.08252626 0.0866079  0.09254921 0.09891317 0.09467456\n",
      " 0.10237894 0.09658254 0.102548   0.10172684 0.10336916 0.09919092\n",
      " 0.10013283 0.09636517 0.10211327 0.10307934 0.10228233 0.10032605\n",
      " 0.10008453 0.09520589 0.09781427 0.08648714 0.08709093 0.09105181\n",
      " 0.09218693 0.08407197 0.08180171 0.07421809 0.07953146 0.08552107\n",
      " 0.08267117 0.07924164 0.07885521 0.08518295 0.08064243 0.0824467\n",
      " 0.08283026 0.08321746 0.08357661 0.08388834]\n",
      "5 day output [[0.08414257]]\n",
      "6 day input [0.0939017  0.09663084 0.08921628 0.08878155 0.09382925 0.08904722\n",
      " 0.08477237 0.08643884 0.09658254 0.10827195 0.11358532 0.12288371\n",
      " 0.12346335 0.12080667 0.10880328 0.09641348 0.10167854 0.10373143\n",
      " 0.10119551 0.10952783 0.10800628 0.10836855 0.1061949  0.1046975\n",
      " 0.10406956 0.1046492  0.09938413 0.09370849 0.09097935 0.09136578\n",
      " 0.08201908 0.08168096 0.08044922 0.06991909 0.07057119 0.08634223\n",
      " 0.07989373 0.07250332 0.06784205 0.07095761 0.05873687 0.07014853\n",
      " 0.06747977 0.0722618  0.0700157  0.07716459 0.08098056 0.07902427\n",
      " 0.06880811 0.06750392 0.07571549 0.0736626  0.06774544 0.06895302\n",
      " 0.07045043 0.07088516 0.06728656 0.07272069 0.07477358 0.08177756\n",
      " 0.08252626 0.0866079  0.09254921 0.09891317 0.09467456 0.10237894\n",
      " 0.09658254 0.102548   0.10172684 0.10336916 0.09919092 0.10013283\n",
      " 0.09636517 0.10211327 0.10307934 0.10228233 0.10032605 0.10008453\n",
      " 0.09520589 0.09781427 0.08648714 0.08709093 0.09105181 0.09218693\n",
      " 0.08407197 0.08180171 0.07421809 0.07953146 0.08552107 0.08267117\n",
      " 0.07924164 0.07885521 0.08518295 0.08064243 0.0824467  0.08283026\n",
      " 0.08321746 0.08357661 0.08388834 0.08414257]\n",
      "6 day output [[0.08433582]]\n",
      "7 day input [0.09663084 0.08921628 0.08878155 0.09382925 0.08904722 0.08477237\n",
      " 0.08643884 0.09658254 0.10827195 0.11358532 0.12288371 0.12346335\n",
      " 0.12080667 0.10880328 0.09641348 0.10167854 0.10373143 0.10119551\n",
      " 0.10952783 0.10800628 0.10836855 0.1061949  0.1046975  0.10406956\n",
      " 0.1046492  0.09938413 0.09370849 0.09097935 0.09136578 0.08201908\n",
      " 0.08168096 0.08044922 0.06991909 0.07057119 0.08634223 0.07989373\n",
      " 0.07250332 0.06784205 0.07095761 0.05873687 0.07014853 0.06747977\n",
      " 0.0722618  0.0700157  0.07716459 0.08098056 0.07902427 0.06880811\n",
      " 0.06750392 0.07571549 0.0736626  0.06774544 0.06895302 0.07045043\n",
      " 0.07088516 0.06728656 0.07272069 0.07477358 0.08177756 0.08252626\n",
      " 0.0866079  0.09254921 0.09891317 0.09467456 0.10237894 0.09658254\n",
      " 0.102548   0.10172684 0.10336916 0.09919092 0.10013283 0.09636517\n",
      " 0.10211327 0.10307934 0.10228233 0.10032605 0.10008453 0.09520589\n",
      " 0.09781427 0.08648714 0.08709093 0.09105181 0.09218693 0.08407197\n",
      " 0.08180171 0.07421809 0.07953146 0.08552107 0.08267117 0.07924164\n",
      " 0.07885521 0.08518295 0.08064243 0.0824467  0.08283026 0.08321746\n",
      " 0.08357661 0.08388834 0.08414257 0.08433582]\n",
      "7 day output [[0.08446907]]\n",
      "8 day input [0.08921628 0.08878155 0.09382925 0.08904722 0.08477237 0.08643884\n",
      " 0.09658254 0.10827195 0.11358532 0.12288371 0.12346335 0.12080667\n",
      " 0.10880328 0.09641348 0.10167854 0.10373143 0.10119551 0.10952783\n",
      " 0.10800628 0.10836855 0.1061949  0.1046975  0.10406956 0.1046492\n",
      " 0.09938413 0.09370849 0.09097935 0.09136578 0.08201908 0.08168096\n",
      " 0.08044922 0.06991909 0.07057119 0.08634223 0.07989373 0.07250332\n",
      " 0.06784205 0.07095761 0.05873687 0.07014853 0.06747977 0.0722618\n",
      " 0.0700157  0.07716459 0.08098056 0.07902427 0.06880811 0.06750392\n",
      " 0.07571549 0.0736626  0.06774544 0.06895302 0.07045043 0.07088516\n",
      " 0.06728656 0.07272069 0.07477358 0.08177756 0.08252626 0.0866079\n",
      " 0.09254921 0.09891317 0.09467456 0.10237894 0.09658254 0.102548\n",
      " 0.10172684 0.10336916 0.09919092 0.10013283 0.09636517 0.10211327\n",
      " 0.10307934 0.10228233 0.10032605 0.10008453 0.09520589 0.09781427\n",
      " 0.08648714 0.08709093 0.09105181 0.09218693 0.08407197 0.08180171\n",
      " 0.07421809 0.07953146 0.08552107 0.08267117 0.07924164 0.07885521\n",
      " 0.08518295 0.08064243 0.0824467  0.08283026 0.08321746 0.08357661\n",
      " 0.08388834 0.08414257 0.08433582 0.08446907]\n"
     ]
    },
    {
     "name": "stdout",
     "output_type": "stream",
     "text": [
      "8 day output [[0.08454603]]\n",
      "9 day input [0.08878155 0.09382925 0.08904722 0.08477237 0.08643884 0.09658254\n",
      " 0.10827195 0.11358532 0.12288371 0.12346335 0.12080667 0.10880328\n",
      " 0.09641348 0.10167854 0.10373143 0.10119551 0.10952783 0.10800628\n",
      " 0.10836855 0.1061949  0.1046975  0.10406956 0.1046492  0.09938413\n",
      " 0.09370849 0.09097935 0.09136578 0.08201908 0.08168096 0.08044922\n",
      " 0.06991909 0.07057119 0.08634223 0.07989373 0.07250332 0.06784205\n",
      " 0.07095761 0.05873687 0.07014853 0.06747977 0.0722618  0.0700157\n",
      " 0.07716459 0.08098056 0.07902427 0.06880811 0.06750392 0.07571549\n",
      " 0.0736626  0.06774544 0.06895302 0.07045043 0.07088516 0.06728656\n",
      " 0.07272069 0.07477358 0.08177756 0.08252626 0.0866079  0.09254921\n",
      " 0.09891317 0.09467456 0.10237894 0.09658254 0.102548   0.10172684\n",
      " 0.10336916 0.09919092 0.10013283 0.09636517 0.10211327 0.10307934\n",
      " 0.10228233 0.10032605 0.10008453 0.09520589 0.09781427 0.08648714\n",
      " 0.08709093 0.09105181 0.09218693 0.08407197 0.08180171 0.07421809\n",
      " 0.07953146 0.08552107 0.08267117 0.07924164 0.07885521 0.08518295\n",
      " 0.08064243 0.0824467  0.08283026 0.08321746 0.08357661 0.08388834\n",
      " 0.08414257 0.08433582 0.08446907 0.08454603]\n",
      "9 day output [[0.08457239]]\n",
      "10 day input [0.09382925 0.08904722 0.08477237 0.08643884 0.09658254 0.10827195\n",
      " 0.11358532 0.12288371 0.12346335 0.12080667 0.10880328 0.09641348\n",
      " 0.10167854 0.10373143 0.10119551 0.10952783 0.10800628 0.10836855\n",
      " 0.1061949  0.1046975  0.10406956 0.1046492  0.09938413 0.09370849\n",
      " 0.09097935 0.09136578 0.08201908 0.08168096 0.08044922 0.06991909\n",
      " 0.07057119 0.08634223 0.07989373 0.07250332 0.06784205 0.07095761\n",
      " 0.05873687 0.07014853 0.06747977 0.0722618  0.0700157  0.07716459\n",
      " 0.08098056 0.07902427 0.06880811 0.06750392 0.07571549 0.0736626\n",
      " 0.06774544 0.06895302 0.07045043 0.07088516 0.06728656 0.07272069\n",
      " 0.07477358 0.08177756 0.08252626 0.0866079  0.09254921 0.09891317\n",
      " 0.09467456 0.10237894 0.09658254 0.102548   0.10172684 0.10336916\n",
      " 0.09919092 0.10013283 0.09636517 0.10211327 0.10307934 0.10228233\n",
      " 0.10032605 0.10008453 0.09520589 0.09781427 0.08648714 0.08709093\n",
      " 0.09105181 0.09218693 0.08407197 0.08180171 0.07421809 0.07953146\n",
      " 0.08552107 0.08267117 0.07924164 0.07885521 0.08518295 0.08064243\n",
      " 0.0824467  0.08283026 0.08321746 0.08357661 0.08388834 0.08414257\n",
      " 0.08433582 0.08446907 0.08454603 0.08457239]\n",
      "10 day output [[0.0845547]]\n",
      "11 day input [0.08904722 0.08477237 0.08643884 0.09658254 0.10827195 0.11358532\n",
      " 0.12288371 0.12346335 0.12080667 0.10880328 0.09641348 0.10167854\n",
      " 0.10373143 0.10119551 0.10952783 0.10800628 0.10836855 0.1061949\n",
      " 0.1046975  0.10406956 0.1046492  0.09938413 0.09370849 0.09097935\n",
      " 0.09136578 0.08201908 0.08168096 0.08044922 0.06991909 0.07057119\n",
      " 0.08634223 0.07989373 0.07250332 0.06784205 0.07095761 0.05873687\n",
      " 0.07014853 0.06747977 0.0722618  0.0700157  0.07716459 0.08098056\n",
      " 0.07902427 0.06880811 0.06750392 0.07571549 0.0736626  0.06774544\n",
      " 0.06895302 0.07045043 0.07088516 0.06728656 0.07272069 0.07477358\n",
      " 0.08177756 0.08252626 0.0866079  0.09254921 0.09891317 0.09467456\n",
      " 0.10237894 0.09658254 0.102548   0.10172684 0.10336916 0.09919092\n",
      " 0.10013283 0.09636517 0.10211327 0.10307934 0.10228233 0.10032605\n",
      " 0.10008453 0.09520589 0.09781427 0.08648714 0.08709093 0.09105181\n",
      " 0.09218693 0.08407197 0.08180171 0.07421809 0.07953146 0.08552107\n",
      " 0.08267117 0.07924164 0.07885521 0.08518295 0.08064243 0.0824467\n",
      " 0.08283026 0.08321746 0.08357661 0.08388834 0.08414257 0.08433582\n",
      " 0.08446907 0.08454603 0.08457239 0.0845547 ]\n",
      "11 day output [[0.08450024]]\n",
      "12 day input [0.08477237 0.08643884 0.09658254 0.10827195 0.11358532 0.12288371\n",
      " 0.12346335 0.12080667 0.10880328 0.09641348 0.10167854 0.10373143\n",
      " 0.10119551 0.10952783 0.10800628 0.10836855 0.1061949  0.1046975\n",
      " 0.10406956 0.1046492  0.09938413 0.09370849 0.09097935 0.09136578\n",
      " 0.08201908 0.08168096 0.08044922 0.06991909 0.07057119 0.08634223\n",
      " 0.07989373 0.07250332 0.06784205 0.07095761 0.05873687 0.07014853\n",
      " 0.06747977 0.0722618  0.0700157  0.07716459 0.08098056 0.07902427\n",
      " 0.06880811 0.06750392 0.07571549 0.0736626  0.06774544 0.06895302\n",
      " 0.07045043 0.07088516 0.06728656 0.07272069 0.07477358 0.08177756\n",
      " 0.08252626 0.0866079  0.09254921 0.09891317 0.09467456 0.10237894\n",
      " 0.09658254 0.102548   0.10172684 0.10336916 0.09919092 0.10013283\n",
      " 0.09636517 0.10211327 0.10307934 0.10228233 0.10032605 0.10008453\n",
      " 0.09520589 0.09781427 0.08648714 0.08709093 0.09105181 0.09218693\n",
      " 0.08407197 0.08180171 0.07421809 0.07953146 0.08552107 0.08267117\n",
      " 0.07924164 0.07885521 0.08518295 0.08064243 0.0824467  0.08283026\n",
      " 0.08321746 0.08357661 0.08388834 0.08414257 0.08433582 0.08446907\n",
      " 0.08454603 0.08457239 0.0845547  0.08450024]\n",
      "12 day output [[0.08441635]]\n",
      "13 day input [0.08643884 0.09658254 0.10827195 0.11358532 0.12288371 0.12346335\n",
      " 0.12080667 0.10880328 0.09641348 0.10167854 0.10373143 0.10119551\n",
      " 0.10952783 0.10800628 0.10836855 0.1061949  0.1046975  0.10406956\n",
      " 0.1046492  0.09938413 0.09370849 0.09097935 0.09136578 0.08201908\n",
      " 0.08168096 0.08044922 0.06991909 0.07057119 0.08634223 0.07989373\n",
      " 0.07250332 0.06784205 0.07095761 0.05873687 0.07014853 0.06747977\n",
      " 0.0722618  0.0700157  0.07716459 0.08098056 0.07902427 0.06880811\n",
      " 0.06750392 0.07571549 0.0736626  0.06774544 0.06895302 0.07045043\n",
      " 0.07088516 0.06728656 0.07272069 0.07477358 0.08177756 0.08252626\n",
      " 0.0866079  0.09254921 0.09891317 0.09467456 0.10237894 0.09658254\n",
      " 0.102548   0.10172684 0.10336916 0.09919092 0.10013283 0.09636517\n",
      " 0.10211327 0.10307934 0.10228233 0.10032605 0.10008453 0.09520589\n",
      " 0.09781427 0.08648714 0.08709093 0.09105181 0.09218693 0.08407197\n",
      " 0.08180171 0.07421809 0.07953146 0.08552107 0.08267117 0.07924164\n",
      " 0.07885521 0.08518295 0.08064243 0.0824467  0.08283026 0.08321746\n",
      " 0.08357661 0.08388834 0.08414257 0.08433582 0.08446907 0.08454603\n",
      " 0.08457239 0.0845547  0.08450024 0.08441635]\n",
      "13 day output [[0.0843102]]\n",
      "14 day input [0.09658254 0.10827195 0.11358532 0.12288371 0.12346335 0.12080667\n",
      " 0.10880328 0.09641348 0.10167854 0.10373143 0.10119551 0.10952783\n",
      " 0.10800628 0.10836855 0.1061949  0.1046975  0.10406956 0.1046492\n",
      " 0.09938413 0.09370849 0.09097935 0.09136578 0.08201908 0.08168096\n",
      " 0.08044922 0.06991909 0.07057119 0.08634223 0.07989373 0.07250332\n",
      " 0.06784205 0.07095761 0.05873687 0.07014853 0.06747977 0.0722618\n",
      " 0.0700157  0.07716459 0.08098056 0.07902427 0.06880811 0.06750392\n",
      " 0.07571549 0.0736626  0.06774544 0.06895302 0.07045043 0.07088516\n",
      " 0.06728656 0.07272069 0.07477358 0.08177756 0.08252626 0.0866079\n",
      " 0.09254921 0.09891317 0.09467456 0.10237894 0.09658254 0.102548\n",
      " 0.10172684 0.10336916 0.09919092 0.10013283 0.09636517 0.10211327\n",
      " 0.10307934 0.10228233 0.10032605 0.10008453 0.09520589 0.09781427\n",
      " 0.08648714 0.08709093 0.09105181 0.09218693 0.08407197 0.08180171\n",
      " 0.07421809 0.07953146 0.08552107 0.08267117 0.07924164 0.07885521\n",
      " 0.08518295 0.08064243 0.0824467  0.08283026 0.08321746 0.08357661\n",
      " 0.08388834 0.08414257 0.08433582 0.08446907 0.08454603 0.08457239\n",
      " 0.0845547  0.08450024 0.08441635 0.0843102 ]\n",
      "14 day output [[0.08418838]]\n",
      "15 day input [0.10827195 0.11358532 0.12288371 0.12346335 0.12080667 0.10880328\n",
      " 0.09641348 0.10167854 0.10373143 0.10119551 0.10952783 0.10800628\n",
      " 0.10836855 0.1061949  0.1046975  0.10406956 0.1046492  0.09938413\n",
      " 0.09370849 0.09097935 0.09136578 0.08201908 0.08168096 0.08044922\n",
      " 0.06991909 0.07057119 0.08634223 0.07989373 0.07250332 0.06784205\n",
      " 0.07095761 0.05873687 0.07014853 0.06747977 0.0722618  0.0700157\n",
      " 0.07716459 0.08098056 0.07902427 0.06880811 0.06750392 0.07571549\n",
      " 0.0736626  0.06774544 0.06895302 0.07045043 0.07088516 0.06728656\n",
      " 0.07272069 0.07477358 0.08177756 0.08252626 0.0866079  0.09254921\n",
      " 0.09891317 0.09467456 0.10237894 0.09658254 0.102548   0.10172684\n",
      " 0.10336916 0.09919092 0.10013283 0.09636517 0.10211327 0.10307934\n",
      " 0.10228233 0.10032605 0.10008453 0.09520589 0.09781427 0.08648714\n",
      " 0.08709093 0.09105181 0.09218693 0.08407197 0.08180171 0.07421809\n",
      " 0.07953146 0.08552107 0.08267117 0.07924164 0.07885521 0.08518295\n",
      " 0.08064243 0.0824467  0.08283026 0.08321746 0.08357661 0.08388834\n",
      " 0.08414257 0.08433582 0.08446907 0.08454603 0.08457239 0.0845547\n",
      " 0.08450024 0.08441635 0.0843102  0.08418838]\n",
      "15 day output [[0.08405697]]\n",
      "16 day input [0.11358532 0.12288371 0.12346335 0.12080667 0.10880328 0.09641348\n",
      " 0.10167854 0.10373143 0.10119551 0.10952783 0.10800628 0.10836855\n",
      " 0.1061949  0.1046975  0.10406956 0.1046492  0.09938413 0.09370849\n",
      " 0.09097935 0.09136578 0.08201908 0.08168096 0.08044922 0.06991909\n",
      " 0.07057119 0.08634223 0.07989373 0.07250332 0.06784205 0.07095761\n",
      " 0.05873687 0.07014853 0.06747977 0.0722618  0.0700157  0.07716459\n",
      " 0.08098056 0.07902427 0.06880811 0.06750392 0.07571549 0.0736626\n",
      " 0.06774544 0.06895302 0.07045043 0.07088516 0.06728656 0.07272069\n",
      " 0.07477358 0.08177756 0.08252626 0.0866079  0.09254921 0.09891317\n",
      " 0.09467456 0.10237894 0.09658254 0.102548   0.10172684 0.10336916\n",
      " 0.09919092 0.10013283 0.09636517 0.10211327 0.10307934 0.10228233\n",
      " 0.10032605 0.10008453 0.09520589 0.09781427 0.08648714 0.08709093\n",
      " 0.09105181 0.09218693 0.08407197 0.08180171 0.07421809 0.07953146\n",
      " 0.08552107 0.08267117 0.07924164 0.07885521 0.08518295 0.08064243\n",
      " 0.0824467  0.08283026 0.08321746 0.08357661 0.08388834 0.08414257\n",
      " 0.08433582 0.08446907 0.08454603 0.08457239 0.0845547  0.08450024\n",
      " 0.08441635 0.0843102  0.08418838 0.08405697]\n",
      "16 day output [[0.0839211]]\n",
      "17 day input [0.12288371 0.12346335 0.12080667 0.10880328 0.09641348 0.10167854\n",
      " 0.10373143 0.10119551 0.10952783 0.10800628 0.10836855 0.1061949\n",
      " 0.1046975  0.10406956 0.1046492  0.09938413 0.09370849 0.09097935\n",
      " 0.09136578 0.08201908 0.08168096 0.08044922 0.06991909 0.07057119\n",
      " 0.08634223 0.07989373 0.07250332 0.06784205 0.07095761 0.05873687\n",
      " 0.07014853 0.06747977 0.0722618  0.0700157  0.07716459 0.08098056\n",
      " 0.07902427 0.06880811 0.06750392 0.07571549 0.0736626  0.06774544\n",
      " 0.06895302 0.07045043 0.07088516 0.06728656 0.07272069 0.07477358\n",
      " 0.08177756 0.08252626 0.0866079  0.09254921 0.09891317 0.09467456\n",
      " 0.10237894 0.09658254 0.102548   0.10172684 0.10336916 0.09919092\n",
      " 0.10013283 0.09636517 0.10211327 0.10307934 0.10228233 0.10032605\n",
      " 0.10008453 0.09520589 0.09781427 0.08648714 0.08709093 0.09105181\n",
      " 0.09218693 0.08407197 0.08180171 0.07421809 0.07953146 0.08552107\n",
      " 0.08267117 0.07924164 0.07885521 0.08518295 0.08064243 0.0824467\n",
      " 0.08283026 0.08321746 0.08357661 0.08388834 0.08414257 0.08433582\n",
      " 0.08446907 0.08454603 0.08457239 0.0845547  0.08450024 0.08441635\n",
      " 0.0843102  0.08418838 0.08405697 0.0839211 ]\n",
      "17 day output [[0.08378512]]\n",
      "18 day input [0.12346335 0.12080667 0.10880328 0.09641348 0.10167854 0.10373143\n",
      " 0.10119551 0.10952783 0.10800628 0.10836855 0.1061949  0.1046975\n",
      " 0.10406956 0.1046492  0.09938413 0.09370849 0.09097935 0.09136578\n",
      " 0.08201908 0.08168096 0.08044922 0.06991909 0.07057119 0.08634223\n",
      " 0.07989373 0.07250332 0.06784205 0.07095761 0.05873687 0.07014853\n",
      " 0.06747977 0.0722618  0.0700157  0.07716459 0.08098056 0.07902427\n",
      " 0.06880811 0.06750392 0.07571549 0.0736626  0.06774544 0.06895302\n",
      " 0.07045043 0.07088516 0.06728656 0.07272069 0.07477358 0.08177756\n",
      " 0.08252626 0.0866079  0.09254921 0.09891317 0.09467456 0.10237894\n",
      " 0.09658254 0.102548   0.10172684 0.10336916 0.09919092 0.10013283\n",
      " 0.09636517 0.10211327 0.10307934 0.10228233 0.10032605 0.10008453\n",
      " 0.09520589 0.09781427 0.08648714 0.08709093 0.09105181 0.09218693\n",
      " 0.08407197 0.08180171 0.07421809 0.07953146 0.08552107 0.08267117\n",
      " 0.07924164 0.07885521 0.08518295 0.08064243 0.0824467  0.08283026\n",
      " 0.08321746 0.08357661 0.08388834 0.08414257 0.08433582 0.08446907\n",
      " 0.08454603 0.08457239 0.0845547  0.08450024 0.08441635 0.0843102\n",
      " 0.08418838 0.08405697 0.0839211  0.08378512]\n"
     ]
    },
    {
     "name": "stdout",
     "output_type": "stream",
     "text": [
      "18 day output [[0.08365244]]\n",
      "19 day input [0.12080667 0.10880328 0.09641348 0.10167854 0.10373143 0.10119551\n",
      " 0.10952783 0.10800628 0.10836855 0.1061949  0.1046975  0.10406956\n",
      " 0.1046492  0.09938413 0.09370849 0.09097935 0.09136578 0.08201908\n",
      " 0.08168096 0.08044922 0.06991909 0.07057119 0.08634223 0.07989373\n",
      " 0.07250332 0.06784205 0.07095761 0.05873687 0.07014853 0.06747977\n",
      " 0.0722618  0.0700157  0.07716459 0.08098056 0.07902427 0.06880811\n",
      " 0.06750392 0.07571549 0.0736626  0.06774544 0.06895302 0.07045043\n",
      " 0.07088516 0.06728656 0.07272069 0.07477358 0.08177756 0.08252626\n",
      " 0.0866079  0.09254921 0.09891317 0.09467456 0.10237894 0.09658254\n",
      " 0.102548   0.10172684 0.10336916 0.09919092 0.10013283 0.09636517\n",
      " 0.10211327 0.10307934 0.10228233 0.10032605 0.10008453 0.09520589\n",
      " 0.09781427 0.08648714 0.08709093 0.09105181 0.09218693 0.08407197\n",
      " 0.08180171 0.07421809 0.07953146 0.08552107 0.08267117 0.07924164\n",
      " 0.07885521 0.08518295 0.08064243 0.0824467  0.08283026 0.08321746\n",
      " 0.08357661 0.08388834 0.08414257 0.08433582 0.08446907 0.08454603\n",
      " 0.08457239 0.0845547  0.08450024 0.08441635 0.0843102  0.08418838\n",
      " 0.08405697 0.0839211  0.08378512 0.08365244]\n",
      "19 day output [[0.08352564]]\n",
      "20 day input [0.10880328 0.09641348 0.10167854 0.10373143 0.10119551 0.10952783\n",
      " 0.10800628 0.10836855 0.1061949  0.1046975  0.10406956 0.1046492\n",
      " 0.09938413 0.09370849 0.09097935 0.09136578 0.08201908 0.08168096\n",
      " 0.08044922 0.06991909 0.07057119 0.08634223 0.07989373 0.07250332\n",
      " 0.06784205 0.07095761 0.05873687 0.07014853 0.06747977 0.0722618\n",
      " 0.0700157  0.07716459 0.08098056 0.07902427 0.06880811 0.06750392\n",
      " 0.07571549 0.0736626  0.06774544 0.06895302 0.07045043 0.07088516\n",
      " 0.06728656 0.07272069 0.07477358 0.08177756 0.08252626 0.0866079\n",
      " 0.09254921 0.09891317 0.09467456 0.10237894 0.09658254 0.102548\n",
      " 0.10172684 0.10336916 0.09919092 0.10013283 0.09636517 0.10211327\n",
      " 0.10307934 0.10228233 0.10032605 0.10008453 0.09520589 0.09781427\n",
      " 0.08648714 0.08709093 0.09105181 0.09218693 0.08407197 0.08180171\n",
      " 0.07421809 0.07953146 0.08552107 0.08267117 0.07924164 0.07885521\n",
      " 0.08518295 0.08064243 0.0824467  0.08283026 0.08321746 0.08357661\n",
      " 0.08388834 0.08414257 0.08433582 0.08446907 0.08454603 0.08457239\n",
      " 0.0845547  0.08450024 0.08441635 0.0843102  0.08418838 0.08405697\n",
      " 0.0839211  0.08378512 0.08365244 0.08352564]\n",
      "20 day output [[0.08340647]]\n",
      "21 day input [0.09641348 0.10167854 0.10373143 0.10119551 0.10952783 0.10800628\n",
      " 0.10836855 0.1061949  0.1046975  0.10406956 0.1046492  0.09938413\n",
      " 0.09370849 0.09097935 0.09136578 0.08201908 0.08168096 0.08044922\n",
      " 0.06991909 0.07057119 0.08634223 0.07989373 0.07250332 0.06784205\n",
      " 0.07095761 0.05873687 0.07014853 0.06747977 0.0722618  0.0700157\n",
      " 0.07716459 0.08098056 0.07902427 0.06880811 0.06750392 0.07571549\n",
      " 0.0736626  0.06774544 0.06895302 0.07045043 0.07088516 0.06728656\n",
      " 0.07272069 0.07477358 0.08177756 0.08252626 0.0866079  0.09254921\n",
      " 0.09891317 0.09467456 0.10237894 0.09658254 0.102548   0.10172684\n",
      " 0.10336916 0.09919092 0.10013283 0.09636517 0.10211327 0.10307934\n",
      " 0.10228233 0.10032605 0.10008453 0.09520589 0.09781427 0.08648714\n",
      " 0.08709093 0.09105181 0.09218693 0.08407197 0.08180171 0.07421809\n",
      " 0.07953146 0.08552107 0.08267117 0.07924164 0.07885521 0.08518295\n",
      " 0.08064243 0.0824467  0.08283026 0.08321746 0.08357661 0.08388834\n",
      " 0.08414257 0.08433582 0.08446907 0.08454603 0.08457239 0.0845547\n",
      " 0.08450024 0.08441635 0.0843102  0.08418838 0.08405697 0.0839211\n",
      " 0.08378512 0.08365244 0.08352564 0.08340647]\n",
      "21 day output [[0.08329593]]\n",
      "22 day input [0.10167854 0.10373143 0.10119551 0.10952783 0.10800628 0.10836855\n",
      " 0.1061949  0.1046975  0.10406956 0.1046492  0.09938413 0.09370849\n",
      " 0.09097935 0.09136578 0.08201908 0.08168096 0.08044922 0.06991909\n",
      " 0.07057119 0.08634223 0.07989373 0.07250332 0.06784205 0.07095761\n",
      " 0.05873687 0.07014853 0.06747977 0.0722618  0.0700157  0.07716459\n",
      " 0.08098056 0.07902427 0.06880811 0.06750392 0.07571549 0.0736626\n",
      " 0.06774544 0.06895302 0.07045043 0.07088516 0.06728656 0.07272069\n",
      " 0.07477358 0.08177756 0.08252626 0.0866079  0.09254921 0.09891317\n",
      " 0.09467456 0.10237894 0.09658254 0.102548   0.10172684 0.10336916\n",
      " 0.09919092 0.10013283 0.09636517 0.10211327 0.10307934 0.10228233\n",
      " 0.10032605 0.10008453 0.09520589 0.09781427 0.08648714 0.08709093\n",
      " 0.09105181 0.09218693 0.08407197 0.08180171 0.07421809 0.07953146\n",
      " 0.08552107 0.08267117 0.07924164 0.07885521 0.08518295 0.08064243\n",
      " 0.0824467  0.08283026 0.08321746 0.08357661 0.08388834 0.08414257\n",
      " 0.08433582 0.08446907 0.08454603 0.08457239 0.0845547  0.08450024\n",
      " 0.08441635 0.0843102  0.08418838 0.08405697 0.0839211  0.08378512\n",
      " 0.08365244 0.08352564 0.08340647 0.08329593]\n",
      "22 day output [[0.0831945]]\n",
      "23 day input [0.10373143 0.10119551 0.10952783 0.10800628 0.10836855 0.1061949\n",
      " 0.1046975  0.10406956 0.1046492  0.09938413 0.09370849 0.09097935\n",
      " 0.09136578 0.08201908 0.08168096 0.08044922 0.06991909 0.07057119\n",
      " 0.08634223 0.07989373 0.07250332 0.06784205 0.07095761 0.05873687\n",
      " 0.07014853 0.06747977 0.0722618  0.0700157  0.07716459 0.08098056\n",
      " 0.07902427 0.06880811 0.06750392 0.07571549 0.0736626  0.06774544\n",
      " 0.06895302 0.07045043 0.07088516 0.06728656 0.07272069 0.07477358\n",
      " 0.08177756 0.08252626 0.0866079  0.09254921 0.09891317 0.09467456\n",
      " 0.10237894 0.09658254 0.102548   0.10172684 0.10336916 0.09919092\n",
      " 0.10013283 0.09636517 0.10211327 0.10307934 0.10228233 0.10032605\n",
      " 0.10008453 0.09520589 0.09781427 0.08648714 0.08709093 0.09105181\n",
      " 0.09218693 0.08407197 0.08180171 0.07421809 0.07953146 0.08552107\n",
      " 0.08267117 0.07924164 0.07885521 0.08518295 0.08064243 0.0824467\n",
      " 0.08283026 0.08321746 0.08357661 0.08388834 0.08414257 0.08433582\n",
      " 0.08446907 0.08454603 0.08457239 0.0845547  0.08450024 0.08441635\n",
      " 0.0843102  0.08418838 0.08405697 0.0839211  0.08378512 0.08365244\n",
      " 0.08352564 0.08340647 0.08329593 0.0831945 ]\n",
      "23 day output [[0.08310205]]\n",
      "24 day input [0.10119551 0.10952783 0.10800628 0.10836855 0.1061949  0.1046975\n",
      " 0.10406956 0.1046492  0.09938413 0.09370849 0.09097935 0.09136578\n",
      " 0.08201908 0.08168096 0.08044922 0.06991909 0.07057119 0.08634223\n",
      " 0.07989373 0.07250332 0.06784205 0.07095761 0.05873687 0.07014853\n",
      " 0.06747977 0.0722618  0.0700157  0.07716459 0.08098056 0.07902427\n",
      " 0.06880811 0.06750392 0.07571549 0.0736626  0.06774544 0.06895302\n",
      " 0.07045043 0.07088516 0.06728656 0.07272069 0.07477358 0.08177756\n",
      " 0.08252626 0.0866079  0.09254921 0.09891317 0.09467456 0.10237894\n",
      " 0.09658254 0.102548   0.10172684 0.10336916 0.09919092 0.10013283\n",
      " 0.09636517 0.10211327 0.10307934 0.10228233 0.10032605 0.10008453\n",
      " 0.09520589 0.09781427 0.08648714 0.08709093 0.09105181 0.09218693\n",
      " 0.08407197 0.08180171 0.07421809 0.07953146 0.08552107 0.08267117\n",
      " 0.07924164 0.07885521 0.08518295 0.08064243 0.0824467  0.08283026\n",
      " 0.08321746 0.08357661 0.08388834 0.08414257 0.08433582 0.08446907\n",
      " 0.08454603 0.08457239 0.0845547  0.08450024 0.08441635 0.0843102\n",
      " 0.08418838 0.08405697 0.0839211  0.08378512 0.08365244 0.08352564\n",
      " 0.08340647 0.08329593 0.0831945  0.08310205]\n",
      "24 day output [[0.08301818]]\n",
      "25 day input [0.10952783 0.10800628 0.10836855 0.1061949  0.1046975  0.10406956\n",
      " 0.1046492  0.09938413 0.09370849 0.09097935 0.09136578 0.08201908\n",
      " 0.08168096 0.08044922 0.06991909 0.07057119 0.08634223 0.07989373\n",
      " 0.07250332 0.06784205 0.07095761 0.05873687 0.07014853 0.06747977\n",
      " 0.0722618  0.0700157  0.07716459 0.08098056 0.07902427 0.06880811\n",
      " 0.06750392 0.07571549 0.0736626  0.06774544 0.06895302 0.07045043\n",
      " 0.07088516 0.06728656 0.07272069 0.07477358 0.08177756 0.08252626\n",
      " 0.0866079  0.09254921 0.09891317 0.09467456 0.10237894 0.09658254\n",
      " 0.102548   0.10172684 0.10336916 0.09919092 0.10013283 0.09636517\n",
      " 0.10211327 0.10307934 0.10228233 0.10032605 0.10008453 0.09520589\n",
      " 0.09781427 0.08648714 0.08709093 0.09105181 0.09218693 0.08407197\n",
      " 0.08180171 0.07421809 0.07953146 0.08552107 0.08267117 0.07924164\n",
      " 0.07885521 0.08518295 0.08064243 0.0824467  0.08283026 0.08321746\n",
      " 0.08357661 0.08388834 0.08414257 0.08433582 0.08446907 0.08454603\n",
      " 0.08457239 0.0845547  0.08450024 0.08441635 0.0843102  0.08418838\n",
      " 0.08405697 0.0839211  0.08378512 0.08365244 0.08352564 0.08340647\n",
      " 0.08329593 0.0831945  0.08310205 0.08301818]\n",
      "25 day output [[0.08294203]]\n",
      "26 day input [0.10800628 0.10836855 0.1061949  0.1046975  0.10406956 0.1046492\n",
      " 0.09938413 0.09370849 0.09097935 0.09136578 0.08201908 0.08168096\n",
      " 0.08044922 0.06991909 0.07057119 0.08634223 0.07989373 0.07250332\n",
      " 0.06784205 0.07095761 0.05873687 0.07014853 0.06747977 0.0722618\n",
      " 0.0700157  0.07716459 0.08098056 0.07902427 0.06880811 0.06750392\n",
      " 0.07571549 0.0736626  0.06774544 0.06895302 0.07045043 0.07088516\n",
      " 0.06728656 0.07272069 0.07477358 0.08177756 0.08252626 0.0866079\n",
      " 0.09254921 0.09891317 0.09467456 0.10237894 0.09658254 0.102548\n",
      " 0.10172684 0.10336916 0.09919092 0.10013283 0.09636517 0.10211327\n",
      " 0.10307934 0.10228233 0.10032605 0.10008453 0.09520589 0.09781427\n",
      " 0.08648714 0.08709093 0.09105181 0.09218693 0.08407197 0.08180171\n",
      " 0.07421809 0.07953146 0.08552107 0.08267117 0.07924164 0.07885521\n",
      " 0.08518295 0.08064243 0.0824467  0.08283026 0.08321746 0.08357661\n",
      " 0.08388834 0.08414257 0.08433582 0.08446907 0.08454603 0.08457239\n",
      " 0.0845547  0.08450024 0.08441635 0.0843102  0.08418838 0.08405697\n",
      " 0.0839211  0.08378512 0.08365244 0.08352564 0.08340647 0.08329593\n",
      " 0.0831945  0.08310205 0.08301818 0.08294203]\n",
      "26 day output [[0.08287276]]\n",
      "27 day input [0.10836855 0.1061949  0.1046975  0.10406956 0.1046492  0.09938413\n",
      " 0.09370849 0.09097935 0.09136578 0.08201908 0.08168096 0.08044922\n",
      " 0.06991909 0.07057119 0.08634223 0.07989373 0.07250332 0.06784205\n",
      " 0.07095761 0.05873687 0.07014853 0.06747977 0.0722618  0.0700157\n",
      " 0.07716459 0.08098056 0.07902427 0.06880811 0.06750392 0.07571549\n",
      " 0.0736626  0.06774544 0.06895302 0.07045043 0.07088516 0.06728656\n",
      " 0.07272069 0.07477358 0.08177756 0.08252626 0.0866079  0.09254921\n",
      " 0.09891317 0.09467456 0.10237894 0.09658254 0.102548   0.10172684\n",
      " 0.10336916 0.09919092 0.10013283 0.09636517 0.10211327 0.10307934\n",
      " 0.10228233 0.10032605 0.10008453 0.09520589 0.09781427 0.08648714\n",
      " 0.08709093 0.09105181 0.09218693 0.08407197 0.08180171 0.07421809\n",
      " 0.07953146 0.08552107 0.08267117 0.07924164 0.07885521 0.08518295\n",
      " 0.08064243 0.0824467  0.08283026 0.08321746 0.08357661 0.08388834\n",
      " 0.08414257 0.08433582 0.08446907 0.08454603 0.08457239 0.0845547\n",
      " 0.08450024 0.08441635 0.0843102  0.08418838 0.08405697 0.0839211\n",
      " 0.08378512 0.08365244 0.08352564 0.08340647 0.08329593 0.0831945\n",
      " 0.08310205 0.08301818 0.08294203 0.08287276]\n",
      "27 day output [[0.08280924]]\n",
      "28 day input [0.1061949  0.1046975  0.10406956 0.1046492  0.09938413 0.09370849\n",
      " 0.09097935 0.09136578 0.08201908 0.08168096 0.08044922 0.06991909\n",
      " 0.07057119 0.08634223 0.07989373 0.07250332 0.06784205 0.07095761\n",
      " 0.05873687 0.07014853 0.06747977 0.0722618  0.0700157  0.07716459\n",
      " 0.08098056 0.07902427 0.06880811 0.06750392 0.07571549 0.0736626\n",
      " 0.06774544 0.06895302 0.07045043 0.07088516 0.06728656 0.07272069\n",
      " 0.07477358 0.08177756 0.08252626 0.0866079  0.09254921 0.09891317\n",
      " 0.09467456 0.10237894 0.09658254 0.102548   0.10172684 0.10336916\n",
      " 0.09919092 0.10013283 0.09636517 0.10211327 0.10307934 0.10228233\n",
      " 0.10032605 0.10008453 0.09520589 0.09781427 0.08648714 0.08709093\n",
      " 0.09105181 0.09218693 0.08407197 0.08180171 0.07421809 0.07953146\n",
      " 0.08552107 0.08267117 0.07924164 0.07885521 0.08518295 0.08064243\n",
      " 0.0824467  0.08283026 0.08321746 0.08357661 0.08388834 0.08414257\n",
      " 0.08433582 0.08446907 0.08454603 0.08457239 0.0845547  0.08450024\n",
      " 0.08441635 0.0843102  0.08418838 0.08405697 0.0839211  0.08378512\n",
      " 0.08365244 0.08352564 0.08340647 0.08329593 0.0831945  0.08310205\n",
      " 0.08301818 0.08294203 0.08287276 0.08280924]\n",
      "28 day output [[0.08275044]]\n",
      "29 day input [0.1046975  0.10406956 0.1046492  0.09938413 0.09370849 0.09097935\n",
      " 0.09136578 0.08201908 0.08168096 0.08044922 0.06991909 0.07057119\n",
      " 0.08634223 0.07989373 0.07250332 0.06784205 0.07095761 0.05873687\n",
      " 0.07014853 0.06747977 0.0722618  0.0700157  0.07716459 0.08098056\n",
      " 0.07902427 0.06880811 0.06750392 0.07571549 0.0736626  0.06774544\n",
      " 0.06895302 0.07045043 0.07088516 0.06728656 0.07272069 0.07477358\n",
      " 0.08177756 0.08252626 0.0866079  0.09254921 0.09891317 0.09467456\n",
      " 0.10237894 0.09658254 0.102548   0.10172684 0.10336916 0.09919092\n",
      " 0.10013283 0.09636517 0.10211327 0.10307934 0.10228233 0.10032605\n",
      " 0.10008453 0.09520589 0.09781427 0.08648714 0.08709093 0.09105181\n",
      " 0.09218693 0.08407197 0.08180171 0.07421809 0.07953146 0.08552107\n",
      " 0.08267117 0.07924164 0.07885521 0.08518295 0.08064243 0.0824467\n",
      " 0.08283026 0.08321746 0.08357661 0.08388834 0.08414257 0.08433582\n",
      " 0.08446907 0.08454603 0.08457239 0.0845547  0.08450024 0.08441635\n",
      " 0.0843102  0.08418838 0.08405697 0.0839211  0.08378512 0.08365244\n",
      " 0.08352564 0.08340647 0.08329593 0.0831945  0.08310205 0.08301818\n",
      " 0.08294203 0.08287276 0.08280924 0.08275044]\n"
     ]
    },
    {
     "name": "stdout",
     "output_type": "stream",
     "text": [
      "29 day output [[0.08269526]]\n",
      "[[0.08244670182466507], [0.08283025771379471], [0.08321745693683624], [0.08357661217451096], [0.08388833701610565], [0.08414256572723389], [0.0843358188867569], [0.08446907252073288], [0.0845460295677185], [0.08457238972187042], [0.08455470204353333], [0.08450023829936981], [0.08441635221242905], [0.08431019634008408], [0.08418837934732437], [0.08405697345733643], [0.08392110466957092], [0.08378511667251587], [0.08365243673324585], [0.0835256353020668], [0.0834064707159996], [0.08329593390226364], [0.08319450169801712], [0.08310205489397049], [0.08301817625761032], [0.08294203132390976], [0.08287275582551956], [0.08280923962593079], [0.08275043964385986], [0.08269526064395905]]\n"
     ]
    }
   ],
   "source": [
    "# demonstrate prediction for next 30 days\n",
    "from numpy import array\n",
    "\n",
    "lst_output=[]\n",
    "n_steps=100\n",
    "i=0\n",
    "while(i<30):\n",
    "    \n",
    "    if(len(temp_input)>100):\n",
    "        #print(temp_input)\n",
    "        x_input=np.array(temp_input[1:])\n",
    "        print(\"{} day input {}\".format(i,x_input))\n",
    "        x_input=x_input.reshape(1,-1)\n",
    "        x_input = x_input.reshape((1, n_steps, 1))\n",
    "        #print(x_input)\n",
    "        yhat = model.predict(x_input, verbose=0)\n",
    "        print(\"{} day output {}\".format(i,yhat))\n",
    "        temp_input.extend(yhat[0].tolist())\n",
    "        temp_input=temp_input[1:]\n",
    "        #print(temp_input)\n",
    "        lst_output.extend(yhat.tolist())\n",
    "        i=i+1\n",
    "    else:\n",
    "        x_input = x_input.reshape((1, n_steps,1))\n",
    "        yhat = model.predict(x_input, verbose=0)\n",
    "        print(yhat[0])\n",
    "        temp_input.extend(yhat[0].tolist())\n",
    "        print(len(temp_input))\n",
    "        lst_output.extend(yhat.tolist())\n",
    "        i=i+1\n",
    "    \n",
    "\n",
    "print(lst_output)"
   ]
  },
  {
   "cell_type": "code",
   "execution_count": 94,
   "id": "cc96954e",
   "metadata": {},
   "outputs": [],
   "source": [
    "day_new=np.arange(1,101)\n",
    "day_pred=np.arange(101,131)"
   ]
  },
  {
   "cell_type": "code",
   "execution_count": 95,
   "id": "774207ca",
   "metadata": {},
   "outputs": [
    {
     "data": {
      "text/plain": [
       "1258"
      ]
     },
     "execution_count": 95,
     "metadata": {},
     "output_type": "execute_result"
    }
   ],
   "source": [
    "len(df1)"
   ]
  },
  {
   "cell_type": "code",
   "execution_count": 96,
   "id": "884b152c",
   "metadata": {},
   "outputs": [
    {
     "data": {
      "text/plain": [
       "[<matplotlib.lines.Line2D at 0x11316010e48>]"
      ]
     },
     "execution_count": 96,
     "metadata": {},
     "output_type": "execute_result"
    },
    {
     "data": {
      "image/png": "[encoded data removed]",
      "text/plain": [
       "<Figure size 432x288 with 1 Axes>"
      ]
     },
     "metadata": {
      "needs_background": "light"
     },
     "output_type": "display_data"
    }
   ],
   "source": [
    "plt.plot(day_new,scaler.inverse_transform(df1[1158:]))\n",
    "plt.plot(day_pred,scaler.inverse_transform(lst_output))"
   ]
  },
  {
   "cell_type": "code",
   "execution_count": 97,
   "id": "5dd4a3cc",
   "metadata": {},
   "outputs": [
    {
     "data": {
      "text/plain": [
       "[<matplotlib.lines.Line2D at 0x113163b2fc8>]"
      ]
     },
     "execution_count": 97,
     "metadata": {},
     "output_type": "execute_result"
    },
    {
     "data": {
      "image/png": "[encoded data removed]",
      "text/plain": [
       "<Figure size 432x288 with 1 Axes>"
      ]
     },
     "metadata": {
      "needs_background": "light"
     },
     "output_type": "display_data"
    }
   ],
   "source": [
    "df3=df1.tolist()\n",
    "df3.extend(lst_output)\n",
    "plt.plot(df3[1200:])"
   ]
  },
  {
   "cell_type": "code",
   "execution_count": 98,
   "id": "95022df0",
   "metadata": {},
   "outputs": [],
   "source": [
    "df3=scaler.inverse_transform(df3).tolist()"
   ]
  },
  {
   "cell_type": "code",
   "execution_count": 99,
   "id": "f59da8fa",
   "metadata": {},
   "outputs": [
    {
     "data": {
      "text/plain": [
       "[<matplotlib.lines.Line2D at 0x113162797c8>]"
      ]
     },
     "execution_count": 99,
     "metadata": {},
     "output_type": "execute_result"
    },
    {
     "data": {
      "image/png": "[encoded data removed]",
      "text/plain": [
       "<Figure size 432x288 with 1 Axes>"
      ]
     },
     "metadata": {
      "needs_background": "light"
     },
     "output_type": "display_data"
    }
   ],
   "source": [
    "plt.plot(df3)"
   ]
  },
  {
   "cell_type": "code",
   "execution_count": null,
   "id": "9e3211d0",
   "metadata": {},
   "outputs": [],
   "source": []
  }
 ],
 "metadata": {
  "kernelspec": {
   "display_name": "Python 3",
   "language": "python",
   "name": "python3"
  },
  "language_info": {
   "codemirror_mode": {
    "name": "ipython",
    "version": 3
   },
   "file_extension": ".py",
   "mimetype": "text/x-python",
   "name": "python",
   "nbconvert_exporter": "python",
   "pygments_lexer": "ipython3",
   "version": "3.7.9"
  }
 },
 "nbformat": 4,
 "nbformat_minor": 5
}
