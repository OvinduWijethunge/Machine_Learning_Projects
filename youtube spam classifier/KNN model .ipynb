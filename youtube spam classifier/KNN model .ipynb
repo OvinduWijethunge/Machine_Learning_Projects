{
  "nbformat": 4,
  "nbformat_minor": 5,
  "metadata": {
    "kernelspec": {
      "display_name": "Python 3",
      "language": "python",
      "name": "python3"
    },
    "language_info": {
      "codemirror_mode": {
        "name": "ipython",
        "version": 3
      },
      "file_extension": ".py",
      "mimetype": "text/x-python",
      "name": "python",
      "nbconvert_exporter": "python",
      "pygments_lexer": "ipython3",
      "version": "3.7.9"
    },
    "colab": {
      "name": "KNN model .ipynb",
      "provenance": [],
      "toc_visible": true,
      "include_colab_link": true
    }
  },
  "cells": [
    {
      "cell_type": "markdown",
      "metadata": {
        "id": "view-in-github",
        "colab_type": "text"
      },
      "source": [
        "<a href=\"https://colab.research.google.com/github/OvinduWijethunge/Machine_Learning_Projects/blob/version-1/youtube%20spam%20classifier/KNN%20model%20.ipynb\" target=\"_parent\"><img src=\"https://colab.research.google.com/assets/colab-badge.svg\" alt=\"Open In Colab\"/></a>"
      ]
    },
    {
      "cell_type": "code",
      "metadata": {
        "id": "3cee8518"
      },
      "source": [
        "import pandas as pd\n",
        "import numpy as np\n",
        "import matplotlib.pyplot as plt\n",
        "import seaborn as sns"
      ],
      "id": "3cee8518",
      "execution_count": 2,
      "outputs": []
    },
    {
      "cell_type": "code",
      "metadata": {
        "id": "1cba84b3"
      },
      "source": [
        "#df = pd.read_csv('model.csv')\n",
        "url = 'https://raw.githubusercontent.com/OvinduWijethunge/Machine_Learning_Projects/master/youtube%20spam%20classifier/model.csv'\n",
        "df = pd.read_csv(url)"
      ],
      "id": "1cba84b3",
      "execution_count": 3,
      "outputs": []
    },
    {
      "cell_type": "code",
      "metadata": {
        "id": "ed235ed4",
        "outputId": "0592ab9e-6e13-49ba-fa07-563fbc2d38c6",
        "colab": {
          "base_uri": "https://localhost:8080/",
          "height": 232
        }
      },
      "source": [
        "df.head()"
      ],
      "id": "ed235ed4",
      "execution_count": 4,
      "outputs": [
        {
          "output_type": "execute_result",
          "data": {
            "text/html": [
              "<div>\n",
              "<style scoped>\n",
              "    .dataframe tbody tr th:only-of-type {\n",
              "        vertical-align: middle;\n",
              "    }\n",
              "\n",
              "    .dataframe tbody tr th {\n",
              "        vertical-align: top;\n",
              "    }\n",
              "\n",
              "    .dataframe thead th {\n",
              "        text-align: right;\n",
              "    }\n",
              "</style>\n",
              "<table border=\"1\" class=\"dataframe\">\n",
              "  <thead>\n",
              "    <tr style=\"text-align: right;\">\n",
              "      <th></th>\n",
              "      <th>Unnamed: 0</th>\n",
              "      <th>sim_content</th>\n",
              "      <th>sim_comment</th>\n",
              "      <th>word_count</th>\n",
              "      <th>duplicate_word_ratio</th>\n",
              "      <th>no_of_sentences</th>\n",
              "      <th>length_of_comment</th>\n",
              "      <th>num_of_punctuations</th>\n",
              "      <th>is_period_sequence</th>\n",
              "      <th>stop_word_ratio</th>\n",
              "      <th>post_coment_gap</th>\n",
              "      <th>black_word_count</th>\n",
              "      <th>is_link</th>\n",
              "      <th>is_youtube_link</th>\n",
              "      <th>is_number</th>\n",
              "      <th>comment_duplication</th>\n",
              "      <th>is_spam</th>\n",
              "    </tr>\n",
              "  </thead>\n",
              "  <tbody>\n",
              "    <tr>\n",
              "      <th>0</th>\n",
              "      <td>0</td>\n",
              "      <td>0.265993</td>\n",
              "      <td>0.239773</td>\n",
              "      <td>1.402189</td>\n",
              "      <td>0.000000</td>\n",
              "      <td>1</td>\n",
              "      <td>3.137146</td>\n",
              "      <td>0.0</td>\n",
              "      <td>0</td>\n",
              "      <td>0.0</td>\n",
              "      <td>39.978929</td>\n",
              "      <td>0.200000</td>\n",
              "      <td>0</td>\n",
              "      <td>0</td>\n",
              "      <td>0</td>\n",
              "      <td>0.0</td>\n",
              "      <td>0</td>\n",
              "    </tr>\n",
              "    <tr>\n",
              "      <th>1</th>\n",
              "      <td>1</td>\n",
              "      <td>0.327118</td>\n",
              "      <td>0.222346</td>\n",
              "      <td>2.769147</td>\n",
              "      <td>0.000000</td>\n",
              "      <td>1</td>\n",
              "      <td>4.905188</td>\n",
              "      <td>0.0</td>\n",
              "      <td>0</td>\n",
              "      <td>0.0</td>\n",
              "      <td>39.978929</td>\n",
              "      <td>0.000000</td>\n",
              "      <td>0</td>\n",
              "      <td>0</td>\n",
              "      <td>0</td>\n",
              "      <td>0.0</td>\n",
              "      <td>0</td>\n",
              "    </tr>\n",
              "    <tr>\n",
              "      <th>2</th>\n",
              "      <td>2</td>\n",
              "      <td>0.433986</td>\n",
              "      <td>0.309582</td>\n",
              "      <td>3.532625</td>\n",
              "      <td>0.032258</td>\n",
              "      <td>1</td>\n",
              "      <td>5.719015</td>\n",
              "      <td>0.0</td>\n",
              "      <td>0</td>\n",
              "      <td>0.0</td>\n",
              "      <td>39.978929</td>\n",
              "      <td>0.064516</td>\n",
              "      <td>0</td>\n",
              "      <td>0</td>\n",
              "      <td>0</td>\n",
              "      <td>0.0</td>\n",
              "      <td>0</td>\n",
              "    </tr>\n",
              "    <tr>\n",
              "      <th>3</th>\n",
              "      <td>3</td>\n",
              "      <td>0.201988</td>\n",
              "      <td>0.181141</td>\n",
              "      <td>1.818371</td>\n",
              "      <td>0.000000</td>\n",
              "      <td>1</td>\n",
              "      <td>3.770442</td>\n",
              "      <td>0.0</td>\n",
              "      <td>0</td>\n",
              "      <td>0.0</td>\n",
              "      <td>39.978929</td>\n",
              "      <td>0.000000</td>\n",
              "      <td>0</td>\n",
              "      <td>0</td>\n",
              "      <td>0</td>\n",
              "      <td>0.0</td>\n",
              "      <td>0</td>\n",
              "    </tr>\n",
              "    <tr>\n",
              "      <th>4</th>\n",
              "      <td>4</td>\n",
              "      <td>0.176259</td>\n",
              "      <td>0.125743</td>\n",
              "      <td>1.402189</td>\n",
              "      <td>0.000000</td>\n",
              "      <td>1</td>\n",
              "      <td>3.011349</td>\n",
              "      <td>0.0</td>\n",
              "      <td>0</td>\n",
              "      <td>0.0</td>\n",
              "      <td>39.978929</td>\n",
              "      <td>0.000000</td>\n",
              "      <td>0</td>\n",
              "      <td>0</td>\n",
              "      <td>0</td>\n",
              "      <td>0.0</td>\n",
              "      <td>0</td>\n",
              "    </tr>\n",
              "  </tbody>\n",
              "</table>\n",
              "</div>"
            ],
            "text/plain": [
              "   Unnamed: 0  sim_content  ...  comment_duplication  is_spam\n",
              "0           0     0.265993  ...                  0.0        0\n",
              "1           1     0.327118  ...                  0.0        0\n",
              "2           2     0.433986  ...                  0.0        0\n",
              "3           3     0.201988  ...                  0.0        0\n",
              "4           4     0.176259  ...                  0.0        0\n",
              "\n",
              "[5 rows x 17 columns]"
            ]
          },
          "metadata": {
            "tags": []
          },
          "execution_count": 4
        }
      ]
    },
    {
      "cell_type": "code",
      "metadata": {
        "id": "950b6e54",
        "outputId": "7e06d8dd-9364-438b-9ee9-0eea170f081c",
        "colab": {
          "base_uri": "https://localhost:8080/"
        }
      },
      "source": [
        "df.rename(columns={'Unnamed: 0':'id'},inplace=True)\n",
        "df.columns"
      ],
      "id": "950b6e54",
      "execution_count": 5,
      "outputs": [
        {
          "output_type": "execute_result",
          "data": {
            "text/plain": [
              "Index(['id', 'sim_content', 'sim_comment', 'word_count',\n",
              "       'duplicate_word_ratio', 'no_of_sentences', 'length_of_comment',\n",
              "       'num_of_punctuations', 'is_period_sequence', 'stop_word_ratio',\n",
              "       'post_coment_gap', 'black_word_count', 'is_link', 'is_youtube_link',\n",
              "       'is_number', 'comment_duplication', 'is_spam'],\n",
              "      dtype='object')"
            ]
          },
          "metadata": {
            "tags": []
          },
          "execution_count": 5
        }
      ]
    },
    {
      "cell_type": "markdown",
      "metadata": {
        "id": "0ebcaaa4"
      },
      "source": [
        "### Standardization"
      ],
      "id": "0ebcaaa4"
    },
    {
      "cell_type": "code",
      "metadata": {
        "id": "92aa9932"
      },
      "source": [
        "dfc = df.copy()"
      ],
      "id": "92aa9932",
      "execution_count": 6,
      "outputs": []
    },
    {
      "cell_type": "code",
      "metadata": {
        "id": "a9a8cc19"
      },
      "source": [
        "y = dfc['is_spam']\n",
        "X = dfc.drop(['is_spam','id'],axis=1)"
      ],
      "id": "a9a8cc19",
      "execution_count": 7,
      "outputs": []
    },
    {
      "cell_type": "code",
      "metadata": {
        "id": "77c6b8db"
      },
      "source": [
        "from sklearn.model_selection import train_test_split\n",
        "X_train, X_test, y_train, y_test = train_test_split(X, y, test_size=0.3, random_state=42)"
      ],
      "id": "77c6b8db",
      "execution_count": 8,
      "outputs": []
    },
    {
      "cell_type": "code",
      "metadata": {
        "id": "ad574072"
      },
      "source": [
        "from sklearn.preprocessing import StandardScaler\n",
        "scaler = StandardScaler().fit(X_train)\n",
        "X_train = scaler.transform(X_train) \n",
        "X_test = scaler.transform(X_test) "
      ],
      "id": "ad574072",
      "execution_count": 9,
      "outputs": []
    },
    {
      "cell_type": "markdown",
      "metadata": {
        "id": "d3a4539b"
      },
      "source": [
        "### Handle imbalance dataset"
      ],
      "id": "d3a4539b"
    },
    {
      "cell_type": "code",
      "metadata": {
        "id": "8fb98bef",
        "outputId": "6c5e1289-96c2-4845-d7eb-ad5979cf6fbb",
        "colab": {
          "base_uri": "https://localhost:8080/"
        }
      },
      "source": [
        "dfc['is_spam'].value_counts()"
      ],
      "id": "8fb98bef",
      "execution_count": 10,
      "outputs": [
        {
          "output_type": "execute_result",
          "data": {
            "text/plain": [
              "0    9823\n",
              "1     812\n",
              "Name: is_spam, dtype: int64"
            ]
          },
          "metadata": {
            "tags": []
          },
          "execution_count": 10
        }
      ]
    },
    {
      "cell_type": "code",
      "metadata": {
        "id": "10724c2d",
        "outputId": "4bfe8f85-3fed-47fb-d91b-22cc01c5f017",
        "colab": {
          "base_uri": "https://localhost:8080/"
        }
      },
      "source": [
        "from imblearn.combine import SMOTETomek\n",
        "from collections import Counter\n",
        "\n",
        "os=SMOTETomek(1)\n",
        "X_train_os,y_train_os=os.fit_sample(X_train,y_train)\n",
        "print(\"The number of classes before fit {}\".format(Counter(y_train)))\n",
        "print(\"The number of classes after fit {}\".format(Counter(y_train_os)))\n",
        "\n",
        "X_train = X_train_os\n",
        "y_train = y_train_os"
      ],
      "id": "10724c2d",
      "execution_count": 11,
      "outputs": [
        {
          "output_type": "stream",
          "text": [
            "/usr/local/lib/python3.7/dist-packages/sklearn/externals/six.py:31: FutureWarning: The module is deprecated in version 0.21 and will be removed in version 0.23 since we've dropped support for Python 2.7. Please rely on the official version of six (https://pypi.org/project/six/).\n",
            "  \"(https://pypi.org/project/six/).\", FutureWarning)\n",
            "/usr/local/lib/python3.7/dist-packages/sklearn/utils/deprecation.py:144: FutureWarning: The sklearn.neighbors.base module is  deprecated in version 0.22 and will be removed in version 0.24. The corresponding classes / functions should instead be imported from sklearn.neighbors. Anything that cannot be imported from sklearn.neighbors is now part of the private API.\n",
            "  warnings.warn(message, FutureWarning)\n",
            "/usr/local/lib/python3.7/dist-packages/sklearn/utils/deprecation.py:87: FutureWarning: Function safe_indexing is deprecated; safe_indexing is deprecated in version 0.22 and will be removed in version 0.24.\n",
            "  warnings.warn(msg, category=FutureWarning)\n"
          ],
          "name": "stderr"
        },
        {
          "output_type": "stream",
          "text": [
            "The number of classes before fit Counter({0: 6891, 1: 553})\n",
            "The number of classes after fit Counter({0: 6872, 1: 6872})\n"
          ],
          "name": "stdout"
        },
        {
          "output_type": "stream",
          "text": [
            "/usr/local/lib/python3.7/dist-packages/sklearn/utils/deprecation.py:87: FutureWarning: Function safe_indexing is deprecated; safe_indexing is deprecated in version 0.22 and will be removed in version 0.24.\n",
            "  warnings.warn(msg, category=FutureWarning)\n"
          ],
          "name": "stderr"
        }
      ]
    },
    {
      "cell_type": "markdown",
      "metadata": {
        "id": "24807a04"
      },
      "source": [
        "### Hyperparameter Tuning"
      ],
      "id": "24807a04"
    },
    {
      "cell_type": "code",
      "metadata": {
        "id": "bd0f4ae0"
      },
      "source": [
        "from sklearn.neighbors import KNeighborsClassifier\n",
        "knn = KNeighborsClassifier()"
      ],
      "id": "bd0f4ae0",
      "execution_count": 12,
      "outputs": []
    },
    {
      "cell_type": "code",
      "metadata": {
        "scrolled": true,
        "id": "df3d979d",
        "outputId": "31ff2963-ee91-4374-c127-9f42a094b7ee",
        "colab": {
          "base_uri": "https://localhost:8080/"
        }
      },
      "source": [
        "knn.get_params()"
      ],
      "id": "df3d979d",
      "execution_count": 13,
      "outputs": [
        {
          "output_type": "execute_result",
          "data": {
            "text/plain": [
              "{'algorithm': 'auto',\n",
              " 'leaf_size': 30,\n",
              " 'metric': 'minkowski',\n",
              " 'metric_params': None,\n",
              " 'n_jobs': None,\n",
              " 'n_neighbors': 5,\n",
              " 'p': 2,\n",
              " 'weights': 'uniform'}"
            ]
          },
          "metadata": {
            "tags": []
          },
          "execution_count": 13
        }
      ]
    },
    {
      "cell_type": "code",
      "metadata": {
        "id": "463ba824"
      },
      "source": [
        "grid = {\n",
        "   'algorithm': ['auto', 'ball_tree', 'kd_tree', 'brute'],\n",
        "    'leaf_size': [int(x) for x in range(1,70,2)],\n",
        " \n",
        "    'n_neighbors': [int(x) for x in range(5,80)],\n",
        "    'p': [1,2],\n",
        "    'weights':['uniform', 'distance']\n",
        "}"
      ],
      "id": "463ba824",
      "execution_count": 14,
      "outputs": []
    },
    {
      "cell_type": "code",
      "metadata": {
        "id": "f66ae185"
      },
      "source": [
        "from sklearn.model_selection import StratifiedKFold\n",
        "cv = StratifiedKFold(n_splits=10, shuffle=True) "
      ],
      "id": "f66ae185",
      "execution_count": 15,
      "outputs": []
    },
    {
      "cell_type": "code",
      "metadata": {
        "id": "f3301221"
      },
      "source": [
        "from sklearn.model_selection import RandomizedSearchCV\n",
        "knn_random = RandomizedSearchCV(estimator=knn, param_distributions=grid, n_jobs=-1,n_iter = 100, cv=cv, scoring='accuracy',error_score=0,return_train_score=True,verbose=2)"
      ],
      "id": "f3301221",
      "execution_count": 16,
      "outputs": []
    },
    {
      "cell_type": "code",
      "metadata": {
        "id": "5ac574c0",
        "outputId": "fcc47e37-51ac-4eec-800f-e68707c4b04a",
        "colab": {
          "base_uri": "https://localhost:8080/"
        }
      },
      "source": [
        "knn_random.fit(X_train,y_train)"
      ],
      "id": "5ac574c0",
      "execution_count": 17,
      "outputs": [
        {
          "output_type": "stream",
          "text": [
            "Fitting 10 folds for each of 100 candidates, totalling 1000 fits\n"
          ],
          "name": "stdout"
        },
        {
          "output_type": "stream",
          "text": [
            "[Parallel(n_jobs=-1)]: Using backend LokyBackend with 2 concurrent workers.\n",
            "/usr/local/lib/python3.7/dist-packages/joblib/externals/loky/process_executor.py:691: UserWarning: A worker stopped while some jobs were given to the executor. This can be caused by a too short worker timeout or by a memory leak.\n",
            "  \"timeout or by a memory leak.\", UserWarning\n",
            "[Parallel(n_jobs=-1)]: Done  37 tasks      | elapsed:  2.6min\n",
            "[Parallel(n_jobs=-1)]: Done 158 tasks      | elapsed: 10.1min\n",
            "[Parallel(n_jobs=-1)]: Done 361 tasks      | elapsed: 23.1min\n",
            "[Parallel(n_jobs=-1)]: Done 644 tasks      | elapsed: 40.7min\n",
            "[Parallel(n_jobs=-1)]: Done 1000 out of 1000 | elapsed: 61.2min finished\n"
          ],
          "name": "stderr"
        },
        {
          "output_type": "execute_result",
          "data": {
            "text/plain": [
              "RandomizedSearchCV(cv=StratifiedKFold(n_splits=10, random_state=None, shuffle=True),\n",
              "                   error_score=0,\n",
              "                   estimator=KNeighborsClassifier(algorithm='auto',\n",
              "                                                  leaf_size=30,\n",
              "                                                  metric='minkowski',\n",
              "                                                  metric_params=None,\n",
              "                                                  n_jobs=None, n_neighbors=5,\n",
              "                                                  p=2, weights='uniform'),\n",
              "                   iid='deprecated', n_iter=100, n_jobs=-1,\n",
              "                   param_distributions={'algorithm': ['auto', 'ball_tree',\n",
              "                                                      'kd_tree', 'brut...\n",
              "                                        'leaf_size': [1, 3, 5, 7, 9, 11, 13, 15,\n",
              "                                                      17, 19, 21, 23, 25, 27,\n",
              "                                                      29, 31, 33, 35, 37, 39,\n",
              "                                                      41, 43, 45, 47, 49, 51,\n",
              "                                                      53, 55, 57, 59, ...],\n",
              "                                        'n_neighbors': [5, 6, 7, 8, 9, 10, 11,\n",
              "                                                        12, 13, 14, 15, 16, 17,\n",
              "                                                        18, 19, 20, 21, 22, 23,\n",
              "                                                        24, 25, 26, 27, 28, 29,\n",
              "                                                        30, 31, 32, 33, 34, ...],\n",
              "                                        'p': [1, 2],\n",
              "                                        'weights': ['uniform', 'distance']},\n",
              "                   pre_dispatch='2*n_jobs', random_state=None, refit=True,\n",
              "                   return_train_score=True, scoring='accuracy', verbose=2)"
            ]
          },
          "metadata": {
            "tags": []
          },
          "execution_count": 17
        }
      ]
    },
    {
      "cell_type": "markdown",
      "metadata": {
        "id": "8f18a994"
      },
      "source": [
        "### Evaluvate"
      ],
      "id": "8f18a994"
    },
    {
      "cell_type": "code",
      "metadata": {
        "id": "918586ba",
        "outputId": "9c78dba3-2fda-4db5-b96d-1c136cad17d5",
        "colab": {
          "base_uri": "https://localhost:8080/"
        }
      },
      "source": [
        "knn_random.best_score_"
      ],
      "id": "918586ba",
      "execution_count": 18,
      "outputs": [
        {
          "output_type": "execute_result",
          "data": {
            "text/plain": [
              "0.9594000264655286"
            ]
          },
          "metadata": {
            "tags": []
          },
          "execution_count": 18
        }
      ]
    },
    {
      "cell_type": "code",
      "metadata": {
        "id": "98eae247",
        "outputId": "2b48e2b9-9aa7-4825-c3d0-ea3efa3dcb90",
        "colab": {
          "base_uri": "https://localhost:8080/"
        }
      },
      "source": [
        "knn_random.best_params_"
      ],
      "id": "98eae247",
      "execution_count": 19,
      "outputs": [
        {
          "output_type": "execute_result",
          "data": {
            "text/plain": [
              "{'algorithm': 'auto',\n",
              " 'leaf_size': 27,\n",
              " 'n_neighbors': 6,\n",
              " 'p': 1,\n",
              " 'weights': 'distance'}"
            ]
          },
          "metadata": {
            "tags": []
          },
          "execution_count": 19
        }
      ]
    },
    {
      "cell_type": "code",
      "metadata": {
        "id": "61fd834d"
      },
      "source": [
        "best_model = knn_random.best_estimator_"
      ],
      "id": "61fd834d",
      "execution_count": 20,
      "outputs": []
    },
    {
      "cell_type": "code",
      "metadata": {
        "id": "c4aaaf63",
        "outputId": "cb6fcbce-ded6-4395-f473-29d022bd5462",
        "colab": {
          "base_uri": "https://localhost:8080/"
        }
      },
      "source": [
        "best_model"
      ],
      "id": "c4aaaf63",
      "execution_count": 21,
      "outputs": [
        {
          "output_type": "execute_result",
          "data": {
            "text/plain": [
              "KNeighborsClassifier(algorithm='auto', leaf_size=27, metric='minkowski',\n",
              "                     metric_params=None, n_jobs=None, n_neighbors=6, p=1,\n",
              "                     weights='distance')"
            ]
          },
          "metadata": {
            "tags": []
          },
          "execution_count": 21
        }
      ]
    },
    {
      "cell_type": "code",
      "metadata": {
        "id": "97b27b2c"
      },
      "source": [
        "y_pred = best_model.predict(X_test)"
      ],
      "id": "97b27b2c",
      "execution_count": 22,
      "outputs": []
    },
    {
      "cell_type": "code",
      "metadata": {
        "id": "a1f3dea4"
      },
      "source": [
        "err = (y_pred - y_test)"
      ],
      "id": "a1f3dea4",
      "execution_count": 23,
      "outputs": []
    },
    {
      "cell_type": "code",
      "metadata": {
        "id": "6f955060",
        "outputId": "f0bb97c7-9c7e-40af-993c-124344b4d49b",
        "colab": {
          "base_uri": "https://localhost:8080/",
          "height": 282
        }
      },
      "source": [
        "err.value_counts().plot(kind='bar',color='yellow')"
      ],
      "id": "6f955060",
      "execution_count": 24,
      "outputs": [
        {
          "output_type": "execute_result",
          "data": {
            "text/plain": [
              "<matplotlib.axes._subplots.AxesSubplot at 0x7f06abf34f50>"
            ]
          },
          "metadata": {
            "tags": []
          },
          "execution_count": 24
        },
        {
          "output_type": "display_data",
          "data": {
            "image/png": "[encoded data removed]",
            "text/plain": [
              "<Figure size 432x288 with 1 Axes>"
            ]
          },
          "metadata": {
            "tags": [],
            "needs_background": "light"
          }
        }
      ]
    },
    {
      "cell_type": "code",
      "metadata": {
        "id": "4308d455",
        "outputId": "e213c705-402a-498d-a2d7-6bb0b6fa723f",
        "colab": {
          "base_uri": "https://localhost:8080/"
        }
      },
      "source": [
        "from sklearn import metrics\n",
        "print('MAE:', metrics.mean_absolute_error(y_test,y_pred))\n",
        "print('MSE:', metrics.mean_squared_error(y_test, y_pred))\n",
        "print('RMSE:', np.sqrt(metrics.mean_squared_error(y_test, y_pred)))"
      ],
      "id": "4308d455",
      "execution_count": 25,
      "outputs": [
        {
          "output_type": "stream",
          "text": [
            "MAE: 0.0730178627389533\n",
            "MSE: 0.0730178627389533\n",
            "RMSE: 0.2702181761816797\n"
          ],
          "name": "stdout"
        }
      ]
    },
    {
      "cell_type": "code",
      "metadata": {
        "id": "c39529e0"
      },
      "source": [
        ""
      ],
      "id": "c39529e0",
      "execution_count": 25,
      "outputs": []
    },
    {
      "cell_type": "code",
      "metadata": {
        "id": "d7063ab4",
        "outputId": "73816cce-0f47-47c0-8711-f834dadf6a86",
        "colab": {
          "base_uri": "https://localhost:8080/"
        }
      },
      "source": [
        "from sklearn.metrics import classification_report, confusion_matrix\n",
        "print(confusion_matrix(y_test, y_pred))\n",
        "print(classification_report(y_test, y_pred))"
      ],
      "id": "d7063ab4",
      "execution_count": 26,
      "outputs": [
        {
          "output_type": "stream",
          "text": [
            "[[2755  177]\n",
            " [  56  203]]\n",
            "              precision    recall  f1-score   support\n",
            "\n",
            "           0       0.98      0.94      0.96      2932\n",
            "           1       0.53      0.78      0.64       259\n",
            "\n",
            "    accuracy                           0.93      3191\n",
            "   macro avg       0.76      0.86      0.80      3191\n",
            "weighted avg       0.94      0.93      0.93      3191\n",
            "\n"
          ],
          "name": "stdout"
        }
      ]
    },
    {
      "cell_type": "code",
      "metadata": {
        "id": "79fb2ef9"
      },
      "source": [
        ""
      ],
      "id": "79fb2ef9",
      "execution_count": 26,
      "outputs": []
    },
    {
      "cell_type": "code",
      "metadata": {
        "id": "d9f69df6"
      },
      "source": [
        "# for save the model if you want\n",
        "#import pickle\n",
        "# open a file, where you ant to store the data\n",
        "#file = open('random_forest_regression_model_v2.pkl', 'wb')\n",
        "# dump information to that file\n",
        "#pickle.dump(rf_random, file)"
      ],
      "id": "d9f69df6",
      "execution_count": 27,
      "outputs": []
    },
    {
      "cell_type": "code",
      "metadata": {
        "id": "e4b27cb2"
      },
      "source": [
        "# Best score 0.9143196528569003"
      ],
      "id": "e4b27cb2",
      "execution_count": 28,
      "outputs": []
    },
    {
      "cell_type": "markdown",
      "metadata": {
        "id": "b5dd2509"
      },
      "source": [
        "### ROC"
      ],
      "id": "b5dd2509"
    },
    {
      "cell_type": "code",
      "metadata": {
        "id": "4a3a693f",
        "outputId": "4e12b07e-25b3-47d4-f82e-a2f02b35e595",
        "colab": {
          "base_uri": "https://localhost:8080/",
          "height": 295
        }
      },
      "source": [
        "from sklearn import metrics\n",
        "from sklearn.metrics import roc_auc_score\n",
        "from sklearn.metrics import roc_curve\n",
        "\n",
        "baseline_roc_auc = roc_auc_score(y_test, best_model.predict(X_test))\n",
        "fprB, tprB, thresholdsB = roc_curve(y_test, best_model.predict_proba(X_test)[:,1])\n",
        "\n",
        "plt.figure()\n",
        "plt.plot(fprB, tprB, label='GB(area = %0.2f)' % baseline_roc_auc)\n",
        "plt.plot([0, 1], [0, 1],'r--')\n",
        "plt.xlim([0.0, 1.0])\n",
        "plt.ylim([0.0, 1.05])\n",
        "plt.xlabel('False Positive Rate')\n",
        "plt.ylabel('True Positive Rate')\n",
        "plt.title('Receiver operating characteristic')\n",
        "plt.legend(loc=\"lower right\")\n",
        "plt.show()"
      ],
      "id": "4a3a693f",
      "execution_count": 29,
      "outputs": [
        {
          "output_type": "display_data",
          "data": {
            "image/png": "[encoded data removed]",
            "text/plain": [
              "<Figure size 432x288 with 1 Axes>"
            ]
          },
          "metadata": {
            "tags": [],
            "needs_background": "light"
          }
        }
      ]
    },
    {
      "cell_type": "code",
      "metadata": {
        "id": "AJrUV7aFSXa0"
      },
      "source": [
        ""
      ],
      "id": "AJrUV7aFSXa0",
      "execution_count": 29,
      "outputs": []
    },
    {
      "cell_type": "markdown",
      "metadata": {
        "id": "2mjDiut_SlI7"
      },
      "source": [
        "\n",
        "**Recall - presicion with threshold values**"
      ],
      "id": "2mjDiut_SlI7"
    },
    {
      "cell_type": "code",
      "metadata": {
        "id": "EuT-w4YESn3K",
        "outputId": "d412c180-2524-4b50-a3d5-1951ea6ceb8b",
        "colab": {
          "base_uri": "https://localhost:8080/",
          "height": 312
        }
      },
      "source": [
        "### Predict test_y values and probabilities based on random forest model\n",
        "probs_y=best_model.predict_proba(X_test) \n",
        "  # probs_y is a 2-D array of probability of being labeled as 0 (first column of array) vs 1 (2nd column in array)\n",
        "\n",
        "from sklearn.metrics import precision_recall_curve\n",
        "precision, recall, thresholds = precision_recall_curve(y_test, probs_y[:, 1]) \n",
        "   #retrieve probability of being 1(in second column of probs_y)\n",
        "pr_auc = metrics.auc(recall, precision)\n",
        "\n",
        "plt.title(\"Precision-Recall vs Threshold Chart\")\n",
        "plt.plot(thresholds, precision[: -1], \"b--\", label=\"Precision\")\n",
        "plt.plot(thresholds, recall[: -1], \"r--\", label=\"Recall\")\n",
        "plt.ylabel(\"Precision, Recall\")\n",
        "plt.xlabel(\"Threshold\")\n",
        "plt.legend(loc=\"lower left\")\n",
        "plt.ylim([0,1])"
      ],
      "id": "EuT-w4YESn3K",
      "execution_count": 30,
      "outputs": [
        {
          "output_type": "execute_result",
          "data": {
            "text/plain": [
              "(0.0, 1.0)"
            ]
          },
          "metadata": {
            "tags": []
          },
          "execution_count": 30
        },
        {
          "output_type": "display_data",
          "data": {
            "image/png": "[encoded data removed]",
            "text/plain": [
              "<Figure size 432x288 with 1 Axes>"
            ]
          },
          "metadata": {
            "tags": [],
            "needs_background": "light"
          }
        }
      ]
    },
    {
      "cell_type": "code",
      "metadata": {
        "id": "ySLdIIY5SrEr"
      },
      "source": [
        "import pickle\n",
        "#open a file, where you ant to store the data\n",
        "file = open('knn_Classifier.pkl', 'wb')\n",
        "# dump information to that file\n",
        "pickle.dump(best_model, file)"
      ],
      "id": "ySLdIIY5SrEr",
      "execution_count": 31,
      "outputs": []
    }
  ]
}