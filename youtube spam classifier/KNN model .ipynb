{
 "cells": [
  {
   "cell_type": "code",
   "execution_count": 1,
   "id": "d78f68a2",
   "metadata": {},
   "outputs": [],
   "source": [
    "import pandas as pd\n",
    "import numpy as np\n",
    "import matplotlib.pyplot as plt\n",
    "import seaborn as sns"
   ]
  },
  {
   "cell_type": "code",
   "execution_count": 2,
   "id": "c08201a0",
   "metadata": {},
   "outputs": [],
   "source": [
    "df = pd.read_csv('model.csv')"
   ]
  },
  {
   "cell_type": "code",
   "execution_count": 3,
   "id": "54de37b4",
   "metadata": {},
   "outputs": [
    {
     "data": {
      "text/html": [
       "<div>\n",
       "<style scoped>\n",
       "    .dataframe tbody tr th:only-of-type {\n",
       "        vertical-align: middle;\n",
       "    }\n",
       "\n",
       "    .dataframe tbody tr th {\n",
       "        vertical-align: top;\n",
       "    }\n",
       "\n",
       "    .dataframe thead th {\n",
       "        text-align: right;\n",
       "    }\n",
       "</style>\n",
       "<table border=\"1\" class=\"dataframe\">\n",
       "  <thead>\n",
       "    <tr style=\"text-align: right;\">\n",
       "      <th></th>\n",
       "      <th>Unnamed: 0</th>\n",
       "      <th>sim_content</th>\n",
       "      <th>sin_comment</th>\n",
       "      <th>word_count</th>\n",
       "      <th>duplicate_word_ratio</th>\n",
       "      <th>no_of_sentences</th>\n",
       "      <th>length_of_comment</th>\n",
       "      <th>num_of_punctuations</th>\n",
       "      <th>is_period_sequence</th>\n",
       "      <th>stop_word_ratio</th>\n",
       "      <th>post_coment_gap</th>\n",
       "      <th>black_word_count</th>\n",
       "      <th>is_link</th>\n",
       "      <th>is_youtube_link</th>\n",
       "      <th>is_number</th>\n",
       "      <th>is_mail</th>\n",
       "      <th>comment_duplication</th>\n",
       "      <th>classifier_val</th>\n",
       "    </tr>\n",
       "  </thead>\n",
       "  <tbody>\n",
       "    <tr>\n",
       "      <th>0</th>\n",
       "      <td>0</td>\n",
       "      <td>0.372249</td>\n",
       "      <td>0.280355</td>\n",
       "      <td>3.057751</td>\n",
       "      <td>0.083333</td>\n",
       "      <td>3</td>\n",
       "      <td>6.612096</td>\n",
       "      <td>4.0</td>\n",
       "      <td>0</td>\n",
       "      <td>0.000000</td>\n",
       "      <td>8.750086</td>\n",
       "      <td>1.0</td>\n",
       "      <td>1</td>\n",
       "      <td>0</td>\n",
       "      <td>0</td>\n",
       "      <td>0</td>\n",
       "      <td>0.000000</td>\n",
       "      <td>1</td>\n",
       "    </tr>\n",
       "    <tr>\n",
       "      <th>1</th>\n",
       "      <td>1</td>\n",
       "      <td>0.354255</td>\n",
       "      <td>0.341604</td>\n",
       "      <td>2.410947</td>\n",
       "      <td>0.000000</td>\n",
       "      <td>1</td>\n",
       "      <td>4.897796</td>\n",
       "      <td>1.0</td>\n",
       "      <td>0</td>\n",
       "      <td>0.000000</td>\n",
       "      <td>15.380144</td>\n",
       "      <td>2.0</td>\n",
       "      <td>0</td>\n",
       "      <td>0</td>\n",
       "      <td>0</td>\n",
       "      <td>0</td>\n",
       "      <td>0.715092</td>\n",
       "      <td>0</td>\n",
       "    </tr>\n",
       "    <tr>\n",
       "      <th>2</th>\n",
       "      <td>2</td>\n",
       "      <td>0.487752</td>\n",
       "      <td>0.314966</td>\n",
       "      <td>1.578192</td>\n",
       "      <td>0.000000</td>\n",
       "      <td>1</td>\n",
       "      <td>3.791178</td>\n",
       "      <td>0.0</td>\n",
       "      <td>0</td>\n",
       "      <td>0.000000</td>\n",
       "      <td>14.181022</td>\n",
       "      <td>0.0</td>\n",
       "      <td>0</td>\n",
       "      <td>0</td>\n",
       "      <td>0</td>\n",
       "      <td>0</td>\n",
       "      <td>0.000000</td>\n",
       "      <td>0</td>\n",
       "    </tr>\n",
       "    <tr>\n",
       "      <th>3</th>\n",
       "      <td>3</td>\n",
       "      <td>0.468095</td>\n",
       "      <td>0.368193</td>\n",
       "      <td>2.328976</td>\n",
       "      <td>0.000000</td>\n",
       "      <td>1</td>\n",
       "      <td>5.041488</td>\n",
       "      <td>0.0</td>\n",
       "      <td>0</td>\n",
       "      <td>0.090909</td>\n",
       "      <td>13.636652</td>\n",
       "      <td>2.0</td>\n",
       "      <td>0</td>\n",
       "      <td>0</td>\n",
       "      <td>0</td>\n",
       "      <td>0</td>\n",
       "      <td>0.000000</td>\n",
       "      <td>0</td>\n",
       "    </tr>\n",
       "    <tr>\n",
       "      <th>4</th>\n",
       "      <td>4</td>\n",
       "      <td>0.366191</td>\n",
       "      <td>0.258061</td>\n",
       "      <td>2.238987</td>\n",
       "      <td>0.000000</td>\n",
       "      <td>1</td>\n",
       "      <td>5.174158</td>\n",
       "      <td>4.0</td>\n",
       "      <td>0</td>\n",
       "      <td>0.000000</td>\n",
       "      <td>13.529500</td>\n",
       "      <td>0.0</td>\n",
       "      <td>1</td>\n",
       "      <td>1</td>\n",
       "      <td>0</td>\n",
       "      <td>0</td>\n",
       "      <td>0.000000</td>\n",
       "      <td>0</td>\n",
       "    </tr>\n",
       "  </tbody>\n",
       "</table>\n",
       "</div>"
      ],
      "text/plain": [
       "   Unnamed: 0  sim_content  sin_comment  word_count  duplicate_word_ratio  \\\n",
       "0           0     0.372249     0.280355    3.057751              0.083333   \n",
       "1           1     0.354255     0.341604    2.410947              0.000000   \n",
       "2           2     0.487752     0.314966    1.578192              0.000000   \n",
       "3           3     0.468095     0.368193    2.328976              0.000000   \n",
       "4           4     0.366191     0.258061    2.238987              0.000000   \n",
       "\n",
       "   no_of_sentences  length_of_comment  num_of_punctuations  \\\n",
       "0                3           6.612096                  4.0   \n",
       "1                1           4.897796                  1.0   \n",
       "2                1           3.791178                  0.0   \n",
       "3                1           5.041488                  0.0   \n",
       "4                1           5.174158                  4.0   \n",
       "\n",
       "   is_period_sequence  stop_word_ratio  post_coment_gap  black_word_count  \\\n",
       "0                   0         0.000000         8.750086               1.0   \n",
       "1                   0         0.000000        15.380144               2.0   \n",
       "2                   0         0.000000        14.181022               0.0   \n",
       "3                   0         0.090909        13.636652               2.0   \n",
       "4                   0         0.000000        13.529500               0.0   \n",
       "\n",
       "   is_link  is_youtube_link  is_number  is_mail  comment_duplication  \\\n",
       "0        1                0          0        0             0.000000   \n",
       "1        0                0          0        0             0.715092   \n",
       "2        0                0          0        0             0.000000   \n",
       "3        0                0          0        0             0.000000   \n",
       "4        1                1          0        0             0.000000   \n",
       "\n",
       "   classifier_val  \n",
       "0               1  \n",
       "1               0  \n",
       "2               0  \n",
       "3               0  \n",
       "4               0  "
      ]
     },
     "execution_count": 3,
     "metadata": {},
     "output_type": "execute_result"
    }
   ],
   "source": [
    "df.head()"
   ]
  },
  {
   "cell_type": "code",
   "execution_count": 4,
   "id": "4be584c4",
   "metadata": {},
   "outputs": [
    {
     "data": {
      "text/plain": [
       "Index(['id', 'sim_content', 'sin_comment', 'word_count',\n",
       "       'duplicate_word_ratio', 'no_of_sentences', 'length_of_comment',\n",
       "       'num_of_punctuations', 'is_period_sequence', 'stop_word_ratio',\n",
       "       'post_coment_gap', 'black_word_count', 'is_link', 'is_youtube_link',\n",
       "       'is_number', 'is_mail', 'comment_duplication', 'classifier_val'],\n",
       "      dtype='object')"
      ]
     },
     "execution_count": 4,
     "metadata": {},
     "output_type": "execute_result"
    }
   ],
   "source": [
    "df.rename(columns={'Unnamed: 0':'id'},inplace=True)\n",
    "df.columns"
   ]
  },
  {
   "cell_type": "markdown",
   "id": "d0f988fa",
   "metadata": {},
   "source": [
    "### Standardization"
   ]
  },
  {
   "cell_type": "code",
   "execution_count": 5,
   "id": "98383e40",
   "metadata": {},
   "outputs": [],
   "source": [
    "dfc = df.copy()"
   ]
  },
  {
   "cell_type": "code",
   "execution_count": 6,
   "id": "79bf79c0",
   "metadata": {},
   "outputs": [],
   "source": [
    "y = dfc['classifier_val']\n",
    "X = dfc.drop(['classifier_val','id'],axis=1)"
   ]
  },
  {
   "cell_type": "code",
   "execution_count": 7,
   "id": "b5d39b22",
   "metadata": {},
   "outputs": [],
   "source": [
    "from sklearn.preprocessing import StandardScaler\n",
    "scaler = StandardScaler().fit(X)\n",
    "X_train = scaler.transform(X) "
   ]
  },
  {
   "cell_type": "markdown",
   "id": "b31077ed",
   "metadata": {},
   "source": [
    "### Handle imbalance dataset"
   ]
  },
  {
   "cell_type": "code",
   "execution_count": 8,
   "id": "fc3c1786",
   "metadata": {},
   "outputs": [
    {
     "data": {
      "text/plain": [
       "0    2540\n",
       "1     585\n",
       "Name: classifier_val, dtype: int64"
      ]
     },
     "execution_count": 8,
     "metadata": {},
     "output_type": "execute_result"
    }
   ],
   "source": [
    "dfc['classifier_val'].value_counts()"
   ]
  },
  {
   "cell_type": "code",
   "execution_count": 9,
   "id": "f53adf7f",
   "metadata": {},
   "outputs": [
    {
     "name": "stdout",
     "output_type": "stream",
     "text": [
      "The number of classes before fit Counter({0: 2540, 1: 585})\n",
      "The number of classes after fit Counter({1: 2486, 0: 2486})\n"
     ]
    }
   ],
   "source": [
    "from imblearn.combine import SMOTETomek\n",
    "from collections import Counter\n",
    "\n",
    "os=SMOTETomek()\n",
    "X_os,y_os=os.fit_sample(X,y)\n",
    "print(\"The number of classes before fit {}\".format(Counter(y)))\n",
    "print(\"The number of classes after fit {}\".format(Counter(y_os)))\n",
    "\n",
    "X = X_os\n",
    "y = y_os"
   ]
  },
  {
   "cell_type": "markdown",
   "id": "ad266588",
   "metadata": {},
   "source": [
    "### Hyperparameter Tuning"
   ]
  },
  {
   "cell_type": "code",
   "execution_count": 11,
   "id": "810af881",
   "metadata": {},
   "outputs": [],
   "source": [
    "from sklearn.neighbors import KNeighborsClassifier\n",
    "knn = KNeighborsClassifier()"
   ]
  },
  {
   "cell_type": "code",
   "execution_count": 12,
   "id": "9ee7526c",
   "metadata": {
    "scrolled": true
   },
   "outputs": [
    {
     "data": {
      "text/plain": [
       "{'algorithm': 'auto',\n",
       " 'leaf_size': 30,\n",
       " 'metric': 'minkowski',\n",
       " 'metric_params': None,\n",
       " 'n_jobs': None,\n",
       " 'n_neighbors': 5,\n",
       " 'p': 2,\n",
       " 'weights': 'uniform'}"
      ]
     },
     "execution_count": 12,
     "metadata": {},
     "output_type": "execute_result"
    }
   ],
   "source": [
    "knn.get_params()"
   ]
  },
  {
   "cell_type": "code",
   "execution_count": 19,
   "id": "b012f670",
   "metadata": {},
   "outputs": [],
   "source": [
    "grid = {\n",
    "   'algorithm': ['auto', 'ball_tree', 'kd_tree', 'brute'],\n",
    "    'leaf_size': [int(x) for x in range(1,70,2)],\n",
    " \n",
    "    'n_neighbors': [int(x) for x in range(5,80)],\n",
    "    'p': [1,2],\n",
    "    'weights':['uniform', 'distance']\n",
    "}"
   ]
  },
  {
   "cell_type": "code",
   "execution_count": 20,
   "id": "a41fdf9e",
   "metadata": {},
   "outputs": [],
   "source": [
    "from sklearn.model_selection import StratifiedKFold\n",
    "cv = StratifiedKFold(n_splits=10, shuffle=True) "
   ]
  },
  {
   "cell_type": "code",
   "execution_count": 21,
   "id": "2a120a90",
   "metadata": {},
   "outputs": [],
   "source": [
    "from sklearn.model_selection import RandomizedSearchCV\n",
    "knn_random = RandomizedSearchCV(estimator=knn, param_distributions=grid, n_jobs=-1,n_iter = 100, cv=cv, scoring='accuracy',error_score=0,return_train_score=True,verbose=2)"
   ]
  },
  {
   "cell_type": "code",
   "execution_count": 22,
   "id": "8f9e4689",
   "metadata": {},
   "outputs": [
    {
     "name": "stdout",
     "output_type": "stream",
     "text": [
      "Fitting 10 folds for each of 100 candidates, totalling 1000 fits\n"
     ]
    },
    {
     "name": "stderr",
     "output_type": "stream",
     "text": [
      "[Parallel(n_jobs=-1)]: Using backend LokyBackend with 4 concurrent workers.\n",
      "[Parallel(n_jobs=-1)]: Done  33 tasks      | elapsed:   14.0s\n",
      "[Parallel(n_jobs=-1)]: Done 154 tasks      | elapsed:   38.1s\n",
      "[Parallel(n_jobs=-1)]: Done 357 tasks      | elapsed:  1.6min\n",
      "[Parallel(n_jobs=-1)]: Done 640 tasks      | elapsed:  2.7min\n",
      "[Parallel(n_jobs=-1)]: Done 1000 out of 1000 | elapsed:  4.0min finished\n"
     ]
    },
    {
     "data": {
      "text/plain": [
       "RandomizedSearchCV(cv=StratifiedKFold(n_splits=10, random_state=None, shuffle=True),\n",
       "                   error_score=0, estimator=KNeighborsClassifier(), n_iter=100,\n",
       "                   n_jobs=-1,\n",
       "                   param_distributions={'algorithm': ['auto', 'ball_tree',\n",
       "                                                      'kd_tree', 'brute'],\n",
       "                                        'leaf_size': [1, 3, 5, 7, 9, 11, 13, 15,\n",
       "                                                      17, 19, 21, 23, 25, 27,\n",
       "                                                      29, 31, 33, 35, 37, 39,\n",
       "                                                      41, 43, 45, 47, 49, 51,\n",
       "                                                      53, 55, 57, 59, ...],\n",
       "                                        'n_neighbors': [5, 6, 7, 8, 9, 10, 11,\n",
       "                                                        12, 13, 14, 15, 16, 17,\n",
       "                                                        18, 19, 20, 21, 22, 23,\n",
       "                                                        24, 25, 26, 27, 28, 29,\n",
       "                                                        30, 31, 32, 33, 34, ...],\n",
       "                                        'p': [1, 2],\n",
       "                                        'weights': ['uniform', 'distance']},\n",
       "                   return_train_score=True, scoring='accuracy', verbose=2)"
      ]
     },
     "execution_count": 22,
     "metadata": {},
     "output_type": "execute_result"
    }
   ],
   "source": [
    "knn_random.fit(X,y)"
   ]
  },
  {
   "cell_type": "markdown",
   "id": "fb31ea45",
   "metadata": {},
   "source": [
    "### Evaluvate"
   ]
  },
  {
   "cell_type": "code",
   "execution_count": 23,
   "id": "2a5db18f",
   "metadata": {},
   "outputs": [
    {
     "data": {
      "text/plain": [
       "0.9143196528569003"
      ]
     },
     "execution_count": 23,
     "metadata": {},
     "output_type": "execute_result"
    }
   ],
   "source": [
    "knn_random.best_score_"
   ]
  },
  {
   "cell_type": "code",
   "execution_count": 26,
   "id": "9b7ce34c",
   "metadata": {},
   "outputs": [
    {
     "data": {
      "text/plain": [
       "{'weights': 'distance',\n",
       " 'p': 1,\n",
       " 'n_neighbors': 7,\n",
       " 'leaf_size': 51,\n",
       " 'algorithm': 'brute'}"
      ]
     },
     "execution_count": 26,
     "metadata": {},
     "output_type": "execute_result"
    }
   ],
   "source": [
    "knn_random.best_params_"
   ]
  },
  {
   "cell_type": "code",
   "execution_count": 29,
   "id": "db574944",
   "metadata": {},
   "outputs": [],
   "source": [
    "best_model = knn_random.best_estimator_"
   ]
  },
  {
   "cell_type": "code",
   "execution_count": 30,
   "id": "8617859b",
   "metadata": {},
   "outputs": [
    {
     "data": {
      "text/plain": [
       "KNeighborsClassifier(algorithm='brute', leaf_size=51, n_neighbors=7, p=1,\n",
       "                     weights='distance')"
      ]
     },
     "execution_count": 30,
     "metadata": {},
     "output_type": "execute_result"
    }
   ],
   "source": [
    "best_model"
   ]
  },
  {
   "cell_type": "code",
   "execution_count": 31,
   "id": "daa1a125",
   "metadata": {},
   "outputs": [],
   "source": [
    "# for save the model if you want\n",
    "#import pickle\n",
    "# open a file, where you ant to store the data\n",
    "#file = open('random_forest_regression_model_v2.pkl', 'wb')\n",
    "# dump information to that file\n",
    "#pickle.dump(rf_random, file)"
   ]
  },
  {
   "cell_type": "code",
   "execution_count": 32,
   "id": "68e52d30",
   "metadata": {},
   "outputs": [],
   "source": [
    "# Best score 0.9143196528569003"
   ]
  },
  {
   "cell_type": "code",
   "execution_count": null,
   "id": "9ae3b7eb",
   "metadata": {},
   "outputs": [],
   "source": []
  }
 ],
 "metadata": {
  "kernelspec": {
   "display_name": "Python 3",
   "language": "python",
   "name": "python3"
  },
  "language_info": {
   "codemirror_mode": {
    "name": "ipython",
    "version": 3
   },
   "file_extension": ".py",
   "mimetype": "text/x-python",
   "name": "python",
   "nbconvert_exporter": "python",
   "pygments_lexer": "ipython3",
   "version": "3.7.9"
  }
 },
 "nbformat": 4,
 "nbformat_minor": 5
}
