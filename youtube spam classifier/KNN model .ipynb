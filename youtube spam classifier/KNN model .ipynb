{
  "nbformat": 4,
  "nbformat_minor": 5,
  "metadata": {
    "kernelspec": {
      "display_name": "Python 3",
      "language": "python",
      "name": "python3"
    },
    "language_info": {
      "codemirror_mode": {
        "name": "ipython",
        "version": 3
      },
      "file_extension": ".py",
      "mimetype": "text/x-python",
      "name": "python",
      "nbconvert_exporter": "python",
      "pygments_lexer": "ipython3",
      "version": "3.7.9"
    },
    "colab": {
      "name": "KNN model .ipynb",
      "provenance": [],
      "toc_visible": true,
      "include_colab_link": true
    },
    "accelerator": "GPU"
  },
  "cells": [
    {
      "cell_type": "markdown",
      "metadata": {
        "id": "view-in-github",
        "colab_type": "text"
      },
      "source": [
        "<a href=\"https://colab.research.google.com/github/OvinduWijethunge/Machine_Learning_Projects/blob/version-1/youtube%20spam%20classifier/KNN%20model%20.ipynb\" target=\"_parent\"><img src=\"https://colab.research.google.com/assets/colab-badge.svg\" alt=\"Open In Colab\"/></a>"
      ]
    },
    {
      "cell_type": "code",
      "metadata": {
        "id": "3cee8518"
      },
      "source": [
        "import pandas as pd\n",
        "import numpy as np\n",
        "import matplotlib.pyplot as plt\n",
        "import seaborn as sns"
      ],
      "id": "3cee8518",
      "execution_count": 2,
      "outputs": []
    },
    {
      "cell_type": "code",
      "metadata": {
        "id": "1cba84b3"
      },
      "source": [
        "#df = pd.read_csv('model.csv')\n",
        "url = 'https://raw.githubusercontent.com/OvinduWijethunge/Machine_Learning_Projects/master/youtube%20spam%20classifier/models.csv'\n",
        "df = pd.read_csv(url)"
      ],
      "id": "1cba84b3",
      "execution_count": 3,
      "outputs": []
    },
    {
      "cell_type": "code",
      "metadata": {
        "id": "ed235ed4",
        "colab": {
          "base_uri": "https://localhost:8080/",
          "height": 232
        },
        "outputId": "ce4acd7e-42b5-46a0-b08f-fc48acef1e6a"
      },
      "source": [
        "df.head()"
      ],
      "id": "ed235ed4",
      "execution_count": 4,
      "outputs": [
        {
          "output_type": "execute_result",
          "data": {
            "text/html": [
              "<div>\n",
              "<style scoped>\n",
              "    .dataframe tbody tr th:only-of-type {\n",
              "        vertical-align: middle;\n",
              "    }\n",
              "\n",
              "    .dataframe tbody tr th {\n",
              "        vertical-align: top;\n",
              "    }\n",
              "\n",
              "    .dataframe thead th {\n",
              "        text-align: right;\n",
              "    }\n",
              "</style>\n",
              "<table border=\"1\" class=\"dataframe\">\n",
              "  <thead>\n",
              "    <tr style=\"text-align: right;\">\n",
              "      <th></th>\n",
              "      <th>Unnamed: 0</th>\n",
              "      <th>sim_content</th>\n",
              "      <th>sim_comment</th>\n",
              "      <th>word_count</th>\n",
              "      <th>duplicate_word_ratio</th>\n",
              "      <th>length_of_comment</th>\n",
              "      <th>stop_word_ratio</th>\n",
              "      <th>post_coment_gap</th>\n",
              "      <th>black_word_count</th>\n",
              "      <th>comment_duplication</th>\n",
              "      <th>is_spam</th>\n",
              "      <th>no_of_sentences_2</th>\n",
              "      <th>no_of_sentences_3</th>\n",
              "      <th>num_of_punctuations_1.0</th>\n",
              "      <th>num_of_punctuations_2.0</th>\n",
              "      <th>num_of_punctuations_3.0</th>\n",
              "      <th>num_of_punctuations_4.0</th>\n",
              "      <th>num_of_punctuations_5.0</th>\n",
              "      <th>num_of_punctuations_6.0</th>\n",
              "      <th>is_period_sequence_1</th>\n",
              "      <th>is_link_1</th>\n",
              "      <th>is_youtube_link_1</th>\n",
              "      <th>is_number_1</th>\n",
              "    </tr>\n",
              "  </thead>\n",
              "  <tbody>\n",
              "    <tr>\n",
              "      <th>0</th>\n",
              "      <td>0</td>\n",
              "      <td>-1.038590</td>\n",
              "      <td>-0.870409</td>\n",
              "      <td>1.866549</td>\n",
              "      <td>0.0000</td>\n",
              "      <td>4.274240</td>\n",
              "      <td>0.000000</td>\n",
              "      <td>13.337643</td>\n",
              "      <td>0.222222</td>\n",
              "      <td>0.0</td>\n",
              "      <td>0</td>\n",
              "      <td>0</td>\n",
              "      <td>0</td>\n",
              "      <td>0</td>\n",
              "      <td>0</td>\n",
              "      <td>0</td>\n",
              "      <td>0</td>\n",
              "      <td>0</td>\n",
              "      <td>0</td>\n",
              "      <td>0</td>\n",
              "      <td>0</td>\n",
              "      <td>0</td>\n",
              "      <td>0</td>\n",
              "    </tr>\n",
              "    <tr>\n",
              "      <th>1</th>\n",
              "      <td>1</td>\n",
              "      <td>-1.103307</td>\n",
              "      <td>-0.971247</td>\n",
              "      <td>1.866549</td>\n",
              "      <td>0.0000</td>\n",
              "      <td>4.555200</td>\n",
              "      <td>0.111111</td>\n",
              "      <td>29.017218</td>\n",
              "      <td>0.000000</td>\n",
              "      <td>0.0</td>\n",
              "      <td>0</td>\n",
              "      <td>1</td>\n",
              "      <td>0</td>\n",
              "      <td>0</td>\n",
              "      <td>1</td>\n",
              "      <td>0</td>\n",
              "      <td>0</td>\n",
              "      <td>0</td>\n",
              "      <td>0</td>\n",
              "      <td>0</td>\n",
              "      <td>0</td>\n",
              "      <td>0</td>\n",
              "      <td>0</td>\n",
              "    </tr>\n",
              "    <tr>\n",
              "      <th>2</th>\n",
              "      <td>2</td>\n",
              "      <td>-1.064844</td>\n",
              "      <td>-0.957045</td>\n",
              "      <td>2.260334</td>\n",
              "      <td>0.0625</td>\n",
              "      <td>5.086086</td>\n",
              "      <td>0.062500</td>\n",
              "      <td>29.017218</td>\n",
              "      <td>0.125000</td>\n",
              "      <td>0.0</td>\n",
              "      <td>1</td>\n",
              "      <td>0</td>\n",
              "      <td>1</td>\n",
              "      <td>0</td>\n",
              "      <td>0</td>\n",
              "      <td>0</td>\n",
              "      <td>1</td>\n",
              "      <td>0</td>\n",
              "      <td>0</td>\n",
              "      <td>0</td>\n",
              "      <td>1</td>\n",
              "      <td>1</td>\n",
              "      <td>0</td>\n",
              "    </tr>\n",
              "    <tr>\n",
              "      <th>3</th>\n",
              "      <td>3</td>\n",
              "      <td>-0.936203</td>\n",
              "      <td>-0.910982</td>\n",
              "      <td>1.683387</td>\n",
              "      <td>0.0000</td>\n",
              "      <td>3.982309</td>\n",
              "      <td>0.142857</td>\n",
              "      <td>29.017218</td>\n",
              "      <td>0.142857</td>\n",
              "      <td>0.0</td>\n",
              "      <td>0</td>\n",
              "      <td>0</td>\n",
              "      <td>0</td>\n",
              "      <td>0</td>\n",
              "      <td>0</td>\n",
              "      <td>0</td>\n",
              "      <td>0</td>\n",
              "      <td>0</td>\n",
              "      <td>0</td>\n",
              "      <td>0</td>\n",
              "      <td>0</td>\n",
              "      <td>0</td>\n",
              "      <td>0</td>\n",
              "    </tr>\n",
              "    <tr>\n",
              "      <th>4</th>\n",
              "      <td>4</td>\n",
              "      <td>-1.212501</td>\n",
              "      <td>-1.085031</td>\n",
              "      <td>2.122197</td>\n",
              "      <td>0.0000</td>\n",
              "      <td>4.920915</td>\n",
              "      <td>0.000000</td>\n",
              "      <td>29.017218</td>\n",
              "      <td>0.076923</td>\n",
              "      <td>0.0</td>\n",
              "      <td>1</td>\n",
              "      <td>1</td>\n",
              "      <td>0</td>\n",
              "      <td>0</td>\n",
              "      <td>0</td>\n",
              "      <td>0</td>\n",
              "      <td>1</td>\n",
              "      <td>0</td>\n",
              "      <td>0</td>\n",
              "      <td>1</td>\n",
              "      <td>1</td>\n",
              "      <td>1</td>\n",
              "      <td>0</td>\n",
              "    </tr>\n",
              "  </tbody>\n",
              "</table>\n",
              "</div>"
            ],
            "text/plain": [
              "   Unnamed: 0  sim_content  ...  is_youtube_link_1  is_number_1\n",
              "0           0    -1.038590  ...                  0            0\n",
              "1           1    -1.103307  ...                  0            0\n",
              "2           2    -1.064844  ...                  1            0\n",
              "3           3    -0.936203  ...                  0            0\n",
              "4           4    -1.212501  ...                  1            0\n",
              "\n",
              "[5 rows x 23 columns]"
            ]
          },
          "metadata": {
            "tags": []
          },
          "execution_count": 4
        }
      ]
    },
    {
      "cell_type": "code",
      "metadata": {
        "id": "950b6e54",
        "colab": {
          "base_uri": "https://localhost:8080/"
        },
        "outputId": "178665cf-aae5-47de-813e-301b846de978"
      },
      "source": [
        "df.rename(columns={'Unnamed: 0':'id'},inplace=True)\n",
        "df.columns"
      ],
      "id": "950b6e54",
      "execution_count": 5,
      "outputs": [
        {
          "output_type": "execute_result",
          "data": {
            "text/plain": [
              "Index(['id', 'sim_content', 'sim_comment', 'word_count',\n",
              "       'duplicate_word_ratio', 'length_of_comment', 'stop_word_ratio',\n",
              "       'post_coment_gap', 'black_word_count', 'comment_duplication', 'is_spam',\n",
              "       'no_of_sentences_2', 'no_of_sentences_3', 'num_of_punctuations_1.0',\n",
              "       'num_of_punctuations_2.0', 'num_of_punctuations_3.0',\n",
              "       'num_of_punctuations_4.0', 'num_of_punctuations_5.0',\n",
              "       'num_of_punctuations_6.0', 'is_period_sequence_1', 'is_link_1',\n",
              "       'is_youtube_link_1', 'is_number_1'],\n",
              "      dtype='object')"
            ]
          },
          "metadata": {
            "tags": []
          },
          "execution_count": 5
        }
      ]
    },
    {
      "cell_type": "code",
      "metadata": {
        "id": "92aa9932"
      },
      "source": [
        "dfc = df.copy()"
      ],
      "id": "92aa9932",
      "execution_count": 6,
      "outputs": []
    },
    {
      "cell_type": "code",
      "metadata": {
        "id": "a9a8cc19"
      },
      "source": [
        "y = dfc['is_spam']\n",
        "X = dfc.drop(['is_spam','id'],axis=1)"
      ],
      "id": "a9a8cc19",
      "execution_count": 7,
      "outputs": []
    },
    {
      "cell_type": "code",
      "metadata": {
        "id": "77c6b8db"
      },
      "source": [
        ""
      ],
      "id": "77c6b8db",
      "execution_count": 7,
      "outputs": []
    },
    {
      "cell_type": "code",
      "metadata": {
        "id": "ad574072"
      },
      "source": [
        ""
      ],
      "id": "ad574072",
      "execution_count": 7,
      "outputs": []
    },
    {
      "cell_type": "markdown",
      "metadata": {
        "id": "d3a4539b"
      },
      "source": [
        "### Handle imbalance dataset"
      ],
      "id": "d3a4539b"
    },
    {
      "cell_type": "code",
      "metadata": {
        "id": "8fb98bef",
        "colab": {
          "base_uri": "https://localhost:8080/"
        },
        "outputId": "54dba516-50ed-4adb-a58b-a1f2c0b8c5e2"
      },
      "source": [
        "dfc['is_spam'].value_counts()"
      ],
      "id": "8fb98bef",
      "execution_count": 8,
      "outputs": [
        {
          "output_type": "execute_result",
          "data": {
            "text/plain": [
              "0    6255\n",
              "1     712\n",
              "Name: is_spam, dtype: int64"
            ]
          },
          "metadata": {
            "tags": []
          },
          "execution_count": 8
        }
      ]
    },
    {
      "cell_type": "code",
      "metadata": {
        "id": "20P5TsWiae7w",
        "outputId": "d406a6c5-60a7-42a9-f118-89fc4f178e77",
        "colab": {
          "base_uri": "https://localhost:8080/"
        }
      },
      "source": [
        "from imblearn.combine import SMOTETomek\n",
        "from collections import Counter\n",
        "\n",
        "os=SMOTETomek(1)\n",
        "X_os,y_os=os.fit_sample(X,y)\n",
        "print(\"The number of classes before fit {}\".format(Counter(y)))\n",
        "print(\"The number of classes after fit {}\".format(Counter(y_os)))\n",
        "\n",
        "X = X_os\n",
        "y = y_os"
      ],
      "id": "20P5TsWiae7w",
      "execution_count": 9,
      "outputs": [
        {
          "output_type": "stream",
          "text": [
            "/usr/local/lib/python3.7/dist-packages/sklearn/externals/six.py:31: FutureWarning: The module is deprecated in version 0.21 and will be removed in version 0.23 since we've dropped support for Python 2.7. Please rely on the official version of six (https://pypi.org/project/six/).\n",
            "  \"(https://pypi.org/project/six/).\", FutureWarning)\n",
            "/usr/local/lib/python3.7/dist-packages/sklearn/utils/deprecation.py:144: FutureWarning: The sklearn.neighbors.base module is  deprecated in version 0.22 and will be removed in version 0.24. The corresponding classes / functions should instead be imported from sklearn.neighbors. Anything that cannot be imported from sklearn.neighbors is now part of the private API.\n",
            "  warnings.warn(message, FutureWarning)\n",
            "/usr/local/lib/python3.7/dist-packages/sklearn/utils/deprecation.py:87: FutureWarning: Function safe_indexing is deprecated; safe_indexing is deprecated in version 0.22 and will be removed in version 0.24.\n",
            "  warnings.warn(msg, category=FutureWarning)\n"
          ],
          "name": "stderr"
        },
        {
          "output_type": "stream",
          "text": [
            "The number of classes before fit Counter({0: 6255, 1: 712})\n",
            "The number of classes after fit Counter({0: 6204, 1: 6204})\n"
          ],
          "name": "stdout"
        },
        {
          "output_type": "stream",
          "text": [
            "/usr/local/lib/python3.7/dist-packages/sklearn/utils/deprecation.py:87: FutureWarning: Function safe_indexing is deprecated; safe_indexing is deprecated in version 0.22 and will be removed in version 0.24.\n",
            "  warnings.warn(msg, category=FutureWarning)\n"
          ],
          "name": "stderr"
        }
      ]
    },
    {
      "cell_type": "code",
      "metadata": {
        "id": "10724c2d"
      },
      "source": [
        "from sklearn.model_selection import train_test_split\n",
        "X_train, X_test, y_train, y_test = train_test_split(X, y, test_size=0.3, random_state=42)"
      ],
      "id": "10724c2d",
      "execution_count": 10,
      "outputs": []
    },
    {
      "cell_type": "code",
      "metadata": {
        "id": "aNqkR8aRalud"
      },
      "source": [
        "from sklearn.preprocessing import StandardScaler\n",
        "scaler = StandardScaler().fit(X_train)\n",
        "X_train = scaler.transform(X_train) \n",
        "X_test = scaler.transform(X_test) "
      ],
      "id": "aNqkR8aRalud",
      "execution_count": 11,
      "outputs": []
    },
    {
      "cell_type": "markdown",
      "metadata": {
        "id": "24807a04"
      },
      "source": [
        "### Hyperparameter Tuning"
      ],
      "id": "24807a04"
    },
    {
      "cell_type": "code",
      "metadata": {
        "id": "bd0f4ae0"
      },
      "source": [
        "from sklearn.neighbors import KNeighborsClassifier\n",
        "knn = KNeighborsClassifier()"
      ],
      "id": "bd0f4ae0",
      "execution_count": 12,
      "outputs": []
    },
    {
      "cell_type": "code",
      "metadata": {
        "scrolled": true,
        "id": "df3d979d",
        "colab": {
          "base_uri": "https://localhost:8080/"
        },
        "outputId": "d105af58-4be1-43c6-9709-6d57058112fa"
      },
      "source": [
        "knn.get_params()"
      ],
      "id": "df3d979d",
      "execution_count": 13,
      "outputs": [
        {
          "output_type": "execute_result",
          "data": {
            "text/plain": [
              "{'algorithm': 'auto',\n",
              " 'leaf_size': 30,\n",
              " 'metric': 'minkowski',\n",
              " 'metric_params': None,\n",
              " 'n_jobs': None,\n",
              " 'n_neighbors': 5,\n",
              " 'p': 2,\n",
              " 'weights': 'uniform'}"
            ]
          },
          "metadata": {
            "tags": []
          },
          "execution_count": 13
        }
      ]
    },
    {
      "cell_type": "code",
      "metadata": {
        "id": "463ba824"
      },
      "source": [
        "grid = {\n",
        "   'algorithm': ['auto', 'ball_tree', 'kd_tree', 'brute'],\n",
        "    'leaf_size': [int(x) for x in range(1,70,2)],\n",
        " \n",
        "    'n_neighbors': [int(x) for x in range(5,80)],\n",
        "    'p': [1,2],\n",
        "    'weights':['uniform', 'distance']\n",
        "}"
      ],
      "id": "463ba824",
      "execution_count": 14,
      "outputs": []
    },
    {
      "cell_type": "code",
      "metadata": {
        "id": "f66ae185"
      },
      "source": [
        "from sklearn.model_selection import StratifiedKFold\n",
        "cv = StratifiedKFold(n_splits=10, shuffle=True) "
      ],
      "id": "f66ae185",
      "execution_count": 15,
      "outputs": []
    },
    {
      "cell_type": "code",
      "metadata": {
        "id": "f3301221"
      },
      "source": [
        "from sklearn.model_selection import RandomizedSearchCV\n",
        "knn_random = RandomizedSearchCV(estimator=knn, param_distributions=grid, n_jobs=-1,n_iter = 75, cv=cv, scoring='accuracy',error_score=0,return_train_score=True,verbose=2)"
      ],
      "id": "f3301221",
      "execution_count": 16,
      "outputs": []
    },
    {
      "cell_type": "code",
      "metadata": {
        "id": "5ac574c0",
        "colab": {
          "base_uri": "https://localhost:8080/"
        },
        "outputId": "0cd6bb72-6381-4528-b3e9-0ba62e049f90"
      },
      "source": [
        "knn_random.fit(X_train,y_train)"
      ],
      "id": "5ac574c0",
      "execution_count": 17,
      "outputs": [
        {
          "output_type": "stream",
          "text": [
            "Fitting 10 folds for each of 75 candidates, totalling 750 fits\n"
          ],
          "name": "stdout"
        },
        {
          "output_type": "stream",
          "text": [
            "[Parallel(n_jobs=-1)]: Using backend LokyBackend with 2 concurrent workers.\n",
            "[Parallel(n_jobs=-1)]: Done  37 tasks      | elapsed:  2.2min\n",
            "/usr/local/lib/python3.7/dist-packages/joblib/externals/loky/process_executor.py:691: UserWarning: A worker stopped while some jobs were given to the executor. This can be caused by a too short worker timeout or by a memory leak.\n",
            "  \"timeout or by a memory leak.\", UserWarning\n",
            "[Parallel(n_jobs=-1)]: Done 158 tasks      | elapsed:  6.1min\n",
            "[Parallel(n_jobs=-1)]: Done 361 tasks      | elapsed: 12.0min\n",
            "[Parallel(n_jobs=-1)]: Done 644 tasks      | elapsed: 23.2min\n",
            "[Parallel(n_jobs=-1)]: Done 750 out of 750 | elapsed: 26.0min finished\n"
          ],
          "name": "stderr"
        },
        {
          "output_type": "execute_result",
          "data": {
            "text/plain": [
              "RandomizedSearchCV(cv=StratifiedKFold(n_splits=10, random_state=None, shuffle=True),\n",
              "                   error_score=0,\n",
              "                   estimator=KNeighborsClassifier(algorithm='auto',\n",
              "                                                  leaf_size=30,\n",
              "                                                  metric='minkowski',\n",
              "                                                  metric_params=None,\n",
              "                                                  n_jobs=None, n_neighbors=5,\n",
              "                                                  p=2, weights='uniform'),\n",
              "                   iid='deprecated', n_iter=75, n_jobs=-1,\n",
              "                   param_distributions={'algorithm': ['auto', 'ball_tree',\n",
              "                                                      'kd_tree', 'brute'],\n",
              "                                        'leaf_size': [1, 3, 5, 7, 9, 11, 13, 15,\n",
              "                                                      17, 19, 21, 23, 25, 27,\n",
              "                                                      29, 31, 33, 35, 37, 39,\n",
              "                                                      41, 43, 45, 47, 49, 51,\n",
              "                                                      53, 55, 57, 59, ...],\n",
              "                                        'n_neighbors': [5, 6, 7, 8, 9, 10, 11,\n",
              "                                                        12, 13, 14, 15, 16, 17,\n",
              "                                                        18, 19, 20, 21, 22, 23,\n",
              "                                                        24, 25, 26, 27, 28, 29,\n",
              "                                                        30, 31, 32, 33, 34, ...],\n",
              "                                        'p': [1, 2],\n",
              "                                        'weights': ['uniform', 'distance']},\n",
              "                   pre_dispatch='2*n_jobs', random_state=None, refit=True,\n",
              "                   return_train_score=True, scoring='accuracy', verbose=2)"
            ]
          },
          "metadata": {
            "tags": []
          },
          "execution_count": 17
        }
      ]
    },
    {
      "cell_type": "markdown",
      "metadata": {
        "id": "8f18a994"
      },
      "source": [
        "### Evaluvate"
      ],
      "id": "8f18a994"
    },
    {
      "cell_type": "code",
      "metadata": {
        "id": "918586ba",
        "colab": {
          "base_uri": "https://localhost:8080/"
        },
        "outputId": "e394fcba-8481-437e-dfd0-030579fe6293"
      },
      "source": [
        "knn_random.best_score_"
      ],
      "id": "918586ba",
      "execution_count": 18,
      "outputs": [
        {
          "output_type": "execute_result",
          "data": {
            "text/plain": [
              "0.9594696748739213"
            ]
          },
          "metadata": {
            "tags": []
          },
          "execution_count": 18
        }
      ]
    },
    {
      "cell_type": "code",
      "metadata": {
        "id": "98eae247",
        "colab": {
          "base_uri": "https://localhost:8080/"
        },
        "outputId": "56870513-4594-443c-e570-940d78acaf98"
      },
      "source": [
        "knn_random.best_params_"
      ],
      "id": "98eae247",
      "execution_count": 19,
      "outputs": [
        {
          "output_type": "execute_result",
          "data": {
            "text/plain": [
              "{'algorithm': 'kd_tree',\n",
              " 'leaf_size': 25,\n",
              " 'n_neighbors': 5,\n",
              " 'p': 1,\n",
              " 'weights': 'distance'}"
            ]
          },
          "metadata": {
            "tags": []
          },
          "execution_count": 19
        }
      ]
    },
    {
      "cell_type": "code",
      "metadata": {
        "id": "61fd834d"
      },
      "source": [
        "best_model = knn_random.best_estimator_"
      ],
      "id": "61fd834d",
      "execution_count": 20,
      "outputs": []
    },
    {
      "cell_type": "code",
      "metadata": {
        "id": "c4aaaf63",
        "colab": {
          "base_uri": "https://localhost:8080/"
        },
        "outputId": "dc631998-48cb-45dc-dae5-897cbee17b0b"
      },
      "source": [
        "best_model"
      ],
      "id": "c4aaaf63",
      "execution_count": 21,
      "outputs": [
        {
          "output_type": "execute_result",
          "data": {
            "text/plain": [
              "KNeighborsClassifier(algorithm='kd_tree', leaf_size=25, metric='minkowski',\n",
              "                     metric_params=None, n_jobs=None, n_neighbors=5, p=1,\n",
              "                     weights='distance')"
            ]
          },
          "metadata": {
            "tags": []
          },
          "execution_count": 21
        }
      ]
    },
    {
      "cell_type": "code",
      "metadata": {
        "id": "97b27b2c"
      },
      "source": [
        "y_pred = best_model.predict(X_test)"
      ],
      "id": "97b27b2c",
      "execution_count": 22,
      "outputs": []
    },
    {
      "cell_type": "code",
      "metadata": {
        "id": "a1f3dea4"
      },
      "source": [
        "err = (y_pred - y_test)"
      ],
      "id": "a1f3dea4",
      "execution_count": 23,
      "outputs": []
    },
    {
      "cell_type": "code",
      "metadata": {
        "id": "6f955060"
      },
      "source": [
        "#err.value_counts().plot(kind='bar',color='yellow')"
      ],
      "id": "6f955060",
      "execution_count": 24,
      "outputs": []
    },
    {
      "cell_type": "code",
      "metadata": {
        "id": "4308d455",
        "colab": {
          "base_uri": "https://localhost:8080/"
        },
        "outputId": "8131eea2-cbc7-4c88-80d7-51ab91649cbc"
      },
      "source": [
        "from sklearn import metrics\n",
        "print('MAE:', metrics.mean_absolute_error(y_test,y_pred))\n",
        "print('MSE:', metrics.mean_squared_error(y_test, y_pred))\n",
        "print('RMSE:', np.sqrt(metrics.mean_squared_error(y_test, y_pred)))"
      ],
      "id": "4308d455",
      "execution_count": 25,
      "outputs": [
        {
          "output_type": "stream",
          "text": [
            "MAE: 0.04297609454740801\n",
            "MSE: 0.04297609454740801\n",
            "RMSE: 0.20730676435516524\n"
          ],
          "name": "stdout"
        }
      ]
    },
    {
      "cell_type": "code",
      "metadata": {
        "id": "c39529e0"
      },
      "source": [
        ""
      ],
      "id": "c39529e0",
      "execution_count": 25,
      "outputs": []
    },
    {
      "cell_type": "code",
      "metadata": {
        "id": "d7063ab4",
        "colab": {
          "base_uri": "https://localhost:8080/"
        },
        "outputId": "fa778f9d-6d29-4458-910f-bd0a385f09e9"
      },
      "source": [
        "from sklearn.metrics import classification_report, confusion_matrix\n",
        "print(confusion_matrix(y_test, y_pred))\n",
        "print(classification_report(y_test, y_pred))"
      ],
      "id": "d7063ab4",
      "execution_count": 26,
      "outputs": [
        {
          "output_type": "stream",
          "text": [
            "[[1762  118]\n",
            " [  42 1801]]\n",
            "              precision    recall  f1-score   support\n",
            "\n",
            "           0       0.98      0.94      0.96      1880\n",
            "           1       0.94      0.98      0.96      1843\n",
            "\n",
            "    accuracy                           0.96      3723\n",
            "   macro avg       0.96      0.96      0.96      3723\n",
            "weighted avg       0.96      0.96      0.96      3723\n",
            "\n"
          ],
          "name": "stdout"
        }
      ]
    },
    {
      "cell_type": "code",
      "metadata": {
        "id": "79fb2ef9"
      },
      "source": [
        ""
      ],
      "id": "79fb2ef9",
      "execution_count": 26,
      "outputs": []
    },
    {
      "cell_type": "code",
      "metadata": {
        "id": "d9f69df6"
      },
      "source": [
        "# for save the model if you want\n",
        "#import pickle\n",
        "# open a file, where you ant to store the data\n",
        "#file = open('random_forest_regression_model_v2.pkl', 'wb')\n",
        "# dump information to that file\n",
        "#pickle.dump(rf_random, file)"
      ],
      "id": "d9f69df6",
      "execution_count": 27,
      "outputs": []
    },
    {
      "cell_type": "code",
      "metadata": {
        "id": "e4b27cb2"
      },
      "source": [
        "# Best score 0.9143196528569003"
      ],
      "id": "e4b27cb2",
      "execution_count": 28,
      "outputs": []
    },
    {
      "cell_type": "markdown",
      "metadata": {
        "id": "b5dd2509"
      },
      "source": [
        "### ROC"
      ],
      "id": "b5dd2509"
    },
    {
      "cell_type": "code",
      "metadata": {
        "id": "4a3a693f",
        "colab": {
          "base_uri": "https://localhost:8080/",
          "height": 295
        },
        "outputId": "73ca6e72-4200-4fde-e5b4-65279a3fef7e"
      },
      "source": [
        "from sklearn import metrics\n",
        "from sklearn.metrics import roc_auc_score\n",
        "from sklearn.metrics import roc_curve\n",
        "\n",
        "baseline_roc_auc = roc_auc_score(y_test, best_model.predict(X_test))\n",
        "fprB, tprB, thresholdsB = roc_curve(y_test, best_model.predict_proba(X_test)[:,1])\n",
        "\n",
        "plt.figure()\n",
        "plt.plot(fprB, tprB, label='GB(area = %0.2f)' % baseline_roc_auc)\n",
        "plt.plot([0, 1], [0, 1],'r--')\n",
        "plt.xlim([0.0, 1.0])\n",
        "plt.ylim([0.0, 1.05])\n",
        "plt.xlabel('False Positive Rate')\n",
        "plt.ylabel('True Positive Rate')\n",
        "plt.title('Receiver operating characteristic')\n",
        "plt.legend(loc=\"lower right\")\n",
        "plt.show()"
      ],
      "id": "4a3a693f",
      "execution_count": 29,
      "outputs": [
        {
          "output_type": "display_data",
          "data": {
            "image/png": "[encoded data removed]",
            "text/plain": [
              "<Figure size 432x288 with 1 Axes>"
            ]
          },
          "metadata": {
            "tags": [],
            "needs_background": "light"
          }
        }
      ]
    },
    {
      "cell_type": "code",
      "metadata": {
        "id": "AJrUV7aFSXa0"
      },
      "source": [
        ""
      ],
      "id": "AJrUV7aFSXa0",
      "execution_count": 29,
      "outputs": []
    },
    {
      "cell_type": "markdown",
      "metadata": {
        "id": "2mjDiut_SlI7"
      },
      "source": [
        "\n",
        "**Recall - presicion with threshold values**"
      ],
      "id": "2mjDiut_SlI7"
    },
    {
      "cell_type": "code",
      "metadata": {
        "id": "EuT-w4YESn3K",
        "colab": {
          "base_uri": "https://localhost:8080/",
          "height": 312
        },
        "outputId": "ef4bb410-a414-4cae-ff95-56f437f492d8"
      },
      "source": [
        "### Predict test_y values and probabilities based on random forest model\n",
        "probs_y=best_model.predict_proba(X_test) \n",
        "  # probs_y is a 2-D array of probability of being labeled as 0 (first column of array) vs 1 (2nd column in array)\n",
        "\n",
        "from sklearn.metrics import precision_recall_curve\n",
        "precision, recall, thresholds = precision_recall_curve(y_test, probs_y[:, 1]) \n",
        "   #retrieve probability of being 1(in second column of probs_y)\n",
        "pr_auc = metrics.auc(recall, precision)\n",
        "\n",
        "plt.title(\"Precision-Recall vs Threshold Chart\")\n",
        "plt.plot(thresholds, precision[: -1], \"b--\", label=\"Precision\")\n",
        "plt.plot(thresholds, recall[: -1], \"r--\", label=\"Recall\")\n",
        "plt.ylabel(\"Precision, Recall\")\n",
        "plt.xlabel(\"Threshold\")\n",
        "plt.legend(loc=\"lower left\")\n",
        "plt.ylim([0,1])"
      ],
      "id": "EuT-w4YESn3K",
      "execution_count": 30,
      "outputs": [
        {
          "output_type": "execute_result",
          "data": {
            "text/plain": [
              "(0.0, 1.0)"
            ]
          },
          "metadata": {
            "tags": []
          },
          "execution_count": 30
        },
        {
          "output_type": "display_data",
          "data": {
            "image/png": "[encoded data removed]",
            "text/plain": [
              "<Figure size 432x288 with 1 Axes>"
            ]
          },
          "metadata": {
            "tags": [],
            "needs_background": "light"
          }
        }
      ]
    },
    {
      "cell_type": "code",
      "metadata": {
        "id": "ySLdIIY5SrEr"
      },
      "source": [
        "import pickle\n",
        "#open a file, where you ant to store the data\n",
        "file = open('knn_Classifier.pkl', 'wb')\n",
        "# dump information to that file\n",
        "pickle.dump(best_model, file)"
      ],
      "id": "ySLdIIY5SrEr",
      "execution_count": 31,
      "outputs": []
    },
    {
      "cell_type": "markdown",
      "metadata": {
        "id": "e_k6Gnr1Dnup"
      },
      "source": [
        "# New Section"
      ],
      "id": "e_k6Gnr1Dnup"
    },
    {
      "cell_type": "markdown",
      "metadata": {
        "id": "TZHf_GKCD2Yb"
      },
      "source": [
        "# New Section"
      ],
      "id": "TZHf_GKCD2Yb"
    },
    {
      "cell_type": "markdown",
      "metadata": {
        "id": "rfaNXdj2EFBj"
      },
      "source": [
        "# New Section"
      ],
      "id": "rfaNXdj2EFBj"
    }
  ]
}