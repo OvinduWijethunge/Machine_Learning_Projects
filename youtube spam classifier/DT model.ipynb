{
  "nbformat": 4,
  "nbformat_minor": 5,
  "metadata": {
    "kernelspec": {
      "display_name": "Python 3",
      "language": "python",
      "name": "python3"
    },
    "language_info": {
      "codemirror_mode": {
        "name": "ipython",
        "version": 3
      },
      "file_extension": ".py",
      "mimetype": "text/x-python",
      "name": "python",
      "nbconvert_exporter": "python",
      "pygments_lexer": "ipython3",
      "version": "3.7.9"
    },
    "colab": {
      "name": "DT model.ipynb",
      "provenance": [],
      "toc_visible": true,
      "include_colab_link": true
    },
    "accelerator": "GPU"
  },
  "cells": [
    {
      "cell_type": "markdown",
      "metadata": {
        "id": "view-in-github",
        "colab_type": "text"
      },
      "source": [
        "<a href=\"https://colab.research.google.com/github/OvinduWijethunge/Machine_Learning_Projects/blob/version-1/youtube%20spam%20classifier/DT%20model.ipynb\" target=\"_parent\"><img src=\"https://colab.research.google.com/assets/colab-badge.svg\" alt=\"Open In Colab\"/></a>"
      ]
    },
    {
      "cell_type": "code",
      "metadata": {
        "id": "3dd68a27"
      },
      "source": [
        "import pandas as pd\n",
        "import numpy as np\n",
        "import matplotlib.pyplot as plt\n",
        "import seaborn as sns"
      ],
      "id": "3dd68a27",
      "execution_count": null,
      "outputs": []
    },
    {
      "cell_type": "code",
      "metadata": {
        "id": "962144d3"
      },
      "source": [
        "#df = pd.read_csv('model.csv')\n",
        "url = 'https://raw.githubusercontent.com/OvinduWijethunge/Machine_Learning_Projects/master/youtube%20spam%20classifier/models.csv'\n",
        "df = pd.read_csv(url)"
      ],
      "id": "962144d3",
      "execution_count": null,
      "outputs": []
    },
    {
      "cell_type": "code",
      "metadata": {
        "id": "e1ff825b",
        "colab": {
          "base_uri": "https://localhost:8080/",
          "height": 232
        },
        "outputId": "a50bd72d-0eb4-44e8-9681-94486b5111ea"
      },
      "source": [
        "df.head()"
      ],
      "id": "e1ff825b",
      "execution_count": null,
      "outputs": [
        {
          "output_type": "execute_result",
          "data": {
            "text/html": [
              "<div>\n",
              "<style scoped>\n",
              "    .dataframe tbody tr th:only-of-type {\n",
              "        vertical-align: middle;\n",
              "    }\n",
              "\n",
              "    .dataframe tbody tr th {\n",
              "        vertical-align: top;\n",
              "    }\n",
              "\n",
              "    .dataframe thead th {\n",
              "        text-align: right;\n",
              "    }\n",
              "</style>\n",
              "<table border=\"1\" class=\"dataframe\">\n",
              "  <thead>\n",
              "    <tr style=\"text-align: right;\">\n",
              "      <th></th>\n",
              "      <th>Unnamed: 0</th>\n",
              "      <th>sim_content</th>\n",
              "      <th>sim_comment</th>\n",
              "      <th>word_count</th>\n",
              "      <th>duplicate_word_ratio</th>\n",
              "      <th>length_of_comment</th>\n",
              "      <th>stop_word_ratio</th>\n",
              "      <th>post_coment_gap</th>\n",
              "      <th>black_word_count</th>\n",
              "      <th>comment_duplication</th>\n",
              "      <th>is_spam</th>\n",
              "      <th>no_of_sentences_2</th>\n",
              "      <th>no_of_sentences_3</th>\n",
              "      <th>num_of_punctuations_1.0</th>\n",
              "      <th>num_of_punctuations_2.0</th>\n",
              "      <th>num_of_punctuations_3.0</th>\n",
              "      <th>num_of_punctuations_4.0</th>\n",
              "      <th>num_of_punctuations_5.0</th>\n",
              "      <th>num_of_punctuations_6.0</th>\n",
              "      <th>is_period_sequence_1</th>\n",
              "      <th>is_link_1</th>\n",
              "      <th>is_youtube_link_1</th>\n",
              "      <th>is_number_1</th>\n",
              "    </tr>\n",
              "  </thead>\n",
              "  <tbody>\n",
              "    <tr>\n",
              "      <th>0</th>\n",
              "      <td>0</td>\n",
              "      <td>-1.038590</td>\n",
              "      <td>-0.870409</td>\n",
              "      <td>1.866549</td>\n",
              "      <td>0.0000</td>\n",
              "      <td>4.274240</td>\n",
              "      <td>0.000000</td>\n",
              "      <td>13.337643</td>\n",
              "      <td>0.222222</td>\n",
              "      <td>0.0</td>\n",
              "      <td>0</td>\n",
              "      <td>0</td>\n",
              "      <td>0</td>\n",
              "      <td>0</td>\n",
              "      <td>0</td>\n",
              "      <td>0</td>\n",
              "      <td>0</td>\n",
              "      <td>0</td>\n",
              "      <td>0</td>\n",
              "      <td>0</td>\n",
              "      <td>0</td>\n",
              "      <td>0</td>\n",
              "      <td>0</td>\n",
              "    </tr>\n",
              "    <tr>\n",
              "      <th>1</th>\n",
              "      <td>1</td>\n",
              "      <td>-1.103307</td>\n",
              "      <td>-0.971247</td>\n",
              "      <td>1.866549</td>\n",
              "      <td>0.0000</td>\n",
              "      <td>4.555200</td>\n",
              "      <td>0.111111</td>\n",
              "      <td>29.017218</td>\n",
              "      <td>0.000000</td>\n",
              "      <td>0.0</td>\n",
              "      <td>0</td>\n",
              "      <td>1</td>\n",
              "      <td>0</td>\n",
              "      <td>0</td>\n",
              "      <td>1</td>\n",
              "      <td>0</td>\n",
              "      <td>0</td>\n",
              "      <td>0</td>\n",
              "      <td>0</td>\n",
              "      <td>0</td>\n",
              "      <td>0</td>\n",
              "      <td>0</td>\n",
              "      <td>0</td>\n",
              "    </tr>\n",
              "    <tr>\n",
              "      <th>2</th>\n",
              "      <td>2</td>\n",
              "      <td>-1.064844</td>\n",
              "      <td>-0.957045</td>\n",
              "      <td>2.260334</td>\n",
              "      <td>0.0625</td>\n",
              "      <td>5.086086</td>\n",
              "      <td>0.062500</td>\n",
              "      <td>29.017218</td>\n",
              "      <td>0.125000</td>\n",
              "      <td>0.0</td>\n",
              "      <td>1</td>\n",
              "      <td>0</td>\n",
              "      <td>1</td>\n",
              "      <td>0</td>\n",
              "      <td>0</td>\n",
              "      <td>0</td>\n",
              "      <td>1</td>\n",
              "      <td>0</td>\n",
              "      <td>0</td>\n",
              "      <td>0</td>\n",
              "      <td>1</td>\n",
              "      <td>1</td>\n",
              "      <td>0</td>\n",
              "    </tr>\n",
              "    <tr>\n",
              "      <th>3</th>\n",
              "      <td>3</td>\n",
              "      <td>-0.936203</td>\n",
              "      <td>-0.910982</td>\n",
              "      <td>1.683387</td>\n",
              "      <td>0.0000</td>\n",
              "      <td>3.982309</td>\n",
              "      <td>0.142857</td>\n",
              "      <td>29.017218</td>\n",
              "      <td>0.142857</td>\n",
              "      <td>0.0</td>\n",
              "      <td>0</td>\n",
              "      <td>0</td>\n",
              "      <td>0</td>\n",
              "      <td>0</td>\n",
              "      <td>0</td>\n",
              "      <td>0</td>\n",
              "      <td>0</td>\n",
              "      <td>0</td>\n",
              "      <td>0</td>\n",
              "      <td>0</td>\n",
              "      <td>0</td>\n",
              "      <td>0</td>\n",
              "      <td>0</td>\n",
              "    </tr>\n",
              "    <tr>\n",
              "      <th>4</th>\n",
              "      <td>4</td>\n",
              "      <td>-1.212501</td>\n",
              "      <td>-1.085031</td>\n",
              "      <td>2.122197</td>\n",
              "      <td>0.0000</td>\n",
              "      <td>4.920915</td>\n",
              "      <td>0.000000</td>\n",
              "      <td>29.017218</td>\n",
              "      <td>0.076923</td>\n",
              "      <td>0.0</td>\n",
              "      <td>1</td>\n",
              "      <td>1</td>\n",
              "      <td>0</td>\n",
              "      <td>0</td>\n",
              "      <td>0</td>\n",
              "      <td>0</td>\n",
              "      <td>1</td>\n",
              "      <td>0</td>\n",
              "      <td>0</td>\n",
              "      <td>1</td>\n",
              "      <td>1</td>\n",
              "      <td>1</td>\n",
              "      <td>0</td>\n",
              "    </tr>\n",
              "  </tbody>\n",
              "</table>\n",
              "</div>"
            ],
            "text/plain": [
              "   Unnamed: 0  sim_content  ...  is_youtube_link_1  is_number_1\n",
              "0           0    -1.038590  ...                  0            0\n",
              "1           1    -1.103307  ...                  0            0\n",
              "2           2    -1.064844  ...                  1            0\n",
              "3           3    -0.936203  ...                  0            0\n",
              "4           4    -1.212501  ...                  1            0\n",
              "\n",
              "[5 rows x 23 columns]"
            ]
          },
          "metadata": {
            "tags": []
          },
          "execution_count": 26
        }
      ]
    },
    {
      "cell_type": "code",
      "metadata": {
        "id": "6dcc51a2",
        "colab": {
          "base_uri": "https://localhost:8080/"
        },
        "outputId": "8d393155-b050-4c87-f91c-8d3ff26677bb"
      },
      "source": [
        "df.rename(columns={'Unnamed: 0':'id'},inplace=True)\n",
        "df.columns"
      ],
      "id": "6dcc51a2",
      "execution_count": null,
      "outputs": [
        {
          "output_type": "execute_result",
          "data": {
            "text/plain": [
              "Index(['id', 'sim_content', 'sim_comment', 'word_count',\n",
              "       'duplicate_word_ratio', 'length_of_comment', 'stop_word_ratio',\n",
              "       'post_coment_gap', 'black_word_count', 'comment_duplication', 'is_spam',\n",
              "       'no_of_sentences_2', 'no_of_sentences_3', 'num_of_punctuations_1.0',\n",
              "       'num_of_punctuations_2.0', 'num_of_punctuations_3.0',\n",
              "       'num_of_punctuations_4.0', 'num_of_punctuations_5.0',\n",
              "       'num_of_punctuations_6.0', 'is_period_sequence_1', 'is_link_1',\n",
              "       'is_youtube_link_1', 'is_number_1'],\n",
              "      dtype='object')"
            ]
          },
          "metadata": {
            "tags": []
          },
          "execution_count": 27
        }
      ]
    },
    {
      "cell_type": "markdown",
      "metadata": {
        "id": "91ffb624"
      },
      "source": [
        "#### Standardization  is no need for decision tree"
      ],
      "id": "91ffb624"
    },
    {
      "cell_type": "code",
      "metadata": {
        "id": "3e3c4c7d"
      },
      "source": [
        "dfc = df.copy()"
      ],
      "id": "3e3c4c7d",
      "execution_count": null,
      "outputs": []
    },
    {
      "cell_type": "code",
      "metadata": {
        "id": "4bea3d7f"
      },
      "source": [
        "y = dfc['is_spam']\n",
        "X = dfc.drop(['is_spam','id'],axis=1)"
      ],
      "id": "4bea3d7f",
      "execution_count": null,
      "outputs": []
    },
    {
      "cell_type": "code",
      "metadata": {
        "id": "2131406a"
      },
      "source": [
        ""
      ],
      "id": "2131406a",
      "execution_count": null,
      "outputs": []
    },
    {
      "cell_type": "markdown",
      "metadata": {
        "id": "ac5fadcd"
      },
      "source": [
        "#### Handle imbalnce dataset"
      ],
      "id": "ac5fadcd"
    },
    {
      "cell_type": "code",
      "metadata": {
        "id": "bed6c38b",
        "colab": {
          "base_uri": "https://localhost:8080/"
        },
        "outputId": "556e36ab-601a-44a1-f31d-733e36a60402"
      },
      "source": [
        "dfc['is_spam'].value_counts()"
      ],
      "id": "bed6c38b",
      "execution_count": null,
      "outputs": [
        {
          "output_type": "execute_result",
          "data": {
            "text/plain": [
              "0    6255\n",
              "1     712\n",
              "Name: is_spam, dtype: int64"
            ]
          },
          "metadata": {
            "tags": []
          },
          "execution_count": 30
        }
      ]
    },
    {
      "cell_type": "code",
      "metadata": {
        "id": "41d01d73",
        "colab": {
          "base_uri": "https://localhost:8080/"
        },
        "outputId": "b06ee504-4de9-40a3-995a-dfc71b8a1db1"
      },
      "source": [
        "from imblearn.over_sampling import RandomOverSampler\n",
        "from collections import Counter\n",
        "\n",
        "os=RandomOverSampler(0.9)\n",
        "X_ns,y_ns=os.fit_sample(X,y)\n",
        "print(\"The number of classes before fit {}\".format(Counter(y)))\n",
        "print(\"The number of classes after fit {}\".format(Counter(y_ns)))\n",
        "\n",
        "X = X_ns\n",
        "y = y_ns"
      ],
      "id": "41d01d73",
      "execution_count": null,
      "outputs": [
        {
          "output_type": "stream",
          "text": [
            "The number of classes before fit Counter({0: 6255, 1: 712})\n",
            "The number of classes after fit Counter({0: 6255, 1: 5629})\n"
          ],
          "name": "stdout"
        },
        {
          "output_type": "stream",
          "text": [
            "/usr/local/lib/python3.7/dist-packages/sklearn/utils/deprecation.py:87: FutureWarning: Function safe_indexing is deprecated; safe_indexing is deprecated in version 0.22 and will be removed in version 0.24.\n",
            "  warnings.warn(msg, category=FutureWarning)\n"
          ],
          "name": "stderr"
        }
      ]
    },
    {
      "cell_type": "code",
      "metadata": {
        "id": "M1jfV4xHANmO"
      },
      "source": [
        "from sklearn.model_selection import train_test_split\n",
        "X_train, X_test, y_train, y_test = train_test_split(X, y, test_size=0.3, random_state=42)"
      ],
      "id": "M1jfV4xHANmO",
      "execution_count": null,
      "outputs": []
    },
    {
      "cell_type": "markdown",
      "metadata": {
        "id": "71f4524b"
      },
      "source": [
        "#### Hyperparameter Tuninng"
      ],
      "id": "71f4524b"
    },
    {
      "cell_type": "code",
      "metadata": {
        "id": "a1f833fc"
      },
      "source": [
        "from sklearn import tree"
      ],
      "id": "a1f833fc",
      "execution_count": null,
      "outputs": []
    },
    {
      "cell_type": "code",
      "metadata": {
        "id": "d1b34a34"
      },
      "source": [
        "dt = tree.DecisionTreeClassifier()"
      ],
      "id": "d1b34a34",
      "execution_count": null,
      "outputs": []
    },
    {
      "cell_type": "code",
      "metadata": {
        "id": "db4203ba",
        "colab": {
          "base_uri": "https://localhost:8080/"
        },
        "outputId": "c16b1df8-c16b-4358-ce17-e44bb391d3bf"
      },
      "source": [
        "dt.get_params()"
      ],
      "id": "db4203ba",
      "execution_count": null,
      "outputs": [
        {
          "output_type": "execute_result",
          "data": {
            "text/plain": [
              "{'ccp_alpha': 0.0,\n",
              " 'class_weight': None,\n",
              " 'criterion': 'gini',\n",
              " 'max_depth': None,\n",
              " 'max_features': None,\n",
              " 'max_leaf_nodes': None,\n",
              " 'min_impurity_decrease': 0.0,\n",
              " 'min_impurity_split': None,\n",
              " 'min_samples_leaf': 1,\n",
              " 'min_samples_split': 2,\n",
              " 'min_weight_fraction_leaf': 0.0,\n",
              " 'presort': 'deprecated',\n",
              " 'random_state': None,\n",
              " 'splitter': 'best'}"
            ]
          },
          "metadata": {
            "tags": []
          },
          "execution_count": 35
        }
      ]
    },
    {
      "cell_type": "code",
      "metadata": {
        "id": "3943cfc7"
      },
      "source": [
        "grid = {\n",
        "    'criterion' : [\"gini\", \"entropy\"], \n",
        "    'splitter':[\"best\", \"random\"],\n",
        "    'max_depth' :[2,4,6,8,10,12],\n",
        "    \n",
        "    \n",
        "}"
      ],
      "id": "3943cfc7",
      "execution_count": null,
      "outputs": []
    },
    {
      "cell_type": "code",
      "metadata": {
        "id": "87a3f26b"
      },
      "source": [
        "from sklearn.model_selection import StratifiedKFold\n",
        "cv = StratifiedKFold(n_splits=10, shuffle=True)"
      ],
      "id": "87a3f26b",
      "execution_count": null,
      "outputs": []
    },
    {
      "cell_type": "code",
      "metadata": {
        "id": "f166889f"
      },
      "source": [
        "from sklearn.model_selection import RandomizedSearchCV\n",
        "dt_random = RandomizedSearchCV(estimator=dt, param_distributions=grid, n_jobs=-1,n_iter = 100, cv=cv, scoring='accuracy',error_score=0,return_train_score=True,verbose=2)"
      ],
      "id": "f166889f",
      "execution_count": null,
      "outputs": []
    },
    {
      "cell_type": "code",
      "metadata": {
        "id": "233b1404",
        "colab": {
          "base_uri": "https://localhost:8080/"
        },
        "outputId": "87672d6f-4ea1-4f06-9410-2a497ab4438b"
      },
      "source": [
        "dt_random.fit(X_train,y_train)"
      ],
      "id": "233b1404",
      "execution_count": null,
      "outputs": [
        {
          "output_type": "stream",
          "text": [
            "/usr/local/lib/python3.7/dist-packages/sklearn/model_selection/_search.py:281: UserWarning: The total space of parameters 24 is smaller than n_iter=100. Running 24 iterations. For exhaustive searches, use GridSearchCV.\n",
            "  % (grid_size, self.n_iter, grid_size), UserWarning)\n",
            "[Parallel(n_jobs=-1)]: Using backend LokyBackend with 2 concurrent workers.\n"
          ],
          "name": "stderr"
        },
        {
          "output_type": "stream",
          "text": [
            "Fitting 10 folds for each of 24 candidates, totalling 240 fits\n"
          ],
          "name": "stdout"
        },
        {
          "output_type": "stream",
          "text": [
            "[Parallel(n_jobs=-1)]: Done 228 tasks      | elapsed:    4.0s\n",
            "[Parallel(n_jobs=-1)]: Done 240 out of 240 | elapsed:    4.3s finished\n"
          ],
          "name": "stderr"
        },
        {
          "output_type": "execute_result",
          "data": {
            "text/plain": [
              "RandomizedSearchCV(cv=StratifiedKFold(n_splits=10, random_state=None, shuffle=True),\n",
              "                   error_score=0,\n",
              "                   estimator=DecisionTreeClassifier(ccp_alpha=0.0,\n",
              "                                                    class_weight=None,\n",
              "                                                    criterion='gini',\n",
              "                                                    max_depth=None,\n",
              "                                                    max_features=None,\n",
              "                                                    max_leaf_nodes=None,\n",
              "                                                    min_impurity_decrease=0.0,\n",
              "                                                    min_impurity_split=None,\n",
              "                                                    min_samples_leaf=1,\n",
              "                                                    min_samples_split=2,\n",
              "                                                    min_weight_fraction_leaf=0.0,\n",
              "                                                    presort='deprecated',\n",
              "                                                    random_state=None,\n",
              "                                                    splitter='best'),\n",
              "                   iid='deprecated', n_iter=100, n_jobs=-1,\n",
              "                   param_distributions={'criterion': ['gini', 'entropy'],\n",
              "                                        'max_depth': [2, 4, 6, 8, 10, 12],\n",
              "                                        'splitter': ['best', 'random']},\n",
              "                   pre_dispatch='2*n_jobs', random_state=None, refit=True,\n",
              "                   return_train_score=True, scoring='accuracy', verbose=2)"
            ]
          },
          "metadata": {
            "tags": []
          },
          "execution_count": 39
        }
      ]
    },
    {
      "cell_type": "markdown",
      "metadata": {
        "id": "1b0851c4"
      },
      "source": [
        "#### Evaluvate"
      ],
      "id": "1b0851c4"
    },
    {
      "cell_type": "code",
      "metadata": {
        "id": "4cf6e4e7",
        "colab": {
          "base_uri": "https://localhost:8080/"
        },
        "outputId": "c0020675-8405-4449-bff4-a295411fe682"
      },
      "source": [
        "dt_random.best_params_"
      ],
      "id": "4cf6e4e7",
      "execution_count": null,
      "outputs": [
        {
          "output_type": "execute_result",
          "data": {
            "text/plain": [
              "{'criterion': 'gini', 'max_depth': 12, 'splitter': 'best'}"
            ]
          },
          "metadata": {
            "tags": []
          },
          "execution_count": 40
        }
      ]
    },
    {
      "cell_type": "code",
      "metadata": {
        "id": "d2ab2bab"
      },
      "source": [
        "best_model = dt_random.best_estimator_"
      ],
      "id": "d2ab2bab",
      "execution_count": null,
      "outputs": []
    },
    {
      "cell_type": "code",
      "metadata": {
        "id": "fc4f7353",
        "colab": {
          "base_uri": "https://localhost:8080/"
        },
        "outputId": "6d1ae533-6f14-453e-8e3c-0e457760ec58"
      },
      "source": [
        "best_model"
      ],
      "id": "fc4f7353",
      "execution_count": null,
      "outputs": [
        {
          "output_type": "execute_result",
          "data": {
            "text/plain": [
              "DecisionTreeClassifier(ccp_alpha=0.0, class_weight=None, criterion='gini',\n",
              "                       max_depth=12, max_features=None, max_leaf_nodes=None,\n",
              "                       min_impurity_decrease=0.0, min_impurity_split=None,\n",
              "                       min_samples_leaf=1, min_samples_split=2,\n",
              "                       min_weight_fraction_leaf=0.0, presort='deprecated',\n",
              "                       random_state=None, splitter='best')"
            ]
          },
          "metadata": {
            "tags": []
          },
          "execution_count": 42
        }
      ]
    },
    {
      "cell_type": "code",
      "metadata": {
        "id": "f9e9fbbf",
        "colab": {
          "base_uri": "https://localhost:8080/"
        },
        "outputId": "3651d5e6-41c7-4915-b8fb-66b783cb0e0c"
      },
      "source": [
        "dt_random.best_score_"
      ],
      "id": "f9e9fbbf",
      "execution_count": null,
      "outputs": [
        {
          "output_type": "execute_result",
          "data": {
            "text/plain": [
              "0.9466214535314265"
            ]
          },
          "metadata": {
            "tags": []
          },
          "execution_count": 43
        }
      ]
    },
    {
      "cell_type": "code",
      "metadata": {
        "id": "30ef2ac2"
      },
      "source": [
        "y_pred = best_model.predict(X_test)"
      ],
      "id": "30ef2ac2",
      "execution_count": null,
      "outputs": []
    },
    {
      "cell_type": "code",
      "metadata": {
        "id": "7325f3f5"
      },
      "source": [
        "err  =(y_pred- y_test)"
      ],
      "id": "7325f3f5",
      "execution_count": null,
      "outputs": []
    },
    {
      "cell_type": "code",
      "metadata": {
        "id": "01614cc0"
      },
      "source": [
        "#err.value_counts().plot(kind='bar',color='green')"
      ],
      "id": "01614cc0",
      "execution_count": null,
      "outputs": []
    },
    {
      "cell_type": "code",
      "metadata": {
        "id": "2fc16076",
        "colab": {
          "base_uri": "https://localhost:8080/"
        },
        "outputId": "8c20f39b-634e-4830-d33a-d74380c0a9c6"
      },
      "source": [
        "from sklearn import metrics\n",
        "print('MAE:', metrics.mean_absolute_error(y_test,y_pred))\n",
        "print('MSE:', metrics.mean_squared_error(y_test, y_pred))\n",
        "print('RMSE:', np.sqrt(metrics.mean_squared_error(y_test, y_pred)))"
      ],
      "id": "2fc16076",
      "execution_count": null,
      "outputs": [
        {
          "output_type": "stream",
          "text": [
            "MAE: 0.05215928210880538\n",
            "MSE: 0.05215928210880538\n",
            "RMSE: 0.2283840671080305\n"
          ],
          "name": "stdout"
        }
      ]
    },
    {
      "cell_type": "code",
      "metadata": {
        "id": "2d949170"
      },
      "source": [
        "#indices=list(X_train)\n",
        "#feat_imp = pd.Series(best_model.feature_importances_, indices).sort_values(ascending=False)\n",
        "#feat_imp.plot(kind='bar', title='Importance of Features')\n",
        "#plt.ylabel('Feature Importance Score')"
      ],
      "id": "2d949170",
      "execution_count": null,
      "outputs": []
    },
    {
      "cell_type": "code",
      "metadata": {
        "id": "db2033aa",
        "colab": {
          "base_uri": "https://localhost:8080/"
        },
        "outputId": "bbf80f96-b4c0-4e06-d25e-334fa5118af8"
      },
      "source": [
        "from sklearn.metrics import classification_report, confusion_matrix\n",
        "print(confusion_matrix(y_test, y_pred))\n",
        "print(classification_report(y_test, y_pred))"
      ],
      "id": "db2033aa",
      "execution_count": null,
      "outputs": [
        {
          "output_type": "stream",
          "text": [
            "[[1758  141]\n",
            " [  45 1622]]\n",
            "              precision    recall  f1-score   support\n",
            "\n",
            "           0       0.98      0.93      0.95      1899\n",
            "           1       0.92      0.97      0.95      1667\n",
            "\n",
            "    accuracy                           0.95      3566\n",
            "   macro avg       0.95      0.95      0.95      3566\n",
            "weighted avg       0.95      0.95      0.95      3566\n",
            "\n"
          ],
          "name": "stdout"
        }
      ]
    },
    {
      "cell_type": "code",
      "metadata": {
        "id": "63f8e01f"
      },
      "source": [
        "#import pickle\n",
        "# open a file, where you ant to store the data\n",
        "#file = open('random_forest_regression_model_v2.pkl', 'wb')\n",
        "# dump information to that file\n",
        "#pickle.dump(rf_random, file)"
      ],
      "id": "63f8e01f",
      "execution_count": null,
      "outputs": []
    },
    {
      "cell_type": "markdown",
      "metadata": {
        "id": "49216530"
      },
      "source": [
        "### ROC"
      ],
      "id": "49216530"
    },
    {
      "cell_type": "code",
      "metadata": {
        "id": "7a3644be",
        "colab": {
          "base_uri": "https://localhost:8080/",
          "height": 295
        },
        "outputId": "a3ca97cd-1f5a-4b62-b915-9632744c1e49"
      },
      "source": [
        "from sklearn import metrics\n",
        "from sklearn.metrics import roc_auc_score\n",
        "from sklearn.metrics import roc_curve\n",
        "\n",
        "baseline_roc_auc = roc_auc_score(y_test, best_model.predict(X_test))\n",
        "fprB, tprB, thresholdsB = roc_curve(y_test, best_model.predict_proba(X_test)[:,1])\n",
        "\n",
        "plt.figure()\n",
        "plt.plot(fprB, tprB, label='GB(area = %0.2f)' % baseline_roc_auc)\n",
        "plt.plot([0, 1], [0, 1],'r--')\n",
        "plt.xlim([0.0, 1.0])\n",
        "plt.ylim([0.0, 1.05])\n",
        "plt.xlabel('False Positive Rate')\n",
        "plt.ylabel('True Positive Rate')\n",
        "plt.title('Receiver operating characteristic')\n",
        "plt.legend(loc=\"lower right\")\n",
        "plt.show()"
      ],
      "id": "7a3644be",
      "execution_count": null,
      "outputs": [
        {
          "output_type": "display_data",
          "data": {
            "image/png": "[encoded data removed]",
            "text/plain": [
              "<Figure size 432x288 with 1 Axes>"
            ]
          },
          "metadata": {
            "tags": [],
            "needs_background": "light"
          }
        }
      ]
    },
    {
      "cell_type": "markdown",
      "metadata": {
        "id": "Rm555cHPepZQ"
      },
      "source": [
        "### Recall - presicion with threshold values"
      ],
      "id": "Rm555cHPepZQ"
    },
    {
      "cell_type": "code",
      "metadata": {
        "id": "GZ7ZjbDAenPh",
        "colab": {
          "base_uri": "https://localhost:8080/",
          "height": 312
        },
        "outputId": "180f1462-1ed1-44f2-9664-ec25437cdf84"
      },
      "source": [
        "### Predict test_y values and probabilities based on random forest model\n",
        "probs_y=best_model.predict_proba(X_test) \n",
        "  # probs_y is a 2-D array of probability of being labeled as 0 (first column of array) vs 1 (2nd column in array)\n",
        "\n",
        "from sklearn.metrics import precision_recall_curve\n",
        "precision, recall, thresholds = precision_recall_curve(y_test, probs_y[:, 1]) \n",
        "   #retrieve probability of being 1(in second column of probs_y)\n",
        "pr_auc = metrics.auc(recall, precision)\n",
        "\n",
        "plt.title(\"Precision-Recall vs Threshold Chart\")\n",
        "plt.plot(thresholds, precision[: -1], \"b--\", label=\"Precision\")\n",
        "plt.plot(thresholds, recall[: -1], \"r--\", label=\"Recall\")\n",
        "plt.ylabel(\"Precision, Recall\")\n",
        "plt.xlabel(\"Threshold\")\n",
        "plt.legend(loc=\"lower left\")\n",
        "plt.ylim([0,1])"
      ],
      "id": "GZ7ZjbDAenPh",
      "execution_count": null,
      "outputs": [
        {
          "output_type": "execute_result",
          "data": {
            "text/plain": [
              "(0.0, 1.0)"
            ]
          },
          "metadata": {
            "tags": []
          },
          "execution_count": 52
        },
        {
          "output_type": "display_data",
          "data": {
            "image/png": "[encoded data removed]",
            "text/plain": [
              "<Figure size 432x288 with 1 Axes>"
            ]
          },
          "metadata": {
            "tags": [],
            "needs_background": "light"
          }
        }
      ]
    },
    {
      "cell_type": "code",
      "metadata": {
        "id": "Vae259wAeyqx"
      },
      "source": [
        "import pickle\n",
        "#open a file, where you ant to store the data\n",
        "file = open('model.pkl', 'wb')\n",
        "# dump information to that file\n",
        "pickle.dump(best_model, file) # best model is the name of your trained model\n",
        "file.close()"
      ],
      "id": "Vae259wAeyqx",
      "execution_count": null,
      "outputs": []
    },
    {
      "cell_type": "code",
      "metadata": {
        "id": "x4lTsdx1BJLb"
      },
      "source": [
        "#load saved train model\n",
        "filename = 'model.pkl'\n",
        "classifier = pickle.load(open(filename, 'rb')) # classifier is your trained model name.\n",
        "\n"
      ],
      "id": "x4lTsdx1BJLb",
      "execution_count": null,
      "outputs": []
    },
    {
      "cell_type": "code",
      "metadata": {
        "id": "moTjTIvUljs5"
      },
      "source": [
        "pred = classifier.predict(your_input)"
      ],
      "id": "moTjTIvUljs5",
      "execution_count": null,
      "outputs": []
    }
  ]
}