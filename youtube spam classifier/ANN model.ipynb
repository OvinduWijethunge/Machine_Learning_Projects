{
 "cells": [
  {
   "cell_type": "code",
   "execution_count": 25,
   "id": "aec09e53",
   "metadata": {},
   "outputs": [],
   "source": [
    "# we neeed to hyperparamter "
   ]
  },
  {
   "cell_type": "code",
   "execution_count": 26,
   "id": "d4f55ef6",
   "metadata": {},
   "outputs": [],
   "source": [
    "import pandas as pd\n",
    "import numpy as np\n",
    "import matplotlib.pyplot as plt\n",
    "import seaborn as sns"
   ]
  },
  {
   "cell_type": "code",
   "execution_count": 27,
   "id": "933626e6",
   "metadata": {},
   "outputs": [],
   "source": [
    "df = pd.read_csv('model.csv')"
   ]
  },
  {
   "cell_type": "code",
   "execution_count": 29,
   "id": "700b4671",
   "metadata": {},
   "outputs": [
    {
     "data": {
      "text/html": [
       "<div>\n",
       "<style scoped>\n",
       "    .dataframe tbody tr th:only-of-type {\n",
       "        vertical-align: middle;\n",
       "    }\n",
       "\n",
       "    .dataframe tbody tr th {\n",
       "        vertical-align: top;\n",
       "    }\n",
       "\n",
       "    .dataframe thead th {\n",
       "        text-align: right;\n",
       "    }\n",
       "</style>\n",
       "<table border=\"1\" class=\"dataframe\">\n",
       "  <thead>\n",
       "    <tr style=\"text-align: right;\">\n",
       "      <th></th>\n",
       "      <th>Unnamed: 0</th>\n",
       "      <th>sim_content</th>\n",
       "      <th>sin_comment</th>\n",
       "      <th>word_count</th>\n",
       "      <th>duplicate_word_ratio</th>\n",
       "      <th>no_of_sentences</th>\n",
       "      <th>length_of_comment</th>\n",
       "      <th>num_of_punctuations</th>\n",
       "      <th>is_period_sequence</th>\n",
       "      <th>stop_word_ratio</th>\n",
       "      <th>post_coment_gap</th>\n",
       "      <th>black_word_count</th>\n",
       "      <th>is_link</th>\n",
       "      <th>is_youtube_link</th>\n",
       "      <th>is_number</th>\n",
       "      <th>is_mail</th>\n",
       "      <th>comment_duplication</th>\n",
       "      <th>classifier_val</th>\n",
       "    </tr>\n",
       "  </thead>\n",
       "  <tbody>\n",
       "    <tr>\n",
       "      <th>0</th>\n",
       "      <td>0</td>\n",
       "      <td>0.372249</td>\n",
       "      <td>0.280355</td>\n",
       "      <td>3.057751</td>\n",
       "      <td>0.083333</td>\n",
       "      <td>3</td>\n",
       "      <td>6.612096</td>\n",
       "      <td>4.0</td>\n",
       "      <td>0</td>\n",
       "      <td>0.000000</td>\n",
       "      <td>8.750086</td>\n",
       "      <td>1.0</td>\n",
       "      <td>1</td>\n",
       "      <td>0</td>\n",
       "      <td>0</td>\n",
       "      <td>0</td>\n",
       "      <td>0.000000</td>\n",
       "      <td>1</td>\n",
       "    </tr>\n",
       "    <tr>\n",
       "      <th>1</th>\n",
       "      <td>1</td>\n",
       "      <td>0.354255</td>\n",
       "      <td>0.341604</td>\n",
       "      <td>2.410947</td>\n",
       "      <td>0.000000</td>\n",
       "      <td>1</td>\n",
       "      <td>4.897796</td>\n",
       "      <td>1.0</td>\n",
       "      <td>0</td>\n",
       "      <td>0.000000</td>\n",
       "      <td>15.380144</td>\n",
       "      <td>2.0</td>\n",
       "      <td>0</td>\n",
       "      <td>0</td>\n",
       "      <td>0</td>\n",
       "      <td>0</td>\n",
       "      <td>0.715092</td>\n",
       "      <td>0</td>\n",
       "    </tr>\n",
       "    <tr>\n",
       "      <th>2</th>\n",
       "      <td>2</td>\n",
       "      <td>0.487752</td>\n",
       "      <td>0.314966</td>\n",
       "      <td>1.578192</td>\n",
       "      <td>0.000000</td>\n",
       "      <td>1</td>\n",
       "      <td>3.791178</td>\n",
       "      <td>0.0</td>\n",
       "      <td>0</td>\n",
       "      <td>0.000000</td>\n",
       "      <td>14.181022</td>\n",
       "      <td>0.0</td>\n",
       "      <td>0</td>\n",
       "      <td>0</td>\n",
       "      <td>0</td>\n",
       "      <td>0</td>\n",
       "      <td>0.000000</td>\n",
       "      <td>0</td>\n",
       "    </tr>\n",
       "    <tr>\n",
       "      <th>3</th>\n",
       "      <td>3</td>\n",
       "      <td>0.468095</td>\n",
       "      <td>0.368193</td>\n",
       "      <td>2.328976</td>\n",
       "      <td>0.000000</td>\n",
       "      <td>1</td>\n",
       "      <td>5.041488</td>\n",
       "      <td>0.0</td>\n",
       "      <td>0</td>\n",
       "      <td>0.090909</td>\n",
       "      <td>13.636652</td>\n",
       "      <td>2.0</td>\n",
       "      <td>0</td>\n",
       "      <td>0</td>\n",
       "      <td>0</td>\n",
       "      <td>0</td>\n",
       "      <td>0.000000</td>\n",
       "      <td>0</td>\n",
       "    </tr>\n",
       "    <tr>\n",
       "      <th>4</th>\n",
       "      <td>4</td>\n",
       "      <td>0.366191</td>\n",
       "      <td>0.258061</td>\n",
       "      <td>2.238987</td>\n",
       "      <td>0.000000</td>\n",
       "      <td>1</td>\n",
       "      <td>5.174158</td>\n",
       "      <td>4.0</td>\n",
       "      <td>0</td>\n",
       "      <td>0.000000</td>\n",
       "      <td>13.529500</td>\n",
       "      <td>0.0</td>\n",
       "      <td>1</td>\n",
       "      <td>1</td>\n",
       "      <td>0</td>\n",
       "      <td>0</td>\n",
       "      <td>0.000000</td>\n",
       "      <td>0</td>\n",
       "    </tr>\n",
       "  </tbody>\n",
       "</table>\n",
       "</div>"
      ],
      "text/plain": [
       "   Unnamed: 0  sim_content  sin_comment  word_count  duplicate_word_ratio  \\\n",
       "0           0     0.372249     0.280355    3.057751              0.083333   \n",
       "1           1     0.354255     0.341604    2.410947              0.000000   \n",
       "2           2     0.487752     0.314966    1.578192              0.000000   \n",
       "3           3     0.468095     0.368193    2.328976              0.000000   \n",
       "4           4     0.366191     0.258061    2.238987              0.000000   \n",
       "\n",
       "   no_of_sentences  length_of_comment  num_of_punctuations  \\\n",
       "0                3           6.612096                  4.0   \n",
       "1                1           4.897796                  1.0   \n",
       "2                1           3.791178                  0.0   \n",
       "3                1           5.041488                  0.0   \n",
       "4                1           5.174158                  4.0   \n",
       "\n",
       "   is_period_sequence  stop_word_ratio  post_coment_gap  black_word_count  \\\n",
       "0                   0         0.000000         8.750086               1.0   \n",
       "1                   0         0.000000        15.380144               2.0   \n",
       "2                   0         0.000000        14.181022               0.0   \n",
       "3                   0         0.090909        13.636652               2.0   \n",
       "4                   0         0.000000        13.529500               0.0   \n",
       "\n",
       "   is_link  is_youtube_link  is_number  is_mail  comment_duplication  \\\n",
       "0        1                0          0        0             0.000000   \n",
       "1        0                0          0        0             0.715092   \n",
       "2        0                0          0        0             0.000000   \n",
       "3        0                0          0        0             0.000000   \n",
       "4        1                1          0        0             0.000000   \n",
       "\n",
       "   classifier_val  \n",
       "0               1  \n",
       "1               0  \n",
       "2               0  \n",
       "3               0  \n",
       "4               0  "
      ]
     },
     "execution_count": 29,
     "metadata": {},
     "output_type": "execute_result"
    }
   ],
   "source": [
    "df.head()"
   ]
  },
  {
   "cell_type": "code",
   "execution_count": 30,
   "id": "c3c70a9e",
   "metadata": {},
   "outputs": [
    {
     "data": {
      "text/plain": [
       "Index(['id', 'sim_content', 'sin_comment', 'word_count',\n",
       "       'duplicate_word_ratio', 'no_of_sentences', 'length_of_comment',\n",
       "       'num_of_punctuations', 'is_period_sequence', 'stop_word_ratio',\n",
       "       'post_coment_gap', 'black_word_count', 'is_link', 'is_youtube_link',\n",
       "       'is_number', 'is_mail', 'comment_duplication', 'classifier_val'],\n",
       "      dtype='object')"
      ]
     },
     "execution_count": 30,
     "metadata": {},
     "output_type": "execute_result"
    }
   ],
   "source": [
    "df.rename(columns={'Unnamed: 0':'id'},inplace=True)\n",
    "df.columns"
   ]
  },
  {
   "cell_type": "markdown",
   "id": "0d4e790d",
   "metadata": {},
   "source": [
    "### Standardization"
   ]
  },
  {
   "cell_type": "code",
   "execution_count": 31,
   "id": "ebe456e5",
   "metadata": {},
   "outputs": [],
   "source": [
    "dfc = df.copy()"
   ]
  },
  {
   "cell_type": "code",
   "execution_count": 32,
   "id": "d4010b89",
   "metadata": {},
   "outputs": [],
   "source": [
    "y = dfc['classifier_val']\n",
    "X = dfc.drop(['classifier_val','id'],axis=1)"
   ]
  },
  {
   "cell_type": "code",
   "execution_count": 33,
   "id": "629a82c0",
   "metadata": {},
   "outputs": [],
   "source": [
    "from sklearn.model_selection import train_test_split\n",
    "X_train, X_test, y_train, y_test = train_test_split(X, y, test_size=0.3, random_state=42)"
   ]
  },
  {
   "cell_type": "code",
   "execution_count": 34,
   "id": "43f3a222",
   "metadata": {},
   "outputs": [],
   "source": [
    "from sklearn.preprocessing import StandardScaler\n",
    "scaler = StandardScaler().fit(X_train)\n",
    "X_train = scaler.transform(X_train) \n",
    "X_test = scaler.transform(X_test) "
   ]
  },
  {
   "cell_type": "code",
   "execution_count": null,
   "id": "45fa1f90",
   "metadata": {},
   "outputs": [],
   "source": []
  },
  {
   "cell_type": "markdown",
   "id": "dd98f660",
   "metadata": {},
   "source": [
    "### Handle imbalance dataset"
   ]
  },
  {
   "cell_type": "code",
   "execution_count": 35,
   "id": "39a73363",
   "metadata": {},
   "outputs": [
    {
     "data": {
      "text/plain": [
       "0    2540\n",
       "1     585\n",
       "Name: classifier_val, dtype: int64"
      ]
     },
     "execution_count": 35,
     "metadata": {},
     "output_type": "execute_result"
    }
   ],
   "source": [
    "dfc['classifier_val'].value_counts()"
   ]
  },
  {
   "cell_type": "code",
   "execution_count": 36,
   "id": "d6524452",
   "metadata": {},
   "outputs": [
    {
     "name": "stderr",
     "output_type": "stream",
     "text": [
      "C:\\Users\\Acer\\anaconda3\\lib\\site-packages\\imblearn\\utils\\_validation.py:638: FutureWarning: Pass sampling_strategy=1 as keyword args. From version 0.9 passing these as positional arguments will result in an error\n",
      "  FutureWarning)\n"
     ]
    },
    {
     "name": "stdout",
     "output_type": "stream",
     "text": [
      "The number of classes before fit Counter({0: 1778, 1: 409})\n",
      "The number of classes after fit Counter({1: 1760, 0: 1760})\n"
     ]
    }
   ],
   "source": [
    "from imblearn.combine import SMOTETomek\n",
    "from collections import Counter\n",
    "\n",
    "os=SMOTETomek(1)\n",
    "X_train_os,y_train_os=os.fit_sample(X_train,y_train)\n",
    "print(\"The number of classes before fit {}\".format(Counter(y_train)))\n",
    "print(\"The number of classes after fit {}\".format(Counter(y_train_os)))\n",
    "\n",
    "X_train = X_train_os\n",
    "y_train = y_train_os"
   ]
  },
  {
   "cell_type": "code",
   "execution_count": 37,
   "id": "1a82cf38",
   "metadata": {},
   "outputs": [],
   "source": [
    "X_train=np.asarray(X_train)\n",
    "y_train = np.asarray(y_train)"
   ]
  },
  {
   "cell_type": "code",
   "execution_count": 12,
   "id": "0d8dbd3a",
   "metadata": {},
   "outputs": [
    {
     "name": "stderr",
     "output_type": "stream",
     "text": [
      "Using TensorFlow backend.\n"
     ]
    }
   ],
   "source": [
    "# Importing the Keras libraries and packages\n",
    "#import keras\n",
    "from tensorflow import keras\n",
    "from tensorflow.keras import Sequential\n",
    "from tensorflow.keras.layers import Conv2D, Flatten, Dense\n",
    "from keras.layers import LeakyReLU,PReLU,ELU\n",
    "from tensorflow.keras.layers import Dropout\n",
    "\n"
   ]
  },
  {
   "cell_type": "code",
   "execution_count": 13,
   "id": "1dee73dc",
   "metadata": {},
   "outputs": [],
   "source": [
    "classifier = Sequential()\n",
    "\n",
    "# Adding the input layer and the first hidden layer\n",
    "classifier.add(Dense(units = 8, kernel_initializer = 'he_uniform',activation='relu',input_dim = 16))\n",
    "classifier.add(Dropout(0.3))\n",
    "# Adding the second hidden layer\n",
    "classifier.add(Dense(units = 8,  kernel_initializer = 'he_uniform',activation='relu'))\n",
    "classifier.add(Dropout(0.4))\n",
    "# Adding the output layer\n",
    "classifier.add(Dense(units= 1, kernel_initializer = 'glorot_uniform', activation = 'sigmoid'))\n",
    "classifier.add(Dropout(0.2))\n"
   ]
  },
  {
   "cell_type": "code",
   "execution_count": 14,
   "id": "d2d1d065",
   "metadata": {},
   "outputs": [],
   "source": [
    "# Compiling the ANN\n",
    "classifier.compile(optimizer = 'Adamax', loss = 'binary_crossentropy', metrics = ['accuracy'])\n"
   ]
  },
  {
   "cell_type": "code",
   "execution_count": 15,
   "id": "a6370072",
   "metadata": {},
   "outputs": [
    {
     "name": "stdout",
     "output_type": "stream",
     "text": [
      "Train on 2468 samples, validate on 1058 samples\n",
      "Epoch 1/100\n",
      "2468/2468 [==============================] - 3s 1ms/sample - loss: 2.5438 - accuracy: 0.3606 - val_loss: 0.7199 - val_accuracy: 0.6106\n",
      "Epoch 2/100\n",
      "2468/2468 [==============================] - 1s 386us/sample - loss: 2.3516 - accuracy: 0.3594 - val_loss: 0.6894 - val_accuracy: 0.6078\n",
      "Epoch 3/100\n",
      "2468/2468 [==============================] - 1s 236us/sample - loss: 2.3154 - accuracy: 0.3598 - val_loss: 0.6772 - val_accuracy: 0.6040\n",
      "Epoch 4/100\n",
      "2468/2468 [==============================] - 1s 229us/sample - loss: 2.4047 - accuracy: 0.3521 - val_loss: 0.6569 - val_accuracy: 0.6040\n",
      "Epoch 5/100\n",
      "2468/2468 [==============================] - 1s 292us/sample - loss: 2.3666 - accuracy: 0.3675 - val_loss: 0.6397 - val_accuracy: 0.6030\n",
      "Epoch 6/100\n",
      "2468/2468 [==============================] - 1s 250us/sample - loss: 2.1739 - accuracy: 0.3707 - val_loss: 0.6232 - val_accuracy: 0.6115\n",
      "Epoch 7/100\n",
      "2468/2468 [==============================] - 1s 225us/sample - loss: 2.0615 - accuracy: 0.3975 - val_loss: 0.6188 - val_accuracy: 0.5983\n",
      "Epoch 8/100\n",
      "2468/2468 [==============================] - 1s 249us/sample - loss: 2.0994 - accuracy: 0.3760 - val_loss: 0.6059 - val_accuracy: 0.5983\n",
      "Epoch 9/100\n",
      "2468/2468 [==============================] - 1s 249us/sample - loss: 1.9524 - accuracy: 0.3995 - val_loss: 0.5983 - val_accuracy: 0.6068\n",
      "Epoch 10/100\n",
      "2468/2468 [==============================] - 1s 223us/sample - loss: 2.0648 - accuracy: 0.3784 - val_loss: 0.5934 - val_accuracy: 0.6078\n",
      "Epoch 11/100\n",
      "2468/2468 [==============================] - 1s 245us/sample - loss: 2.0233 - accuracy: 0.3890 - val_loss: 0.5930 - val_accuracy: 0.5974\n",
      "Epoch 12/100\n",
      "2468/2468 [==============================] - 1s 221us/sample - loss: 2.0509 - accuracy: 0.3768 - val_loss: 0.5899 - val_accuracy: 0.5926\n",
      "Epoch 13/100\n",
      "2468/2468 [==============================] - 1s 245us/sample - loss: 1.9724 - accuracy: 0.3784 - val_loss: 0.5906 - val_accuracy: 0.5813\n",
      "Epoch 14/100\n",
      "2468/2468 [==============================] - 1s 250us/sample - loss: 1.8930 - accuracy: 0.3882 - val_loss: 0.5947 - val_accuracy: 0.5728\n",
      "Epoch 15/100\n",
      "2468/2468 [==============================] - 1s 233us/sample - loss: 1.8948 - accuracy: 0.3890 - val_loss: 0.5977 - val_accuracy: 0.5643\n",
      "Epoch 16/100\n",
      "2468/2468 [==============================] - 1s 246us/sample - loss: 1.8956 - accuracy: 0.3999 - val_loss: 0.6000 - val_accuracy: 0.5577\n",
      "Epoch 17/100\n",
      "2468/2468 [==============================] - 1s 301us/sample - loss: 1.9250 - accuracy: 0.3938 - val_loss: 0.6085 - val_accuracy: 0.5359\n",
      "Epoch 18/100\n",
      "2468/2468 [==============================] - 1s 279us/sample - loss: 1.7157 - accuracy: 0.3942 - val_loss: 0.6106 - val_accuracy: 0.5331\n",
      "Epoch 19/100\n",
      "2468/2468 [==============================] - 1s 289us/sample - loss: 1.8860 - accuracy: 0.4125 - val_loss: 0.6163 - val_accuracy: 0.5217\n",
      "Epoch 20/100\n",
      "2468/2468 [==============================] - 1s 250us/sample - loss: 1.7317 - accuracy: 0.4202 - val_loss: 0.6238 - val_accuracy: 0.5113\n",
      "Epoch 21/100\n",
      "2468/2468 [==============================] - 1s 263us/sample - loss: 1.7472 - accuracy: 0.3999 - val_loss: 0.6305 - val_accuracy: 0.4905\n",
      "Epoch 22/100\n",
      "2468/2468 [==============================] - 1s 273us/sample - loss: 1.7604 - accuracy: 0.3991 - val_loss: 0.6405 - val_accuracy: 0.4811\n",
      "Epoch 23/100\n",
      "2468/2468 [==============================] - 1s 240us/sample - loss: 1.6968 - accuracy: 0.4161 - val_loss: 0.6558 - val_accuracy: 0.4565\n",
      "Epoch 24/100\n",
      "2468/2468 [==============================] - 1s 256us/sample - loss: 1.6919 - accuracy: 0.4295 - val_loss: 0.6724 - val_accuracy: 0.4357\n",
      "Epoch 25/100\n",
      "2468/2468 [==============================] - 1s 260us/sample - loss: 1.5687 - accuracy: 0.4295 - val_loss: 0.6798 - val_accuracy: 0.4272\n",
      "Epoch 26/100\n",
      "2468/2468 [==============================] - 1s 233us/sample - loss: 1.7173 - accuracy: 0.4437 - val_loss: 0.6857 - val_accuracy: 0.4168\n",
      "Epoch 27/100\n",
      "2468/2468 [==============================] - 1s 234us/sample - loss: 1.7011 - accuracy: 0.4498 - val_loss: 0.6937 - val_accuracy: 0.4026\n",
      "Epoch 28/100\n",
      "2468/2468 [==============================] - 1s 234us/sample - loss: 1.5882 - accuracy: 0.4652 - val_loss: 0.7032 - val_accuracy: 0.4036\n",
      "Epoch 29/100\n",
      "2468/2468 [==============================] - 1s 247us/sample - loss: 1.6064 - accuracy: 0.4672 - val_loss: 0.7158 - val_accuracy: 0.3667\n",
      "Epoch 30/100\n",
      "2468/2468 [==============================] - 1s 247us/sample - loss: 1.6590 - accuracy: 0.4761 - val_loss: 0.7294 - val_accuracy: 0.3469\n",
      "Epoch 31/100\n",
      "2468/2468 [==============================] - 1s 240us/sample - loss: 1.4728 - accuracy: 0.4968 - val_loss: 0.7453 - val_accuracy: 0.3459\n",
      "Epoch 32/100\n",
      "2468/2468 [==============================] - 1s 240us/sample - loss: 1.5768 - accuracy: 0.5207 - val_loss: 0.7649 - val_accuracy: 0.3336\n",
      "Epoch 33/100\n",
      "2468/2468 [==============================] - 1s 267us/sample - loss: 1.5670 - accuracy: 0.5328 - val_loss: 0.7847 - val_accuracy: 0.3214\n",
      "Epoch 34/100\n",
      "2468/2468 [==============================] - 1s 228us/sample - loss: 1.5005 - accuracy: 0.5571 - val_loss: 0.8000 - val_accuracy: 0.3327\n",
      "Epoch 35/100\n",
      "2468/2468 [==============================] - 1s 244us/sample - loss: 1.5285 - accuracy: 0.5624 - val_loss: 0.8252 - val_accuracy: 0.3242\n",
      "Epoch 36/100\n",
      "2468/2468 [==============================] - 1s 235us/sample - loss: 1.4287 - accuracy: 0.5798 - val_loss: 0.8485 - val_accuracy: 0.3157\n",
      "Epoch 37/100\n",
      "2468/2468 [==============================] - 1s 255us/sample - loss: 1.5675 - accuracy: 0.6078 - val_loss: 0.8774 - val_accuracy: 0.3147\n",
      "Epoch 38/100\n",
      "2468/2468 [==============================] - 1s 246us/sample - loss: 1.4127 - accuracy: 0.6106 - val_loss: 0.9008 - val_accuracy: 0.3138\n",
      "Epoch 39/100\n",
      "2468/2468 [==============================] - 1s 271us/sample - loss: 1.4154 - accuracy: 0.6463 - val_loss: 0.9217 - val_accuracy: 0.3166\n",
      "Epoch 40/100\n",
      "2468/2468 [==============================] - 1s 248us/sample - loss: 1.3680 - accuracy: 0.6402 - val_loss: 0.9419 - val_accuracy: 0.3214\n",
      "Epoch 41/100\n",
      "2468/2468 [==============================] - 1s 285us/sample - loss: 1.4680 - accuracy: 0.6353 - val_loss: 0.9611 - val_accuracy: 0.3289\n",
      "Epoch 42/100\n",
      "2468/2468 [==============================] - 1s 256us/sample - loss: 1.3581 - accuracy: 0.6710 - val_loss: 0.9808 - val_accuracy: 0.3280\n",
      "Epoch 43/100\n",
      "2468/2468 [==============================] - 1s 246us/sample - loss: 1.3666 - accuracy: 0.6718 - val_loss: 0.9974 - val_accuracy: 0.3327\n",
      "Epoch 44/100\n",
      "2468/2468 [==============================] - 1s 246us/sample - loss: 1.4959 - accuracy: 0.6815 - val_loss: 1.0169 - val_accuracy: 0.3318\n",
      "Epoch 45/100\n",
      "2468/2468 [==============================] - 1s 263us/sample - loss: 1.3707 - accuracy: 0.6977 - val_loss: 1.0296 - val_accuracy: 0.3346\n",
      "Epoch 46/100\n",
      "2468/2468 [==============================] - 1s 250us/sample - loss: 1.3905 - accuracy: 0.6852 - val_loss: 1.0389 - val_accuracy: 0.3488\n",
      "Epoch 47/100\n",
      "2468/2468 [==============================] - 1s 257us/sample - loss: 1.4261 - accuracy: 0.6994 - val_loss: 1.0591 - val_accuracy: 0.3526\n",
      "Epoch 48/100\n",
      "2468/2468 [==============================] - 1s 230us/sample - loss: 1.4092 - accuracy: 0.7071 - val_loss: 1.0628 - val_accuracy: 0.3629\n",
      "Epoch 49/100\n",
      "2468/2468 [==============================] - 1s 237us/sample - loss: 1.3866 - accuracy: 0.7034 - val_loss: 1.0635 - val_accuracy: 0.3648\n",
      "Epoch 50/100\n",
      "2468/2468 [==============================] - 1s 255us/sample - loss: 1.3675 - accuracy: 0.7119 - val_loss: 1.0659 - val_accuracy: 0.3800\n",
      "Epoch 51/100\n",
      "2468/2468 [==============================] - 1s 255us/sample - loss: 1.4026 - accuracy: 0.7180 - val_loss: 1.0713 - val_accuracy: 0.3847\n",
      "Epoch 52/100\n",
      "2468/2468 [==============================] - 1s 251us/sample - loss: 1.3581 - accuracy: 0.7107 - val_loss: 1.0668 - val_accuracy: 0.3875\n",
      "Epoch 53/100\n",
      "2468/2468 [==============================] - 1s 231us/sample - loss: 1.3304 - accuracy: 0.7164 - val_loss: 1.0754 - val_accuracy: 0.3885\n",
      "Epoch 54/100\n",
      "2468/2468 [==============================] - 1s 247us/sample - loss: 1.3121 - accuracy: 0.7253 - val_loss: 1.0714 - val_accuracy: 0.3932\n",
      "Epoch 55/100\n"
     ]
    },
    {
     "name": "stdout",
     "output_type": "stream",
     "text": [
      "2468/2468 [==============================] - 1s 236us/sample - loss: 1.3683 - accuracy: 0.7293 - val_loss: 1.0721 - val_accuracy: 0.3960\n",
      "Epoch 56/100\n",
      "2468/2468 [==============================] - 1s 211us/sample - loss: 1.3891 - accuracy: 0.7366 - val_loss: 1.0696 - val_accuracy: 0.3970\n",
      "Epoch 57/100\n",
      "2468/2468 [==============================] - 1s 238us/sample - loss: 1.4106 - accuracy: 0.7253 - val_loss: 1.0840 - val_accuracy: 0.3970\n",
      "Epoch 58/100\n",
      "2468/2468 [==============================] - 1s 259us/sample - loss: 1.2630 - accuracy: 0.7342 - val_loss: 1.0852 - val_accuracy: 0.3998\n",
      "Epoch 59/100\n",
      "2468/2468 [==============================] - 1s 253us/sample - loss: 1.3123 - accuracy: 0.7472 - val_loss: 1.0903 - val_accuracy: 0.4083\n",
      "Epoch 60/100\n",
      "2468/2468 [==============================] - 1s 262us/sample - loss: 1.2266 - accuracy: 0.7431 - val_loss: 1.0887 - val_accuracy: 0.4112\n",
      "Epoch 61/100\n",
      "2468/2468 [==============================] - 1s 233us/sample - loss: 1.3315 - accuracy: 0.7346 - val_loss: 1.0785 - val_accuracy: 0.4206\n",
      "Epoch 62/100\n",
      "2468/2468 [==============================] - 1s 239us/sample - loss: 1.3104 - accuracy: 0.7403 - val_loss: 1.0658 - val_accuracy: 0.4216\n",
      "Epoch 63/100\n",
      "2468/2468 [==============================] - 1s 229us/sample - loss: 1.2984 - accuracy: 0.7476 - val_loss: 1.0681 - val_accuracy: 0.4225\n",
      "Epoch 64/100\n",
      "2468/2468 [==============================] - 1s 238us/sample - loss: 1.2732 - accuracy: 0.7378 - val_loss: 1.0527 - val_accuracy: 0.4244\n",
      "Epoch 65/100\n",
      "2468/2468 [==============================] - 1s 214us/sample - loss: 1.3157 - accuracy: 0.7528 - val_loss: 1.0467 - val_accuracy: 0.4291\n",
      "Epoch 66/100\n",
      "2468/2468 [==============================] - 1s 265us/sample - loss: 1.2145 - accuracy: 0.7532 - val_loss: 1.0362 - val_accuracy: 0.4291\n",
      "Epoch 67/100\n",
      "2468/2468 [==============================] - 1s 235us/sample - loss: 1.2024 - accuracy: 0.7630 - val_loss: 1.0274 - val_accuracy: 0.4291\n",
      "Epoch 68/100\n",
      "2468/2468 [==============================] - 1s 256us/sample - loss: 1.3591 - accuracy: 0.7626 - val_loss: 1.0288 - val_accuracy: 0.4291\n",
      "Epoch 69/100\n",
      "2468/2468 [==============================] - 1s 225us/sample - loss: 1.2902 - accuracy: 0.7597 - val_loss: 1.0220 - val_accuracy: 0.4310\n",
      "Epoch 70/100\n",
      "2468/2468 [==============================] - 1s 228us/sample - loss: 1.2647 - accuracy: 0.7703 - val_loss: 1.0232 - val_accuracy: 0.4329\n",
      "Epoch 71/100\n",
      "2468/2468 [==============================] - 1s 226us/sample - loss: 1.1956 - accuracy: 0.7674 - val_loss: 1.0182 - val_accuracy: 0.4414\n",
      "Epoch 72/100\n",
      "2468/2468 [==============================] - 1s 232us/sample - loss: 1.2939 - accuracy: 0.7682 - val_loss: 1.0040 - val_accuracy: 0.4556\n",
      "Epoch 73/100\n",
      "2468/2468 [==============================] - 1s 314us/sample - loss: 1.1573 - accuracy: 0.7613 - val_loss: 0.9926 - val_accuracy: 0.4669\n",
      "Epoch 74/100\n",
      "2468/2468 [==============================] - 1s 406us/sample - loss: 1.2970 - accuracy: 0.7682 - val_loss: 0.9945 - val_accuracy: 0.4707\n",
      "Epoch 75/100\n",
      "2468/2468 [==============================] - 1s 465us/sample - loss: 1.3136 - accuracy: 0.7585 - val_loss: 1.0016 - val_accuracy: 0.4735\n",
      "Epoch 76/100\n",
      "2468/2468 [==============================] - 1s 240us/sample - loss: 1.2478 - accuracy: 0.7642 - val_loss: 0.9955 - val_accuracy: 0.4783\n",
      "Epoch 77/100\n",
      "2468/2468 [==============================] - 1s 247us/sample - loss: 1.1450 - accuracy: 0.7638 - val_loss: 0.9756 - val_accuracy: 0.4811\n",
      "Epoch 78/100\n",
      "2468/2468 [==============================] - 1s 256us/sample - loss: 1.2422 - accuracy: 0.7642 - val_loss: 0.9753 - val_accuracy: 0.4830\n",
      "Epoch 79/100\n",
      "2468/2468 [==============================] - 1s 277us/sample - loss: 1.2506 - accuracy: 0.7889 - val_loss: 0.9734 - val_accuracy: 0.4849\n",
      "Epoch 80/100\n",
      "2468/2468 [==============================] - 1s 256us/sample - loss: 1.2218 - accuracy: 0.7909 - val_loss: 0.9636 - val_accuracy: 0.4887\n",
      "Epoch 81/100\n",
      "2468/2468 [==============================] - 1s 237us/sample - loss: 1.3376 - accuracy: 0.7844 - val_loss: 0.9669 - val_accuracy: 0.4896\n",
      "Epoch 82/100\n",
      "2468/2468 [==============================] - 1s 226us/sample - loss: 1.2805 - accuracy: 0.7934 - val_loss: 0.9592 - val_accuracy: 0.4924\n",
      "Epoch 83/100\n",
      "2468/2468 [==============================] - 1s 205us/sample - loss: 1.3068 - accuracy: 0.7925 - val_loss: 0.9632 - val_accuracy: 0.4972\n",
      "Epoch 84/100\n",
      "2468/2468 [==============================] - 1s 221us/sample - loss: 1.2750 - accuracy: 0.7893 - val_loss: 0.9565 - val_accuracy: 0.5000\n",
      "Epoch 85/100\n",
      "2468/2468 [==============================] - 1s 227us/sample - loss: 1.2051 - accuracy: 0.7938 - val_loss: 0.9405 - val_accuracy: 0.5038\n",
      "Epoch 86/100\n",
      "2468/2468 [==============================] - 1s 205us/sample - loss: 1.3096 - accuracy: 0.7950 - val_loss: 0.9351 - val_accuracy: 0.5104\n",
      "Epoch 87/100\n",
      "2468/2468 [==============================] - 1s 227us/sample - loss: 1.1276 - accuracy: 0.7946 - val_loss: 0.9222 - val_accuracy: 0.5104\n",
      "Epoch 88/100\n",
      "2468/2468 [==============================] - 1s 225us/sample - loss: 1.1247 - accuracy: 0.8006 - val_loss: 0.9158 - val_accuracy: 0.5104\n",
      "Epoch 89/100\n",
      "2468/2468 [==============================] - 1s 205us/sample - loss: 1.2859 - accuracy: 0.7929 - val_loss: 0.9090 - val_accuracy: 0.5132\n",
      "Epoch 90/100\n",
      "2468/2468 [==============================] - 1s 233us/sample - loss: 1.2507 - accuracy: 0.8031 - val_loss: 0.9236 - val_accuracy: 0.5123\n",
      "Epoch 91/100\n",
      "2468/2468 [==============================] - 1s 237us/sample - loss: 1.2317 - accuracy: 0.8047 - val_loss: 0.9143 - val_accuracy: 0.5151\n",
      "Epoch 92/100\n",
      "2468/2468 [==============================] - 1s 248us/sample - loss: 1.2277 - accuracy: 0.8079 - val_loss: 0.9030 - val_accuracy: 0.5217\n",
      "Epoch 93/100\n",
      "2468/2468 [==============================] - 1s 209us/sample - loss: 1.2598 - accuracy: 0.7986 - val_loss: 0.8898 - val_accuracy: 0.5217\n",
      "Epoch 94/100\n",
      "2468/2468 [==============================] - 1s 219us/sample - loss: 1.2889 - accuracy: 0.7994 - val_loss: 0.8817 - val_accuracy: 0.5246\n",
      "Epoch 95/100\n",
      "2468/2468 [==============================] - 1s 207us/sample - loss: 1.0927 - accuracy: 0.8140 - val_loss: 0.8812 - val_accuracy: 0.5255\n",
      "Epoch 96/100\n",
      "2468/2468 [==============================] - 1s 217us/sample - loss: 1.3050 - accuracy: 0.8043 - val_loss: 0.8898 - val_accuracy: 0.5255\n",
      "Epoch 97/100\n",
      "2468/2468 [==============================] - 1s 209us/sample - loss: 1.2145 - accuracy: 0.8071 - val_loss: 0.8791 - val_accuracy: 0.5255\n",
      "Epoch 98/100\n",
      "2468/2468 [==============================] - 1s 242us/sample - loss: 1.0577 - accuracy: 0.8124 - val_loss: 0.8759 - val_accuracy: 0.5255\n",
      "Epoch 99/100\n",
      "2468/2468 [==============================] - 1s 211us/sample - loss: 1.1746 - accuracy: 0.8152 - val_loss: 0.8724 - val_accuracy: 0.5255\n",
      "Epoch 100/100\n",
      "2468/2468 [==============================] - 0s 201us/sample - loss: 1.2699 - accuracy: 0.8140 - val_loss: 0.8784 - val_accuracy: 0.5255\n"
     ]
    }
   ],
   "source": [
    "# Fitting the ANN to the Training set\n",
    "model_history=classifier.fit(X_train, y_train,validation_split=0.3, batch_size = 10, epochs = 100)"
   ]
  },
  {
   "cell_type": "code",
   "execution_count": 16,
   "id": "2c1cda43",
   "metadata": {},
   "outputs": [
    {
     "name": "stdout",
     "output_type": "stream",
     "text": [
      "dict_keys(['loss', 'accuracy', 'val_loss', 'val_accuracy'])\n"
     ]
    },
    {
     "data": {
      "image/png": "[encoded data removed]",
      "text/plain": [
       "<Figure size 432x288 with 1 Axes>"
      ]
     },
     "metadata": {
      "needs_background": "light"
     },
     "output_type": "display_data"
    }
   ],
   "source": [
    "print(model_history.history.keys())\n",
    "# summarize history for accuracy\n",
    "plt.plot(model_history.history['accuracy'])\n",
    "plt.plot(model_history.history['val_accuracy'])\n",
    "plt.title('model accuracy')\n",
    "plt.ylabel('accuracy')\n",
    "plt.xlabel('epoch')\n",
    "plt.legend(['train', 'test'], loc='upper left')\n",
    "plt.show()"
   ]
  },
  {
   "cell_type": "code",
   "execution_count": 17,
   "id": "2bc9df0a",
   "metadata": {},
   "outputs": [
    {
     "data": {
      "image/png": "[encoded data removed]",
      "text/plain": [
       "<Figure size 432x288 with 1 Axes>"
      ]
     },
     "metadata": {
      "needs_background": "light"
     },
     "output_type": "display_data"
    }
   ],
   "source": [
    "# summarize history for loss\n",
    "plt.plot(model_history.history['loss'])\n",
    "plt.plot(model_history.history['val_loss'])\n",
    "plt.title('model loss')\n",
    "plt.ylabel('loss')\n",
    "plt.xlabel('epoch')\n",
    "plt.legend(['train', 'test'], loc='upper left')\n",
    "plt.show()"
   ]
  },
  {
   "cell_type": "code",
   "execution_count": 24,
   "id": "2b899e0f",
   "metadata": {},
   "outputs": [],
   "source": [
    "# Predicting the Test set results\n",
    "y_pred = classifier.predict(X_test)\n",
    "y_pred = (y_pred > 0.5)\n",
    "\n",
    "# Making the Confusion Matrix\n",
    "from sklearn.metrics import confusion_matrix\n",
    "cm = confusion_matrix(y_test, y_pred)\n",
    "\n",
    "# Calculate the Accuracy\n",
    "from sklearn.metrics import accuracy_score\n",
    "score=accuracy_score(y_pred,y_test)"
   ]
  },
  {
   "cell_type": "code",
   "execution_count": 19,
   "id": "82728bf4",
   "metadata": {},
   "outputs": [
    {
     "data": {
      "text/plain": [
       "array([[755,   7],\n",
       "       [101,  75]], dtype=int64)"
      ]
     },
     "execution_count": 19,
     "metadata": {},
     "output_type": "execute_result"
    }
   ],
   "source": [
    "cm"
   ]
  },
  {
   "cell_type": "code",
   "execution_count": 20,
   "id": "945fbba7",
   "metadata": {},
   "outputs": [
    {
     "data": {
      "text/plain": [
       "0.8848614072494669"
      ]
     },
     "execution_count": 20,
     "metadata": {},
     "output_type": "execute_result"
    }
   ],
   "source": [
    "score"
   ]
  },
  {
   "cell_type": "code",
   "execution_count": null,
   "id": "486a70c3",
   "metadata": {},
   "outputs": [],
   "source": []
  },
  {
   "cell_type": "code",
   "execution_count": null,
   "id": "23048c6c",
   "metadata": {},
   "outputs": [],
   "source": []
  }
 ],
 "metadata": {
  "kernelspec": {
   "display_name": "Python 3",
   "language": "python",
   "name": "python3"
  },
  "language_info": {
   "codemirror_mode": {
    "name": "ipython",
    "version": 3
   },
   "file_extension": ".py",
   "mimetype": "text/x-python",
   "name": "python",
   "nbconvert_exporter": "python",
   "pygments_lexer": "ipython3",
   "version": "3.7.9"
  }
 },
 "nbformat": 4,
 "nbformat_minor": 5
}
