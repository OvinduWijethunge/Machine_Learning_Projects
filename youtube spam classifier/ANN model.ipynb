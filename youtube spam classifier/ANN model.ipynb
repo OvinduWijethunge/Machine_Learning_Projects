{
 "cells": [
  {
   "cell_type": "code",
   "execution_count": 1,
   "id": "d4f55ef6",
   "metadata": {},
   "outputs": [],
   "source": [
    "import pandas as pd\n",
    "import numpy as np\n",
    "import matplotlib.pyplot as plt\n",
    "import seaborn as sns"
   ]
  },
  {
   "cell_type": "code",
   "execution_count": 2,
   "id": "933626e6",
   "metadata": {},
   "outputs": [],
   "source": [
    "df = pd.read_csv('model.csv')"
   ]
  },
  {
   "cell_type": "code",
   "execution_count": 3,
   "id": "700b4671",
   "metadata": {},
   "outputs": [
    {
     "data": {
      "text/html": [
       "<div>\n",
       "<style scoped>\n",
       "    .dataframe tbody tr th:only-of-type {\n",
       "        vertical-align: middle;\n",
       "    }\n",
       "\n",
       "    .dataframe tbody tr th {\n",
       "        vertical-align: top;\n",
       "    }\n",
       "\n",
       "    .dataframe thead th {\n",
       "        text-align: right;\n",
       "    }\n",
       "</style>\n",
       "<table border=\"1\" class=\"dataframe\">\n",
       "  <thead>\n",
       "    <tr style=\"text-align: right;\">\n",
       "      <th></th>\n",
       "      <th>Unnamed: 0</th>\n",
       "      <th>sim_content</th>\n",
       "      <th>sin_comment</th>\n",
       "      <th>word_count</th>\n",
       "      <th>duplicate_word_ratio</th>\n",
       "      <th>no_of_sentences</th>\n",
       "      <th>length_of_comment</th>\n",
       "      <th>num_of_punctuations</th>\n",
       "      <th>is_period_sequence</th>\n",
       "      <th>stop_word_ratio</th>\n",
       "      <th>post_coment_gap</th>\n",
       "      <th>black_word_count</th>\n",
       "      <th>is_link</th>\n",
       "      <th>is_youtube_link</th>\n",
       "      <th>is_number</th>\n",
       "      <th>is_mail</th>\n",
       "      <th>comment_duplication</th>\n",
       "      <th>classifier_val</th>\n",
       "    </tr>\n",
       "  </thead>\n",
       "  <tbody>\n",
       "    <tr>\n",
       "      <th>0</th>\n",
       "      <td>0</td>\n",
       "      <td>0.372249</td>\n",
       "      <td>0.280355</td>\n",
       "      <td>3.057751</td>\n",
       "      <td>0.083333</td>\n",
       "      <td>3</td>\n",
       "      <td>6.612096</td>\n",
       "      <td>4.0</td>\n",
       "      <td>0</td>\n",
       "      <td>0.000000</td>\n",
       "      <td>8.750086</td>\n",
       "      <td>1.0</td>\n",
       "      <td>1</td>\n",
       "      <td>0</td>\n",
       "      <td>0</td>\n",
       "      <td>0</td>\n",
       "      <td>0.000000</td>\n",
       "      <td>1</td>\n",
       "    </tr>\n",
       "    <tr>\n",
       "      <th>1</th>\n",
       "      <td>1</td>\n",
       "      <td>0.354255</td>\n",
       "      <td>0.341604</td>\n",
       "      <td>2.410947</td>\n",
       "      <td>0.000000</td>\n",
       "      <td>1</td>\n",
       "      <td>4.897796</td>\n",
       "      <td>1.0</td>\n",
       "      <td>0</td>\n",
       "      <td>0.000000</td>\n",
       "      <td>15.380144</td>\n",
       "      <td>2.0</td>\n",
       "      <td>0</td>\n",
       "      <td>0</td>\n",
       "      <td>0</td>\n",
       "      <td>0</td>\n",
       "      <td>0.715092</td>\n",
       "      <td>0</td>\n",
       "    </tr>\n",
       "    <tr>\n",
       "      <th>2</th>\n",
       "      <td>2</td>\n",
       "      <td>0.487752</td>\n",
       "      <td>0.314966</td>\n",
       "      <td>1.578192</td>\n",
       "      <td>0.000000</td>\n",
       "      <td>1</td>\n",
       "      <td>3.791178</td>\n",
       "      <td>0.0</td>\n",
       "      <td>0</td>\n",
       "      <td>0.000000</td>\n",
       "      <td>14.181022</td>\n",
       "      <td>0.0</td>\n",
       "      <td>0</td>\n",
       "      <td>0</td>\n",
       "      <td>0</td>\n",
       "      <td>0</td>\n",
       "      <td>0.000000</td>\n",
       "      <td>0</td>\n",
       "    </tr>\n",
       "    <tr>\n",
       "      <th>3</th>\n",
       "      <td>3</td>\n",
       "      <td>0.468095</td>\n",
       "      <td>0.368193</td>\n",
       "      <td>2.328976</td>\n",
       "      <td>0.000000</td>\n",
       "      <td>1</td>\n",
       "      <td>5.041488</td>\n",
       "      <td>0.0</td>\n",
       "      <td>0</td>\n",
       "      <td>0.090909</td>\n",
       "      <td>13.636652</td>\n",
       "      <td>2.0</td>\n",
       "      <td>0</td>\n",
       "      <td>0</td>\n",
       "      <td>0</td>\n",
       "      <td>0</td>\n",
       "      <td>0.000000</td>\n",
       "      <td>0</td>\n",
       "    </tr>\n",
       "    <tr>\n",
       "      <th>4</th>\n",
       "      <td>4</td>\n",
       "      <td>0.366191</td>\n",
       "      <td>0.258061</td>\n",
       "      <td>2.238987</td>\n",
       "      <td>0.000000</td>\n",
       "      <td>1</td>\n",
       "      <td>5.174158</td>\n",
       "      <td>4.0</td>\n",
       "      <td>0</td>\n",
       "      <td>0.000000</td>\n",
       "      <td>13.529500</td>\n",
       "      <td>0.0</td>\n",
       "      <td>1</td>\n",
       "      <td>1</td>\n",
       "      <td>0</td>\n",
       "      <td>0</td>\n",
       "      <td>0.000000</td>\n",
       "      <td>0</td>\n",
       "    </tr>\n",
       "  </tbody>\n",
       "</table>\n",
       "</div>"
      ],
      "text/plain": [
       "   Unnamed: 0  sim_content  sin_comment  word_count  duplicate_word_ratio  \\\n",
       "0           0     0.372249     0.280355    3.057751              0.083333   \n",
       "1           1     0.354255     0.341604    2.410947              0.000000   \n",
       "2           2     0.487752     0.314966    1.578192              0.000000   \n",
       "3           3     0.468095     0.368193    2.328976              0.000000   \n",
       "4           4     0.366191     0.258061    2.238987              0.000000   \n",
       "\n",
       "   no_of_sentences  length_of_comment  num_of_punctuations  \\\n",
       "0                3           6.612096                  4.0   \n",
       "1                1           4.897796                  1.0   \n",
       "2                1           3.791178                  0.0   \n",
       "3                1           5.041488                  0.0   \n",
       "4                1           5.174158                  4.0   \n",
       "\n",
       "   is_period_sequence  stop_word_ratio  post_coment_gap  black_word_count  \\\n",
       "0                   0         0.000000         8.750086               1.0   \n",
       "1                   0         0.000000        15.380144               2.0   \n",
       "2                   0         0.000000        14.181022               0.0   \n",
       "3                   0         0.090909        13.636652               2.0   \n",
       "4                   0         0.000000        13.529500               0.0   \n",
       "\n",
       "   is_link  is_youtube_link  is_number  is_mail  comment_duplication  \\\n",
       "0        1                0          0        0             0.000000   \n",
       "1        0                0          0        0             0.715092   \n",
       "2        0                0          0        0             0.000000   \n",
       "3        0                0          0        0             0.000000   \n",
       "4        1                1          0        0             0.000000   \n",
       "\n",
       "   classifier_val  \n",
       "0               1  \n",
       "1               0  \n",
       "2               0  \n",
       "3               0  \n",
       "4               0  "
      ]
     },
     "execution_count": 3,
     "metadata": {},
     "output_type": "execute_result"
    }
   ],
   "source": [
    "df.head()"
   ]
  },
  {
   "cell_type": "code",
   "execution_count": 4,
   "id": "c3c70a9e",
   "metadata": {},
   "outputs": [
    {
     "data": {
      "text/plain": [
       "Index(['id', 'sim_content', 'sin_comment', 'word_count',\n",
       "       'duplicate_word_ratio', 'no_of_sentences', 'length_of_comment',\n",
       "       'num_of_punctuations', 'is_period_sequence', 'stop_word_ratio',\n",
       "       'post_coment_gap', 'black_word_count', 'is_link', 'is_youtube_link',\n",
       "       'is_number', 'is_mail', 'comment_duplication', 'classifier_val'],\n",
       "      dtype='object')"
      ]
     },
     "execution_count": 4,
     "metadata": {},
     "output_type": "execute_result"
    }
   ],
   "source": [
    "df.rename(columns={'Unnamed: 0':'id'},inplace=True)\n",
    "df.columns"
   ]
  },
  {
   "cell_type": "markdown",
   "id": "0d4e790d",
   "metadata": {},
   "source": [
    "### Standardization"
   ]
  },
  {
   "cell_type": "code",
   "execution_count": 5,
   "id": "ebe456e5",
   "metadata": {},
   "outputs": [],
   "source": [
    "dfc = df.copy()"
   ]
  },
  {
   "cell_type": "code",
   "execution_count": 6,
   "id": "d4010b89",
   "metadata": {},
   "outputs": [],
   "source": [
    "y = dfc['classifier_val']\n",
    "X = dfc.drop(['classifier_val','id'],axis=1)"
   ]
  },
  {
   "cell_type": "code",
   "execution_count": 7,
   "id": "629a82c0",
   "metadata": {},
   "outputs": [],
   "source": [
    "from sklearn.model_selection import train_test_split\n",
    "X_train, X_test, y_train, y_test = train_test_split(X, y, test_size=0.3, random_state=42)"
   ]
  },
  {
   "cell_type": "code",
   "execution_count": 8,
   "id": "43f3a222",
   "metadata": {},
   "outputs": [],
   "source": [
    "from sklearn.preprocessing import StandardScaler\n",
    "scaler = StandardScaler().fit(X_train)\n",
    "X_train = scaler.transform(X_train) \n",
    "X_test = scaler.transform(X_test) "
   ]
  },
  {
   "cell_type": "code",
   "execution_count": null,
   "id": "45fa1f90",
   "metadata": {},
   "outputs": [],
   "source": []
  },
  {
   "cell_type": "markdown",
   "id": "dd98f660",
   "metadata": {},
   "source": [
    "### Handle imbalance dataset"
   ]
  },
  {
   "cell_type": "code",
   "execution_count": 9,
   "id": "39a73363",
   "metadata": {},
   "outputs": [
    {
     "data": {
      "text/plain": [
       "0    2540\n",
       "1     585\n",
       "Name: classifier_val, dtype: int64"
      ]
     },
     "execution_count": 9,
     "metadata": {},
     "output_type": "execute_result"
    }
   ],
   "source": [
    "dfc['classifier_val'].value_counts()"
   ]
  },
  {
   "cell_type": "code",
   "execution_count": 10,
   "id": "d6524452",
   "metadata": {},
   "outputs": [
    {
     "name": "stderr",
     "output_type": "stream",
     "text": [
      "C:\\Users\\Acer\\anaconda3\\lib\\site-packages\\imblearn\\utils\\_validation.py:638: FutureWarning: Pass sampling_strategy=1 as keyword args. From version 0.9 passing these as positional arguments will result in an error\n",
      "  FutureWarning)\n"
     ]
    },
    {
     "name": "stdout",
     "output_type": "stream",
     "text": [
      "The number of classes before fit Counter({0: 1778, 1: 409})\n",
      "The number of classes after fit Counter({1: 1760, 0: 1760})\n"
     ]
    }
   ],
   "source": [
    "from imblearn.combine import SMOTETomek\n",
    "from collections import Counter\n",
    "\n",
    "os=SMOTETomek(1)\n",
    "X_train_os,y_train_os=os.fit_sample(X_train,y_train)\n",
    "print(\"The number of classes before fit {}\".format(Counter(y_train)))\n",
    "print(\"The number of classes after fit {}\".format(Counter(y_train_os)))\n",
    "\n",
    "X_train = X_train_os\n",
    "y_train = y_train_os"
   ]
  },
  {
   "cell_type": "code",
   "execution_count": 11,
   "id": "1a82cf38",
   "metadata": {},
   "outputs": [],
   "source": [
    "X_train=np.asarray(X_train)\n",
    "y_train = np.asarray(y_train)"
   ]
  },
  {
   "cell_type": "code",
   "execution_count": 12,
   "id": "0d8dbd3a",
   "metadata": {},
   "outputs": [
    {
     "name": "stderr",
     "output_type": "stream",
     "text": [
      "Using TensorFlow backend.\n"
     ]
    }
   ],
   "source": [
    "# Importing the Keras libraries and packages\n",
    "#import keras\n",
    "from tensorflow import keras\n",
    "from tensorflow.keras import Sequential\n",
    "from tensorflow.keras.layers import Conv2D, Flatten, Dense\n",
    "from keras.layers import LeakyReLU,PReLU,ELU\n",
    "from tensorflow.keras.layers import Dropout\n",
    "\n"
   ]
  },
  {
   "cell_type": "code",
   "execution_count": 13,
   "id": "1dee73dc",
   "metadata": {},
   "outputs": [],
   "source": [
    "classifier = Sequential()\n",
    "\n",
    "# Adding the input layer and the first hidden layer\n",
    "classifier.add(Dense(units = 16, kernel_initializer = 'he_uniform',activation='relu',input_dim = 16))\n",
    "classifier.add(Dropout(0.3))\n",
    "# Adding the second hidden layer\n",
    "classifier.add(Dense(units = 6,  kernel_initializer = 'he_uniform',activation='relu'))\n",
    "classifier.add(Dropout(0.4))\n",
    "# Adding the output layer\n",
    "classifier.add(Dense(units= 1, kernel_initializer = 'glorot_uniform', activation = 'sigmoid'))\n",
    "classifier.add(Dropout(0.2))\n"
   ]
  },
  {
   "cell_type": "code",
   "execution_count": 14,
   "id": "d2d1d065",
   "metadata": {},
   "outputs": [],
   "source": [
    "# Compiling the ANN\n",
    "classifier.compile(optimizer = 'Adamax', loss = 'binary_crossentropy', metrics = ['accuracy'])\n"
   ]
  },
  {
   "cell_type": "code",
   "execution_count": 15,
   "id": "a6370072",
   "metadata": {},
   "outputs": [
    {
     "name": "stdout",
     "output_type": "stream",
     "text": [
      "Train on 2464 samples, validate on 1056 samples\n",
      "Epoch 1/100\n",
      "2464/2464 [==============================] - 2s 910us/sample - loss: 3.0013 - accuracy: 0.4919 - val_loss: 0.7331 - val_accuracy: 0.4858\n",
      "Epoch 2/100\n",
      "2464/2464 [==============================] - 1s 235us/sample - loss: 2.6638 - accuracy: 0.5203 - val_loss: 0.7419 - val_accuracy: 0.4867\n",
      "Epoch 3/100\n",
      "2464/2464 [==============================] - 1s 232us/sample - loss: 2.4819 - accuracy: 0.5434 - val_loss: 0.7524 - val_accuracy: 0.4867\n",
      "Epoch 4/100\n",
      "2464/2464 [==============================] - 1s 229us/sample - loss: 2.5866 - accuracy: 0.5560 - val_loss: 0.7634 - val_accuracy: 0.4792\n",
      "Epoch 5/100\n",
      "2464/2464 [==============================] - 1s 229us/sample - loss: 2.2774 - accuracy: 0.5548 - val_loss: 0.7740 - val_accuracy: 0.4820\n",
      "Epoch 6/100\n",
      "2464/2464 [==============================] - 1s 336us/sample - loss: 2.3994 - accuracy: 0.5588 - val_loss: 0.7903 - val_accuracy: 0.4792\n",
      "Epoch 7/100\n",
      "2464/2464 [==============================] - 1s 402us/sample - loss: 2.3715 - accuracy: 0.5706 - val_loss: 0.7973 - val_accuracy: 0.4811\n",
      "Epoch 8/100\n",
      "2464/2464 [==============================] - 1s 316us/sample - loss: 2.2311 - accuracy: 0.5844 - val_loss: 0.8017 - val_accuracy: 0.4744\n",
      "Epoch 9/100\n",
      "2464/2464 [==============================] - 1s 325us/sample - loss: 2.2998 - accuracy: 0.5763 - val_loss: 0.8090 - val_accuracy: 0.4451\n",
      "Epoch 10/100\n",
      "2464/2464 [==============================] - 1s 296us/sample - loss: 2.3267 - accuracy: 0.5873 - val_loss: 0.8224 - val_accuracy: 0.4176\n",
      "Epoch 11/100\n",
      "2464/2464 [==============================] - 1s 324us/sample - loss: 2.0774 - accuracy: 0.6051 - val_loss: 0.8368 - val_accuracy: 0.4025\n",
      "Epoch 12/100\n",
      "2464/2464 [==============================] - 1s 273us/sample - loss: 2.0923 - accuracy: 0.6031 - val_loss: 0.8443 - val_accuracy: 0.4025\n",
      "Epoch 13/100\n",
      "2464/2464 [==============================] - 1s 238us/sample - loss: 2.0652 - accuracy: 0.6173 - val_loss: 0.8519 - val_accuracy: 0.4205\n",
      "Epoch 14/100\n",
      "2464/2464 [==============================] - 1s 234us/sample - loss: 1.9579 - accuracy: 0.6278 - val_loss: 0.8610 - val_accuracy: 0.4157\n",
      "Epoch 15/100\n",
      "2464/2464 [==============================] - 1s 236us/sample - loss: 1.9732 - accuracy: 0.6278 - val_loss: 0.8716 - val_accuracy: 0.4100\n",
      "Epoch 16/100\n",
      "2464/2464 [==============================] - 1s 232us/sample - loss: 1.9707 - accuracy: 0.6226 - val_loss: 0.8762 - val_accuracy: 0.4091\n",
      "Epoch 17/100\n",
      "2464/2464 [==============================] - 1s 268us/sample - loss: 1.9278 - accuracy: 0.6218 - val_loss: 0.8809 - val_accuracy: 0.4034\n",
      "Epoch 18/100\n",
      "2464/2464 [==============================] - 1s 266us/sample - loss: 1.8345 - accuracy: 0.6295 - val_loss: 0.8930 - val_accuracy: 0.4015\n",
      "Epoch 19/100\n",
      "2464/2464 [==============================] - 1s 368us/sample - loss: 1.8863 - accuracy: 0.6193 - val_loss: 0.8999 - val_accuracy: 0.3977\n",
      "Epoch 20/100\n",
      "2464/2464 [==============================] - 1s 247us/sample - loss: 2.0549 - accuracy: 0.6307 - val_loss: 0.9096 - val_accuracy: 0.3987\n",
      "Epoch 21/100\n",
      "2464/2464 [==============================] - 1s 236us/sample - loss: 2.0022 - accuracy: 0.6319 - val_loss: 0.9149 - val_accuracy: 0.3977\n",
      "Epoch 22/100\n",
      "2464/2464 [==============================] - 1s 277us/sample - loss: 1.9228 - accuracy: 0.6339 - val_loss: 0.9197 - val_accuracy: 0.3987\n",
      "Epoch 23/100\n",
      "2464/2464 [==============================] - 1s 251us/sample - loss: 1.8391 - accuracy: 0.6514 - val_loss: 0.9281 - val_accuracy: 0.3977\n",
      "Epoch 24/100\n",
      "2464/2464 [==============================] - 1s 269us/sample - loss: 1.7355 - accuracy: 0.6465 - val_loss: 0.9437 - val_accuracy: 0.3939\n",
      "Epoch 25/100\n",
      "2464/2464 [==============================] - 1s 301us/sample - loss: 1.8782 - accuracy: 0.6489 - val_loss: 0.9501 - val_accuracy: 0.3911\n",
      "Epoch 26/100\n",
      "2464/2464 [==============================] - 1s 316us/sample - loss: 1.8578 - accuracy: 0.6583 - val_loss: 0.9530 - val_accuracy: 0.3911\n",
      "Epoch 27/100\n",
      "2464/2464 [==============================] - 1s 277us/sample - loss: 1.8268 - accuracy: 0.6441 - val_loss: 0.9605 - val_accuracy: 0.3835\n",
      "Epoch 28/100\n",
      "2464/2464 [==============================] - 1s 269us/sample - loss: 1.8247 - accuracy: 0.6562 - val_loss: 0.9667 - val_accuracy: 0.3788\n",
      "Epoch 29/100\n",
      "2464/2464 [==============================] - 1s 325us/sample - loss: 1.8355 - accuracy: 0.6615 - val_loss: 0.9694 - val_accuracy: 0.3797\n",
      "Epoch 30/100\n",
      "2464/2464 [==============================] - 1s 241us/sample - loss: 1.7993 - accuracy: 0.6733 - val_loss: 0.9784 - val_accuracy: 0.3759\n",
      "Epoch 31/100\n",
      "2464/2464 [==============================] - 1s 219us/sample - loss: 1.8597 - accuracy: 0.6611 - val_loss: 0.9864 - val_accuracy: 0.3674\n",
      "Epoch 32/100\n",
      "2464/2464 [==============================] - 1s 230us/sample - loss: 1.6576 - accuracy: 0.6705 - val_loss: 0.9982 - val_accuracy: 0.3627\n",
      "Epoch 33/100\n",
      "2464/2464 [==============================] - 1s 215us/sample - loss: 1.7544 - accuracy: 0.6696 - val_loss: 1.0049 - val_accuracy: 0.3580\n",
      "Epoch 34/100\n",
      "2464/2464 [==============================] - 1s 215us/sample - loss: 1.7451 - accuracy: 0.6705 - val_loss: 1.0105 - val_accuracy: 0.3513\n",
      "Epoch 35/100\n",
      "2464/2464 [==============================] - 1s 212us/sample - loss: 1.6910 - accuracy: 0.6729 - val_loss: 1.0172 - val_accuracy: 0.3456\n",
      "Epoch 36/100\n",
      "2464/2464 [==============================] - 1s 216us/sample - loss: 1.6151 - accuracy: 0.6761 - val_loss: 1.0255 - val_accuracy: 0.3456\n",
      "Epoch 37/100\n",
      "2464/2464 [==============================] - 1s 208us/sample - loss: 1.7539 - accuracy: 0.6891 - val_loss: 1.0243 - val_accuracy: 0.3438\n",
      "Epoch 38/100\n",
      "2464/2464 [==============================] - 1s 208us/sample - loss: 1.6620 - accuracy: 0.6964 - val_loss: 1.0294 - val_accuracy: 0.3409\n",
      "Epoch 39/100\n",
      "2464/2464 [==============================] - 1s 206us/sample - loss: 1.5691 - accuracy: 0.6834 - val_loss: 1.0348 - val_accuracy: 0.3343\n",
      "Epoch 40/100\n",
      "2464/2464 [==============================] - 1s 209us/sample - loss: 1.5985 - accuracy: 0.6952 - val_loss: 1.0382 - val_accuracy: 0.3295\n",
      "Epoch 41/100\n",
      "2464/2464 [==============================] - 1s 206us/sample - loss: 1.6907 - accuracy: 0.6895 - val_loss: 1.0445 - val_accuracy: 0.3172\n",
      "Epoch 42/100\n",
      "2464/2464 [==============================] - 1s 210us/sample - loss: 1.5195 - accuracy: 0.7037 - val_loss: 1.0480 - val_accuracy: 0.3163\n",
      "Epoch 43/100\n",
      "2464/2464 [==============================] - 1s 209us/sample - loss: 1.6452 - accuracy: 0.6912 - val_loss: 1.0481 - val_accuracy: 0.3087\n",
      "Epoch 44/100\n",
      "2464/2464 [==============================] - 1s 212us/sample - loss: 1.5415 - accuracy: 0.7070 - val_loss: 1.0511 - val_accuracy: 0.3002\n",
      "Epoch 45/100\n",
      "2464/2464 [==============================] - 1s 206us/sample - loss: 1.5651 - accuracy: 0.6956 - val_loss: 1.0522 - val_accuracy: 0.2926\n",
      "Epoch 46/100\n",
      "2464/2464 [==============================] - 1s 217us/sample - loss: 1.5968 - accuracy: 0.6903 - val_loss: 1.0507 - val_accuracy: 0.2917\n",
      "Epoch 47/100\n",
      "2464/2464 [==============================] - 1s 209us/sample - loss: 1.4866 - accuracy: 0.7171 - val_loss: 1.0566 - val_accuracy: 0.2869\n",
      "Epoch 48/100\n",
      "2464/2464 [==============================] - 1s 213us/sample - loss: 1.4341 - accuracy: 0.7001 - val_loss: 1.0591 - val_accuracy: 0.2831\n",
      "Epoch 49/100\n",
      "2464/2464 [==============================] - 1s 208us/sample - loss: 1.5838 - accuracy: 0.7143 - val_loss: 1.0621 - val_accuracy: 0.2803\n",
      "Epoch 50/100\n",
      "2464/2464 [==============================] - 1s 212us/sample - loss: 1.5974 - accuracy: 0.6964 - val_loss: 1.0635 - val_accuracy: 0.2765\n",
      "Epoch 51/100\n",
      "2464/2464 [==============================] - 1s 208us/sample - loss: 1.5577 - accuracy: 0.6972 - val_loss: 1.0706 - val_accuracy: 0.2708\n",
      "Epoch 52/100\n",
      "2464/2464 [==============================] - 1s 215us/sample - loss: 1.4556 - accuracy: 0.7216 - val_loss: 1.0695 - val_accuracy: 0.2699\n",
      "Epoch 53/100\n",
      "2464/2464 [==============================] - 1s 216us/sample - loss: 1.4486 - accuracy: 0.7155 - val_loss: 1.0717 - val_accuracy: 0.2652\n",
      "Epoch 54/100\n",
      "2464/2464 [==============================] - 1s 217us/sample - loss: 1.5149 - accuracy: 0.7086 - val_loss: 1.0801 - val_accuracy: 0.2633\n",
      "Epoch 55/100\n",
      "2464/2464 [==============================] - 1s 216us/sample - loss: 1.4685 - accuracy: 0.7204 - val_loss: 1.0770 - val_accuracy: 0.2585\n",
      "Epoch 56/100\n",
      "2464/2464 [==============================] - 1s 237us/sample - loss: 1.3802 - accuracy: 0.7317 - val_loss: 1.0820 - val_accuracy: 0.2614\n",
      "Epoch 57/100\n",
      "2464/2464 [==============================] - 1s 228us/sample - loss: 1.5022 - accuracy: 0.7183 - val_loss: 1.0873 - val_accuracy: 0.2614\n",
      "Epoch 58/100\n",
      "2464/2464 [==============================] - 1s 237us/sample - loss: 1.4754 - accuracy: 0.7301 - val_loss: 1.0847 - val_accuracy: 0.2614\n",
      "Epoch 59/100\n",
      "2464/2464 [==============================] - 1s 236us/sample - loss: 1.3804 - accuracy: 0.7386 - val_loss: 1.0799 - val_accuracy: 0.2614\n",
      "Epoch 60/100\n",
      "2464/2464 [==============================] - 1s 230us/sample - loss: 1.4003 - accuracy: 0.7293 - val_loss: 1.0823 - val_accuracy: 0.2831\n",
      "Epoch 61/100\n",
      "2464/2464 [==============================] - 1s 221us/sample - loss: 1.3710 - accuracy: 0.7342 - val_loss: 1.0833 - val_accuracy: 0.2822\n",
      "Epoch 62/100\n",
      "2464/2464 [==============================] - 1s 226us/sample - loss: 1.3893 - accuracy: 0.7265 - val_loss: 1.0871 - val_accuracy: 0.2784\n",
      "Epoch 63/100\n",
      "2464/2464 [==============================] - 1s 226us/sample - loss: 1.3306 - accuracy: 0.7378 - val_loss: 1.0892 - val_accuracy: 0.2775\n",
      "Epoch 64/100\n",
      "2464/2464 [==============================] - 1s 219us/sample - loss: 1.4011 - accuracy: 0.7362 - val_loss: 1.0870 - val_accuracy: 0.2794\n",
      "Epoch 65/100\n",
      "2464/2464 [==============================] - 1s 217us/sample - loss: 1.3832 - accuracy: 0.7390 - val_loss: 1.0856 - val_accuracy: 0.2803\n",
      "Epoch 66/100\n",
      "2464/2464 [==============================] - 1s 212us/sample - loss: 1.4019 - accuracy: 0.7447 - val_loss: 1.0842 - val_accuracy: 0.2812\n",
      "Epoch 67/100\n",
      "2464/2464 [==============================] - 1s 213us/sample - loss: 1.3912 - accuracy: 0.7427 - val_loss: 1.0886 - val_accuracy: 0.2812\n",
      "Epoch 68/100\n",
      "2464/2464 [==============================] - 1s 213us/sample - loss: 1.3251 - accuracy: 0.7468 - val_loss: 1.0878 - val_accuracy: 0.2812\n",
      "Epoch 69/100\n",
      "2464/2464 [==============================] - 1s 206us/sample - loss: 1.4169 - accuracy: 0.7435 - val_loss: 1.0917 - val_accuracy: 0.2812\n",
      "Epoch 70/100\n",
      "2464/2464 [==============================] - 1s 209us/sample - loss: 1.3223 - accuracy: 0.7423 - val_loss: 1.0892 - val_accuracy: 0.2803\n",
      "Epoch 71/100\n",
      "2464/2464 [==============================] - 1s 216us/sample - loss: 1.3221 - accuracy: 0.7634 - val_loss: 1.0940 - val_accuracy: 0.2803\n",
      "Epoch 72/100\n",
      "2464/2464 [==============================] - 1s 222us/sample - loss: 1.2998 - accuracy: 0.7573 - val_loss: 1.1001 - val_accuracy: 0.2812\n",
      "Epoch 73/100\n",
      "2464/2464 [==============================] - 1s 215us/sample - loss: 1.3403 - accuracy: 0.7496 - val_loss: 1.0958 - val_accuracy: 0.2812\n",
      "Epoch 74/100\n",
      "2464/2464 [==============================] - 1s 223us/sample - loss: 1.2850 - accuracy: 0.7500 - val_loss: 1.0933 - val_accuracy: 0.2803\n",
      "Epoch 75/100\n",
      "2464/2464 [==============================] - 1s 211us/sample - loss: 1.2492 - accuracy: 0.7480 - val_loss: 1.0902 - val_accuracy: 0.2765\n",
      "Epoch 76/100\n",
      "2464/2464 [==============================] - 1s 212us/sample - loss: 1.2806 - accuracy: 0.7642 - val_loss: 1.0890 - val_accuracy: 0.2765\n",
      "Epoch 77/100\n",
      "2464/2464 [==============================] - 1s 213us/sample - loss: 1.2997 - accuracy: 0.7601 - val_loss: 1.0877 - val_accuracy: 0.2812\n",
      "Epoch 78/100\n",
      "2464/2464 [==============================] - 1s 211us/sample - loss: 1.3563 - accuracy: 0.7573 - val_loss: 1.0843 - val_accuracy: 0.2831\n",
      "Epoch 79/100\n",
      "2464/2464 [==============================] - 1s 238us/sample - loss: 1.3275 - accuracy: 0.7553 - val_loss: 1.0903 - val_accuracy: 0.2765\n",
      "Epoch 80/100\n",
      "2464/2464 [==============================] - 1s 214us/sample - loss: 1.2647 - accuracy: 0.7622 - val_loss: 1.0896 - val_accuracy: 0.2794\n",
      "Epoch 81/100\n",
      "2464/2464 [==============================] - 1s 234us/sample - loss: 1.3069 - accuracy: 0.7508 - val_loss: 1.0899 - val_accuracy: 0.2718\n",
      "Epoch 82/100\n",
      "2464/2464 [==============================] - 1s 318us/sample - loss: 1.3020 - accuracy: 0.7532 - val_loss: 1.0862 - val_accuracy: 0.2775\n",
      "Epoch 83/100\n",
      "2464/2464 [==============================] - 1s 466us/sample - loss: 1.3478 - accuracy: 0.7687 - val_loss: 1.0861 - val_accuracy: 0.2812\n",
      "Epoch 84/100\n",
      "2464/2464 [==============================] - 1s 239us/sample - loss: 1.2842 - accuracy: 0.7553 - val_loss: 1.0805 - val_accuracy: 0.3059\n",
      "Epoch 85/100\n",
      "2464/2464 [==============================] - 1s 231us/sample - loss: 1.2781 - accuracy: 0.7520 - val_loss: 1.0730 - val_accuracy: 0.3116\n",
      "Epoch 86/100\n",
      "2464/2464 [==============================] - 1s 304us/sample - loss: 1.3460 - accuracy: 0.7622 - val_loss: 1.0642 - val_accuracy: 0.3191\n",
      "Epoch 87/100\n",
      "2464/2464 [==============================] - 1s 275us/sample - loss: 1.3475 - accuracy: 0.7614 - val_loss: 1.0579 - val_accuracy: 0.3362\n",
      "Epoch 88/100\n",
      "2464/2464 [==============================] - 1s 268us/sample - loss: 1.3921 - accuracy: 0.7666 - val_loss: 1.0642 - val_accuracy: 0.3438\n",
      "Epoch 89/100\n",
      "2464/2464 [==============================] - 1s 248us/sample - loss: 1.2783 - accuracy: 0.7626 - val_loss: 1.0621 - val_accuracy: 0.3646\n",
      "Epoch 90/100\n",
      "2464/2464 [==============================] - 1s 266us/sample - loss: 1.3996 - accuracy: 0.7589 - val_loss: 1.0593 - val_accuracy: 0.3646\n",
      "Epoch 91/100\n",
      "2464/2464 [==============================] - 1s 247us/sample - loss: 1.2171 - accuracy: 0.7817 - val_loss: 1.0553 - val_accuracy: 0.3703\n",
      "Epoch 92/100\n",
      "2464/2464 [==============================] - 1s 249us/sample - loss: 1.2521 - accuracy: 0.7675 - val_loss: 1.0546 - val_accuracy: 0.3778\n",
      "Epoch 93/100\n",
      "2464/2464 [==============================] - 1s 236us/sample - loss: 1.3237 - accuracy: 0.7764 - val_loss: 1.0474 - val_accuracy: 0.3854\n",
      "Epoch 94/100\n",
      "2464/2464 [==============================] - 1s 236us/sample - loss: 1.2748 - accuracy: 0.7699 - val_loss: 1.0364 - val_accuracy: 0.3902\n",
      "Epoch 95/100\n",
      "2464/2464 [==============================] - 1s 234us/sample - loss: 1.2501 - accuracy: 0.7772 - val_loss: 1.0322 - val_accuracy: 0.3968\n",
      "Epoch 96/100\n",
      "2464/2464 [==============================] - 1s 293us/sample - loss: 1.3025 - accuracy: 0.7642 - val_loss: 1.0152 - val_accuracy: 0.4403\n",
      "Epoch 97/100\n",
      "2464/2464 [==============================] - 1s 267us/sample - loss: 1.2536 - accuracy: 0.7650 - val_loss: 1.0109 - val_accuracy: 0.4688\n",
      "Epoch 98/100\n",
      "2464/2464 [==============================] - 1s 246us/sample - loss: 1.2543 - accuracy: 0.7618 - val_loss: 1.0064 - val_accuracy: 0.4735\n",
      "Epoch 99/100\n",
      "2464/2464 [==============================] - 1s 269us/sample - loss: 1.2748 - accuracy: 0.7792 - val_loss: 0.9980 - val_accuracy: 0.4792\n",
      "Epoch 100/100\n",
      "2464/2464 [==============================] - 1s 257us/sample - loss: 1.3339 - accuracy: 0.7707 - val_loss: 0.9921 - val_accuracy: 0.4782\n"
     ]
    }
   ],
   "source": [
    "# Fitting the ANN to the Training set\n",
    "model_history=classifier.fit(X_train, y_train,validation_split=0.3, batch_size = 10, epochs = 100)"
   ]
  },
  {
   "cell_type": "code",
   "execution_count": 16,
   "id": "2c1cda43",
   "metadata": {},
   "outputs": [
    {
     "name": "stdout",
     "output_type": "stream",
     "text": [
      "dict_keys(['loss', 'accuracy', 'val_loss', 'val_accuracy'])\n"
     ]
    },
    {
     "data": {
      "image/png": "[encoded data removed]",
      "text/plain": [
       "<Figure size 432x288 with 1 Axes>"
      ]
     },
     "metadata": {
      "needs_background": "light"
     },
     "output_type": "display_data"
    }
   ],
   "source": [
    "print(model_history.history.keys())\n",
    "# summarize history for accuracy\n",
    "plt.plot(model_history.history['accuracy'])\n",
    "plt.plot(model_history.history['val_accuracy'])\n",
    "plt.title('model accuracy')\n",
    "plt.ylabel('accuracy')\n",
    "plt.xlabel('epoch')\n",
    "plt.legend(['train', 'test'], loc='upper left')\n",
    "plt.show()"
   ]
  },
  {
   "cell_type": "code",
   "execution_count": 17,
   "id": "2bc9df0a",
   "metadata": {},
   "outputs": [
    {
     "data": {
      "image/png": "[encoded data removed]",
      "text/plain": [
       "<Figure size 432x288 with 1 Axes>"
      ]
     },
     "metadata": {
      "needs_background": "light"
     },
     "output_type": "display_data"
    }
   ],
   "source": [
    "# summarize history for loss\n",
    "plt.plot(model_history.history['loss'])\n",
    "plt.plot(model_history.history['val_loss'])\n",
    "plt.title('model loss')\n",
    "plt.ylabel('loss')\n",
    "plt.xlabel('epoch')\n",
    "plt.legend(['train', 'test'], loc='upper left')\n",
    "plt.show()"
   ]
  },
  {
   "cell_type": "code",
   "execution_count": 19,
   "id": "2b899e0f",
   "metadata": {},
   "outputs": [],
   "source": [
    "# Predicting the Test set results\n",
    "y_pred = classifier.predict(X_test)\n",
    "y_pred = (y_pred > 0.5)\n",
    "\n",
    "# Making the Confusion Matrix\n",
    "from sklearn.metrics import confusion_matrix\n",
    "cm = confusion_matrix(y_test, y_pred)\n",
    "\n",
    "# Calculate the Accuracy\n",
    "from sklearn.metrics import accuracy_score\n",
    "score=accuracy_score(y_pred,y_test)"
   ]
  },
  {
   "cell_type": "code",
   "execution_count": 20,
   "id": "82728bf4",
   "metadata": {},
   "outputs": [
    {
     "data": {
      "text/plain": [
       "array([[754,   8],\n",
       "       [103,  73]], dtype=int64)"
      ]
     },
     "execution_count": 20,
     "metadata": {},
     "output_type": "execute_result"
    }
   ],
   "source": [
    "cm"
   ]
  },
  {
   "cell_type": "code",
   "execution_count": 21,
   "id": "945fbba7",
   "metadata": {},
   "outputs": [
    {
     "data": {
      "text/plain": [
       "0.8816631130063965"
      ]
     },
     "execution_count": 21,
     "metadata": {},
     "output_type": "execute_result"
    }
   ],
   "source": [
    "score"
   ]
  },
  {
   "cell_type": "code",
   "execution_count": null,
   "id": "486a70c3",
   "metadata": {},
   "outputs": [],
   "source": []
  }
 ],
 "metadata": {
  "kernelspec": {
   "display_name": "Python 3",
   "language": "python",
   "name": "python3"
  },
  "language_info": {
   "codemirror_mode": {
    "name": "ipython",
    "version": 3
   },
   "file_extension": ".py",
   "mimetype": "text/x-python",
   "name": "python",
   "nbconvert_exporter": "python",
   "pygments_lexer": "ipython3",
   "version": "3.7.9"
  }
 },
 "nbformat": 4,
 "nbformat_minor": 5
}
