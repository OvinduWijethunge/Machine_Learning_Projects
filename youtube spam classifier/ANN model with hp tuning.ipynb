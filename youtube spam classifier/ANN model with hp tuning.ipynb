{
  "nbformat": 4,
  "nbformat_minor": 5,
  "metadata": {
    "kernelspec": {
      "display_name": "Python 3",
      "language": "python",
      "name": "python3"
    },
    "language_info": {
      "codemirror_mode": {
        "name": "ipython",
        "version": 3
      },
      "file_extension": ".py",
      "mimetype": "text/x-python",
      "name": "python",
      "nbconvert_exporter": "python",
      "pygments_lexer": "ipython3",
      "version": "3.7.9"
    },
    "colab": {
      "name": "ANN model with hp tuning.ipynb",
      "provenance": [],
      "include_colab_link": true
    },
    "accelerator": "TPU"
  },
  "cells": [
    {
      "cell_type": "markdown",
      "metadata": {
        "id": "view-in-github",
        "colab_type": "text"
      },
      "source": [
        "<a href=\"https://colab.research.google.com/github/OvinduWijethunge/Machine_Learning_Projects/blob/version-1/youtube%20spam%20classifier/ANN%20model%20with%20hp%20tuning.ipynb\" target=\"_parent\"><img src=\"https://colab.research.google.com/assets/colab-badge.svg\" alt=\"Open In Colab\"/></a>"
      ]
    },
    {
      "cell_type": "code",
      "metadata": {
        "id": "a100c068"
      },
      "source": [
        "import pandas as pd\n",
        "import matplotlib.pyplot as plt\n",
        "import numpy as np\n",
        "\n",
        "from keras.models import Sequential\n",
        "from keras.layers import Dense, Activation, Embedding, Flatten, LeakyReLU, BatchNormalization, Dropout\n",
        "from keras.activations import relu, sigmoid\n",
        "from keras.layers import LeakyReLU\n",
        "\n",
        "from sklearn.preprocessing import StandardScaler"
      ],
      "id": "a100c068",
      "execution_count": 23,
      "outputs": []
    },
    {
      "cell_type": "code",
      "metadata": {
        "id": "0e4374d9"
      },
      "source": [
        "#df = pd.read_csv('model.csv')\n",
        "url = 'https://raw.githubusercontent.com/OvinduWijethunge/Machine_Learning_Projects/master/youtube%20spam%20classifier/models.csv'\n",
        "df = pd.read_csv(url)"
      ],
      "id": "0e4374d9",
      "execution_count": 24,
      "outputs": []
    },
    {
      "cell_type": "code",
      "metadata": {
        "id": "2c4a1420",
        "colab": {
          "base_uri": "https://localhost:8080/"
        },
        "outputId": "4f222085-3b47-410f-beb9-4e61860e4615"
      },
      "source": [
        "df.rename(columns={'Unnamed: 0':'id'},inplace=True)\n",
        "df.columns"
      ],
      "id": "2c4a1420",
      "execution_count": 25,
      "outputs": [
        {
          "output_type": "execute_result",
          "data": {
            "text/plain": [
              "Index(['id', 'sim_content', 'sim_comment', 'word_count',\n",
              "       'duplicate_word_ratio', 'length_of_comment', 'stop_word_ratio',\n",
              "       'post_coment_gap', 'black_word_count', 'comment_duplication', 'is_spam',\n",
              "       'no_of_sentences_2', 'no_of_sentences_3', 'num_of_punctuations_1.0',\n",
              "       'num_of_punctuations_2.0', 'num_of_punctuations_3.0',\n",
              "       'num_of_punctuations_4.0', 'num_of_punctuations_5.0',\n",
              "       'num_of_punctuations_6.0', 'is_period_sequence_1', 'is_link_1',\n",
              "       'is_youtube_link_1', 'is_number_1'],\n",
              "      dtype='object')"
            ]
          },
          "metadata": {
            "tags": []
          },
          "execution_count": 25
        }
      ]
    },
    {
      "cell_type": "code",
      "metadata": {
        "id": "c7ab826e"
      },
      "source": [
        "dfc = df.copy()"
      ],
      "id": "c7ab826e",
      "execution_count": 26,
      "outputs": []
    },
    {
      "cell_type": "code",
      "metadata": {
        "id": "3d18f6f7"
      },
      "source": [
        "y = dfc['is_spam']\n",
        "X = dfc.drop(['is_spam','id'],axis=1)"
      ],
      "id": "3d18f6f7",
      "execution_count": 27,
      "outputs": []
    },
    {
      "cell_type": "code",
      "metadata": {
        "id": "786e7c1a"
      },
      "source": [
        ""
      ],
      "id": "786e7c1a",
      "execution_count": 27,
      "outputs": []
    },
    {
      "cell_type": "code",
      "metadata": {
        "id": "0063e131"
      },
      "source": [
        ""
      ],
      "id": "0063e131",
      "execution_count": 27,
      "outputs": []
    },
    {
      "cell_type": "code",
      "metadata": {
        "id": "67da6c71",
        "colab": {
          "base_uri": "https://localhost:8080/"
        },
        "outputId": "ab0ef41f-e3fc-4d23-ecc9-794223f7d922"
      },
      "source": [
        "from imblearn.over_sampling import RandomOverSampler\n",
        "from collections import Counter\n",
        "\n",
        "os=RandomOverSampler(0.9)\n",
        "X_ns,y_ns=os.fit_sample(X,y)\n",
        "print(\"The number of classes before fit {}\".format(Counter(y)))\n",
        "print(\"The number of classes after fit {}\".format(Counter(y_ns)))\n",
        "\n",
        "X = X_ns\n",
        "y = y_ns"
      ],
      "id": "67da6c71",
      "execution_count": 28,
      "outputs": [
        {
          "output_type": "stream",
          "text": [
            "The number of classes before fit Counter({0: 6255, 1: 712})\n",
            "The number of classes after fit Counter({0: 6255, 1: 5629})\n"
          ],
          "name": "stdout"
        },
        {
          "output_type": "stream",
          "text": [
            "/usr/local/lib/python3.7/dist-packages/sklearn/utils/deprecation.py:87: FutureWarning: Function safe_indexing is deprecated; safe_indexing is deprecated in version 0.22 and will be removed in version 0.24.\n",
            "  warnings.warn(msg, category=FutureWarning)\n"
          ],
          "name": "stderr"
        }
      ]
    },
    {
      "cell_type": "code",
      "metadata": {
        "id": "mhXtFDe-7GW8"
      },
      "source": [
        "from sklearn.model_selection import train_test_split\n",
        "X_train, X_test, y_train, y_test = train_test_split(X, y, test_size=0.3, random_state=42)"
      ],
      "id": "mhXtFDe-7GW8",
      "execution_count": 29,
      "outputs": []
    },
    {
      "cell_type": "code",
      "metadata": {
        "id": "RhLrEL9c7HnK"
      },
      "source": [
        "from sklearn.preprocessing import StandardScaler\n",
        "scaler = StandardScaler().fit(X_train)\n",
        "X_train = scaler.transform(X_train) \n",
        "X_test = scaler.transform(X_test) "
      ],
      "id": "RhLrEL9c7HnK",
      "execution_count": 30,
      "outputs": []
    },
    {
      "cell_type": "code",
      "metadata": {
        "id": "b1b117b3"
      },
      "source": [
        "X_train=np.asarray(X_train)\n",
        "y_train = np.asarray(y_train)"
      ],
      "id": "b1b117b3",
      "execution_count": 31,
      "outputs": []
    },
    {
      "cell_type": "code",
      "metadata": {
        "id": "a3848620"
      },
      "source": [
        "from keras.wrappers.scikit_learn import KerasClassifier\n",
        "#from sklearn.model_selection import GridSearchCV"
      ],
      "id": "a3848620",
      "execution_count": 32,
      "outputs": []
    },
    {
      "cell_type": "code",
      "metadata": {
        "id": "4fd4e5ef"
      },
      "source": [
        "def create_model(layers, activation):\n",
        "    model = Sequential()\n",
        "    for i, nodes in enumerate(layers):\n",
        "        if i==0:\n",
        "            model.add(Dense(nodes,input_dim=X_train.shape[1]))\n",
        "            model.add(Activation(activation))\n",
        "        else:\n",
        "            model.add(Dense(nodes))\n",
        "            model.add(Activation(activation))\n",
        "    model.add(Dense(1)) # Note: no activation beyond this point\n",
        "    \n",
        "    model.compile(optimizer='adam', loss='binary_crossentropy',metrics=['accuracy'])\n",
        "    return model"
      ],
      "id": "4fd4e5ef",
      "execution_count": 33,
      "outputs": []
    },
    {
      "cell_type": "code",
      "metadata": {
        "id": "724b70d1"
      },
      "source": [
        "model = KerasClassifier(build_fn=create_model, verbose=0)"
      ],
      "id": "724b70d1",
      "execution_count": 34,
      "outputs": []
    },
    {
      "cell_type": "code",
      "metadata": {
        "id": "d22e4ed7",
        "colab": {
          "base_uri": "https://localhost:8080/"
        },
        "outputId": "a7e3cbe6-4365-4c86-a6b2-858ecfbda90c"
      },
      "source": [
        "model"
      ],
      "id": "d22e4ed7",
      "execution_count": 35,
      "outputs": [
        {
          "output_type": "execute_result",
          "data": {
            "text/plain": [
              "<tensorflow.python.keras.wrappers.scikit_learn.KerasClassifier at 0x7f3e57226090>"
            ]
          },
          "metadata": {
            "tags": []
          },
          "execution_count": 35
        }
      ]
    },
    {
      "cell_type": "code",
      "metadata": {
        "id": "ABpuHJXaqH0X"
      },
      "source": [
        "from sklearn.model_selection import StratifiedKFold\n",
        "cv = StratifiedKFold(n_splits=10, shuffle=True)"
      ],
      "id": "ABpuHJXaqH0X",
      "execution_count": 36,
      "outputs": []
    },
    {
      "cell_type": "code",
      "metadata": {
        "id": "042f254f"
      },
      "source": [
        "layers = [(20,), (40, 20), (45, 30, 15)]\n",
        "activations = ['sigmoid', 'relu']\n",
        "param_grid = dict(layers=layers, activation=activations, batch_size = [128, 256], epochs=[30])\n",
        "#grid = GridSearchCV(estimator=model, param_grid=param_grid,n_jobs=-1,n_iter = 100, cv=cv, scoring='accuracy',verbose=2)\n",
        "\n",
        "from sklearn.model_selection import RandomizedSearchCV\n",
        "grid_result= RandomizedSearchCV(estimator=model, param_distributions=param_grid, n_jobs=-1,n_iter = 100, cv=cv, scoring='accuracy',error_score=0,return_train_score=True,verbose=2)"
      ],
      "id": "042f254f",
      "execution_count": 37,
      "outputs": []
    },
    {
      "cell_type": "code",
      "metadata": {
        "id": "4db74863",
        "colab": {
          "base_uri": "https://localhost:8080/"
        },
        "outputId": "bf6c50d2-31ce-49b4-a6ea-523595962fba"
      },
      "source": [
        " grid_result.fit(X_train, y_train)"
      ],
      "id": "4db74863",
      "execution_count": 38,
      "outputs": [
        {
          "output_type": "stream",
          "text": [
            "Fitting 10 folds for each of 12 candidates, totalling 120 fits\n"
          ],
          "name": "stdout"
        },
        {
          "output_type": "stream",
          "text": [
            "/usr/local/lib/python3.7/dist-packages/sklearn/model_selection/_search.py:281: UserWarning: The total space of parameters 12 is smaller than n_iter=100. Running 12 iterations. For exhaustive searches, use GridSearchCV.\n",
            "  % (grid_size, self.n_iter, grid_size), UserWarning)\n",
            "[Parallel(n_jobs=-1)]: Using backend LokyBackend with 2 concurrent workers.\n",
            "[Parallel(n_jobs=-1)]: Done  37 tasks      | elapsed:  1.3min\n",
            "[Parallel(n_jobs=-1)]: Done 120 out of 120 | elapsed:  3.7min finished\n"
          ],
          "name": "stderr"
        },
        {
          "output_type": "execute_result",
          "data": {
            "text/plain": [
              "RandomizedSearchCV(cv=StratifiedKFold(n_splits=10, random_state=None, shuffle=True),\n",
              "                   error_score=0,\n",
              "                   estimator=<tensorflow.python.keras.wrappers.scikit_learn.KerasClassifier object at 0x7f3e57226090>,\n",
              "                   iid='deprecated', n_iter=100, n_jobs=-1,\n",
              "                   param_distributions={'activation': ['sigmoid', 'relu'],\n",
              "                                        'batch_size': [128, 256],\n",
              "                                        'epochs': [30],\n",
              "                                        'layers': [(20,), (40, 20),\n",
              "                                                   (45, 30, 15)]},\n",
              "                   pre_dispatch='2*n_jobs', random_state=None, refit=True,\n",
              "                   return_train_score=True, scoring='accuracy', verbose=2)"
            ]
          },
          "metadata": {
            "tags": []
          },
          "execution_count": 0
        }
      ]
    },
    {
      "cell_type": "code",
      "metadata": {
        "id": "87037382",
        "colab": {
          "base_uri": "https://localhost:8080/"
        },
        "outputId": "32c476ff-e85e-48e4-bef6-b6b46b8e780e"
      },
      "source": [
        "grid_result.best_score_"
      ],
      "id": "87037382",
      "execution_count": 39,
      "outputs": [
        {
          "output_type": "execute_result",
          "data": {
            "text/plain": [
              "0.8991294374247895"
            ]
          },
          "metadata": {
            "tags": []
          },
          "execution_count": 0
        }
      ]
    },
    {
      "cell_type": "code",
      "metadata": {
        "id": "e9bb38bb"
      },
      "source": [
        "best_model = grid_result.best_estimator_"
      ],
      "id": "e9bb38bb",
      "execution_count": 40,
      "outputs": []
    },
    {
      "cell_type": "code",
      "metadata": {
        "id": "5371a173",
        "colab": {
          "base_uri": "https://localhost:8080/"
        },
        "outputId": "e723d438-b136-4429-9e61-587e93e38618"
      },
      "source": [
        "grid_result.best_params_"
      ],
      "id": "5371a173",
      "execution_count": 41,
      "outputs": [
        {
          "output_type": "execute_result",
          "data": {
            "text/plain": [
              "{'activation': 'relu', 'batch_size': 128, 'epochs': 30, 'layers': (45, 30, 15)}"
            ]
          },
          "metadata": {
            "tags": []
          },
          "execution_count": 0
        }
      ]
    },
    {
      "cell_type": "code",
      "metadata": {
        "id": "92eed34a",
        "colab": {
          "base_uri": "https://localhost:8080/"
        },
        "outputId": "87afbcd8-7502-4062-b779-1a6382fde1d1"
      },
      "source": [
        "y_pred = best_model.predict(X_test)"
      ],
      "id": "92eed34a",
      "execution_count": 42,
      "outputs": [
        {
          "output_type": "stream",
          "text": [
            "/usr/local/lib/python3.7/dist-packages/tensorflow/python/keras/engine/sequential.py:450: UserWarning: `model.predict_classes()` is deprecated and will be removed after 2021-01-01. Please use instead:* `np.argmax(model.predict(x), axis=-1)`,   if your model does multi-class classification   (e.g. if it uses a `softmax` last-layer activation).* `(model.predict(x) > 0.5).astype(\"int32\")`,   if your model does binary classification   (e.g. if it uses a `sigmoid` last-layer activation).\n",
            "  warnings.warn('`model.predict_classes()` is deprecated and '\n"
          ],
          "name": "stderr"
        }
      ]
    },
    {
      "cell_type": "code",
      "metadata": {
        "id": "12e5af17"
      },
      "source": [
        "y_pred = (y_pred>0.5)"
      ],
      "id": "12e5af17",
      "execution_count": 43,
      "outputs": []
    },
    {
      "cell_type": "code",
      "metadata": {
        "id": "7d23b190",
        "colab": {
          "base_uri": "https://localhost:8080/"
        },
        "outputId": "ed4bffc8-8bb9-4d7d-b5f7-ab544d7c082c"
      },
      "source": [
        "from sklearn.metrics import classification_report, confusion_matrix\n",
        "print(confusion_matrix(y_test, y_pred))\n",
        "print(classification_report(y_test, y_pred))"
      ],
      "id": "7d23b190",
      "execution_count": 44,
      "outputs": [
        {
          "output_type": "stream",
          "text": [
            "[[1777  122]\n",
            " [ 350 1317]]\n",
            "              precision    recall  f1-score   support\n",
            "\n",
            "           0       0.84      0.94      0.88      1899\n",
            "           1       0.92      0.79      0.85      1667\n",
            "\n",
            "    accuracy                           0.87      3566\n",
            "   macro avg       0.88      0.86      0.87      3566\n",
            "weighted avg       0.87      0.87      0.87      3566\n",
            "\n"
          ],
          "name": "stdout"
        }
      ]
    },
    {
      "cell_type": "code",
      "metadata": {
        "id": "a44cf0f4",
        "colab": {
          "base_uri": "https://localhost:8080/"
        },
        "outputId": "09a96b1c-4e98-4e04-d9dd-238013e4bcff"
      },
      "source": [
        "from sklearn.metrics import accuracy_score\n",
        "accuracy_score(y_test,y_pred)"
      ],
      "id": "a44cf0f4",
      "execution_count": 45,
      "outputs": [
        {
          "output_type": "execute_result",
          "data": {
            "text/plain": [
              "0.8676388109927089"
            ]
          },
          "metadata": {
            "tags": []
          },
          "execution_count": 0
        }
      ]
    },
    {
      "cell_type": "code",
      "metadata": {
        "id": "443a3323"
      },
      "source": [
        "#import pickle\n",
        "# open a file, where you ant to store the data\n",
        "#file = open('random_forest_regression_model_v2.pkl', 'wb')\n",
        "# dump information to that file\n",
        "#pickle.dump(rf_random, file)"
      ],
      "id": "443a3323",
      "execution_count": 46,
      "outputs": []
    },
    {
      "cell_type": "markdown",
      "metadata": {
        "id": "2ba7c3f5"
      },
      "source": [
        "### ROC"
      ],
      "id": "2ba7c3f5"
    },
    {
      "cell_type": "code",
      "metadata": {
        "id": "56b1d23c",
        "colab": {
          "base_uri": "https://localhost:8080/",
          "height": 399
        },
        "outputId": "13eebd41-ed9a-4ddc-f341-3ce69b238c88"
      },
      "source": [
        "from sklearn import metrics\n",
        "from sklearn.metrics import roc_auc_score\n",
        "from sklearn.metrics import roc_curve\n",
        "\n",
        "baseline_roc_auc = roc_auc_score(y_test, best_model.predict(X_test))\n",
        "fprB, tprB, thresholdsB = roc_curve(y_test, best_model.predict_proba(X_test)[:,1])\n",
        "\n",
        "plt.figure()\n",
        "plt.plot(fprB, tprB, label='GB(area = %0.2f)' % baseline_roc_auc)\n",
        "plt.plot([0, 1], [0, 1],'r--')\n",
        "plt.xlim([0.0, 1.0])\n",
        "plt.ylim([0.0, 1.05])\n",
        "plt.xlabel('False Positive Rate')\n",
        "plt.ylabel('True Positive Rate')\n",
        "plt.title('Receiver operating characteristic')\n",
        "plt.legend(loc=\"lower right\")\n",
        "plt.show()"
      ],
      "id": "56b1d23c",
      "execution_count": 47,
      "outputs": [
        {
          "output_type": "stream",
          "text": [
            "WARNING:tensorflow:Network returning invalid probability values. The last layer might not normalize predictions into probabilities (like softmax or sigmoid would).\n"
          ],
          "name": "stdout"
        },
        {
          "output_type": "stream",
          "text": [
            "/usr/local/lib/python3.7/dist-packages/tensorflow/python/keras/engine/sequential.py:450: UserWarning: `model.predict_classes()` is deprecated and will be removed after 2021-01-01. Please use instead:* `np.argmax(model.predict(x), axis=-1)`,   if your model does multi-class classification   (e.g. if it uses a `softmax` last-layer activation).* `(model.predict(x) > 0.5).astype(\"int32\")`,   if your model does binary classification   (e.g. if it uses a `sigmoid` last-layer activation).\n",
            "  warnings.warn('`model.predict_classes()` is deprecated and '\n",
            "/usr/local/lib/python3.7/dist-packages/tensorflow/python/keras/engine/sequential.py:425: UserWarning: `model.predict_proba()` is deprecated and will be removed after 2021-01-01. Please use `model.predict()` instead.\n",
            "  warnings.warn('`model.predict_proba()` is deprecated and '\n"
          ],
          "name": "stderr"
        },
        {
          "output_type": "display_data",
          "data": {
            "image/png": "[encoded data removed]",
            "text/plain": [
              "<Figure size 432x288 with 1 Axes>"
            ]
          },
          "metadata": {
            "tags": []
          }
        }
      ]
    },
    {
      "cell_type": "markdown",
      "metadata": {
        "id": "V7mlxUWeoRuT"
      },
      "source": [
        "### Recall - presicion with threshold values"
      ],
      "id": "V7mlxUWeoRuT"
    },
    {
      "cell_type": "code",
      "metadata": {
        "id": "dk65qOKOohmG",
        "colab": {
          "base_uri": "https://localhost:8080/",
          "height": 382
        },
        "outputId": "aaf38631-da97-461a-9ece-772b20afb3be"
      },
      "source": [
        "### Predict test_y values and probabilities based on random forest model\n",
        "probs_y=best_model.predict_proba(X_test) \n",
        "  # probs_y is a 2-D array of probability of being labeled as 0 (first column of array) vs 1 (2nd column in array)\n",
        "\n",
        "from sklearn.metrics import precision_recall_curve\n",
        "precision, recall, thresholds = precision_recall_curve(y_test, probs_y[:, 1]) \n",
        "   #retrieve probability of being 1(in second column of probs_y)\n",
        "pr_auc = metrics.auc(recall, precision)\n",
        "\n",
        "plt.title(\"Precision-Recall vs Threshold Chart\")\n",
        "plt.plot(thresholds, precision[: -1], \"b--\", label=\"Precision\")\n",
        "plt.plot(thresholds, recall[: -1], \"r--\", label=\"Recall\")\n",
        "plt.ylabel(\"Precision, Recall\")\n",
        "plt.xlabel(\"Threshold\")\n",
        "plt.legend(loc=\"lower left\")\n",
        "plt.ylim([0,1])"
      ],
      "id": "dk65qOKOohmG",
      "execution_count": 48,
      "outputs": [
        {
          "output_type": "stream",
          "text": [
            "WARNING:tensorflow:Network returning invalid probability values. The last layer might not normalize predictions into probabilities (like softmax or sigmoid would).\n"
          ],
          "name": "stdout"
        },
        {
          "output_type": "stream",
          "text": [
            "/usr/local/lib/python3.7/dist-packages/tensorflow/python/keras/engine/sequential.py:425: UserWarning: `model.predict_proba()` is deprecated and will be removed after 2021-01-01. Please use `model.predict()` instead.\n",
            "  warnings.warn('`model.predict_proba()` is deprecated and '\n"
          ],
          "name": "stderr"
        },
        {
          "output_type": "execute_result",
          "data": {
            "text/plain": [
              "(0.0, 1.0)"
            ]
          },
          "metadata": {
            "tags": []
          },
          "execution_count": 0
        },
        {
          "output_type": "display_data",
          "data": {
            "image/png": "[encoded data removed]",
            "text/plain": [
              "<Figure size 432x288 with 1 Axes>"
            ]
          },
          "metadata": {
            "tags": []
          }
        }
      ]
    },
    {
      "cell_type": "code",
      "metadata": {
        "id": "4UTSLi1Uoy8b",
        "colab": {
          "base_uri": "https://localhost:8080/",
          "height": 212
        },
        "outputId": "a9be79ac-cbe6-4aab-cd65-74c77ef9842d"
      },
      "source": [
        "import pickle\n",
        "#open a file, where you ant to store the data\n",
        "file = open('ANNv2.pkl', 'wb')\n",
        "# dump information to that file\n",
        "pickle.dump(best_model, file)\n",
        "file.close()"
      ],
      "id": "4UTSLi1Uoy8b",
      "execution_count": 49,
      "outputs": [
        {
          "output_type": "error",
          "ename": "TypeError",
          "evalue": "ignored",
          "traceback": [
            "\u001b[0;31m---------------------------------------------------------------------------\u001b[0m",
            "\u001b[0;31mTypeError\u001b[0m                                 Traceback (most recent call last)",
            "\u001b[0;32m<ipython-input-49-2c876a600fb2>\u001b[0m in \u001b[0;36m<module>\u001b[0;34m()\u001b[0m\n\u001b[1;32m      3\u001b[0m \u001b[0mfile\u001b[0m \u001b[0;34m=\u001b[0m \u001b[0mopen\u001b[0m\u001b[0;34m(\u001b[0m\u001b[0;34m'ANNv2.pkl'\u001b[0m\u001b[0;34m,\u001b[0m \u001b[0;34m'wb'\u001b[0m\u001b[0;34m)\u001b[0m\u001b[0;34m\u001b[0m\u001b[0;34m\u001b[0m\u001b[0m\n\u001b[1;32m      4\u001b[0m \u001b[0;31m# dump information to that file\u001b[0m\u001b[0;34m\u001b[0m\u001b[0;34m\u001b[0m\u001b[0;34m\u001b[0m\u001b[0m\n\u001b[0;32m----> 5\u001b[0;31m \u001b[0mpickle\u001b[0m\u001b[0;34m.\u001b[0m\u001b[0mdump\u001b[0m\u001b[0;34m(\u001b[0m\u001b[0mbest_model\u001b[0m\u001b[0;34m,\u001b[0m \u001b[0mfile\u001b[0m\u001b[0;34m)\u001b[0m\u001b[0;34m\u001b[0m\u001b[0;34m\u001b[0m\u001b[0m\n\u001b[0m\u001b[1;32m      6\u001b[0m \u001b[0mfile\u001b[0m\u001b[0;34m.\u001b[0m\u001b[0mclose\u001b[0m\u001b[0;34m(\u001b[0m\u001b[0;34m)\u001b[0m\u001b[0;34m\u001b[0m\u001b[0;34m\u001b[0m\u001b[0m\n",
            "\u001b[0;31mTypeError\u001b[0m: can't pickle weakref objects"
          ]
        }
      ]
    },
    {
      "cell_type": "code",
      "metadata": {
        "id": "XAMFjqMVtAf1"
      },
      "source": [
        "# Save the entire model as a SavedModel.\n",
        "#!mkdir -p saved_model\n",
        "#best_model.save('saved_model/my_model') "
      ],
      "id": "XAMFjqMVtAf1",
      "execution_count": null,
      "outputs": []
    },
    {
      "cell_type": "code",
      "metadata": {
        "id": "tcANOEwvtGBK"
      },
      "source": [
        ""
      ],
      "id": "tcANOEwvtGBK",
      "execution_count": null,
      "outputs": []
    }
  ]
}