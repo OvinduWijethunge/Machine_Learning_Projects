{
 "cells": [
  {
   "cell_type": "code",
   "execution_count": 14,
   "id": "91e6dd91",
   "metadata": {},
   "outputs": [],
   "source": [
    "import pandas as pd\n",
    "from tensorflow import keras\n",
    "from tensorflow.keras import layers\n",
    "from kerastuner.tuners import RandomSearch\n",
    "import numpy as np"
   ]
  },
  {
   "cell_type": "code",
   "execution_count": 15,
   "id": "1424b3e0",
   "metadata": {},
   "outputs": [],
   "source": [
    "df = pd.read_csv('model.csv')"
   ]
  },
  {
   "cell_type": "code",
   "execution_count": 16,
   "id": "7904b8b9",
   "metadata": {},
   "outputs": [
    {
     "data": {
      "text/plain": [
       "Index(['Unnamed: 0', 'sim_content', 'sin_comment', 'word_count',\n",
       "       'duplicate_word_ratio', 'no_of_sentences', 'length_of_comment',\n",
       "       'num_of_punctuations', 'is_period_sequence', 'stop_word_ratio',\n",
       "       'post_coment_gap', 'black_word_count', 'is_link', 'is_youtube_link',\n",
       "       'is_number', 'is_mail', 'comment_duplication', 'classifier_val'],\n",
       "      dtype='object')"
      ]
     },
     "execution_count": 16,
     "metadata": {},
     "output_type": "execute_result"
    }
   ],
   "source": [
    "df.columns"
   ]
  },
  {
   "cell_type": "code",
   "execution_count": 17,
   "id": "c71ab7a4",
   "metadata": {},
   "outputs": [],
   "source": [
    "X=df.iloc[:,1:-1] ## independent features\n",
    "y=df.iloc[:,-1] ## dependent features"
   ]
  },
  {
   "cell_type": "code",
   "execution_count": 18,
   "id": "170ce52d",
   "metadata": {},
   "outputs": [],
   "source": [
    "def build_model(hp):\n",
    "    model = keras.Sequential()\n",
    "    for i in range(hp.Int('num_layers', 2, 20)):\n",
    "        model.add(layers.Dense(units=hp.Int('units_' + str(i),min_value=32,max_value=512,step=32),activation='relu'))\n",
    "        model.add(layers.Dense(1, activation='linear'))\n",
    "        model.compile(optimizer=keras.optimizers.Adam(hp.Choice('learning_rate', [1e-2, 1e-3, 1e-4])),loss='mean_absolute_error', metrics=['mean_absolute_error'])\n",
    "    return model"
   ]
  },
  {
   "cell_type": "code",
   "execution_count": 19,
   "id": "6d496637",
   "metadata": {},
   "outputs": [],
   "source": [
    "tuner = RandomSearch(\n",
    "        build_model,\n",
    "        objective='val_mean_absolute_error',\n",
    "        max_trials=5,\n",
    "        executions_per_trial=3,\n",
    "        directory='E:\\Machine_Learning_Projects\\youtube spam classifier',\n",
    "        project_name='ANN hyper-tuning' )"
   ]
  },
  {
   "cell_type": "code",
   "execution_count": 21,
   "id": "f802cc49",
   "metadata": {},
   "outputs": [],
   "source": [
    "stop_early = keras.callbacks.EarlyStopping(monitor='val_loss', patience=5)"
   ]
  },
  {
   "cell_type": "code",
   "execution_count": 22,
   "id": "f8fcd7a3",
   "metadata": {},
   "outputs": [
    {
     "data": {
      "text/html": [
       "<span style=\"color:#4527A0\"><h1 style=\"font-size:18px\">Search space summary</h1></span>"
      ],
      "text/plain": [
       "<IPython.core.display.HTML object>"
      ]
     },
     "metadata": {},
     "output_type": "display_data"
    },
    {
     "data": {
      "text/html": [
       "<span style=\"color:cyan\"> |-Default search space size: 4</span>"
      ],
      "text/plain": [
       "<IPython.core.display.HTML object>"
      ]
     },
     "metadata": {},
     "output_type": "display_data"
    },
    {
     "data": {
      "text/html": [
       "<span style=\"color:#7E57C2\"><h2 style=\"font-size:16px\">num_layers (Int)</h2></span>"
      ],
      "text/plain": [
       "<IPython.core.display.HTML object>"
      ]
     },
     "metadata": {},
     "output_type": "display_data"
    },
    {
     "data": {
      "text/html": [
       "<span style=\"color:cyan\"> |-default: None</span>"
      ],
      "text/plain": [
       "<IPython.core.display.HTML object>"
      ]
     },
     "metadata": {},
     "output_type": "display_data"
    },
    {
     "data": {
      "text/html": [
       "<span style=\"color:blue\"> |-max_value: 20</span>"
      ],
      "text/plain": [
       "<IPython.core.display.HTML object>"
      ]
     },
     "metadata": {},
     "output_type": "display_data"
    },
    {
     "data": {
      "text/html": [
       "<span style=\"color:cyan\"> |-min_value: 2</span>"
      ],
      "text/plain": [
       "<IPython.core.display.HTML object>"
      ]
     },
     "metadata": {},
     "output_type": "display_data"
    },
    {
     "data": {
      "text/html": [
       "<span style=\"color:blue\"> |-sampling: None</span>"
      ],
      "text/plain": [
       "<IPython.core.display.HTML object>"
      ]
     },
     "metadata": {},
     "output_type": "display_data"
    },
    {
     "data": {
      "text/html": [
       "<span style=\"color:cyan\"> |-step: 1</span>"
      ],
      "text/plain": [
       "<IPython.core.display.HTML object>"
      ]
     },
     "metadata": {},
     "output_type": "display_data"
    },
    {
     "data": {
      "text/html": [
       "<span style=\"color:#7E57C2\"><h2 style=\"font-size:16px\">units_0 (Int)</h2></span>"
      ],
      "text/plain": [
       "<IPython.core.display.HTML object>"
      ]
     },
     "metadata": {},
     "output_type": "display_data"
    },
    {
     "data": {
      "text/html": [
       "<span style=\"color:cyan\"> |-default: None</span>"
      ],
      "text/plain": [
       "<IPython.core.display.HTML object>"
      ]
     },
     "metadata": {},
     "output_type": "display_data"
    },
    {
     "data": {
      "text/html": [
       "<span style=\"color:blue\"> |-max_value: 512</span>"
      ],
      "text/plain": [
       "<IPython.core.display.HTML object>"
      ]
     },
     "metadata": {},
     "output_type": "display_data"
    },
    {
     "data": {
      "text/html": [
       "<span style=\"color:cyan\"> |-min_value: 32</span>"
      ],
      "text/plain": [
       "<IPython.core.display.HTML object>"
      ]
     },
     "metadata": {},
     "output_type": "display_data"
    },
    {
     "data": {
      "text/html": [
       "<span style=\"color:blue\"> |-sampling: None</span>"
      ],
      "text/plain": [
       "<IPython.core.display.HTML object>"
      ]
     },
     "metadata": {},
     "output_type": "display_data"
    },
    {
     "data": {
      "text/html": [
       "<span style=\"color:cyan\"> |-step: 32</span>"
      ],
      "text/plain": [
       "<IPython.core.display.HTML object>"
      ]
     },
     "metadata": {},
     "output_type": "display_data"
    },
    {
     "data": {
      "text/html": [
       "<span style=\"color:#7E57C2\"><h2 style=\"font-size:16px\">learning_rate (Choice)</h2></span>"
      ],
      "text/plain": [
       "<IPython.core.display.HTML object>"
      ]
     },
     "metadata": {},
     "output_type": "display_data"
    },
    {
     "data": {
      "text/html": [
       "<span style=\"color:cyan\"> |-default: 0.01</span>"
      ],
      "text/plain": [
       "<IPython.core.display.HTML object>"
      ]
     },
     "metadata": {},
     "output_type": "display_data"
    },
    {
     "data": {
      "text/html": [
       "<span style=\"color:blue\"> |-ordered: True</span>"
      ],
      "text/plain": [
       "<IPython.core.display.HTML object>"
      ]
     },
     "metadata": {},
     "output_type": "display_data"
    },
    {
     "data": {
      "text/html": [
       "<span style=\"color:cyan\"> |-values: [0.01, 0.001, 0.0001]</span>"
      ],
      "text/plain": [
       "<IPython.core.display.HTML object>"
      ]
     },
     "metadata": {},
     "output_type": "display_data"
    },
    {
     "data": {
      "text/html": [
       "<span style=\"color:#7E57C2\"><h2 style=\"font-size:16px\">units_1 (Int)</h2></span>"
      ],
      "text/plain": [
       "<IPython.core.display.HTML object>"
      ]
     },
     "metadata": {},
     "output_type": "display_data"
    },
    {
     "data": {
      "text/html": [
       "<span style=\"color:cyan\"> |-default: None</span>"
      ],
      "text/plain": [
       "<IPython.core.display.HTML object>"
      ]
     },
     "metadata": {},
     "output_type": "display_data"
    },
    {
     "data": {
      "text/html": [
       "<span style=\"color:blue\"> |-max_value: 512</span>"
      ],
      "text/plain": [
       "<IPython.core.display.HTML object>"
      ]
     },
     "metadata": {},
     "output_type": "display_data"
    },
    {
     "data": {
      "text/html": [
       "<span style=\"color:cyan\"> |-min_value: 32</span>"
      ],
      "text/plain": [
       "<IPython.core.display.HTML object>"
      ]
     },
     "metadata": {},
     "output_type": "display_data"
    },
    {
     "data": {
      "text/html": [
       "<span style=\"color:blue\"> |-sampling: None</span>"
      ],
      "text/plain": [
       "<IPython.core.display.HTML object>"
      ]
     },
     "metadata": {},
     "output_type": "display_data"
    },
    {
     "data": {
      "text/html": [
       "<span style=\"color:cyan\"> |-step: 32</span>"
      ],
      "text/plain": [
       "<IPython.core.display.HTML object>"
      ]
     },
     "metadata": {},
     "output_type": "display_data"
    }
   ],
   "source": [
    "tuner.search_space_summary()"
   ]
  },
  {
   "cell_type": "code",
   "execution_count": null,
   "id": "2ed223f5",
   "metadata": {},
   "outputs": [],
   "source": []
  },
  {
   "cell_type": "code",
   "execution_count": 23,
   "id": "3a50df37",
   "metadata": {},
   "outputs": [],
   "source": [
    "from sklearn.model_selection import train_test_split\n",
    "X_train, X_test, y_train, y_test = train_test_split(X, y, test_size=0.3, random_state=0)"
   ]
  },
  {
   "cell_type": "code",
   "execution_count": 24,
   "id": "43dd4141",
   "metadata": {},
   "outputs": [],
   "source": [
    "X_train=np.asarray(X_train)\n",
    "y_train = np.asarray(y_train)"
   ]
  },
  {
   "cell_type": "code",
   "execution_count": 25,
   "id": "cad6b158",
   "metadata": {
    "scrolled": false
   },
   "outputs": [
    {
     "name": "stdout",
     "output_type": "stream",
     "text": [
      "Train on 2187 samples, validate on 938 samples\n",
      "Epoch 1/50\n",
      "2187/2187 [==============================] - ETA: 1:25 - loss: 0.2812 - mean_absolute_error: 0.281 - ETA: 4s - loss: 0.2156 - mean_absolute_error: 0.2156  - ETA: 1s - loss: 0.1972 - mean_absolute_error: 0.197 - ETA: 0s - loss: 0.1862 - mean_absolute_error: 0.186 - ETA: 0s - loss: 0.1965 - mean_absolute_error: 0.196 - 2s 888us/sample - loss: 0.1976 - mean_absolute_error: 0.1976 - val_loss: 0.1739 - val_mean_absolute_error: 0.1739\n",
      "Epoch 2/50\n",
      "2187/2187 [==============================] - ETA: 0s - loss: 0.3126 - mean_absolute_error: 0.312 - ETA: 0s - loss: 0.2013 - mean_absolute_error: 0.201 - ETA: 0s - loss: 0.2107 - mean_absolute_error: 0.210 - ETA: 0s - loss: 0.1965 - mean_absolute_error: 0.196 - ETA: 0s - loss: 0.1964 - mean_absolute_error: 0.196 - 0s 130us/sample - loss: 0.1954 - mean_absolute_error: 0.1954 - val_loss: 0.1786 - val_mean_absolute_error: 0.1786\n",
      "Epoch 3/50\n",
      "2187/2187 [==============================] - ETA: 0s - loss: 0.2537 - mean_absolute_error: 0.253 - ETA: 0s - loss: 0.1948 - mean_absolute_error: 0.194 - ETA: 0s - loss: 0.1986 - mean_absolute_error: 0.198 - ETA: 0s - loss: 0.1978 - mean_absolute_error: 0.197 - ETA: 0s - loss: 0.1952 - mean_absolute_error: 0.195 - 0s 129us/sample - loss: 0.1951 - mean_absolute_error: 0.1951 - val_loss: 0.1762 - val_mean_absolute_error: 0.1762\n",
      "Epoch 4/50\n",
      "2187/2187 [==============================] - ETA: 1s - loss: 0.1589 - mean_absolute_error: 0.158 - ETA: 0s - loss: 0.1960 - mean_absolute_error: 0.196 - ETA: 0s - loss: 0.2012 - mean_absolute_error: 0.201 - ETA: 0s - loss: 0.1956 - mean_absolute_error: 0.195 - ETA: 0s - loss: 0.1980 - mean_absolute_error: 0.198 - 0s 143us/sample - loss: 0.1966 - mean_absolute_error: 0.1966 - val_loss: 0.1774 - val_mean_absolute_error: 0.1774\n",
      "Epoch 5/50\n",
      "2187/2187 [==============================] - ETA: 0s - loss: 0.3474 - mean_absolute_error: 0.347 - ETA: 0s - loss: 0.2042 - mean_absolute_error: 0.204 - ETA: 0s - loss: 0.1963 - mean_absolute_error: 0.196 - ETA: 0s - loss: 0.1936 - mean_absolute_error: 0.193 - ETA: 0s - loss: 0.1957 - mean_absolute_error: 0.195 - 0s 148us/sample - loss: 0.1943 - mean_absolute_error: 0.1943 - val_loss: 0.1752 - val_mean_absolute_error: 0.1752\n",
      "Epoch 6/50\n",
      "2187/2187 [==============================] - ETA: 0s - loss: 0.3133 - mean_absolute_error: 0.313 - ETA: 0s - loss: 0.1904 - mean_absolute_error: 0.190 - ETA: 0s - loss: 0.2077 - mean_absolute_error: 0.207 - ETA: 0s - loss: 0.2052 - mean_absolute_error: 0.205 - ETA: 0s - loss: 0.1949 - mean_absolute_error: 0.194 - 0s 132us/sample - loss: 0.1941 - mean_absolute_error: 0.1941 - val_loss: 0.1747 - val_mean_absolute_error: 0.1747\n",
      "Train on 2187 samples, validate on 938 samples\n",
      "Epoch 1/50\n",
      "2187/2187 [==============================] - ETA: 1:29 - loss: 0.2500 - mean_absolute_error: 0.250 - ETA: 5s - loss: 0.2234 - mean_absolute_error: 0.2234  - ETA: 2s - loss: 0.1997 - mean_absolute_error: 0.199 - ETA: 0s - loss: 0.1988 - mean_absolute_error: 0.198 - ETA: 0s - loss: 0.1901 - mean_absolute_error: 0.190 - 2s 857us/sample - loss: 0.1958 - mean_absolute_error: 0.1958 - val_loss: 0.1778 - val_mean_absolute_error: 0.1778\n",
      "Epoch 2/50\n",
      "2187/2187 [==============================] - ETA: 0s - loss: 0.1605 - mean_absolute_error: 0.160 - ETA: 0s - loss: 0.1957 - mean_absolute_error: 0.195 - ETA: 0s - loss: 0.1991 - mean_absolute_error: 0.199 - ETA: 0s - loss: 0.1971 - mean_absolute_error: 0.197 - ETA: 0s - loss: 0.1988 - mean_absolute_error: 0.198 - 0s 137us/sample - loss: 0.1954 - mean_absolute_error: 0.1954 - val_loss: 0.1775 - val_mean_absolute_error: 0.1775\n",
      "Epoch 3/50\n",
      "2187/2187 [==============================] - ETA: 0s - loss: 0.0662 - mean_absolute_error: 0.066 - ETA: 0s - loss: 0.2058 - mean_absolute_error: 0.205 - ETA: 0s - loss: 0.2089 - mean_absolute_error: 0.208 - ETA: 0s - loss: 0.1987 - mean_absolute_error: 0.198 - ETA: 0s - loss: 0.1995 - mean_absolute_error: 0.199 - 0s 147us/sample - loss: 0.1949 - mean_absolute_error: 0.1949 - val_loss: 0.1755 - val_mean_absolute_error: 0.1755\n",
      "Epoch 4/50\n",
      "2187/2187 [==============================] - ETA: 0s - loss: 0.0642 - mean_absolute_error: 0.064 - ETA: 0s - loss: 0.2007 - mean_absolute_error: 0.200 - ETA: 0s - loss: 0.2018 - mean_absolute_error: 0.201 - ETA: 0s - loss: 0.1980 - mean_absolute_error: 0.198 - ETA: 0s - loss: 0.1989 - mean_absolute_error: 0.198 - ETA: 0s - loss: 0.1971 - mean_absolute_error: 0.197 - 0s 148us/sample - loss: 0.1956 - mean_absolute_error: 0.1956 - val_loss: 0.1765 - val_mean_absolute_error: 0.1765\n",
      "Epoch 5/50\n",
      "2187/2187 [==============================] - ETA: 0s - loss: 0.2214 - mean_absolute_error: 0.221 - ETA: 0s - loss: 0.1939 - mean_absolute_error: 0.193 - ETA: 0s - loss: 0.1945 - mean_absolute_error: 0.194 - ETA: 0s - loss: 0.1997 - mean_absolute_error: 0.199 - ETA: 0s - loss: 0.1986 - mean_absolute_error: 0.198 - ETA: 0s - loss: 0.1998 - mean_absolute_error: 0.199 - 0s 153us/sample - loss: 0.1956 - mean_absolute_error: 0.1956 - val_loss: 0.1764 - val_mean_absolute_error: 0.1764\n",
      "Epoch 6/50\n",
      "2187/2187 [==============================] - ETA: 0s - loss: 0.2520 - mean_absolute_error: 0.252 - ETA: 0s - loss: 0.1989 - mean_absolute_error: 0.198 - ETA: 0s - loss: 0.1837 - mean_absolute_error: 0.183 - ETA: 0s - loss: 0.1865 - mean_absolute_error: 0.186 - ETA: 0s - loss: 0.1870 - mean_absolute_error: 0.187 - 0s 141us/sample - loss: 0.1940 - mean_absolute_error: 0.1940 - val_loss: 0.1750 - val_mean_absolute_error: 0.1750\n",
      "Epoch 7/50\n",
      "2187/2187 [==============================] - ETA: 0s - loss: 0.2509 - mean_absolute_error: 0.250 - ETA: 0s - loss: 0.1734 - mean_absolute_error: 0.173 - ETA: 0s - loss: 0.1880 - mean_absolute_error: 0.188 - ETA: 0s - loss: 0.1943 - mean_absolute_error: 0.194 - ETA: 0s - loss: 0.1972 - mean_absolute_error: 0.197 - 0s 132us/sample - loss: 0.1940 - mean_absolute_error: 0.1940 - val_loss: 0.1752 - val_mean_absolute_error: 0.1752\n",
      "Epoch 8/50\n",
      "2187/2187 [==============================] - ETA: 0s - loss: 0.2202 - mean_absolute_error: 0.220 - ETA: 0s - loss: 0.1738 - mean_absolute_error: 0.173 - ETA: 0s - loss: 0.1913 - mean_absolute_error: 0.191 - ETA: 0s - loss: 0.1925 - mean_absolute_error: 0.192 - ETA: 0s - loss: 0.1939 - mean_absolute_error: 0.193 - ETA: 0s - loss: 0.1962 - mean_absolute_error: 0.196 - 0s 155us/sample - loss: 0.1946 - mean_absolute_error: 0.1946 - val_loss: 0.1759 - val_mean_absolute_error: 0.1759\n",
      "Epoch 9/50\n",
      "2187/2187 [==============================] - ETA: 0s - loss: 0.1583 - mean_absolute_error: 0.158 - ETA: 0s - loss: 0.1626 - mean_absolute_error: 0.162 - ETA: 0s - loss: 0.1878 - mean_absolute_error: 0.187 - ETA: 0s - loss: 0.1986 - mean_absolute_error: 0.198 - ETA: 0s - loss: 0.1943 - mean_absolute_error: 0.194 - 0s 153us/sample - loss: 0.1949 - mean_absolute_error: 0.1949 - val_loss: 0.1765 - val_mean_absolute_error: 0.1765\n",
      "Epoch 10/50\n",
      "2187/2187 [==============================] - ETA: 0s - loss: 0.1902 - mean_absolute_error: 0.190 - ETA: 0s - loss: 0.2143 - mean_absolute_error: 0.214 - ETA: 0s - loss: 0.1964 - mean_absolute_error: 0.196 - ETA: 0s - loss: 0.1967 - mean_absolute_error: 0.196 - ETA: 0s - loss: 0.1965 - mean_absolute_error: 0.196 - ETA: 0s - loss: 0.1966 - mean_absolute_error: 0.196 - 0s 154us/sample - loss: 0.1938 - mean_absolute_error: 0.1938 - val_loss: 0.1744 - val_mean_absolute_error: 0.1744\n",
      "Epoch 11/50\n",
      "2187/2187 [==============================] - ETA: 0s - loss: 0.1256 - mean_absolute_error: 0.125 - ETA: 0s - loss: 0.1645 - mean_absolute_error: 0.164 - ETA: 0s - loss: 0.1884 - mean_absolute_error: 0.188 - ETA: 0s - loss: 0.1940 - mean_absolute_error: 0.194 - ETA: 0s - loss: 0.1930 - mean_absolute_error: 0.193 - 0s 138us/sample - loss: 0.1943 - mean_absolute_error: 0.1943 - val_loss: 0.1741 - val_mean_absolute_error: 0.1741\n",
      "Epoch 12/50\n",
      "2187/2187 [==============================] - ETA: 0s - loss: 0.2503 - mean_absolute_error: 0.250 - ETA: 0s - loss: 0.1919 - mean_absolute_error: 0.191 - ETA: 0s - loss: 0.1933 - mean_absolute_error: 0.193 - ETA: 0s - loss: 0.1941 - mean_absolute_error: 0.194 - ETA: 0s - loss: 0.1912 - mean_absolute_error: 0.191 - 0s 126us/sample - loss: 0.1941 - mean_absolute_error: 0.1941 - val_loss: 0.1751 - val_mean_absolute_error: 0.1751\n"
     ]
    },
    {
     "name": "stdout",
     "output_type": "stream",
     "text": [
      "Epoch 13/50\n",
      "2187/2187 [==============================] - ETA: 0s - loss: 0.1887 - mean_absolute_error: 0.188 - ETA: 0s - loss: 0.1860 - mean_absolute_error: 0.186 - ETA: 0s - loss: 0.1843 - mean_absolute_error: 0.184 - ETA: 0s - loss: 0.1881 - mean_absolute_error: 0.188 - ETA: 0s - loss: 0.1956 - mean_absolute_error: 0.195 - 0s 129us/sample - loss: 0.1940 - mean_absolute_error: 0.1940 - val_loss: 0.1741 - val_mean_absolute_error: 0.1741\n",
      "Epoch 14/50\n",
      "2187/2187 [==============================] - ETA: 0s - loss: 0.1879 - mean_absolute_error: 0.187 - ETA: 0s - loss: 0.2030 - mean_absolute_error: 0.203 - ETA: 0s - loss: 0.2066 - mean_absolute_error: 0.206 - ETA: 0s - loss: 0.1958 - mean_absolute_error: 0.195 - ETA: 0s - loss: 0.1940 - mean_absolute_error: 0.194 - 0s 126us/sample - loss: 0.1946 - mean_absolute_error: 0.1946 - val_loss: 0.1754 - val_mean_absolute_error: 0.1754\n",
      "Epoch 15/50\n",
      "2187/2187 [==============================] - ETA: 0s - loss: 0.1578 - mean_absolute_error: 0.157 - ETA: 0s - loss: 0.1763 - mean_absolute_error: 0.176 - ETA: 0s - loss: 0.1811 - mean_absolute_error: 0.181 - ETA: 0s - loss: 0.1822 - mean_absolute_error: 0.182 - ETA: 0s - loss: 0.1931 - mean_absolute_error: 0.193 - 0s 125us/sample - loss: 0.1938 - mean_absolute_error: 0.1938 - val_loss: 0.1740 - val_mean_absolute_error: 0.1740\n",
      "Epoch 16/50\n",
      "2187/2187 [==============================] - ETA: 0s - loss: 0.0940 - mean_absolute_error: 0.094 - ETA: 0s - loss: 0.1727 - mean_absolute_error: 0.172 - ETA: 0s - loss: 0.1826 - mean_absolute_error: 0.182 - ETA: 0s - loss: 0.1928 - mean_absolute_error: 0.192 - ETA: 0s - loss: 0.1911 - mean_absolute_error: 0.191 - 0s 130us/sample - loss: 0.1939 - mean_absolute_error: 0.1939 - val_loss: 0.1741 - val_mean_absolute_error: 0.1741\n",
      "Epoch 17/50\n",
      "2187/2187 [==============================] - ETA: 0s - loss: 0.3751 - mean_absolute_error: 0.375 - ETA: 0s - loss: 0.2037 - mean_absolute_error: 0.203 - ETA: 0s - loss: 0.1953 - mean_absolute_error: 0.195 - ETA: 0s - loss: 0.2046 - mean_absolute_error: 0.204 - ETA: 0s - loss: 0.2007 - mean_absolute_error: 0.200 - 0s 138us/sample - loss: 0.1940 - mean_absolute_error: 0.1940 - val_loss: 0.1748 - val_mean_absolute_error: 0.1748\n",
      "Epoch 18/50\n",
      "2187/2187 [==============================] - ETA: 0s - loss: 0.0950 - mean_absolute_error: 0.095 - ETA: 0s - loss: 0.2051 - mean_absolute_error: 0.205 - ETA: 0s - loss: 0.1999 - mean_absolute_error: 0.199 - ETA: 0s - loss: 0.1907 - mean_absolute_error: 0.190 - ETA: 0s - loss: 0.1930 - mean_absolute_error: 0.193 - 0s 124us/sample - loss: 0.1942 - mean_absolute_error: 0.1942 - val_loss: 0.1743 - val_mean_absolute_error: 0.1743\n",
      "Epoch 19/50\n",
      "2187/2187 [==============================] - ETA: 0s - loss: 0.1880 - mean_absolute_error: 0.188 - ETA: 0s - loss: 0.1852 - mean_absolute_error: 0.185 - ETA: 0s - loss: 0.2002 - mean_absolute_error: 0.200 - ETA: 0s - loss: 0.1963 - mean_absolute_error: 0.196 - ETA: 0s - loss: 0.1957 - mean_absolute_error: 0.195 - 0s 122us/sample - loss: 0.1941 - mean_absolute_error: 0.1941 - val_loss: 0.1740 - val_mean_absolute_error: 0.1740\n",
      "Epoch 20/50\n",
      "2187/2187 [==============================] - ETA: 0s - loss: 0.1877 - mean_absolute_error: 0.187 - ETA: 0s - loss: 0.2048 - mean_absolute_error: 0.204 - ETA: 0s - loss: 0.1888 - mean_absolute_error: 0.188 - ETA: 0s - loss: 0.1954 - mean_absolute_error: 0.195 - ETA: 0s - loss: 0.1945 - mean_absolute_error: 0.194 - 0s 123us/sample - loss: 0.1940 - mean_absolute_error: 0.1940 - val_loss: 0.1740 - val_mean_absolute_error: 0.1740\n",
      "Epoch 21/50\n",
      "2187/2187 [==============================] - ETA: 0s - loss: 0.1253 - mean_absolute_error: 0.125 - ETA: 0s - loss: 0.1902 - mean_absolute_error: 0.190 - ETA: 0s - loss: 0.1866 - mean_absolute_error: 0.186 - ETA: 0s - loss: 0.1890 - mean_absolute_error: 0.189 - ETA: 0s - loss: 0.1948 - mean_absolute_error: 0.194 - 0s 126us/sample - loss: 0.1941 - mean_absolute_error: 0.1941 - val_loss: 0.1742 - val_mean_absolute_error: 0.1742\n",
      "Epoch 22/50\n",
      "2187/2187 [==============================] - ETA: 0s - loss: 0.1879 - mean_absolute_error: 0.187 - ETA: 0s - loss: 0.1854 - mean_absolute_error: 0.185 - ETA: 0s - loss: 0.1913 - mean_absolute_error: 0.191 - ETA: 0s - loss: 0.1953 - mean_absolute_error: 0.195 - ETA: 0s - loss: 0.1931 - mean_absolute_error: 0.193 - ETA: 0s - loss: 0.1960 - mean_absolute_error: 0.196 - 0s 157us/sample - loss: 0.1944 - mean_absolute_error: 0.1944 - val_loss: 0.1746 - val_mean_absolute_error: 0.1746\n",
      "Epoch 23/50\n",
      "2187/2187 [==============================] - ETA: 0s - loss: 0.1260 - mean_absolute_error: 0.126 - ETA: 0s - loss: 0.1991 - mean_absolute_error: 0.199 - ETA: 0s - loss: 0.1929 - mean_absolute_error: 0.192 - ETA: 0s - loss: 0.1944 - mean_absolute_error: 0.194 - 0s 117us/sample - loss: 0.1938 - mean_absolute_error: 0.1938 - val_loss: 0.1742 - val_mean_absolute_error: 0.1742\n",
      "Epoch 24/50\n",
      "2187/2187 [==============================] - ETA: 0s - loss: 0.2504 - mean_absolute_error: 0.250 - ETA: 0s - loss: 0.1982 - mean_absolute_error: 0.198 - ETA: 0s - loss: 0.1990 - mean_absolute_error: 0.199 - ETA: 0s - loss: 0.1967 - mean_absolute_error: 0.196 - ETA: 0s - loss: 0.1931 - mean_absolute_error: 0.193 - 0s 125us/sample - loss: 0.1940 - mean_absolute_error: 0.1940 - val_loss: 0.1739 - val_mean_absolute_error: 0.1739\n",
      "Epoch 25/50\n",
      "2187/2187 [==============================] - ETA: 0s - loss: 0.1564 - mean_absolute_error: 0.156 - ETA: 0s - loss: 0.1835 - mean_absolute_error: 0.183 - ETA: 0s - loss: 0.1877 - mean_absolute_error: 0.187 - ETA: 0s - loss: 0.1914 - mean_absolute_error: 0.191 - 0s 112us/sample - loss: 0.1938 - mean_absolute_error: 0.1938 - val_loss: 0.1751 - val_mean_absolute_error: 0.1751\n",
      "Epoch 26/50\n",
      "2187/2187 [==============================] - ETA: 0s - loss: 0.2826 - mean_absolute_error: 0.282 - ETA: 0s - loss: 0.1801 - mean_absolute_error: 0.180 - ETA: 0s - loss: 0.1882 - mean_absolute_error: 0.188 - ETA: 0s - loss: 0.1980 - mean_absolute_error: 0.198 - 0s 119us/sample - loss: 0.1942 - mean_absolute_error: 0.1942 - val_loss: 0.1741 - val_mean_absolute_error: 0.1741\n",
      "Epoch 27/50\n",
      "2187/2187 [==============================] - ETA: 0s - loss: 0.1566 - mean_absolute_error: 0.156 - ETA: 0s - loss: 0.1739 - mean_absolute_error: 0.173 - ETA: 0s - loss: 0.1930 - mean_absolute_error: 0.193 - ETA: 0s - loss: 0.1907 - mean_absolute_error: 0.190 - ETA: 0s - loss: 0.1943 - mean_absolute_error: 0.194 - 0s 125us/sample - loss: 0.1938 - mean_absolute_error: 0.1938 - val_loss: 0.1742 - val_mean_absolute_error: 0.1742\n",
      "Epoch 28/50\n",
      "2187/2187 [==============================] - ETA: 0s - loss: 0.2504 - mean_absolute_error: 0.250 - ETA: 0s - loss: 0.2006 - mean_absolute_error: 0.200 - ETA: 0s - loss: 0.2010 - mean_absolute_error: 0.201 - ETA: 0s - loss: 0.1903 - mean_absolute_error: 0.190 - ETA: 0s - loss: 0.1936 - mean_absolute_error: 0.193 - 0s 124us/sample - loss: 0.1940 - mean_absolute_error: 0.1940 - val_loss: 0.1766 - val_mean_absolute_error: 0.1766\n",
      "Epoch 29/50\n",
      "2187/2187 [==============================] - ETA: 0s - loss: 0.1902 - mean_absolute_error: 0.190 - ETA: 0s - loss: 0.2124 - mean_absolute_error: 0.212 - ETA: 0s - loss: 0.2058 - mean_absolute_error: 0.205 - ETA: 0s - loss: 0.2020 - mean_absolute_error: 0.202 - ETA: 0s - loss: 0.1942 - mean_absolute_error: 0.194 - 0s 123us/sample - loss: 0.1941 - mean_absolute_error: 0.1941 - val_loss: 0.1739 - val_mean_absolute_error: 0.1739\n",
      "Epoch 30/50\n",
      "2187/2187 [==============================] - ETA: 0s - loss: 0.2189 - mean_absolute_error: 0.218 - ETA: 0s - loss: 0.2125 - mean_absolute_error: 0.212 - ETA: 0s - loss: 0.2050 - mean_absolute_error: 0.205 - ETA: 0s - loss: 0.1904 - mean_absolute_error: 0.190 - ETA: 0s - loss: 0.1941 - mean_absolute_error: 0.194 - 0s 126us/sample - loss: 0.1940 - mean_absolute_error: 0.1940 - val_loss: 0.1743 - val_mean_absolute_error: 0.1743\n",
      "Epoch 31/50\n"
     ]
    },
    {
     "name": "stdout",
     "output_type": "stream",
     "text": [
      "2187/2187 [==============================] - ETA: 0s - loss: 0.0942 - mean_absolute_error: 0.094 - ETA: 0s - loss: 0.1975 - mean_absolute_error: 0.197 - ETA: 0s - loss: 0.1904 - mean_absolute_error: 0.190 - ETA: 0s - loss: 0.1929 - mean_absolute_error: 0.192 - ETA: 0s - loss: 0.1918 - mean_absolute_error: 0.191 - ETA: 0s - loss: 0.1934 - mean_absolute_error: 0.193 - 0s 160us/sample - loss: 0.1936 - mean_absolute_error: 0.1936 - val_loss: 0.1742 - val_mean_absolute_error: 0.1742\n",
      "Epoch 32/50\n",
      "2187/2187 [==============================] - ETA: 0s - loss: 0.0941 - mean_absolute_error: 0.094 - ETA: 0s - loss: 0.1826 - mean_absolute_error: 0.182 - ETA: 0s - loss: 0.1793 - mean_absolute_error: 0.179 - ETA: 0s - loss: 0.1775 - mean_absolute_error: 0.177 - ETA: 0s - loss: 0.1924 - mean_absolute_error: 0.192 - 0s 125us/sample - loss: 0.1940 - mean_absolute_error: 0.1940 - val_loss: 0.1744 - val_mean_absolute_error: 0.1744\n",
      "Epoch 33/50\n",
      "2187/2187 [==============================] - ETA: 0s - loss: 0.1569 - mean_absolute_error: 0.156 - ETA: 0s - loss: 0.2058 - mean_absolute_error: 0.205 - ETA: 0s - loss: 0.1893 - mean_absolute_error: 0.189 - ETA: 0s - loss: 0.1874 - mean_absolute_error: 0.187 - ETA: 0s - loss: 0.1920 - mean_absolute_error: 0.192 - 0s 145us/sample - loss: 0.1935 - mean_absolute_error: 0.1935 - val_loss: 0.1747 - val_mean_absolute_error: 0.1747\n",
      "Epoch 34/50\n",
      "2187/2187 [==============================] - ETA: 0s - loss: 0.1885 - mean_absolute_error: 0.188 - ETA: 0s - loss: 0.2238 - mean_absolute_error: 0.223 - ETA: 0s - loss: 0.2050 - mean_absolute_error: 0.205 - ETA: 0s - loss: 0.2036 - mean_absolute_error: 0.203 - ETA: 0s - loss: 0.1976 - mean_absolute_error: 0.197 - 0s 144us/sample - loss: 0.1941 - mean_absolute_error: 0.1941 - val_loss: 0.1761 - val_mean_absolute_error: 0.1761\n",
      "Train on 2187 samples, validate on 938 samples\n",
      "Epoch 1/50\n",
      "2187/2187 [==============================] - ETA: 1:46 - loss: 0.1562 - mean_absolute_error: 0.156 - ETA: 6s - loss: 0.2005 - mean_absolute_error: 0.2005  - ETA: 2s - loss: 0.2044 - mean_absolute_error: 0.204 - ETA: 0s - loss: 0.2026 - mean_absolute_error: 0.202 - ETA: 0s - loss: 0.1984 - mean_absolute_error: 0.198 - 2s 955us/sample - loss: 0.1994 - mean_absolute_error: 0.1994 - val_loss: 0.1779 - val_mean_absolute_error: 0.1779\n",
      "Epoch 2/50\n",
      "2187/2187 [==============================] - ETA: 0s - loss: 0.2853 - mean_absolute_error: 0.285 - ETA: 0s - loss: 0.2111 - mean_absolute_error: 0.211 - ETA: 0s - loss: 0.2023 - mean_absolute_error: 0.202 - ETA: 0s - loss: 0.1979 - mean_absolute_error: 0.197 - ETA: 0s - loss: 0.1937 - mean_absolute_error: 0.193 - 0s 144us/sample - loss: 0.1973 - mean_absolute_error: 0.1973 - val_loss: 0.1777 - val_mean_absolute_error: 0.1777\n",
      "Epoch 3/50\n",
      "2187/2187 [==============================] - ETA: 0s - loss: 0.1295 - mean_absolute_error: 0.129 - ETA: 0s - loss: 0.1928 - mean_absolute_error: 0.192 - ETA: 0s - loss: 0.1978 - mean_absolute_error: 0.197 - ETA: 0s - loss: 0.1946 - mean_absolute_error: 0.194 - ETA: 0s - loss: 0.1894 - mean_absolute_error: 0.189 - 0s 134us/sample - loss: 0.1959 - mean_absolute_error: 0.1959 - val_loss: 0.1763 - val_mean_absolute_error: 0.1763\n",
      "Epoch 4/50\n",
      "2187/2187 [==============================] - ETA: 0s - loss: 0.2519 - mean_absolute_error: 0.251 - ETA: 0s - loss: 0.2105 - mean_absolute_error: 0.210 - ETA: 0s - loss: 0.2128 - mean_absolute_error: 0.212 - ETA: 0s - loss: 0.2016 - mean_absolute_error: 0.201 - ETA: 0s - loss: 0.1984 - mean_absolute_error: 0.198 - 0s 133us/sample - loss: 0.1949 - mean_absolute_error: 0.1949 - val_loss: 0.1770 - val_mean_absolute_error: 0.1770\n",
      "Epoch 5/50\n",
      "2187/2187 [==============================] - ETA: 0s - loss: 0.1287 - mean_absolute_error: 0.128 - ETA: 0s - loss: 0.2148 - mean_absolute_error: 0.214 - ETA: 0s - loss: 0.2073 - mean_absolute_error: 0.207 - ETA: 0s - loss: 0.1903 - mean_absolute_error: 0.190 - ETA: 0s - loss: 0.1954 - mean_absolute_error: 0.195 - 0s 126us/sample - loss: 0.1949 - mean_absolute_error: 0.1949 - val_loss: 0.1755 - val_mean_absolute_error: 0.1755\n",
      "Epoch 6/50\n",
      "2187/2187 [==============================] - ETA: 0s - loss: 0.2205 - mean_absolute_error: 0.220 - ETA: 0s - loss: 0.1865 - mean_absolute_error: 0.186 - ETA: 0s - loss: 0.1927 - mean_absolute_error: 0.192 - ETA: 0s - loss: 0.1909 - mean_absolute_error: 0.190 - ETA: 0s - loss: 0.1937 - mean_absolute_error: 0.193 - 0s 137us/sample - loss: 0.1944 - mean_absolute_error: 0.1944 - val_loss: 0.1742 - val_mean_absolute_error: 0.1742\n",
      "Epoch 7/50\n",
      "2187/2187 [==============================] - ETA: 0s - loss: 0.1567 - mean_absolute_error: 0.156 - ETA: 0s - loss: 0.1751 - mean_absolute_error: 0.175 - ETA: 0s - loss: 0.1758 - mean_absolute_error: 0.175 - ETA: 0s - loss: 0.1932 - mean_absolute_error: 0.193 - ETA: 0s - loss: 0.1926 - mean_absolute_error: 0.192 - 0s 139us/sample - loss: 0.1943 - mean_absolute_error: 0.1943 - val_loss: 0.1766 - val_mean_absolute_error: 0.1766\n",
      "Epoch 8/50\n",
      "2187/2187 [==============================] - ETA: 0s - loss: 0.0972 - mean_absolute_error: 0.097 - ETA: 0s - loss: 0.1731 - mean_absolute_error: 0.173 - ETA: 0s - loss: 0.1739 - mean_absolute_error: 0.173 - ETA: 0s - loss: 0.1823 - mean_absolute_error: 0.182 - ETA: 0s - loss: 0.1923 - mean_absolute_error: 0.192 - 0s 146us/sample - loss: 0.1948 - mean_absolute_error: 0.1948 - val_loss: 0.1757 - val_mean_absolute_error: 0.1757\n",
      "Epoch 9/50\n",
      "2187/2187 [==============================] - ETA: 0s - loss: 0.2515 - mean_absolute_error: 0.251 - ETA: 0s - loss: 0.1887 - mean_absolute_error: 0.188 - ETA: 0s - loss: 0.1991 - mean_absolute_error: 0.199 - ETA: 0s - loss: 0.2044 - mean_absolute_error: 0.204 - ETA: 0s - loss: 0.2026 - mean_absolute_error: 0.202 - ETA: 0s - loss: 0.1976 - mean_absolute_error: 0.197 - 1s 302us/sample - loss: 0.1942 - mean_absolute_error: 0.1942 - val_loss: 0.1738 - val_mean_absolute_error: 0.1738\n",
      "Epoch 10/50\n",
      "2187/2187 [==============================] - ETA: 0s - loss: 0.2188 - mean_absolute_error: 0.218 - ETA: 0s - loss: 0.2025 - mean_absolute_error: 0.202 - ETA: 0s - loss: 0.1914 - mean_absolute_error: 0.191 - ETA: 0s - loss: 0.1920 - mean_absolute_error: 0.192 - ETA: 0s - loss: 0.1933 - mean_absolute_error: 0.193 - 0s 170us/sample - loss: 0.1938 - mean_absolute_error: 0.1938 - val_loss: 0.1751 - val_mean_absolute_error: 0.1751\n",
      "Epoch 11/50\n",
      "2187/2187 [==============================] - ETA: 0s - loss: 0.0638 - mean_absolute_error: 0.063 - ETA: 0s - loss: 0.1806 - mean_absolute_error: 0.180 - ETA: 0s - loss: 0.1865 - mean_absolute_error: 0.186 - ETA: 0s - loss: 0.1933 - mean_absolute_error: 0.193 - 0s 105us/sample - loss: 0.1941 - mean_absolute_error: 0.1941 - val_loss: 0.1757 - val_mean_absolute_error: 0.1757\n",
      "Epoch 12/50\n",
      "2187/2187 [==============================] - ETA: 0s - loss: 0.2207 - mean_absolute_error: 0.220 - ETA: 0s - loss: 0.1958 - mean_absolute_error: 0.195 - ETA: 0s - loss: 0.1921 - mean_absolute_error: 0.192 - ETA: 0s - loss: 0.1945 - mean_absolute_error: 0.194 - 0s 99us/sample - loss: 0.1939 - mean_absolute_error: 0.1939 - val_loss: 0.1744 - val_mean_absolute_error: 0.1744\n",
      "Epoch 13/50\n",
      "2187/2187 [==============================] - ETA: 0s - loss: 0.1881 - mean_absolute_error: 0.188 - ETA: 0s - loss: 0.2035 - mean_absolute_error: 0.203 - ETA: 0s - loss: 0.2042 - mean_absolute_error: 0.204 - 0s 98us/sample - loss: 0.1942 - mean_absolute_error: 0.1942 - val_loss: 0.1750 - val_mean_absolute_error: 0.1750\n",
      "Epoch 14/50\n",
      "2187/2187 [==============================] - ETA: 0s - loss: 0.2199 - mean_absolute_error: 0.219 - ETA: 0s - loss: 0.1986 - mean_absolute_error: 0.198 - ETA: 0s - loss: 0.1921 - mean_absolute_error: 0.192 - ETA: 0s - loss: 0.1941 - mean_absolute_error: 0.194 - 0s 104us/sample - loss: 0.1935 - mean_absolute_error: 0.1935 - val_loss: 0.1745 - val_mean_absolute_error: 0.1745\n"
     ]
    },
    {
     "data": {
      "text/html": [
       "<span style=\"color:#4527A0\"><h1 style=\"font-size:18px\">Trial complete</h1></span>"
      ],
      "text/plain": [
       "<IPython.core.display.HTML object>"
      ]
     },
     "metadata": {},
     "output_type": "display_data"
    },
    {
     "data": {
      "text/html": [
       "<span style=\"color:#4527A0\"><h1 style=\"font-size:18px\">Trial summary</h1></span>"
      ],
      "text/plain": [
       "<IPython.core.display.HTML object>"
      ]
     },
     "metadata": {},
     "output_type": "display_data"
    },
    {
     "data": {
      "text/html": [
       "<span style=\"color:cyan\"> |-Trial ID: f8eced7cafb4d6477ae38efeae2ee1ec</span>"
      ],
      "text/plain": [
       "<IPython.core.display.HTML object>"
      ]
     },
     "metadata": {},
     "output_type": "display_data"
    },
    {
     "data": {
      "text/html": [
       "<span style=\"color:cyan\"> |-Score: 0.17389662563800812</span>"
      ],
      "text/plain": [
       "<IPython.core.display.HTML object>"
      ]
     },
     "metadata": {},
     "output_type": "display_data"
    },
    {
     "data": {
      "text/html": [
       "<span style=\"color:cyan\"> |-Best step: 0</span>"
      ],
      "text/plain": [
       "<IPython.core.display.HTML object>"
      ]
     },
     "metadata": {},
     "output_type": "display_data"
    },
    {
     "data": {
      "text/html": [
       "<span style=\"color:#7E57C2\"><h2 style=\"font-size:16px\">Hyperparameters:</h2></span>"
      ],
      "text/plain": [
       "<IPython.core.display.HTML object>"
      ]
     },
     "metadata": {},
     "output_type": "display_data"
    },
    {
     "data": {
      "text/html": [
       "<span style=\"color:cyan\"> |-learning_rate: 0.01</span>"
      ],
      "text/plain": [
       "<IPython.core.display.HTML object>"
      ]
     },
     "metadata": {},
     "output_type": "display_data"
    },
    {
     "data": {
      "text/html": [
       "<span style=\"color:blue\"> |-num_layers: 15</span>"
      ],
      "text/plain": [
       "<IPython.core.display.HTML object>"
      ]
     },
     "metadata": {},
     "output_type": "display_data"
    },
    {
     "data": {
      "text/html": [
       "<span style=\"color:cyan\"> |-units_0: 448</span>"
      ],
      "text/plain": [
       "<IPython.core.display.HTML object>"
      ]
     },
     "metadata": {},
     "output_type": "display_data"
    },
    {
     "data": {
      "text/html": [
       "<span style=\"color:blue\"> |-units_1: 384</span>"
      ],
      "text/plain": [
       "<IPython.core.display.HTML object>"
      ]
     },
     "metadata": {},
     "output_type": "display_data"
    },
    {
     "data": {
      "text/html": [
       "<span style=\"color:cyan\"> |-units_10: 32</span>"
      ],
      "text/plain": [
       "<IPython.core.display.HTML object>"
      ]
     },
     "metadata": {},
     "output_type": "display_data"
    },
    {
     "data": {
      "text/html": [
       "<span style=\"color:blue\"> |-units_11: 32</span>"
      ],
      "text/plain": [
       "<IPython.core.display.HTML object>"
      ]
     },
     "metadata": {},
     "output_type": "display_data"
    },
    {
     "data": {
      "text/html": [
       "<span style=\"color:cyan\"> |-units_12: 32</span>"
      ],
      "text/plain": [
       "<IPython.core.display.HTML object>"
      ]
     },
     "metadata": {},
     "output_type": "display_data"
    },
    {
     "data": {
      "text/html": [
       "<span style=\"color:blue\"> |-units_13: 32</span>"
      ],
      "text/plain": [
       "<IPython.core.display.HTML object>"
      ]
     },
     "metadata": {},
     "output_type": "display_data"
    },
    {
     "data": {
      "text/html": [
       "<span style=\"color:cyan\"> |-units_14: 32</span>"
      ],
      "text/plain": [
       "<IPython.core.display.HTML object>"
      ]
     },
     "metadata": {},
     "output_type": "display_data"
    },
    {
     "data": {
      "text/html": [
       "<span style=\"color:blue\"> |-units_2: 32</span>"
      ],
      "text/plain": [
       "<IPython.core.display.HTML object>"
      ]
     },
     "metadata": {},
     "output_type": "display_data"
    },
    {
     "data": {
      "text/html": [
       "<span style=\"color:cyan\"> |-units_3: 32</span>"
      ],
      "text/plain": [
       "<IPython.core.display.HTML object>"
      ]
     },
     "metadata": {},
     "output_type": "display_data"
    },
    {
     "data": {
      "text/html": [
       "<span style=\"color:blue\"> |-units_4: 32</span>"
      ],
      "text/plain": [
       "<IPython.core.display.HTML object>"
      ]
     },
     "metadata": {},
     "output_type": "display_data"
    },
    {
     "data": {
      "text/html": [
       "<span style=\"color:cyan\"> |-units_5: 32</span>"
      ],
      "text/plain": [
       "<IPython.core.display.HTML object>"
      ]
     },
     "metadata": {},
     "output_type": "display_data"
    },
    {
     "data": {
      "text/html": [
       "<span style=\"color:blue\"> |-units_6: 32</span>"
      ],
      "text/plain": [
       "<IPython.core.display.HTML object>"
      ]
     },
     "metadata": {},
     "output_type": "display_data"
    },
    {
     "data": {
      "text/html": [
       "<span style=\"color:cyan\"> |-units_7: 32</span>"
      ],
      "text/plain": [
       "<IPython.core.display.HTML object>"
      ]
     },
     "metadata": {},
     "output_type": "display_data"
    },
    {
     "data": {
      "text/html": [
       "<span style=\"color:blue\"> |-units_8: 32</span>"
      ],
      "text/plain": [
       "<IPython.core.display.HTML object>"
      ]
     },
     "metadata": {},
     "output_type": "display_data"
    },
    {
     "data": {
      "text/html": [
       "<span style=\"color:cyan\"> |-units_9: 32</span>"
      ],
      "text/plain": [
       "<IPython.core.display.HTML object>"
      ]
     },
     "metadata": {},
     "output_type": "display_data"
    },
    {
     "name": "stdout",
     "output_type": "stream",
     "text": [
      "Train on 2187 samples, validate on 938 samples\n",
      "Epoch 1/50\n",
      "2187/2187 [==============================] - ETA: 1:30 - loss: 0.1875 - mean_absolute_error: 0.187 - ETA: 4s - loss: 0.2231 - mean_absolute_error: 0.2231  - ETA: 1s - loss: 0.2172 - mean_absolute_error: 0.217 - ETA: 0s - loss: 0.2140 - mean_absolute_error: 0.214 - ETA: 0s - loss: 0.2049 - mean_absolute_error: 0.204 - 2s 968us/sample - loss: 0.2060 - mean_absolute_error: 0.2060 - val_loss: 0.1775 - val_mean_absolute_error: 0.1775\n",
      "Epoch 2/50\n",
      "2187/2187 [==============================] - ETA: 0s - loss: 0.3146 - mean_absolute_error: 0.314 - ETA: 0s - loss: 0.1988 - mean_absolute_error: 0.198 - ETA: 0s - loss: 0.1950 - mean_absolute_error: 0.195 - ETA: 0s - loss: 0.1897 - mean_absolute_error: 0.189 - ETA: 0s - loss: 0.1937 - mean_absolute_error: 0.193 - 0s 194us/sample - loss: 0.1943 - mean_absolute_error: 0.1943 - val_loss: 0.1746 - val_mean_absolute_error: 0.1746\n",
      "Epoch 3/50\n",
      "2187/2187 [==============================] - ETA: 0s - loss: 0.1260 - mean_absolute_error: 0.126 - ETA: 0s - loss: 0.2160 - mean_absolute_error: 0.216 - ETA: 0s - loss: 0.2065 - mean_absolute_error: 0.206 - ETA: 0s - loss: 0.1991 - mean_absolute_error: 0.199 - ETA: 0s - loss: 0.1910 - mean_absolute_error: 0.191 - 0s 206us/sample - loss: 0.1942 - mean_absolute_error: 0.1942 - val_loss: 0.1743 - val_mean_absolute_error: 0.1743\n",
      "Epoch 4/50\n",
      "2187/2187 [==============================] - ETA: 0s - loss: 0.1881 - mean_absolute_error: 0.188 - ETA: 0s - loss: 0.1821 - mean_absolute_error: 0.182 - ETA: 0s - loss: 0.1870 - mean_absolute_error: 0.187 - ETA: 0s - loss: 0.1895 - mean_absolute_error: 0.189 - ETA: 0s - loss: 0.1891 - mean_absolute_error: 0.189 - 0s 141us/sample - loss: 0.1935 - mean_absolute_error: 0.1935 - val_loss: 0.1746 - val_mean_absolute_error: 0.1746\n",
      "Epoch 5/50\n",
      "2187/2187 [==============================] - ETA: 0s - loss: 0.1260 - mean_absolute_error: 0.126 - ETA: 0s - loss: 0.1832 - mean_absolute_error: 0.183 - ETA: 0s - loss: 0.1782 - mean_absolute_error: 0.178 - ETA: 0s - loss: 0.1901 - mean_absolute_error: 0.190 - 0s 114us/sample - loss: 0.1939 - mean_absolute_error: 0.1939 - val_loss: 0.1745 - val_mean_absolute_error: 0.1745\n",
      "Epoch 6/50\n",
      "2187/2187 [==============================] - ETA: 0s - loss: 0.1257 - mean_absolute_error: 0.125 - ETA: 0s - loss: 0.1927 - mean_absolute_error: 0.192 - ETA: 0s - loss: 0.1907 - mean_absolute_error: 0.190 - ETA: 0s - loss: 0.1832 - mean_absolute_error: 0.183 - 1s 473us/sample - loss: 0.1938 - mean_absolute_error: 0.1938 - val_loss: 0.1740 - val_mean_absolute_error: 0.1740\n",
      "Epoch 7/50\n",
      "2187/2187 [==============================] - ETA: 0s - loss: 0.2502 - mean_absolute_error: 0.250 - ETA: 0s - loss: 0.1786 - mean_absolute_error: 0.178 - ETA: 0s - loss: 0.1984 - mean_absolute_error: 0.198 - ETA: 0s - loss: 0.1918 - mean_absolute_error: 0.191 - ETA: 0s - loss: 0.1924 - mean_absolute_error: 0.192 - 0s 130us/sample - loss: 0.1951 - mean_absolute_error: 0.1951 - val_loss: 0.1751 - val_mean_absolute_error: 0.1751\n",
      "Epoch 8/50\n",
      "2187/2187 [==============================] - ETA: 0s - loss: 0.0639 - mean_absolute_error: 0.063 - ETA: 0s - loss: 0.1939 - mean_absolute_error: 0.193 - ETA: 0s - loss: 0.1978 - mean_absolute_error: 0.197 - ETA: 0s - loss: 0.1935 - mean_absolute_error: 0.193 - 0s 108us/sample - loss: 0.1940 - mean_absolute_error: 0.1940 - val_loss: 0.1748 - val_mean_absolute_error: 0.1748\n",
      "Epoch 9/50\n",
      "2187/2187 [==============================] - ETA: 0s - loss: 0.1884 - mean_absolute_error: 0.188 - ETA: 0s - loss: 0.1954 - mean_absolute_error: 0.195 - ETA: 0s - loss: 0.1925 - mean_absolute_error: 0.192 - ETA: 0s - loss: 0.1936 - mean_absolute_error: 0.193 - ETA: 0s - loss: 0.1944 - mean_absolute_error: 0.194 - 0s 192us/sample - loss: 0.1944 - mean_absolute_error: 0.1944 - val_loss: 0.1740 - val_mean_absolute_error: 0.1740\n",
      "Epoch 10/50\n",
      "2187/2187 [==============================] - ETA: 0s - loss: 0.2190 - mean_absolute_error: 0.219 - ETA: 0s - loss: 0.2099 - mean_absolute_error: 0.209 - ETA: 0s - loss: 0.1896 - mean_absolute_error: 0.189 - ETA: 0s - loss: 0.1876 - mean_absolute_error: 0.187 - ETA: 0s - loss: 0.1943 - mean_absolute_error: 0.194 - 0s 143us/sample - loss: 0.1938 - mean_absolute_error: 0.1938 - val_loss: 0.1747 - val_mean_absolute_error: 0.1747\n",
      "Epoch 11/50\n",
      "2187/2187 [==============================] - ETA: 0s - loss: 0.1259 - mean_absolute_error: 0.125 - ETA: 0s - loss: 0.2046 - mean_absolute_error: 0.204 - ETA: 0s - loss: 0.2056 - mean_absolute_error: 0.205 - ETA: 0s - loss: 0.1932 - mean_absolute_error: 0.193 - 0s 138us/sample - loss: 0.1937 - mean_absolute_error: 0.1937 - val_loss: 0.1752 - val_mean_absolute_error: 0.1752\n",
      "Epoch 12/50\n",
      "2187/2187 [==============================] - ETA: 1s - loss: 0.1888 - mean_absolute_error: 0.188 - ETA: 0s - loss: 0.1985 - mean_absolute_error: 0.198 - ETA: 0s - loss: 0.1910 - mean_absolute_error: 0.191 - ETA: 0s - loss: 0.1930 - mean_absolute_error: 0.193 - 0s 131us/sample - loss: 0.1942 - mean_absolute_error: 0.1942 - val_loss: 0.1742 - val_mean_absolute_error: 0.1742\n",
      "Epoch 13/50\n",
      "2187/2187 [==============================] - ETA: 0s - loss: 0.2191 - mean_absolute_error: 0.219 - ETA: 0s - loss: 0.2002 - mean_absolute_error: 0.200 - ETA: 0s - loss: 0.1924 - mean_absolute_error: 0.192 - ETA: 0s - loss: 0.1953 - mean_absolute_error: 0.195 - ETA: 0s - loss: 0.1899 - mean_absolute_error: 0.189 - 0s 138us/sample - loss: 0.1943 - mean_absolute_error: 0.1943 - val_loss: 0.1763 - val_mean_absolute_error: 0.1763\n",
      "Epoch 14/50\n",
      "2187/2187 [==============================] - ETA: 0s - loss: 0.1900 - mean_absolute_error: 0.190 - ETA: 0s - loss: 0.1825 - mean_absolute_error: 0.182 - ETA: 0s - loss: 0.1913 - mean_absolute_error: 0.191 - ETA: 0s - loss: 0.1929 - mean_absolute_error: 0.192 - 0s 137us/sample - loss: 0.1939 - mean_absolute_error: 0.1939 - val_loss: 0.1740 - val_mean_absolute_error: 0.1740\n",
      "Train on 2187 samples, validate on 938 samples\n",
      "Epoch 1/50\n",
      "2187/2187 [==============================] - ETA: 1:31 - loss: 0.1250 - mean_absolute_error: 0.125 - ETA: 3s - loss: 0.2213 - mean_absolute_error: 0.2213  - ETA: 1s - loss: 0.2198 - mean_absolute_error: 0.219 - ETA: 0s - loss: 0.2154 - mean_absolute_error: 0.215 - 2s 988us/sample - loss: 0.2036 - mean_absolute_error: 0.2036 - val_loss: 0.1738 - val_mean_absolute_error: 0.1738\n",
      "Epoch 2/50\n",
      "2187/2187 [==============================] - ETA: 0s - loss: 0.0938 - mean_absolute_error: 0.093 - ETA: 0s - loss: 0.1973 - mean_absolute_error: 0.197 - ETA: 0s - loss: 0.1818 - mean_absolute_error: 0.181 - ETA: 0s - loss: 0.1967 - mean_absolute_error: 0.196 - 0s 136us/sample - loss: 0.1945 - mean_absolute_error: 0.1945 - val_loss: 0.1743 - val_mean_absolute_error: 0.1743\n",
      "Epoch 3/50\n",
      "2187/2187 [==============================] - ETA: 0s - loss: 0.1256 - mean_absolute_error: 0.125 - ETA: 0s - loss: 0.1930 - mean_absolute_error: 0.193 - ETA: 0s - loss: 0.1839 - mean_absolute_error: 0.183 - ETA: 0s - loss: 0.1863 - mean_absolute_error: 0.186 - 0s 114us/sample - loss: 0.1938 - mean_absolute_error: 0.1938 - val_loss: 0.1744 - val_mean_absolute_error: 0.1744\n",
      "Epoch 4/50\n",
      "2187/2187 [==============================] - ETA: 0s - loss: 0.1881 - mean_absolute_error: 0.188 - ETA: 0s - loss: 0.2096 - mean_absolute_error: 0.209 - ETA: 0s - loss: 0.1888 - mean_absolute_error: 0.188 - ETA: 0s - loss: 0.1917 - mean_absolute_error: 0.191 - 0s 126us/sample - loss: 0.1941 - mean_absolute_error: 0.1941 - val_loss: 0.1766 - val_mean_absolute_error: 0.1766\n",
      "Epoch 5/50\n",
      "2187/2187 [==============================] - ETA: 1s - loss: 0.2522 - mean_absolute_error: 0.252 - ETA: 0s - loss: 0.2100 - mean_absolute_error: 0.210 - ETA: 0s - loss: 0.2059 - mean_absolute_error: 0.205 - ETA: 0s - loss: 0.1928 - mean_absolute_error: 0.192 - 0s 125us/sample - loss: 0.1952 - mean_absolute_error: 0.1952 - val_loss: 0.1751 - val_mean_absolute_error: 0.1751\n",
      "Epoch 6/50\n",
      "2187/2187 [==============================] - ETA: 0s - loss: 0.2201 - mean_absolute_error: 0.220 - ETA: 0s - loss: 0.2284 - mean_absolute_error: 0.228 - ETA: 0s - loss: 0.2116 - mean_absolute_error: 0.211 - ETA: 0s - loss: 0.2017 - mean_absolute_error: 0.201 - 0s 118us/sample - loss: 0.1937 - mean_absolute_error: 0.1937 - val_loss: 0.1743 - val_mean_absolute_error: 0.1743\n"
     ]
    },
    {
     "name": "stdout",
     "output_type": "stream",
     "text": [
      "Train on 2187 samples, validate on 938 samples\n",
      "Epoch 1/50\n",
      "2187/2187 [==============================] - ETA: 1:22 - loss: 0.1875 - mean_absolute_error: 0.187 - ETA: 3s - loss: 0.2053 - mean_absolute_error: 0.2053  - ETA: 1s - loss: 0.2052 - mean_absolute_error: 0.205 - ETA: 0s - loss: 0.2054 - mean_absolute_error: 0.205 - 2s 796us/sample - loss: 0.2019 - mean_absolute_error: 0.2019 - val_loss: 0.1747 - val_mean_absolute_error: 0.1747\n",
      "Epoch 2/50\n",
      "2187/2187 [==============================] - ETA: 0s - loss: 0.2195 - mean_absolute_error: 0.219 - ETA: 0s - loss: 0.1912 - mean_absolute_error: 0.191 - ETA: 0s - loss: 0.1948 - mean_absolute_error: 0.194 - ETA: 0s - loss: 0.1925 - mean_absolute_error: 0.192 - ETA: 0s - loss: 0.1935 - mean_absolute_error: 0.193 - 0s 149us/sample - loss: 0.1938 - mean_absolute_error: 0.1938 - val_loss: 0.1749 - val_mean_absolute_error: 0.1749\n",
      "Epoch 3/50\n",
      "2187/2187 [==============================] - ETA: 0s - loss: 0.1886 - mean_absolute_error: 0.188 - ETA: 0s - loss: 0.2064 - mean_absolute_error: 0.206 - ETA: 0s - loss: 0.1891 - mean_absolute_error: 0.189 - ETA: 0s - loss: 0.1917 - mean_absolute_error: 0.191 - 0s 117us/sample - loss: 0.1943 - mean_absolute_error: 0.1943 - val_loss: 0.1748 - val_mean_absolute_error: 0.1748\n",
      "Epoch 4/50\n",
      "2187/2187 [==============================] - ETA: 0s - loss: 0.0635 - mean_absolute_error: 0.063 - ETA: 0s - loss: 0.1925 - mean_absolute_error: 0.192 - ETA: 0s - loss: 0.1919 - mean_absolute_error: 0.191 - ETA: 0s - loss: 0.1947 - mean_absolute_error: 0.194 - 0s 108us/sample - loss: 0.1935 - mean_absolute_error: 0.1935 - val_loss: 0.1745 - val_mean_absolute_error: 0.1745\n",
      "Epoch 5/50\n",
      "2187/2187 [==============================] - ETA: 0s - loss: 0.2507 - mean_absolute_error: 0.250 - ETA: 0s - loss: 0.1796 - mean_absolute_error: 0.179 - ETA: 0s - loss: 0.1883 - mean_absolute_error: 0.188 - ETA: 0s - loss: 0.1942 - mean_absolute_error: 0.194 - 0s 108us/sample - loss: 0.1941 - mean_absolute_error: 0.1941 - val_loss: 0.1743 - val_mean_absolute_error: 0.1743\n",
      "Epoch 6/50\n",
      "2187/2187 [==============================] - ETA: 0s - loss: 0.1255 - mean_absolute_error: 0.125 - ETA: 0s - loss: 0.1877 - mean_absolute_error: 0.187 - ETA: 0s - loss: 0.1944 - mean_absolute_error: 0.194 - ETA: 0s - loss: 0.1975 - mean_absolute_error: 0.197 - 0s 108us/sample - loss: 0.1945 - mean_absolute_error: 0.1945 - val_loss: 0.1749 - val_mean_absolute_error: 0.1749\n",
      "Epoch 7/50\n",
      "2187/2187 [==============================] - ETA: 0s - loss: 0.2511 - mean_absolute_error: 0.251 - ETA: 0s - loss: 0.2040 - mean_absolute_error: 0.204 - ETA: 0s - loss: 0.1967 - mean_absolute_error: 0.196 - ETA: 0s - loss: 0.1971 - mean_absolute_error: 0.197 - 0s 108us/sample - loss: 0.1940 - mean_absolute_error: 0.1940 - val_loss: 0.1757 - val_mean_absolute_error: 0.1757\n",
      "Epoch 8/50\n",
      "2187/2187 [==============================] - ETA: 0s - loss: 0.2519 - mean_absolute_error: 0.251 - ETA: 0s - loss: 0.2086 - mean_absolute_error: 0.208 - ETA: 0s - loss: 0.2016 - mean_absolute_error: 0.201 - ETA: 0s - loss: 0.1934 - mean_absolute_error: 0.193 - ETA: 0s - loss: 0.1974 - mean_absolute_error: 0.197 - 0s 139us/sample - loss: 0.1939 - mean_absolute_error: 0.1939 - val_loss: 0.1750 - val_mean_absolute_error: 0.1750\n",
      "Epoch 9/50\n",
      "2187/2187 [==============================] - ETA: 0s - loss: 0.0952 - mean_absolute_error: 0.095 - ETA: 0s - loss: 0.1977 - mean_absolute_error: 0.197 - ETA: 0s - loss: 0.1939 - mean_absolute_error: 0.193 - ETA: 0s - loss: 0.2042 - mean_absolute_error: 0.204 - ETA: 0s - loss: 0.1960 - mean_absolute_error: 0.196 - 0s 132us/sample - loss: 0.1939 - mean_absolute_error: 0.1939 - val_loss: 0.1762 - val_mean_absolute_error: 0.1762\n",
      "Epoch 10/50\n",
      "2187/2187 [==============================] - ETA: 0s - loss: 0.1900 - mean_absolute_error: 0.190 - ETA: 0s - loss: 0.1640 - mean_absolute_error: 0.164 - ETA: 0s - loss: 0.1853 - mean_absolute_error: 0.185 - ETA: 0s - loss: 0.1905 - mean_absolute_error: 0.190 - ETA: 0s - loss: 0.1928 - mean_absolute_error: 0.192 - 0s 143us/sample - loss: 0.1938 - mean_absolute_error: 0.1938 - val_loss: 0.1751 - val_mean_absolute_error: 0.1751\n"
     ]
    },
    {
     "data": {
      "text/html": [
       "<span style=\"color:#4527A0\"><h1 style=\"font-size:18px\">Trial complete</h1></span>"
      ],
      "text/plain": [
       "<IPython.core.display.HTML object>"
      ]
     },
     "metadata": {},
     "output_type": "display_data"
    },
    {
     "data": {
      "text/html": [
       "<span style=\"color:#4527A0\"><h1 style=\"font-size:18px\">Trial summary</h1></span>"
      ],
      "text/plain": [
       "<IPython.core.display.HTML object>"
      ]
     },
     "metadata": {},
     "output_type": "display_data"
    },
    {
     "data": {
      "text/html": [
       "<span style=\"color:cyan\"> |-Trial ID: 700beda46b7d8cefd2b5d631ef98dc0f</span>"
      ],
      "text/plain": [
       "<IPython.core.display.HTML object>"
      ]
     },
     "metadata": {},
     "output_type": "display_data"
    },
    {
     "data": {
      "text/html": [
       "<span style=\"color:cyan\"> |-Score: 0.17404024302959442</span>"
      ],
      "text/plain": [
       "<IPython.core.display.HTML object>"
      ]
     },
     "metadata": {},
     "output_type": "display_data"
    },
    {
     "data": {
      "text/html": [
       "<span style=\"color:cyan\"> |-Best step: 0</span>"
      ],
      "text/plain": [
       "<IPython.core.display.HTML object>"
      ]
     },
     "metadata": {},
     "output_type": "display_data"
    },
    {
     "data": {
      "text/html": [
       "<span style=\"color:#7E57C2\"><h2 style=\"font-size:16px\">Hyperparameters:</h2></span>"
      ],
      "text/plain": [
       "<IPython.core.display.HTML object>"
      ]
     },
     "metadata": {},
     "output_type": "display_data"
    },
    {
     "data": {
      "text/html": [
       "<span style=\"color:cyan\"> |-learning_rate: 0.01</span>"
      ],
      "text/plain": [
       "<IPython.core.display.HTML object>"
      ]
     },
     "metadata": {},
     "output_type": "display_data"
    },
    {
     "data": {
      "text/html": [
       "<span style=\"color:blue\"> |-num_layers: 14</span>"
      ],
      "text/plain": [
       "<IPython.core.display.HTML object>"
      ]
     },
     "metadata": {},
     "output_type": "display_data"
    },
    {
     "data": {
      "text/html": [
       "<span style=\"color:cyan\"> |-units_0: 288</span>"
      ],
      "text/plain": [
       "<IPython.core.display.HTML object>"
      ]
     },
     "metadata": {},
     "output_type": "display_data"
    },
    {
     "data": {
      "text/html": [
       "<span style=\"color:blue\"> |-units_1: 160</span>"
      ],
      "text/plain": [
       "<IPython.core.display.HTML object>"
      ]
     },
     "metadata": {},
     "output_type": "display_data"
    },
    {
     "data": {
      "text/html": [
       "<span style=\"color:cyan\"> |-units_10: 448</span>"
      ],
      "text/plain": [
       "<IPython.core.display.HTML object>"
      ]
     },
     "metadata": {},
     "output_type": "display_data"
    },
    {
     "data": {
      "text/html": [
       "<span style=\"color:blue\"> |-units_11: 128</span>"
      ],
      "text/plain": [
       "<IPython.core.display.HTML object>"
      ]
     },
     "metadata": {},
     "output_type": "display_data"
    },
    {
     "data": {
      "text/html": [
       "<span style=\"color:cyan\"> |-units_12: 32</span>"
      ],
      "text/plain": [
       "<IPython.core.display.HTML object>"
      ]
     },
     "metadata": {},
     "output_type": "display_data"
    },
    {
     "data": {
      "text/html": [
       "<span style=\"color:blue\"> |-units_13: 416</span>"
      ],
      "text/plain": [
       "<IPython.core.display.HTML object>"
      ]
     },
     "metadata": {},
     "output_type": "display_data"
    },
    {
     "data": {
      "text/html": [
       "<span style=\"color:cyan\"> |-units_14: 256</span>"
      ],
      "text/plain": [
       "<IPython.core.display.HTML object>"
      ]
     },
     "metadata": {},
     "output_type": "display_data"
    },
    {
     "data": {
      "text/html": [
       "<span style=\"color:blue\"> |-units_2: 416</span>"
      ],
      "text/plain": [
       "<IPython.core.display.HTML object>"
      ]
     },
     "metadata": {},
     "output_type": "display_data"
    },
    {
     "data": {
      "text/html": [
       "<span style=\"color:cyan\"> |-units_3: 64</span>"
      ],
      "text/plain": [
       "<IPython.core.display.HTML object>"
      ]
     },
     "metadata": {},
     "output_type": "display_data"
    },
    {
     "data": {
      "text/html": [
       "<span style=\"color:blue\"> |-units_4: 64</span>"
      ],
      "text/plain": [
       "<IPython.core.display.HTML object>"
      ]
     },
     "metadata": {},
     "output_type": "display_data"
    },
    {
     "data": {
      "text/html": [
       "<span style=\"color:cyan\"> |-units_5: 224</span>"
      ],
      "text/plain": [
       "<IPython.core.display.HTML object>"
      ]
     },
     "metadata": {},
     "output_type": "display_data"
    },
    {
     "data": {
      "text/html": [
       "<span style=\"color:blue\"> |-units_6: 352</span>"
      ],
      "text/plain": [
       "<IPython.core.display.HTML object>"
      ]
     },
     "metadata": {},
     "output_type": "display_data"
    },
    {
     "data": {
      "text/html": [
       "<span style=\"color:cyan\"> |-units_7: 320</span>"
      ],
      "text/plain": [
       "<IPython.core.display.HTML object>"
      ]
     },
     "metadata": {},
     "output_type": "display_data"
    },
    {
     "data": {
      "text/html": [
       "<span style=\"color:blue\"> |-units_8: 192</span>"
      ],
      "text/plain": [
       "<IPython.core.display.HTML object>"
      ]
     },
     "metadata": {},
     "output_type": "display_data"
    },
    {
     "data": {
      "text/html": [
       "<span style=\"color:cyan\"> |-units_9: 128</span>"
      ],
      "text/plain": [
       "<IPython.core.display.HTML object>"
      ]
     },
     "metadata": {},
     "output_type": "display_data"
    },
    {
     "name": "stdout",
     "output_type": "stream",
     "text": [
      "Train on 2187 samples, validate on 938 samples\n",
      "Epoch 1/50\n",
      "2187/2187 [==============================] - ETA: 34s - loss: 0.1563 - mean_absolute_error: 0.15 - ETA: 1s - loss: 0.1873 - mean_absolute_error: 0.1873 - ETA: 0s - loss: 0.1912 - mean_absolute_error: 0.191 - 3s 1ms/sample - loss: 0.1945 - mean_absolute_error: 0.1945 - val_loss: 0.1727 - val_mean_absolute_error: 0.1727\n",
      "Epoch 2/50\n",
      "2187/2187 [==============================] - ETA: 0s - loss: 0.1233 - mean_absolute_error: 0.123 - ETA: 0s - loss: 0.1616 - mean_absolute_error: 0.161 - ETA: 0s - loss: 0.1470 - mean_absolute_error: 0.147 - 0s 149us/sample - loss: 0.1510 - mean_absolute_error: 0.1510 - val_loss: 0.1286 - val_mean_absolute_error: 0.1286\n",
      "Epoch 3/50\n",
      "2187/2187 [==============================] - ETA: 0s - loss: 0.0690 - mean_absolute_error: 0.069 - ETA: 0s - loss: 0.1397 - mean_absolute_error: 0.139 - ETA: 0s - loss: 0.1317 - mean_absolute_error: 0.131 - 0s 157us/sample - loss: 0.1317 - mean_absolute_error: 0.1317 - val_loss: 0.1148 - val_mean_absolute_error: 0.1148\n",
      "Epoch 4/50\n",
      "2187/2187 [==============================] - ETA: 0s - loss: 0.0901 - mean_absolute_error: 0.090 - ETA: 0s - loss: 0.1260 - mean_absolute_error: 0.126 - ETA: 0s - loss: 0.1284 - mean_absolute_error: 0.128 - 0s 77us/sample - loss: 0.1304 - mean_absolute_error: 0.1304 - val_loss: 0.1164 - val_mean_absolute_error: 0.1164\n",
      "Epoch 5/50\n",
      "2187/2187 [==============================] - ETA: 0s - loss: 0.0988 - mean_absolute_error: 0.098 - ETA: 0s - loss: 0.1245 - mean_absolute_error: 0.124 - ETA: 0s - loss: 0.1225 - mean_absolute_error: 0.122 - 0s 84us/sample - loss: 0.1223 - mean_absolute_error: 0.1223 - val_loss: 0.1209 - val_mean_absolute_error: 0.1209\n",
      "Epoch 6/50\n",
      "2187/2187 [==============================] - ETA: 1s - loss: 0.1150 - mean_absolute_error: 0.115 - ETA: 0s - loss: 0.1211 - mean_absolute_error: 0.121 - ETA: 0s - loss: 0.1243 - mean_absolute_error: 0.124 - 1s 659us/sample - loss: 0.1256 - mean_absolute_error: 0.1256 - val_loss: 0.1075 - val_mean_absolute_error: 0.1075\n",
      "Epoch 7/50\n",
      "2187/2187 [==============================] - ETA: 0s - loss: 0.1865 - mean_absolute_error: 0.186 - ETA: 0s - loss: 0.1177 - mean_absolute_error: 0.117 - ETA: 0s - loss: 0.1195 - mean_absolute_error: 0.119 - 0s 134us/sample - loss: 0.1146 - mean_absolute_error: 0.1146 - val_loss: 0.1006 - val_mean_absolute_error: 0.1006\n",
      "Epoch 8/50\n",
      "2187/2187 [==============================] - ETA: 0s - loss: 0.0776 - mean_absolute_error: 0.077 - ETA: 0s - loss: 0.1053 - mean_absolute_error: 0.105 - ETA: 0s - loss: 0.1125 - mean_absolute_error: 0.112 - 0s 139us/sample - loss: 0.1149 - mean_absolute_error: 0.1149 - val_loss: 0.0990 - val_mean_absolute_error: 0.0990\n",
      "Epoch 9/50\n",
      "2187/2187 [==============================] - ETA: 0s - loss: 0.1687 - mean_absolute_error: 0.168 - ETA: 0s - loss: 0.1017 - mean_absolute_error: 0.101 - ETA: 0s - loss: 0.1065 - mean_absolute_error: 0.106 - 0s 147us/sample - loss: 0.1048 - mean_absolute_error: 0.1048 - val_loss: 0.0980 - val_mean_absolute_error: 0.0980\n",
      "Epoch 10/50\n",
      "2187/2187 [==============================] - ETA: 0s - loss: 0.1279 - mean_absolute_error: 0.127 - ETA: 0s - loss: 0.1229 - mean_absolute_error: 0.122 - ETA: 0s - loss: 0.1089 - mean_absolute_error: 0.108 - 0s 145us/sample - loss: 0.1086 - mean_absolute_error: 0.1086 - val_loss: 0.0917 - val_mean_absolute_error: 0.0917\n",
      "Epoch 11/50\n",
      "2187/2187 [==============================] - ETA: 0s - loss: 0.0080 - mean_absolute_error: 0.008 - ETA: 0s - loss: 0.0897 - mean_absolute_error: 0.089 - ETA: 0s - loss: 0.0976 - mean_absolute_error: 0.097 - 0s 139us/sample - loss: 0.0980 - mean_absolute_error: 0.0980 - val_loss: 0.0908 - val_mean_absolute_error: 0.0908\n",
      "Epoch 12/50\n",
      "2187/2187 [==============================] - ETA: 0s - loss: 0.1955 - mean_absolute_error: 0.195 - ETA: 0s - loss: 0.1120 - mean_absolute_error: 0.112 - ETA: 0s - loss: 0.1035 - mean_absolute_error: 0.103 - 0s 215us/sample - loss: 0.1007 - mean_absolute_error: 0.1007 - val_loss: 0.0871 - val_mean_absolute_error: 0.0871\n",
      "Epoch 13/50\n",
      "2187/2187 [==============================] - ETA: 0s - loss: 0.1172 - mean_absolute_error: 0.117 - ETA: 0s - loss: 0.0972 - mean_absolute_error: 0.097 - ETA: 0s - loss: 0.1062 - mean_absolute_error: 0.106 - 0s 89us/sample - loss: 0.0981 - mean_absolute_error: 0.0981 - val_loss: 0.0929 - val_mean_absolute_error: 0.0929\n",
      "Epoch 14/50\n",
      "2187/2187 [==============================] - ETA: 0s - loss: 0.0973 - mean_absolute_error: 0.097 - ETA: 0s - loss: 0.0990 - mean_absolute_error: 0.099 - ETA: 0s - loss: 0.1098 - mean_absolute_error: 0.109 - ETA: 0s - loss: 0.1024 - mean_absolute_error: 0.102 - 0s 97us/sample - loss: 0.1020 - mean_absolute_error: 0.1020 - val_loss: 0.0884 - val_mean_absolute_error: 0.0884\n",
      "Epoch 15/50\n",
      "2187/2187 [==============================] - ETA: 0s - loss: 0.0883 - mean_absolute_error: 0.088 - ETA: 0s - loss: 0.0928 - mean_absolute_error: 0.092 - ETA: 0s - loss: 0.0916 - mean_absolute_error: 0.091 - 0s 85us/sample - loss: 0.0942 - mean_absolute_error: 0.0942 - val_loss: 0.0888 - val_mean_absolute_error: 0.0888\n",
      "Epoch 16/50\n",
      "2187/2187 [==============================] - ETA: 0s - loss: 0.1271 - mean_absolute_error: 0.127 - ETA: 0s - loss: 0.0984 - mean_absolute_error: 0.098 - ETA: 0s - loss: 0.1067 - mean_absolute_error: 0.106 - 0s 83us/sample - loss: 0.1035 - mean_absolute_error: 0.1035 - val_loss: 0.0909 - val_mean_absolute_error: 0.0909\n",
      "Epoch 17/50\n",
      "2187/2187 [==============================] - ETA: 0s - loss: 0.1695 - mean_absolute_error: 0.169 - ETA: 0s - loss: 0.1023 - mean_absolute_error: 0.102 - ETA: 0s - loss: 0.1019 - mean_absolute_error: 0.101 - 0s 77us/sample - loss: 0.1010 - mean_absolute_error: 0.1010 - val_loss: 0.0891 - val_mean_absolute_error: 0.0891\n",
      "Train on 2187 samples, validate on 938 samples\n",
      "Epoch 1/50\n",
      "2187/2187 [==============================] - ETA: 35s - loss: 0.1253 - mean_absolute_error: 0.12 - ETA: 0s - loss: 0.1859 - mean_absolute_error: 0.1859 - ETA: 0s - loss: 0.1934 - mean_absolute_error: 0.193 - 1s 369us/sample - loss: 0.1939 - mean_absolute_error: 0.1939 - val_loss: 0.1738 - val_mean_absolute_error: 0.1738\n",
      "Epoch 2/50\n",
      "2187/2187 [==============================] - ETA: 0s - loss: 0.2188 - mean_absolute_error: 0.218 - ETA: 0s - loss: 0.1855 - mean_absolute_error: 0.185 - ETA: 0s - loss: 0.1953 - mean_absolute_error: 0.195 - 0s 80us/sample - loss: 0.1934 - mean_absolute_error: 0.1934 - val_loss: 0.1742 - val_mean_absolute_error: 0.1742\n",
      "Epoch 3/50\n",
      "2187/2187 [==============================] - ETA: 0s - loss: 0.1880 - mean_absolute_error: 0.188 - ETA: 0s - loss: 0.1842 - mean_absolute_error: 0.184 - ETA: 0s - loss: 0.1583 - mean_absolute_error: 0.158 - 0s 66us/sample - loss: 0.1557 - mean_absolute_error: 0.1557 - val_loss: 0.1250 - val_mean_absolute_error: 0.1250\n",
      "Epoch 4/50\n",
      "2187/2187 [==============================] - ETA: 0s - loss: 0.1178 - mean_absolute_error: 0.117 - ETA: 0s - loss: 0.1391 - mean_absolute_error: 0.139 - 0s 62us/sample - loss: 0.1285 - mean_absolute_error: 0.1285 - val_loss: 0.1112 - val_mean_absolute_error: 0.1112\n",
      "Epoch 5/50\n",
      "2187/2187 [==============================] - ETA: 0s - loss: 0.1903 - mean_absolute_error: 0.190 - ETA: 0s - loss: 0.1210 - mean_absolute_error: 0.121 - 0s 62us/sample - loss: 0.1259 - mean_absolute_error: 0.1259 - val_loss: 0.1225 - val_mean_absolute_error: 0.1225\n",
      "Epoch 6/50\n",
      "2187/2187 [==============================] - ETA: 0s - loss: 0.1720 - mean_absolute_error: 0.172 - ETA: 0s - loss: 0.1244 - mean_absolute_error: 0.124 - 0s 63us/sample - loss: 0.1199 - mean_absolute_error: 0.1199 - val_loss: 0.1060 - val_mean_absolute_error: 0.1060\n",
      "Epoch 7/50\n",
      "2187/2187 [==============================] - ETA: 0s - loss: 0.1193 - mean_absolute_error: 0.119 - ETA: 0s - loss: 0.1174 - mean_absolute_error: 0.117 - 0s 71us/sample - loss: 0.1168 - mean_absolute_error: 0.1168 - val_loss: 0.1054 - val_mean_absolute_error: 0.1054\n",
      "Epoch 8/50\n",
      "2187/2187 [==============================] - ETA: 0s - loss: 0.1157 - mean_absolute_error: 0.115 - ETA: 0s - loss: 0.1210 - mean_absolute_error: 0.121 - 0s 66us/sample - loss: 0.1170 - mean_absolute_error: 0.1170 - val_loss: 0.1050 - val_mean_absolute_error: 0.1050\n",
      "Epoch 9/50\n"
     ]
    },
    {
     "name": "stdout",
     "output_type": "stream",
     "text": [
      "2187/2187 [==============================] - ETA: 0s - loss: 0.1518 - mean_absolute_error: 0.151 - ETA: 0s - loss: 0.1109 - mean_absolute_error: 0.110 - 0s 62us/sample - loss: 0.1151 - mean_absolute_error: 0.1151 - val_loss: 0.0989 - val_mean_absolute_error: 0.0989\n",
      "Epoch 10/50\n",
      "2187/2187 [==============================] - ETA: 0s - loss: 0.0696 - mean_absolute_error: 0.069 - ETA: 0s - loss: 0.1175 - mean_absolute_error: 0.117 - 0s 62us/sample - loss: 0.1108 - mean_absolute_error: 0.1108 - val_loss: 0.1074 - val_mean_absolute_error: 0.1074\n",
      "Epoch 11/50\n",
      "2187/2187 [==============================] - ETA: 0s - loss: 0.0635 - mean_absolute_error: 0.063 - ETA: 0s - loss: 0.1049 - mean_absolute_error: 0.104 - 0s 62us/sample - loss: 0.1096 - mean_absolute_error: 0.1096 - val_loss: 0.0989 - val_mean_absolute_error: 0.0989\n",
      "Epoch 12/50\n",
      "2187/2187 [==============================] - ETA: 0s - loss: 0.1016 - mean_absolute_error: 0.101 - ETA: 0s - loss: 0.1027 - mean_absolute_error: 0.102 - 0s 62us/sample - loss: 0.1082 - mean_absolute_error: 0.1082 - val_loss: 0.0936 - val_mean_absolute_error: 0.0936\n",
      "Epoch 13/50\n",
      "2187/2187 [==============================] - ETA: 0s - loss: 0.0852 - mean_absolute_error: 0.085 - ETA: 0s - loss: 0.0918 - mean_absolute_error: 0.091 - 0s 68us/sample - loss: 0.1044 - mean_absolute_error: 0.1044 - val_loss: 0.0994 - val_mean_absolute_error: 0.0994\n",
      "Epoch 14/50\n",
      "2187/2187 [==============================] - ETA: 0s - loss: 0.1151 - mean_absolute_error: 0.115 - ETA: 0s - loss: 0.1162 - mean_absolute_error: 0.116 - ETA: 0s - loss: 0.1029 - mean_absolute_error: 0.102 - 0s 72us/sample - loss: 0.1024 - mean_absolute_error: 0.1024 - val_loss: 0.0887 - val_mean_absolute_error: 0.0887\n",
      "Epoch 15/50\n",
      "2187/2187 [==============================] - ETA: 0s - loss: 0.0684 - mean_absolute_error: 0.068 - ETA: 0s - loss: 0.1050 - mean_absolute_error: 0.105 - ETA: 0s - loss: 0.1042 - mean_absolute_error: 0.104 - 1s 452us/sample - loss: 0.1013 - mean_absolute_error: 0.1013 - val_loss: 0.0867 - val_mean_absolute_error: 0.0867\n",
      "Epoch 16/50\n",
      "2187/2187 [==============================] - ETA: 0s - loss: 0.0046 - mean_absolute_error: 0.004 - ETA: 0s - loss: 0.1039 - mean_absolute_error: 0.103 - ETA: 0s - loss: 0.0949 - mean_absolute_error: 0.094 - 0s 84us/sample - loss: 0.0974 - mean_absolute_error: 0.0974 - val_loss: 0.0931 - val_mean_absolute_error: 0.0931\n",
      "Epoch 17/50\n",
      "2187/2187 [==============================] - ETA: 0s - loss: 0.1586 - mean_absolute_error: 0.158 - ETA: 0s - loss: 0.0991 - mean_absolute_error: 0.099 - ETA: 0s - loss: 0.0978 - mean_absolute_error: 0.097 - 0s 75us/sample - loss: 0.0951 - mean_absolute_error: 0.0951 - val_loss: 0.1021 - val_mean_absolute_error: 0.1021\n",
      "Epoch 18/50\n",
      "2187/2187 [==============================] - ETA: 0s - loss: 0.1578 - mean_absolute_error: 0.157 - ETA: 0s - loss: 0.1234 - mean_absolute_error: 0.123 - ETA: 0s - loss: 0.0993 - mean_absolute_error: 0.099 - 0s 68us/sample - loss: 0.0985 - mean_absolute_error: 0.0985 - val_loss: 0.0897 - val_mean_absolute_error: 0.0897\n",
      "Epoch 19/50\n",
      "2187/2187 [==============================] - ETA: 0s - loss: 0.1825 - mean_absolute_error: 0.182 - ETA: 0s - loss: 0.0894 - mean_absolute_error: 0.089 - ETA: 0s - loss: 0.0947 - mean_absolute_error: 0.094 - 0s 70us/sample - loss: 0.0958 - mean_absolute_error: 0.0958 - val_loss: 0.0948 - val_mean_absolute_error: 0.0948\n",
      "Epoch 20/50\n",
      "2187/2187 [==============================] - ETA: 0s - loss: 0.0060 - mean_absolute_error: 0.006 - ETA: 0s - loss: 0.0923 - mean_absolute_error: 0.092 - ETA: 0s - loss: 0.0919 - mean_absolute_error: 0.091 - 0s 70us/sample - loss: 0.0915 - mean_absolute_error: 0.0915 - val_loss: 0.0955 - val_mean_absolute_error: 0.0955\n",
      "Train on 2187 samples, validate on 938 samples\n",
      "Epoch 1/50\n",
      "2187/2187 [==============================] - ETA: 36s - loss: 0.1250 - mean_absolute_error: 0.12 - ETA: 0s - loss: 0.2008 - mean_absolute_error: 0.2008 - ETA: 0s - loss: 0.2041 - mean_absolute_error: 0.204 - 1s 365us/sample - loss: 0.1941 - mean_absolute_error: 0.1941 - val_loss: 0.1743 - val_mean_absolute_error: 0.1743\n",
      "Epoch 2/50\n",
      "2187/2187 [==============================] - ETA: 0s - loss: 0.1880 - mean_absolute_error: 0.188 - ETA: 0s - loss: 0.2153 - mean_absolute_error: 0.215 - 0s 68us/sample - loss: 0.1917 - mean_absolute_error: 0.1917 - val_loss: 0.1493 - val_mean_absolute_error: 0.1493\n",
      "Epoch 3/50\n",
      "2187/2187 [==============================] - ETA: 0s - loss: 0.2209 - mean_absolute_error: 0.220 - ETA: 0s - loss: 0.1471 - mean_absolute_error: 0.147 - 0s 70us/sample - loss: 0.1415 - mean_absolute_error: 0.1415 - val_loss: 0.1186 - val_mean_absolute_error: 0.1186\n",
      "Epoch 4/50\n",
      "2187/2187 [==============================] - ETA: 0s - loss: 0.0484 - mean_absolute_error: 0.048 - ETA: 0s - loss: 0.1306 - mean_absolute_error: 0.130 - ETA: 0s - loss: 0.1322 - mean_absolute_error: 0.132 - 0s 93us/sample - loss: 0.1296 - mean_absolute_error: 0.1296 - val_loss: 0.1167 - val_mean_absolute_error: 0.1167\n",
      "Epoch 5/50\n",
      "2187/2187 [==============================] - ETA: 0s - loss: 0.1254 - mean_absolute_error: 0.125 - ETA: 0s - loss: 0.1252 - mean_absolute_error: 0.125 - ETA: 0s - loss: 0.1226 - mean_absolute_error: 0.122 - 0s 80us/sample - loss: 0.1239 - mean_absolute_error: 0.1239 - val_loss: 0.1120 - val_mean_absolute_error: 0.1120\n",
      "Epoch 6/50\n",
      "2187/2187 [==============================] - ETA: 0s - loss: 0.0897 - mean_absolute_error: 0.089 - ETA: 0s - loss: 0.1262 - mean_absolute_error: 0.126 - ETA: 0s - loss: 0.1263 - mean_absolute_error: 0.126 - 0s 78us/sample - loss: 0.1231 - mean_absolute_error: 0.1231 - val_loss: 0.1057 - val_mean_absolute_error: 0.1057\n",
      "Epoch 7/50\n",
      "2187/2187 [==============================] - ETA: 0s - loss: 0.1502 - mean_absolute_error: 0.150 - ETA: 0s - loss: 0.1279 - mean_absolute_error: 0.127 - ETA: 0s - loss: 0.1202 - mean_absolute_error: 0.120 - 0s 75us/sample - loss: 0.1173 - mean_absolute_error: 0.1173 - val_loss: 0.1061 - val_mean_absolute_error: 0.1061\n",
      "Epoch 8/50\n",
      "2187/2187 [==============================] - ETA: 0s - loss: 0.0519 - mean_absolute_error: 0.051 - ETA: 0s - loss: 0.1229 - mean_absolute_error: 0.122 - ETA: 0s - loss: 0.1232 - mean_absolute_error: 0.123 - 0s 77us/sample - loss: 0.1194 - mean_absolute_error: 0.1194 - val_loss: 0.1046 - val_mean_absolute_error: 0.1046\n",
      "Epoch 9/50\n",
      "2187/2187 [==============================] - ETA: 0s - loss: 0.0812 - mean_absolute_error: 0.081 - ETA: 0s - loss: 0.1113 - mean_absolute_error: 0.111 - ETA: 0s - loss: 0.1187 - mean_absolute_error: 0.118 - 0s 80us/sample - loss: 0.1158 - mean_absolute_error: 0.1158 - val_loss: 0.1064 - val_mean_absolute_error: 0.1064\n",
      "Epoch 10/50\n",
      "2187/2187 [==============================] - ETA: 0s - loss: 0.0195 - mean_absolute_error: 0.019 - ETA: 0s - loss: 0.1273 - mean_absolute_error: 0.127 - ETA: 0s - loss: 0.1186 - mean_absolute_error: 0.118 - 0s 87us/sample - loss: 0.1146 - mean_absolute_error: 0.1146 - val_loss: 0.1017 - val_mean_absolute_error: 0.1017\n",
      "Epoch 11/50\n",
      "2187/2187 [==============================] - ETA: 0s - loss: 0.2542 - mean_absolute_error: 0.254 - ETA: 0s - loss: 0.1123 - mean_absolute_error: 0.112 - ETA: 0s - loss: 0.1125 - mean_absolute_error: 0.112 - 0s 75us/sample - loss: 0.1163 - mean_absolute_error: 0.1163 - val_loss: 0.1032 - val_mean_absolute_error: 0.1032\n",
      "Epoch 12/50\n",
      "2187/2187 [==============================] - ETA: 0s - loss: 0.0878 - mean_absolute_error: 0.087 - ETA: 0s - loss: 0.1164 - mean_absolute_error: 0.116 - ETA: 0s - loss: 0.1202 - mean_absolute_error: 0.120 - 0s 78us/sample - loss: 0.1151 - mean_absolute_error: 0.1151 - val_loss: 0.1027 - val_mean_absolute_error: 0.1027\n",
      "Epoch 13/50\n",
      "2187/2187 [==============================] - ETA: 0s - loss: 0.1009 - mean_absolute_error: 0.100 - ETA: 0s - loss: 0.1181 - mean_absolute_error: 0.118 - ETA: 0s - loss: 0.1116 - mean_absolute_error: 0.111 - 0s 75us/sample - loss: 0.1113 - mean_absolute_error: 0.1113 - val_loss: 0.0964 - val_mean_absolute_error: 0.0964\n",
      "Epoch 14/50\n",
      "2187/2187 [==============================] - ETA: 0s - loss: 0.0745 - mean_absolute_error: 0.074 - ETA: 0s - loss: 0.1074 - mean_absolute_error: 0.107 - ETA: 0s - loss: 0.1105 - mean_absolute_error: 0.110 - 0s 92us/sample - loss: 0.1136 - mean_absolute_error: 0.1136 - val_loss: 0.0945 - val_mean_absolute_error: 0.0945\n"
     ]
    },
    {
     "name": "stdout",
     "output_type": "stream",
     "text": [
      "Epoch 15/50\n",
      "2187/2187 [==============================] - ETA: 0s - loss: 0.1533 - mean_absolute_error: 0.153 - ETA: 0s - loss: 0.1109 - mean_absolute_error: 0.110 - ETA: 0s - loss: 0.1063 - mean_absolute_error: 0.106 - ETA: 0s - loss: 0.1054 - mean_absolute_error: 0.105 - 0s 100us/sample - loss: 0.1066 - mean_absolute_error: 0.1066 - val_loss: 0.0948 - val_mean_absolute_error: 0.0948\n",
      "Epoch 16/50\n",
      "2187/2187 [==============================] - ETA: 0s - loss: 0.0875 - mean_absolute_error: 0.087 - ETA: 0s - loss: 0.0976 - mean_absolute_error: 0.097 - ETA: 0s - loss: 0.1025 - mean_absolute_error: 0.102 - 0s 83us/sample - loss: 0.1045 - mean_absolute_error: 0.1045 - val_loss: 0.0949 - val_mean_absolute_error: 0.0949\n",
      "Epoch 17/50\n",
      "2187/2187 [==============================] - ETA: 0s - loss: 0.1127 - mean_absolute_error: 0.112 - ETA: 0s - loss: 0.1157 - mean_absolute_error: 0.115 - ETA: 0s - loss: 0.1034 - mean_absolute_error: 0.103 - 0s 71us/sample - loss: 0.1018 - mean_absolute_error: 0.1018 - val_loss: 0.0944 - val_mean_absolute_error: 0.0944\n",
      "Epoch 18/50\n",
      "2187/2187 [==============================] - ETA: 0s - loss: 0.0983 - mean_absolute_error: 0.098 - ETA: 0s - loss: 0.1007 - mean_absolute_error: 0.100 - 0s 61us/sample - loss: 0.1020 - mean_absolute_error: 0.1020 - val_loss: 0.0909 - val_mean_absolute_error: 0.0909\n",
      "Epoch 19/50\n",
      "2187/2187 [==============================] - ETA: 0s - loss: 0.1331 - mean_absolute_error: 0.133 - ETA: 0s - loss: 0.0943 - mean_absolute_error: 0.094 - 0s 61us/sample - loss: 0.1054 - mean_absolute_error: 0.1054 - val_loss: 0.0973 - val_mean_absolute_error: 0.0973\n",
      "Epoch 20/50\n",
      "2187/2187 [==============================] - ETA: 0s - loss: 0.0656 - mean_absolute_error: 0.065 - ETA: 0s - loss: 0.1025 - mean_absolute_error: 0.102 - 0s 62us/sample - loss: 0.0987 - mean_absolute_error: 0.0987 - val_loss: 0.0952 - val_mean_absolute_error: 0.0952\n",
      "Epoch 21/50\n",
      "2187/2187 [==============================] - ETA: 0s - loss: 0.0711 - mean_absolute_error: 0.071 - ETA: 0s - loss: 0.0895 - mean_absolute_error: 0.089 - 0s 62us/sample - loss: 0.0994 - mean_absolute_error: 0.0994 - val_loss: 0.0886 - val_mean_absolute_error: 0.0886\n",
      "Epoch 22/50\n",
      "2187/2187 [==============================] - ETA: 0s - loss: 0.0953 - mean_absolute_error: 0.095 - ETA: 0s - loss: 0.1018 - mean_absolute_error: 0.101 - 0s 61us/sample - loss: 0.0961 - mean_absolute_error: 0.0961 - val_loss: 0.0885 - val_mean_absolute_error: 0.0885\n",
      "Epoch 23/50\n",
      "2187/2187 [==============================] - ETA: 0s - loss: 0.1729 - mean_absolute_error: 0.172 - ETA: 0s - loss: 0.0968 - mean_absolute_error: 0.096 - 0s 185us/sample - loss: 0.0931 - mean_absolute_error: 0.0931 - val_loss: 0.0860 - val_mean_absolute_error: 0.0860\n",
      "Epoch 24/50\n",
      "2187/2187 [==============================] - ETA: 0s - loss: 0.1387 - mean_absolute_error: 0.138 - ETA: 0s - loss: 0.1019 - mean_absolute_error: 0.101 - ETA: 0s - loss: 0.0949 - mean_absolute_error: 0.094 - 0s 83us/sample - loss: 0.0947 - mean_absolute_error: 0.0947 - val_loss: 0.0861 - val_mean_absolute_error: 0.0861\n",
      "Epoch 25/50\n",
      "2187/2187 [==============================] - ETA: 0s - loss: 0.0967 - mean_absolute_error: 0.096 - ETA: 0s - loss: 0.0937 - mean_absolute_error: 0.093 - 0s 70us/sample - loss: 0.0917 - mean_absolute_error: 0.0917 - val_loss: 0.0913 - val_mean_absolute_error: 0.0913\n",
      "Epoch 26/50\n",
      "2187/2187 [==============================] - ETA: 0s - loss: 0.1252 - mean_absolute_error: 0.125 - ETA: 0s - loss: 0.1064 - mean_absolute_error: 0.106 - 0s 184us/sample - loss: 0.0978 - mean_absolute_error: 0.0978 - val_loss: 0.0842 - val_mean_absolute_error: 0.0842\n",
      "Epoch 27/50\n",
      "2187/2187 [==============================] - ETA: 1s - loss: 0.1271 - mean_absolute_error: 0.127 - ETA: 0s - loss: 0.1038 - mean_absolute_error: 0.103 - ETA: 0s - loss: 0.0906 - mean_absolute_error: 0.090 - 0s 81us/sample - loss: 0.0917 - mean_absolute_error: 0.0917 - val_loss: 0.0859 - val_mean_absolute_error: 0.0859\n",
      "Epoch 28/50\n",
      "2187/2187 [==============================] - ETA: 0s - loss: 0.0859 - mean_absolute_error: 0.085 - ETA: 0s - loss: 0.0813 - mean_absolute_error: 0.081 - 0s 68us/sample - loss: 0.0916 - mean_absolute_error: 0.0916 - val_loss: 0.0893 - val_mean_absolute_error: 0.0893\n",
      "Epoch 29/50\n",
      "2187/2187 [==============================] - ETA: 0s - loss: 0.0790 - mean_absolute_error: 0.079 - ETA: 0s - loss: 0.0896 - mean_absolute_error: 0.089 - 0s 69us/sample - loss: 0.0887 - mean_absolute_error: 0.0887 - val_loss: 0.0965 - val_mean_absolute_error: 0.0965\n",
      "Epoch 30/50\n",
      "2187/2187 [==============================] - ETA: 0s - loss: 0.0717 - mean_absolute_error: 0.071 - ETA: 0s - loss: 0.0947 - mean_absolute_error: 0.094 - 0s 69us/sample - loss: 0.0952 - mean_absolute_error: 0.0952 - val_loss: 0.0852 - val_mean_absolute_error: 0.0852\n",
      "Epoch 31/50\n",
      "2187/2187 [==============================] - ETA: 0s - loss: 0.0043 - mean_absolute_error: 0.004 - ETA: 0s - loss: 0.0936 - mean_absolute_error: 0.093 - 1s 491us/sample - loss: 0.0920 - mean_absolute_error: 0.0920 - val_loss: 0.0785 - val_mean_absolute_error: 0.0785\n",
      "Epoch 32/50\n",
      "2187/2187 [==============================] - ETA: 0s - loss: 0.0016 - mean_absolute_error: 0.001 - ETA: 0s - loss: 0.0877 - mean_absolute_error: 0.087 - ETA: 0s - loss: 0.0872 - mean_absolute_error: 0.087 - 0s 74us/sample - loss: 0.0887 - mean_absolute_error: 0.0887 - val_loss: 0.0957 - val_mean_absolute_error: 0.0957\n",
      "Epoch 33/50\n",
      "2187/2187 [==============================] - ETA: 0s - loss: 0.1670 - mean_absolute_error: 0.167 - ETA: 0s - loss: 0.0990 - mean_absolute_error: 0.099 - ETA: 0s - loss: 0.0932 - mean_absolute_error: 0.093 - 0s 74us/sample - loss: 0.0928 - mean_absolute_error: 0.0928 - val_loss: 0.0838 - val_mean_absolute_error: 0.0838\n",
      "Epoch 34/50\n",
      "2187/2187 [==============================] - ETA: 0s - loss: 0.0642 - mean_absolute_error: 0.064 - ETA: 0s - loss: 0.0865 - mean_absolute_error: 0.086 - 0s 64us/sample - loss: 0.0884 - mean_absolute_error: 0.0884 - val_loss: 0.0934 - val_mean_absolute_error: 0.0934\n",
      "Epoch 35/50\n",
      "2187/2187 [==============================] - ETA: 0s - loss: 0.1501 - mean_absolute_error: 0.150 - ETA: 0s - loss: 0.0831 - mean_absolute_error: 0.083 - ETA: 0s - loss: 0.0892 - mean_absolute_error: 0.089 - 0s 71us/sample - loss: 0.0914 - mean_absolute_error: 0.0914 - val_loss: 0.0857 - val_mean_absolute_error: 0.0857\n",
      "Epoch 36/50\n",
      "2187/2187 [==============================] - ETA: 0s - loss: 0.1436 - mean_absolute_error: 0.143 - ETA: 0s - loss: 0.0842 - mean_absolute_error: 0.084 - ETA: 0s - loss: 0.0917 - mean_absolute_error: 0.091 - 0s 71us/sample - loss: 0.0912 - mean_absolute_error: 0.0912 - val_loss: 0.0801 - val_mean_absolute_error: 0.0801\n"
     ]
    },
    {
     "data": {
      "text/html": [
       "<span style=\"color:#4527A0\"><h1 style=\"font-size:18px\">Trial complete</h1></span>"
      ],
      "text/plain": [
       "<IPython.core.display.HTML object>"
      ]
     },
     "metadata": {},
     "output_type": "display_data"
    },
    {
     "data": {
      "text/html": [
       "<span style=\"color:#4527A0\"><h1 style=\"font-size:18px\">Trial summary</h1></span>"
      ],
      "text/plain": [
       "<IPython.core.display.HTML object>"
      ]
     },
     "metadata": {},
     "output_type": "display_data"
    },
    {
     "data": {
      "text/html": [
       "<span style=\"color:cyan\"> |-Trial ID: 54691430545eaafef3e0a0ef39bb0ed7</span>"
      ],
      "text/plain": [
       "<IPython.core.display.HTML object>"
      ]
     },
     "metadata": {},
     "output_type": "display_data"
    },
    {
     "data": {
      "text/html": [
       "<span style=\"color:cyan\"> |-Score: 0.0841420367360115</span>"
      ],
      "text/plain": [
       "<IPython.core.display.HTML object>"
      ]
     },
     "metadata": {},
     "output_type": "display_data"
    },
    {
     "data": {
      "text/html": [
       "<span style=\"color:cyan\"> |-Best step: 0</span>"
      ],
      "text/plain": [
       "<IPython.core.display.HTML object>"
      ]
     },
     "metadata": {},
     "output_type": "display_data"
    },
    {
     "data": {
      "text/html": [
       "<span style=\"color:#7E57C2\"><h2 style=\"font-size:16px\">Hyperparameters:</h2></span>"
      ],
      "text/plain": [
       "<IPython.core.display.HTML object>"
      ]
     },
     "metadata": {},
     "output_type": "display_data"
    },
    {
     "data": {
      "text/html": [
       "<span style=\"color:cyan\"> |-learning_rate: 0.001</span>"
      ],
      "text/plain": [
       "<IPython.core.display.HTML object>"
      ]
     },
     "metadata": {},
     "output_type": "display_data"
    },
    {
     "data": {
      "text/html": [
       "<span style=\"color:blue\"> |-num_layers: 4</span>"
      ],
      "text/plain": [
       "<IPython.core.display.HTML object>"
      ]
     },
     "metadata": {},
     "output_type": "display_data"
    },
    {
     "data": {
      "text/html": [
       "<span style=\"color:cyan\"> |-units_0: 384</span>"
      ],
      "text/plain": [
       "<IPython.core.display.HTML object>"
      ]
     },
     "metadata": {},
     "output_type": "display_data"
    },
    {
     "data": {
      "text/html": [
       "<span style=\"color:blue\"> |-units_1: 128</span>"
      ],
      "text/plain": [
       "<IPython.core.display.HTML object>"
      ]
     },
     "metadata": {},
     "output_type": "display_data"
    },
    {
     "data": {
      "text/html": [
       "<span style=\"color:cyan\"> |-units_10: 32</span>"
      ],
      "text/plain": [
       "<IPython.core.display.HTML object>"
      ]
     },
     "metadata": {},
     "output_type": "display_data"
    },
    {
     "data": {
      "text/html": [
       "<span style=\"color:blue\"> |-units_11: 416</span>"
      ],
      "text/plain": [
       "<IPython.core.display.HTML object>"
      ]
     },
     "metadata": {},
     "output_type": "display_data"
    },
    {
     "data": {
      "text/html": [
       "<span style=\"color:cyan\"> |-units_12: 480</span>"
      ],
      "text/plain": [
       "<IPython.core.display.HTML object>"
      ]
     },
     "metadata": {},
     "output_type": "display_data"
    },
    {
     "data": {
      "text/html": [
       "<span style=\"color:blue\"> |-units_13: 352</span>"
      ],
      "text/plain": [
       "<IPython.core.display.HTML object>"
      ]
     },
     "metadata": {},
     "output_type": "display_data"
    },
    {
     "data": {
      "text/html": [
       "<span style=\"color:cyan\"> |-units_14: 480</span>"
      ],
      "text/plain": [
       "<IPython.core.display.HTML object>"
      ]
     },
     "metadata": {},
     "output_type": "display_data"
    },
    {
     "data": {
      "text/html": [
       "<span style=\"color:blue\"> |-units_2: 192</span>"
      ],
      "text/plain": [
       "<IPython.core.display.HTML object>"
      ]
     },
     "metadata": {},
     "output_type": "display_data"
    },
    {
     "data": {
      "text/html": [
       "<span style=\"color:cyan\"> |-units_3: 192</span>"
      ],
      "text/plain": [
       "<IPython.core.display.HTML object>"
      ]
     },
     "metadata": {},
     "output_type": "display_data"
    },
    {
     "data": {
      "text/html": [
       "<span style=\"color:blue\"> |-units_4: 288</span>"
      ],
      "text/plain": [
       "<IPython.core.display.HTML object>"
      ]
     },
     "metadata": {},
     "output_type": "display_data"
    },
    {
     "data": {
      "text/html": [
       "<span style=\"color:cyan\"> |-units_5: 224</span>"
      ],
      "text/plain": [
       "<IPython.core.display.HTML object>"
      ]
     },
     "metadata": {},
     "output_type": "display_data"
    },
    {
     "data": {
      "text/html": [
       "<span style=\"color:blue\"> |-units_6: 256</span>"
      ],
      "text/plain": [
       "<IPython.core.display.HTML object>"
      ]
     },
     "metadata": {},
     "output_type": "display_data"
    },
    {
     "data": {
      "text/html": [
       "<span style=\"color:cyan\"> |-units_7: 128</span>"
      ],
      "text/plain": [
       "<IPython.core.display.HTML object>"
      ]
     },
     "metadata": {},
     "output_type": "display_data"
    },
    {
     "data": {
      "text/html": [
       "<span style=\"color:blue\"> |-units_8: 480</span>"
      ],
      "text/plain": [
       "<IPython.core.display.HTML object>"
      ]
     },
     "metadata": {},
     "output_type": "display_data"
    },
    {
     "data": {
      "text/html": [
       "<span style=\"color:cyan\"> |-units_9: 448</span>"
      ],
      "text/plain": [
       "<IPython.core.display.HTML object>"
      ]
     },
     "metadata": {},
     "output_type": "display_data"
    },
    {
     "name": "stdout",
     "output_type": "stream",
     "text": [
      "Train on 2187 samples, validate on 938 samples\n",
      "Epoch 1/50\n",
      "2187/2187 [==============================] - ETA: 1:06 - loss: 0.1875 - mean_absolute_error: 0.187 - ETA: 2s - loss: 0.1839 - mean_absolute_error: 0.1839  - ETA: 0s - loss: 0.1993 - mean_absolute_error: 0.199 - ETA: 0s - loss: 0.1938 - mean_absolute_error: 0.193 - 2s 810us/sample - loss: 0.1943 - mean_absolute_error: 0.1943 - val_loss: 0.1752 - val_mean_absolute_error: 0.1752\n",
      "Epoch 2/50\n",
      "2187/2187 [==============================] - ETA: 0s - loss: 0.1267 - mean_absolute_error: 0.126 - ETA: 0s - loss: 0.2062 - mean_absolute_error: 0.206 - ETA: 0s - loss: 0.2023 - mean_absolute_error: 0.202 - ETA: 0s - loss: 0.1931 - mean_absolute_error: 0.193 - 2s 908us/sample - loss: 0.1940 - mean_absolute_error: 0.1940 - val_loss: 0.1744 - val_mean_absolute_error: 0.1744\n",
      "Epoch 3/50\n",
      "2187/2187 [==============================] - ETA: 0s - loss: 0.1569 - mean_absolute_error: 0.156 - ETA: 0s - loss: 0.2076 - mean_absolute_error: 0.207 - ETA: 0s - loss: 0.1964 - mean_absolute_error: 0.196 - ETA: 0s - loss: 0.1958 - mean_absolute_error: 0.195 - 2s 839us/sample - loss: 0.1942 - mean_absolute_error: 0.1942 - val_loss: 0.1742 - val_mean_absolute_error: 0.1742\n",
      "Epoch 4/50\n",
      "2187/2187 [==============================] - ETA: 0s - loss: 0.1879 - mean_absolute_error: 0.187 - ETA: 0s - loss: 0.2152 - mean_absolute_error: 0.215 - ETA: 0s - loss: 0.1998 - mean_absolute_error: 0.199 - ETA: 0s - loss: 0.1981 - mean_absolute_error: 0.198 - 2s 750us/sample - loss: 0.1937 - mean_absolute_error: 0.1937 - val_loss: 0.1739 - val_mean_absolute_error: 0.1739\n",
      "Epoch 5/50\n",
      "2187/2187 [==============================] - ETA: 0s - loss: 0.2189 - mean_absolute_error: 0.218 - ETA: 0s - loss: 0.2008 - mean_absolute_error: 0.200 - ETA: 0s - loss: 0.2191 - mean_absolute_error: 0.219 - ETA: 0s - loss: 0.2019 - mean_absolute_error: 0.201 - ETA: 0s - loss: 0.1918 - mean_absolute_error: 0.191 - 0s 135us/sample - loss: 0.1934 - mean_absolute_error: 0.1934 - val_loss: 0.1745 - val_mean_absolute_error: 0.1745\n",
      "Epoch 6/50\n",
      "2187/2187 [==============================] - ETA: 0s - loss: 0.1570 - mean_absolute_error: 0.157 - ETA: 0s - loss: 0.1689 - mean_absolute_error: 0.168 - ETA: 0s - loss: 0.1897 - mean_absolute_error: 0.189 - ETA: 0s - loss: 0.1900 - mean_absolute_error: 0.190 - 0s 116us/sample - loss: 0.1938 - mean_absolute_error: 0.1938 - val_loss: 0.1741 - val_mean_absolute_error: 0.1741\n",
      "Epoch 7/50\n",
      "2187/2187 [==============================] - ETA: 0s - loss: 0.1566 - mean_absolute_error: 0.156 - ETA: 0s - loss: 0.2044 - mean_absolute_error: 0.204 - ETA: 0s - loss: 0.1957 - mean_absolute_error: 0.195 - ETA: 0s - loss: 0.1977 - mean_absolute_error: 0.197 - 0s 114us/sample - loss: 0.1936 - mean_absolute_error: 0.1936 - val_loss: 0.1741 - val_mean_absolute_error: 0.1741\n",
      "Epoch 8/50\n",
      "2187/2187 [==============================] - ETA: 0s - loss: 0.1878 - mean_absolute_error: 0.187 - ETA: 0s - loss: 0.1978 - mean_absolute_error: 0.197 - ETA: 0s - loss: 0.1917 - mean_absolute_error: 0.191 - ETA: 0s - loss: 0.1915 - mean_absolute_error: 0.191 - 0s 111us/sample - loss: 0.1936 - mean_absolute_error: 0.1936 - val_loss: 0.1740 - val_mean_absolute_error: 0.1740\n",
      "Epoch 9/50\n",
      "2187/2187 [==============================] - ETA: 0s - loss: 0.2502 - mean_absolute_error: 0.250 - ETA: 0s - loss: 0.2065 - mean_absolute_error: 0.206 - ETA: 0s - loss: 0.1913 - mean_absolute_error: 0.191 - ETA: 0s - loss: 0.1987 - mean_absolute_error: 0.198 - 0s 115us/sample - loss: 0.1936 - mean_absolute_error: 0.1936 - val_loss: 0.1742 - val_mean_absolute_error: 0.1742\n",
      "Train on 2187 samples, validate on 938 samples\n",
      "Epoch 1/50\n",
      "2187/2187 [==============================] - ETA: 1:13 - loss: 0.1250 - mean_absolute_error: 0.125 - ETA: 2s - loss: 0.1843 - mean_absolute_error: 0.1843  - ETA: 1s - loss: 0.1917 - mean_absolute_error: 0.191 - ETA: 0s - loss: 0.1886 - mean_absolute_error: 0.188 - 2s 693us/sample - loss: 0.1946 - mean_absolute_error: 0.1946 - val_loss: 0.1749 - val_mean_absolute_error: 0.1749\n",
      "Epoch 2/50\n",
      "2187/2187 [==============================] - ETA: 0s - loss: 0.1886 - mean_absolute_error: 0.188 - ETA: 0s - loss: 0.2057 - mean_absolute_error: 0.205 - ETA: 0s - loss: 0.2109 - mean_absolute_error: 0.210 - ETA: 0s - loss: 0.2008 - mean_absolute_error: 0.200 - 0s 113us/sample - loss: 0.1938 - mean_absolute_error: 0.1938 - val_loss: 0.1740 - val_mean_absolute_error: 0.1740\n",
      "Epoch 3/50\n",
      "2187/2187 [==============================] - ETA: 0s - loss: 0.3127 - mean_absolute_error: 0.312 - ETA: 0s - loss: 0.1803 - mean_absolute_error: 0.180 - ETA: 0s - loss: 0.1874 - mean_absolute_error: 0.187 - ETA: 0s - loss: 0.1908 - mean_absolute_error: 0.190 - 0s 111us/sample - loss: 0.1936 - mean_absolute_error: 0.1936 - val_loss: 0.1745 - val_mean_absolute_error: 0.1745\n",
      "Epoch 4/50\n",
      "2187/2187 [==============================] - ETA: 0s - loss: 0.1570 - mean_absolute_error: 0.157 - ETA: 0s - loss: 0.1989 - mean_absolute_error: 0.198 - ETA: 0s - loss: 0.1983 - mean_absolute_error: 0.198 - ETA: 0s - loss: 0.1935 - mean_absolute_error: 0.193 - 0s 111us/sample - loss: 0.1935 - mean_absolute_error: 0.1935 - val_loss: 0.1763 - val_mean_absolute_error: 0.1763\n",
      "Epoch 5/50\n",
      "2187/2187 [==============================] - ETA: 0s - loss: 0.2209 - mean_absolute_error: 0.220 - ETA: 0s - loss: 0.2261 - mean_absolute_error: 0.226 - ETA: 0s - loss: 0.2026 - mean_absolute_error: 0.202 - ETA: 0s - loss: 0.1957 - mean_absolute_error: 0.195 - 1s 395us/sample - loss: 0.1940 - mean_absolute_error: 0.1940 - val_loss: 0.1738 - val_mean_absolute_error: 0.1738\n",
      "Epoch 6/50\n",
      "2187/2187 [==============================] - ETA: 0s - loss: 0.1563 - mean_absolute_error: 0.156 - ETA: 0s - loss: 0.2045 - mean_absolute_error: 0.204 - ETA: 0s - loss: 0.2001 - mean_absolute_error: 0.200 - ETA: 0s - loss: 0.1984 - mean_absolute_error: 0.198 - 0s 117us/sample - loss: 0.1936 - mean_absolute_error: 0.1936 - val_loss: 0.1750 - val_mean_absolute_error: 0.1750\n",
      "Epoch 7/50\n",
      "2187/2187 [==============================] - ETA: 0s - loss: 0.2198 - mean_absolute_error: 0.219 - ETA: 0s - loss: 0.1882 - mean_absolute_error: 0.188 - ETA: 0s - loss: 0.1907 - mean_absolute_error: 0.190 - ETA: 0s - loss: 0.1928 - mean_absolute_error: 0.192 - 0s 111us/sample - loss: 0.1937 - mean_absolute_error: 0.1937 - val_loss: 0.1739 - val_mean_absolute_error: 0.1739\n",
      "Epoch 8/50\n",
      "2187/2187 [==============================] - ETA: 0s - loss: 0.1876 - mean_absolute_error: 0.187 - ETA: 0s - loss: 0.1879 - mean_absolute_error: 0.187 - ETA: 0s - loss: 0.1929 - mean_absolute_error: 0.192 - ETA: 0s - loss: 0.1920 - mean_absolute_error: 0.192 - 0s 113us/sample - loss: 0.1935 - mean_absolute_error: 0.1935 - val_loss: 0.1741 - val_mean_absolute_error: 0.1741\n",
      "Epoch 9/50\n",
      "2187/2187 [==============================] - ETA: 0s - loss: 0.1566 - mean_absolute_error: 0.156 - ETA: 0s - loss: 0.1831 - mean_absolute_error: 0.183 - ETA: 0s - loss: 0.1894 - mean_absolute_error: 0.189 - ETA: 0s - loss: 0.1937 - mean_absolute_error: 0.193 - 0s 110us/sample - loss: 0.1932 - mean_absolute_error: 0.1932 - val_loss: 0.1748 - val_mean_absolute_error: 0.1748\n",
      "Epoch 10/50\n",
      "2187/2187 [==============================] - ETA: 0s - loss: 0.1573 - mean_absolute_error: 0.157 - ETA: 0s - loss: 0.1849 - mean_absolute_error: 0.184 - ETA: 0s - loss: 0.1840 - mean_absolute_error: 0.184 - ETA: 0s - loss: 0.1902 - mean_absolute_error: 0.190 - 0s 111us/sample - loss: 0.1935 - mean_absolute_error: 0.1935 - val_loss: 0.1746 - val_mean_absolute_error: 0.1746\n",
      "Train on 2187 samples, validate on 938 samples\n",
      "Epoch 1/50\n",
      "2187/2187 [==============================] - ETA: 1:16 - loss: 0.3125 - mean_absolute_error: 0.312 - ETA: 2s - loss: 0.2163 - mean_absolute_error: 0.2163  - ETA: 1s - loss: 0.2102 - mean_absolute_error: 0.210 - ETA: 0s - loss: 0.1960 - mean_absolute_error: 0.196 - 2s 773us/sample - loss: 0.1940 - mean_absolute_error: 0.1940 - val_loss: 0.1738 - val_mean_absolute_error: 0.1738\n",
      "Epoch 2/50\n"
     ]
    },
    {
     "name": "stdout",
     "output_type": "stream",
     "text": [
      "2187/2187 [==============================] - ETA: 0s - loss: 0.0938 - mean_absolute_error: 0.093 - ETA: 0s - loss: 0.1894 - mean_absolute_error: 0.189 - ETA: 0s - loss: 0.2020 - mean_absolute_error: 0.202 - ETA: 0s - loss: 0.1988 - mean_absolute_error: 0.198 - 0s 117us/sample - loss: 0.1933 - mean_absolute_error: 0.1933 - val_loss: 0.1743 - val_mean_absolute_error: 0.1743\n",
      "Epoch 3/50\n",
      "2187/2187 [==============================] - ETA: 0s - loss: 0.1568 - mean_absolute_error: 0.156 - ETA: 0s - loss: 0.1784 - mean_absolute_error: 0.178 - ETA: 0s - loss: 0.1845 - mean_absolute_error: 0.184 - ETA: 0s - loss: 0.1926 - mean_absolute_error: 0.192 - 0s 111us/sample - loss: 0.1932 - mean_absolute_error: 0.1932 - val_loss: 0.1744 - val_mean_absolute_error: 0.1744\n",
      "Epoch 4/50\n",
      "2187/2187 [==============================] - ETA: 0s - loss: 0.2193 - mean_absolute_error: 0.219 - ETA: 0s - loss: 0.2049 - mean_absolute_error: 0.204 - ETA: 0s - loss: 0.1997 - mean_absolute_error: 0.199 - ETA: 0s - loss: 0.1932 - mean_absolute_error: 0.193 - 0s 113us/sample - loss: 0.1932 - mean_absolute_error: 0.1932 - val_loss: 0.1738 - val_mean_absolute_error: 0.1738\n",
      "Epoch 5/50\n",
      "2187/2187 [==============================] - ETA: 0s - loss: 0.0938 - mean_absolute_error: 0.093 - ETA: 0s - loss: 0.1963 - mean_absolute_error: 0.196 - ETA: 0s - loss: 0.1876 - mean_absolute_error: 0.187 - ETA: 0s - loss: 0.1876 - mean_absolute_error: 0.187 - ETA: 0s - loss: 0.1939 - mean_absolute_error: 0.193 - 0s 142us/sample - loss: 0.1931 - mean_absolute_error: 0.1931 - val_loss: 0.1744 - val_mean_absolute_error: 0.1744\n",
      "Epoch 6/50\n",
      "2187/2187 [==============================] - ETA: 0s - loss: 0.1256 - mean_absolute_error: 0.125 - ETA: 0s - loss: 0.1530 - mean_absolute_error: 0.153 - ETA: 0s - loss: 0.1877 - mean_absolute_error: 0.187 - ETA: 0s - loss: 0.1931 - mean_absolute_error: 0.193 - 0s 110us/sample - loss: 0.1931 - mean_absolute_error: 0.1931 - val_loss: 0.1741 - val_mean_absolute_error: 0.1741\n"
     ]
    },
    {
     "data": {
      "text/html": [
       "<span style=\"color:#4527A0\"><h1 style=\"font-size:18px\">Trial complete</h1></span>"
      ],
      "text/plain": [
       "<IPython.core.display.HTML object>"
      ]
     },
     "metadata": {},
     "output_type": "display_data"
    },
    {
     "data": {
      "text/html": [
       "<span style=\"color:#4527A0\"><h1 style=\"font-size:18px\">Trial summary</h1></span>"
      ],
      "text/plain": [
       "<IPython.core.display.HTML object>"
      ]
     },
     "metadata": {},
     "output_type": "display_data"
    },
    {
     "data": {
      "text/html": [
       "<span style=\"color:cyan\"> |-Trial ID: 4a3b0d90c5f85160579215501b7575c9</span>"
      ],
      "text/plain": [
       "<IPython.core.display.HTML object>"
      ]
     },
     "metadata": {},
     "output_type": "display_data"
    },
    {
     "data": {
      "text/html": [
       "<span style=\"color:cyan\"> |-Score: 0.1738290935754776</span>"
      ],
      "text/plain": [
       "<IPython.core.display.HTML object>"
      ]
     },
     "metadata": {},
     "output_type": "display_data"
    },
    {
     "data": {
      "text/html": [
       "<span style=\"color:cyan\"> |-Best step: 0</span>"
      ],
      "text/plain": [
       "<IPython.core.display.HTML object>"
      ]
     },
     "metadata": {},
     "output_type": "display_data"
    },
    {
     "data": {
      "text/html": [
       "<span style=\"color:#7E57C2\"><h2 style=\"font-size:16px\">Hyperparameters:</h2></span>"
      ],
      "text/plain": [
       "<IPython.core.display.HTML object>"
      ]
     },
     "metadata": {},
     "output_type": "display_data"
    },
    {
     "data": {
      "text/html": [
       "<span style=\"color:cyan\"> |-learning_rate: 0.001</span>"
      ],
      "text/plain": [
       "<IPython.core.display.HTML object>"
      ]
     },
     "metadata": {},
     "output_type": "display_data"
    },
    {
     "data": {
      "text/html": [
       "<span style=\"color:blue\"> |-num_layers: 11</span>"
      ],
      "text/plain": [
       "<IPython.core.display.HTML object>"
      ]
     },
     "metadata": {},
     "output_type": "display_data"
    },
    {
     "data": {
      "text/html": [
       "<span style=\"color:cyan\"> |-units_0: 320</span>"
      ],
      "text/plain": [
       "<IPython.core.display.HTML object>"
      ]
     },
     "metadata": {},
     "output_type": "display_data"
    },
    {
     "data": {
      "text/html": [
       "<span style=\"color:blue\"> |-units_1: 448</span>"
      ],
      "text/plain": [
       "<IPython.core.display.HTML object>"
      ]
     },
     "metadata": {},
     "output_type": "display_data"
    },
    {
     "data": {
      "text/html": [
       "<span style=\"color:cyan\"> |-units_10: 128</span>"
      ],
      "text/plain": [
       "<IPython.core.display.HTML object>"
      ]
     },
     "metadata": {},
     "output_type": "display_data"
    },
    {
     "data": {
      "text/html": [
       "<span style=\"color:blue\"> |-units_11: 384</span>"
      ],
      "text/plain": [
       "<IPython.core.display.HTML object>"
      ]
     },
     "metadata": {},
     "output_type": "display_data"
    },
    {
     "data": {
      "text/html": [
       "<span style=\"color:cyan\"> |-units_12: 160</span>"
      ],
      "text/plain": [
       "<IPython.core.display.HTML object>"
      ]
     },
     "metadata": {},
     "output_type": "display_data"
    },
    {
     "data": {
      "text/html": [
       "<span style=\"color:blue\"> |-units_13: 352</span>"
      ],
      "text/plain": [
       "<IPython.core.display.HTML object>"
      ]
     },
     "metadata": {},
     "output_type": "display_data"
    },
    {
     "data": {
      "text/html": [
       "<span style=\"color:cyan\"> |-units_14: 448</span>"
      ],
      "text/plain": [
       "<IPython.core.display.HTML object>"
      ]
     },
     "metadata": {},
     "output_type": "display_data"
    },
    {
     "data": {
      "text/html": [
       "<span style=\"color:blue\"> |-units_2: 416</span>"
      ],
      "text/plain": [
       "<IPython.core.display.HTML object>"
      ]
     },
     "metadata": {},
     "output_type": "display_data"
    },
    {
     "data": {
      "text/html": [
       "<span style=\"color:cyan\"> |-units_3: 32</span>"
      ],
      "text/plain": [
       "<IPython.core.display.HTML object>"
      ]
     },
     "metadata": {},
     "output_type": "display_data"
    },
    {
     "data": {
      "text/html": [
       "<span style=\"color:blue\"> |-units_4: 480</span>"
      ],
      "text/plain": [
       "<IPython.core.display.HTML object>"
      ]
     },
     "metadata": {},
     "output_type": "display_data"
    },
    {
     "data": {
      "text/html": [
       "<span style=\"color:cyan\"> |-units_5: 352</span>"
      ],
      "text/plain": [
       "<IPython.core.display.HTML object>"
      ]
     },
     "metadata": {},
     "output_type": "display_data"
    },
    {
     "data": {
      "text/html": [
       "<span style=\"color:blue\"> |-units_6: 64</span>"
      ],
      "text/plain": [
       "<IPython.core.display.HTML object>"
      ]
     },
     "metadata": {},
     "output_type": "display_data"
    },
    {
     "data": {
      "text/html": [
       "<span style=\"color:cyan\"> |-units_7: 416</span>"
      ],
      "text/plain": [
       "<IPython.core.display.HTML object>"
      ]
     },
     "metadata": {},
     "output_type": "display_data"
    },
    {
     "data": {
      "text/html": [
       "<span style=\"color:blue\"> |-units_8: 320</span>"
      ],
      "text/plain": [
       "<IPython.core.display.HTML object>"
      ]
     },
     "metadata": {},
     "output_type": "display_data"
    },
    {
     "data": {
      "text/html": [
       "<span style=\"color:cyan\"> |-units_9: 160</span>"
      ],
      "text/plain": [
       "<IPython.core.display.HTML object>"
      ]
     },
     "metadata": {},
     "output_type": "display_data"
    },
    {
     "name": "stdout",
     "output_type": "stream",
     "text": [
      "Train on 2187 samples, validate on 938 samples\n",
      "Epoch 1/50\n",
      "2187/2187 [==============================] - ETA: 2:02 - loss: 0.2188 - mean_absolute_error: 0.218 - ETA: 7s - loss: 0.2128 - mean_absolute_error: 0.2128  - ETA: 3s - loss: 0.2033 - mean_absolute_error: 0.203 - ETA: 1s - loss: 0.1999 - mean_absolute_error: 0.199 - ETA: 0s - loss: 0.2045 - mean_absolute_error: 0.204 - ETA: 0s - loss: 0.1970 - mean_absolute_error: 0.197 - 3s 1ms/sample - loss: 0.1936 - mean_absolute_error: 0.1936 - val_loss: 0.1739 - val_mean_absolute_error: 0.1739\n",
      "Epoch 2/50\n",
      "2187/2187 [==============================] - ETA: 0s - loss: 0.2501 - mean_absolute_error: 0.250 - ETA: 0s - loss: 0.1799 - mean_absolute_error: 0.179 - ETA: 0s - loss: 0.1892 - mean_absolute_error: 0.189 - ETA: 0s - loss: 0.1920 - mean_absolute_error: 0.192 - ETA: 0s - loss: 0.1859 - mean_absolute_error: 0.185 - ETA: 0s - loss: 0.1915 - mean_absolute_error: 0.191 - 0s 173us/sample - loss: 0.1933 - mean_absolute_error: 0.1933 - val_loss: 0.1740 - val_mean_absolute_error: 0.1740\n",
      "Epoch 3/50\n",
      "2187/2187 [==============================] - ETA: 0s - loss: 0.1564 - mean_absolute_error: 0.156 - ETA: 0s - loss: 0.2304 - mean_absolute_error: 0.230 - ETA: 0s - loss: 0.1946 - mean_absolute_error: 0.194 - ETA: 0s - loss: 0.2043 - mean_absolute_error: 0.204 - ETA: 0s - loss: 0.2000 - mean_absolute_error: 0.200 - ETA: 0s - loss: 0.1936 - mean_absolute_error: 0.193 - 0s 166us/sample - loss: 0.1935 - mean_absolute_error: 0.1935 - val_loss: 0.1747 - val_mean_absolute_error: 0.1747\n",
      "Epoch 4/50\n",
      "2187/2187 [==============================] - ETA: 0s - loss: 0.0947 - mean_absolute_error: 0.094 - ETA: 0s - loss: 0.1948 - mean_absolute_error: 0.194 - ETA: 0s - loss: 0.1893 - mean_absolute_error: 0.189 - ETA: 0s - loss: 0.1946 - mean_absolute_error: 0.194 - ETA: 0s - loss: 0.1974 - mean_absolute_error: 0.197 - ETA: 0s - loss: 0.1930 - mean_absolute_error: 0.193 - 1s 280us/sample - loss: 0.1936 - mean_absolute_error: 0.1936 - val_loss: 0.1738 - val_mean_absolute_error: 0.1738\n",
      "Epoch 5/50\n",
      "2187/2187 [==============================] - ETA: 0s - loss: 0.1563 - mean_absolute_error: 0.156 - ETA: 0s - loss: 0.2215 - mean_absolute_error: 0.221 - ETA: 0s - loss: 0.2249 - mean_absolute_error: 0.224 - ETA: 0s - loss: 0.2064 - mean_absolute_error: 0.206 - ETA: 0s - loss: 0.1997 - mean_absolute_error: 0.199 - ETA: 0s - loss: 0.1960 - mean_absolute_error: 0.196 - ETA: 0s - loss: 0.1932 - mean_absolute_error: 0.193 - 0s 197us/sample - loss: 0.1933 - mean_absolute_error: 0.1933 - val_loss: 0.1742 - val_mean_absolute_error: 0.1742\n",
      "Epoch 6/50\n",
      "2187/2187 [==============================] - ETA: 0s - loss: 0.1254 - mean_absolute_error: 0.125 - ETA: 0s - loss: 0.2220 - mean_absolute_error: 0.222 - ETA: 0s - loss: 0.1978 - mean_absolute_error: 0.197 - ETA: 0s - loss: 0.2002 - mean_absolute_error: 0.200 - ETA: 0s - loss: 0.2006 - mean_absolute_error: 0.200 - ETA: 0s - loss: 0.1934 - mean_absolute_error: 0.193 - ETA: 0s - loss: 0.1925 - mean_absolute_error: 0.192 - 0s 194us/sample - loss: 0.1937 - mean_absolute_error: 0.1937 - val_loss: 0.1738 - val_mean_absolute_error: 0.1738\n",
      "Epoch 7/50\n",
      "2187/2187 [==============================] - ETA: 0s - loss: 0.1563 - mean_absolute_error: 0.156 - ETA: 0s - loss: 0.1567 - mean_absolute_error: 0.156 - ETA: 0s - loss: 0.1780 - mean_absolute_error: 0.178 - ETA: 0s - loss: 0.1835 - mean_absolute_error: 0.183 - ETA: 0s - loss: 0.1879 - mean_absolute_error: 0.187 - ETA: 0s - loss: 0.1928 - mean_absolute_error: 0.192 - ETA: 0s - loss: 0.1924 - mean_absolute_error: 0.192 - 0s 197us/sample - loss: 0.1933 - mean_absolute_error: 0.1933 - val_loss: 0.1741 - val_mean_absolute_error: 0.1741\n",
      "Epoch 8/50\n",
      "2187/2187 [==============================] - ETA: 0s - loss: 0.1878 - mean_absolute_error: 0.187 - ETA: 0s - loss: 0.2046 - mean_absolute_error: 0.204 - ETA: 0s - loss: 0.2046 - mean_absolute_error: 0.204 - ETA: 0s - loss: 0.1977 - mean_absolute_error: 0.197 - ETA: 0s - loss: 0.1972 - mean_absolute_error: 0.197 - ETA: 0s - loss: 0.2004 - mean_absolute_error: 0.200 - 0s 160us/sample - loss: 0.1933 - mean_absolute_error: 0.1933 - val_loss: 0.1741 - val_mean_absolute_error: 0.1741\n",
      "Epoch 9/50\n",
      "2187/2187 [==============================] - ETA: 0s - loss: 0.1879 - mean_absolute_error: 0.187 - ETA: 0s - loss: 0.1735 - mean_absolute_error: 0.173 - ETA: 0s - loss: 0.1831 - mean_absolute_error: 0.183 - ETA: 0s - loss: 0.1815 - mean_absolute_error: 0.181 - ETA: 0s - loss: 0.1862 - mean_absolute_error: 0.186 - ETA: 0s - loss: 0.1900 - mean_absolute_error: 0.190 - 0s 151us/sample - loss: 0.1935 - mean_absolute_error: 0.1935 - val_loss: 0.1745 - val_mean_absolute_error: 0.1745\n",
      "Train on 2187 samples, validate on 938 samples\n",
      "Epoch 1/50\n",
      "2187/2187 [==============================] - ETA: 1:42 - loss: 0.1562 - mean_absolute_error: 0.156 - ETA: 13s - loss: 0.1618 - mean_absolute_error: 0.161 - ETA: 4s - loss: 0.1848 - mean_absolute_error: 0.1848 - ETA: 1s - loss: 0.1879 - mean_absolute_error: 0.187 - ETA: 0s - loss: 0.1942 - mean_absolute_error: 0.194 - ETA: 0s - loss: 0.1958 - mean_absolute_error: 0.195 - 2s 982us/sample - loss: 0.1933 - mean_absolute_error: 0.1933 - val_loss: 0.1743 - val_mean_absolute_error: 0.1743\n",
      "Epoch 2/50\n",
      "2187/2187 [==============================] - ETA: 0s - loss: 0.1568 - mean_absolute_error: 0.156 - ETA: 0s - loss: 0.2035 - mean_absolute_error: 0.203 - ETA: 0s - loss: 0.1964 - mean_absolute_error: 0.196 - ETA: 0s - loss: 0.2017 - mean_absolute_error: 0.201 - ETA: 0s - loss: 0.1881 - mean_absolute_error: 0.188 - ETA: 0s - loss: 0.1914 - mean_absolute_error: 0.191 - 0s 156us/sample - loss: 0.1935 - mean_absolute_error: 0.1935 - val_loss: 0.1738 - val_mean_absolute_error: 0.1738\n",
      "Epoch 3/50\n",
      "2187/2187 [==============================] - ETA: 0s - loss: 0.2501 - mean_absolute_error: 0.250 - ETA: 0s - loss: 0.2013 - mean_absolute_error: 0.201 - ETA: 0s - loss: 0.1914 - mean_absolute_error: 0.191 - ETA: 0s - loss: 0.1920 - mean_absolute_error: 0.192 - ETA: 0s - loss: 0.1912 - mean_absolute_error: 0.191 - ETA: 0s - loss: 0.1960 - mean_absolute_error: 0.196 - 0s 169us/sample - loss: 0.1936 - mean_absolute_error: 0.1936 - val_loss: 0.1741 - val_mean_absolute_error: 0.1741\n",
      "Epoch 4/50\n",
      "2187/2187 [==============================] - ETA: 0s - loss: 0.2191 - mean_absolute_error: 0.219 - ETA: 0s - loss: 0.1737 - mean_absolute_error: 0.173 - ETA: 0s - loss: 0.1938 - mean_absolute_error: 0.193 - ETA: 0s - loss: 0.1935 - mean_absolute_error: 0.193 - ETA: 0s - loss: 0.1954 - mean_absolute_error: 0.195 - ETA: 0s - loss: 0.1901 - mean_absolute_error: 0.190 - 0s 165us/sample - loss: 0.1934 - mean_absolute_error: 0.1934 - val_loss: 0.1741 - val_mean_absolute_error: 0.1741\n",
      "Epoch 5/50\n",
      "2187/2187 [==============================] - ETA: 0s - loss: 0.2190 - mean_absolute_error: 0.219 - ETA: 0s - loss: 0.2138 - mean_absolute_error: 0.213 - ETA: 0s - loss: 0.1955 - mean_absolute_error: 0.195 - ETA: 0s - loss: 0.1945 - mean_absolute_error: 0.194 - ETA: 0s - loss: 0.1965 - mean_absolute_error: 0.196 - ETA: 0s - loss: 0.1959 - mean_absolute_error: 0.195 - 0s 163us/sample - loss: 0.1933 - mean_absolute_error: 0.1933 - val_loss: 0.1743 - val_mean_absolute_error: 0.1743\n",
      "Epoch 6/50\n",
      "2187/2187 [==============================] - ETA: 0s - loss: 0.1880 - mean_absolute_error: 0.188 - ETA: 0s - loss: 0.1925 - mean_absolute_error: 0.192 - ETA: 0s - loss: 0.2015 - mean_absolute_error: 0.201 - ETA: 0s - loss: 0.1877 - mean_absolute_error: 0.187 - ETA: 0s - loss: 0.2009 - mean_absolute_error: 0.200 - ETA: 0s - loss: 0.1942 - mean_absolute_error: 0.194 - 0s 156us/sample - loss: 0.1933 - mean_absolute_error: 0.1933 - val_loss: 0.1746 - val_mean_absolute_error: 0.1746\n",
      "Epoch 7/50\n",
      "2187/2187 [==============================] - ETA: 0s - loss: 0.1571 - mean_absolute_error: 0.157 - ETA: 0s - loss: 0.1833 - mean_absolute_error: 0.183 - ETA: 0s - loss: 0.1894 - mean_absolute_error: 0.189 - ETA: 0s - loss: 0.1906 - mean_absolute_error: 0.190 - ETA: 0s - loss: 0.1961 - mean_absolute_error: 0.196 - ETA: 0s - loss: 0.1906 - mean_absolute_error: 0.190 - 0s 166us/sample - loss: 0.1933 - mean_absolute_error: 0.1933 - val_loss: 0.1739 - val_mean_absolute_error: 0.1739\n"
     ]
    },
    {
     "name": "stdout",
     "output_type": "stream",
     "text": [
      "Train on 2187 samples, validate on 938 samples\n",
      "Epoch 1/50\n",
      "2187/2187 [==============================] - ETA: 2:03 - loss: 0.1562 - mean_absolute_error: 0.156 - ETA: 8s - loss: 0.1806 - mean_absolute_error: 0.1806  - ETA: 4s - loss: 0.1779 - mean_absolute_error: 0.177 - ETA: 2s - loss: 0.2023 - mean_absolute_error: 0.202 - ETA: 1s - loss: 0.1992 - mean_absolute_error: 0.199 - ETA: 0s - loss: 0.1980 - mean_absolute_error: 0.198 - ETA: 0s - loss: 0.1987 - mean_absolute_error: 0.198 - ETA: 0s - loss: 0.1930 - mean_absolute_error: 0.193 - 3s 1ms/sample - loss: 0.1934 - mean_absolute_error: 0.1934 - val_loss: 0.1740 - val_mean_absolute_error: 0.1740\n",
      "Epoch 2/50\n",
      "2187/2187 [==============================] - ETA: 0s - loss: 0.1877 - mean_absolute_error: 0.187 - ETA: 0s - loss: 0.1878 - mean_absolute_error: 0.187 - ETA: 0s - loss: 0.1815 - mean_absolute_error: 0.181 - ETA: 0s - loss: 0.1865 - mean_absolute_error: 0.186 - ETA: 0s - loss: 0.1851 - mean_absolute_error: 0.185 - ETA: 0s - loss: 0.1942 - mean_absolute_error: 0.194 - ETA: 0s - loss: 0.1932 - mean_absolute_error: 0.193 - ETA: 0s - loss: 0.1945 - mean_absolute_error: 0.194 - 1s 232us/sample - loss: 0.1933 - mean_absolute_error: 0.1933 - val_loss: 0.1739 - val_mean_absolute_error: 0.1739\n",
      "Epoch 3/50\n",
      "2187/2187 [==============================] - ETA: 0s - loss: 0.0939 - mean_absolute_error: 0.093 - ETA: 0s - loss: 0.1681 - mean_absolute_error: 0.168 - ETA: 0s - loss: 0.1877 - mean_absolute_error: 0.187 - ETA: 0s - loss: 0.1840 - mean_absolute_error: 0.184 - ETA: 0s - loss: 0.1887 - mean_absolute_error: 0.188 - ETA: 0s - loss: 0.1923 - mean_absolute_error: 0.192 - ETA: 0s - loss: 0.1885 - mean_absolute_error: 0.188 - ETA: 0s - loss: 0.1889 - mean_absolute_error: 0.188 - 1s 229us/sample - loss: 0.1933 - mean_absolute_error: 0.1933 - val_loss: 0.1747 - val_mean_absolute_error: 0.1747\n",
      "Epoch 4/50\n",
      "2187/2187 [==============================] - ETA: 0s - loss: 0.1259 - mean_absolute_error: 0.125 - ETA: 0s - loss: 0.1809 - mean_absolute_error: 0.180 - ETA: 0s - loss: 0.1704 - mean_absolute_error: 0.170 - ETA: 0s - loss: 0.1867 - mean_absolute_error: 0.186 - ETA: 0s - loss: 0.1927 - mean_absolute_error: 0.192 - ETA: 0s - loss: 0.1950 - mean_absolute_error: 0.195 - ETA: 0s - loss: 0.1909 - mean_absolute_error: 0.190 - ETA: 0s - loss: 0.1930 - mean_absolute_error: 0.193 - 1s 243us/sample - loss: 0.1936 - mean_absolute_error: 0.1936 - val_loss: 0.1743 - val_mean_absolute_error: 0.1743\n",
      "Epoch 5/50\n",
      "2187/2187 [==============================] - ETA: 0s - loss: 0.1568 - mean_absolute_error: 0.156 - ETA: 0s - loss: 0.2033 - mean_absolute_error: 0.203 - ETA: 0s - loss: 0.1877 - mean_absolute_error: 0.187 - ETA: 0s - loss: 0.1909 - mean_absolute_error: 0.190 - ETA: 0s - loss: 0.1927 - mean_absolute_error: 0.192 - ETA: 0s - loss: 0.1939 - mean_absolute_error: 0.193 - ETA: 0s - loss: 0.1926 - mean_absolute_error: 0.192 - ETA: 0s - loss: 0.1943 - mean_absolute_error: 0.194 - 0s 216us/sample - loss: 0.1934 - mean_absolute_error: 0.1934 - val_loss: 0.1751 - val_mean_absolute_error: 0.1751\n",
      "Epoch 6/50\n",
      "2187/2187 [==============================] - ETA: 0s - loss: 0.1577 - mean_absolute_error: 0.157 - ETA: 0s - loss: 0.1855 - mean_absolute_error: 0.185 - ETA: 0s - loss: 0.1808 - mean_absolute_error: 0.180 - ETA: 0s - loss: 0.1825 - mean_absolute_error: 0.182 - ETA: 0s - loss: 0.1870 - mean_absolute_error: 0.187 - ETA: 0s - loss: 0.1878 - mean_absolute_error: 0.187 - ETA: 0s - loss: 0.1900 - mean_absolute_error: 0.190 - ETA: 0s - loss: 0.1938 - mean_absolute_error: 0.193 - 0s 217us/sample - loss: 0.1933 - mean_absolute_error: 0.1933 - val_loss: 0.1739 - val_mean_absolute_error: 0.1739\n",
      "Epoch 7/50\n",
      "2187/2187 [==============================] - ETA: 0s - loss: 0.2814 - mean_absolute_error: 0.281 - ETA: 0s - loss: 0.1879 - mean_absolute_error: 0.187 - ETA: 0s - loss: 0.2138 - mean_absolute_error: 0.213 - ETA: 0s - loss: 0.2068 - mean_absolute_error: 0.206 - ETA: 0s - loss: 0.2060 - mean_absolute_error: 0.206 - ETA: 0s - loss: 0.2001 - mean_absolute_error: 0.200 - ETA: 0s - loss: 0.2003 - mean_absolute_error: 0.200 - ETA: 0s - loss: 0.1957 - mean_absolute_error: 0.195 - 0s 228us/sample - loss: 0.1934 - mean_absolute_error: 0.1934 - val_loss: 0.1742 - val_mean_absolute_error: 0.1742\n"
     ]
    },
    {
     "data": {
      "text/html": [
       "<span style=\"color:#4527A0\"><h1 style=\"font-size:18px\">Trial complete</h1></span>"
      ],
      "text/plain": [
       "<IPython.core.display.HTML object>"
      ]
     },
     "metadata": {},
     "output_type": "display_data"
    },
    {
     "data": {
      "text/html": [
       "<span style=\"color:#4527A0\"><h1 style=\"font-size:18px\">Trial summary</h1></span>"
      ],
      "text/plain": [
       "<IPython.core.display.HTML object>"
      ]
     },
     "metadata": {},
     "output_type": "display_data"
    },
    {
     "data": {
      "text/html": [
       "<span style=\"color:cyan\"> |-Trial ID: 21e014f5c93ae93bf9d9998ca8d7a8e0</span>"
      ],
      "text/plain": [
       "<IPython.core.display.HTML object>"
      ]
     },
     "metadata": {},
     "output_type": "display_data"
    },
    {
     "data": {
      "text/html": [
       "<span style=\"color:cyan\"> |-Score: 0.17383138835430145</span>"
      ],
      "text/plain": [
       "<IPython.core.display.HTML object>"
      ]
     },
     "metadata": {},
     "output_type": "display_data"
    },
    {
     "data": {
      "text/html": [
       "<span style=\"color:cyan\"> |-Best step: 0</span>"
      ],
      "text/plain": [
       "<IPython.core.display.HTML object>"
      ]
     },
     "metadata": {},
     "output_type": "display_data"
    },
    {
     "data": {
      "text/html": [
       "<span style=\"color:#7E57C2\"><h2 style=\"font-size:16px\">Hyperparameters:</h2></span>"
      ],
      "text/plain": [
       "<IPython.core.display.HTML object>"
      ]
     },
     "metadata": {},
     "output_type": "display_data"
    },
    {
     "data": {
      "text/html": [
       "<span style=\"color:cyan\"> |-learning_rate: 0.001</span>"
      ],
      "text/plain": [
       "<IPython.core.display.HTML object>"
      ]
     },
     "metadata": {},
     "output_type": "display_data"
    },
    {
     "data": {
      "text/html": [
       "<span style=\"color:blue\"> |-num_layers: 20</span>"
      ],
      "text/plain": [
       "<IPython.core.display.HTML object>"
      ]
     },
     "metadata": {},
     "output_type": "display_data"
    },
    {
     "data": {
      "text/html": [
       "<span style=\"color:cyan\"> |-units_0: 352</span>"
      ],
      "text/plain": [
       "<IPython.core.display.HTML object>"
      ]
     },
     "metadata": {},
     "output_type": "display_data"
    },
    {
     "data": {
      "text/html": [
       "<span style=\"color:blue\"> |-units_1: 64</span>"
      ],
      "text/plain": [
       "<IPython.core.display.HTML object>"
      ]
     },
     "metadata": {},
     "output_type": "display_data"
    },
    {
     "data": {
      "text/html": [
       "<span style=\"color:cyan\"> |-units_10: 160</span>"
      ],
      "text/plain": [
       "<IPython.core.display.HTML object>"
      ]
     },
     "metadata": {},
     "output_type": "display_data"
    },
    {
     "data": {
      "text/html": [
       "<span style=\"color:blue\"> |-units_11: 224</span>"
      ],
      "text/plain": [
       "<IPython.core.display.HTML object>"
      ]
     },
     "metadata": {},
     "output_type": "display_data"
    },
    {
     "data": {
      "text/html": [
       "<span style=\"color:cyan\"> |-units_12: 288</span>"
      ],
      "text/plain": [
       "<IPython.core.display.HTML object>"
      ]
     },
     "metadata": {},
     "output_type": "display_data"
    },
    {
     "data": {
      "text/html": [
       "<span style=\"color:blue\"> |-units_13: 192</span>"
      ],
      "text/plain": [
       "<IPython.core.display.HTML object>"
      ]
     },
     "metadata": {},
     "output_type": "display_data"
    },
    {
     "data": {
      "text/html": [
       "<span style=\"color:cyan\"> |-units_14: 160</span>"
      ],
      "text/plain": [
       "<IPython.core.display.HTML object>"
      ]
     },
     "metadata": {},
     "output_type": "display_data"
    },
    {
     "data": {
      "text/html": [
       "<span style=\"color:blue\"> |-units_15: 32</span>"
      ],
      "text/plain": [
       "<IPython.core.display.HTML object>"
      ]
     },
     "metadata": {},
     "output_type": "display_data"
    },
    {
     "data": {
      "text/html": [
       "<span style=\"color:cyan\"> |-units_16: 32</span>"
      ],
      "text/plain": [
       "<IPython.core.display.HTML object>"
      ]
     },
     "metadata": {},
     "output_type": "display_data"
    },
    {
     "data": {
      "text/html": [
       "<span style=\"color:blue\"> |-units_17: 32</span>"
      ],
      "text/plain": [
       "<IPython.core.display.HTML object>"
      ]
     },
     "metadata": {},
     "output_type": "display_data"
    },
    {
     "data": {
      "text/html": [
       "<span style=\"color:cyan\"> |-units_18: 32</span>"
      ],
      "text/plain": [
       "<IPython.core.display.HTML object>"
      ]
     },
     "metadata": {},
     "output_type": "display_data"
    },
    {
     "data": {
      "text/html": [
       "<span style=\"color:blue\"> |-units_19: 32</span>"
      ],
      "text/plain": [
       "<IPython.core.display.HTML object>"
      ]
     },
     "metadata": {},
     "output_type": "display_data"
    },
    {
     "data": {
      "text/html": [
       "<span style=\"color:cyan\"> |-units_2: 288</span>"
      ],
      "text/plain": [
       "<IPython.core.display.HTML object>"
      ]
     },
     "metadata": {},
     "output_type": "display_data"
    },
    {
     "data": {
      "text/html": [
       "<span style=\"color:blue\"> |-units_3: 128</span>"
      ],
      "text/plain": [
       "<IPython.core.display.HTML object>"
      ]
     },
     "metadata": {},
     "output_type": "display_data"
    },
    {
     "data": {
      "text/html": [
       "<span style=\"color:cyan\"> |-units_4: 96</span>"
      ],
      "text/plain": [
       "<IPython.core.display.HTML object>"
      ]
     },
     "metadata": {},
     "output_type": "display_data"
    },
    {
     "data": {
      "text/html": [
       "<span style=\"color:blue\"> |-units_5: 288</span>"
      ],
      "text/plain": [
       "<IPython.core.display.HTML object>"
      ]
     },
     "metadata": {},
     "output_type": "display_data"
    },
    {
     "data": {
      "text/html": [
       "<span style=\"color:cyan\"> |-units_6: 128</span>"
      ],
      "text/plain": [
       "<IPython.core.display.HTML object>"
      ]
     },
     "metadata": {},
     "output_type": "display_data"
    },
    {
     "data": {
      "text/html": [
       "<span style=\"color:blue\"> |-units_7: 64</span>"
      ],
      "text/plain": [
       "<IPython.core.display.HTML object>"
      ]
     },
     "metadata": {},
     "output_type": "display_data"
    },
    {
     "data": {
      "text/html": [
       "<span style=\"color:cyan\"> |-units_8: 448</span>"
      ],
      "text/plain": [
       "<IPython.core.display.HTML object>"
      ]
     },
     "metadata": {},
     "output_type": "display_data"
    },
    {
     "data": {
      "text/html": [
       "<span style=\"color:blue\"> |-units_9: 224</span>"
      ],
      "text/plain": [
       "<IPython.core.display.HTML object>"
      ]
     },
     "metadata": {},
     "output_type": "display_data"
    },
    {
     "name": "stdout",
     "output_type": "stream",
     "text": [
      "INFO:tensorflow:Oracle triggered exit\n"
     ]
    }
   ],
   "source": [
    "tuner.search(X_train,y_train, epochs=50, validation_data=(X_test, y_test),callbacks=[stop_early])"
   ]
  },
  {
   "cell_type": "code",
   "execution_count": 26,
   "id": "39c86df3",
   "metadata": {},
   "outputs": [],
   "source": [
    "# Get the optimal hyperparameters\n",
    "best_hps=tuner.get_best_hyperparameters(num_trials=1)[0]"
   ]
  },
  {
   "cell_type": "code",
   "execution_count": 29,
   "id": "8aa0f4fe",
   "metadata": {},
   "outputs": [
    {
     "data": {
      "text/plain": [
       "0.001"
      ]
     },
     "execution_count": 29,
     "metadata": {},
     "output_type": "execute_result"
    }
   ],
   "source": [
    "best_hps.get('learning_rate')"
   ]
  },
  {
   "cell_type": "markdown",
   "id": "4c68f3b7",
   "metadata": {},
   "source": [
    "### Train the model"
   ]
  },
  {
   "cell_type": "code",
   "execution_count": 31,
   "id": "dc9bb88e",
   "metadata": {},
   "outputs": [],
   "source": [
    "# Build the model with the optimal hyperparameters and train it on the data for 50 epochs\n",
    "model = tuner.hypermodel.build(best_hps)"
   ]
  },
  {
   "cell_type": "code",
   "execution_count": 32,
   "id": "233dd09e",
   "metadata": {},
   "outputs": [
    {
     "name": "stdout",
     "output_type": "stream",
     "text": [
      "Train on 2187 samples, validate on 938 samples\n",
      "Epoch 1/50\n",
      "2187/2187 [==============================] - ETA: 33s - loss: 0.1251 - mean_absolute_error: 0.12 - ETA: 1s - loss: 0.1996 - mean_absolute_error: 0.1996 - ETA: 0s - loss: 0.2007 - mean_absolute_error: 0.200 - ETA: 0s - loss: 0.1969 - mean_absolute_error: 0.196 - 1s 374us/sample - loss: 0.1948 - mean_absolute_error: 0.1948 - val_loss: 0.1749 - val_mean_absolute_error: 0.1749\n",
      "Epoch 2/50\n",
      "2187/2187 [==============================] - ETA: 0s - loss: 0.1261 - mean_absolute_error: 0.126 - ETA: 0s - loss: 0.1727 - mean_absolute_error: 0.172 - ETA: 0s - loss: 0.1731 - mean_absolute_error: 0.173 - ETA: 0s - loss: 0.1847 - mean_absolute_error: 0.184 - ETA: 0s - loss: 0.1788 - mean_absolute_error: 0.178 - 0s 130us/sample - loss: 0.1731 - mean_absolute_error: 0.1731 - val_loss: 0.1407 - val_mean_absolute_error: 0.1407\n",
      "Epoch 3/50\n",
      "2187/2187 [==============================] - ETA: 0s - loss: 0.1506 - mean_absolute_error: 0.150 - ETA: 0s - loss: 0.1391 - mean_absolute_error: 0.139 - ETA: 0s - loss: 0.1417 - mean_absolute_error: 0.141 - 0s 89us/sample - loss: 0.1372 - mean_absolute_error: 0.1372 - val_loss: 0.1183 - val_mean_absolute_error: 0.1183\n",
      "Epoch 4/50\n",
      "2187/2187 [==============================] - ETA: 0s - loss: 0.1531 - mean_absolute_error: 0.153 - ETA: 0s - loss: 0.1285 - mean_absolute_error: 0.128 - ETA: 0s - loss: 0.1280 - mean_absolute_error: 0.128 - 0s 90us/sample - loss: 0.1287 - mean_absolute_error: 0.1287 - val_loss: 0.1134 - val_mean_absolute_error: 0.1134\n",
      "Epoch 5/50\n",
      "2187/2187 [==============================] - ETA: 0s - loss: 0.2072 - mean_absolute_error: 0.207 - ETA: 0s - loss: 0.1204 - mean_absolute_error: 0.120 - ETA: 0s - loss: 0.1259 - mean_absolute_error: 0.125 - 0s 82us/sample - loss: 0.1282 - mean_absolute_error: 0.1282 - val_loss: 0.1109 - val_mean_absolute_error: 0.1109\n",
      "Epoch 6/50\n",
      "2187/2187 [==============================] - ETA: 0s - loss: 0.1171 - mean_absolute_error: 0.117 - ETA: 0s - loss: 0.1200 - mean_absolute_error: 0.120 - ETA: 0s - loss: 0.1235 - mean_absolute_error: 0.123 - 0s 79us/sample - loss: 0.1226 - mean_absolute_error: 0.1226 - val_loss: 0.1077 - val_mean_absolute_error: 0.1077\n",
      "Epoch 7/50\n",
      "2187/2187 [==============================] - ETA: 0s - loss: 0.1074 - mean_absolute_error: 0.107 - ETA: 0s - loss: 0.1141 - mean_absolute_error: 0.114 - ETA: 0s - loss: 0.1233 - mean_absolute_error: 0.123 - ETA: 0s - loss: 0.1203 - mean_absolute_error: 0.120 - 0s 97us/sample - loss: 0.1201 - mean_absolute_error: 0.1201 - val_loss: 0.1099 - val_mean_absolute_error: 0.1099\n",
      "Epoch 8/50\n",
      "2187/2187 [==============================] - ETA: 0s - loss: 0.1155 - mean_absolute_error: 0.115 - ETA: 0s - loss: 0.1198 - mean_absolute_error: 0.119 - ETA: 0s - loss: 0.1164 - mean_absolute_error: 0.116 - ETA: 0s - loss: 0.1211 - mean_absolute_error: 0.121 - 0s 99us/sample - loss: 0.1201 - mean_absolute_error: 0.1201 - val_loss: 0.1107 - val_mean_absolute_error: 0.1107\n",
      "Epoch 9/50\n",
      "2187/2187 [==============================] - ETA: 0s - loss: 0.1998 - mean_absolute_error: 0.199 - ETA: 0s - loss: 0.1145 - mean_absolute_error: 0.114 - ETA: 0s - loss: 0.1154 - mean_absolute_error: 0.115 - 0s 87us/sample - loss: 0.1165 - mean_absolute_error: 0.1165 - val_loss: 0.1022 - val_mean_absolute_error: 0.1022\n",
      "Epoch 10/50\n",
      "2187/2187 [==============================] - ETA: 0s - loss: 0.1348 - mean_absolute_error: 0.134 - ETA: 0s - loss: 0.1117 - mean_absolute_error: 0.111 - ETA: 0s - loss: 0.1189 - mean_absolute_error: 0.118 - ETA: 0s - loss: 0.1186 - mean_absolute_error: 0.118 - 0s 104us/sample - loss: 0.1201 - mean_absolute_error: 0.1201 - val_loss: 0.1094 - val_mean_absolute_error: 0.1094\n",
      "Epoch 11/50\n",
      "2187/2187 [==============================] - ETA: 0s - loss: 0.1232 - mean_absolute_error: 0.123 - ETA: 0s - loss: 0.1213 - mean_absolute_error: 0.121 - ETA: 0s - loss: 0.1162 - mean_absolute_error: 0.116 - ETA: 0s - loss: 0.1125 - mean_absolute_error: 0.112 - 0s 105us/sample - loss: 0.1129 - mean_absolute_error: 0.1129 - val_loss: 0.1007 - val_mean_absolute_error: 0.1007\n",
      "Epoch 12/50\n",
      "2187/2187 [==============================] - ETA: 0s - loss: 0.1665 - mean_absolute_error: 0.166 - ETA: 0s - loss: 0.1170 - mean_absolute_error: 0.117 - ETA: 0s - loss: 0.1140 - mean_absolute_error: 0.114 - 0s 81us/sample - loss: 0.1103 - mean_absolute_error: 0.1103 - val_loss: 0.0987 - val_mean_absolute_error: 0.0987\n",
      "Epoch 13/50\n",
      "2187/2187 [==============================] - ETA: 0s - loss: 0.0905 - mean_absolute_error: 0.090 - ETA: 0s - loss: 0.0958 - mean_absolute_error: 0.095 - ETA: 0s - loss: 0.1064 - mean_absolute_error: 0.106 - 0s 78us/sample - loss: 0.1094 - mean_absolute_error: 0.1094 - val_loss: 0.0940 - val_mean_absolute_error: 0.0940\n",
      "Epoch 14/50\n",
      "2187/2187 [==============================] - ETA: 0s - loss: 0.1618 - mean_absolute_error: 0.161 - ETA: 0s - loss: 0.1043 - mean_absolute_error: 0.104 - ETA: 0s - loss: 0.1036 - mean_absolute_error: 0.103 - 0s 88us/sample - loss: 0.1052 - mean_absolute_error: 0.1052 - val_loss: 0.0990 - val_mean_absolute_error: 0.0990\n",
      "Epoch 15/50\n",
      "2187/2187 [==============================] - ETA: 0s - loss: 0.0850 - mean_absolute_error: 0.085 - ETA: 0s - loss: 0.1045 - mean_absolute_error: 0.104 - ETA: 0s - loss: 0.1045 - mean_absolute_error: 0.104 - 0s 78us/sample - loss: 0.1023 - mean_absolute_error: 0.1023 - val_loss: 0.0925 - val_mean_absolute_error: 0.0925\n",
      "Epoch 16/50\n",
      "2187/2187 [==============================] - ETA: 0s - loss: 0.0405 - mean_absolute_error: 0.040 - ETA: 0s - loss: 0.1108 - mean_absolute_error: 0.110 - ETA: 0s - loss: 0.1083 - mean_absolute_error: 0.108 - ETA: 0s - loss: 0.1026 - mean_absolute_error: 0.102 - 0s 100us/sample - loss: 0.1032 - mean_absolute_error: 0.1032 - val_loss: 0.0910 - val_mean_absolute_error: 0.0910\n",
      "Epoch 17/50\n",
      "2187/2187 [==============================] - ETA: 0s - loss: 0.0675 - mean_absolute_error: 0.067 - ETA: 0s - loss: 0.1030 - mean_absolute_error: 0.103 - ETA: 0s - loss: 0.1005 - mean_absolute_error: 0.100 - 0s 85us/sample - loss: 0.1000 - mean_absolute_error: 0.1000 - val_loss: 0.0841 - val_mean_absolute_error: 0.0841\n",
      "Epoch 18/50\n",
      "2187/2187 [==============================] - ETA: 0s - loss: 0.0983 - mean_absolute_error: 0.098 - ETA: 0s - loss: 0.0973 - mean_absolute_error: 0.097 - ETA: 0s - loss: 0.0949 - mean_absolute_error: 0.094 - 0s 81us/sample - loss: 0.0977 - mean_absolute_error: 0.0977 - val_loss: 0.0864 - val_mean_absolute_error: 0.0864\n",
      "Epoch 19/50\n",
      "2187/2187 [==============================] - ETA: 0s - loss: 0.1169 - mean_absolute_error: 0.116 - ETA: 0s - loss: 0.1132 - mean_absolute_error: 0.113 - ETA: 0s - loss: 0.0899 - mean_absolute_error: 0.089 - ETA: 0s - loss: 0.0934 - mean_absolute_error: 0.093 - 0s 99us/sample - loss: 0.0938 - mean_absolute_error: 0.0938 - val_loss: 0.0864 - val_mean_absolute_error: 0.0864\n",
      "Epoch 20/50\n",
      "2187/2187 [==============================] - ETA: 0s - loss: 0.0999 - mean_absolute_error: 0.099 - ETA: 0s - loss: 0.0887 - mean_absolute_error: 0.088 - ETA: 0s - loss: 0.0912 - mean_absolute_error: 0.091 - ETA: 0s - loss: 0.0946 - mean_absolute_error: 0.094 - 0s 101us/sample - loss: 0.0942 - mean_absolute_error: 0.0942 - val_loss: 0.0800 - val_mean_absolute_error: 0.0800\n",
      "Epoch 21/50\n",
      "2187/2187 [==============================] - ETA: 0s - loss: 0.0338 - mean_absolute_error: 0.033 - ETA: 0s - loss: 0.0910 - mean_absolute_error: 0.091 - ETA: 0s - loss: 0.0877 - mean_absolute_error: 0.087 - 0s 84us/sample - loss: 0.0939 - mean_absolute_error: 0.0939 - val_loss: 0.0864 - val_mean_absolute_error: 0.0864\n",
      "Epoch 22/50\n",
      "2187/2187 [==============================] - ETA: 0s - loss: 0.1778 - mean_absolute_error: 0.177 - ETA: 0s - loss: 0.0984 - mean_absolute_error: 0.098 - ETA: 0s - loss: 0.0976 - mean_absolute_error: 0.097 - 0s 84us/sample - loss: 0.0945 - mean_absolute_error: 0.0945 - val_loss: 0.0791 - val_mean_absolute_error: 0.0791\n",
      "Epoch 23/50\n",
      "2187/2187 [==============================] - ETA: 0s - loss: 0.0316 - mean_absolute_error: 0.031 - ETA: 0s - loss: 0.0907 - mean_absolute_error: 0.090 - ETA: 0s - loss: 0.0988 - mean_absolute_error: 0.098 - 0s 78us/sample - loss: 0.0979 - mean_absolute_error: 0.0979 - val_loss: 0.0822 - val_mean_absolute_error: 0.0822\n"
     ]
    },
    {
     "name": "stdout",
     "output_type": "stream",
     "text": [
      "Epoch 24/50\n",
      "2187/2187 [==============================] - ETA: 0s - loss: 0.1878 - mean_absolute_error: 0.187 - ETA: 0s - loss: 0.0992 - mean_absolute_error: 0.099 - ETA: 0s - loss: 0.1039 - mean_absolute_error: 0.103 - 0s 76us/sample - loss: 0.1023 - mean_absolute_error: 0.1023 - val_loss: 0.0869 - val_mean_absolute_error: 0.0869\n",
      "Epoch 25/50\n",
      "2187/2187 [==============================] - ETA: 0s - loss: 0.0967 - mean_absolute_error: 0.096 - ETA: 0s - loss: 0.0895 - mean_absolute_error: 0.089 - ETA: 0s - loss: 0.0945 - mean_absolute_error: 0.094 - 0s 77us/sample - loss: 0.0954 - mean_absolute_error: 0.0954 - val_loss: 0.0807 - val_mean_absolute_error: 0.0807\n",
      "Epoch 26/50\n",
      "2187/2187 [==============================] - ETA: 0s - loss: 0.0633 - mean_absolute_error: 0.063 - ETA: 0s - loss: 0.0963 - mean_absolute_error: 0.096 - ETA: 0s - loss: 0.0916 - mean_absolute_error: 0.091 - 0s 93us/sample - loss: 0.0981 - mean_absolute_error: 0.0981 - val_loss: 0.0823 - val_mean_absolute_error: 0.0823\n",
      "Epoch 27/50\n",
      "2187/2187 [==============================] - ETA: 0s - loss: 0.0836 - mean_absolute_error: 0.083 - ETA: 0s - loss: 0.1182 - mean_absolute_error: 0.118 - ETA: 0s - loss: 0.1077 - mean_absolute_error: 0.107 - ETA: 0s - loss: 0.1046 - mean_absolute_error: 0.104 - 0s 106us/sample - loss: 0.1029 - mean_absolute_error: 0.1029 - val_loss: 0.0827 - val_mean_absolute_error: 0.0827\n",
      "Epoch 28/50\n",
      "2187/2187 [==============================] - ETA: 0s - loss: 0.1253 - mean_absolute_error: 0.125 - ETA: 0s - loss: 0.0887 - mean_absolute_error: 0.088 - ETA: 0s - loss: 0.0886 - mean_absolute_error: 0.088 - ETA: 0s - loss: 0.0888 - mean_absolute_error: 0.088 - 0s 100us/sample - loss: 0.0894 - mean_absolute_error: 0.0894 - val_loss: 0.0915 - val_mean_absolute_error: 0.0915\n",
      "Epoch 29/50\n",
      "2187/2187 [==============================] - ETA: 0s - loss: 0.1055 - mean_absolute_error: 0.105 - ETA: 0s - loss: 0.0805 - mean_absolute_error: 0.080 - ETA: 0s - loss: 0.0940 - mean_absolute_error: 0.094 - 0s 77us/sample - loss: 0.0919 - mean_absolute_error: 0.0919 - val_loss: 0.0847 - val_mean_absolute_error: 0.0847\n",
      "Epoch 30/50\n",
      "2187/2187 [==============================] - ETA: 0s - loss: 0.1894 - mean_absolute_error: 0.189 - ETA: 0s - loss: 0.0916 - mean_absolute_error: 0.091 - ETA: 0s - loss: 0.0939 - mean_absolute_error: 0.093 - 0s 81us/sample - loss: 0.0946 - mean_absolute_error: 0.0946 - val_loss: 0.0883 - val_mean_absolute_error: 0.0883\n",
      "Epoch 31/50\n",
      "2187/2187 [==============================] - ETA: 0s - loss: 0.1255 - mean_absolute_error: 0.125 - ETA: 0s - loss: 0.1069 - mean_absolute_error: 0.106 - ETA: 0s - loss: 0.1018 - mean_absolute_error: 0.101 - ETA: 0s - loss: 0.1003 - mean_absolute_error: 0.100 - 0s 118us/sample - loss: 0.0957 - mean_absolute_error: 0.0957 - val_loss: 0.0824 - val_mean_absolute_error: 0.0824\n",
      "Epoch 32/50\n",
      "2187/2187 [==============================] - ETA: 0s - loss: 0.0650 - mean_absolute_error: 0.065 - ETA: 0s - loss: 0.0850 - mean_absolute_error: 0.085 - ETA: 0s - loss: 0.0900 - mean_absolute_error: 0.090 - ETA: 0s - loss: 0.0873 - mean_absolute_error: 0.087 - 0s 99us/sample - loss: 0.0895 - mean_absolute_error: 0.0895 - val_loss: 0.0814 - val_mean_absolute_error: 0.0814\n",
      "Epoch 33/50\n",
      "2187/2187 [==============================] - ETA: 0s - loss: 0.1385 - mean_absolute_error: 0.138 - ETA: 0s - loss: 0.0977 - mean_absolute_error: 0.097 - ETA: 0s - loss: 0.0913 - mean_absolute_error: 0.091 - 0s 83us/sample - loss: 0.0929 - mean_absolute_error: 0.0929 - val_loss: 0.0836 - val_mean_absolute_error: 0.0836\n",
      "Epoch 34/50\n",
      "2187/2187 [==============================] - ETA: 0s - loss: 0.0982 - mean_absolute_error: 0.098 - ETA: 0s - loss: 0.0953 - mean_absolute_error: 0.095 - ETA: 0s - loss: 0.0962 - mean_absolute_error: 0.096 - 0s 80us/sample - loss: 0.0914 - mean_absolute_error: 0.0914 - val_loss: 0.0821 - val_mean_absolute_error: 0.0821\n",
      "Epoch 35/50\n",
      "2187/2187 [==============================] - ETA: 0s - loss: 0.0429 - mean_absolute_error: 0.042 - ETA: 0s - loss: 0.0922 - mean_absolute_error: 0.092 - ETA: 0s - loss: 0.1031 - mean_absolute_error: 0.103 - 0s 81us/sample - loss: 0.0989 - mean_absolute_error: 0.0989 - val_loss: 0.0797 - val_mean_absolute_error: 0.0797\n",
      "Epoch 36/50\n",
      "2187/2187 [==============================] - ETA: 0s - loss: 0.0631 - mean_absolute_error: 0.063 - ETA: 0s - loss: 0.0880 - mean_absolute_error: 0.088 - ETA: 0s - loss: 0.0872 - mean_absolute_error: 0.087 - 0s 86us/sample - loss: 0.0956 - mean_absolute_error: 0.0956 - val_loss: 0.0809 - val_mean_absolute_error: 0.0809\n",
      "Epoch 37/50\n",
      "2187/2187 [==============================] - ETA: 0s - loss: 0.0315 - mean_absolute_error: 0.031 - ETA: 0s - loss: 0.0782 - mean_absolute_error: 0.078 - ETA: 0s - loss: 0.0825 - mean_absolute_error: 0.082 - 0s 81us/sample - loss: 0.0895 - mean_absolute_error: 0.0895 - val_loss: 0.0894 - val_mean_absolute_error: 0.0894\n",
      "Epoch 38/50\n",
      "2187/2187 [==============================] - ETA: 0s - loss: 0.0334 - mean_absolute_error: 0.033 - ETA: 0s - loss: 0.0972 - mean_absolute_error: 0.097 - ETA: 0s - loss: 0.0920 - mean_absolute_error: 0.092 - 0s 77us/sample - loss: 0.0881 - mean_absolute_error: 0.0881 - val_loss: 0.0798 - val_mean_absolute_error: 0.0798\n",
      "Epoch 39/50\n",
      "2187/2187 [==============================] - ETA: 0s - loss: 0.0628 - mean_absolute_error: 0.062 - ETA: 0s - loss: 0.0891 - mean_absolute_error: 0.089 - ETA: 0s - loss: 0.0850 - mean_absolute_error: 0.085 - 0s 81us/sample - loss: 0.0922 - mean_absolute_error: 0.0922 - val_loss: 0.0957 - val_mean_absolute_error: 0.0957\n",
      "Epoch 40/50\n",
      "2187/2187 [==============================] - ETA: 0s - loss: 0.0947 - mean_absolute_error: 0.094 - ETA: 0s - loss: 0.0900 - mean_absolute_error: 0.090 - ETA: 0s - loss: 0.1008 - mean_absolute_error: 0.100 - 0s 79us/sample - loss: 0.0954 - mean_absolute_error: 0.0954 - val_loss: 0.0797 - val_mean_absolute_error: 0.0797\n",
      "Epoch 41/50\n",
      "2187/2187 [==============================] - ETA: 0s - loss: 0.0626 - mean_absolute_error: 0.062 - ETA: 0s - loss: 0.0834 - mean_absolute_error: 0.083 - ETA: 0s - loss: 0.0912 - mean_absolute_error: 0.091 - 0s 82us/sample - loss: 0.0910 - mean_absolute_error: 0.0910 - val_loss: 0.0793 - val_mean_absolute_error: 0.0793\n",
      "Epoch 42/50\n",
      "2187/2187 [==============================] - ETA: 0s - loss: 0.0642 - mean_absolute_error: 0.064 - ETA: 0s - loss: 0.0837 - mean_absolute_error: 0.083 - ETA: 0s - loss: 0.0934 - mean_absolute_error: 0.093 - 0s 80us/sample - loss: 0.0901 - mean_absolute_error: 0.0901 - val_loss: 0.0957 - val_mean_absolute_error: 0.0957\n",
      "Epoch 43/50\n",
      "2187/2187 [==============================] - ETA: 0s - loss: 0.0637 - mean_absolute_error: 0.063 - ETA: 0s - loss: 0.0915 - mean_absolute_error: 0.091 - ETA: 0s - loss: 0.0952 - mean_absolute_error: 0.095 - 0s 76us/sample - loss: 0.0945 - mean_absolute_error: 0.0945 - val_loss: 0.0807 - val_mean_absolute_error: 0.0807\n",
      "Epoch 44/50\n",
      "2187/2187 [==============================] - ETA: 0s - loss: 0.1255 - mean_absolute_error: 0.125 - ETA: 0s - loss: 0.0980 - mean_absolute_error: 0.098 - ETA: 0s - loss: 0.0940 - mean_absolute_error: 0.094 - 0s 78us/sample - loss: 0.0925 - mean_absolute_error: 0.0925 - val_loss: 0.0782 - val_mean_absolute_error: 0.0782\n",
      "Epoch 45/50\n",
      "2187/2187 [==============================] - ETA: 0s - loss: 0.1252 - mean_absolute_error: 0.125 - ETA: 0s - loss: 0.0991 - mean_absolute_error: 0.099 - ETA: 0s - loss: 0.0867 - mean_absolute_error: 0.086 - 0s 79us/sample - loss: 0.0906 - mean_absolute_error: 0.0906 - val_loss: 0.0819 - val_mean_absolute_error: 0.0819\n",
      "Epoch 46/50\n",
      "2187/2187 [==============================] - ETA: 0s - loss: 0.0022 - mean_absolute_error: 0.002 - ETA: 0s - loss: 0.0888 - mean_absolute_error: 0.088 - ETA: 0s - loss: 0.0858 - mean_absolute_error: 0.085 - 0s 77us/sample - loss: 0.0892 - mean_absolute_error: 0.0892 - val_loss: 0.0807 - val_mean_absolute_error: 0.0807\n",
      "Epoch 47/50\n",
      "2187/2187 [==============================] - ETA: 0s - loss: 0.0940 - mean_absolute_error: 0.094 - ETA: 0s - loss: 0.0843 - mean_absolute_error: 0.084 - ETA: 0s - loss: 0.0843 - mean_absolute_error: 0.084 - 0s 86us/sample - loss: 0.0869 - mean_absolute_error: 0.0869 - val_loss: 0.0862 - val_mean_absolute_error: 0.0862\n"
     ]
    },
    {
     "name": "stdout",
     "output_type": "stream",
     "text": [
      "Epoch 48/50\n",
      "2187/2187 [==============================] - ETA: 0s - loss: 0.0314 - mean_absolute_error: 0.031 - ETA: 0s - loss: 0.1020 - mean_absolute_error: 0.102 - ETA: 0s - loss: 0.0866 - mean_absolute_error: 0.086 - ETA: 0s - loss: 0.0943 - mean_absolute_error: 0.094 - 0s 100us/sample - loss: 0.0935 - mean_absolute_error: 0.0935 - val_loss: 0.0815 - val_mean_absolute_error: 0.0815\n",
      "Epoch 49/50\n",
      "2187/2187 [==============================] - ETA: 0s - loss: 0.0663 - mean_absolute_error: 0.066 - ETA: 0s - loss: 0.0998 - mean_absolute_error: 0.099 - ETA: 0s - loss: 0.0934 - mean_absolute_error: 0.093 - 0s 84us/sample - loss: 0.0926 - mean_absolute_error: 0.0926 - val_loss: 0.0785 - val_mean_absolute_error: 0.0785\n",
      "Epoch 50/50\n",
      "2187/2187 [==============================] - ETA: 0s - loss: 0.1423 - mean_absolute_error: 0.142 - ETA: 0s - loss: 0.0847 - mean_absolute_error: 0.084 - ETA: 0s - loss: 0.0908 - mean_absolute_error: 0.090 - ETA: 0s - loss: 0.0878 - mean_absolute_error: 0.087 - 0s 102us/sample - loss: 0.0871 - mean_absolute_error: 0.0871 - val_loss: 0.0818 - val_mean_absolute_error: 0.0818\n"
     ]
    }
   ],
   "source": [
    "history = model.fit(X_train,y_train, epochs=50, validation_data=(X_test, y_test))"
   ]
  },
  {
   "cell_type": "code",
   "execution_count": 35,
   "id": "457b2641",
   "metadata": {},
   "outputs": [],
   "source": [
    "hypermodel = tuner.hypermodel.build(best_hps)"
   ]
  },
  {
   "cell_type": "code",
   "execution_count": 36,
   "id": "8c37f947",
   "metadata": {},
   "outputs": [
    {
     "name": "stdout",
     "output_type": "stream",
     "text": [
      "Train on 2187 samples, validate on 938 samples\n",
      "Epoch 1/50\n",
      "2187/2187 [==============================] - ETA: 34s - loss: 0.2190 - mean_absolute_error: 0.21 - ETA: 0s - loss: 0.1877 - mean_absolute_error: 0.1877 - ETA: 0s - loss: 0.1942 - mean_absolute_error: 0.194 - 1s 354us/sample - loss: 0.1941 - mean_absolute_error: 0.1941 - val_loss: 0.1757 - val_mean_absolute_error: 0.1757\n",
      "Epoch 2/50\n",
      "2187/2187 [==============================] - ETA: 0s - loss: 0.2516 - mean_absolute_error: 0.251 - ETA: 0s - loss: 0.2088 - mean_absolute_error: 0.208 - ETA: 0s - loss: 0.1822 - mean_absolute_error: 0.182 - ETA: 0s - loss: 0.1641 - mean_absolute_error: 0.164 - 0s 103us/sample - loss: 0.1631 - mean_absolute_error: 0.1631 - val_loss: 0.1178 - val_mean_absolute_error: 0.1178\n",
      "Epoch 3/50\n",
      "2187/2187 [==============================] - ETA: 0s - loss: 0.0470 - mean_absolute_error: 0.047 - ETA: 0s - loss: 0.1331 - mean_absolute_error: 0.133 - ETA: 0s - loss: 0.1304 - mean_absolute_error: 0.130 - ETA: 0s - loss: 0.1278 - mean_absolute_error: 0.127 - 0s 105us/sample - loss: 0.1302 - mean_absolute_error: 0.1302 - val_loss: 0.1150 - val_mean_absolute_error: 0.1150\n",
      "Epoch 4/50\n",
      "2187/2187 [==============================] - ETA: 0s - loss: 0.1254 - mean_absolute_error: 0.125 - ETA: 0s - loss: 0.1172 - mean_absolute_error: 0.117 - ETA: 0s - loss: 0.1286 - mean_absolute_error: 0.128 - ETA: 0s - loss: 0.1312 - mean_absolute_error: 0.131 - 0s 100us/sample - loss: 0.1315 - mean_absolute_error: 0.1315 - val_loss: 0.1119 - val_mean_absolute_error: 0.1119\n",
      "Epoch 5/50\n",
      "2187/2187 [==============================] - ETA: 0s - loss: 0.0780 - mean_absolute_error: 0.078 - ETA: 0s - loss: 0.1055 - mean_absolute_error: 0.105 - ETA: 0s - loss: 0.1166 - mean_absolute_error: 0.116 - ETA: 0s - loss: 0.1242 - mean_absolute_error: 0.124 - 0s 100us/sample - loss: 0.1250 - mean_absolute_error: 0.1250 - val_loss: 0.1129 - val_mean_absolute_error: 0.1129\n",
      "Epoch 6/50\n",
      "2187/2187 [==============================] - ETA: 0s - loss: 0.0880 - mean_absolute_error: 0.088 - ETA: 0s - loss: 0.1000 - mean_absolute_error: 0.100 - ETA: 0s - loss: 0.1128 - mean_absolute_error: 0.112 - ETA: 0s - loss: 0.1220 - mean_absolute_error: 0.122 - 0s 100us/sample - loss: 0.1219 - mean_absolute_error: 0.1219 - val_loss: 0.1075 - val_mean_absolute_error: 0.1075\n",
      "Epoch 7/50\n",
      "2187/2187 [==============================] - ETA: 0s - loss: 0.1261 - mean_absolute_error: 0.126 - ETA: 0s - loss: 0.1130 - mean_absolute_error: 0.113 - ETA: 0s - loss: 0.1176 - mean_absolute_error: 0.117 - ETA: 0s - loss: 0.1202 - mean_absolute_error: 0.120 - 0s 99us/sample - loss: 0.1205 - mean_absolute_error: 0.1205 - val_loss: 0.1083 - val_mean_absolute_error: 0.1083\n",
      "Epoch 8/50\n",
      "2187/2187 [==============================] - ETA: 0s - loss: 0.1067 - mean_absolute_error: 0.106 - ETA: 0s - loss: 0.1118 - mean_absolute_error: 0.111 - ETA: 0s - loss: 0.1173 - mean_absolute_error: 0.117 - ETA: 0s - loss: 0.1183 - mean_absolute_error: 0.118 - 0s 111us/sample - loss: 0.1187 - mean_absolute_error: 0.1187 - val_loss: 0.1074 - val_mean_absolute_error: 0.1074\n",
      "Epoch 9/50\n",
      "2187/2187 [==============================] - ETA: 0s - loss: 0.1325 - mean_absolute_error: 0.132 - ETA: 0s - loss: 0.1219 - mean_absolute_error: 0.121 - ETA: 0s - loss: 0.1089 - mean_absolute_error: 0.108 - ETA: 0s - loss: 0.1188 - mean_absolute_error: 0.118 - 0s 103us/sample - loss: 0.1191 - mean_absolute_error: 0.1191 - val_loss: 0.1064 - val_mean_absolute_error: 0.1064\n",
      "Epoch 10/50\n",
      "2187/2187 [==============================] - ETA: 0s - loss: 0.0127 - mean_absolute_error: 0.012 - ETA: 0s - loss: 0.1106 - mean_absolute_error: 0.110 - ETA: 0s - loss: 0.1137 - mean_absolute_error: 0.113 - ETA: 0s - loss: 0.1114 - mean_absolute_error: 0.111 - 0s 120us/sample - loss: 0.1182 - mean_absolute_error: 0.1182 - val_loss: 0.1087 - val_mean_absolute_error: 0.1087\n",
      "Epoch 11/50\n",
      "2187/2187 [==============================] - ETA: 0s - loss: 0.0449 - mean_absolute_error: 0.044 - ETA: 0s - loss: 0.1025 - mean_absolute_error: 0.102 - ETA: 0s - loss: 0.1088 - mean_absolute_error: 0.108 - ETA: 0s - loss: 0.1155 - mean_absolute_error: 0.115 - ETA: 0s - loss: 0.1151 - mean_absolute_error: 0.115 - 0s 124us/sample - loss: 0.1156 - mean_absolute_error: 0.1156 - val_loss: 0.1043 - val_mean_absolute_error: 0.1043\n",
      "Epoch 12/50\n",
      "2187/2187 [==============================] - ETA: 0s - loss: 0.0962 - mean_absolute_error: 0.096 - ETA: 0s - loss: 0.1198 - mean_absolute_error: 0.119 - ETA: 0s - loss: 0.1164 - mean_absolute_error: 0.116 - ETA: 0s - loss: 0.1123 - mean_absolute_error: 0.112 - 0s 114us/sample - loss: 0.1140 - mean_absolute_error: 0.1140 - val_loss: 0.1040 - val_mean_absolute_error: 0.1040\n",
      "Epoch 13/50\n",
      "2187/2187 [==============================] - ETA: 0s - loss: 0.0401 - mean_absolute_error: 0.040 - ETA: 0s - loss: 0.1354 - mean_absolute_error: 0.135 - ETA: 0s - loss: 0.1194 - mean_absolute_error: 0.119 - ETA: 0s - loss: 0.1115 - mean_absolute_error: 0.111 - ETA: 0s - loss: 0.1136 - mean_absolute_error: 0.113 - 0s 122us/sample - loss: 0.1137 - mean_absolute_error: 0.1137 - val_loss: 0.0979 - val_mean_absolute_error: 0.0979\n",
      "Epoch 14/50\n",
      "2187/2187 [==============================] - ETA: 0s - loss: 0.0710 - mean_absolute_error: 0.071 - ETA: 0s - loss: 0.1027 - mean_absolute_error: 0.102 - ETA: 0s - loss: 0.1056 - mean_absolute_error: 0.105 - ETA: 0s - loss: 0.1075 - mean_absolute_error: 0.107 - 0s 111us/sample - loss: 0.1110 - mean_absolute_error: 0.1110 - val_loss: 0.1090 - val_mean_absolute_error: 0.1090\n",
      "Epoch 15/50\n",
      "2187/2187 [==============================] - ETA: 0s - loss: 0.0988 - mean_absolute_error: 0.098 - ETA: 0s - loss: 0.1090 - mean_absolute_error: 0.109 - ETA: 0s - loss: 0.1048 - mean_absolute_error: 0.104 - ETA: 0s - loss: 0.1104 - mean_absolute_error: 0.110 - ETA: 0s - loss: 0.1110 - mean_absolute_error: 0.111 - 0s 131us/sample - loss: 0.1109 - mean_absolute_error: 0.1109 - val_loss: 0.0965 - val_mean_absolute_error: 0.0965\n",
      "Epoch 16/50\n",
      "2187/2187 [==============================] - ETA: 0s - loss: 0.2323 - mean_absolute_error: 0.232 - ETA: 0s - loss: 0.1408 - mean_absolute_error: 0.140 - ETA: 0s - loss: 0.1140 - mean_absolute_error: 0.114 - ETA: 0s - loss: 0.1067 - mean_absolute_error: 0.106 - 0s 105us/sample - loss: 0.1071 - mean_absolute_error: 0.1071 - val_loss: 0.0956 - val_mean_absolute_error: 0.0956\n",
      "Epoch 17/50\n",
      "2187/2187 [==============================] - ETA: 0s - loss: 0.1277 - mean_absolute_error: 0.127 - ETA: 0s - loss: 0.1086 - mean_absolute_error: 0.108 - ETA: 0s - loss: 0.1111 - mean_absolute_error: 0.111 - ETA: 0s - loss: 0.1053 - mean_absolute_error: 0.105 - 0s 117us/sample - loss: 0.1058 - mean_absolute_error: 0.1058 - val_loss: 0.0946 - val_mean_absolute_error: 0.0946\n",
      "Epoch 18/50\n",
      "2187/2187 [==============================] - ETA: 0s - loss: 0.1303 - mean_absolute_error: 0.130 - ETA: 0s - loss: 0.1080 - mean_absolute_error: 0.108 - ETA: 0s - loss: 0.1019 - mean_absolute_error: 0.101 - ETA: 0s - loss: 0.1020 - mean_absolute_error: 0.102 - 0s 103us/sample - loss: 0.1037 - mean_absolute_error: 0.1037 - val_loss: 0.1004 - val_mean_absolute_error: 0.1004\n",
      "Epoch 19/50\n",
      "2187/2187 [==============================] - ETA: 0s - loss: 0.0359 - mean_absolute_error: 0.035 - ETA: 0s - loss: 0.1107 - mean_absolute_error: 0.110 - ETA: 0s - loss: 0.1116 - mean_absolute_error: 0.111 - ETA: 0s - loss: 0.1094 - mean_absolute_error: 0.109 - 0s 106us/sample - loss: 0.1062 - mean_absolute_error: 0.1062 - val_loss: 0.0933 - val_mean_absolute_error: 0.0933\n",
      "Epoch 20/50\n",
      "2187/2187 [==============================] - ETA: 0s - loss: 0.1435 - mean_absolute_error: 0.143 - ETA: 0s - loss: 0.0985 - mean_absolute_error: 0.098 - ETA: 0s - loss: 0.0993 - mean_absolute_error: 0.099 - ETA: 0s - loss: 0.1053 - mean_absolute_error: 0.105 - 0s 104us/sample - loss: 0.1031 - mean_absolute_error: 0.1031 - val_loss: 0.0933 - val_mean_absolute_error: 0.0933\n",
      "Epoch 21/50\n",
      "2187/2187 [==============================] - ETA: 0s - loss: 0.1253 - mean_absolute_error: 0.125 - ETA: 0s - loss: 0.1191 - mean_absolute_error: 0.119 - ETA: 0s - loss: 0.1110 - mean_absolute_error: 0.111 - ETA: 0s - loss: 0.1061 - mean_absolute_error: 0.106 - 0s 107us/sample - loss: 0.1001 - mean_absolute_error: 0.1001 - val_loss: 0.0910 - val_mean_absolute_error: 0.0910\n"
     ]
    },
    {
     "name": "stdout",
     "output_type": "stream",
     "text": [
      "Epoch 22/50\n",
      "2187/2187 [==============================] - ETA: 0s - loss: 0.0699 - mean_absolute_error: 0.069 - ETA: 0s - loss: 0.0952 - mean_absolute_error: 0.095 - ETA: 0s - loss: 0.0991 - mean_absolute_error: 0.099 - 0s 85us/sample - loss: 0.1002 - mean_absolute_error: 0.1002 - val_loss: 0.0941 - val_mean_absolute_error: 0.0941\n",
      "Epoch 23/50\n",
      "2187/2187 [==============================] - ETA: 0s - loss: 0.1430 - mean_absolute_error: 0.143 - ETA: 0s - loss: 0.1001 - mean_absolute_error: 0.100 - ETA: 0s - loss: 0.0962 - mean_absolute_error: 0.096 - 0s 89us/sample - loss: 0.0998 - mean_absolute_error: 0.0998 - val_loss: 0.0876 - val_mean_absolute_error: 0.0876\n",
      "Epoch 24/50\n",
      "2187/2187 [==============================] - ETA: 0s - loss: 0.1335 - mean_absolute_error: 0.133 - ETA: 0s - loss: 0.0738 - mean_absolute_error: 0.073 - ETA: 0s - loss: 0.0984 - mean_absolute_error: 0.098 - ETA: 0s - loss: 0.0952 - mean_absolute_error: 0.095 - 0s 106us/sample - loss: 0.0948 - mean_absolute_error: 0.0948 - val_loss: 0.0914 - val_mean_absolute_error: 0.0914\n",
      "Epoch 25/50\n",
      "2187/2187 [==============================] - ETA: 0s - loss: 0.0524 - mean_absolute_error: 0.052 - ETA: 0s - loss: 0.0914 - mean_absolute_error: 0.091 - ETA: 0s - loss: 0.0968 - mean_absolute_error: 0.096 - ETA: 0s - loss: 0.0949 - mean_absolute_error: 0.094 - 0s 97us/sample - loss: 0.0945 - mean_absolute_error: 0.0945 - val_loss: 0.0887 - val_mean_absolute_error: 0.0887\n",
      "Epoch 26/50\n",
      "2187/2187 [==============================] - ETA: 0s - loss: 0.1896 - mean_absolute_error: 0.189 - ETA: 0s - loss: 0.1133 - mean_absolute_error: 0.113 - ETA: 0s - loss: 0.1012 - mean_absolute_error: 0.101 - ETA: 0s - loss: 0.0964 - mean_absolute_error: 0.096 - ETA: 0s - loss: 0.0970 - mean_absolute_error: 0.097 - 0s 117us/sample - loss: 0.0970 - mean_absolute_error: 0.0970 - val_loss: 0.0836 - val_mean_absolute_error: 0.0836\n",
      "Epoch 27/50\n",
      "2187/2187 [==============================] - ETA: 0s - loss: 0.1041 - mean_absolute_error: 0.104 - ETA: 0s - loss: 0.1055 - mean_absolute_error: 0.105 - 0s 61us/sample - loss: 0.0940 - mean_absolute_error: 0.0940 - val_loss: 0.0848 - val_mean_absolute_error: 0.0848\n",
      "Epoch 28/50\n",
      "2187/2187 [==============================] - ETA: 0s - loss: 0.0360 - mean_absolute_error: 0.036 - ETA: 0s - loss: 0.0972 - mean_absolute_error: 0.097 - ETA: 0s - loss: 0.0922 - mean_absolute_error: 0.092 - 0s 85us/sample - loss: 0.0913 - mean_absolute_error: 0.0913 - val_loss: 0.0879 - val_mean_absolute_error: 0.0879\n",
      "Epoch 29/50\n",
      "2187/2187 [==============================] - ETA: 0s - loss: 0.0605 - mean_absolute_error: 0.060 - ETA: 0s - loss: 0.0765 - mean_absolute_error: 0.076 - ETA: 0s - loss: 0.0864 - mean_absolute_error: 0.086 - 0s 71us/sample - loss: 0.0898 - mean_absolute_error: 0.0898 - val_loss: 0.0824 - val_mean_absolute_error: 0.0824\n",
      "Epoch 30/50\n",
      "2187/2187 [==============================] - ETA: 0s - loss: 0.0346 - mean_absolute_error: 0.034 - ETA: 0s - loss: 0.0905 - mean_absolute_error: 0.090 - ETA: 0s - loss: 0.0899 - mean_absolute_error: 0.089 - 0s 66us/sample - loss: 0.0904 - mean_absolute_error: 0.0904 - val_loss: 0.0862 - val_mean_absolute_error: 0.0862\n",
      "Epoch 31/50\n",
      "2187/2187 [==============================] - ETA: 0s - loss: 0.0759 - mean_absolute_error: 0.075 - ETA: 0s - loss: 0.1046 - mean_absolute_error: 0.104 - ETA: 0s - loss: 0.1025 - mean_absolute_error: 0.102 - 0s 80us/sample - loss: 0.0950 - mean_absolute_error: 0.0950 - val_loss: 0.0860 - val_mean_absolute_error: 0.0860\n",
      "Epoch 32/50\n",
      "2187/2187 [==============================] - ETA: 0s - loss: 0.1190 - mean_absolute_error: 0.119 - ETA: 0s - loss: 0.0977 - mean_absolute_error: 0.097 - ETA: 0s - loss: 0.0924 - mean_absolute_error: 0.092 - 0s 84us/sample - loss: 0.0927 - mean_absolute_error: 0.0927 - val_loss: 0.0875 - val_mean_absolute_error: 0.0875\n",
      "Epoch 33/50\n",
      "2187/2187 [==============================] - ETA: 0s - loss: 0.0669 - mean_absolute_error: 0.066 - ETA: 0s - loss: 0.0849 - mean_absolute_error: 0.084 - ETA: 0s - loss: 0.0929 - mean_absolute_error: 0.092 - 0s 69us/sample - loss: 0.0940 - mean_absolute_error: 0.0940 - val_loss: 0.0785 - val_mean_absolute_error: 0.0785\n",
      "Epoch 34/50\n",
      "2187/2187 [==============================] - ETA: 0s - loss: 0.0737 - mean_absolute_error: 0.073 - ETA: 0s - loss: 0.0954 - mean_absolute_error: 0.095 - 0s 62us/sample - loss: 0.0907 - mean_absolute_error: 0.0907 - val_loss: 0.0821 - val_mean_absolute_error: 0.0821\n",
      "Epoch 35/50\n",
      "2187/2187 [==============================] - ETA: 0s - loss: 0.1848 - mean_absolute_error: 0.184 - ETA: 0s - loss: 0.0951 - mean_absolute_error: 0.095 - 0s 62us/sample - loss: 0.0924 - mean_absolute_error: 0.0924 - val_loss: 0.0809 - val_mean_absolute_error: 0.0809\n",
      "Epoch 36/50\n",
      "2187/2187 [==============================] - ETA: 0s - loss: 0.0944 - mean_absolute_error: 0.094 - ETA: 0s - loss: 0.0803 - mean_absolute_error: 0.080 - ETA: 0s - loss: 0.0888 - mean_absolute_error: 0.088 - ETA: 0s - loss: 0.0897 - mean_absolute_error: 0.089 - 0s 102us/sample - loss: 0.0903 - mean_absolute_error: 0.0903 - val_loss: 0.0899 - val_mean_absolute_error: 0.0899\n",
      "Epoch 37/50\n",
      "2187/2187 [==============================] - ETA: 0s - loss: 0.1017 - mean_absolute_error: 0.101 - ETA: 0s - loss: 0.0981 - mean_absolute_error: 0.098 - ETA: 0s - loss: 0.0901 - mean_absolute_error: 0.090 - 0s 89us/sample - loss: 0.0941 - mean_absolute_error: 0.0941 - val_loss: 0.0934 - val_mean_absolute_error: 0.0934\n",
      "Epoch 38/50\n",
      "2187/2187 [==============================] - ETA: 0s - loss: 0.0941 - mean_absolute_error: 0.094 - ETA: 0s - loss: 0.0992 - mean_absolute_error: 0.099 - ETA: 0s - loss: 0.0930 - mean_absolute_error: 0.093 - 0s 92us/sample - loss: 0.0909 - mean_absolute_error: 0.0909 - val_loss: 0.0862 - val_mean_absolute_error: 0.0862\n",
      "Epoch 39/50\n",
      "2187/2187 [==============================] - ETA: 0s - loss: 0.1936 - mean_absolute_error: 0.193 - ETA: 0s - loss: 0.0989 - mean_absolute_error: 0.098 - ETA: 0s - loss: 0.1026 - mean_absolute_error: 0.102 - 0s 90us/sample - loss: 0.0909 - mean_absolute_error: 0.0909 - val_loss: 0.0876 - val_mean_absolute_error: 0.0876\n",
      "Epoch 40/50\n",
      "2187/2187 [==============================] - ETA: 0s - loss: 0.0774 - mean_absolute_error: 0.077 - ETA: 0s - loss: 0.0975 - mean_absolute_error: 0.097 - ETA: 0s - loss: 0.0943 - mean_absolute_error: 0.094 - 0s 74us/sample - loss: 0.0915 - mean_absolute_error: 0.0915 - val_loss: 0.0979 - val_mean_absolute_error: 0.0979\n",
      "Epoch 41/50\n",
      "2187/2187 [==============================] - ETA: 0s - loss: 0.0991 - mean_absolute_error: 0.099 - ETA: 0s - loss: 0.0930 - mean_absolute_error: 0.093 - ETA: 0s - loss: 0.0937 - mean_absolute_error: 0.093 - 0s 70us/sample - loss: 0.0920 - mean_absolute_error: 0.0920 - val_loss: 0.0832 - val_mean_absolute_error: 0.0832\n",
      "Epoch 42/50\n",
      "2187/2187 [==============================] - ETA: 0s - loss: 0.1066 - mean_absolute_error: 0.106 - ETA: 0s - loss: 0.1006 - mean_absolute_error: 0.100 - ETA: 0s - loss: 0.0875 - mean_absolute_error: 0.087 - 0s 72us/sample - loss: 0.0888 - mean_absolute_error: 0.0888 - val_loss: 0.0917 - val_mean_absolute_error: 0.0917\n",
      "Epoch 43/50\n",
      "2187/2187 [==============================] - ETA: 0s - loss: 0.0711 - mean_absolute_error: 0.071 - ETA: 0s - loss: 0.0852 - mean_absolute_error: 0.085 - 0s 62us/sample - loss: 0.0904 - mean_absolute_error: 0.0904 - val_loss: 0.0788 - val_mean_absolute_error: 0.0788\n",
      "Epoch 44/50\n",
      "2187/2187 [==============================] - ETA: 1s - loss: 0.1058 - mean_absolute_error: 0.105 - ETA: 0s - loss: 0.0835 - mean_absolute_error: 0.083 - 0s 68us/sample - loss: 0.0902 - mean_absolute_error: 0.0902 - val_loss: 0.0892 - val_mean_absolute_error: 0.0892\n",
      "Epoch 45/50\n",
      "2187/2187 [==============================] - ETA: 0s - loss: 0.1294 - mean_absolute_error: 0.129 - ETA: 0s - loss: 0.0895 - mean_absolute_error: 0.089 - 0s 62us/sample - loss: 0.0924 - mean_absolute_error: 0.0924 - val_loss: 0.0818 - val_mean_absolute_error: 0.0818\n",
      "Epoch 46/50\n",
      "2187/2187 [==============================] - ETA: 1s - loss: 0.1460 - mean_absolute_error: 0.146 - ETA: 0s - loss: 0.1009 - mean_absolute_error: 0.100 - 0s 69us/sample - loss: 0.0877 - mean_absolute_error: 0.0877 - val_loss: 0.0799 - val_mean_absolute_error: 0.0799\n"
     ]
    },
    {
     "name": "stdout",
     "output_type": "stream",
     "text": [
      "Epoch 47/50\n",
      "2187/2187 [==============================] - ETA: 0s - loss: 0.0959 - mean_absolute_error: 0.095 - ETA: 0s - loss: 0.1040 - mean_absolute_error: 0.104 - 0s 61us/sample - loss: 0.0883 - mean_absolute_error: 0.0883 - val_loss: 0.0802 - val_mean_absolute_error: 0.0802\n",
      "Epoch 48/50\n",
      "2187/2187 [==============================] - ETA: 0s - loss: 0.1765 - mean_absolute_error: 0.176 - ETA: 0s - loss: 0.0907 - mean_absolute_error: 0.090 - ETA: 0s - loss: 0.0870 - mean_absolute_error: 0.087 - 0s 70us/sample - loss: 0.0875 - mean_absolute_error: 0.0875 - val_loss: 0.0828 - val_mean_absolute_error: 0.0828\n",
      "Epoch 49/50\n",
      "2187/2187 [==============================] - ETA: 0s - loss: 0.0052 - mean_absolute_error: 0.005 - ETA: 0s - loss: 0.0908 - mean_absolute_error: 0.090 - 0s 63us/sample - loss: 0.0918 - mean_absolute_error: 0.0918 - val_loss: 0.0793 - val_mean_absolute_error: 0.0793\n",
      "Epoch 50/50\n",
      "2187/2187 [==============================] - ETA: 0s - loss: 0.0341 - mean_absolute_error: 0.034 - ETA: 0s - loss: 0.0879 - mean_absolute_error: 0.087 - 0s 60us/sample - loss: 0.0888 - mean_absolute_error: 0.0888 - val_loss: 0.0816 - val_mean_absolute_error: 0.0816\n"
     ]
    },
    {
     "data": {
      "text/plain": [
       "<tensorflow.python.keras.callbacks.History at 0x2113d4e2688>"
      ]
     },
     "execution_count": 36,
     "metadata": {},
     "output_type": "execute_result"
    }
   ],
   "source": [
    "# Retrain the model\n",
    "hypermodel.fit(X_train,y_train, epochs=50, validation_data=(X_test, y_test))"
   ]
  },
  {
   "cell_type": "code",
   "execution_count": null,
   "id": "58433b41",
   "metadata": {},
   "outputs": [],
   "source": [
    "eval_result = hypermodel.evaluate(img_test, label_test)\n",
    "print(\"[test loss, test accuracy]:\", eval_result)"
   ]
  }
 ],
 "metadata": {
  "kernelspec": {
   "display_name": "Python 3",
   "language": "python",
   "name": "python3"
  },
  "language_info": {
   "codemirror_mode": {
    "name": "ipython",
    "version": 3
   },
   "file_extension": ".py",
   "mimetype": "text/x-python",
   "name": "python",
   "nbconvert_exporter": "python",
   "pygments_lexer": "ipython3",
   "version": "3.7.9"
  }
 },
 "nbformat": 4,
 "nbformat_minor": 5
}
