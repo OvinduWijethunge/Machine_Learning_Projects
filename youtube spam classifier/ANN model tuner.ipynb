{
 "cells": [
  {
   "cell_type": "code",
   "execution_count": 7,
   "id": "e58654bd",
   "metadata": {},
   "outputs": [],
   "source": [
    "# how many number of hidden layers we should have\n",
    "# how many number of neurons have in a hidden layer\n",
    "# what should be the learning rate"
   ]
  },
  {
   "cell_type": "code",
   "execution_count": 33,
   "id": "91e6dd91",
   "metadata": {},
   "outputs": [],
   "source": [
    "import pandas as pd\n",
    "from tensorflow import keras\n",
    "from tensorflow.keras import layers\n",
    "from kerastuner.tuners import RandomSearch\n",
    "import numpy as np"
   ]
  },
  {
   "cell_type": "code",
   "execution_count": 34,
   "id": "1424b3e0",
   "metadata": {},
   "outputs": [],
   "source": [
    "df = pd.read_csv('model.csv')"
   ]
  },
  {
   "cell_type": "code",
   "execution_count": 35,
   "id": "9744f36d",
   "metadata": {},
   "outputs": [
    {
     "data": {
      "text/plain": [
       "Index(['Unnamed: 0', 'sim_content', 'sin_comment', 'word_count',\n",
       "       'duplicate_word_ratio', 'no_of_sentences', 'length_of_comment',\n",
       "       'num_of_punctuations', 'is_period_sequence', 'stop_word_ratio',\n",
       "       'post_coment_gap', 'black_word_count', 'is_link', 'is_youtube_link',\n",
       "       'is_number', 'is_mail', 'comment_duplication', 'classifier_val'],\n",
       "      dtype='object')"
      ]
     },
     "execution_count": 35,
     "metadata": {},
     "output_type": "execute_result"
    }
   ],
   "source": [
    "df.columns"
   ]
  },
  {
   "cell_type": "code",
   "execution_count": 36,
   "id": "e31f7e8b",
   "metadata": {},
   "outputs": [],
   "source": [
    "X=df.iloc[:,1:-1] ## independent features\n",
    "y=df.iloc[:,-1] ## dependent features"
   ]
  },
  {
   "cell_type": "code",
   "execution_count": 37,
   "id": "7cd08782",
   "metadata": {},
   "outputs": [],
   "source": [
    "def build_model(hp):\n",
    "    model = keras.Sequential()\n",
    "    for i in range(hp.Int('num_layers', 2, 20)): # 2 to 20 hidden layers\n",
    "        model.add(layers.Dense(units=hp.Int('units_' + str(i),min_value=32,max_value=512,step=32),activation='relu')) # 32 nurons - 512 neurons in an each layer\n",
    "        model.add(layers.Dense(1, activation='linear'))\n",
    "        model.compile(optimizer=keras.optimizers.Adam(hp.Choice('learning_rate', [1e-2, 1e-3, 1e-4,1e-5])),loss='mean_absolute_error', metrics=['accuracy'])\n",
    "    return model"
   ]
  },
  {
   "cell_type": "code",
   "execution_count": 71,
   "id": "1e58d2ae",
   "metadata": {},
   "outputs": [],
   "source": [
    "# Keras Tuner has four tuners available - RandomSearch, Hyperband, BayesianOptimization, and Sklearn"
   ]
  },
  {
   "cell_type": "code",
   "execution_count": 38,
   "id": "faeef318",
   "metadata": {},
   "outputs": [],
   "source": [
    "tuner = RandomSearch(\n",
    "        build_model,\n",
    "        objective='val_accuracy',\n",
    "        max_trials=5,\n",
    "        executions_per_trial=4,\n",
    "        directory='E:\\Machine_Learning_Projects\\youtube spam classifier',\n",
    "        project_name='ANN hyper-tuning' )"
   ]
  },
  {
   "cell_type": "code",
   "execution_count": 39,
   "id": "c4b8dcf5",
   "metadata": {},
   "outputs": [],
   "source": [
    "stop_early = keras.callbacks.EarlyStopping(monitor='val_loss', patience=5)"
   ]
  },
  {
   "cell_type": "code",
   "execution_count": 40,
   "id": "de9d760c",
   "metadata": {},
   "outputs": [
    {
     "data": {
      "text/html": [
       "<span style=\"color:#4527A0\"><h1 style=\"font-size:18px\">Search space summary</h1></span>"
      ],
      "text/plain": [
       "<IPython.core.display.HTML object>"
      ]
     },
     "metadata": {},
     "output_type": "display_data"
    },
    {
     "data": {
      "text/html": [
       "<span style=\"color:cyan\"> |-Default search space size: 4</span>"
      ],
      "text/plain": [
       "<IPython.core.display.HTML object>"
      ]
     },
     "metadata": {},
     "output_type": "display_data"
    },
    {
     "data": {
      "text/html": [
       "<span style=\"color:#7E57C2\"><h2 style=\"font-size:16px\">num_layers (Int)</h2></span>"
      ],
      "text/plain": [
       "<IPython.core.display.HTML object>"
      ]
     },
     "metadata": {},
     "output_type": "display_data"
    },
    {
     "data": {
      "text/html": [
       "<span style=\"color:cyan\"> |-default: None</span>"
      ],
      "text/plain": [
       "<IPython.core.display.HTML object>"
      ]
     },
     "metadata": {},
     "output_type": "display_data"
    },
    {
     "data": {
      "text/html": [
       "<span style=\"color:blue\"> |-max_value: 20</span>"
      ],
      "text/plain": [
       "<IPython.core.display.HTML object>"
      ]
     },
     "metadata": {},
     "output_type": "display_data"
    },
    {
     "data": {
      "text/html": [
       "<span style=\"color:cyan\"> |-min_value: 2</span>"
      ],
      "text/plain": [
       "<IPython.core.display.HTML object>"
      ]
     },
     "metadata": {},
     "output_type": "display_data"
    },
    {
     "data": {
      "text/html": [
       "<span style=\"color:blue\"> |-sampling: None</span>"
      ],
      "text/plain": [
       "<IPython.core.display.HTML object>"
      ]
     },
     "metadata": {},
     "output_type": "display_data"
    },
    {
     "data": {
      "text/html": [
       "<span style=\"color:cyan\"> |-step: 1</span>"
      ],
      "text/plain": [
       "<IPython.core.display.HTML object>"
      ]
     },
     "metadata": {},
     "output_type": "display_data"
    },
    {
     "data": {
      "text/html": [
       "<span style=\"color:#7E57C2\"><h2 style=\"font-size:16px\">units_0 (Int)</h2></span>"
      ],
      "text/plain": [
       "<IPython.core.display.HTML object>"
      ]
     },
     "metadata": {},
     "output_type": "display_data"
    },
    {
     "data": {
      "text/html": [
       "<span style=\"color:cyan\"> |-default: None</span>"
      ],
      "text/plain": [
       "<IPython.core.display.HTML object>"
      ]
     },
     "metadata": {},
     "output_type": "display_data"
    },
    {
     "data": {
      "text/html": [
       "<span style=\"color:blue\"> |-max_value: 512</span>"
      ],
      "text/plain": [
       "<IPython.core.display.HTML object>"
      ]
     },
     "metadata": {},
     "output_type": "display_data"
    },
    {
     "data": {
      "text/html": [
       "<span style=\"color:cyan\"> |-min_value: 32</span>"
      ],
      "text/plain": [
       "<IPython.core.display.HTML object>"
      ]
     },
     "metadata": {},
     "output_type": "display_data"
    },
    {
     "data": {
      "text/html": [
       "<span style=\"color:blue\"> |-sampling: None</span>"
      ],
      "text/plain": [
       "<IPython.core.display.HTML object>"
      ]
     },
     "metadata": {},
     "output_type": "display_data"
    },
    {
     "data": {
      "text/html": [
       "<span style=\"color:cyan\"> |-step: 32</span>"
      ],
      "text/plain": [
       "<IPython.core.display.HTML object>"
      ]
     },
     "metadata": {},
     "output_type": "display_data"
    },
    {
     "data": {
      "text/html": [
       "<span style=\"color:#7E57C2\"><h2 style=\"font-size:16px\">learning_rate (Choice)</h2></span>"
      ],
      "text/plain": [
       "<IPython.core.display.HTML object>"
      ]
     },
     "metadata": {},
     "output_type": "display_data"
    },
    {
     "data": {
      "text/html": [
       "<span style=\"color:cyan\"> |-default: 0.01</span>"
      ],
      "text/plain": [
       "<IPython.core.display.HTML object>"
      ]
     },
     "metadata": {},
     "output_type": "display_data"
    },
    {
     "data": {
      "text/html": [
       "<span style=\"color:blue\"> |-ordered: True</span>"
      ],
      "text/plain": [
       "<IPython.core.display.HTML object>"
      ]
     },
     "metadata": {},
     "output_type": "display_data"
    },
    {
     "data": {
      "text/html": [
       "<span style=\"color:cyan\"> |-values: [0.01, 0.001, 0.0001, 1e-05]</span>"
      ],
      "text/plain": [
       "<IPython.core.display.HTML object>"
      ]
     },
     "metadata": {},
     "output_type": "display_data"
    },
    {
     "data": {
      "text/html": [
       "<span style=\"color:#7E57C2\"><h2 style=\"font-size:16px\">units_1 (Int)</h2></span>"
      ],
      "text/plain": [
       "<IPython.core.display.HTML object>"
      ]
     },
     "metadata": {},
     "output_type": "display_data"
    },
    {
     "data": {
      "text/html": [
       "<span style=\"color:cyan\"> |-default: None</span>"
      ],
      "text/plain": [
       "<IPython.core.display.HTML object>"
      ]
     },
     "metadata": {},
     "output_type": "display_data"
    },
    {
     "data": {
      "text/html": [
       "<span style=\"color:blue\"> |-max_value: 512</span>"
      ],
      "text/plain": [
       "<IPython.core.display.HTML object>"
      ]
     },
     "metadata": {},
     "output_type": "display_data"
    },
    {
     "data": {
      "text/html": [
       "<span style=\"color:cyan\"> |-min_value: 32</span>"
      ],
      "text/plain": [
       "<IPython.core.display.HTML object>"
      ]
     },
     "metadata": {},
     "output_type": "display_data"
    },
    {
     "data": {
      "text/html": [
       "<span style=\"color:blue\"> |-sampling: None</span>"
      ],
      "text/plain": [
       "<IPython.core.display.HTML object>"
      ]
     },
     "metadata": {},
     "output_type": "display_data"
    },
    {
     "data": {
      "text/html": [
       "<span style=\"color:cyan\"> |-step: 32</span>"
      ],
      "text/plain": [
       "<IPython.core.display.HTML object>"
      ]
     },
     "metadata": {},
     "output_type": "display_data"
    }
   ],
   "source": [
    "tuner.search_space_summary()"
   ]
  },
  {
   "cell_type": "code",
   "execution_count": null,
   "id": "fd306d13",
   "metadata": {},
   "outputs": [],
   "source": []
  },
  {
   "cell_type": "code",
   "execution_count": 41,
   "id": "cc5c4129",
   "metadata": {},
   "outputs": [],
   "source": [
    "from sklearn.model_selection import train_test_split\n",
    "X_train, X_test, y_train, y_test = train_test_split(X, y, test_size=0.3, random_state=0)"
   ]
  },
  {
   "cell_type": "code",
   "execution_count": 42,
   "id": "233617ad",
   "metadata": {},
   "outputs": [],
   "source": [
    "X_train=np.asarray(X_train)\n",
    "y_train = np.asarray(y_train)"
   ]
  },
  {
   "cell_type": "code",
   "execution_count": 43,
   "id": "4bc25a7b",
   "metadata": {
    "scrolled": false
   },
   "outputs": [
    {
     "name": "stdout",
     "output_type": "stream",
     "text": [
      "Train on 1749 samples, validate on 438 samples\n",
      "Epoch 1/50\n",
      "1749/1749 [==============================] - ETA: 1:40 - loss: 0.1250 - accuracy: 0.87 - ETA: 7s - loss: 0.2029 - accuracy: 0.8068 - ETA: 2s - loss: 0.1891 - accuracy: 0.81 - ETA: 1s - loss: 0.1943 - accuracy: 0.81 - ETA: 0s - loss: 0.1938 - accuracy: 0.81 - ETA: 0s - loss: 0.1979 - accuracy: 0.80 - 3s 2ms/sample - loss: 0.1986 - accuracy: 0.8062 - val_loss: 0.1945 - val_accuracy: 0.8105\n",
      "Epoch 2/50\n",
      "1749/1749 [==============================] - ETA: 0s - loss: 0.2233 - accuracy: 0.78 - ETA: 0s - loss: 0.2116 - accuracy: 0.79 - ETA: 0s - loss: 0.2192 - accuracy: 0.78 - ETA: 0s - loss: 0.1985 - accuracy: 0.80 - 0s 136us/sample - loss: 0.1982 - accuracy: 0.8062 - val_loss: 0.1901 - val_accuracy: 0.8105\n",
      "Epoch 3/50\n",
      "1749/1749 [==============================] - ETA: 0s - loss: 0.2193 - accuracy: 0.78 - ETA: 0s - loss: 0.1985 - accuracy: 0.80 - ETA: 0s - loss: 0.2009 - accuracy: 0.80 - ETA: 0s - loss: 0.2015 - accuracy: 0.80 - ETA: 0s - loss: 0.1979 - accuracy: 0.80 - 0s 153us/sample - loss: 0.1961 - accuracy: 0.8062 - val_loss: 0.1895 - val_accuracy: 0.8105\n",
      "Epoch 4/50\n",
      "1749/1749 [==============================] - ETA: 0s - loss: 0.1563 - accuracy: 0.84 - ETA: 0s - loss: 0.1611 - accuracy: 0.84 - ETA: 0s - loss: 0.1879 - accuracy: 0.81 - ETA: 0s - loss: 0.1954 - accuracy: 0.80 - ETA: 0s - loss: 0.1945 - accuracy: 0.80 - 0s 165us/sample - loss: 0.1952 - accuracy: 0.8062 - val_loss: 0.1914 - val_accuracy: 0.8105\n",
      "Epoch 5/50\n",
      "1749/1749 [==============================] - ETA: 0s - loss: 0.2832 - accuracy: 0.71 - ETA: 0s - loss: 0.2248 - accuracy: 0.77 - ETA: 0s - loss: 0.2002 - accuracy: 0.80 - ETA: 0s - loss: 0.2012 - accuracy: 0.80 - ETA: 0s - loss: 0.1920 - accuracy: 0.80 - 0s 165us/sample - loss: 0.1949 - accuracy: 0.8062 - val_loss: 0.1903 - val_accuracy: 0.8105\n",
      "Epoch 6/50\n",
      "1749/1749 [==============================] - ETA: 0s - loss: 0.2195 - accuracy: 0.78 - ETA: 0s - loss: 0.1961 - accuracy: 0.80 - ETA: 0s - loss: 0.2102 - accuracy: 0.79 - ETA: 0s - loss: 0.2103 - accuracy: 0.79 - ETA: 0s - loss: 0.2017 - accuracy: 0.79 - 0s 169us/sample - loss: 0.1952 - accuracy: 0.8062 - val_loss: 0.1905 - val_accuracy: 0.8105\n",
      "Epoch 7/50\n",
      "1749/1749 [==============================] - ETA: 0s - loss: 0.1262 - accuracy: 0.87 - ETA: 0s - loss: 0.2538 - accuracy: 0.74 - ETA: 0s - loss: 0.2326 - accuracy: 0.76 - ETA: 0s - loss: 0.2067 - accuracy: 0.79 - ETA: 0s - loss: 0.1960 - accuracy: 0.80 - 0s 159us/sample - loss: 0.1962 - accuracy: 0.8062 - val_loss: 0.1932 - val_accuracy: 0.8105\n",
      "Epoch 8/50\n",
      "1749/1749 [==============================] - ETA: 0s - loss: 0.1295 - accuracy: 0.87 - ETA: 0s - loss: 0.1581 - accuracy: 0.84 - ETA: 0s - loss: 0.1780 - accuracy: 0.82 - ETA: 0s - loss: 0.1911 - accuracy: 0.81 - ETA: 0s - loss: 0.1948 - accuracy: 0.80 - 0s 165us/sample - loss: 0.1951 - accuracy: 0.8062 - val_loss: 0.1900 - val_accuracy: 0.8105\n",
      "Train on 1749 samples, validate on 438 samples\n",
      "Epoch 1/50\n",
      "1749/1749 [==============================] - ETA: 1:57 - loss: 0.1562 - accuracy: 0.84 - ETA: 5s - loss: 0.1849 - accuracy: 0.8208 - ETA: 2s - loss: 0.1953 - accuracy: 0.81 - ETA: 0s - loss: 0.2020 - accuracy: 0.80 - 3s 2ms/sample - loss: 0.1984 - accuracy: 0.8062 - val_loss: 0.1910 - val_accuracy: 0.8105\n",
      "Epoch 2/50\n",
      "1749/1749 [==============================] - ETA: 0s - loss: 0.1268 - accuracy: 0.87 - ETA: 0s - loss: 0.2067 - accuracy: 0.79 - ETA: 0s - loss: 0.2093 - accuracy: 0.79 - ETA: 0s - loss: 0.2046 - accuracy: 0.79 - 0s 120us/sample - loss: 0.1956 - accuracy: 0.8062 - val_loss: 0.1922 - val_accuracy: 0.8105\n",
      "Epoch 3/50\n",
      "1749/1749 [==============================] - ETA: 0s - loss: 0.2840 - accuracy: 0.71 - ETA: 0s - loss: 0.2239 - accuracy: 0.77 - ETA: 0s - loss: 0.2063 - accuracy: 0.79 - ETA: 0s - loss: 0.1971 - accuracy: 0.80 - 0s 119us/sample - loss: 0.1954 - accuracy: 0.8062 - val_loss: 0.1905 - val_accuracy: 0.8105\n",
      "Epoch 4/50\n",
      "1749/1749 [==============================] - ETA: 0s - loss: 0.2198 - accuracy: 0.78 - ETA: 0s - loss: 0.2027 - accuracy: 0.79 - ETA: 0s - loss: 0.1958 - accuracy: 0.80 - ETA: 0s - loss: 0.1921 - accuracy: 0.80 - 0s 120us/sample - loss: 0.1948 - accuracy: 0.8062 - val_loss: 0.1909 - val_accuracy: 0.8105\n",
      "Epoch 5/50\n",
      "1749/1749 [==============================] - ETA: 0s - loss: 0.1889 - accuracy: 0.81 - ETA: 0s - loss: 0.2103 - accuracy: 0.79 - ETA: 0s - loss: 0.2084 - accuracy: 0.79 - ETA: 0s - loss: 0.1981 - accuracy: 0.80 - ETA: 0s - loss: 0.1929 - accuracy: 0.80 - 0s 144us/sample - loss: 0.1944 - accuracy: 0.8062 - val_loss: 0.1919 - val_accuracy: 0.8105\n",
      "Epoch 6/50\n",
      "1749/1749 [==============================] - ETA: 0s - loss: 0.2519 - accuracy: 0.75 - ETA: 0s - loss: 0.1894 - accuracy: 0.81 - ETA: 0s - loss: 0.1813 - accuracy: 0.82 - ETA: 0s - loss: 0.1966 - accuracy: 0.80 - 0s 115us/sample - loss: 0.1953 - accuracy: 0.8062 - val_loss: 0.1904 - val_accuracy: 0.8105\n",
      "Epoch 7/50\n",
      "1749/1749 [==============================] - ETA: 0s - loss: 0.2819 - accuracy: 0.71 - ETA: 0s - loss: 0.1932 - accuracy: 0.80 - ETA: 0s - loss: 0.1873 - accuracy: 0.81 - ETA: 0s - loss: 0.1876 - accuracy: 0.81 - 0s 123us/sample - loss: 0.1946 - accuracy: 0.8062 - val_loss: 0.1911 - val_accuracy: 0.8105\n",
      "Epoch 8/50\n",
      "1749/1749 [==============================] - ETA: 0s - loss: 0.1891 - accuracy: 0.81 - ETA: 0s - loss: 0.2039 - accuracy: 0.79 - ETA: 0s - loss: 0.1962 - accuracy: 0.80 - ETA: 0s - loss: 0.1987 - accuracy: 0.80 - ETA: 0s - loss: 0.1936 - accuracy: 0.80 - 0s 161us/sample - loss: 0.1957 - accuracy: 0.8062 - val_loss: 0.1916 - val_accuracy: 0.8105\n",
      "Epoch 9/50\n",
      "1749/1749 [==============================] - ETA: 0s - loss: 0.2208 - accuracy: 0.78 - ETA: 0s - loss: 0.2013 - accuracy: 0.80 - ETA: 0s - loss: 0.1989 - accuracy: 0.80 - ETA: 0s - loss: 0.1987 - accuracy: 0.80 - 0s 128us/sample - loss: 0.1952 - accuracy: 0.8062 - val_loss: 0.1907 - val_accuracy: 0.8105\n",
      "Epoch 10/50\n",
      "1749/1749 [==============================] - ETA: 0s - loss: 0.1576 - accuracy: 0.84 - ETA: 0s - loss: 0.1765 - accuracy: 0.82 - ETA: 0s - loss: 0.1923 - accuracy: 0.80 - ETA: 0s - loss: 0.1991 - accuracy: 0.80 - 0s 120us/sample - loss: 0.1946 - accuracy: 0.8062 - val_loss: 0.1908 - val_accuracy: 0.8105\n",
      "Epoch 11/50\n",
      "1749/1749 [==============================] - ETA: 0s - loss: 0.0955 - accuracy: 0.90 - ETA: 0s - loss: 0.1936 - accuracy: 0.80 - ETA: 0s - loss: 0.1871 - accuracy: 0.81 - ETA: 0s - loss: 0.1934 - accuracy: 0.80 - 0s 128us/sample - loss: 0.1954 - accuracy: 0.8062 - val_loss: 0.1898 - val_accuracy: 0.8105\n",
      "Epoch 12/50\n",
      "1749/1749 [==============================] - ETA: 0s - loss: 0.1254 - accuracy: 0.87 - ETA: 0s - loss: 0.2026 - accuracy: 0.79 - ETA: 0s - loss: 0.1957 - accuracy: 0.80 - ETA: 0s - loss: 0.1952 - accuracy: 0.80 - 0s 129us/sample - loss: 0.1951 - accuracy: 0.8062 - val_loss: 0.1898 - val_accuracy: 0.8105\n",
      "Epoch 13/50\n",
      "1749/1749 [==============================] - ETA: 0s - loss: 0.0941 - accuracy: 0.90 - ETA: 0s - loss: 0.1885 - accuracy: 0.81 - ETA: 0s - loss: 0.1960 - accuracy: 0.80 - ETA: 0s - loss: 0.1930 - accuracy: 0.80 - 0s 123us/sample - loss: 0.1948 - accuracy: 0.8062 - val_loss: 0.1903 - val_accuracy: 0.8105\n",
      "Epoch 14/50\n",
      "1749/1749 [==============================] - ETA: 0s - loss: 0.2821 - accuracy: 0.71 - ETA: 0s - loss: 0.1875 - accuracy: 0.81 - ETA: 0s - loss: 0.1866 - accuracy: 0.81 - ETA: 0s - loss: 0.2012 - accuracy: 0.80 - 0s 117us/sample - loss: 0.1957 - accuracy: 0.8062 - val_loss: 0.1897 - val_accuracy: 0.8105\n",
      "Epoch 15/50\n",
      "1749/1749 [==============================] - ETA: 0s - loss: 0.1565 - accuracy: 0.84 - ETA: 0s - loss: 0.1868 - accuracy: 0.81 - ETA: 0s - loss: 0.2049 - accuracy: 0.79 - ETA: 0s - loss: 0.1957 - accuracy: 0.80 - 0s 138us/sample - loss: 0.1948 - accuracy: 0.8062 - val_loss: 0.1911 - val_accuracy: 0.8105\n",
      "Epoch 16/50\n",
      "1749/1749 [==============================] - ETA: 0s - loss: 0.2202 - accuracy: 0.78 - ETA: 0s - loss: 0.1853 - accuracy: 0.81 - ETA: 0s - loss: 0.1951 - accuracy: 0.80 - ETA: 0s - loss: 0.1918 - accuracy: 0.80 - 0s 144us/sample - loss: 0.1947 - accuracy: 0.8062 - val_loss: 0.1904 - val_accuracy: 0.8105\n",
      "Epoch 17/50\n"
     ]
    },
    {
     "name": "stdout",
     "output_type": "stream",
     "text": [
      "1749/1749 [==============================] - ETA: 0s - loss: 0.1573 - accuracy: 0.84 - ETA: 0s - loss: 0.1965 - accuracy: 0.80 - ETA: 0s - loss: 0.1821 - accuracy: 0.81 - ETA: 0s - loss: 0.1848 - accuracy: 0.81 - ETA: 0s - loss: 0.1932 - accuracy: 0.80 - 0s 180us/sample - loss: 0.1946 - accuracy: 0.8062 - val_loss: 0.1906 - val_accuracy: 0.8105\n",
      "Epoch 18/50\n",
      "1749/1749 [==============================] - ETA: 0s - loss: 0.2199 - accuracy: 0.78 - ETA: 0s - loss: 0.1790 - accuracy: 0.82 - ETA: 0s - loss: 0.1896 - accuracy: 0.81 - ETA: 0s - loss: 0.1878 - accuracy: 0.81 - ETA: 0s - loss: 0.1962 - accuracy: 0.80 - 0s 155us/sample - loss: 0.1955 - accuracy: 0.8062 - val_loss: 0.1907 - val_accuracy: 0.8105\n",
      "Epoch 19/50\n",
      "1749/1749 [==============================] - ETA: 0s - loss: 0.2199 - accuracy: 0.78 - ETA: 0s - loss: 0.2004 - accuracy: 0.80 - ETA: 0s - loss: 0.1870 - accuracy: 0.81 - ETA: 0s - loss: 0.1951 - accuracy: 0.80 - 0s 125us/sample - loss: 0.1950 - accuracy: 0.8062 - val_loss: 0.1908 - val_accuracy: 0.8105\n",
      "Train on 1749 samples, validate on 438 samples\n",
      "Epoch 1/50\n",
      "1749/1749 [==============================] - ETA: 1:53 - loss: 0.1562 - accuracy: 0.84 - ETA: 7s - loss: 0.2317 - accuracy: 0.7839 - ETA: 2s - loss: 0.2104 - accuracy: 0.80 - ETA: 0s - loss: 0.2022 - accuracy: 0.80 - ETA: 0s - loss: 0.2014 - accuracy: 0.80 - 3s 2ms/sample - loss: 0.2028 - accuracy: 0.8062 - val_loss: 0.1917 - val_accuracy: 0.8105\n",
      "Epoch 2/50\n",
      "1749/1749 [==============================] - ETA: 0s - loss: 0.2828 - accuracy: 0.71 - ETA: 0s - loss: 0.2242 - accuracy: 0.77 - ETA: 0s - loss: 0.2043 - accuracy: 0.79 - ETA: 0s - loss: 0.2026 - accuracy: 0.79 - 0s 132us/sample - loss: 0.1958 - accuracy: 0.8062 - val_loss: 0.1923 - val_accuracy: 0.8105\n",
      "Epoch 3/50\n",
      "1749/1749 [==============================] - ETA: 0s - loss: 0.1284 - accuracy: 0.87 - ETA: 0s - loss: 0.2252 - accuracy: 0.77 - ETA: 0s - loss: 0.2021 - accuracy: 0.80 - ETA: 0s - loss: 0.1964 - accuracy: 0.80 - 0s 149us/sample - loss: 0.1970 - accuracy: 0.8062 - val_loss: 0.1951 - val_accuracy: 0.8105\n",
      "Epoch 4/50\n",
      "1749/1749 [==============================] - ETA: 0s - loss: 0.2556 - accuracy: 0.75 - ETA: 0s - loss: 0.2416 - accuracy: 0.76 - ETA: 0s - loss: 0.2200 - accuracy: 0.78 - ETA: 0s - loss: 0.2081 - accuracy: 0.79 - ETA: 0s - loss: 0.1981 - accuracy: 0.80 - 0s 159us/sample - loss: 0.1968 - accuracy: 0.8062 - val_loss: 0.1912 - val_accuracy: 0.8105\n",
      "Epoch 5/50\n",
      "1749/1749 [==============================] - ETA: 0s - loss: 0.1582 - accuracy: 0.84 - ETA: 0s - loss: 0.1982 - accuracy: 0.80 - ETA: 0s - loss: 0.1957 - accuracy: 0.80 - ETA: 0s - loss: 0.1978 - accuracy: 0.80 - ETA: 0s - loss: 0.1965 - accuracy: 0.80 - ETA: 0s - loss: 0.1959 - accuracy: 0.80 - 0s 191us/sample - loss: 0.1953 - accuracy: 0.8062 - val_loss: 0.1898 - val_accuracy: 0.8105\n",
      "Epoch 6/50\n",
      "1749/1749 [==============================] - ETA: 0s - loss: 0.2191 - accuracy: 0.78 - ETA: 0s - loss: 0.1874 - accuracy: 0.81 - ETA: 0s - loss: 0.1971 - accuracy: 0.80 - ETA: 0s - loss: 0.1997 - accuracy: 0.80 - 0s 128us/sample - loss: 0.1963 - accuracy: 0.8062 - val_loss: 0.1908 - val_accuracy: 0.8105\n",
      "Epoch 7/50\n",
      "1749/1749 [==============================] - ETA: 0s - loss: 0.1263 - accuracy: 0.87 - ETA: 0s - loss: 0.1951 - accuracy: 0.80 - ETA: 0s - loss: 0.1842 - accuracy: 0.81 - ETA: 0s - loss: 0.1993 - accuracy: 0.80 - 0s 128us/sample - loss: 0.1957 - accuracy: 0.8062 - val_loss: 0.1922 - val_accuracy: 0.8105\n",
      "Epoch 8/50\n",
      "1749/1749 [==============================] - ETA: 0s - loss: 0.2832 - accuracy: 0.71 - ETA: 0s - loss: 0.1873 - accuracy: 0.81 - ETA: 0s - loss: 0.1871 - accuracy: 0.81 - ETA: 0s - loss: 0.2011 - accuracy: 0.80 - ETA: 0s - loss: 0.1978 - accuracy: 0.80 - 0s 144us/sample - loss: 0.1960 - accuracy: 0.8062 - val_loss: 0.1935 - val_accuracy: 0.8105\n",
      "Epoch 9/50\n",
      "1749/1749 [==============================] - ETA: 0s - loss: 0.0990 - accuracy: 0.90 - ETA: 0s - loss: 0.1803 - accuracy: 0.82 - ETA: 0s - loss: 0.1910 - accuracy: 0.81 - ETA: 0s - loss: 0.1946 - accuracy: 0.80 - 0s 123us/sample - loss: 0.1951 - accuracy: 0.8062 - val_loss: 0.1902 - val_accuracy: 0.8105\n",
      "Epoch 10/50\n",
      "1749/1749 [==============================] - ETA: 0s - loss: 0.1882 - accuracy: 0.81 - ETA: 0s - loss: 0.1669 - accuracy: 0.83 - ETA: 0s - loss: 0.1803 - accuracy: 0.82 - ETA: 0s - loss: 0.1917 - accuracy: 0.80 - 0s 135us/sample - loss: 0.1946 - accuracy: 0.8062 - val_loss: 0.1909 - val_accuracy: 0.8105\n",
      "Train on 1749 samples, validate on 438 samples\n",
      "Epoch 1/50\n",
      "1749/1749 [==============================] - ETA: 1:27 - loss: 0.1250 - accuracy: 0.87 - ETA: 3s - loss: 0.2039 - accuracy: 0.8038 - ETA: 1s - loss: 0.2002 - accuracy: 0.80 - ETA: 0s - loss: 0.1976 - accuracy: 0.80 - 2s 1ms/sample - loss: 0.1976 - accuracy: 0.8062 - val_loss: 0.1934 - val_accuracy: 0.8105\n",
      "Epoch 2/50\n",
      "1749/1749 [==============================] - ETA: 0s - loss: 0.1914 - accuracy: 0.81 - ETA: 0s - loss: 0.1979 - accuracy: 0.80 - ETA: 0s - loss: 0.1880 - accuracy: 0.81 - ETA: 0s - loss: 0.1921 - accuracy: 0.80 - 0s 131us/sample - loss: 0.1953 - accuracy: 0.8062 - val_loss: 0.1926 - val_accuracy: 0.8105\n",
      "Epoch 3/50\n",
      "1749/1749 [==============================] - ETA: 0s - loss: 0.1906 - accuracy: 0.81 - ETA: 0s - loss: 0.1713 - accuracy: 0.83 - ETA: 0s - loss: 0.1890 - accuracy: 0.81 - ETA: 0s - loss: 0.1974 - accuracy: 0.80 - 0s 117us/sample - loss: 0.1951 - accuracy: 0.8062 - val_loss: 0.1904 - val_accuracy: 0.8105\n",
      "Epoch 4/50\n",
      "1749/1749 [==============================] - ETA: 0s - loss: 0.1884 - accuracy: 0.81 - ETA: 0s - loss: 0.2042 - accuracy: 0.79 - ETA: 0s - loss: 0.1990 - accuracy: 0.80 - ETA: 0s - loss: 0.1911 - accuracy: 0.80 - 0s 135us/sample - loss: 0.1949 - accuracy: 0.8062 - val_loss: 0.1918 - val_accuracy: 0.8105\n",
      "Epoch 5/50\n",
      "1749/1749 [==============================] - ETA: 0s - loss: 0.1273 - accuracy: 0.87 - ETA: 0s - loss: 0.1835 - accuracy: 0.81 - ETA: 0s - loss: 0.1702 - accuracy: 0.83 - ETA: 0s - loss: 0.1906 - accuracy: 0.81 - ETA: 0s - loss: 0.1961 - accuracy: 0.80 - 0s 160us/sample - loss: 0.1960 - accuracy: 0.8062 - val_loss: 0.1896 - val_accuracy: 0.8105\n",
      "Epoch 6/50\n",
      "1749/1749 [==============================] - ETA: 0s - loss: 0.2189 - accuracy: 0.78 - ETA: 0s - loss: 0.1829 - accuracy: 0.81 - ETA: 0s - loss: 0.1781 - accuracy: 0.82 - ETA: 0s - loss: 0.1961 - accuracy: 0.80 - 0s 138us/sample - loss: 0.1954 - accuracy: 0.8062 - val_loss: 0.1937 - val_accuracy: 0.8105\n",
      "Epoch 7/50\n",
      "1749/1749 [==============================] - ETA: 0s - loss: 0.1609 - accuracy: 0.84 - ETA: 0s - loss: 0.1931 - accuracy: 0.80 - ETA: 0s - loss: 0.1996 - accuracy: 0.80 - ETA: 0s - loss: 0.1989 - accuracy: 0.80 - 0s 113us/sample - loss: 0.1950 - accuracy: 0.8062 - val_loss: 0.1896 - val_accuracy: 0.8105\n",
      "Epoch 8/50\n",
      "1749/1749 [==============================] - ETA: 0s - loss: 0.1876 - accuracy: 0.81 - ETA: 0s - loss: 0.2129 - accuracy: 0.78 - ETA: 0s - loss: 0.2007 - accuracy: 0.79 - ETA: 0s - loss: 0.1896 - accuracy: 0.81 - ETA: 0s - loss: 0.1974 - accuracy: 0.80 - 0s 167us/sample - loss: 0.1945 - accuracy: 0.8062 - val_loss: 0.1911 - val_accuracy: 0.8105\n",
      "Epoch 9/50\n",
      "1749/1749 [==============================] - ETA: 0s - loss: 0.1266 - accuracy: 0.87 - ETA: 0s - loss: 0.1951 - accuracy: 0.80 - ETA: 0s - loss: 0.1976 - accuracy: 0.80 - ETA: 0s - loss: 0.1875 - accuracy: 0.81 - 0s 124us/sample - loss: 0.1945 - accuracy: 0.8062 - val_loss: 0.1912 - val_accuracy: 0.8105\n",
      "Epoch 10/50\n",
      "1749/1749 [==============================] - ETA: 0s - loss: 0.1581 - accuracy: 0.84 - ETA: 0s - loss: 0.1867 - accuracy: 0.81 - ETA: 0s - loss: 0.1910 - accuracy: 0.80 - ETA: 0s - loss: 0.1942 - accuracy: 0.80 - 0s 115us/sample - loss: 0.1946 - accuracy: 0.8062 - val_loss: 0.1908 - val_accuracy: 0.8105\n",
      "Epoch 11/50\n",
      "1749/1749 [==============================] - ETA: 0s - loss: 0.0955 - accuracy: 0.90 - ETA: 0s - loss: 0.2112 - accuracy: 0.78 - ETA: 0s - loss: 0.1936 - accuracy: 0.80 - ETA: 0s - loss: 0.1953 - accuracy: 0.80 - 0s 112us/sample - loss: 0.1946 - accuracy: 0.8062 - val_loss: 0.1896 - val_accuracy: 0.8105\n",
      "Epoch 12/50\n"
     ]
    },
    {
     "name": "stdout",
     "output_type": "stream",
     "text": [
      "1749/1749 [==============================] - ETA: 0s - loss: 0.0939 - accuracy: 0.90 - ETA: 0s - loss: 0.1846 - accuracy: 0.81 - ETA: 0s - loss: 0.1805 - accuracy: 0.82 - ETA: 0s - loss: 0.1913 - accuracy: 0.80 - 0s 117us/sample - loss: 0.1946 - accuracy: 0.8062 - val_loss: 0.1898 - val_accuracy: 0.8105\n"
     ]
    },
    {
     "data": {
      "text/html": [
       "<span style=\"color:#4527A0\"><h1 style=\"font-size:18px\">Trial complete</h1></span>"
      ],
      "text/plain": [
       "<IPython.core.display.HTML object>"
      ]
     },
     "metadata": {},
     "output_type": "display_data"
    },
    {
     "data": {
      "text/html": [
       "<span style=\"color:#4527A0\"><h1 style=\"font-size:18px\">Trial summary</h1></span>"
      ],
      "text/plain": [
       "<IPython.core.display.HTML object>"
      ]
     },
     "metadata": {},
     "output_type": "display_data"
    },
    {
     "data": {
      "text/html": [
       "<span style=\"color:cyan\"> |-Trial ID: 08883be8acbc01af84a428b9ecaa319a</span>"
      ],
      "text/plain": [
       "<IPython.core.display.HTML object>"
      ]
     },
     "metadata": {},
     "output_type": "display_data"
    },
    {
     "data": {
      "text/html": [
       "<span style=\"color:cyan\"> |-Score: 0.810502290725708</span>"
      ],
      "text/plain": [
       "<IPython.core.display.HTML object>"
      ]
     },
     "metadata": {},
     "output_type": "display_data"
    },
    {
     "data": {
      "text/html": [
       "<span style=\"color:cyan\"> |-Best step: 0</span>"
      ],
      "text/plain": [
       "<IPython.core.display.HTML object>"
      ]
     },
     "metadata": {},
     "output_type": "display_data"
    },
    {
     "data": {
      "text/html": [
       "<span style=\"color:#7E57C2\"><h2 style=\"font-size:16px\">Hyperparameters:</h2></span>"
      ],
      "text/plain": [
       "<IPython.core.display.HTML object>"
      ]
     },
     "metadata": {},
     "output_type": "display_data"
    },
    {
     "data": {
      "text/html": [
       "<span style=\"color:cyan\"> |-learning_rate: 0.01</span>"
      ],
      "text/plain": [
       "<IPython.core.display.HTML object>"
      ]
     },
     "metadata": {},
     "output_type": "display_data"
    },
    {
     "data": {
      "text/html": [
       "<span style=\"color:blue\"> |-num_layers: 19</span>"
      ],
      "text/plain": [
       "<IPython.core.display.HTML object>"
      ]
     },
     "metadata": {},
     "output_type": "display_data"
    },
    {
     "data": {
      "text/html": [
       "<span style=\"color:cyan\"> |-units_0: 288</span>"
      ],
      "text/plain": [
       "<IPython.core.display.HTML object>"
      ]
     },
     "metadata": {},
     "output_type": "display_data"
    },
    {
     "data": {
      "text/html": [
       "<span style=\"color:blue\"> |-units_1: 384</span>"
      ],
      "text/plain": [
       "<IPython.core.display.HTML object>"
      ]
     },
     "metadata": {},
     "output_type": "display_data"
    },
    {
     "data": {
      "text/html": [
       "<span style=\"color:cyan\"> |-units_10: 32</span>"
      ],
      "text/plain": [
       "<IPython.core.display.HTML object>"
      ]
     },
     "metadata": {},
     "output_type": "display_data"
    },
    {
     "data": {
      "text/html": [
       "<span style=\"color:blue\"> |-units_11: 32</span>"
      ],
      "text/plain": [
       "<IPython.core.display.HTML object>"
      ]
     },
     "metadata": {},
     "output_type": "display_data"
    },
    {
     "data": {
      "text/html": [
       "<span style=\"color:cyan\"> |-units_12: 32</span>"
      ],
      "text/plain": [
       "<IPython.core.display.HTML object>"
      ]
     },
     "metadata": {},
     "output_type": "display_data"
    },
    {
     "data": {
      "text/html": [
       "<span style=\"color:blue\"> |-units_13: 32</span>"
      ],
      "text/plain": [
       "<IPython.core.display.HTML object>"
      ]
     },
     "metadata": {},
     "output_type": "display_data"
    },
    {
     "data": {
      "text/html": [
       "<span style=\"color:cyan\"> |-units_14: 32</span>"
      ],
      "text/plain": [
       "<IPython.core.display.HTML object>"
      ]
     },
     "metadata": {},
     "output_type": "display_data"
    },
    {
     "data": {
      "text/html": [
       "<span style=\"color:blue\"> |-units_15: 32</span>"
      ],
      "text/plain": [
       "<IPython.core.display.HTML object>"
      ]
     },
     "metadata": {},
     "output_type": "display_data"
    },
    {
     "data": {
      "text/html": [
       "<span style=\"color:cyan\"> |-units_16: 32</span>"
      ],
      "text/plain": [
       "<IPython.core.display.HTML object>"
      ]
     },
     "metadata": {},
     "output_type": "display_data"
    },
    {
     "data": {
      "text/html": [
       "<span style=\"color:blue\"> |-units_17: 32</span>"
      ],
      "text/plain": [
       "<IPython.core.display.HTML object>"
      ]
     },
     "metadata": {},
     "output_type": "display_data"
    },
    {
     "data": {
      "text/html": [
       "<span style=\"color:cyan\"> |-units_18: 32</span>"
      ],
      "text/plain": [
       "<IPython.core.display.HTML object>"
      ]
     },
     "metadata": {},
     "output_type": "display_data"
    },
    {
     "data": {
      "text/html": [
       "<span style=\"color:blue\"> |-units_2: 32</span>"
      ],
      "text/plain": [
       "<IPython.core.display.HTML object>"
      ]
     },
     "metadata": {},
     "output_type": "display_data"
    },
    {
     "data": {
      "text/html": [
       "<span style=\"color:cyan\"> |-units_3: 32</span>"
      ],
      "text/plain": [
       "<IPython.core.display.HTML object>"
      ]
     },
     "metadata": {},
     "output_type": "display_data"
    },
    {
     "data": {
      "text/html": [
       "<span style=\"color:blue\"> |-units_4: 32</span>"
      ],
      "text/plain": [
       "<IPython.core.display.HTML object>"
      ]
     },
     "metadata": {},
     "output_type": "display_data"
    },
    {
     "data": {
      "text/html": [
       "<span style=\"color:cyan\"> |-units_5: 32</span>"
      ],
      "text/plain": [
       "<IPython.core.display.HTML object>"
      ]
     },
     "metadata": {},
     "output_type": "display_data"
    },
    {
     "data": {
      "text/html": [
       "<span style=\"color:blue\"> |-units_6: 32</span>"
      ],
      "text/plain": [
       "<IPython.core.display.HTML object>"
      ]
     },
     "metadata": {},
     "output_type": "display_data"
    },
    {
     "data": {
      "text/html": [
       "<span style=\"color:cyan\"> |-units_7: 32</span>"
      ],
      "text/plain": [
       "<IPython.core.display.HTML object>"
      ]
     },
     "metadata": {},
     "output_type": "display_data"
    },
    {
     "data": {
      "text/html": [
       "<span style=\"color:blue\"> |-units_8: 32</span>"
      ],
      "text/plain": [
       "<IPython.core.display.HTML object>"
      ]
     },
     "metadata": {},
     "output_type": "display_data"
    },
    {
     "data": {
      "text/html": [
       "<span style=\"color:cyan\"> |-units_9: 32</span>"
      ],
      "text/plain": [
       "<IPython.core.display.HTML object>"
      ]
     },
     "metadata": {},
     "output_type": "display_data"
    },
    {
     "name": "stdout",
     "output_type": "stream",
     "text": [
      "Train on 1749 samples, validate on 438 samples\n",
      "Epoch 1/50\n",
      "1749/1749 [==============================] - ETA: 59s - loss: 0.2812 - accuracy: 0.718 - ETA: 2s - loss: 0.2040 - accuracy: 0.798 - ETA: 0s - loss: 0.1918 - accuracy: 0.80 - ETA: 0s - loss: 0.1966 - accuracy: 0.80 - 2s 1ms/sample - loss: 0.1952 - accuracy: 0.8062 - val_loss: 0.1905 - val_accuracy: 0.8105\n",
      "Epoch 2/50\n",
      "1749/1749 [==============================] - ETA: 0s - loss: 0.2197 - accuracy: 0.78 - ETA: 0s - loss: 0.1834 - accuracy: 0.81 - ETA: 0s - loss: 0.1948 - accuracy: 0.80 - ETA: 0s - loss: 0.1971 - accuracy: 0.80 - 0s 139us/sample - loss: 0.1946 - accuracy: 0.8062 - val_loss: 0.1901 - val_accuracy: 0.8105\n",
      "Epoch 3/50\n",
      "1749/1749 [==============================] - ETA: 0s - loss: 0.1256 - accuracy: 0.87 - ETA: 0s - loss: 0.1792 - accuracy: 0.82 - ETA: 0s - loss: 0.1838 - accuracy: 0.81 - ETA: 0s - loss: 0.1866 - accuracy: 0.81 - ETA: 0s - loss: 0.1940 - accuracy: 0.80 - 0s 153us/sample - loss: 0.1944 - accuracy: 0.8062 - val_loss: 0.1904 - val_accuracy: 0.8105\n",
      "Epoch 4/50\n",
      "1749/1749 [==============================] - ETA: 0s - loss: 0.3759 - accuracy: 0.62 - ETA: 0s - loss: 0.1905 - accuracy: 0.80 - ETA: 0s - loss: 0.2002 - accuracy: 0.80 - ETA: 0s - loss: 0.1958 - accuracy: 0.80 - ETA: 0s - loss: 0.1954 - accuracy: 0.80 - 0s 143us/sample - loss: 0.1942 - accuracy: 0.8062 - val_loss: 0.1897 - val_accuracy: 0.8105\n",
      "Epoch 5/50\n",
      "1749/1749 [==============================] - ETA: 0s - loss: 0.1877 - accuracy: 0.81 - ETA: 0s - loss: 0.2026 - accuracy: 0.79 - ETA: 0s - loss: 0.1980 - accuracy: 0.80 - 0s 99us/sample - loss: 0.1942 - accuracy: 0.8062 - val_loss: 0.1902 - val_accuracy: 0.8105\n",
      "Epoch 6/50\n",
      "1749/1749 [==============================] - ETA: 0s - loss: 0.0947 - accuracy: 0.90 - ETA: 0s - loss: 0.1819 - accuracy: 0.81 - ETA: 0s - loss: 0.1863 - accuracy: 0.81 - 0s 104us/sample - loss: 0.1942 - accuracy: 0.8062 - val_loss: 0.1902 - val_accuracy: 0.8105\n",
      "Epoch 7/50\n",
      "1749/1749 [==============================] - ETA: 0s - loss: 0.1570 - accuracy: 0.84 - ETA: 0s - loss: 0.1751 - accuracy: 0.82 - ETA: 0s - loss: 0.1821 - accuracy: 0.81 - ETA: 0s - loss: 0.1870 - accuracy: 0.81 - ETA: 0s - loss: 0.1887 - accuracy: 0.81 - 0s 161us/sample - loss: 0.1943 - accuracy: 0.8062 - val_loss: 0.1899 - val_accuracy: 0.8105\n",
      "Epoch 8/50\n",
      "1749/1749 [==============================] - ETA: 0s - loss: 0.1567 - accuracy: 0.84 - ETA: 0s - loss: 0.1879 - accuracy: 0.81 - ETA: 0s - loss: 0.1937 - accuracy: 0.80 - 0s 105us/sample - loss: 0.1941 - accuracy: 0.8062 - val_loss: 0.1896 - val_accuracy: 0.8105\n",
      "Epoch 9/50\n",
      "1749/1749 [==============================] - ETA: 0s - loss: 0.2500 - accuracy: 0.75 - ETA: 0s - loss: 0.1892 - accuracy: 0.81 - ETA: 0s - loss: 0.1983 - accuracy: 0.80 - 0s 105us/sample - loss: 0.1940 - accuracy: 0.8062 - val_loss: 0.1896 - val_accuracy: 0.8105\n",
      "Epoch 10/50\n",
      "1749/1749 [==============================] - ETA: 0s - loss: 0.1251 - accuracy: 0.87 - ETA: 0s - loss: 0.2107 - accuracy: 0.78 - ETA: 0s - loss: 0.1899 - accuracy: 0.81 - ETA: 0s - loss: 0.1957 - accuracy: 0.80 - 0s 128us/sample - loss: 0.1941 - accuracy: 0.8062 - val_loss: 0.1895 - val_accuracy: 0.8105\n",
      "Epoch 11/50\n",
      "1749/1749 [==============================] - ETA: 0s - loss: 0.1563 - accuracy: 0.84 - ETA: 0s - loss: 0.1751 - accuracy: 0.82 - ETA: 0s - loss: 0.1852 - accuracy: 0.81 - 0s 106us/sample - loss: 0.1940 - accuracy: 0.8062 - val_loss: 0.1895 - val_accuracy: 0.8105\n",
      "Epoch 12/50\n",
      "1749/1749 [==============================] - ETA: 0s - loss: 0.3125 - accuracy: 0.68 - ETA: 0s - loss: 0.2040 - accuracy: 0.79 - ETA: 0s - loss: 0.1954 - accuracy: 0.80 - ETA: 0s - loss: 0.1940 - accuracy: 0.80 - 0s 111us/sample - loss: 0.1940 - accuracy: 0.8062 - val_loss: 0.1897 - val_accuracy: 0.8105\n",
      "Epoch 13/50\n",
      "1749/1749 [==============================] - ETA: 0s - loss: 0.1565 - accuracy: 0.84 - ETA: 0s - loss: 0.2007 - accuracy: 0.79 - ETA: 0s - loss: 0.1952 - accuracy: 0.80 - 0s 113us/sample - loss: 0.1939 - accuracy: 0.8062 - val_loss: 0.1895 - val_accuracy: 0.8105\n",
      "Epoch 14/50\n",
      "1749/1749 [==============================] - ETA: 0s - loss: 0.1563 - accuracy: 0.84 - ETA: 0s - loss: 0.1759 - accuracy: 0.82 - ETA: 0s - loss: 0.1793 - accuracy: 0.82 - ETA: 0s - loss: 0.1883 - accuracy: 0.81 - 0s 124us/sample - loss: 0.1939 - accuracy: 0.8062 - val_loss: 0.1896 - val_accuracy: 0.8105\n",
      "Epoch 15/50\n",
      "1749/1749 [==============================] - ETA: 0s - loss: 0.2501 - accuracy: 0.75 - ETA: 0s - loss: 0.1939 - accuracy: 0.80 - ETA: 0s - loss: 0.1877 - accuracy: 0.81 - ETA: 0s - loss: 0.1877 - accuracy: 0.81 - 0s 121us/sample - loss: 0.1940 - accuracy: 0.8062 - val_loss: 0.1897 - val_accuracy: 0.8105\n",
      "Train on 1749 samples, validate on 438 samples\n",
      "Epoch 1/50\n",
      "1749/1749 [==============================] - ETA: 1:01 - loss: 0.2500 - accuracy: 0.75 - ETA: 2s - loss: 0.2180 - accuracy: 0.7844 - ETA: 0s - loss: 0.2004 - accuracy: 0.80 - ETA: 0s - loss: 0.1975 - accuracy: 0.80 - 2s 883us/sample - loss: 0.1956 - accuracy: 0.8062 - val_loss: 0.1903 - val_accuracy: 0.8105\n",
      "Epoch 2/50\n",
      "1749/1749 [==============================] - ETA: 0s - loss: 0.1883 - accuracy: 0.81 - ETA: 0s - loss: 0.1721 - accuracy: 0.82 - ETA: 0s - loss: 0.1850 - accuracy: 0.81 - 0s 105us/sample - loss: 0.1947 - accuracy: 0.8062 - val_loss: 0.1903 - val_accuracy: 0.8105\n",
      "Epoch 3/50\n",
      "1749/1749 [==============================] - ETA: 0s - loss: 0.1571 - accuracy: 0.84 - ETA: 0s - loss: 0.2020 - accuracy: 0.79 - ETA: 0s - loss: 0.1891 - accuracy: 0.81 - ETA: 0s - loss: 0.1930 - accuracy: 0.80 - 0s 134us/sample - loss: 0.1949 - accuracy: 0.8062 - val_loss: 0.1913 - val_accuracy: 0.8105\n",
      "Epoch 4/50\n",
      "1749/1749 [==============================] - ETA: 0s - loss: 0.1272 - accuracy: 0.87 - ETA: 0s - loss: 0.1851 - accuracy: 0.81 - ETA: 0s - loss: 0.1859 - accuracy: 0.81 - ETA: 0s - loss: 0.1949 - accuracy: 0.80 - 0s 119us/sample - loss: 0.1950 - accuracy: 0.8062 - val_loss: 0.1903 - val_accuracy: 0.8105\n",
      "Epoch 5/50\n",
      "1749/1749 [==============================] - ETA: 0s - loss: 0.1258 - accuracy: 0.87 - ETA: 0s - loss: 0.1957 - accuracy: 0.80 - ETA: 0s - loss: 0.1878 - accuracy: 0.81 - 0s 104us/sample - loss: 0.1941 - accuracy: 0.8062 - val_loss: 0.1901 - val_accuracy: 0.8105\n",
      "Epoch 6/50\n",
      "1749/1749 [==============================] - ETA: 0s - loss: 0.2193 - accuracy: 0.78 - ETA: 0s - loss: 0.1982 - accuracy: 0.80 - ETA: 0s - loss: 0.1869 - accuracy: 0.81 - ETA: 0s - loss: 0.1955 - accuracy: 0.80 - 0s 126us/sample - loss: 0.1942 - accuracy: 0.8062 - val_loss: 0.1904 - val_accuracy: 0.8105\n",
      "Epoch 7/50\n",
      "1749/1749 [==============================] - ETA: 0s - loss: 0.2509 - accuracy: 0.75 - ETA: 0s - loss: 0.1864 - accuracy: 0.81 - ETA: 0s - loss: 0.2049 - accuracy: 0.79 - 0s 106us/sample - loss: 0.1942 - accuracy: 0.8062 - val_loss: 0.1896 - val_accuracy: 0.8105\n",
      "Epoch 8/50\n",
      "1749/1749 [==============================] - ETA: 0s - loss: 0.2188 - accuracy: 0.78 - ETA: 0s - loss: 0.1484 - accuracy: 0.85 - ETA: 0s - loss: 0.1818 - accuracy: 0.81 - 0s 105us/sample - loss: 0.1940 - accuracy: 0.8062 - val_loss: 0.1901 - val_accuracy: 0.8105\n",
      "Epoch 9/50\n",
      "1749/1749 [==============================] - ETA: 0s - loss: 0.2506 - accuracy: 0.75 - ETA: 0s - loss: 0.1666 - accuracy: 0.83 - ETA: 0s - loss: 0.1816 - accuracy: 0.81 - ETA: 0s - loss: 0.1872 - accuracy: 0.81 - 0s 124us/sample - loss: 0.1941 - accuracy: 0.8062 - val_loss: 0.1896 - val_accuracy: 0.8105\n",
      "Epoch 10/50\n",
      "1749/1749 [==============================] - ETA: 0s - loss: 0.2813 - accuracy: 0.71 - ETA: 0s - loss: 0.2105 - accuracy: 0.78 - ETA: 0s - loss: 0.1998 - accuracy: 0.80 - ETA: 0s - loss: 0.1939 - accuracy: 0.80 - 0s 120us/sample - loss: 0.1940 - accuracy: 0.8062 - val_loss: 0.1896 - val_accuracy: 0.8105\n",
      "Epoch 11/50\n",
      "1749/1749 [==============================] - ETA: 0s - loss: 0.2501 - accuracy: 0.75 - ETA: 0s - loss: 0.1974 - accuracy: 0.80 - ETA: 0s - loss: 0.1933 - accuracy: 0.80 - ETA: 0s - loss: 0.1925 - accuracy: 0.80 - 0s 123us/sample - loss: 0.1940 - accuracy: 0.8062 - val_loss: 0.1898 - val_accuracy: 0.8105\n",
      "Epoch 12/50\n"
     ]
    },
    {
     "name": "stdout",
     "output_type": "stream",
     "text": [
      "1749/1749 [==============================] - ETA: 0s - loss: 0.2190 - accuracy: 0.78 - ETA: 0s - loss: 0.1964 - accuracy: 0.80 - ETA: 0s - loss: 0.2052 - accuracy: 0.79 - ETA: 0s - loss: 0.1958 - accuracy: 0.80 - 0s 135us/sample - loss: 0.1940 - accuracy: 0.8062 - val_loss: 0.1895 - val_accuracy: 0.8105\n",
      "Epoch 13/50\n",
      "1749/1749 [==============================] - ETA: 0s - loss: 0.1563 - accuracy: 0.84 - ETA: 0s - loss: 0.2032 - accuracy: 0.79 - ETA: 0s - loss: 0.1912 - accuracy: 0.80 - ETA: 0s - loss: 0.1917 - accuracy: 0.80 - 0s 112us/sample - loss: 0.1940 - accuracy: 0.8062 - val_loss: 0.1898 - val_accuracy: 0.8105\n",
      "Epoch 14/50\n",
      "1749/1749 [==============================] - ETA: 0s - loss: 0.1566 - accuracy: 0.84 - ETA: 0s - loss: 0.1862 - accuracy: 0.81 - ETA: 0s - loss: 0.2038 - accuracy: 0.79 - ETA: 0s - loss: 0.1946 - accuracy: 0.80 - 0s 117us/sample - loss: 0.1940 - accuracy: 0.8062 - val_loss: 0.1897 - val_accuracy: 0.8105\n",
      "Epoch 15/50\n",
      "1749/1749 [==============================] - ETA: 0s - loss: 0.3751 - accuracy: 0.62 - ETA: 0s - loss: 0.1935 - accuracy: 0.80 - ETA: 0s - loss: 0.1947 - accuracy: 0.80 - ETA: 0s - loss: 0.1924 - accuracy: 0.80 - 0s 142us/sample - loss: 0.1939 - accuracy: 0.8062 - val_loss: 0.1896 - val_accuracy: 0.8105\n",
      "Epoch 16/50\n",
      "1749/1749 [==============================] - ETA: 0s - loss: 0.3126 - accuracy: 0.68 - ETA: 0s - loss: 0.1831 - accuracy: 0.81 - ETA: 0s - loss: 0.1856 - accuracy: 0.81 - ETA: 0s - loss: 0.1895 - accuracy: 0.81 - 0s 125us/sample - loss: 0.1939 - accuracy: 0.8062 - val_loss: 0.1896 - val_accuracy: 0.8105\n",
      "Epoch 17/50\n",
      "1749/1749 [==============================] - ETA: 0s - loss: 0.2813 - accuracy: 0.71 - ETA: 0s - loss: 0.1876 - accuracy: 0.81 - ETA: 0s - loss: 0.1903 - accuracy: 0.80 - ETA: 0s - loss: 0.1946 - accuracy: 0.80 - 0s 113us/sample - loss: 0.1940 - accuracy: 0.8062 - val_loss: 0.1895 - val_accuracy: 0.8105\n",
      "Train on 1749 samples, validate on 438 samples\n",
      "Epoch 1/50\n",
      "1749/1749 [==============================] - ETA: 1:11 - loss: 0.0938 - accuracy: 0.90 - ETA: 3s - loss: 0.1913 - accuracy: 0.8105 - ETA: 1s - loss: 0.1992 - accuracy: 0.80 - ETA: 0s - loss: 0.1911 - accuracy: 0.81 - ETA: 0s - loss: 0.1964 - accuracy: 0.80 - 2s 1ms/sample - loss: 0.1952 - accuracy: 0.8062 - val_loss: 0.1917 - val_accuracy: 0.8105\n",
      "Epoch 2/50\n",
      "1749/1749 [==============================] - ETA: 0s - loss: 0.0647 - accuracy: 0.93 - ETA: 0s - loss: 0.1917 - accuracy: 0.81 - ETA: 0s - loss: 0.2023 - accuracy: 0.80 - ETA: 0s - loss: 0.1957 - accuracy: 0.80 - 0s 118us/sample - loss: 0.1962 - accuracy: 0.8062 - val_loss: 0.1905 - val_accuracy: 0.8105\n",
      "Epoch 3/50\n",
      "1749/1749 [==============================] - ETA: 0s - loss: 0.1885 - accuracy: 0.81 - ETA: 0s - loss: 0.2037 - accuracy: 0.79 - ETA: 0s - loss: 0.1977 - accuracy: 0.80 - ETA: 0s - loss: 0.1939 - accuracy: 0.80 - ETA: 0s - loss: 0.1949 - accuracy: 0.80 - 0s 151us/sample - loss: 0.1946 - accuracy: 0.8062 - val_loss: 0.1899 - val_accuracy: 0.8105\n",
      "Epoch 4/50\n",
      "1749/1749 [==============================] - ETA: 0s - loss: 0.2504 - accuracy: 0.75 - ETA: 0s - loss: 0.2194 - accuracy: 0.78 - ETA: 0s - loss: 0.2282 - accuracy: 0.77 - ETA: 0s - loss: 0.2126 - accuracy: 0.78 - ETA: 0s - loss: 0.1966 - accuracy: 0.80 - 0s 153us/sample - loss: 0.1943 - accuracy: 0.8062 - val_loss: 0.1902 - val_accuracy: 0.8105\n",
      "Epoch 5/50\n",
      "1749/1749 [==============================] - ETA: 0s - loss: 0.3753 - accuracy: 0.62 - ETA: 0s - loss: 0.1907 - accuracy: 0.81 - ETA: 0s - loss: 0.1907 - accuracy: 0.81 - ETA: 0s - loss: 0.1891 - accuracy: 0.81 - 0s 137us/sample - loss: 0.1946 - accuracy: 0.8062 - val_loss: 0.1896 - val_accuracy: 0.8105\n",
      "Epoch 6/50\n",
      "1749/1749 [==============================] - ETA: 0s - loss: 0.1564 - accuracy: 0.84 - ETA: 0s - loss: 0.2189 - accuracy: 0.78 - ETA: 0s - loss: 0.1975 - accuracy: 0.80 - ETA: 0s - loss: 0.1987 - accuracy: 0.80 - 0s 135us/sample - loss: 0.1941 - accuracy: 0.8062 - val_loss: 0.1901 - val_accuracy: 0.8105\n",
      "Epoch 7/50\n",
      "1749/1749 [==============================] - ETA: 0s - loss: 0.2193 - accuracy: 0.78 - ETA: 0s - loss: 0.2093 - accuracy: 0.79 - ETA: 0s - loss: 0.1912 - accuracy: 0.80 - 0s 111us/sample - loss: 0.1944 - accuracy: 0.8062 - val_loss: 0.1895 - val_accuracy: 0.8105\n",
      "Epoch 8/50\n",
      "1749/1749 [==============================] - ETA: 0s - loss: 0.2813 - accuracy: 0.71 - ETA: 0s - loss: 0.1876 - accuracy: 0.81 - ETA: 0s - loss: 0.1938 - accuracy: 0.80 - ETA: 0s - loss: 0.1984 - accuracy: 0.80 - 0s 115us/sample - loss: 0.1941 - accuracy: 0.8062 - val_loss: 0.1902 - val_accuracy: 0.8105\n",
      "Epoch 9/50\n",
      "1749/1749 [==============================] - ETA: 0s - loss: 0.1570 - accuracy: 0.84 - ETA: 0s - loss: 0.1863 - accuracy: 0.81 - ETA: 0s - loss: 0.1985 - accuracy: 0.80 - 0s 96us/sample - loss: 0.1943 - accuracy: 0.8062 - val_loss: 0.1906 - val_accuracy: 0.8105\n",
      "Epoch 10/50\n",
      "1749/1749 [==============================] - ETA: 0s - loss: 0.1886 - accuracy: 0.81 - ETA: 0s - loss: 0.1807 - accuracy: 0.81 - ETA: 0s - loss: 0.1900 - accuracy: 0.81 - 0s 95us/sample - loss: 0.1940 - accuracy: 0.8062 - val_loss: 0.1897 - val_accuracy: 0.8105\n",
      "Epoch 11/50\n",
      "1749/1749 [==============================] - ETA: 0s - loss: 0.0940 - accuracy: 0.90 - ETA: 0s - loss: 0.1937 - accuracy: 0.80 - ETA: 0s - loss: 0.2008 - accuracy: 0.79 - 0s 98us/sample - loss: 0.1941 - accuracy: 0.8062 - val_loss: 0.1899 - val_accuracy: 0.8105\n",
      "Epoch 12/50\n",
      "1749/1749 [==============================] - ETA: 0s - loss: 0.1567 - accuracy: 0.84 - ETA: 0s - loss: 0.2049 - accuracy: 0.79 - ETA: 0s - loss: 0.2080 - accuracy: 0.79 - 0s 99us/sample - loss: 0.1940 - accuracy: 0.8062 - val_loss: 0.1899 - val_accuracy: 0.8105\n",
      "Train on 1749 samples, validate on 438 samples\n",
      "Epoch 1/50\n",
      "1749/1749 [==============================] - ETA: 1:10 - loss: 0.2500 - accuracy: 0.75 - ETA: 3s - loss: 0.2092 - accuracy: 0.7924 - ETA: 1s - loss: 0.1933 - accuracy: 0.80 - ETA: 0s - loss: 0.1985 - accuracy: 0.80 - ETA: 0s - loss: 0.1962 - accuracy: 0.80 - 2s 1ms/sample - loss: 0.1949 - accuracy: 0.8062 - val_loss: 0.1919 - val_accuracy: 0.8105\n",
      "Epoch 2/50\n",
      "1749/1749 [==============================] - ETA: 0s - loss: 0.1589 - accuracy: 0.84 - ETA: 0s - loss: 0.2059 - accuracy: 0.79 - ETA: 0s - loss: 0.1966 - accuracy: 0.80 - 0s 104us/sample - loss: 0.1951 - accuracy: 0.8062 - val_loss: 0.1905 - val_accuracy: 0.8105\n",
      "Epoch 3/50\n",
      "1749/1749 [==============================] - ETA: 0s - loss: 0.2196 - accuracy: 0.78 - ETA: 0s - loss: 0.2002 - accuracy: 0.80 - ETA: 0s - loss: 0.1971 - accuracy: 0.80 - ETA: 0s - loss: 0.1922 - accuracy: 0.80 - 0s 114us/sample - loss: 0.1944 - accuracy: 0.8062 - val_loss: 0.1903 - val_accuracy: 0.8105\n",
      "Epoch 4/50\n",
      "1749/1749 [==============================] - ETA: 0s - loss: 0.1572 - accuracy: 0.84 - ETA: 0s - loss: 0.2404 - accuracy: 0.75 - ETA: 0s - loss: 0.2006 - accuracy: 0.79 - 0s 105us/sample - loss: 0.1942 - accuracy: 0.8062 - val_loss: 0.1898 - val_accuracy: 0.8105\n",
      "Epoch 5/50\n",
      "1749/1749 [==============================] - ETA: 0s - loss: 0.1878 - accuracy: 0.81 - ETA: 0s - loss: 0.2059 - accuracy: 0.79 - ETA: 0s - loss: 0.1945 - accuracy: 0.80 - 0s 104us/sample - loss: 0.1944 - accuracy: 0.8062 - val_loss: 0.1895 - val_accuracy: 0.8105\n",
      "Epoch 6/50\n",
      "1749/1749 [==============================] - ETA: 0s - loss: 0.2813 - accuracy: 0.71 - ETA: 0s - loss: 0.2049 - accuracy: 0.79 - ETA: 0s - loss: 0.1887 - accuracy: 0.81 - 0s 104us/sample - loss: 0.1947 - accuracy: 0.8062 - val_loss: 0.1895 - val_accuracy: 0.8105\n",
      "Epoch 7/50\n",
      "1749/1749 [==============================] - ETA: 0s - loss: 0.1875 - accuracy: 0.81 - ETA: 0s - loss: 0.1860 - accuracy: 0.81 - ETA: 0s - loss: 0.1851 - accuracy: 0.81 - ETA: 0s - loss: 0.1813 - accuracy: 0.81 - 0s 124us/sample - loss: 0.1943 - accuracy: 0.8062 - val_loss: 0.1895 - val_accuracy: 0.8105\n",
      "Epoch 8/50\n",
      "1749/1749 [==============================] - ETA: 0s - loss: 0.1250 - accuracy: 0.87 - ETA: 0s - loss: 0.1877 - accuracy: 0.81 - ETA: 0s - loss: 0.1869 - accuracy: 0.81 - 0s 104us/sample - loss: 0.1941 - accuracy: 0.8062 - val_loss: 0.1900 - val_accuracy: 0.8105\n",
      "Epoch 9/50\n"
     ]
    },
    {
     "name": "stdout",
     "output_type": "stream",
     "text": [
      "1749/1749 [==============================] - ETA: 0s - loss: 0.1568 - accuracy: 0.84 - ETA: 0s - loss: 0.1974 - accuracy: 0.80 - ETA: 0s - loss: 0.1978 - accuracy: 0.80 - 0s 104us/sample - loss: 0.1942 - accuracy: 0.8062 - val_loss: 0.1897 - val_accuracy: 0.8105\n",
      "Epoch 10/50\n",
      "1749/1749 [==============================] - ETA: 0s - loss: 0.2814 - accuracy: 0.71 - ETA: 0s - loss: 0.1894 - accuracy: 0.81 - ETA: 0s - loss: 0.1887 - accuracy: 0.81 - 0s 104us/sample - loss: 0.1942 - accuracy: 0.8062 - val_loss: 0.1896 - val_accuracy: 0.8105\n",
      "Epoch 11/50\n",
      "1749/1749 [==============================] - ETA: 0s - loss: 0.1564 - accuracy: 0.84 - ETA: 0s - loss: 0.1925 - accuracy: 0.80 - ETA: 0s - loss: 0.1925 - accuracy: 0.80 - 0s 105us/sample - loss: 0.1940 - accuracy: 0.8062 - val_loss: 0.1897 - val_accuracy: 0.8105\n",
      "Epoch 12/50\n",
      "1749/1749 [==============================] - ETA: 0s - loss: 0.1253 - accuracy: 0.87 - ETA: 0s - loss: 0.1861 - accuracy: 0.81 - ETA: 0s - loss: 0.1965 - accuracy: 0.80 - 0s 103us/sample - loss: 0.1940 - accuracy: 0.8062 - val_loss: 0.1897 - val_accuracy: 0.8105\n"
     ]
    },
    {
     "data": {
      "text/html": [
       "<span style=\"color:#4527A0\"><h1 style=\"font-size:18px\">Trial complete</h1></span>"
      ],
      "text/plain": [
       "<IPython.core.display.HTML object>"
      ]
     },
     "metadata": {},
     "output_type": "display_data"
    },
    {
     "data": {
      "text/html": [
       "<span style=\"color:#4527A0\"><h1 style=\"font-size:18px\">Trial summary</h1></span>"
      ],
      "text/plain": [
       "<IPython.core.display.HTML object>"
      ]
     },
     "metadata": {},
     "output_type": "display_data"
    },
    {
     "data": {
      "text/html": [
       "<span style=\"color:cyan\"> |-Trial ID: ca30971bebafb4e497fd59280dca54ba</span>"
      ],
      "text/plain": [
       "<IPython.core.display.HTML object>"
      ]
     },
     "metadata": {},
     "output_type": "display_data"
    },
    {
     "data": {
      "text/html": [
       "<span style=\"color:cyan\"> |-Score: 0.810502290725708</span>"
      ],
      "text/plain": [
       "<IPython.core.display.HTML object>"
      ]
     },
     "metadata": {},
     "output_type": "display_data"
    },
    {
     "data": {
      "text/html": [
       "<span style=\"color:cyan\"> |-Best step: 0</span>"
      ],
      "text/plain": [
       "<IPython.core.display.HTML object>"
      ]
     },
     "metadata": {},
     "output_type": "display_data"
    },
    {
     "data": {
      "text/html": [
       "<span style=\"color:#7E57C2\"><h2 style=\"font-size:16px\">Hyperparameters:</h2></span>"
      ],
      "text/plain": [
       "<IPython.core.display.HTML object>"
      ]
     },
     "metadata": {},
     "output_type": "display_data"
    },
    {
     "data": {
      "text/html": [
       "<span style=\"color:cyan\"> |-learning_rate: 0.001</span>"
      ],
      "text/plain": [
       "<IPython.core.display.HTML object>"
      ]
     },
     "metadata": {},
     "output_type": "display_data"
    },
    {
     "data": {
      "text/html": [
       "<span style=\"color:blue\"> |-num_layers: 11</span>"
      ],
      "text/plain": [
       "<IPython.core.display.HTML object>"
      ]
     },
     "metadata": {},
     "output_type": "display_data"
    },
    {
     "data": {
      "text/html": [
       "<span style=\"color:cyan\"> |-units_0: 64</span>"
      ],
      "text/plain": [
       "<IPython.core.display.HTML object>"
      ]
     },
     "metadata": {},
     "output_type": "display_data"
    },
    {
     "data": {
      "text/html": [
       "<span style=\"color:blue\"> |-units_1: 320</span>"
      ],
      "text/plain": [
       "<IPython.core.display.HTML object>"
      ]
     },
     "metadata": {},
     "output_type": "display_data"
    },
    {
     "data": {
      "text/html": [
       "<span style=\"color:cyan\"> |-units_10: 288</span>"
      ],
      "text/plain": [
       "<IPython.core.display.HTML object>"
      ]
     },
     "metadata": {},
     "output_type": "display_data"
    },
    {
     "data": {
      "text/html": [
       "<span style=\"color:blue\"> |-units_11: 480</span>"
      ],
      "text/plain": [
       "<IPython.core.display.HTML object>"
      ]
     },
     "metadata": {},
     "output_type": "display_data"
    },
    {
     "data": {
      "text/html": [
       "<span style=\"color:cyan\"> |-units_12: 448</span>"
      ],
      "text/plain": [
       "<IPython.core.display.HTML object>"
      ]
     },
     "metadata": {},
     "output_type": "display_data"
    },
    {
     "data": {
      "text/html": [
       "<span style=\"color:blue\"> |-units_13: 512</span>"
      ],
      "text/plain": [
       "<IPython.core.display.HTML object>"
      ]
     },
     "metadata": {},
     "output_type": "display_data"
    },
    {
     "data": {
      "text/html": [
       "<span style=\"color:cyan\"> |-units_14: 224</span>"
      ],
      "text/plain": [
       "<IPython.core.display.HTML object>"
      ]
     },
     "metadata": {},
     "output_type": "display_data"
    },
    {
     "data": {
      "text/html": [
       "<span style=\"color:blue\"> |-units_15: 96</span>"
      ],
      "text/plain": [
       "<IPython.core.display.HTML object>"
      ]
     },
     "metadata": {},
     "output_type": "display_data"
    },
    {
     "data": {
      "text/html": [
       "<span style=\"color:cyan\"> |-units_16: 256</span>"
      ],
      "text/plain": [
       "<IPython.core.display.HTML object>"
      ]
     },
     "metadata": {},
     "output_type": "display_data"
    },
    {
     "data": {
      "text/html": [
       "<span style=\"color:blue\"> |-units_17: 256</span>"
      ],
      "text/plain": [
       "<IPython.core.display.HTML object>"
      ]
     },
     "metadata": {},
     "output_type": "display_data"
    },
    {
     "data": {
      "text/html": [
       "<span style=\"color:cyan\"> |-units_18: 480</span>"
      ],
      "text/plain": [
       "<IPython.core.display.HTML object>"
      ]
     },
     "metadata": {},
     "output_type": "display_data"
    },
    {
     "data": {
      "text/html": [
       "<span style=\"color:blue\"> |-units_2: 448</span>"
      ],
      "text/plain": [
       "<IPython.core.display.HTML object>"
      ]
     },
     "metadata": {},
     "output_type": "display_data"
    },
    {
     "data": {
      "text/html": [
       "<span style=\"color:cyan\"> |-units_3: 96</span>"
      ],
      "text/plain": [
       "<IPython.core.display.HTML object>"
      ]
     },
     "metadata": {},
     "output_type": "display_data"
    },
    {
     "data": {
      "text/html": [
       "<span style=\"color:blue\"> |-units_4: 448</span>"
      ],
      "text/plain": [
       "<IPython.core.display.HTML object>"
      ]
     },
     "metadata": {},
     "output_type": "display_data"
    },
    {
     "data": {
      "text/html": [
       "<span style=\"color:cyan\"> |-units_5: 384</span>"
      ],
      "text/plain": [
       "<IPython.core.display.HTML object>"
      ]
     },
     "metadata": {},
     "output_type": "display_data"
    },
    {
     "data": {
      "text/html": [
       "<span style=\"color:blue\"> |-units_6: 96</span>"
      ],
      "text/plain": [
       "<IPython.core.display.HTML object>"
      ]
     },
     "metadata": {},
     "output_type": "display_data"
    },
    {
     "data": {
      "text/html": [
       "<span style=\"color:cyan\"> |-units_7: 288</span>"
      ],
      "text/plain": [
       "<IPython.core.display.HTML object>"
      ]
     },
     "metadata": {},
     "output_type": "display_data"
    },
    {
     "data": {
      "text/html": [
       "<span style=\"color:blue\"> |-units_8: 96</span>"
      ],
      "text/plain": [
       "<IPython.core.display.HTML object>"
      ]
     },
     "metadata": {},
     "output_type": "display_data"
    },
    {
     "data": {
      "text/html": [
       "<span style=\"color:cyan\"> |-units_9: 96</span>"
      ],
      "text/plain": [
       "<IPython.core.display.HTML object>"
      ]
     },
     "metadata": {},
     "output_type": "display_data"
    },
    {
     "name": "stdout",
     "output_type": "stream",
     "text": [
      "Train on 1749 samples, validate on 438 samples\n",
      "Epoch 1/50\n",
      "1749/1749 [==============================] - ETA: 34s - loss: 0.2188 - accuracy: 0.781 - ETA: 0s - loss: 0.1877 - accuracy: 0.812 - ETA: 0s - loss: 0.1955 - accuracy: 0.80 - 1s 620us/sample - loss: 0.1940 - accuracy: 0.8062 - val_loss: 0.1896 - val_accuracy: 0.8105\n",
      "Epoch 2/50\n",
      "1749/1749 [==============================] - ETA: 0s - loss: 0.2501 - accuracy: 0.75 - ETA: 0s - loss: 0.1876 - accuracy: 0.81 - ETA: 0s - loss: 0.1868 - accuracy: 0.81 - 0s 104us/sample - loss: 0.1939 - accuracy: 0.8062 - val_loss: 0.1896 - val_accuracy: 0.8105\n",
      "Epoch 3/50\n",
      "1749/1749 [==============================] - ETA: 0s - loss: 0.1251 - accuracy: 0.87 - ETA: 0s - loss: 0.1888 - accuracy: 0.81 - 0s 73us/sample - loss: 0.1939 - accuracy: 0.8062 - val_loss: 0.1896 - val_accuracy: 0.8105\n",
      "Epoch 4/50\n",
      "1749/1749 [==============================] - ETA: 0s - loss: 0.0938 - accuracy: 0.90 - ETA: 0s - loss: 0.1969 - accuracy: 0.80 - 0s 68us/sample - loss: 0.1939 - accuracy: 0.8062 - val_loss: 0.1896 - val_accuracy: 0.8105\n",
      "Epoch 5/50\n",
      "1749/1749 [==============================] - ETA: 0s - loss: 0.3126 - accuracy: 0.68 - ETA: 0s - loss: 0.1822 - accuracy: 0.81 - 0s 78us/sample - loss: 0.1939 - accuracy: 0.8062 - val_loss: 0.1895 - val_accuracy: 0.8105\n",
      "Epoch 6/50\n",
      "1749/1749 [==============================] - ETA: 0s - loss: 0.0938 - accuracy: 0.90 - ETA: 0s - loss: 0.2039 - accuracy: 0.79 - ETA: 0s - loss: 0.1904 - accuracy: 0.80 - 0s 90us/sample - loss: 0.1939 - accuracy: 0.8062 - val_loss: 0.1895 - val_accuracy: 0.8105\n",
      "Epoch 7/50\n",
      "1749/1749 [==============================] - ETA: 0s - loss: 0.1250 - accuracy: 0.87 - ETA: 0s - loss: 0.1929 - accuracy: 0.80 - 0s 71us/sample - loss: 0.1939 - accuracy: 0.8062 - val_loss: 0.1895 - val_accuracy: 0.8105\n",
      "Epoch 8/50\n",
      "1749/1749 [==============================] - ETA: 0s - loss: 0.3125 - accuracy: 0.68 - ETA: 0s - loss: 0.1875 - accuracy: 0.81 - 0s 71us/sample - loss: 0.1939 - accuracy: 0.8062 - val_loss: 0.1895 - val_accuracy: 0.8105\n",
      "Epoch 9/50\n",
      "1749/1749 [==============================] - ETA: 0s - loss: 0.2813 - accuracy: 0.71 - ETA: 0s - loss: 0.1940 - accuracy: 0.80 - 0s 70us/sample - loss: 0.1939 - accuracy: 0.8062 - val_loss: 0.1894 - val_accuracy: 0.8105\n",
      "Epoch 10/50\n",
      "1749/1749 [==============================] - ETA: 0s - loss: 0.2187 - accuracy: 0.78 - ETA: 0s - loss: 0.1916 - accuracy: 0.80 - ETA: 0s - loss: 0.1959 - accuracy: 0.80 - 0s 98us/sample - loss: 0.1933 - accuracy: 0.8062 - val_loss: 0.1881 - val_accuracy: 0.8105\n",
      "Epoch 11/50\n",
      "1749/1749 [==============================] - ETA: 0s - loss: 0.1548 - accuracy: 0.84 - ETA: 0s - loss: 0.1850 - accuracy: 0.81 - ETA: 0s - loss: 0.1879 - accuracy: 0.80 - 0s 78us/sample - loss: 0.1896 - accuracy: 0.8062 - val_loss: 0.1778 - val_accuracy: 0.8105\n",
      "Epoch 12/50\n",
      "1749/1749 [==============================] - ETA: 0s - loss: 0.2082 - accuracy: 0.78 - ETA: 0s - loss: 0.1596 - accuracy: 0.83 - 0s 212us/sample - loss: 0.1548 - accuracy: 0.8525 - val_loss: 0.1279 - val_accuracy: 0.8881\n",
      "Epoch 13/50\n",
      "1749/1749 [==============================] - ETA: 0s - loss: 0.2107 - accuracy: 0.81 - ETA: 0s - loss: 0.1361 - accuracy: 0.88 - ETA: 0s - loss: 0.1332 - accuracy: 0.88 - 0s 81us/sample - loss: 0.1336 - accuracy: 0.8839 - val_loss: 0.1267 - val_accuracy: 0.8881\n",
      "Epoch 14/50\n",
      "1749/1749 [==============================] - ETA: 0s - loss: 0.0513 - accuracy: 0.93 - ETA: 0s - loss: 0.1253 - accuracy: 0.89 - 0s 71us/sample - loss: 0.1313 - accuracy: 0.8834 - val_loss: 0.1273 - val_accuracy: 0.8858\n",
      "Epoch 15/50\n",
      "1749/1749 [==============================] - ETA: 0s - loss: 0.1195 - accuracy: 0.90 - ETA: 0s - loss: 0.1279 - accuracy: 0.88 - 0s 68us/sample - loss: 0.1303 - accuracy: 0.8822 - val_loss: 0.1251 - val_accuracy: 0.8881\n",
      "Epoch 16/50\n",
      "1749/1749 [==============================] - ETA: 0s - loss: 0.0870 - accuracy: 0.90 - ETA: 0s - loss: 0.1372 - accuracy: 0.87 - 0s 67us/sample - loss: 0.1288 - accuracy: 0.8811 - val_loss: 0.1254 - val_accuracy: 0.8858\n",
      "Epoch 17/50\n",
      "1749/1749 [==============================] - ETA: 0s - loss: 0.1620 - accuracy: 0.87 - ETA: 0s - loss: 0.1314 - accuracy: 0.87 - ETA: 0s - loss: 0.1286 - accuracy: 0.88 - 0s 91us/sample - loss: 0.1295 - accuracy: 0.8828 - val_loss: 0.1254 - val_accuracy: 0.8858\n",
      "Epoch 18/50\n",
      "1749/1749 [==============================] - ETA: 0s - loss: 0.1356 - accuracy: 0.87 - ETA: 0s - loss: 0.1151 - accuracy: 0.89 - 0s 72us/sample - loss: 0.1287 - accuracy: 0.8811 - val_loss: 0.1258 - val_accuracy: 0.8836\n",
      "Epoch 19/50\n",
      "1749/1749 [==============================] - ETA: 0s - loss: 0.2424 - accuracy: 0.78 - ETA: 0s - loss: 0.1340 - accuracy: 0.87 - 0s 69us/sample - loss: 0.1283 - accuracy: 0.8816 - val_loss: 0.1248 - val_accuracy: 0.8836\n",
      "Epoch 20/50\n",
      "1749/1749 [==============================] - ETA: 0s - loss: 0.1050 - accuracy: 0.90 - ETA: 0s - loss: 0.1231 - accuracy: 0.88 - 0s 70us/sample - loss: 0.1277 - accuracy: 0.8816 - val_loss: 0.1257 - val_accuracy: 0.8836\n",
      "Epoch 21/50\n",
      "1749/1749 [==============================] - ETA: 0s - loss: 0.1331 - accuracy: 0.87 - ETA: 0s - loss: 0.1276 - accuracy: 0.88 - 0s 70us/sample - loss: 0.1275 - accuracy: 0.8822 - val_loss: 0.1234 - val_accuracy: 0.8858\n",
      "Epoch 22/50\n",
      "1749/1749 [==============================] - ETA: 0s - loss: 0.1931 - accuracy: 0.78 - ETA: 0s - loss: 0.1216 - accuracy: 0.88 - 0s 80us/sample - loss: 0.1270 - accuracy: 0.8822 - val_loss: 0.1227 - val_accuracy: 0.8858\n",
      "Epoch 23/50\n",
      "1749/1749 [==============================] - ETA: 0s - loss: 0.0654 - accuracy: 0.93 - ETA: 0s - loss: 0.1295 - accuracy: 0.87 - ETA: 0s - loss: 0.1266 - accuracy: 0.88 - 0s 83us/sample - loss: 0.1263 - accuracy: 0.8811 - val_loss: 0.1229 - val_accuracy: 0.8858\n",
      "Epoch 24/50\n",
      "1749/1749 [==============================] - ETA: 0s - loss: 0.0373 - accuracy: 0.96 - ETA: 0s - loss: 0.1309 - accuracy: 0.87 - 0s 68us/sample - loss: 0.1266 - accuracy: 0.8822 - val_loss: 0.1225 - val_accuracy: 0.8858\n",
      "Epoch 25/50\n",
      "1749/1749 [==============================] - ETA: 0s - loss: 0.1158 - accuracy: 0.87 - ETA: 0s - loss: 0.1207 - accuracy: 0.88 - 0s 70us/sample - loss: 0.1275 - accuracy: 0.8799 - val_loss: 0.1239 - val_accuracy: 0.8881\n",
      "Epoch 26/50\n",
      "1749/1749 [==============================] - ETA: 0s - loss: 0.1461 - accuracy: 0.87 - ETA: 0s - loss: 0.1255 - accuracy: 0.88 - 0s 71us/sample - loss: 0.1262 - accuracy: 0.8834 - val_loss: 0.1233 - val_accuracy: 0.8836\n",
      "Epoch 27/50\n",
      "1749/1749 [==============================] - ETA: 0s - loss: 0.1325 - accuracy: 0.87 - ETA: 0s - loss: 0.1358 - accuracy: 0.87 - 0s 70us/sample - loss: 0.1256 - accuracy: 0.8816 - val_loss: 0.1228 - val_accuracy: 0.8858\n",
      "Epoch 28/50\n",
      "1749/1749 [==============================] - ETA: 0s - loss: 0.0954 - accuracy: 0.90 - ETA: 0s - loss: 0.1149 - accuracy: 0.89 - ETA: 0s - loss: 0.1246 - accuracy: 0.88 - 0s 91us/sample - loss: 0.1255 - accuracy: 0.8811 - val_loss: 0.1220 - val_accuracy: 0.8858\n",
      "Epoch 29/50\n",
      "1749/1749 [==============================] - ETA: 0s - loss: 0.1035 - accuracy: 0.90 - ETA: 0s - loss: 0.1266 - accuracy: 0.87 - ETA: 0s - loss: 0.1257 - accuracy: 0.88 - 0s 75us/sample - loss: 0.1254 - accuracy: 0.8805 - val_loss: 0.1219 - val_accuracy: 0.8858\n",
      "Epoch 30/50\n",
      "1749/1749 [==============================] - ETA: 0s - loss: 0.1693 - accuracy: 0.84 - ETA: 0s - loss: 0.1348 - accuracy: 0.87 - ETA: 0s - loss: 0.1238 - accuracy: 0.88 - 0s 80us/sample - loss: 0.1252 - accuracy: 0.8805 - val_loss: 0.1226 - val_accuracy: 0.8836\n",
      "Epoch 31/50\n",
      "1749/1749 [==============================] - ETA: 0s - loss: 0.0400 - accuracy: 0.96 - ETA: 0s - loss: 0.1170 - accuracy: 0.88 - 0s 68us/sample - loss: 0.1258 - accuracy: 0.8816 - val_loss: 0.1227 - val_accuracy: 0.8836\n",
      "Epoch 32/50\n",
      "1749/1749 [==============================] - ETA: 0s - loss: 0.0663 - accuracy: 0.93 - ETA: 0s - loss: 0.1308 - accuracy: 0.87 - 0s 69us/sample - loss: 0.1260 - accuracy: 0.8811 - val_loss: 0.1224 - val_accuracy: 0.8836\n",
      "Epoch 33/50\n",
      "1749/1749 [==============================] - ETA: 0s - loss: 0.1164 - accuracy: 0.87 - ETA: 0s - loss: 0.1176 - accuracy: 0.88 - 0s 71us/sample - loss: 0.1248 - accuracy: 0.8816 - val_loss: 0.1217 - val_accuracy: 0.8858\n",
      "Epoch 34/50\n"
     ]
    },
    {
     "name": "stdout",
     "output_type": "stream",
     "text": [
      "1749/1749 [==============================] - ETA: 0s - loss: 0.1185 - accuracy: 0.90 - ETA: 0s - loss: 0.1206 - accuracy: 0.88 - ETA: 0s - loss: 0.1260 - accuracy: 0.87 - 0s 91us/sample - loss: 0.1249 - accuracy: 0.8799 - val_loss: 0.1230 - val_accuracy: 0.8858\n",
      "Epoch 35/50\n",
      "1749/1749 [==============================] - ETA: 0s - loss: 0.0959 - accuracy: 0.90 - ETA: 0s - loss: 0.1196 - accuracy: 0.88 - ETA: 0s - loss: 0.1253 - accuracy: 0.88 - 0s 76us/sample - loss: 0.1244 - accuracy: 0.8816 - val_loss: 0.1213 - val_accuracy: 0.8858\n",
      "Epoch 36/50\n",
      "1749/1749 [==============================] - ETA: 0s - loss: 0.2181 - accuracy: 0.78 - ETA: 0s - loss: 0.1179 - accuracy: 0.88 - 0s 68us/sample - loss: 0.1249 - accuracy: 0.8799 - val_loss: 0.1210 - val_accuracy: 0.8858\n",
      "Epoch 37/50\n",
      "1749/1749 [==============================] - ETA: 0s - loss: 0.1409 - accuracy: 0.87 - ETA: 0s - loss: 0.1237 - accuracy: 0.88 - 0s 69us/sample - loss: 0.1243 - accuracy: 0.8805 - val_loss: 0.1211 - val_accuracy: 0.8858\n",
      "Epoch 38/50\n",
      "1749/1749 [==============================] - ETA: 0s - loss: 0.0673 - accuracy: 0.93 - ETA: 0s - loss: 0.1290 - accuracy: 0.87 - 0s 68us/sample - loss: 0.1246 - accuracy: 0.8816 - val_loss: 0.1211 - val_accuracy: 0.8858\n",
      "Epoch 39/50\n",
      "1749/1749 [==============================] - ETA: 0s - loss: 0.1892 - accuracy: 0.81 - ETA: 0s - loss: 0.1221 - accuracy: 0.88 - 0s 69us/sample - loss: 0.1239 - accuracy: 0.8816 - val_loss: 0.1209 - val_accuracy: 0.8858\n",
      "Epoch 40/50\n",
      "1749/1749 [==============================] - ETA: 0s - loss: 0.2184 - accuracy: 0.78 - ETA: 0s - loss: 0.1359 - accuracy: 0.86 - ETA: 0s - loss: 0.1252 - accuracy: 0.88 - 0s 88us/sample - loss: 0.1238 - accuracy: 0.8822 - val_loss: 0.1207 - val_accuracy: 0.8858\n",
      "Epoch 41/50\n",
      "1749/1749 [==============================] - ETA: 0s - loss: 0.0973 - accuracy: 0.90 - ETA: 0s - loss: 0.1070 - accuracy: 0.90 - ETA: 0s - loss: 0.1276 - accuracy: 0.87 - 0s 82us/sample - loss: 0.1239 - accuracy: 0.8822 - val_loss: 0.1206 - val_accuracy: 0.8858\n",
      "Epoch 42/50\n",
      "1749/1749 [==============================] - ETA: 0s - loss: 0.1685 - accuracy: 0.84 - ETA: 0s - loss: 0.1312 - accuracy: 0.87 - 0s 71us/sample - loss: 0.1235 - accuracy: 0.8816 - val_loss: 0.1207 - val_accuracy: 0.8836\n",
      "Epoch 43/50\n",
      "1749/1749 [==============================] - ETA: 0s - loss: 0.0834 - accuracy: 0.93 - ETA: 0s - loss: 0.1272 - accuracy: 0.87 - 0s 70us/sample - loss: 0.1240 - accuracy: 0.8822 - val_loss: 0.1204 - val_accuracy: 0.8858\n",
      "Epoch 44/50\n",
      "1749/1749 [==============================] - ETA: 0s - loss: 0.1912 - accuracy: 0.81 - ETA: 0s - loss: 0.1333 - accuracy: 0.87 - 0s 70us/sample - loss: 0.1233 - accuracy: 0.8811 - val_loss: 0.1218 - val_accuracy: 0.8858\n",
      "Epoch 45/50\n",
      "1749/1749 [==============================] - ETA: 0s - loss: 0.1436 - accuracy: 0.87 - ETA: 0s - loss: 0.1196 - accuracy: 0.88 - 0s 70us/sample - loss: 0.1239 - accuracy: 0.8811 - val_loss: 0.1202 - val_accuracy: 0.8858\n",
      "Epoch 46/50\n",
      "1749/1749 [==============================] - ETA: 0s - loss: 0.1594 - accuracy: 0.84 - ETA: 0s - loss: 0.1302 - accuracy: 0.87 - 0s 68us/sample - loss: 0.1233 - accuracy: 0.8816 - val_loss: 0.1209 - val_accuracy: 0.8836\n",
      "Epoch 47/50\n",
      "1749/1749 [==============================] - ETA: 0s - loss: 0.1266 - accuracy: 0.87 - ETA: 0s - loss: 0.1270 - accuracy: 0.87 - ETA: 0s - loss: 0.1272 - accuracy: 0.87 - 0s 90us/sample - loss: 0.1233 - accuracy: 0.8805 - val_loss: 0.1201 - val_accuracy: 0.8858\n",
      "Epoch 48/50\n",
      "1749/1749 [==============================] - ETA: 0s - loss: 0.0825 - accuracy: 0.93 - ETA: 0s - loss: 0.1144 - accuracy: 0.88 - ETA: 0s - loss: 0.1238 - accuracy: 0.88 - 0s 78us/sample - loss: 0.1232 - accuracy: 0.8811 - val_loss: 0.1208 - val_accuracy: 0.8836\n",
      "Epoch 49/50\n",
      "1749/1749 [==============================] - ETA: 0s - loss: 0.1095 - accuracy: 0.90 - ETA: 0s - loss: 0.1269 - accuracy: 0.87 - 0s 71us/sample - loss: 0.1233 - accuracy: 0.8816 - val_loss: 0.1225 - val_accuracy: 0.8836\n",
      "Epoch 50/50\n",
      "1749/1749 [==============================] - ETA: 0s - loss: 0.0987 - accuracy: 0.90 - ETA: 0s - loss: 0.1220 - accuracy: 0.88 - 0s 69us/sample - loss: 0.1235 - accuracy: 0.8828 - val_loss: 0.1199 - val_accuracy: 0.8858\n",
      "Train on 1749 samples, validate on 438 samples\n",
      "Epoch 1/50\n",
      "1749/1749 [==============================] - ETA: 30s - loss: 0.1250 - accuracy: 0.875 - ETA: 0s - loss: 0.1866 - accuracy: 0.813 - 1s 446us/sample - loss: 0.1939 - accuracy: 0.8062 - val_loss: 0.1894 - val_accuracy: 0.8105\n",
      "Epoch 2/50\n",
      "1749/1749 [==============================] - ETA: 0s - loss: 0.1563 - accuracy: 0.84 - ETA: 0s - loss: 0.1792 - accuracy: 0.82 - 0s 70us/sample - loss: 0.1936 - accuracy: 0.8062 - val_loss: 0.1889 - val_accuracy: 0.8105\n",
      "Epoch 3/50\n",
      "1749/1749 [==============================] - ETA: 0s - loss: 0.3115 - accuracy: 0.68 - ETA: 0s - loss: 0.1916 - accuracy: 0.80 - 0s 68us/sample - loss: 0.1928 - accuracy: 0.8062 - val_loss: 0.1877 - val_accuracy: 0.8105\n",
      "Epoch 4/50\n",
      "1749/1749 [==============================] - ETA: 0s - loss: 0.1543 - accuracy: 0.84 - ETA: 0s - loss: 0.1774 - accuracy: 0.82 - 0s 72us/sample - loss: 0.1905 - accuracy: 0.8062 - val_loss: 0.1836 - val_accuracy: 0.8105\n",
      "Epoch 5/50\n",
      "1749/1749 [==============================] - ETA: 0s - loss: 0.1287 - accuracy: 0.87 - ETA: 0s - loss: 0.1790 - accuracy: 0.81 - ETA: 0s - loss: 0.1780 - accuracy: 0.80 - 0s 84us/sample - loss: 0.1801 - accuracy: 0.8073 - val_loss: 0.1549 - val_accuracy: 0.8356\n",
      "Epoch 6/50\n",
      "1749/1749 [==============================] - ETA: 0s - loss: 0.2211 - accuracy: 0.75 - ETA: 0s - loss: 0.1478 - accuracy: 0.86 - 0s 71us/sample - loss: 0.1450 - accuracy: 0.8691 - val_loss: 0.1251 - val_accuracy: 0.8881\n",
      "Epoch 7/50\n",
      "1749/1749 [==============================] - ETA: 0s - loss: 0.1906 - accuracy: 0.84 - ETA: 0s - loss: 0.1400 - accuracy: 0.87 - 0s 68us/sample - loss: 0.1307 - accuracy: 0.8794 - val_loss: 0.1204 - val_accuracy: 0.8881\n",
      "Epoch 8/50\n",
      "1749/1749 [==============================] - ETA: 0s - loss: 0.0644 - accuracy: 0.93 - ETA: 0s - loss: 0.1279 - accuracy: 0.88 - 0s 188us/sample - loss: 0.1275 - accuracy: 0.8839 - val_loss: 0.1185 - val_accuracy: 0.8904\n",
      "Epoch 9/50\n",
      "1749/1749 [==============================] - ETA: 0s - loss: 0.2343 - accuracy: 0.75 - ETA: 0s - loss: 0.1239 - accuracy: 0.88 - ETA: 0s - loss: 0.1247 - accuracy: 0.88 - 0s 169us/sample - loss: 0.1253 - accuracy: 0.8868 - val_loss: 0.1162 - val_accuracy: 0.8927\n",
      "Epoch 10/50\n",
      "1749/1749 [==============================] - ETA: 0s - loss: 0.2080 - accuracy: 0.81 - ETA: 0s - loss: 0.1375 - accuracy: 0.87 - ETA: 0s - loss: 0.1230 - accuracy: 0.88 - 0s 145us/sample - loss: 0.1232 - accuracy: 0.8885 - val_loss: 0.1115 - val_accuracy: 0.8950\n",
      "Epoch 11/50\n",
      "1749/1749 [==============================] - ETA: 0s - loss: 0.1736 - accuracy: 0.81 - ETA: 0s - loss: 0.1137 - accuracy: 0.89 - ETA: 0s - loss: 0.1192 - accuracy: 0.89 - 0s 78us/sample - loss: 0.1207 - accuracy: 0.8902 - val_loss: 0.1083 - val_accuracy: 0.8950\n",
      "Epoch 12/50\n",
      "1749/1749 [==============================] - ETA: 0s - loss: 0.1277 - accuracy: 0.90 - ETA: 0s - loss: 0.1154 - accuracy: 0.90 - 0s 76us/sample - loss: 0.1196 - accuracy: 0.8937 - val_loss: 0.1061 - val_accuracy: 0.8950\n",
      "Epoch 13/50\n",
      "1749/1749 [==============================] - ETA: 0s - loss: 0.1508 - accuracy: 0.84 - ETA: 0s - loss: 0.1112 - accuracy: 0.89 - ETA: 0s - loss: 0.1239 - accuracy: 0.88 - 0s 262us/sample - loss: 0.1179 - accuracy: 0.8948 - val_loss: 0.1042 - val_accuracy: 0.8995\n",
      "Epoch 14/50\n",
      "1749/1749 [==============================] - ETA: 0s - loss: 0.1478 - accuracy: 0.84 - ETA: 0s - loss: 0.1155 - accuracy: 0.89 - 0s 159us/sample - loss: 0.1152 - accuracy: 0.8999 - val_loss: 0.1022 - val_accuracy: 0.9110\n",
      "Epoch 15/50\n",
      "1749/1749 [==============================] - ETA: 0s - loss: 0.0459 - accuracy: 0.96 - ETA: 0s - loss: 0.1140 - accuracy: 0.89 - ETA: 0s - loss: 0.1181 - accuracy: 0.89 - 0s 87us/sample - loss: 0.1140 - accuracy: 0.8994 - val_loss: 0.1009 - val_accuracy: 0.9087\n",
      "Epoch 16/50\n",
      "1749/1749 [==============================] - ETA: 0s - loss: 0.0179 - accuracy: 1.00 - ETA: 0s - loss: 0.1107 - accuracy: 0.90 - 0s 68us/sample - loss: 0.1124 - accuracy: 0.9011 - val_loss: 0.0992 - val_accuracy: 0.9087\n"
     ]
    },
    {
     "name": "stdout",
     "output_type": "stream",
     "text": [
      "Epoch 17/50\n",
      "1749/1749 [==============================] - ETA: 0s - loss: 0.0930 - accuracy: 0.90 - ETA: 0s - loss: 0.1083 - accuracy: 0.90 - 0s 158us/sample - loss: 0.1106 - accuracy: 0.9011 - val_loss: 0.0967 - val_accuracy: 0.9155\n",
      "Epoch 18/50\n",
      "1749/1749 [==============================] - ETA: 0s - loss: 0.0839 - accuracy: 0.93 - ETA: 0s - loss: 0.0977 - accuracy: 0.91 - ETA: 0s - loss: 0.1101 - accuracy: 0.90 - 0s 77us/sample - loss: 0.1098 - accuracy: 0.9051 - val_loss: 0.1009 - val_accuracy: 0.9087\n",
      "Epoch 19/50\n",
      "1749/1749 [==============================] - ETA: 0s - loss: 0.1425 - accuracy: 0.84 - ETA: 0s - loss: 0.1070 - accuracy: 0.89 - 0s 150us/sample - loss: 0.1091 - accuracy: 0.9011 - val_loss: 0.0955 - val_accuracy: 0.9178\n",
      "Epoch 20/50\n",
      "1749/1749 [==============================] - ETA: 0s - loss: 0.0837 - accuracy: 0.93 - ETA: 0s - loss: 0.1095 - accuracy: 0.89 - ETA: 0s - loss: 0.1072 - accuracy: 0.90 - 0s 157us/sample - loss: 0.1060 - accuracy: 0.9045 - val_loss: 0.0948 - val_accuracy: 0.9247\n",
      "Epoch 21/50\n",
      "1749/1749 [==============================] - ETA: 0s - loss: 0.0709 - accuracy: 0.93 - ETA: 0s - loss: 0.1065 - accuracy: 0.91 - ETA: 0s - loss: 0.1069 - accuracy: 0.90 - 0s 83us/sample - loss: 0.1052 - accuracy: 0.9068 - val_loss: 0.0915 - val_accuracy: 0.9247\n",
      "Epoch 22/50\n",
      "1749/1749 [==============================] - ETA: 0s - loss: 0.1494 - accuracy: 0.90 - ETA: 0s - loss: 0.1055 - accuracy: 0.90 - ETA: 0s - loss: 0.1064 - accuracy: 0.90 - 0s 86us/sample - loss: 0.1045 - accuracy: 0.9062 - val_loss: 0.0920 - val_accuracy: 0.9178\n",
      "Epoch 23/50\n",
      "1749/1749 [==============================] - ETA: 0s - loss: 0.0584 - accuracy: 0.93 - ETA: 0s - loss: 0.0887 - accuracy: 0.92 - ETA: 0s - loss: 0.1018 - accuracy: 0.90 - 0s 84us/sample - loss: 0.1040 - accuracy: 0.9062 - val_loss: 0.0900 - val_accuracy: 0.9247\n",
      "Epoch 24/50\n",
      "1749/1749 [==============================] - ETA: 0s - loss: 0.0397 - accuracy: 0.96 - ETA: 0s - loss: 0.1064 - accuracy: 0.90 - ETA: 0s - loss: 0.1007 - accuracy: 0.90 - 0s 79us/sample - loss: 0.1009 - accuracy: 0.9097 - val_loss: 0.0952 - val_accuracy: 0.9132\n",
      "Epoch 25/50\n",
      "1749/1749 [==============================] - ETA: 0s - loss: 0.0682 - accuracy: 0.93 - ETA: 0s - loss: 0.1133 - accuracy: 0.89 - ETA: 0s - loss: 0.1017 - accuracy: 0.90 - 0s 79us/sample - loss: 0.1015 - accuracy: 0.9074 - val_loss: 0.0898 - val_accuracy: 0.9201\n",
      "Epoch 26/50\n",
      "1749/1749 [==============================] - ETA: 0s - loss: 0.0678 - accuracy: 0.93 - ETA: 0s - loss: 0.0999 - accuracy: 0.91 - ETA: 0s - loss: 0.1004 - accuracy: 0.90 - 0s 83us/sample - loss: 0.1001 - accuracy: 0.9097 - val_loss: 0.0887 - val_accuracy: 0.9224\n",
      "Epoch 27/50\n",
      "1749/1749 [==============================] - ETA: 0s - loss: 0.0917 - accuracy: 0.90 - ETA: 0s - loss: 0.0964 - accuracy: 0.91 - ETA: 0s - loss: 0.1013 - accuracy: 0.90 - 0s 87us/sample - loss: 0.1010 - accuracy: 0.9085 - val_loss: 0.0874 - val_accuracy: 0.9201\n",
      "Epoch 28/50\n",
      "1749/1749 [==============================] - ETA: 0s - loss: 0.0658 - accuracy: 0.93 - ETA: 0s - loss: 0.0942 - accuracy: 0.91 - ETA: 0s - loss: 0.0975 - accuracy: 0.90 - 0s 91us/sample - loss: 0.0964 - accuracy: 0.9114 - val_loss: 0.0882 - val_accuracy: 0.9178\n",
      "Epoch 29/50\n",
      "1749/1749 [==============================] - ETA: 0s - loss: 0.0843 - accuracy: 0.93 - ETA: 0s - loss: 0.1008 - accuracy: 0.90 - ETA: 0s - loss: 0.0971 - accuracy: 0.91 - 0s 81us/sample - loss: 0.0965 - accuracy: 0.9114 - val_loss: 0.0890 - val_accuracy: 0.9155\n",
      "Epoch 30/50\n",
      "1749/1749 [==============================] - ETA: 0s - loss: 0.0275 - accuracy: 0.96 - ETA: 0s - loss: 0.1079 - accuracy: 0.89 - ETA: 0s - loss: 0.1018 - accuracy: 0.90 - 0s 94us/sample - loss: 0.0955 - accuracy: 0.9102 - val_loss: 0.0869 - val_accuracy: 0.9155\n",
      "Epoch 31/50\n",
      "1749/1749 [==============================] - ETA: 0s - loss: 0.1464 - accuracy: 0.87 - ETA: 0s - loss: 0.0842 - accuracy: 0.92 - ETA: 0s - loss: 0.0947 - accuracy: 0.91 - 0s 80us/sample - loss: 0.0947 - accuracy: 0.9108 - val_loss: 0.0858 - val_accuracy: 0.9224\n",
      "Epoch 32/50\n",
      "1749/1749 [==============================] - ETA: 0s - loss: 0.1702 - accuracy: 0.84 - ETA: 0s - loss: 0.0905 - accuracy: 0.91 - ETA: 0s - loss: 0.0828 - accuracy: 0.92 - 0s 98us/sample - loss: 0.0946 - accuracy: 0.9102 - val_loss: 0.0843 - val_accuracy: 0.9224\n",
      "Epoch 33/50\n",
      "1749/1749 [==============================] - ETA: 0s - loss: 0.0797 - accuracy: 0.93 - ETA: 0s - loss: 0.0872 - accuracy: 0.91 - 0s 74us/sample - loss: 0.0930 - accuracy: 0.9131 - val_loss: 0.0852 - val_accuracy: 0.9178\n",
      "Epoch 34/50\n",
      "1749/1749 [==============================] - ETA: 0s - loss: 0.1595 - accuracy: 0.84 - ETA: 0s - loss: 0.0887 - accuracy: 0.91 - ETA: 0s - loss: 0.0870 - accuracy: 0.91 - 0s 92us/sample - loss: 0.0906 - accuracy: 0.9148 - val_loss: 0.0831 - val_accuracy: 0.9201\n",
      "Epoch 35/50\n",
      "1749/1749 [==============================] - ETA: 0s - loss: 0.0774 - accuracy: 0.93 - ETA: 0s - loss: 0.0992 - accuracy: 0.90 - 0s 67us/sample - loss: 0.0918 - accuracy: 0.9097 - val_loss: 0.0833 - val_accuracy: 0.9178\n",
      "Epoch 36/50\n",
      "1749/1749 [==============================] - ETA: 0s - loss: 0.1006 - accuracy: 0.90 - ETA: 0s - loss: 0.0800 - accuracy: 0.92 - 0s 67us/sample - loss: 0.0927 - accuracy: 0.9079 - val_loss: 0.0845 - val_accuracy: 0.9178\n",
      "Epoch 37/50\n",
      "1749/1749 [==============================] - ETA: 0s - loss: 0.0628 - accuracy: 0.93 - ETA: 0s - loss: 0.0834 - accuracy: 0.91 - ETA: 0s - loss: 0.0869 - accuracy: 0.91 - 0s 87us/sample - loss: 0.0882 - accuracy: 0.9148 - val_loss: 0.0816 - val_accuracy: 0.9224\n",
      "Epoch 38/50\n",
      "1749/1749 [==============================] - ETA: 0s - loss: 0.0073 - accuracy: 1.00 - ETA: 0s - loss: 0.0687 - accuracy: 0.93 - 0s 70us/sample - loss: 0.0882 - accuracy: 0.9137 - val_loss: 0.0821 - val_accuracy: 0.9201\n",
      "Epoch 39/50\n",
      "1749/1749 [==============================] - ETA: 0s - loss: 0.2427 - accuracy: 0.75 - ETA: 0s - loss: 0.0892 - accuracy: 0.91 - 0s 72us/sample - loss: 0.0877 - accuracy: 0.9160 - val_loss: 0.0814 - val_accuracy: 0.9224\n",
      "Epoch 40/50\n",
      "1749/1749 [==============================] - ETA: 0s - loss: 0.0920 - accuracy: 0.90 - ETA: 0s - loss: 0.0919 - accuracy: 0.90 - ETA: 0s - loss: 0.0882 - accuracy: 0.91 - 0s 97us/sample - loss: 0.0884 - accuracy: 0.9142 - val_loss: 0.0811 - val_accuracy: 0.9224\n",
      "Epoch 41/50\n",
      "1749/1749 [==============================] - ETA: 0s - loss: 0.0076 - accuracy: 1.00 - ETA: 0s - loss: 0.0894 - accuracy: 0.91 - ETA: 0s - loss: 0.0868 - accuracy: 0.91 - 0s 78us/sample - loss: 0.0869 - accuracy: 0.9154 - val_loss: 0.0826 - val_accuracy: 0.9201\n",
      "Epoch 42/50\n",
      "1749/1749 [==============================] - ETA: 0s - loss: 0.1264 - accuracy: 0.87 - ETA: 0s - loss: 0.0885 - accuracy: 0.91 - 0s 72us/sample - loss: 0.0898 - accuracy: 0.9137 - val_loss: 0.0812 - val_accuracy: 0.9224\n",
      "Epoch 43/50\n",
      "1749/1749 [==============================] - ETA: 0s - loss: 0.0940 - accuracy: 0.90 - ETA: 0s - loss: 0.0969 - accuracy: 0.90 - ETA: 0s - loss: 0.0863 - accuracy: 0.91 - 0s 88us/sample - loss: 0.0880 - accuracy: 0.9131 - val_loss: 0.0824 - val_accuracy: 0.9201\n",
      "Epoch 44/50\n",
      "1749/1749 [==============================] - ETA: 0s - loss: 0.0510 - accuracy: 0.93 - ETA: 0s - loss: 0.0820 - accuracy: 0.91 - ETA: 0s - loss: 0.0857 - accuracy: 0.91 - 0s 80us/sample - loss: 0.0867 - accuracy: 0.9154 - val_loss: 0.0797 - val_accuracy: 0.9224\n",
      "Epoch 45/50\n",
      "1749/1749 [==============================] - ETA: 0s - loss: 0.0935 - accuracy: 0.90 - ETA: 0s - loss: 0.0801 - accuracy: 0.92 - 0s 70us/sample - loss: 0.0883 - accuracy: 0.9137 - val_loss: 0.0820 - val_accuracy: 0.9224\n",
      "Epoch 46/50\n",
      "1749/1749 [==============================] - ETA: 0s - loss: 0.0317 - accuracy: 0.96 - ETA: 0s - loss: 0.0971 - accuracy: 0.90 - ETA: 0s - loss: 0.0928 - accuracy: 0.90 - 0s 83us/sample - loss: 0.0921 - accuracy: 0.9091 - val_loss: 0.0834 - val_accuracy: 0.9178\n",
      "Epoch 47/50\n",
      "1749/1749 [==============================] - ETA: 0s - loss: 0.0317 - accuracy: 0.96 - ETA: 0s - loss: 0.0812 - accuracy: 0.91 - ETA: 0s - loss: 0.0868 - accuracy: 0.91 - 0s 90us/sample - loss: 0.0888 - accuracy: 0.9131 - val_loss: 0.0838 - val_accuracy: 0.9178\n",
      "Epoch 48/50\n"
     ]
    },
    {
     "name": "stdout",
     "output_type": "stream",
     "text": [
      "1749/1749 [==============================] - ETA: 0s - loss: 0.0729 - accuracy: 0.93 - ETA: 0s - loss: 0.0853 - accuracy: 0.91 - 0s 70us/sample - loss: 0.0856 - accuracy: 0.9165 - val_loss: 0.0807 - val_accuracy: 0.9224\n",
      "Epoch 49/50\n",
      "1749/1749 [==============================] - ETA: 0s - loss: 0.0626 - accuracy: 0.93 - ETA: 0s - loss: 0.0903 - accuracy: 0.91 - 0s 68us/sample - loss: 0.0857 - accuracy: 0.9165 - val_loss: 0.0860 - val_accuracy: 0.9110\n",
      "Train on 1749 samples, validate on 438 samples\n",
      "Epoch 1/50\n",
      "1749/1749 [==============================] - ETA: 32s - loss: 0.1251 - accuracy: 0.875 - ETA: 0s - loss: 0.1904 - accuracy: 0.809 - ETA: 0s - loss: 0.1883 - accuracy: 0.81 - 1s 487us/sample - loss: 0.1939 - accuracy: 0.8062 - val_loss: 0.1895 - val_accuracy: 0.8105\n",
      "Epoch 2/50\n",
      "1749/1749 [==============================] - ETA: 0s - loss: 0.1250 - accuracy: 0.87 - ETA: 0s - loss: 0.2075 - accuracy: 0.79 - ETA: 0s - loss: 0.1932 - accuracy: 0.80 - 0s 80us/sample - loss: 0.1939 - accuracy: 0.8062 - val_loss: 0.1895 - val_accuracy: 0.8105\n",
      "Epoch 3/50\n",
      "1749/1749 [==============================] - ETA: 0s - loss: 0.2188 - accuracy: 0.78 - ETA: 0s - loss: 0.1830 - accuracy: 0.81 - 0s 74us/sample - loss: 0.1938 - accuracy: 0.8062 - val_loss: 0.1895 - val_accuracy: 0.8105\n",
      "Epoch 4/50\n",
      "1749/1749 [==============================] - ETA: 0s - loss: 0.1875 - accuracy: 0.81 - ETA: 0s - loss: 0.1790 - accuracy: 0.82 - ETA: 0s - loss: 0.1847 - accuracy: 0.81 - 0s 96us/sample - loss: 0.1938 - accuracy: 0.8062 - val_loss: 0.1895 - val_accuracy: 0.8105\n",
      "Epoch 5/50\n",
      "1749/1749 [==============================] - ETA: 0s - loss: 0.2813 - accuracy: 0.71 - ETA: 0s - loss: 0.2048 - accuracy: 0.79 - 0s 71us/sample - loss: 0.1938 - accuracy: 0.8062 - val_loss: 0.1895 - val_accuracy: 0.8105\n",
      "Epoch 6/50\n",
      "1749/1749 [==============================] - ETA: 0s - loss: 0.2188 - accuracy: 0.78 - ETA: 0s - loss: 0.2063 - accuracy: 0.79 - 0s 69us/sample - loss: 0.1938 - accuracy: 0.8062 - val_loss: 0.1895 - val_accuracy: 0.8105\n",
      "Epoch 7/50\n",
      "1749/1749 [==============================] - ETA: 0s - loss: 0.0625 - accuracy: 0.93 - ETA: 0s - loss: 0.1896 - accuracy: 0.81 - 0s 70us/sample - loss: 0.1938 - accuracy: 0.8062 - val_loss: 0.1895 - val_accuracy: 0.8105\n",
      "Epoch 8/50\n",
      "1749/1749 [==============================] - ETA: 0s - loss: 0.2188 - accuracy: 0.78 - ETA: 0s - loss: 0.1863 - accuracy: 0.81 - ETA: 0s - loss: 0.1945 - accuracy: 0.80 - 0s 79us/sample - loss: 0.1938 - accuracy: 0.8062 - val_loss: 0.1895 - val_accuracy: 0.8105\n",
      "Epoch 9/50\n",
      "1749/1749 [==============================] - ETA: 0s - loss: 0.4688 - accuracy: 0.53 - ETA: 0s - loss: 0.1998 - accuracy: 0.80 - ETA: 0s - loss: 0.1958 - accuracy: 0.80 - 0s 89us/sample - loss: 0.1938 - accuracy: 0.8062 - val_loss: 0.1895 - val_accuracy: 0.8105\n",
      "Epoch 10/50\n",
      "1749/1749 [==============================] - ETA: 0s - loss: 0.3125 - accuracy: 0.68 - ETA: 0s - loss: 0.1925 - accuracy: 0.80 - ETA: 0s - loss: 0.1939 - accuracy: 0.80 - 0s 90us/sample - loss: 0.1938 - accuracy: 0.8062 - val_loss: 0.1895 - val_accuracy: 0.8105\n",
      "Epoch 11/50\n",
      "1749/1749 [==============================] - ETA: 0s - loss: 0.2188 - accuracy: 0.78 - ETA: 0s - loss: 0.1997 - accuracy: 0.80 - ETA: 0s - loss: 0.1912 - accuracy: 0.80 - 0s 100us/sample - loss: 0.1938 - accuracy: 0.8062 - val_loss: 0.1895 - val_accuracy: 0.8105\n",
      "Train on 1749 samples, validate on 438 samples\n",
      "Epoch 1/50\n",
      "1749/1749 [==============================] - ETA: 30s - loss: 0.1907 - accuracy: 0.812 - ETA: 0s - loss: 0.2071 - accuracy: 0.793 - 1s 455us/sample - loss: 0.1942 - accuracy: 0.8062 - val_loss: 0.1896 - val_accuracy: 0.8105\n",
      "Epoch 2/50\n",
      "1749/1749 [==============================] - ETA: 0s - loss: 0.3126 - accuracy: 0.68 - ETA: 0s - loss: 0.1998 - accuracy: 0.80 - ETA: 0s - loss: 0.1896 - accuracy: 0.81 - 0s 86us/sample - loss: 0.1939 - accuracy: 0.8062 - val_loss: 0.1896 - val_accuracy: 0.8105\n",
      "Epoch 3/50\n",
      "1749/1749 [==============================] - ETA: 0s - loss: 0.1251 - accuracy: 0.87 - ETA: 0s - loss: 0.1908 - accuracy: 0.80 - 0s 69us/sample - loss: 0.1939 - accuracy: 0.8062 - val_loss: 0.1896 - val_accuracy: 0.8105\n",
      "Epoch 4/50\n",
      "1749/1749 [==============================] - ETA: 0s - loss: 0.1251 - accuracy: 0.87 - ETA: 0s - loss: 0.1917 - accuracy: 0.80 - 0s 68us/sample - loss: 0.1939 - accuracy: 0.8062 - val_loss: 0.1895 - val_accuracy: 0.8105\n",
      "Epoch 5/50\n",
      "1749/1749 [==============================] - ETA: 0s - loss: 0.3438 - accuracy: 0.65 - ETA: 0s - loss: 0.2105 - accuracy: 0.78 - 0s 75us/sample - loss: 0.1939 - accuracy: 0.8062 - val_loss: 0.1895 - val_accuracy: 0.8105\n",
      "Epoch 6/50\n",
      "1749/1749 [==============================] - ETA: 0s - loss: 0.1563 - accuracy: 0.84 - ETA: 0s - loss: 0.1980 - accuracy: 0.80 - 0s 71us/sample - loss: 0.1939 - accuracy: 0.8062 - val_loss: 0.1896 - val_accuracy: 0.8105\n",
      "Epoch 7/50\n",
      "1749/1749 [==============================] - ETA: 0s - loss: 0.2501 - accuracy: 0.75 - ETA: 0s - loss: 0.1951 - accuracy: 0.80 - ETA: 0s - loss: 0.1901 - accuracy: 0.80 - 0s 81us/sample - loss: 0.1939 - accuracy: 0.8062 - val_loss: 0.1895 - val_accuracy: 0.8105\n",
      "Epoch 8/50\n",
      "1749/1749 [==============================] - ETA: 0s - loss: 0.2500 - accuracy: 0.75 - ETA: 0s - loss: 0.1865 - accuracy: 0.81 - ETA: 0s - loss: 0.1901 - accuracy: 0.81 - 0s 89us/sample - loss: 0.1939 - accuracy: 0.8062 - val_loss: 0.1897 - val_accuracy: 0.8105\n",
      "Epoch 9/50\n",
      "1749/1749 [==============================] - ETA: 0s - loss: 0.2814 - accuracy: 0.71 - ETA: 0s - loss: 0.1689 - accuracy: 0.83 - 0s 73us/sample - loss: 0.1939 - accuracy: 0.8062 - val_loss: 0.1895 - val_accuracy: 0.8105\n",
      "Epoch 10/50\n",
      "1749/1749 [==============================] - ETA: 0s - loss: 0.2188 - accuracy: 0.78 - ETA: 0s - loss: 0.1854 - accuracy: 0.81 - 0s 69us/sample - loss: 0.1939 - accuracy: 0.8062 - val_loss: 0.1895 - val_accuracy: 0.8105\n",
      "Epoch 11/50\n",
      "1749/1749 [==============================] - ETA: 0s - loss: 0.1563 - accuracy: 0.84 - ETA: 0s - loss: 0.2017 - accuracy: 0.79 - ETA: 0s - loss: 0.1959 - accuracy: 0.80 - 0s 86us/sample - loss: 0.1939 - accuracy: 0.8062 - val_loss: 0.1897 - val_accuracy: 0.8105\n",
      "Epoch 12/50\n",
      "1749/1749 [==============================] - ETA: 0s - loss: 0.2814 - accuracy: 0.71 - ETA: 0s - loss: 0.1981 - accuracy: 0.80 - 0s 70us/sample - loss: 0.1939 - accuracy: 0.8062 - val_loss: 0.1896 - val_accuracy: 0.8105\n",
      "Epoch 13/50\n",
      "1749/1749 [==============================] - ETA: 0s - loss: 0.2501 - accuracy: 0.75 - ETA: 0s - loss: 0.2026 - accuracy: 0.79 - 0s 70us/sample - loss: 0.1939 - accuracy: 0.8062 - val_loss: 0.1898 - val_accuracy: 0.8105\n",
      "Epoch 14/50\n",
      "1749/1749 [==============================] - ETA: 0s - loss: 0.2190 - accuracy: 0.78 - ETA: 0s - loss: 0.1843 - accuracy: 0.81 - 0s 72us/sample - loss: 0.1940 - accuracy: 0.8062 - val_loss: 0.1895 - val_accuracy: 0.8105\n"
     ]
    },
    {
     "data": {
      "text/html": [
       "<span style=\"color:#4527A0\"><h1 style=\"font-size:18px\">Trial complete</h1></span>"
      ],
      "text/plain": [
       "<IPython.core.display.HTML object>"
      ]
     },
     "metadata": {},
     "output_type": "display_data"
    },
    {
     "data": {
      "text/html": [
       "<span style=\"color:#4527A0\"><h1 style=\"font-size:18px\">Trial summary</h1></span>"
      ],
      "text/plain": [
       "<IPython.core.display.HTML object>"
      ]
     },
     "metadata": {},
     "output_type": "display_data"
    },
    {
     "data": {
      "text/html": [
       "<span style=\"color:cyan\"> |-Trial ID: 6361f7582868a16915fa9b2606132c17</span>"
      ],
      "text/plain": [
       "<IPython.core.display.HTML object>"
      ]
     },
     "metadata": {},
     "output_type": "display_data"
    },
    {
     "data": {
      "text/html": [
       "<span style=\"color:cyan\"> |-Score: 0.8584474921226501</span>"
      ],
      "text/plain": [
       "<IPython.core.display.HTML object>"
      ]
     },
     "metadata": {},
     "output_type": "display_data"
    },
    {
     "data": {
      "text/html": [
       "<span style=\"color:cyan\"> |-Best step: 0</span>"
      ],
      "text/plain": [
       "<IPython.core.display.HTML object>"
      ]
     },
     "metadata": {},
     "output_type": "display_data"
    },
    {
     "data": {
      "text/html": [
       "<span style=\"color:#7E57C2\"><h2 style=\"font-size:16px\">Hyperparameters:</h2></span>"
      ],
      "text/plain": [
       "<IPython.core.display.HTML object>"
      ]
     },
     "metadata": {},
     "output_type": "display_data"
    },
    {
     "data": {
      "text/html": [
       "<span style=\"color:cyan\"> |-learning_rate: 0.0001</span>"
      ],
      "text/plain": [
       "<IPython.core.display.HTML object>"
      ]
     },
     "metadata": {},
     "output_type": "display_data"
    },
    {
     "data": {
      "text/html": [
       "<span style=\"color:blue\"> |-num_layers: 4</span>"
      ],
      "text/plain": [
       "<IPython.core.display.HTML object>"
      ]
     },
     "metadata": {},
     "output_type": "display_data"
    },
    {
     "data": {
      "text/html": [
       "<span style=\"color:cyan\"> |-units_0: 352</span>"
      ],
      "text/plain": [
       "<IPython.core.display.HTML object>"
      ]
     },
     "metadata": {},
     "output_type": "display_data"
    },
    {
     "data": {
      "text/html": [
       "<span style=\"color:blue\"> |-units_1: 480</span>"
      ],
      "text/plain": [
       "<IPython.core.display.HTML object>"
      ]
     },
     "metadata": {},
     "output_type": "display_data"
    },
    {
     "data": {
      "text/html": [
       "<span style=\"color:cyan\"> |-units_10: 224</span>"
      ],
      "text/plain": [
       "<IPython.core.display.HTML object>"
      ]
     },
     "metadata": {},
     "output_type": "display_data"
    },
    {
     "data": {
      "text/html": [
       "<span style=\"color:blue\"> |-units_11: 448</span>"
      ],
      "text/plain": [
       "<IPython.core.display.HTML object>"
      ]
     },
     "metadata": {},
     "output_type": "display_data"
    },
    {
     "data": {
      "text/html": [
       "<span style=\"color:cyan\"> |-units_12: 192</span>"
      ],
      "text/plain": [
       "<IPython.core.display.HTML object>"
      ]
     },
     "metadata": {},
     "output_type": "display_data"
    },
    {
     "data": {
      "text/html": [
       "<span style=\"color:blue\"> |-units_13: 352</span>"
      ],
      "text/plain": [
       "<IPython.core.display.HTML object>"
      ]
     },
     "metadata": {},
     "output_type": "display_data"
    },
    {
     "data": {
      "text/html": [
       "<span style=\"color:cyan\"> |-units_14: 384</span>"
      ],
      "text/plain": [
       "<IPython.core.display.HTML object>"
      ]
     },
     "metadata": {},
     "output_type": "display_data"
    },
    {
     "data": {
      "text/html": [
       "<span style=\"color:blue\"> |-units_15: 352</span>"
      ],
      "text/plain": [
       "<IPython.core.display.HTML object>"
      ]
     },
     "metadata": {},
     "output_type": "display_data"
    },
    {
     "data": {
      "text/html": [
       "<span style=\"color:cyan\"> |-units_16: 192</span>"
      ],
      "text/plain": [
       "<IPython.core.display.HTML object>"
      ]
     },
     "metadata": {},
     "output_type": "display_data"
    },
    {
     "data": {
      "text/html": [
       "<span style=\"color:blue\"> |-units_17: 320</span>"
      ],
      "text/plain": [
       "<IPython.core.display.HTML object>"
      ]
     },
     "metadata": {},
     "output_type": "display_data"
    },
    {
     "data": {
      "text/html": [
       "<span style=\"color:cyan\"> |-units_18: 128</span>"
      ],
      "text/plain": [
       "<IPython.core.display.HTML object>"
      ]
     },
     "metadata": {},
     "output_type": "display_data"
    },
    {
     "data": {
      "text/html": [
       "<span style=\"color:blue\"> |-units_2: 288</span>"
      ],
      "text/plain": [
       "<IPython.core.display.HTML object>"
      ]
     },
     "metadata": {},
     "output_type": "display_data"
    },
    {
     "data": {
      "text/html": [
       "<span style=\"color:cyan\"> |-units_3: 160</span>"
      ],
      "text/plain": [
       "<IPython.core.display.HTML object>"
      ]
     },
     "metadata": {},
     "output_type": "display_data"
    },
    {
     "data": {
      "text/html": [
       "<span style=\"color:blue\"> |-units_4: 96</span>"
      ],
      "text/plain": [
       "<IPython.core.display.HTML object>"
      ]
     },
     "metadata": {},
     "output_type": "display_data"
    },
    {
     "data": {
      "text/html": [
       "<span style=\"color:cyan\"> |-units_5: 160</span>"
      ],
      "text/plain": [
       "<IPython.core.display.HTML object>"
      ]
     },
     "metadata": {},
     "output_type": "display_data"
    },
    {
     "data": {
      "text/html": [
       "<span style=\"color:blue\"> |-units_6: 160</span>"
      ],
      "text/plain": [
       "<IPython.core.display.HTML object>"
      ]
     },
     "metadata": {},
     "output_type": "display_data"
    },
    {
     "data": {
      "text/html": [
       "<span style=\"color:cyan\"> |-units_7: 64</span>"
      ],
      "text/plain": [
       "<IPython.core.display.HTML object>"
      ]
     },
     "metadata": {},
     "output_type": "display_data"
    },
    {
     "data": {
      "text/html": [
       "<span style=\"color:blue\"> |-units_8: 96</span>"
      ],
      "text/plain": [
       "<IPython.core.display.HTML object>"
      ]
     },
     "metadata": {},
     "output_type": "display_data"
    },
    {
     "data": {
      "text/html": [
       "<span style=\"color:cyan\"> |-units_9: 352</span>"
      ],
      "text/plain": [
       "<IPython.core.display.HTML object>"
      ]
     },
     "metadata": {},
     "output_type": "display_data"
    },
    {
     "name": "stdout",
     "output_type": "stream",
     "text": [
      "Train on 1749 samples, validate on 438 samples\n",
      "Epoch 1/50\n",
      "1749/1749 [==============================] - ETA: 1:01 - loss: 0.1875 - accuracy: 0.81 - ETA: 2s - loss: 0.1783 - accuracy: 0.8219 - ETA: 0s - loss: 0.1933 - accuracy: 0.80 - 2s 1ms/sample - loss: 0.1940 - accuracy: 0.8062 - val_loss: 0.1899 - val_accuracy: 0.8105\n",
      "Epoch 2/50\n",
      "1749/1749 [==============================] - ETA: 0s - loss: 0.2504 - accuracy: 0.75 - ETA: 0s - loss: 0.2069 - accuracy: 0.79 - ETA: 0s - loss: 0.1965 - accuracy: 0.80 - ETA: 0s - loss: 0.1967 - accuracy: 0.80 - 0s 129us/sample - loss: 0.1940 - accuracy: 0.8062 - val_loss: 0.1897 - val_accuracy: 0.8105\n",
      "Epoch 3/50\n",
      "1749/1749 [==============================] - ETA: 0s - loss: 0.1565 - accuracy: 0.84 - ETA: 0s - loss: 0.2079 - accuracy: 0.79 - ETA: 0s - loss: 0.1980 - accuracy: 0.80 - 0s 100us/sample - loss: 0.1940 - accuracy: 0.8062 - val_loss: 0.1896 - val_accuracy: 0.8105\n",
      "Epoch 4/50\n",
      "1749/1749 [==============================] - ETA: 0s - loss: 0.2501 - accuracy: 0.75 - ETA: 0s - loss: 0.1907 - accuracy: 0.80 - ETA: 0s - loss: 0.1993 - accuracy: 0.80 - ETA: 0s - loss: 0.1942 - accuracy: 0.80 - 0s 119us/sample - loss: 0.1940 - accuracy: 0.8062 - val_loss: 0.1896 - val_accuracy: 0.8105\n",
      "Epoch 5/50\n",
      "1749/1749 [==============================] - ETA: 0s - loss: 0.1564 - accuracy: 0.84 - ETA: 0s - loss: 0.1928 - accuracy: 0.80 - ETA: 0s - loss: 0.1966 - accuracy: 0.80 - 0s 101us/sample - loss: 0.1939 - accuracy: 0.8062 - val_loss: 0.1896 - val_accuracy: 0.8105\n",
      "Epoch 6/50\n",
      "1749/1749 [==============================] - ETA: 0s - loss: 0.1564 - accuracy: 0.84 - ETA: 0s - loss: 0.1714 - accuracy: 0.82 - ETA: 0s - loss: 0.1877 - accuracy: 0.81 - 0s 97us/sample - loss: 0.1940 - accuracy: 0.8062 - val_loss: 0.1897 - val_accuracy: 0.8105\n",
      "Epoch 7/50\n",
      "1749/1749 [==============================] - ETA: 0s - loss: 0.2814 - accuracy: 0.71 - ETA: 0s - loss: 0.1906 - accuracy: 0.80 - ETA: 0s - loss: 0.1884 - accuracy: 0.81 - ETA: 0s - loss: 0.1922 - accuracy: 0.80 - 0s 117us/sample - loss: 0.1939 - accuracy: 0.8062 - val_loss: 0.1895 - val_accuracy: 0.8105\n",
      "Epoch 8/50\n",
      "1749/1749 [==============================] - ETA: 0s - loss: 0.2188 - accuracy: 0.78 - ETA: 0s - loss: 0.1911 - accuracy: 0.80 - ETA: 0s - loss: 0.1860 - accuracy: 0.81 - 0s 104us/sample - loss: 0.1939 - accuracy: 0.8062 - val_loss: 0.1898 - val_accuracy: 0.8105\n",
      "Epoch 9/50\n",
      "1749/1749 [==============================] - ETA: 0s - loss: 0.2502 - accuracy: 0.75 - ETA: 0s - loss: 0.1909 - accuracy: 0.80 - ETA: 0s - loss: 0.1870 - accuracy: 0.81 - 0s 99us/sample - loss: 0.1941 - accuracy: 0.8062 - val_loss: 0.1898 - val_accuracy: 0.8105\n",
      "Epoch 10/50\n",
      "1749/1749 [==============================] - ETA: 0s - loss: 0.1878 - accuracy: 0.81 - ETA: 0s - loss: 0.2070 - accuracy: 0.79 - ETA: 0s - loss: 0.2013 - accuracy: 0.79 - ETA: 0s - loss: 0.1928 - accuracy: 0.80 - 0s 118us/sample - loss: 0.1940 - accuracy: 0.8062 - val_loss: 0.1895 - val_accuracy: 0.8105\n",
      "Epoch 11/50\n",
      "1749/1749 [==============================] - ETA: 0s - loss: 0.1563 - accuracy: 0.84 - ETA: 0s - loss: 0.1980 - accuracy: 0.80 - ETA: 0s - loss: 0.2008 - accuracy: 0.79 - 0s 101us/sample - loss: 0.1939 - accuracy: 0.8062 - val_loss: 0.1896 - val_accuracy: 0.8105\n",
      "Epoch 12/50\n",
      "1749/1749 [==============================] - ETA: 0s - loss: 0.2188 - accuracy: 0.78 - ETA: 0s - loss: 0.1892 - accuracy: 0.81 - ETA: 0s - loss: 0.1970 - accuracy: 0.80 - 0s 99us/sample - loss: 0.1940 - accuracy: 0.8062 - val_loss: 0.1896 - val_accuracy: 0.8105\n",
      "Epoch 13/50\n",
      "1749/1749 [==============================] - ETA: 0s - loss: 0.2188 - accuracy: 0.78 - ETA: 0s - loss: 0.2039 - accuracy: 0.79 - ETA: 0s - loss: 0.2025 - accuracy: 0.79 - 0s 100us/sample - loss: 0.1939 - accuracy: 0.8062 - val_loss: 0.1897 - val_accuracy: 0.8105\n",
      "Epoch 14/50\n",
      "1749/1749 [==============================] - ETA: 0s - loss: 0.1252 - accuracy: 0.87 - ETA: 0s - loss: 0.2005 - accuracy: 0.79 - ETA: 0s - loss: 0.1994 - accuracy: 0.80 - ETA: 0s - loss: 0.1948 - accuracy: 0.80 - 0s 120us/sample - loss: 0.1940 - accuracy: 0.8062 - val_loss: 0.1895 - val_accuracy: 0.8105\n",
      "Epoch 15/50\n",
      "1749/1749 [==============================] - ETA: 0s - loss: 0.1563 - accuracy: 0.84 - ETA: 0s - loss: 0.2267 - accuracy: 0.77 - ETA: 0s - loss: 0.1997 - accuracy: 0.80 - 0s 99us/sample - loss: 0.1941 - accuracy: 0.8062 - val_loss: 0.1895 - val_accuracy: 0.8105\n",
      "Train on 1749 samples, validate on 438 samples\n",
      "Epoch 1/50\n",
      "1749/1749 [==============================] - ETA: 1:09 - loss: 0.2188 - accuracy: 0.78 - ETA: 2s - loss: 0.1951 - accuracy: 0.8051 - ETA: 0s - loss: 0.1947 - accuracy: 0.80 - ETA: 0s - loss: 0.1943 - accuracy: 0.80 - 2s 955us/sample - loss: 0.1943 - accuracy: 0.8062 - val_loss: 0.1900 - val_accuracy: 0.8105\n",
      "Epoch 2/50\n",
      "1749/1749 [==============================] - ETA: 0s - loss: 0.2504 - accuracy: 0.75 - ETA: 0s - loss: 0.2146 - accuracy: 0.78 - ETA: 0s - loss: 0.1967 - accuracy: 0.80 - ETA: 0s - loss: 0.1952 - accuracy: 0.80 - 0s 118us/sample - loss: 0.1940 - accuracy: 0.8062 - val_loss: 0.1898 - val_accuracy: 0.8105\n",
      "Epoch 3/50\n",
      "1749/1749 [==============================] - ETA: 0s - loss: 0.2190 - accuracy: 0.78 - ETA: 0s - loss: 0.2033 - accuracy: 0.79 - ETA: 0s - loss: 0.2028 - accuracy: 0.79 - 0s 104us/sample - loss: 0.1940 - accuracy: 0.8062 - val_loss: 0.1899 - val_accuracy: 0.8105\n",
      "Epoch 4/50\n",
      "1749/1749 [==============================] - ETA: 0s - loss: 0.1567 - accuracy: 0.84 - ETA: 0s - loss: 0.2056 - accuracy: 0.79 - ETA: 0s - loss: 0.1925 - accuracy: 0.80 - 0s 101us/sample - loss: 0.1940 - accuracy: 0.8062 - val_loss: 0.1896 - val_accuracy: 0.8105\n",
      "Epoch 5/50\n",
      "1749/1749 [==============================] - ETA: 0s - loss: 0.1564 - accuracy: 0.84 - ETA: 0s - loss: 0.1701 - accuracy: 0.83 - ETA: 0s - loss: 0.1867 - accuracy: 0.81 - ETA: 0s - loss: 0.1956 - accuracy: 0.80 - 0s 120us/sample - loss: 0.1941 - accuracy: 0.8062 - val_loss: 0.1896 - val_accuracy: 0.8105\n",
      "Epoch 6/50\n",
      "1749/1749 [==============================] - ETA: 0s - loss: 0.0939 - accuracy: 0.90 - ETA: 0s - loss: 0.1815 - accuracy: 0.81 - ETA: 0s - loss: 0.1933 - accuracy: 0.80 - 0s 101us/sample - loss: 0.1941 - accuracy: 0.8062 - val_loss: 0.1898 - val_accuracy: 0.8105\n",
      "Epoch 7/50\n",
      "1749/1749 [==============================] - ETA: 0s - loss: 0.1254 - accuracy: 0.87 - ETA: 0s - loss: 0.1939 - accuracy: 0.80 - ETA: 0s - loss: 0.1971 - accuracy: 0.80 - 0s 98us/sample - loss: 0.1941 - accuracy: 0.8062 - val_loss: 0.1895 - val_accuracy: 0.8105\n",
      "Epoch 8/50\n",
      "1749/1749 [==============================] - ETA: 0s - loss: 0.2188 - accuracy: 0.78 - ETA: 0s - loss: 0.1799 - accuracy: 0.82 - ETA: 0s - loss: 0.1825 - accuracy: 0.81 - ETA: 0s - loss: 0.1984 - accuracy: 0.80 - 0s 124us/sample - loss: 0.1941 - accuracy: 0.8062 - val_loss: 0.1896 - val_accuracy: 0.8105\n",
      "Epoch 9/50\n",
      "1749/1749 [==============================] - ETA: 0s - loss: 0.1564 - accuracy: 0.84 - ETA: 0s - loss: 0.1846 - accuracy: 0.81 - ETA: 0s - loss: 0.1837 - accuracy: 0.81 - 0s 100us/sample - loss: 0.1940 - accuracy: 0.8062 - val_loss: 0.1895 - val_accuracy: 0.8105\n",
      "Epoch 10/50\n",
      "1749/1749 [==============================] - ETA: 0s - loss: 0.1250 - accuracy: 0.87 - ETA: 0s - loss: 0.1907 - accuracy: 0.80 - ETA: 0s - loss: 0.1972 - accuracy: 0.80 - 0s 100us/sample - loss: 0.1939 - accuracy: 0.8062 - val_loss: 0.1897 - val_accuracy: 0.8105\n",
      "Epoch 11/50\n",
      "1749/1749 [==============================] - ETA: 0s - loss: 0.1565 - accuracy: 0.84 - ETA: 0s - loss: 0.2106 - accuracy: 0.78 - ETA: 0s - loss: 0.1974 - accuracy: 0.80 - ETA: 0s - loss: 0.1940 - accuracy: 0.80 - 0s 126us/sample - loss: 0.1939 - accuracy: 0.8062 - val_loss: 0.1895 - val_accuracy: 0.8105\n",
      "Epoch 12/50\n",
      "1749/1749 [==============================] - ETA: 0s - loss: 0.2188 - accuracy: 0.78 - ETA: 0s - loss: 0.2040 - accuracy: 0.79 - ETA: 0s - loss: 0.1916 - accuracy: 0.80 - 0s 99us/sample - loss: 0.1940 - accuracy: 0.8062 - val_loss: 0.1896 - val_accuracy: 0.8105\n",
      "Epoch 13/50\n",
      "1749/1749 [==============================] - ETA: 0s - loss: 0.0939 - accuracy: 0.90 - ETA: 0s - loss: 0.1861 - accuracy: 0.81 - ETA: 0s - loss: 0.1932 - accuracy: 0.80 - 0s 99us/sample - loss: 0.1940 - accuracy: 0.8062 - val_loss: 0.1896 - val_accuracy: 0.8105\n"
     ]
    },
    {
     "name": "stdout",
     "output_type": "stream",
     "text": [
      "Epoch 14/50\n",
      "1749/1749 [==============================] - ETA: 0s - loss: 0.2501 - accuracy: 0.75 - ETA: 0s - loss: 0.2063 - accuracy: 0.79 - ETA: 0s - loss: 0.2036 - accuracy: 0.79 - ETA: 0s - loss: 0.1931 - accuracy: 0.80 - 0s 123us/sample - loss: 0.1939 - accuracy: 0.8062 - val_loss: 0.1897 - val_accuracy: 0.8105\n",
      "Train on 1749 samples, validate on 438 samples\n",
      "Epoch 1/50\n",
      "1749/1749 [==============================] - ETA: 1:01 - loss: 0.2500 - accuracy: 0.75 - ETA: 1s - loss: 0.2117 - accuracy: 0.7887 - ETA: 0s - loss: 0.1956 - accuracy: 0.80 - 1s 847us/sample - loss: 0.1941 - accuracy: 0.8062 - val_loss: 0.1895 - val_accuracy: 0.8105\n",
      "Epoch 2/50\n",
      "1749/1749 [==============================] - ETA: 0s - loss: 0.1563 - accuracy: 0.84 - ETA: 0s - loss: 0.2016 - accuracy: 0.79 - ETA: 0s - loss: 0.1900 - accuracy: 0.81 - 0s 100us/sample - loss: 0.1939 - accuracy: 0.8062 - val_loss: 0.1898 - val_accuracy: 0.8105\n",
      "Epoch 3/50\n",
      "1749/1749 [==============================] - ETA: 0s - loss: 0.1878 - accuracy: 0.81 - ETA: 0s - loss: 0.1923 - accuracy: 0.80 - ETA: 0s - loss: 0.1892 - accuracy: 0.81 - ETA: 0s - loss: 0.1953 - accuracy: 0.80 - 0s 120us/sample - loss: 0.1940 - accuracy: 0.8062 - val_loss: 0.1895 - val_accuracy: 0.8105\n",
      "Epoch 4/50\n",
      "1749/1749 [==============================] - ETA: 0s - loss: 0.1875 - accuracy: 0.81 - ETA: 0s - loss: 0.1798 - accuracy: 0.82 - ETA: 0s - loss: 0.1940 - accuracy: 0.80 - ETA: 0s - loss: 0.1947 - accuracy: 0.80 - 0s 112us/sample - loss: 0.1939 - accuracy: 0.8062 - val_loss: 0.1897 - val_accuracy: 0.8105\n",
      "Epoch 5/50\n",
      "1749/1749 [==============================] - ETA: 0s - loss: 0.1565 - accuracy: 0.84 - ETA: 0s - loss: 0.2033 - accuracy: 0.79 - ETA: 0s - loss: 0.1964 - accuracy: 0.80 - 0s 102us/sample - loss: 0.1939 - accuracy: 0.8062 - val_loss: 0.1896 - val_accuracy: 0.8105\n",
      "Epoch 6/50\n",
      "1749/1749 [==============================] - ETA: 0s - loss: 0.2189 - accuracy: 0.78 - ETA: 0s - loss: 0.1830 - accuracy: 0.81 - ETA: 0s - loss: 0.1909 - accuracy: 0.80 - 0s 101us/sample - loss: 0.1940 - accuracy: 0.8062 - val_loss: 0.1896 - val_accuracy: 0.8105\n",
      "Epoch 7/50\n",
      "1749/1749 [==============================] - ETA: 0s - loss: 0.0939 - accuracy: 0.90 - ETA: 0s - loss: 0.1906 - accuracy: 0.80 - ETA: 0s - loss: 0.1923 - accuracy: 0.80 - 0s 100us/sample - loss: 0.1939 - accuracy: 0.8062 - val_loss: 0.1897 - val_accuracy: 0.8105\n",
      "Epoch 8/50\n",
      "1749/1749 [==============================] - ETA: 0s - loss: 0.2189 - accuracy: 0.78 - ETA: 0s - loss: 0.2064 - accuracy: 0.79 - ETA: 0s - loss: 0.2046 - accuracy: 0.79 - ETA: 0s - loss: 0.1927 - accuracy: 0.80 - 0s 128us/sample - loss: 0.1939 - accuracy: 0.8062 - val_loss: 0.1896 - val_accuracy: 0.8105\n",
      "Train on 1749 samples, validate on 438 samples\n",
      "Epoch 1/50\n",
      "1749/1749 [==============================] - ETA: 55s - loss: 0.2500 - accuracy: 0.750 - ETA: 2s - loss: 0.2246 - accuracy: 0.775 - ETA: 0s - loss: 0.2191 - accuracy: 0.78 - ETA: 0s - loss: 0.2031 - accuracy: 0.79 - 2s 868us/sample - loss: 0.1941 - accuracy: 0.8062 - val_loss: 0.1896 - val_accuracy: 0.8105\n",
      "Epoch 2/50\n",
      "1749/1749 [==============================] - ETA: 0s - loss: 0.2814 - accuracy: 0.71 - ETA: 0s - loss: 0.2090 - accuracy: 0.79 - ETA: 0s - loss: 0.2037 - accuracy: 0.79 - ETA: 0s - loss: 0.1940 - accuracy: 0.80 - 0s 114us/sample - loss: 0.1940 - accuracy: 0.8062 - val_loss: 0.1897 - val_accuracy: 0.8105\n",
      "Epoch 3/50\n",
      "1749/1749 [==============================] - ETA: 0s - loss: 0.1253 - accuracy: 0.87 - ETA: 0s - loss: 0.1906 - accuracy: 0.80 - ETA: 0s - loss: 0.1878 - accuracy: 0.81 - ETA: 0s - loss: 0.1995 - accuracy: 0.80 - 0s 149us/sample - loss: 0.1941 - accuracy: 0.8062 - val_loss: 0.1899 - val_accuracy: 0.8105\n",
      "Epoch 4/50\n",
      "1749/1749 [==============================] - ETA: 0s - loss: 0.1879 - accuracy: 0.81 - ETA: 0s - loss: 0.1738 - accuracy: 0.82 - ETA: 0s - loss: 0.1826 - accuracy: 0.81 - 0s 110us/sample - loss: 0.1940 - accuracy: 0.8062 - val_loss: 0.1896 - val_accuracy: 0.8105\n",
      "Epoch 5/50\n",
      "1749/1749 [==============================] - ETA: 0s - loss: 0.2501 - accuracy: 0.75 - ETA: 0s - loss: 0.1861 - accuracy: 0.81 - ETA: 0s - loss: 0.1894 - accuracy: 0.81 - ETA: 0s - loss: 0.1924 - accuracy: 0.80 - 0s 117us/sample - loss: 0.1940 - accuracy: 0.8062 - val_loss: 0.1896 - val_accuracy: 0.8105\n",
      "Epoch 6/50\n",
      "1749/1749 [==============================] - ETA: 0s - loss: 0.2501 - accuracy: 0.75 - ETA: 0s - loss: 0.2189 - accuracy: 0.78 - ETA: 0s - loss: 0.2076 - accuracy: 0.79 - ETA: 0s - loss: 0.2013 - accuracy: 0.79 - 0s 133us/sample - loss: 0.1940 - accuracy: 0.8062 - val_loss: 0.1895 - val_accuracy: 0.8105\n",
      "Epoch 7/50\n",
      "1749/1749 [==============================] - ETA: 0s - loss: 0.1563 - accuracy: 0.84 - ETA: 0s - loss: 0.1759 - accuracy: 0.82 - ETA: 0s - loss: 0.1906 - accuracy: 0.80 - ETA: 0s - loss: 0.1976 - accuracy: 0.80 - 0s 130us/sample - loss: 0.1939 - accuracy: 0.8062 - val_loss: 0.1896 - val_accuracy: 0.8105\n",
      "Epoch 8/50\n",
      "1749/1749 [==============================] - ETA: 0s - loss: 0.1251 - accuracy: 0.87 - ETA: 0s - loss: 0.2322 - accuracy: 0.76 - ETA: 0s - loss: 0.2032 - accuracy: 0.79 - ETA: 0s - loss: 0.2009 - accuracy: 0.79 - ETA: 0s - loss: 0.1972 - accuracy: 0.80 - 0s 169us/sample - loss: 0.1940 - accuracy: 0.8062 - val_loss: 0.1896 - val_accuracy: 0.8105\n",
      "Epoch 9/50\n",
      "1749/1749 [==============================] - ETA: 0s - loss: 0.2501 - accuracy: 0.75 - ETA: 0s - loss: 0.1837 - accuracy: 0.81 - ETA: 0s - loss: 0.1876 - accuracy: 0.81 - ETA: 0s - loss: 0.1959 - accuracy: 0.80 - ETA: 0s - loss: 0.1945 - accuracy: 0.80 - 0s 149us/sample - loss: 0.1940 - accuracy: 0.8062 - val_loss: 0.1896 - val_accuracy: 0.8105\n",
      "Epoch 10/50\n",
      "1749/1749 [==============================] - ETA: 0s - loss: 0.0626 - accuracy: 0.93 - ETA: 0s - loss: 0.1844 - accuracy: 0.81 - ETA: 0s - loss: 0.1903 - accuracy: 0.80 - ETA: 0s - loss: 0.1927 - accuracy: 0.80 - 0s 133us/sample - loss: 0.1939 - accuracy: 0.8062 - val_loss: 0.1896 - val_accuracy: 0.8105\n",
      "Epoch 11/50\n",
      "1749/1749 [==============================] - ETA: 0s - loss: 0.1876 - accuracy: 0.81 - ETA: 0s - loss: 0.2044 - accuracy: 0.79 - ETA: 0s - loss: 0.1877 - accuracy: 0.81 - ETA: 0s - loss: 0.1909 - accuracy: 0.80 - 0s 122us/sample - loss: 0.1940 - accuracy: 0.8062 - val_loss: 0.1897 - val_accuracy: 0.8105\n"
     ]
    },
    {
     "data": {
      "text/html": [
       "<span style=\"color:#4527A0\"><h1 style=\"font-size:18px\">Trial complete</h1></span>"
      ],
      "text/plain": [
       "<IPython.core.display.HTML object>"
      ]
     },
     "metadata": {},
     "output_type": "display_data"
    },
    {
     "data": {
      "text/html": [
       "<span style=\"color:#4527A0\"><h1 style=\"font-size:18px\">Trial summary</h1></span>"
      ],
      "text/plain": [
       "<IPython.core.display.HTML object>"
      ]
     },
     "metadata": {},
     "output_type": "display_data"
    },
    {
     "data": {
      "text/html": [
       "<span style=\"color:cyan\"> |-Trial ID: 9aecf41af53bc914fa06a65325fc4a38</span>"
      ],
      "text/plain": [
       "<IPython.core.display.HTML object>"
      ]
     },
     "metadata": {},
     "output_type": "display_data"
    },
    {
     "data": {
      "text/html": [
       "<span style=\"color:cyan\"> |-Score: 0.810502290725708</span>"
      ],
      "text/plain": [
       "<IPython.core.display.HTML object>"
      ]
     },
     "metadata": {},
     "output_type": "display_data"
    },
    {
     "data": {
      "text/html": [
       "<span style=\"color:cyan\"> |-Best step: 0</span>"
      ],
      "text/plain": [
       "<IPython.core.display.HTML object>"
      ]
     },
     "metadata": {},
     "output_type": "display_data"
    },
    {
     "data": {
      "text/html": [
       "<span style=\"color:#7E57C2\"><h2 style=\"font-size:16px\">Hyperparameters:</h2></span>"
      ],
      "text/plain": [
       "<IPython.core.display.HTML object>"
      ]
     },
     "metadata": {},
     "output_type": "display_data"
    },
    {
     "data": {
      "text/html": [
       "<span style=\"color:cyan\"> |-learning_rate: 0.0001</span>"
      ],
      "text/plain": [
       "<IPython.core.display.HTML object>"
      ]
     },
     "metadata": {},
     "output_type": "display_data"
    },
    {
     "data": {
      "text/html": [
       "<span style=\"color:blue\"> |-num_layers: 11</span>"
      ],
      "text/plain": [
       "<IPython.core.display.HTML object>"
      ]
     },
     "metadata": {},
     "output_type": "display_data"
    },
    {
     "data": {
      "text/html": [
       "<span style=\"color:cyan\"> |-units_0: 128</span>"
      ],
      "text/plain": [
       "<IPython.core.display.HTML object>"
      ]
     },
     "metadata": {},
     "output_type": "display_data"
    },
    {
     "data": {
      "text/html": [
       "<span style=\"color:blue\"> |-units_1: 160</span>"
      ],
      "text/plain": [
       "<IPython.core.display.HTML object>"
      ]
     },
     "metadata": {},
     "output_type": "display_data"
    },
    {
     "data": {
      "text/html": [
       "<span style=\"color:cyan\"> |-units_10: 448</span>"
      ],
      "text/plain": [
       "<IPython.core.display.HTML object>"
      ]
     },
     "metadata": {},
     "output_type": "display_data"
    },
    {
     "data": {
      "text/html": [
       "<span style=\"color:blue\"> |-units_11: 288</span>"
      ],
      "text/plain": [
       "<IPython.core.display.HTML object>"
      ]
     },
     "metadata": {},
     "output_type": "display_data"
    },
    {
     "data": {
      "text/html": [
       "<span style=\"color:cyan\"> |-units_12: 32</span>"
      ],
      "text/plain": [
       "<IPython.core.display.HTML object>"
      ]
     },
     "metadata": {},
     "output_type": "display_data"
    },
    {
     "data": {
      "text/html": [
       "<span style=\"color:blue\"> |-units_13: 416</span>"
      ],
      "text/plain": [
       "<IPython.core.display.HTML object>"
      ]
     },
     "metadata": {},
     "output_type": "display_data"
    },
    {
     "data": {
      "text/html": [
       "<span style=\"color:cyan\"> |-units_14: 128</span>"
      ],
      "text/plain": [
       "<IPython.core.display.HTML object>"
      ]
     },
     "metadata": {},
     "output_type": "display_data"
    },
    {
     "data": {
      "text/html": [
       "<span style=\"color:blue\"> |-units_15: 192</span>"
      ],
      "text/plain": [
       "<IPython.core.display.HTML object>"
      ]
     },
     "metadata": {},
     "output_type": "display_data"
    },
    {
     "data": {
      "text/html": [
       "<span style=\"color:cyan\"> |-units_16: 320</span>"
      ],
      "text/plain": [
       "<IPython.core.display.HTML object>"
      ]
     },
     "metadata": {},
     "output_type": "display_data"
    },
    {
     "data": {
      "text/html": [
       "<span style=\"color:blue\"> |-units_17: 160</span>"
      ],
      "text/plain": [
       "<IPython.core.display.HTML object>"
      ]
     },
     "metadata": {},
     "output_type": "display_data"
    },
    {
     "data": {
      "text/html": [
       "<span style=\"color:cyan\"> |-units_18: 512</span>"
      ],
      "text/plain": [
       "<IPython.core.display.HTML object>"
      ]
     },
     "metadata": {},
     "output_type": "display_data"
    },
    {
     "data": {
      "text/html": [
       "<span style=\"color:blue\"> |-units_2: 480</span>"
      ],
      "text/plain": [
       "<IPython.core.display.HTML object>"
      ]
     },
     "metadata": {},
     "output_type": "display_data"
    },
    {
     "data": {
      "text/html": [
       "<span style=\"color:cyan\"> |-units_3: 288</span>"
      ],
      "text/plain": [
       "<IPython.core.display.HTML object>"
      ]
     },
     "metadata": {},
     "output_type": "display_data"
    },
    {
     "data": {
      "text/html": [
       "<span style=\"color:blue\"> |-units_4: 384</span>"
      ],
      "text/plain": [
       "<IPython.core.display.HTML object>"
      ]
     },
     "metadata": {},
     "output_type": "display_data"
    },
    {
     "data": {
      "text/html": [
       "<span style=\"color:cyan\"> |-units_5: 288</span>"
      ],
      "text/plain": [
       "<IPython.core.display.HTML object>"
      ]
     },
     "metadata": {},
     "output_type": "display_data"
    },
    {
     "data": {
      "text/html": [
       "<span style=\"color:blue\"> |-units_6: 96</span>"
      ],
      "text/plain": [
       "<IPython.core.display.HTML object>"
      ]
     },
     "metadata": {},
     "output_type": "display_data"
    },
    {
     "data": {
      "text/html": [
       "<span style=\"color:cyan\"> |-units_7: 64</span>"
      ],
      "text/plain": [
       "<IPython.core.display.HTML object>"
      ]
     },
     "metadata": {},
     "output_type": "display_data"
    },
    {
     "data": {
      "text/html": [
       "<span style=\"color:blue\"> |-units_8: 480</span>"
      ],
      "text/plain": [
       "<IPython.core.display.HTML object>"
      ]
     },
     "metadata": {},
     "output_type": "display_data"
    },
    {
     "data": {
      "text/html": [
       "<span style=\"color:cyan\"> |-units_9: 288</span>"
      ],
      "text/plain": [
       "<IPython.core.display.HTML object>"
      ]
     },
     "metadata": {},
     "output_type": "display_data"
    },
    {
     "name": "stdout",
     "output_type": "stream",
     "text": [
      "Train on 1749 samples, validate on 438 samples\n",
      "Epoch 1/50\n",
      "1749/1749 [==============================] - ETA: 1:01 - loss: 0.1250 - accuracy: 0.87 - ETA: 1s - loss: 0.1982 - accuracy: 0.8021 - ETA: 0s - loss: 0.1971 - accuracy: 0.80 - 2s 1ms/sample - loss: 0.1940 - accuracy: 0.8062 - val_loss: 0.1896 - val_accuracy: 0.8105\n",
      "Epoch 2/50\n",
      "1749/1749 [==============================] - ETA: 0s - loss: 0.1251 - accuracy: 0.87 - ETA: 0s - loss: 0.2188 - accuracy: 0.78 - ETA: 0s - loss: 0.2056 - accuracy: 0.79 - ETA: 0s - loss: 0.1940 - accuracy: 0.80 - 0s 133us/sample - loss: 0.1939 - accuracy: 0.8062 - val_loss: 0.1895 - val_accuracy: 0.8105\n",
      "Epoch 3/50\n",
      "1749/1749 [==============================] - ETA: 0s - loss: 0.1563 - accuracy: 0.84 - ETA: 0s - loss: 0.1995 - accuracy: 0.80 - ETA: 0s - loss: 0.1913 - accuracy: 0.80 - 0s 95us/sample - loss: 0.1939 - accuracy: 0.8062 - val_loss: 0.1897 - val_accuracy: 0.8105\n",
      "Epoch 4/50\n",
      "1749/1749 [==============================] - ETA: 0s - loss: 0.2814 - accuracy: 0.71 - ETA: 0s - loss: 0.2025 - accuracy: 0.79 - ETA: 0s - loss: 0.1932 - accuracy: 0.80 - 0s 101us/sample - loss: 0.1939 - accuracy: 0.8062 - val_loss: 0.1896 - val_accuracy: 0.8105\n",
      "Epoch 5/50\n",
      "1749/1749 [==============================] - ETA: 0s - loss: 0.1876 - accuracy: 0.81 - ETA: 0s - loss: 0.1784 - accuracy: 0.82 - ETA: 0s - loss: 0.1771 - accuracy: 0.82 - ETA: 0s - loss: 0.1876 - accuracy: 0.81 - ETA: 0s - loss: 0.1941 - accuracy: 0.80 - 0s 160us/sample - loss: 0.1939 - accuracy: 0.8062 - val_loss: 0.1896 - val_accuracy: 0.8105\n",
      "Epoch 6/50\n",
      "1749/1749 [==============================] - ETA: 0s - loss: 0.2501 - accuracy: 0.75 - ETA: 0s - loss: 0.1772 - accuracy: 0.82 - ETA: 0s - loss: 0.1877 - accuracy: 0.81 - ETA: 0s - loss: 0.2018 - accuracy: 0.79 - ETA: 0s - loss: 0.1909 - accuracy: 0.80 - 0s 175us/sample - loss: 0.1940 - accuracy: 0.8062 - val_loss: 0.1897 - val_accuracy: 0.8105\n",
      "Epoch 7/50\n",
      "1749/1749 [==============================] - ETA: 0s - loss: 0.1252 - accuracy: 0.87 - ETA: 0s - loss: 0.1980 - accuracy: 0.80 - ETA: 0s - loss: 0.1933 - accuracy: 0.80 - ETA: 0s - loss: 0.1934 - accuracy: 0.80 - 0s 118us/sample - loss: 0.1939 - accuracy: 0.8062 - val_loss: 0.1897 - val_accuracy: 0.8105\n",
      "Train on 1749 samples, validate on 438 samples\n",
      "Epoch 1/50\n",
      "1749/1749 [==============================] - ETA: 56s - loss: 0.2188 - accuracy: 0.781 - ETA: 1s - loss: 0.1675 - accuracy: 0.832 - ETA: 0s - loss: 0.1869 - accuracy: 0.81 - 1s 817us/sample - loss: 0.1940 - accuracy: 0.8062 - val_loss: 0.1895 - val_accuracy: 0.8105\n",
      "Epoch 2/50\n",
      "1749/1749 [==============================] - ETA: 0s - loss: 0.1563 - accuracy: 0.84 - ETA: 0s - loss: 0.1662 - accuracy: 0.83 - ETA: 0s - loss: 0.1923 - accuracy: 0.80 - ETA: 0s - loss: 0.1936 - accuracy: 0.80 - 0s 129us/sample - loss: 0.1939 - accuracy: 0.8062 - val_loss: 0.1897 - val_accuracy: 0.8105\n",
      "Epoch 3/50\n",
      "1749/1749 [==============================] - ETA: 0s - loss: 0.2189 - accuracy: 0.78 - ETA: 0s - loss: 0.1959 - accuracy: 0.80 - ETA: 0s - loss: 0.1893 - accuracy: 0.81 - 0s 99us/sample - loss: 0.1940 - accuracy: 0.8062 - val_loss: 0.1896 - val_accuracy: 0.8105\n",
      "Epoch 4/50\n",
      "1749/1749 [==============================] - ETA: 0s - loss: 0.1564 - accuracy: 0.84 - ETA: 0s - loss: 0.1651 - accuracy: 0.83 - ETA: 0s - loss: 0.1810 - accuracy: 0.81 - ETA: 0s - loss: 0.1947 - accuracy: 0.80 - 0s 137us/sample - loss: 0.1940 - accuracy: 0.8062 - val_loss: 0.1895 - val_accuracy: 0.8105\n",
      "Epoch 5/50\n",
      "1749/1749 [==============================] - ETA: 0s - loss: 0.0938 - accuracy: 0.90 - ETA: 0s - loss: 0.1846 - accuracy: 0.81 - ETA: 0s - loss: 0.1992 - accuracy: 0.80 - 0s 105us/sample - loss: 0.1940 - accuracy: 0.8062 - val_loss: 0.1896 - val_accuracy: 0.8105\n",
      "Epoch 6/50\n",
      "1749/1749 [==============================] - ETA: 0s - loss: 0.2501 - accuracy: 0.75 - ETA: 0s - loss: 0.2275 - accuracy: 0.77 - ETA: 0s - loss: 0.2096 - accuracy: 0.79 - ETA: 0s - loss: 0.1978 - accuracy: 0.80 - 0s 125us/sample - loss: 0.1939 - accuracy: 0.8062 - val_loss: 0.1895 - val_accuracy: 0.8105\n",
      "Epoch 7/50\n",
      "1749/1749 [==============================] - ETA: 0s - loss: 0.1250 - accuracy: 0.87 - ETA: 0s - loss: 0.2214 - accuracy: 0.77 - ETA: 0s - loss: 0.1940 - accuracy: 0.80 - ETA: 0s - loss: 0.1888 - accuracy: 0.81 - 0s 115us/sample - loss: 0.1939 - accuracy: 0.8062 - val_loss: 0.1896 - val_accuracy: 0.8105\n",
      "Epoch 8/50\n",
      "1749/1749 [==============================] - ETA: 0s - loss: 0.1251 - accuracy: 0.87 - ETA: 0s - loss: 0.1660 - accuracy: 0.83 - ETA: 0s - loss: 0.1856 - accuracy: 0.81 - 0s 90us/sample - loss: 0.1940 - accuracy: 0.8062 - val_loss: 0.1896 - val_accuracy: 0.8105\n",
      "Epoch 9/50\n",
      "1749/1749 [==============================] - ETA: 0s - loss: 0.2189 - accuracy: 0.78 - ETA: 0s - loss: 0.1890 - accuracy: 0.81 - ETA: 0s - loss: 0.1926 - accuracy: 0.80 - 0s 91us/sample - loss: 0.1939 - accuracy: 0.8062 - val_loss: 0.1895 - val_accuracy: 0.8105\n",
      "Epoch 10/50\n",
      "1749/1749 [==============================] - ETA: 0s - loss: 0.1563 - accuracy: 0.84 - ETA: 0s - loss: 0.1691 - accuracy: 0.83 - ETA: 0s - loss: 0.1851 - accuracy: 0.81 - ETA: 0s - loss: 0.1935 - accuracy: 0.80 - 0s 121us/sample - loss: 0.1939 - accuracy: 0.8062 - val_loss: 0.1898 - val_accuracy: 0.8105\n",
      "Epoch 11/50\n",
      "1749/1749 [==============================] - ETA: 0s - loss: 0.2190 - accuracy: 0.78 - ETA: 0s - loss: 0.2092 - accuracy: 0.79 - ETA: 0s - loss: 0.1991 - accuracy: 0.80 - ETA: 0s - loss: 0.1920 - accuracy: 0.80 - 0s 116us/sample - loss: 0.1939 - accuracy: 0.8062 - val_loss: 0.1896 - val_accuracy: 0.8105\n",
      "Epoch 12/50\n",
      "1749/1749 [==============================] - ETA: 0s - loss: 0.0939 - accuracy: 0.90 - ETA: 0s - loss: 0.1974 - accuracy: 0.80 - ETA: 0s - loss: 0.1828 - accuracy: 0.81 - 0s 101us/sample - loss: 0.1939 - accuracy: 0.8062 - val_loss: 0.1897 - val_accuracy: 0.8105\n",
      "Epoch 13/50\n",
      "1749/1749 [==============================] - ETA: 0s - loss: 0.2814 - accuracy: 0.71 - ETA: 0s - loss: 0.1919 - accuracy: 0.80 - ETA: 0s - loss: 0.1983 - accuracy: 0.80 - 0s 109us/sample - loss: 0.1939 - accuracy: 0.8062 - val_loss: 0.1896 - val_accuracy: 0.8105\n",
      "Epoch 14/50\n",
      "1749/1749 [==============================] - ETA: 0s - loss: 0.1876 - accuracy: 0.81 - ETA: 0s - loss: 0.1633 - accuracy: 0.83 - ETA: 0s - loss: 0.1995 - accuracy: 0.80 - ETA: 0s - loss: 0.1913 - accuracy: 0.80 - 0s 112us/sample - loss: 0.1939 - accuracy: 0.8062 - val_loss: 0.1895 - val_accuracy: 0.8105\n",
      "Train on 1749 samples, validate on 438 samples\n",
      "Epoch 1/50\n",
      "1749/1749 [==============================] - ETA: 49s - loss: 0.1250 - accuracy: 0.875 - ETA: 1s - loss: 0.1955 - accuracy: 0.804 - ETA: 0s - loss: 0.1961 - accuracy: 0.80 - ETA: 0s - loss: 0.1940 - accuracy: 0.80 - 1s 733us/sample - loss: 0.1940 - accuracy: 0.8062 - val_loss: 0.1896 - val_accuracy: 0.8105\n",
      "Epoch 2/50\n",
      "1749/1749 [==============================] - ETA: 0s - loss: 0.1876 - accuracy: 0.81 - ETA: 0s - loss: 0.1847 - accuracy: 0.81 - ETA: 0s - loss: 0.1925 - accuracy: 0.80 - 0s 98us/sample - loss: 0.1940 - accuracy: 0.8062 - val_loss: 0.1896 - val_accuracy: 0.8105\n",
      "Epoch 3/50\n",
      "1749/1749 [==============================] - ETA: 0s - loss: 0.1564 - accuracy: 0.84 - ETA: 0s - loss: 0.1951 - accuracy: 0.80 - ETA: 0s - loss: 0.2001 - accuracy: 0.80 - 0s 98us/sample - loss: 0.1940 - accuracy: 0.8062 - val_loss: 0.1896 - val_accuracy: 0.8105\n",
      "Epoch 4/50\n",
      "1749/1749 [==============================] - ETA: 0s - loss: 0.2501 - accuracy: 0.75 - ETA: 0s - loss: 0.1772 - accuracy: 0.82 - ETA: 0s - loss: 0.1913 - accuracy: 0.80 - 0s 115us/sample - loss: 0.1939 - accuracy: 0.8062 - val_loss: 0.1895 - val_accuracy: 0.8105\n",
      "Epoch 5/50\n",
      "1749/1749 [==============================] - ETA: 0s - loss: 0.1563 - accuracy: 0.84 - ETA: 0s - loss: 0.1766 - accuracy: 0.82 - ETA: 0s - loss: 0.1943 - accuracy: 0.80 - ETA: 0s - loss: 0.1924 - accuracy: 0.80 - 0s 109us/sample - loss: 0.1940 - accuracy: 0.8062 - val_loss: 0.1897 - val_accuracy: 0.8105\n",
      "Epoch 6/50\n",
      "1749/1749 [==============================] - ETA: 0s - loss: 0.2190 - accuracy: 0.78 - ETA: 0s - loss: 0.1791 - accuracy: 0.82 - ETA: 0s - loss: 0.1905 - accuracy: 0.80 - 0s 91us/sample - loss: 0.1939 - accuracy: 0.8062 - val_loss: 0.1897 - val_accuracy: 0.8105\n",
      "Epoch 7/50\n"
     ]
    },
    {
     "name": "stdout",
     "output_type": "stream",
     "text": [
      "1749/1749 [==============================] - ETA: 0s - loss: 0.2189 - accuracy: 0.78 - ETA: 0s - loss: 0.2004 - accuracy: 0.79 - ETA: 0s - loss: 0.1980 - accuracy: 0.80 - 0s 101us/sample - loss: 0.1939 - accuracy: 0.8062 - val_loss: 0.1896 - val_accuracy: 0.8105\n",
      "Epoch 8/50\n",
      "1749/1749 [==============================] - ETA: 0s - loss: 0.1252 - accuracy: 0.87 - ETA: 0s - loss: 0.1990 - accuracy: 0.80 - ETA: 0s - loss: 0.1987 - accuracy: 0.80 - 0s 102us/sample - loss: 0.1939 - accuracy: 0.8062 - val_loss: 0.1895 - val_accuracy: 0.8105\n",
      "Epoch 9/50\n",
      "1749/1749 [==============================] - ETA: 0s - loss: 0.0313 - accuracy: 0.96 - ETA: 0s - loss: 0.1995 - accuracy: 0.80 - ETA: 0s - loss: 0.1916 - accuracy: 0.80 - 0s 109us/sample - loss: 0.1939 - accuracy: 0.8062 - val_loss: 0.1897 - val_accuracy: 0.8105\n",
      "Epoch 10/50\n",
      "1749/1749 [==============================] - ETA: 0s - loss: 0.0940 - accuracy: 0.90 - ETA: 0s - loss: 0.1839 - accuracy: 0.81 - ETA: 0s - loss: 0.1974 - accuracy: 0.80 - 0s 104us/sample - loss: 0.1939 - accuracy: 0.8062 - val_loss: 0.1897 - val_accuracy: 0.8105\n",
      "Epoch 11/50\n",
      "1749/1749 [==============================] - ETA: 0s - loss: 0.1564 - accuracy: 0.84 - ETA: 0s - loss: 0.1918 - accuracy: 0.80 - ETA: 0s - loss: 0.1960 - accuracy: 0.80 - 0s 96us/sample - loss: 0.1940 - accuracy: 0.8062 - val_loss: 0.1897 - val_accuracy: 0.8105\n",
      "Epoch 12/50\n",
      "1749/1749 [==============================] - ETA: 0s - loss: 0.1253 - accuracy: 0.87 - ETA: 0s - loss: 0.1727 - accuracy: 0.82 - ETA: 0s - loss: 0.1905 - accuracy: 0.80 - 0s 93us/sample - loss: 0.1940 - accuracy: 0.8062 - val_loss: 0.1896 - val_accuracy: 0.8105\n",
      "Epoch 13/50\n",
      "1749/1749 [==============================] - ETA: 0s - loss: 0.0938 - accuracy: 0.90 - ETA: 0s - loss: 0.1950 - accuracy: 0.80 - ETA: 0s - loss: 0.1973 - accuracy: 0.80 - 0s 94us/sample - loss: 0.1939 - accuracy: 0.8062 - val_loss: 0.1896 - val_accuracy: 0.8105\n",
      "Train on 1749 samples, validate on 438 samples\n",
      "Epoch 1/50\n",
      "1749/1749 [==============================] - ETA: 54s - loss: 0.2500 - accuracy: 0.750 - ETA: 1s - loss: 0.1861 - accuracy: 0.814 - ETA: 0s - loss: 0.1906 - accuracy: 0.80 - ETA: 0s - loss: 0.1972 - accuracy: 0.80 - 1s 817us/sample - loss: 0.1940 - accuracy: 0.8062 - val_loss: 0.1896 - val_accuracy: 0.8105\n",
      "Epoch 2/50\n",
      "1749/1749 [==============================] - ETA: 0s - loss: 0.1564 - accuracy: 0.84 - ETA: 0s - loss: 0.2002 - accuracy: 0.80 - ETA: 0s - loss: 0.1970 - accuracy: 0.80 - 0s 99us/sample - loss: 0.1939 - accuracy: 0.8062 - val_loss: 0.1895 - val_accuracy: 0.8105\n",
      "Epoch 3/50\n",
      "1749/1749 [==============================] - ETA: 0s - loss: 0.1875 - accuracy: 0.81 - ETA: 0s - loss: 0.2170 - accuracy: 0.78 - ETA: 0s - loss: 0.2065 - accuracy: 0.79 - ETA: 0s - loss: 0.1978 - accuracy: 0.80 - 0s 131us/sample - loss: 0.1939 - accuracy: 0.8062 - val_loss: 0.1898 - val_accuracy: 0.8105\n",
      "Epoch 4/50\n",
      "1749/1749 [==============================] - ETA: 0s - loss: 0.3128 - accuracy: 0.68 - ETA: 0s - loss: 0.2218 - accuracy: 0.77 - ETA: 0s - loss: 0.2100 - accuracy: 0.79 - ETA: 0s - loss: 0.1991 - accuracy: 0.80 - ETA: 0s - loss: 0.1953 - accuracy: 0.80 - 0s 168us/sample - loss: 0.1940 - accuracy: 0.8062 - val_loss: 0.1896 - val_accuracy: 0.8105\n",
      "Epoch 5/50\n",
      "1749/1749 [==============================] - ETA: 0s - loss: 0.2188 - accuracy: 0.78 - ETA: 0s - loss: 0.1841 - accuracy: 0.81 - ETA: 0s - loss: 0.1888 - accuracy: 0.81 - ETA: 0s - loss: 0.1923 - accuracy: 0.80 - ETA: 0s - loss: 0.1911 - accuracy: 0.80 - 0s 179us/sample - loss: 0.1939 - accuracy: 0.8062 - val_loss: 0.1896 - val_accuracy: 0.8105\n",
      "Epoch 6/50\n",
      "1749/1749 [==============================] - ETA: 0s - loss: 0.1563 - accuracy: 0.84 - ETA: 0s - loss: 0.1909 - accuracy: 0.80 - ETA: 0s - loss: 0.1977 - accuracy: 0.80 - ETA: 0s - loss: 0.1948 - accuracy: 0.80 - 0s 142us/sample - loss: 0.1939 - accuracy: 0.8062 - val_loss: 0.1895 - val_accuracy: 0.8105\n",
      "Epoch 7/50\n",
      "1749/1749 [==============================] - ETA: 0s - loss: 0.2813 - accuracy: 0.71 - ETA: 0s - loss: 0.2084 - accuracy: 0.79 - ETA: 0s - loss: 0.1949 - accuracy: 0.80 - ETA: 0s - loss: 0.1987 - accuracy: 0.80 - 0s 131us/sample - loss: 0.1939 - accuracy: 0.8062 - val_loss: 0.1895 - val_accuracy: 0.8105\n"
     ]
    },
    {
     "data": {
      "text/html": [
       "<span style=\"color:#4527A0\"><h1 style=\"font-size:18px\">Trial complete</h1></span>"
      ],
      "text/plain": [
       "<IPython.core.display.HTML object>"
      ]
     },
     "metadata": {},
     "output_type": "display_data"
    },
    {
     "data": {
      "text/html": [
       "<span style=\"color:#4527A0\"><h1 style=\"font-size:18px\">Trial summary</h1></span>"
      ],
      "text/plain": [
       "<IPython.core.display.HTML object>"
      ]
     },
     "metadata": {},
     "output_type": "display_data"
    },
    {
     "data": {
      "text/html": [
       "<span style=\"color:cyan\"> |-Trial ID: d7812e73035c828d9c2a59a75cdd9c62</span>"
      ],
      "text/plain": [
       "<IPython.core.display.HTML object>"
      ]
     },
     "metadata": {},
     "output_type": "display_data"
    },
    {
     "data": {
      "text/html": [
       "<span style=\"color:cyan\"> |-Score: 0.810502290725708</span>"
      ],
      "text/plain": [
       "<IPython.core.display.HTML object>"
      ]
     },
     "metadata": {},
     "output_type": "display_data"
    },
    {
     "data": {
      "text/html": [
       "<span style=\"color:cyan\"> |-Best step: 0</span>"
      ],
      "text/plain": [
       "<IPython.core.display.HTML object>"
      ]
     },
     "metadata": {},
     "output_type": "display_data"
    },
    {
     "data": {
      "text/html": [
       "<span style=\"color:#7E57C2\"><h2 style=\"font-size:16px\">Hyperparameters:</h2></span>"
      ],
      "text/plain": [
       "<IPython.core.display.HTML object>"
      ]
     },
     "metadata": {},
     "output_type": "display_data"
    },
    {
     "data": {
      "text/html": [
       "<span style=\"color:cyan\"> |-learning_rate: 0.0001</span>"
      ],
      "text/plain": [
       "<IPython.core.display.HTML object>"
      ]
     },
     "metadata": {},
     "output_type": "display_data"
    },
    {
     "data": {
      "text/html": [
       "<span style=\"color:blue\"> |-num_layers: 8</span>"
      ],
      "text/plain": [
       "<IPython.core.display.HTML object>"
      ]
     },
     "metadata": {},
     "output_type": "display_data"
    },
    {
     "data": {
      "text/html": [
       "<span style=\"color:cyan\"> |-units_0: 96</span>"
      ],
      "text/plain": [
       "<IPython.core.display.HTML object>"
      ]
     },
     "metadata": {},
     "output_type": "display_data"
    },
    {
     "data": {
      "text/html": [
       "<span style=\"color:blue\"> |-units_1: 416</span>"
      ],
      "text/plain": [
       "<IPython.core.display.HTML object>"
      ]
     },
     "metadata": {},
     "output_type": "display_data"
    },
    {
     "data": {
      "text/html": [
       "<span style=\"color:cyan\"> |-units_10: 320</span>"
      ],
      "text/plain": [
       "<IPython.core.display.HTML object>"
      ]
     },
     "metadata": {},
     "output_type": "display_data"
    },
    {
     "data": {
      "text/html": [
       "<span style=\"color:blue\"> |-units_11: 96</span>"
      ],
      "text/plain": [
       "<IPython.core.display.HTML object>"
      ]
     },
     "metadata": {},
     "output_type": "display_data"
    },
    {
     "data": {
      "text/html": [
       "<span style=\"color:cyan\"> |-units_12: 160</span>"
      ],
      "text/plain": [
       "<IPython.core.display.HTML object>"
      ]
     },
     "metadata": {},
     "output_type": "display_data"
    },
    {
     "data": {
      "text/html": [
       "<span style=\"color:blue\"> |-units_13: 32</span>"
      ],
      "text/plain": [
       "<IPython.core.display.HTML object>"
      ]
     },
     "metadata": {},
     "output_type": "display_data"
    },
    {
     "data": {
      "text/html": [
       "<span style=\"color:cyan\"> |-units_14: 128</span>"
      ],
      "text/plain": [
       "<IPython.core.display.HTML object>"
      ]
     },
     "metadata": {},
     "output_type": "display_data"
    },
    {
     "data": {
      "text/html": [
       "<span style=\"color:blue\"> |-units_15: 480</span>"
      ],
      "text/plain": [
       "<IPython.core.display.HTML object>"
      ]
     },
     "metadata": {},
     "output_type": "display_data"
    },
    {
     "data": {
      "text/html": [
       "<span style=\"color:cyan\"> |-units_16: 320</span>"
      ],
      "text/plain": [
       "<IPython.core.display.HTML object>"
      ]
     },
     "metadata": {},
     "output_type": "display_data"
    },
    {
     "data": {
      "text/html": [
       "<span style=\"color:blue\"> |-units_17: 192</span>"
      ],
      "text/plain": [
       "<IPython.core.display.HTML object>"
      ]
     },
     "metadata": {},
     "output_type": "display_data"
    },
    {
     "data": {
      "text/html": [
       "<span style=\"color:cyan\"> |-units_18: 512</span>"
      ],
      "text/plain": [
       "<IPython.core.display.HTML object>"
      ]
     },
     "metadata": {},
     "output_type": "display_data"
    },
    {
     "data": {
      "text/html": [
       "<span style=\"color:blue\"> |-units_2: 288</span>"
      ],
      "text/plain": [
       "<IPython.core.display.HTML object>"
      ]
     },
     "metadata": {},
     "output_type": "display_data"
    },
    {
     "data": {
      "text/html": [
       "<span style=\"color:cyan\"> |-units_3: 480</span>"
      ],
      "text/plain": [
       "<IPython.core.display.HTML object>"
      ]
     },
     "metadata": {},
     "output_type": "display_data"
    },
    {
     "data": {
      "text/html": [
       "<span style=\"color:blue\"> |-units_4: 480</span>"
      ],
      "text/plain": [
       "<IPython.core.display.HTML object>"
      ]
     },
     "metadata": {},
     "output_type": "display_data"
    },
    {
     "data": {
      "text/html": [
       "<span style=\"color:cyan\"> |-units_5: 192</span>"
      ],
      "text/plain": [
       "<IPython.core.display.HTML object>"
      ]
     },
     "metadata": {},
     "output_type": "display_data"
    },
    {
     "data": {
      "text/html": [
       "<span style=\"color:blue\"> |-units_6: 480</span>"
      ],
      "text/plain": [
       "<IPython.core.display.HTML object>"
      ]
     },
     "metadata": {},
     "output_type": "display_data"
    },
    {
     "data": {
      "text/html": [
       "<span style=\"color:cyan\"> |-units_7: 256</span>"
      ],
      "text/plain": [
       "<IPython.core.display.HTML object>"
      ]
     },
     "metadata": {},
     "output_type": "display_data"
    },
    {
     "data": {
      "text/html": [
       "<span style=\"color:blue\"> |-units_8: 64</span>"
      ],
      "text/plain": [
       "<IPython.core.display.HTML object>"
      ]
     },
     "metadata": {},
     "output_type": "display_data"
    },
    {
     "data": {
      "text/html": [
       "<span style=\"color:cyan\"> |-units_9: 192</span>"
      ],
      "text/plain": [
       "<IPython.core.display.HTML object>"
      ]
     },
     "metadata": {},
     "output_type": "display_data"
    },
    {
     "name": "stdout",
     "output_type": "stream",
     "text": [
      "INFO:tensorflow:Oracle triggered exit\n"
     ]
    }
   ],
   "source": [
    "tuner.search(X_train,y_train, epochs=50, validation_split=0.2,callbacks=[stop_early])"
   ]
  },
  {
   "cell_type": "code",
   "execution_count": 45,
   "id": "eefa971c",
   "metadata": {},
   "outputs": [
    {
     "name": "stdout",
     "output_type": "stream",
     "text": [
      "\n",
      "The hyperparameter search is complete. the optimal learning rate for the optimizer\n",
      "is 0.0001.\n",
      "\n"
     ]
    }
   ],
   "source": [
    "# Get the optimal hyperparameters\n",
    "best_hps=tuner.get_best_hyperparameters(num_trials=1)[0]\n",
    "\n",
    "print(f\"\"\"\n",
    "The hyperparameter search is complete. the optimal learning rate for the optimizer\n",
    "is {best_hps.get('learning_rate')}.\n",
    "\"\"\")"
   ]
  },
  {
   "cell_type": "code",
   "execution_count": 46,
   "id": "6107dfab",
   "metadata": {},
   "outputs": [],
   "source": [
    "#Find the optimal number of epochs to train the model with the hyperparameters obtained from the search."
   ]
  },
  {
   "cell_type": "code",
   "execution_count": 49,
   "id": "ae2aa10e",
   "metadata": {},
   "outputs": [
    {
     "name": "stdout",
     "output_type": "stream",
     "text": [
      "Train on 1749 samples, validate on 438 samples\n",
      "Epoch 1/50\n",
      "1749/1749 [==============================] - ETA: 39s - loss: 0.2501 - accuracy: 0.750 - ETA: 2s - loss: 0.2230 - accuracy: 0.777 - ETA: 0s - loss: 0.2126 - accuracy: 0.78 - ETA: 0s - loss: 0.1967 - accuracy: 0.80 - 1s 619us/sample - loss: 0.1939 - accuracy: 0.8062 - val_loss: 0.1895 - val_accuracy: 0.8105\n",
      "Epoch 2/50\n",
      "1749/1749 [==============================] - ETA: 0s - loss: 0.1563 - accuracy: 0.84 - ETA: 0s - loss: 0.2066 - accuracy: 0.79 - ETA: 0s - loss: 0.1989 - accuracy: 0.80 - ETA: 0s - loss: 0.1926 - accuracy: 0.80 - 0s 124us/sample - loss: 0.1938 - accuracy: 0.8062 - val_loss: 0.1894 - val_accuracy: 0.8105\n",
      "Epoch 3/50\n",
      "1749/1749 [==============================] - ETA: 0s - loss: 0.1875 - accuracy: 0.81 - ETA: 0s - loss: 0.1941 - accuracy: 0.80 - ETA: 0s - loss: 0.1929 - accuracy: 0.80 - ETA: 0s - loss: 0.1934 - accuracy: 0.80 - 0s 131us/sample - loss: 0.1936 - accuracy: 0.8062 - val_loss: 0.1890 - val_accuracy: 0.8105\n",
      "Epoch 4/50\n",
      "1749/1749 [==============================] - ETA: 0s - loss: 0.1873 - accuracy: 0.81 - ETA: 0s - loss: 0.2049 - accuracy: 0.79 - ETA: 0s - loss: 0.1998 - accuracy: 0.79 - ETA: 0s - loss: 0.1901 - accuracy: 0.80 - 0s 132us/sample - loss: 0.1931 - accuracy: 0.8062 - val_loss: 0.1880 - val_accuracy: 0.8105\n",
      "Epoch 5/50\n",
      "1749/1749 [==============================] - ETA: 0s - loss: 0.2478 - accuracy: 0.75 - ETA: 0s - loss: 0.1816 - accuracy: 0.81 - ETA: 0s - loss: 0.1973 - accuracy: 0.80 - ETA: 0s - loss: 0.1935 - accuracy: 0.80 - ETA: 0s - loss: 0.1903 - accuracy: 0.80 - 0s 152us/sample - loss: 0.1909 - accuracy: 0.8062 - val_loss: 0.1829 - val_accuracy: 0.8105\n",
      "Epoch 6/50\n",
      "1749/1749 [==============================] - ETA: 0s - loss: 0.3014 - accuracy: 0.68 - ETA: 0s - loss: 0.1803 - accuracy: 0.81 - ETA: 0s - loss: 0.1856 - accuracy: 0.80 - ETA: 0s - loss: 0.1808 - accuracy: 0.80 - ETA: 0s - loss: 0.1756 - accuracy: 0.80 - 0s 155us/sample - loss: 0.1747 - accuracy: 0.8125 - val_loss: 0.1460 - val_accuracy: 0.8858\n",
      "Epoch 7/50\n",
      "1749/1749 [==============================] - ETA: 0s - loss: 0.0823 - accuracy: 0.96 - ETA: 0s - loss: 0.1436 - accuracy: 0.88 - ETA: 0s - loss: 0.1399 - accuracy: 0.88 - ETA: 0s - loss: 0.1358 - accuracy: 0.88 - 0s 124us/sample - loss: 0.1359 - accuracy: 0.8822 - val_loss: 0.1251 - val_accuracy: 0.8858\n",
      "Epoch 8/50\n",
      "1749/1749 [==============================] - ETA: 0s - loss: 0.1212 - accuracy: 0.87 - ETA: 0s - loss: 0.1312 - accuracy: 0.88 - ETA: 0s - loss: 0.1325 - accuracy: 0.88 - 0s 100us/sample - loss: 0.1295 - accuracy: 0.8845 - val_loss: 0.1220 - val_accuracy: 0.8858\n",
      "Epoch 9/50\n",
      "1749/1749 [==============================] - ETA: 0s - loss: 0.1155 - accuracy: 0.90 - ETA: 0s - loss: 0.1271 - accuracy: 0.89 - ETA: 0s - loss: 0.1295 - accuracy: 0.88 - ETA: 0s - loss: 0.1277 - accuracy: 0.88 - 0s 123us/sample - loss: 0.1277 - accuracy: 0.8851 - val_loss: 0.1219 - val_accuracy: 0.8858\n",
      "Epoch 10/50\n",
      "1749/1749 [==============================] - ETA: 0s - loss: 0.0576 - accuracy: 0.93 - ETA: 0s - loss: 0.1153 - accuracy: 0.90 - ETA: 0s - loss: 0.1216 - accuracy: 0.89 - ETA: 0s - loss: 0.1246 - accuracy: 0.89 - 0s 128us/sample - loss: 0.1268 - accuracy: 0.8879 - val_loss: 0.1203 - val_accuracy: 0.8881\n",
      "Epoch 11/50\n",
      "1749/1749 [==============================] - ETA: 0s - loss: 0.1543 - accuracy: 0.84 - ETA: 0s - loss: 0.1294 - accuracy: 0.88 - ETA: 0s - loss: 0.1287 - accuracy: 0.88 - 0s 100us/sample - loss: 0.1261 - accuracy: 0.8874 - val_loss: 0.1187 - val_accuracy: 0.8927\n",
      "Epoch 12/50\n",
      "1749/1749 [==============================] - ETA: 0s - loss: 0.1115 - accuracy: 0.87 - ETA: 0s - loss: 0.1297 - accuracy: 0.88 - ETA: 0s - loss: 0.1298 - accuracy: 0.88 - ETA: 0s - loss: 0.1266 - accuracy: 0.88 - 0s 127us/sample - loss: 0.1244 - accuracy: 0.8885 - val_loss: 0.1178 - val_accuracy: 0.8950\n",
      "Epoch 13/50\n",
      "1749/1749 [==============================] - ETA: 0s - loss: 0.2204 - accuracy: 0.78 - ETA: 0s - loss: 0.1159 - accuracy: 0.89 - ETA: 0s - loss: 0.1167 - accuracy: 0.89 - ETA: 0s - loss: 0.1250 - accuracy: 0.88 - 0s 117us/sample - loss: 0.1234 - accuracy: 0.8885 - val_loss: 0.1158 - val_accuracy: 0.8950\n",
      "Epoch 14/50\n",
      "1749/1749 [==============================] - ETA: 0s - loss: 0.0482 - accuracy: 0.96 - ETA: 0s - loss: 0.1326 - accuracy: 0.88 - ETA: 0s - loss: 0.1257 - accuracy: 0.89 - ETA: 0s - loss: 0.1258 - accuracy: 0.88 - ETA: 0s - loss: 0.1242 - accuracy: 0.88 - 0s 153us/sample - loss: 0.1237 - accuracy: 0.8908 - val_loss: 0.1152 - val_accuracy: 0.8904\n",
      "Epoch 15/50\n",
      "1749/1749 [==============================] - ETA: 0s - loss: 0.1075 - accuracy: 0.93 - ETA: 0s - loss: 0.1273 - accuracy: 0.88 - ETA: 0s - loss: 0.1149 - accuracy: 0.89 - ETA: 0s - loss: 0.1226 - accuracy: 0.88 - 0s 127us/sample - loss: 0.1227 - accuracy: 0.8891 - val_loss: 0.1154 - val_accuracy: 0.8950\n",
      "Epoch 16/50\n",
      "1749/1749 [==============================] - ETA: 0s - loss: 0.2404 - accuracy: 0.78 - ETA: 0s - loss: 0.1424 - accuracy: 0.87 - ETA: 0s - loss: 0.1322 - accuracy: 0.87 - ETA: 0s - loss: 0.1280 - accuracy: 0.88 - ETA: 0s - loss: 0.1208 - accuracy: 0.88 - 0s 151us/sample - loss: 0.1220 - accuracy: 0.8885 - val_loss: 0.1131 - val_accuracy: 0.8950\n",
      "Epoch 17/50\n",
      "1749/1749 [==============================] - ETA: 0s - loss: 0.0612 - accuracy: 0.93 - ETA: 0s - loss: 0.1206 - accuracy: 0.89 - ETA: 0s - loss: 0.1312 - accuracy: 0.87 - ETA: 0s - loss: 0.1219 - accuracy: 0.88 - 0s 123us/sample - loss: 0.1222 - accuracy: 0.8885 - val_loss: 0.1138 - val_accuracy: 0.8950\n",
      "Epoch 18/50\n",
      "1749/1749 [==============================] - ETA: 0s - loss: 0.0734 - accuracy: 0.93 - ETA: 0s - loss: 0.0969 - accuracy: 0.91 - ETA: 0s - loss: 0.1020 - accuracy: 0.91 - ETA: 0s - loss: 0.1187 - accuracy: 0.89 - 0s 120us/sample - loss: 0.1206 - accuracy: 0.8891 - val_loss: 0.1112 - val_accuracy: 0.8927\n",
      "Epoch 19/50\n",
      "1749/1749 [==============================] - ETA: 0s - loss: 0.0623 - accuracy: 0.93 - ETA: 0s - loss: 0.1211 - accuracy: 0.88 - ETA: 0s - loss: 0.1201 - accuracy: 0.88 - ETA: 0s - loss: 0.1203 - accuracy: 0.88 - 0s 124us/sample - loss: 0.1201 - accuracy: 0.8897 - val_loss: 0.1104 - val_accuracy: 0.8950\n",
      "Epoch 20/50\n",
      "1749/1749 [==============================] - ETA: 0s - loss: 0.1060 - accuracy: 0.90 - ETA: 0s - loss: 0.1127 - accuracy: 0.89 - ETA: 0s - loss: 0.1092 - accuracy: 0.90 - ETA: 0s - loss: 0.1251 - accuracy: 0.88 - ETA: 0s - loss: 0.1219 - accuracy: 0.88 - 0s 165us/sample - loss: 0.1197 - accuracy: 0.8914 - val_loss: 0.1118 - val_accuracy: 0.8927\n",
      "Epoch 21/50\n",
      "1749/1749 [==============================] - ETA: 0s - loss: 0.0969 - accuracy: 0.93 - ETA: 0s - loss: 0.1372 - accuracy: 0.87 - ETA: 0s - loss: 0.1262 - accuracy: 0.88 - ETA: 0s - loss: 0.1200 - accuracy: 0.89 - 0s 128us/sample - loss: 0.1196 - accuracy: 0.8919 - val_loss: 0.1087 - val_accuracy: 0.8950\n",
      "Epoch 22/50\n",
      "1749/1749 [==============================] - ETA: 0s - loss: 0.1371 - accuracy: 0.87 - ETA: 0s - loss: 0.1248 - accuracy: 0.87 - ETA: 0s - loss: 0.1251 - accuracy: 0.88 - ETA: 0s - loss: 0.1176 - accuracy: 0.89 - 0s 130us/sample - loss: 0.1184 - accuracy: 0.8919 - val_loss: 0.1098 - val_accuracy: 0.8950\n",
      "Epoch 23/50\n",
      "1749/1749 [==============================] - ETA: 0s - loss: 0.3481 - accuracy: 0.65 - ETA: 0s - loss: 0.1267 - accuracy: 0.87 - ETA: 0s - loss: 0.1190 - accuracy: 0.88 - ETA: 0s - loss: 0.1124 - accuracy: 0.89 - 0s 125us/sample - loss: 0.1178 - accuracy: 0.8914 - val_loss: 0.1081 - val_accuracy: 0.8950\n",
      "Epoch 24/50\n",
      "1749/1749 [==============================] - ETA: 0s - loss: 0.0738 - accuracy: 0.93 - ETA: 0s - loss: 0.1310 - accuracy: 0.88 - ETA: 0s - loss: 0.1134 - accuracy: 0.89 - ETA: 0s - loss: 0.1178 - accuracy: 0.89 - 0s 120us/sample - loss: 0.1182 - accuracy: 0.8914 - val_loss: 0.1067 - val_accuracy: 0.8950\n",
      "Epoch 25/50\n",
      "1749/1749 [==============================] - ETA: 0s - loss: 0.0304 - accuracy: 1.00 - ETA: 0s - loss: 0.1075 - accuracy: 0.90 - ETA: 0s - loss: 0.1156 - accuracy: 0.89 - 0s 104us/sample - loss: 0.1169 - accuracy: 0.8937 - val_loss: 0.1077 - val_accuracy: 0.8927\n",
      "Epoch 26/50\n"
     ]
    },
    {
     "name": "stdout",
     "output_type": "stream",
     "text": [
      "1749/1749 [==============================] - ETA: 0s - loss: 0.0850 - accuracy: 0.93 - ETA: 0s - loss: 0.1293 - accuracy: 0.88 - ETA: 0s - loss: 0.1146 - accuracy: 0.89 - ETA: 0s - loss: 0.1165 - accuracy: 0.89 - ETA: 0s - loss: 0.1164 - accuracy: 0.89 - 0s 161us/sample - loss: 0.1167 - accuracy: 0.8937 - val_loss: 0.1059 - val_accuracy: 0.9018\n",
      "Epoch 27/50\n",
      "1749/1749 [==============================] - ETA: 0s - loss: 0.2113 - accuracy: 0.81 - ETA: 0s - loss: 0.1272 - accuracy: 0.88 - ETA: 0s - loss: 0.1364 - accuracy: 0.87 - ETA: 0s - loss: 0.1215 - accuracy: 0.89 - ETA: 0s - loss: 0.1174 - accuracy: 0.89 - 0s 168us/sample - loss: 0.1166 - accuracy: 0.8971 - val_loss: 0.1072 - val_accuracy: 0.8973\n",
      "Epoch 28/50\n",
      "1749/1749 [==============================] - ETA: 0s - loss: 0.1515 - accuracy: 0.84 - ETA: 0s - loss: 0.1167 - accuracy: 0.89 - ETA: 0s - loss: 0.1206 - accuracy: 0.89 - ETA: 0s - loss: 0.1235 - accuracy: 0.88 - 0s 136us/sample - loss: 0.1159 - accuracy: 0.8954 - val_loss: 0.1042 - val_accuracy: 0.9018\n",
      "Epoch 29/50\n",
      "1749/1749 [==============================] - ETA: 0s - loss: 0.1251 - accuracy: 0.87 - ETA: 0s - loss: 0.1034 - accuracy: 0.91 - ETA: 0s - loss: 0.1141 - accuracy: 0.90 - ETA: 0s - loss: 0.1176 - accuracy: 0.89 - ETA: 0s - loss: 0.1171 - accuracy: 0.89 - 0s 174us/sample - loss: 0.1154 - accuracy: 0.8965 - val_loss: 0.1069 - val_accuracy: 0.8995\n",
      "Epoch 30/50\n",
      "1749/1749 [==============================] - ETA: 0s - loss: 0.1279 - accuracy: 0.87 - ETA: 0s - loss: 0.1126 - accuracy: 0.90 - ETA: 0s - loss: 0.1058 - accuracy: 0.90 - ETA: 0s - loss: 0.1115 - accuracy: 0.90 - ETA: 0s - loss: 0.1147 - accuracy: 0.89 - ETA: 0s - loss: 0.1155 - accuracy: 0.89 - 0s 188us/sample - loss: 0.1149 - accuracy: 0.8971 - val_loss: 0.1045 - val_accuracy: 0.8995\n",
      "Epoch 31/50\n",
      "1749/1749 [==============================] - ETA: 0s - loss: 0.0919 - accuracy: 0.93 - ETA: 0s - loss: 0.1163 - accuracy: 0.89 - ETA: 0s - loss: 0.1316 - accuracy: 0.88 - ETA: 0s - loss: 0.1198 - accuracy: 0.89 - 0s 128us/sample - loss: 0.1147 - accuracy: 0.8977 - val_loss: 0.1048 - val_accuracy: 0.9018\n",
      "Epoch 32/50\n",
      "1749/1749 [==============================] - ETA: 0s - loss: 0.2292 - accuracy: 0.78 - ETA: 0s - loss: 0.1131 - accuracy: 0.89 - ETA: 0s - loss: 0.1105 - accuracy: 0.90 - ETA: 0s - loss: 0.1129 - accuracy: 0.89 - 0s 139us/sample - loss: 0.1148 - accuracy: 0.8965 - val_loss: 0.1054 - val_accuracy: 0.9018\n",
      "Epoch 33/50\n",
      "1749/1749 [==============================] - ETA: 0s - loss: 0.1464 - accuracy: 0.87 - ETA: 0s - loss: 0.0996 - accuracy: 0.91 - ETA: 0s - loss: 0.1151 - accuracy: 0.89 - 0s 90us/sample - loss: 0.1136 - accuracy: 0.8988 - val_loss: 0.1032 - val_accuracy: 0.9041\n",
      "Epoch 34/50\n",
      "1749/1749 [==============================] - ETA: 0s - loss: 0.1713 - accuracy: 0.84 - ETA: 0s - loss: 0.1073 - accuracy: 0.90 - ETA: 0s - loss: 0.1133 - accuracy: 0.89 - 0s 99us/sample - loss: 0.1140 - accuracy: 0.8994 - val_loss: 0.1015 - val_accuracy: 0.9132\n",
      "Epoch 35/50\n",
      "1749/1749 [==============================] - ETA: 0s - loss: 0.0998 - accuracy: 0.90 - ETA: 0s - loss: 0.1005 - accuracy: 0.91 - ETA: 0s - loss: 0.1134 - accuracy: 0.89 - 0s 85us/sample - loss: 0.1136 - accuracy: 0.8959 - val_loss: 0.1015 - val_accuracy: 0.9110\n",
      "Epoch 36/50\n",
      "1749/1749 [==============================] - ETA: 0s - loss: 0.0563 - accuracy: 0.93 - ETA: 0s - loss: 0.1167 - accuracy: 0.89 - ETA: 0s - loss: 0.1131 - accuracy: 0.90 - 0s 83us/sample - loss: 0.1138 - accuracy: 0.9005 - val_loss: 0.1015 - val_accuracy: 0.9132\n",
      "Epoch 37/50\n",
      "1749/1749 [==============================] - ETA: 0s - loss: 0.1374 - accuracy: 0.87 - ETA: 0s - loss: 0.1062 - accuracy: 0.90 - ETA: 0s - loss: 0.1018 - accuracy: 0.90 - ETA: 0s - loss: 0.1071 - accuracy: 0.90 - ETA: 0s - loss: 0.1121 - accuracy: 0.89 - 0s 155us/sample - loss: 0.1135 - accuracy: 0.8977 - val_loss: 0.1010 - val_accuracy: 0.9132\n",
      "Epoch 38/50\n",
      "1749/1749 [==============================] - ETA: 0s - loss: 0.1547 - accuracy: 0.84 - ETA: 0s - loss: 0.1087 - accuracy: 0.90 - ETA: 0s - loss: 0.1001 - accuracy: 0.91 - ETA: 0s - loss: 0.1051 - accuracy: 0.90 - ETA: 0s - loss: 0.1104 - accuracy: 0.90 - 0s 163us/sample - loss: 0.1127 - accuracy: 0.9005 - val_loss: 0.1007 - val_accuracy: 0.9110\n",
      "Epoch 39/50\n",
      "1749/1749 [==============================] - ETA: 0s - loss: 0.1290 - accuracy: 0.87 - ETA: 0s - loss: 0.1084 - accuracy: 0.90 - ETA: 0s - loss: 0.1067 - accuracy: 0.90 - 0s 95us/sample - loss: 0.1125 - accuracy: 0.8982 - val_loss: 0.1031 - val_accuracy: 0.9110\n",
      "Epoch 40/50\n",
      "1749/1749 [==============================] - ETA: 0s - loss: 0.1310 - accuracy: 0.93 - ETA: 0s - loss: 0.1072 - accuracy: 0.90 - ETA: 0s - loss: 0.1124 - accuracy: 0.90 - 0s 103us/sample - loss: 0.1128 - accuracy: 0.9005 - val_loss: 0.1024 - val_accuracy: 0.9110\n",
      "Epoch 41/50\n",
      "1749/1749 [==============================] - ETA: 0s - loss: 0.1869 - accuracy: 0.84 - ETA: 0s - loss: 0.1113 - accuracy: 0.89 - ETA: 0s - loss: 0.1100 - accuracy: 0.90 - 0s 98us/sample - loss: 0.1119 - accuracy: 0.8994 - val_loss: 0.0995 - val_accuracy: 0.9132\n",
      "Epoch 42/50\n",
      "1749/1749 [==============================] - ETA: 0s - loss: 0.1333 - accuracy: 0.87 - ETA: 0s - loss: 0.1102 - accuracy: 0.89 - ETA: 0s - loss: 0.1136 - accuracy: 0.89 - 0s 83us/sample - loss: 0.1111 - accuracy: 0.9011 - val_loss: 0.0993 - val_accuracy: 0.9132\n",
      "Epoch 43/50\n",
      "1749/1749 [==============================] - ETA: 0s - loss: 0.0936 - accuracy: 0.93 - ETA: 0s - loss: 0.1211 - accuracy: 0.88 - ETA: 0s - loss: 0.1098 - accuracy: 0.90 - 0s 105us/sample - loss: 0.1115 - accuracy: 0.8999 - val_loss: 0.0993 - val_accuracy: 0.9110\n",
      "Epoch 44/50\n",
      "1749/1749 [==============================] - ETA: 0s - loss: 0.1458 - accuracy: 0.87 - ETA: 0s - loss: 0.1160 - accuracy: 0.89 - ETA: 0s - loss: 0.1070 - accuracy: 0.90 - 0s 106us/sample - loss: 0.1110 - accuracy: 0.9005 - val_loss: 0.1008 - val_accuracy: 0.9110\n",
      "Epoch 45/50\n",
      "1749/1749 [==============================] - ETA: 0s - loss: 0.0540 - accuracy: 0.96 - ETA: 0s - loss: 0.0932 - accuracy: 0.92 - ETA: 0s - loss: 0.1087 - accuracy: 0.90 - ETA: 0s - loss: 0.1112 - accuracy: 0.89 - 0s 124us/sample - loss: 0.1103 - accuracy: 0.9005 - val_loss: 0.0984 - val_accuracy: 0.9132\n",
      "Epoch 46/50\n",
      "1749/1749 [==============================] - ETA: 0s - loss: 0.0556 - accuracy: 0.96 - ETA: 0s - loss: 0.0986 - accuracy: 0.91 - ETA: 0s - loss: 0.1064 - accuracy: 0.90 - ETA: 0s - loss: 0.1110 - accuracy: 0.90 - 0s 117us/sample - loss: 0.1098 - accuracy: 0.9011 - val_loss: 0.1015 - val_accuracy: 0.9110\n",
      "Epoch 47/50\n",
      "1749/1749 [==============================] - ETA: 0s - loss: 0.1398 - accuracy: 0.87 - ETA: 0s - loss: 0.1214 - accuracy: 0.88 - ETA: 0s - loss: 0.1128 - accuracy: 0.89 - 0s 105us/sample - loss: 0.1096 - accuracy: 0.9011 - val_loss: 0.0980 - val_accuracy: 0.9132\n",
      "Epoch 48/50\n",
      "1749/1749 [==============================] - ETA: 0s - loss: 0.1190 - accuracy: 0.87 - ETA: 0s - loss: 0.1134 - accuracy: 0.89 - ETA: 0s - loss: 0.1080 - accuracy: 0.90 - ETA: 0s - loss: 0.1109 - accuracy: 0.89 - 0s 132us/sample - loss: 0.1091 - accuracy: 0.9005 - val_loss: 0.0969 - val_accuracy: 0.9132\n",
      "Epoch 49/50\n",
      "1749/1749 [==============================] - ETA: 0s - loss: 0.1073 - accuracy: 0.90 - ETA: 0s - loss: 0.1010 - accuracy: 0.90 - ETA: 0s - loss: 0.1152 - accuracy: 0.89 - 0s 107us/sample - loss: 0.1091 - accuracy: 0.9028 - val_loss: 0.0964 - val_accuracy: 0.9132\n",
      "Epoch 50/50\n",
      "1749/1749 [==============================] - ETA: 0s - loss: 0.0614 - accuracy: 0.96 - ETA: 0s - loss: 0.0954 - accuracy: 0.91 - ETA: 0s - loss: 0.1029 - accuracy: 0.90 - ETA: 0s - loss: 0.1085 - accuracy: 0.90 - ETA: 0s - loss: 0.1103 - accuracy: 0.89 - 0s 181us/sample - loss: 0.1082 - accuracy: 0.9022 - val_loss: 0.0987 - val_accuracy: 0.9110\n",
      "Best epoch: 34\n"
     ]
    }
   ],
   "source": [
    "# Build the model with the optimal hyperparameters and train it on the data for 50 epochs\n",
    "model = tuner.hypermodel.build(best_hps)\n",
    "history = model.fit(X_train, y_train, epochs=50, validation_split=0.2)\n",
    "\n",
    "val_acc_per_epoch = history.history['val_accuracy']\n",
    "best_epoch = val_acc_per_epoch.index(max(val_acc_per_epoch)) + 1\n",
    "print('Best epoch: %d' % (best_epoch,))"
   ]
  },
  {
   "cell_type": "code",
   "execution_count": 50,
   "id": "7f2f2053",
   "metadata": {},
   "outputs": [],
   "source": [
    "# Best epoch: 34"
   ]
  },
  {
   "cell_type": "code",
   "execution_count": 51,
   "id": "a3e6c954",
   "metadata": {},
   "outputs": [],
   "source": [
    "# Re-instantiate the hypermodel and train it with the optimal number of epochs from above."
   ]
  },
  {
   "cell_type": "code",
   "execution_count": 53,
   "id": "3342500d",
   "metadata": {},
   "outputs": [
    {
     "name": "stdout",
     "output_type": "stream",
     "text": [
      "Train on 1749 samples, validate on 438 samples\n",
      "Epoch 1/34\n",
      "1749/1749 [==============================] - ETA: 28s - loss: 0.0942 - accuracy: 0.906 - ETA: 1s - loss: 0.1773 - accuracy: 0.822 - ETA: 0s - loss: 0.1925 - accuracy: 0.80 - 1s 469us/sample - loss: 0.1939 - accuracy: 0.8062 - val_loss: 0.1895 - val_accuracy: 0.8105\n",
      "Epoch 2/34\n",
      "1749/1749 [==============================] - ETA: 0s - loss: 0.2188 - accuracy: 0.78 - ETA: 0s - loss: 0.1938 - accuracy: 0.80 - ETA: 0s - loss: 0.2084 - accuracy: 0.79 - 0s 104us/sample - loss: 0.1939 - accuracy: 0.8062 - val_loss: 0.1895 - val_accuracy: 0.8105\n",
      "Epoch 3/34\n",
      "1749/1749 [==============================] - ETA: 0s - loss: 0.0625 - accuracy: 0.93 - ETA: 0s - loss: 0.1931 - accuracy: 0.80 - ETA: 0s - loss: 0.1884 - accuracy: 0.81 - 0s 101us/sample - loss: 0.1939 - accuracy: 0.8062 - val_loss: 0.1896 - val_accuracy: 0.8105\n",
      "Epoch 4/34\n",
      "1749/1749 [==============================] - ETA: 0s - loss: 0.2188 - accuracy: 0.78 - ETA: 0s - loss: 0.1778 - accuracy: 0.82 - ETA: 0s - loss: 0.1928 - accuracy: 0.80 - ETA: 0s - loss: 0.1913 - accuracy: 0.80 - 0s 124us/sample - loss: 0.1939 - accuracy: 0.8062 - val_loss: 0.1895 - val_accuracy: 0.8105\n",
      "Epoch 5/34\n",
      "1749/1749 [==============================] - ETA: 0s - loss: 0.2188 - accuracy: 0.78 - ETA: 0s - loss: 0.1971 - accuracy: 0.80 - ETA: 0s - loss: 0.1961 - accuracy: 0.80 - ETA: 0s - loss: 0.1920 - accuracy: 0.80 - ETA: 0s - loss: 0.1914 - accuracy: 0.80 - 0s 148us/sample - loss: 0.1939 - accuracy: 0.8062 - val_loss: 0.1896 - val_accuracy: 0.8105\n",
      "Epoch 6/34\n",
      "1749/1749 [==============================] - ETA: 0s - loss: 0.2501 - accuracy: 0.75 - ETA: 0s - loss: 0.1972 - accuracy: 0.80 - ETA: 0s - loss: 0.2054 - accuracy: 0.79 - ETA: 0s - loss: 0.1987 - accuracy: 0.80 - 0s 129us/sample - loss: 0.1939 - accuracy: 0.8062 - val_loss: 0.1896 - val_accuracy: 0.8105\n",
      "Epoch 7/34\n",
      "1749/1749 [==============================] - ETA: 0s - loss: 0.1563 - accuracy: 0.84 - ETA: 0s - loss: 0.1941 - accuracy: 0.80 - ETA: 0s - loss: 0.2002 - accuracy: 0.79 - 0s 93us/sample - loss: 0.1938 - accuracy: 0.8062 - val_loss: 0.1895 - val_accuracy: 0.8105\n",
      "Epoch 8/34\n",
      "1749/1749 [==============================] - ETA: 0s - loss: 0.2188 - accuracy: 0.78 - ETA: 0s - loss: 0.1986 - accuracy: 0.80 - ETA: 0s - loss: 0.1960 - accuracy: 0.80 - 0s 93us/sample - loss: 0.1939 - accuracy: 0.8062 - val_loss: 0.1895 - val_accuracy: 0.8105\n",
      "Epoch 9/34\n",
      "1749/1749 [==============================] - ETA: 0s - loss: 0.3437 - accuracy: 0.65 - ETA: 0s - loss: 0.1892 - accuracy: 0.81 - ETA: 0s - loss: 0.1971 - accuracy: 0.80 - 0s 96us/sample - loss: 0.1938 - accuracy: 0.8062 - val_loss: 0.1895 - val_accuracy: 0.8105\n",
      "Epoch 10/34\n",
      "1749/1749 [==============================] - ETA: 0s - loss: 0.0938 - accuracy: 0.90 - ETA: 0s - loss: 0.1684 - accuracy: 0.83 - ETA: 0s - loss: 0.1838 - accuracy: 0.81 - ETA: 0s - loss: 0.1923 - accuracy: 0.80 - 0s 116us/sample - loss: 0.1938 - accuracy: 0.8062 - val_loss: 0.1894 - val_accuracy: 0.8105\n",
      "Epoch 11/34\n",
      "1749/1749 [==============================] - ETA: 0s - loss: 0.1562 - accuracy: 0.84 - ETA: 0s - loss: 0.1978 - accuracy: 0.80 - ETA: 0s - loss: 0.1950 - accuracy: 0.80 - 0s 90us/sample - loss: 0.1937 - accuracy: 0.8062 - val_loss: 0.1892 - val_accuracy: 0.8105\n",
      "Epoch 12/34\n",
      "1749/1749 [==============================] - ETA: 0s - loss: 0.2186 - accuracy: 0.78 - ETA: 0s - loss: 0.1997 - accuracy: 0.80 - ETA: 0s - loss: 0.1947 - accuracy: 0.80 - 0s 92us/sample - loss: 0.1934 - accuracy: 0.8062 - val_loss: 0.1888 - val_accuracy: 0.8105\n",
      "Epoch 13/34\n",
      "1749/1749 [==============================] - ETA: 0s - loss: 0.1864 - accuracy: 0.81 - ETA: 0s - loss: 0.2117 - accuracy: 0.78 - ETA: 0s - loss: 0.1965 - accuracy: 0.80 - 0s 96us/sample - loss: 0.1927 - accuracy: 0.8062 - val_loss: 0.1866 - val_accuracy: 0.8105\n",
      "Epoch 14/34\n",
      "1749/1749 [==============================] - ETA: 0s - loss: 0.2447 - accuracy: 0.75 - ETA: 0s - loss: 0.1977 - accuracy: 0.79 - ETA: 0s - loss: 0.1790 - accuracy: 0.81 - 0s 95us/sample - loss: 0.1728 - accuracy: 0.8205 - val_loss: 0.1297 - val_accuracy: 0.8881\n",
      "Epoch 15/34\n",
      "1749/1749 [==============================] - ETA: 0s - loss: 0.1452 - accuracy: 0.87 - ETA: 0s - loss: 0.1307 - accuracy: 0.88 - ETA: 0s - loss: 0.1360 - accuracy: 0.88 - ETA: 0s - loss: 0.1310 - accuracy: 0.88 - 0s 131us/sample - loss: 0.1296 - accuracy: 0.8851 - val_loss: 0.1237 - val_accuracy: 0.8858\n",
      "Epoch 16/34\n",
      "1749/1749 [==============================] - ETA: 0s - loss: 0.1079 - accuracy: 0.90 - ETA: 0s - loss: 0.1336 - accuracy: 0.87 - ETA: 0s - loss: 0.1340 - accuracy: 0.87 - ETA: 0s - loss: 0.1316 - accuracy: 0.88 - 0s 133us/sample - loss: 0.1282 - accuracy: 0.8851 - val_loss: 0.1198 - val_accuracy: 0.8881\n",
      "Epoch 17/34\n",
      "1749/1749 [==============================] - ETA: 0s - loss: 0.1200 - accuracy: 0.90 - ETA: 0s - loss: 0.1187 - accuracy: 0.89 - ETA: 0s - loss: 0.1180 - accuracy: 0.89 - 0s 105us/sample - loss: 0.1285 - accuracy: 0.8839 - val_loss: 0.1190 - val_accuracy: 0.8904\n",
      "Epoch 18/34\n",
      "1749/1749 [==============================] - ETA: 0s - loss: 0.1426 - accuracy: 0.87 - ETA: 0s - loss: 0.1241 - accuracy: 0.88 - ETA: 0s - loss: 0.1286 - accuracy: 0.88 - 0s 105us/sample - loss: 0.1250 - accuracy: 0.8874 - val_loss: 0.1182 - val_accuracy: 0.8904\n",
      "Epoch 19/34\n",
      "1749/1749 [==============================] - ETA: 0s - loss: 0.1401 - accuracy: 0.87 - ETA: 0s - loss: 0.1232 - accuracy: 0.88 - ETA: 0s - loss: 0.1319 - accuracy: 0.88 - ETA: 0s - loss: 0.1286 - accuracy: 0.88 - 0s 123us/sample - loss: 0.1240 - accuracy: 0.8862 - val_loss: 0.1173 - val_accuracy: 0.8904\n",
      "Epoch 20/34\n",
      "1749/1749 [==============================] - ETA: 0s - loss: 0.1138 - accuracy: 0.90 - ETA: 0s - loss: 0.1303 - accuracy: 0.87 - ETA: 0s - loss: 0.1253 - accuracy: 0.88 - ETA: 0s - loss: 0.1238 - accuracy: 0.88 - 0s 123us/sample - loss: 0.1225 - accuracy: 0.8868 - val_loss: 0.1149 - val_accuracy: 0.8950\n",
      "Epoch 21/34\n",
      "1749/1749 [==============================] - ETA: 0s - loss: 0.1034 - accuracy: 0.90 - ETA: 0s - loss: 0.1192 - accuracy: 0.89 - ETA: 0s - loss: 0.1176 - accuracy: 0.89 - 0s 103us/sample - loss: 0.1221 - accuracy: 0.8874 - val_loss: 0.1159 - val_accuracy: 0.8927\n",
      "Epoch 22/34\n",
      "1749/1749 [==============================] - ETA: 0s - loss: 0.1669 - accuracy: 0.84 - ETA: 0s - loss: 0.1298 - accuracy: 0.87 - ETA: 0s - loss: 0.1285 - accuracy: 0.88 - 0s 105us/sample - loss: 0.1220 - accuracy: 0.8879 - val_loss: 0.1152 - val_accuracy: 0.8927\n",
      "Epoch 23/34\n",
      "1749/1749 [==============================] - ETA: 0s - loss: 0.0499 - accuracy: 0.96 - ETA: 0s - loss: 0.1054 - accuracy: 0.90 - ETA: 0s - loss: 0.1152 - accuracy: 0.89 - ETA: 0s - loss: 0.1185 - accuracy: 0.89 - 0s 122us/sample - loss: 0.1218 - accuracy: 0.8874 - val_loss: 0.1145 - val_accuracy: 0.8927\n",
      "Epoch 24/34\n",
      "1749/1749 [==============================] - ETA: 0s - loss: 0.0740 - accuracy: 0.93 - ETA: 0s - loss: 0.1159 - accuracy: 0.89 - ETA: 0s - loss: 0.1191 - accuracy: 0.89 - ETA: 0s - loss: 0.1183 - accuracy: 0.88 - 0s 119us/sample - loss: 0.1199 - accuracy: 0.8874 - val_loss: 0.1114 - val_accuracy: 0.8950\n",
      "Epoch 25/34\n",
      "1749/1749 [==============================] - ETA: 0s - loss: 0.1367 - accuracy: 0.90 - ETA: 0s - loss: 0.1219 - accuracy: 0.89 - ETA: 0s - loss: 0.1174 - accuracy: 0.89 - ETA: 0s - loss: 0.1190 - accuracy: 0.88 - 0s 124us/sample - loss: 0.1196 - accuracy: 0.8891 - val_loss: 0.1107 - val_accuracy: 0.8927\n",
      "Epoch 26/34\n",
      "1749/1749 [==============================] - ETA: 0s - loss: 0.1487 - accuracy: 0.90 - ETA: 0s - loss: 0.1305 - accuracy: 0.87 - ETA: 0s - loss: 0.1193 - accuracy: 0.88 - 0s 109us/sample - loss: 0.1193 - accuracy: 0.8885 - val_loss: 0.1098 - val_accuracy: 0.8927\n",
      "Epoch 27/34\n",
      "1749/1749 [==============================] - ETA: 0s - loss: 0.0633 - accuracy: 0.93 - ETA: 0s - loss: 0.1334 - accuracy: 0.87 - ETA: 0s - loss: 0.1292 - accuracy: 0.87 - ETA: 0s - loss: 0.1213 - accuracy: 0.88 - 0s 121us/sample - loss: 0.1181 - accuracy: 0.8879 - val_loss: 0.1097 - val_accuracy: 0.8927\n",
      "Epoch 28/34\n"
     ]
    },
    {
     "name": "stdout",
     "output_type": "stream",
     "text": [
      "1749/1749 [==============================] - ETA: 0s - loss: 0.0086 - accuracy: 1.00 - ETA: 0s - loss: 0.1119 - accuracy: 0.89 - ETA: 0s - loss: 0.1196 - accuracy: 0.88 - ETA: 0s - loss: 0.1176 - accuracy: 0.88 - 0s 113us/sample - loss: 0.1180 - accuracy: 0.8891 - val_loss: 0.1079 - val_accuracy: 0.8927\n",
      "Epoch 29/34\n",
      "1749/1749 [==============================] - ETA: 0s - loss: 0.1314 - accuracy: 0.87 - ETA: 0s - loss: 0.1091 - accuracy: 0.89 - ETA: 0s - loss: 0.1150 - accuracy: 0.88 - 0s 99us/sample - loss: 0.1178 - accuracy: 0.8891 - val_loss: 0.1076 - val_accuracy: 0.8927\n",
      "Epoch 30/34\n",
      "1749/1749 [==============================] - ETA: 0s - loss: 0.1348 - accuracy: 0.87 - ETA: 0s - loss: 0.1205 - accuracy: 0.89 - ETA: 0s - loss: 0.1179 - accuracy: 0.89 - 0s 80us/sample - loss: 0.1172 - accuracy: 0.8919 - val_loss: 0.1077 - val_accuracy: 0.8927\n",
      "Epoch 31/34\n",
      "1749/1749 [==============================] - ETA: 0s - loss: 0.1202 - accuracy: 0.87 - ETA: 0s - loss: 0.1117 - accuracy: 0.89 - ETA: 0s - loss: 0.1181 - accuracy: 0.89 - 0s 90us/sample - loss: 0.1168 - accuracy: 0.8931 - val_loss: 0.1077 - val_accuracy: 0.8927\n",
      "Epoch 32/34\n",
      "1749/1749 [==============================] - ETA: 0s - loss: 0.1192 - accuracy: 0.87 - ETA: 0s - loss: 0.1198 - accuracy: 0.88 - ETA: 0s - loss: 0.1198 - accuracy: 0.88 - 0s 90us/sample - loss: 0.1160 - accuracy: 0.8925 - val_loss: 0.1057 - val_accuracy: 0.8995\n",
      "Epoch 33/34\n",
      "1749/1749 [==============================] - ETA: 0s - loss: 0.0446 - accuracy: 0.96 - ETA: 0s - loss: 0.1057 - accuracy: 0.90 - ETA: 0s - loss: 0.1083 - accuracy: 0.90 - ETA: 0s - loss: 0.1089 - accuracy: 0.90 - ETA: 0s - loss: 0.1118 - accuracy: 0.89 - 0s 187us/sample - loss: 0.1154 - accuracy: 0.8954 - val_loss: 0.1044 - val_accuracy: 0.9018\n",
      "Epoch 34/34\n",
      "1749/1749 [==============================] - ETA: 0s - loss: 0.1606 - accuracy: 0.81 - ETA: 0s - loss: 0.1197 - accuracy: 0.89 - ETA: 0s - loss: 0.1164 - accuracy: 0.89 - 0s 82us/sample - loss: 0.1154 - accuracy: 0.8948 - val_loss: 0.1040 - val_accuracy: 0.9041\n"
     ]
    },
    {
     "data": {
      "text/plain": [
       "<tensorflow.python.keras.callbacks.History at 0x15170321888>"
      ]
     },
     "execution_count": 53,
     "metadata": {},
     "output_type": "execute_result"
    }
   ],
   "source": [
    "hypermodel = tuner.hypermodel.build(best_hps)\n",
    "\n",
    "# Retrain the model\n",
    "hypermodel.fit(X_train, y_train, epochs=best_epoch, validation_split=0.2)"
   ]
  },
  {
   "cell_type": "code",
   "execution_count": 55,
   "id": "5158a7aa",
   "metadata": {},
   "outputs": [
    {
     "name": "stdout",
     "output_type": "stream",
     "text": [
      "938/938 [==============================] - ETA: 0s - loss: 0.0832 - accuracy: 0.90 - ETA: 0s - loss: 0.1016 - accuracy: 0.90 - 0s 67us/sample - loss: 0.1020 - accuracy: 0.9083\n",
      "[test loss, test accuracy]: [0.10204767736036387, 0.90831554]\n"
     ]
    }
   ],
   "source": [
    "#evaluate the hypermodel on the test data.\n",
    "eval_result = hypermodel.evaluate(X_test, y_test)\n"
   ]
  },
  {
   "cell_type": "code",
   "execution_count": 56,
   "id": "402e06d0",
   "metadata": {},
   "outputs": [
    {
     "name": "stdout",
     "output_type": "stream",
     "text": [
      "[test loss, test accuracy]: [0.10204767736036387, 0.90831554]\n"
     ]
    }
   ],
   "source": [
    "print(\"[test loss, test accuracy]:\", eval_result)"
   ]
  },
  {
   "cell_type": "code",
   "execution_count": 59,
   "id": "82d82cfd",
   "metadata": {},
   "outputs": [],
   "source": [
    "y_pred = hypermodel.predict(X_test)"
   ]
  },
  {
   "cell_type": "code",
   "execution_count": 60,
   "id": "4974e462",
   "metadata": {},
   "outputs": [],
   "source": [
    "y_pred = (y_pred > 0.5)"
   ]
  },
  {
   "cell_type": "code",
   "execution_count": 80,
   "id": "5df55f1f",
   "metadata": {},
   "outputs": [
    {
     "name": "stdout",
     "output_type": "stream",
     "text": [
      "[[771   4]\n",
      " [ 82  81]]\n",
      "              precision    recall  f1-score   support\n",
      "\n",
      "           0       0.90      0.99      0.95       775\n",
      "           1       0.95      0.50      0.65       163\n",
      "\n",
      "    accuracy                           0.91       938\n",
      "   macro avg       0.93      0.75      0.80       938\n",
      "weighted avg       0.91      0.91      0.90       938\n",
      "\n"
     ]
    }
   ],
   "source": [
    "from sklearn.metrics import classification_report, confusion_matrix\n",
    "print(confusion_matrix(y_test, y_pred))\n",
    "print(classification_report(y_test, y_pred))"
   ]
  },
  {
   "cell_type": "code",
   "execution_count": 63,
   "id": "75beed39",
   "metadata": {},
   "outputs": [
    {
     "data": {
      "text/plain": [
       "0.908315565031983"
      ]
     },
     "execution_count": 63,
     "metadata": {},
     "output_type": "execute_result"
    }
   ],
   "source": [
    "# Calculate the Accuracy\n",
    "from sklearn.metrics import accuracy_score\n",
    "accuracy_score(y_pred,y_test)"
   ]
  },
  {
   "cell_type": "code",
   "execution_count": 65,
   "id": "73b7d906",
   "metadata": {},
   "outputs": [],
   "source": [
    "#tuner.results_summary()"
   ]
  },
  {
   "cell_type": "code",
   "execution_count": 66,
   "id": "22e50e40",
   "metadata": {},
   "outputs": [
    {
     "data": {
      "text/plain": [
       "[<tensorflow.python.keras.engine.sequential.Sequential at 0x1516f143908>,\n",
       " <tensorflow.python.keras.engine.sequential.Sequential at 0x1516d840ec8>]"
      ]
     },
     "execution_count": 66,
     "metadata": {},
     "output_type": "execute_result"
    }
   ],
   "source": [
    "tuner.get_best_models(num_models=2)"
   ]
  },
  {
   "cell_type": "code",
   "execution_count": 67,
   "id": "935c38e3",
   "metadata": {},
   "outputs": [
    {
     "data": {
      "text/plain": [
       "<kerastuner.engine.hyperparameters.HyperParameters at 0x151707b0148>"
      ]
     },
     "execution_count": 67,
     "metadata": {},
     "output_type": "execute_result"
    }
   ],
   "source": [
    "# Get the optimal hyperparameters\n",
    "tuner.get_best_hyperparameters(num_trials=1)[0]"
   ]
  },
  {
   "cell_type": "code",
   "execution_count": 68,
   "id": "4a1fd179",
   "metadata": {},
   "outputs": [
    {
     "data": {
      "text/plain": [
       "0.0001"
      ]
     },
     "execution_count": 68,
     "metadata": {},
     "output_type": "execute_result"
    }
   ],
   "source": [
    "best_hps.get('learning_rate')"
   ]
  },
  {
   "cell_type": "code",
   "execution_count": 73,
   "id": "225c936c",
   "metadata": {},
   "outputs": [],
   "source": [
    "# this is your optimized ANN model -> hypermodel"
   ]
  },
  {
   "cell_type": "code",
   "execution_count": 74,
   "id": "6d21aa51",
   "metadata": {},
   "outputs": [],
   "source": [
    "# for save the model if you want\n",
    "#import pickle\n",
    "# open a file, where you ant to store the data\n",
    "#file = open('random_forest_regression_model_v2.pkl', 'wb')\n",
    "# dump information to that file\n",
    "#pickle.dump(rf_random, file)"
   ]
  },
  {
   "cell_type": "code",
   "execution_count": null,
   "id": "2b40f844",
   "metadata": {},
   "outputs": [],
   "source": []
  },
  {
   "cell_type": "code",
   "execution_count": null,
   "id": "1dfd2ac8",
   "metadata": {},
   "outputs": [],
   "source": []
  },
  {
   "cell_type": "code",
   "execution_count": null,
   "id": "5933f32c",
   "metadata": {},
   "outputs": [],
   "source": []
  },
  {
   "cell_type": "code",
   "execution_count": null,
   "id": "d0f22d75",
   "metadata": {},
   "outputs": [],
   "source": []
  },
  {
   "cell_type": "code",
   "execution_count": null,
   "id": "434cf7c8",
   "metadata": {},
   "outputs": [],
   "source": []
  },
  {
   "cell_type": "code",
   "execution_count": null,
   "id": "095e41fd",
   "metadata": {},
   "outputs": [],
   "source": []
  },
  {
   "cell_type": "code",
   "execution_count": null,
   "id": "429a3a37",
   "metadata": {},
   "outputs": [],
   "source": [
    "\n"
   ]
  },
  {
   "cell_type": "code",
   "execution_count": null,
   "id": "09bcd2a3",
   "metadata": {},
   "outputs": [],
   "source": []
  },
  {
   "cell_type": "code",
   "execution_count": null,
   "id": "a6cefbf1",
   "metadata": {},
   "outputs": [],
   "source": []
  }
 ],
 "metadata": {
  "kernelspec": {
   "display_name": "Python 3",
   "language": "python",
   "name": "python3"
  },
  "language_info": {
   "codemirror_mode": {
    "name": "ipython",
    "version": 3
   },
   "file_extension": ".py",
   "mimetype": "text/x-python",
   "name": "python",
   "nbconvert_exporter": "python",
   "pygments_lexer": "ipython3",
   "version": "3.7.9"
  }
 },
 "nbformat": 4,
 "nbformat_minor": 5
}
