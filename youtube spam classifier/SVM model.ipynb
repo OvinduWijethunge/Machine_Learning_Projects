{
 "cells": [
  {
   "cell_type": "markdown",
   "id": "93ba3492",
   "metadata": {
    "colab_type": "text",
    "id": "view-in-github"
   },
   "source": [
    "<a href=\"https://colab.research.google.com/github/OvinduWijethunge/Machine_Learning_Projects/blob/version-1/youtube%20spam%20classifier/SVM%20model.ipynb\" target=\"_parent\"><img src=\"https://colab.research.google.com/assets/colab-badge.svg\" alt=\"Open In Colab\"/></a>"
   ]
  },
  {
   "cell_type": "code",
   "execution_count": 1,
   "id": "550410f5",
   "metadata": {
    "id": "550410f5"
   },
   "outputs": [],
   "source": [
    "import pandas as pd\n",
    "import numpy as np\n",
    "import matplotlib.pyplot as plt\n",
    "import seaborn as sns"
   ]
  },
  {
   "cell_type": "code",
   "execution_count": 2,
   "id": "91935ff8",
   "metadata": {
    "id": "91935ff8"
   },
   "outputs": [],
   "source": [
    "df = pd.read_csv('models.csv')\n",
    "#url = 'https://raw.githubusercontent.com/OvinduWijethunge/Machine_Learning_Projects/master/youtube%20spam%20classifier/model.csv'\n",
    "#df = pd.read_csv(url)\n"
   ]
  },
  {
   "cell_type": "code",
   "execution_count": 3,
   "id": "67cd295b",
   "metadata": {
    "colab": {
     "base_uri": "https://localhost:8080/",
     "height": 232
    },
    "id": "67cd295b",
    "outputId": "d7cd89a7-0250-42ff-f157-d6f8c6912bf7"
   },
   "outputs": [
    {
     "data": {
      "text/html": [
       "<div>\n",
       "<style scoped>\n",
       "    .dataframe tbody tr th:only-of-type {\n",
       "        vertical-align: middle;\n",
       "    }\n",
       "\n",
       "    .dataframe tbody tr th {\n",
       "        vertical-align: top;\n",
       "    }\n",
       "\n",
       "    .dataframe thead th {\n",
       "        text-align: right;\n",
       "    }\n",
       "</style>\n",
       "<table border=\"1\" class=\"dataframe\">\n",
       "  <thead>\n",
       "    <tr style=\"text-align: right;\">\n",
       "      <th></th>\n",
       "      <th>Unnamed: 0</th>\n",
       "      <th>sim_content</th>\n",
       "      <th>sim_comment</th>\n",
       "      <th>word_count</th>\n",
       "      <th>duplicate_word_ratio</th>\n",
       "      <th>length_of_comment</th>\n",
       "      <th>stop_word_ratio</th>\n",
       "      <th>post_coment_gap</th>\n",
       "      <th>black_word_count</th>\n",
       "      <th>comment_duplication</th>\n",
       "      <th>...</th>\n",
       "      <th>num_of_punctuations_1.0</th>\n",
       "      <th>num_of_punctuations_2.0</th>\n",
       "      <th>num_of_punctuations_3.0</th>\n",
       "      <th>num_of_punctuations_4.0</th>\n",
       "      <th>num_of_punctuations_5.0</th>\n",
       "      <th>num_of_punctuations_6.0</th>\n",
       "      <th>is_period_sequence_1</th>\n",
       "      <th>is_link_1</th>\n",
       "      <th>is_youtube_link_1</th>\n",
       "      <th>is_number_1</th>\n",
       "    </tr>\n",
       "  </thead>\n",
       "  <tbody>\n",
       "    <tr>\n",
       "      <th>0</th>\n",
       "      <td>0</td>\n",
       "      <td>-1.038590</td>\n",
       "      <td>-0.870409</td>\n",
       "      <td>1.866549</td>\n",
       "      <td>0.0000</td>\n",
       "      <td>4.274240</td>\n",
       "      <td>0.000000</td>\n",
       "      <td>13.337643</td>\n",
       "      <td>0.222222</td>\n",
       "      <td>0.0</td>\n",
       "      <td>...</td>\n",
       "      <td>0</td>\n",
       "      <td>0</td>\n",
       "      <td>0</td>\n",
       "      <td>0</td>\n",
       "      <td>0</td>\n",
       "      <td>0</td>\n",
       "      <td>0</td>\n",
       "      <td>0</td>\n",
       "      <td>0</td>\n",
       "      <td>0</td>\n",
       "    </tr>\n",
       "    <tr>\n",
       "      <th>1</th>\n",
       "      <td>1</td>\n",
       "      <td>-1.103307</td>\n",
       "      <td>-0.971247</td>\n",
       "      <td>1.866549</td>\n",
       "      <td>0.0000</td>\n",
       "      <td>4.555200</td>\n",
       "      <td>0.111111</td>\n",
       "      <td>29.017218</td>\n",
       "      <td>0.000000</td>\n",
       "      <td>0.0</td>\n",
       "      <td>...</td>\n",
       "      <td>0</td>\n",
       "      <td>1</td>\n",
       "      <td>0</td>\n",
       "      <td>0</td>\n",
       "      <td>0</td>\n",
       "      <td>0</td>\n",
       "      <td>0</td>\n",
       "      <td>0</td>\n",
       "      <td>0</td>\n",
       "      <td>0</td>\n",
       "    </tr>\n",
       "    <tr>\n",
       "      <th>2</th>\n",
       "      <td>2</td>\n",
       "      <td>-1.064844</td>\n",
       "      <td>-0.957045</td>\n",
       "      <td>2.260334</td>\n",
       "      <td>0.0625</td>\n",
       "      <td>5.086086</td>\n",
       "      <td>0.062500</td>\n",
       "      <td>29.017218</td>\n",
       "      <td>0.125000</td>\n",
       "      <td>0.0</td>\n",
       "      <td>...</td>\n",
       "      <td>0</td>\n",
       "      <td>0</td>\n",
       "      <td>0</td>\n",
       "      <td>1</td>\n",
       "      <td>0</td>\n",
       "      <td>0</td>\n",
       "      <td>0</td>\n",
       "      <td>1</td>\n",
       "      <td>1</td>\n",
       "      <td>0</td>\n",
       "    </tr>\n",
       "    <tr>\n",
       "      <th>3</th>\n",
       "      <td>3</td>\n",
       "      <td>-0.936203</td>\n",
       "      <td>-0.910982</td>\n",
       "      <td>1.683387</td>\n",
       "      <td>0.0000</td>\n",
       "      <td>3.982309</td>\n",
       "      <td>0.142857</td>\n",
       "      <td>29.017218</td>\n",
       "      <td>0.142857</td>\n",
       "      <td>0.0</td>\n",
       "      <td>...</td>\n",
       "      <td>0</td>\n",
       "      <td>0</td>\n",
       "      <td>0</td>\n",
       "      <td>0</td>\n",
       "      <td>0</td>\n",
       "      <td>0</td>\n",
       "      <td>0</td>\n",
       "      <td>0</td>\n",
       "      <td>0</td>\n",
       "      <td>0</td>\n",
       "    </tr>\n",
       "    <tr>\n",
       "      <th>4</th>\n",
       "      <td>4</td>\n",
       "      <td>-1.212501</td>\n",
       "      <td>-1.085031</td>\n",
       "      <td>2.122197</td>\n",
       "      <td>0.0000</td>\n",
       "      <td>4.920915</td>\n",
       "      <td>0.000000</td>\n",
       "      <td>29.017218</td>\n",
       "      <td>0.076923</td>\n",
       "      <td>0.0</td>\n",
       "      <td>...</td>\n",
       "      <td>0</td>\n",
       "      <td>0</td>\n",
       "      <td>0</td>\n",
       "      <td>1</td>\n",
       "      <td>0</td>\n",
       "      <td>0</td>\n",
       "      <td>1</td>\n",
       "      <td>1</td>\n",
       "      <td>1</td>\n",
       "      <td>0</td>\n",
       "    </tr>\n",
       "  </tbody>\n",
       "</table>\n",
       "<p>5 rows × 23 columns</p>\n",
       "</div>"
      ],
      "text/plain": [
       "   Unnamed: 0  sim_content  sim_comment  word_count  duplicate_word_ratio  \\\n",
       "0           0    -1.038590    -0.870409    1.866549                0.0000   \n",
       "1           1    -1.103307    -0.971247    1.866549                0.0000   \n",
       "2           2    -1.064844    -0.957045    2.260334                0.0625   \n",
       "3           3    -0.936203    -0.910982    1.683387                0.0000   \n",
       "4           4    -1.212501    -1.085031    2.122197                0.0000   \n",
       "\n",
       "   length_of_comment  stop_word_ratio  post_coment_gap  black_word_count  \\\n",
       "0           4.274240         0.000000        13.337643          0.222222   \n",
       "1           4.555200         0.111111        29.017218          0.000000   \n",
       "2           5.086086         0.062500        29.017218          0.125000   \n",
       "3           3.982309         0.142857        29.017218          0.142857   \n",
       "4           4.920915         0.000000        29.017218          0.076923   \n",
       "\n",
       "   comment_duplication  ...  num_of_punctuations_1.0  num_of_punctuations_2.0  \\\n",
       "0                  0.0  ...                        0                        0   \n",
       "1                  0.0  ...                        0                        1   \n",
       "2                  0.0  ...                        0                        0   \n",
       "3                  0.0  ...                        0                        0   \n",
       "4                  0.0  ...                        0                        0   \n",
       "\n",
       "   num_of_punctuations_3.0  num_of_punctuations_4.0  num_of_punctuations_5.0  \\\n",
       "0                        0                        0                        0   \n",
       "1                        0                        0                        0   \n",
       "2                        0                        1                        0   \n",
       "3                        0                        0                        0   \n",
       "4                        0                        1                        0   \n",
       "\n",
       "   num_of_punctuations_6.0  is_period_sequence_1  is_link_1  \\\n",
       "0                        0                     0          0   \n",
       "1                        0                     0          0   \n",
       "2                        0                     0          1   \n",
       "3                        0                     0          0   \n",
       "4                        0                     1          1   \n",
       "\n",
       "   is_youtube_link_1  is_number_1  \n",
       "0                  0            0  \n",
       "1                  0            0  \n",
       "2                  1            0  \n",
       "3                  0            0  \n",
       "4                  1            0  \n",
       "\n",
       "[5 rows x 23 columns]"
      ]
     },
     "execution_count": 3,
     "metadata": {},
     "output_type": "execute_result"
    }
   ],
   "source": [
    "df.head()"
   ]
  },
  {
   "cell_type": "code",
   "execution_count": 4,
   "id": "76a1c87f",
   "metadata": {
    "colab": {
     "base_uri": "https://localhost:8080/"
    },
    "id": "76a1c87f",
    "outputId": "d2134c4e-2ac7-4a5b-9339-7a60c8f42bbd"
   },
   "outputs": [
    {
     "data": {
      "text/plain": [
       "Index(['id', 'sim_content', 'sim_comment', 'word_count',\n",
       "       'duplicate_word_ratio', 'length_of_comment', 'stop_word_ratio',\n",
       "       'post_coment_gap', 'black_word_count', 'comment_duplication', 'is_spam',\n",
       "       'no_of_sentences_2', 'no_of_sentences_3', 'num_of_punctuations_1.0',\n",
       "       'num_of_punctuations_2.0', 'num_of_punctuations_3.0',\n",
       "       'num_of_punctuations_4.0', 'num_of_punctuations_5.0',\n",
       "       'num_of_punctuations_6.0', 'is_period_sequence_1', 'is_link_1',\n",
       "       'is_youtube_link_1', 'is_number_1'],\n",
       "      dtype='object')"
      ]
     },
     "execution_count": 4,
     "metadata": {},
     "output_type": "execute_result"
    }
   ],
   "source": [
    "df.rename(columns={'Unnamed: 0':'id'},inplace=True)\n",
    "df.columns"
   ]
  },
  {
   "cell_type": "markdown",
   "id": "37b8a855",
   "metadata": {
    "id": "37b8a855"
   },
   "source": [
    "### Standardization"
   ]
  },
  {
   "cell_type": "code",
   "execution_count": 5,
   "id": "f2e543b1",
   "metadata": {
    "id": "f2e543b1"
   },
   "outputs": [],
   "source": [
    "dfc = df.copy()"
   ]
  },
  {
   "cell_type": "code",
   "execution_count": 6,
   "id": "ea9b7c94",
   "metadata": {
    "id": "ea9b7c94"
   },
   "outputs": [],
   "source": [
    "y = dfc['is_spam']\n",
    "X = dfc.drop(['is_spam','id'],axis=1)"
   ]
  },
  {
   "cell_type": "code",
   "execution_count": 7,
   "id": "50bb39c4",
   "metadata": {
    "id": "50bb39c4"
   },
   "outputs": [],
   "source": [
    "#from sklearn.model_selection import train_test_split\n",
    "#X_train, X_test, y_train, y_test = train_test_split(X, y, test_size=0.3, random_state=42)"
   ]
  },
  {
   "cell_type": "code",
   "execution_count": null,
   "id": "ef4a4c2a",
   "metadata": {
    "id": "ef4a4c2a"
   },
   "outputs": [],
   "source": []
  },
  {
   "cell_type": "markdown",
   "id": "43a841d1",
   "metadata": {
    "id": "43a841d1"
   },
   "source": [
    "### Handle imbalance dataset"
   ]
  },
  {
   "cell_type": "code",
   "execution_count": 8,
   "id": "a56fa048",
   "metadata": {
    "colab": {
     "base_uri": "https://localhost:8080/"
    },
    "id": "a56fa048",
    "outputId": "b9538fc4-6225-4a0f-da4a-658b9efb2b38"
   },
   "outputs": [
    {
     "data": {
      "text/plain": [
       "0    6255\n",
       "1     712\n",
       "Name: is_spam, dtype: int64"
      ]
     },
     "execution_count": 8,
     "metadata": {},
     "output_type": "execute_result"
    }
   ],
   "source": [
    "dfc['is_spam'].value_counts()"
   ]
  },
  {
   "cell_type": "code",
   "execution_count": 9,
   "id": "203a0ff0",
   "metadata": {
    "colab": {
     "base_uri": "https://localhost:8080/"
    },
    "id": "203a0ff0",
    "outputId": "4f3ec8c7-625f-44b7-ca9e-d7b92a86b88a"
   },
   "outputs": [
    {
     "name": "stderr",
     "output_type": "stream",
     "text": [
      "C:\\Users\\Acer\\anaconda3\\lib\\site-packages\\imblearn\\utils\\_validation.py:638: FutureWarning: Pass sampling_strategy=1 as keyword args. From version 0.9 passing these as positional arguments will result in an error\n",
      "  FutureWarning)\n"
     ]
    },
    {
     "name": "stdout",
     "output_type": "stream",
     "text": [
      "The number of classes before fit Counter({0: 6255, 1: 712})\n",
      "The number of classes after fit Counter({0: 6209, 1: 6209})\n"
     ]
    }
   ],
   "source": [
    "from imblearn.combine import SMOTETomek\n",
    "from collections import Counter\n",
    "\n",
    "os=SMOTETomek(1)\n",
    "X_os,y_os=os.fit_sample(X,y)\n",
    "print(\"The number of classes before fit {}\".format(Counter(y)))\n",
    "print(\"The number of classes after fit {}\".format(Counter(y_os)))\n",
    "\n",
    "X = X_os\n",
    "y = y_os"
   ]
  },
  {
   "cell_type": "code",
   "execution_count": 10,
   "id": "071b357f",
   "metadata": {},
   "outputs": [],
   "source": [
    "from sklearn.model_selection import train_test_split\n",
    "X_train, X_test, y_train, y_test = train_test_split(X, y, test_size=0.3, random_state=42)"
   ]
  },
  {
   "cell_type": "code",
   "execution_count": 11,
   "id": "089c7e67",
   "metadata": {},
   "outputs": [],
   "source": [
    "from sklearn.preprocessing import StandardScaler\n",
    "scaler = StandardScaler().fit(X_train)\n",
    "X_train = scaler.transform(X_train) \n",
    "X_test = scaler.transform(X_test) "
   ]
  },
  {
   "cell_type": "markdown",
   "id": "58a44689",
   "metadata": {
    "id": "58a44689"
   },
   "source": [
    "### Hyperparameter Tuninng"
   ]
  },
  {
   "cell_type": "code",
   "execution_count": 12,
   "id": "33d6f4ae",
   "metadata": {
    "id": "33d6f4ae"
   },
   "outputs": [],
   "source": [
    "from sklearn import svm"
   ]
  },
  {
   "cell_type": "code",
   "execution_count": 13,
   "id": "04440ea4",
   "metadata": {
    "id": "04440ea4"
   },
   "outputs": [],
   "source": [
    "sv =svm.SVC()"
   ]
  },
  {
   "cell_type": "code",
   "execution_count": 14,
   "id": "cab986d6",
   "metadata": {
    "colab": {
     "base_uri": "https://localhost:8080/"
    },
    "id": "cab986d6",
    "outputId": "06cd3b32-f0ae-43c9-a5e2-37c5773cd1b4"
   },
   "outputs": [
    {
     "data": {
      "text/plain": [
       "{'C': 1.0,\n",
       " 'break_ties': False,\n",
       " 'cache_size': 200,\n",
       " 'class_weight': None,\n",
       " 'coef0': 0.0,\n",
       " 'decision_function_shape': 'ovr',\n",
       " 'degree': 3,\n",
       " 'gamma': 'scale',\n",
       " 'kernel': 'rbf',\n",
       " 'max_iter': -1,\n",
       " 'probability': False,\n",
       " 'random_state': None,\n",
       " 'shrinking': True,\n",
       " 'tol': 0.001,\n",
       " 'verbose': False}"
      ]
     },
     "execution_count": 14,
     "metadata": {},
     "output_type": "execute_result"
    }
   ],
   "source": [
    "sv.get_params()"
   ]
  },
  {
   "cell_type": "code",
   "execution_count": 15,
   "id": "36f9a868",
   "metadata": {
    "id": "36f9a868"
   },
   "outputs": [],
   "source": [
    "grid = {\n",
    "    'kernel':['rbf'],\n",
    "    'C': [0.1, 1, 10, 100, 1000], \n",
    "    'gamma': [1, 0.1, 0.01, 0.001, 0.0001],\n",
    "    #'shrinking':[True,False],\n",
    "    'probability':[True],\n",
    "   # 'decision_function_shape':['ovo', 'ovr'],\n",
    "    #'class_weight':[None,'balanced','dict']\n",
    "    \n",
    "    \n",
    "}"
   ]
  },
  {
   "cell_type": "code",
   "execution_count": 16,
   "id": "b3ffb6b7",
   "metadata": {
    "id": "b3ffb6b7"
   },
   "outputs": [],
   "source": [
    "from sklearn.model_selection import StratifiedKFold\n",
    "cv = StratifiedKFold(n_splits=10, shuffle=True) "
   ]
  },
  {
   "cell_type": "code",
   "execution_count": 17,
   "id": "751a509b",
   "metadata": {
    "id": "751a509b"
   },
   "outputs": [],
   "source": [
    "from sklearn.model_selection import RandomizedSearchCV\n",
    "sv_random = RandomizedSearchCV(estimator=sv, param_distributions=grid, n_jobs=-1,n_iter = 100, cv=cv, scoring='accuracy',error_score=0,return_train_score=True,verbose=2)"
   ]
  },
  {
   "cell_type": "code",
   "execution_count": 18,
   "id": "65c9971a",
   "metadata": {
    "colab": {
     "base_uri": "https://localhost:8080/"
    },
    "id": "65c9971a",
    "outputId": "b393a44b-6c56-402b-baed-cd50790901ef"
   },
   "outputs": [
    {
     "name": "stderr",
     "output_type": "stream",
     "text": [
      "C:\\Users\\Acer\\anaconda3\\lib\\site-packages\\sklearn\\model_selection\\_search.py:289: UserWarning: The total space of parameters 25 is smaller than n_iter=100. Running 25 iterations. For exhaustive searches, use GridSearchCV.\n",
      "  % (grid_size, self.n_iter, grid_size), UserWarning)\n"
     ]
    },
    {
     "name": "stdout",
     "output_type": "stream",
     "text": [
      "Fitting 10 folds for each of 25 candidates, totalling 250 fits\n"
     ]
    },
    {
     "data": {
      "text/plain": [
       "RandomizedSearchCV(cv=StratifiedKFold(n_splits=10, random_state=None, shuffle=True),\n",
       "                   error_score=0, estimator=SVC(), n_iter=100, n_jobs=-1,\n",
       "                   param_distributions={'C': [0.1, 1, 10, 100, 1000],\n",
       "                                        'gamma': [1, 0.1, 0.01, 0.001, 0.0001],\n",
       "                                        'kernel': ['rbf'],\n",
       "                                        'probability': [True]},\n",
       "                   return_train_score=True, scoring='accuracy', verbose=2)"
      ]
     },
     "execution_count": 18,
     "metadata": {},
     "output_type": "execute_result"
    }
   ],
   "source": [
    "sv_random.fit(X_train,y_train)"
   ]
  },
  {
   "cell_type": "markdown",
   "id": "00b9843f",
   "metadata": {
    "id": "00b9843f"
   },
   "source": [
    "### Evaluvate"
   ]
  },
  {
   "cell_type": "code",
   "execution_count": 19,
   "id": "73b812a3",
   "metadata": {
    "id": "73b812a3"
   },
   "outputs": [],
   "source": [
    "best_model = sv_random.best_estimator_"
   ]
  },
  {
   "cell_type": "code",
   "execution_count": 20,
   "id": "ddd942df",
   "metadata": {
    "colab": {
     "base_uri": "https://localhost:8080/"
    },
    "id": "ddd942df",
    "outputId": "7cfcbd41-01b0-487e-f169-30b1a45df487"
   },
   "outputs": [
    {
     "data": {
      "text/plain": [
       "{'probability': True, 'kernel': 'rbf', 'gamma': 0.1, 'C': 100}"
      ]
     },
     "execution_count": 20,
     "metadata": {},
     "output_type": "execute_result"
    }
   ],
   "source": [
    "sv_random.best_params_"
   ]
  },
  {
   "cell_type": "code",
   "execution_count": 21,
   "id": "b98c5238",
   "metadata": {
    "colab": {
     "base_uri": "https://localhost:8080/"
    },
    "id": "b98c5238",
    "outputId": "64d1dcb0-6abf-421b-8ac8-f15d873a71be"
   },
   "outputs": [
    {
     "data": {
      "text/plain": [
       "0.9423586365620411"
      ]
     },
     "execution_count": 21,
     "metadata": {},
     "output_type": "execute_result"
    }
   ],
   "source": [
    "sv_random.best_score_"
   ]
  },
  {
   "cell_type": "code",
   "execution_count": 22,
   "id": "0c3c67a3",
   "metadata": {
    "id": "0c3c67a3"
   },
   "outputs": [],
   "source": [
    "y_pred = best_model.predict(X_test)"
   ]
  },
  {
   "cell_type": "code",
   "execution_count": 23,
   "id": "22a9d08f",
   "metadata": {
    "id": "22a9d08f"
   },
   "outputs": [],
   "source": [
    "err = (y_pred - y_test)"
   ]
  },
  {
   "cell_type": "code",
   "execution_count": null,
   "id": "26575efb",
   "metadata": {
    "colab": {
     "base_uri": "https://localhost:8080/",
     "height": 282
    },
    "id": "26575efb",
    "outputId": "c99bbbe9-04ce-4b77-9c69-5d3afeaee655"
   },
   "outputs": [],
   "source": [
    "err.value_counts().plot(kind='bar',color='green')"
   ]
  },
  {
   "cell_type": "code",
   "execution_count": null,
   "id": "0b09ddb5",
   "metadata": {
    "colab": {
     "base_uri": "https://localhost:8080/"
    },
    "id": "0b09ddb5",
    "outputId": "2beba907-c369-4bdb-9fb6-3ae221b774b7"
   },
   "outputs": [],
   "source": [
    "from sklearn import metrics\n",
    "print('MAE:', metrics.mean_absolute_error(y_test,y_pred))\n",
    "print('MSE:', metrics.mean_squared_error(y_test, y_pred))\n",
    "print('RMSE:', np.sqrt(metrics.mean_squared_error(y_test, y_pred)))"
   ]
  },
  {
   "cell_type": "code",
   "execution_count": null,
   "id": "33c56ed6",
   "metadata": {
    "id": "33c56ed6"
   },
   "outputs": [],
   "source": []
  },
  {
   "cell_type": "code",
   "execution_count": null,
   "id": "d17ab633",
   "metadata": {
    "colab": {
     "base_uri": "https://localhost:8080/"
    },
    "id": "d17ab633",
    "outputId": "6aaf139e-aa0a-4563-e0e0-bd5e76e9f33f"
   },
   "outputs": [],
   "source": [
    "from sklearn.metrics import classification_report, confusion_matrix\n",
    "print(confusion_matrix(y_test, y_pred))\n",
    "print(classification_report(y_test, y_pred))"
   ]
  },
  {
   "cell_type": "code",
   "execution_count": null,
   "id": "7d3bc812",
   "metadata": {
    "id": "7d3bc812"
   },
   "outputs": [],
   "source": [
    "#import pickle\n",
    "# open a file, where you ant to store the data\n",
    "#file = open('random_forest_regression_model_v2.pkl', 'wb')\n",
    "# dump information to that file\n",
    "#pickle.dump(rf_random, file)"
   ]
  },
  {
   "cell_type": "markdown",
   "id": "2583a3ae",
   "metadata": {
    "id": "2583a3ae"
   },
   "source": [
    "### ROC"
   ]
  },
  {
   "cell_type": "code",
   "execution_count": null,
   "id": "1fae995e",
   "metadata": {
    "id": "1fae995e"
   },
   "outputs": [],
   "source": [
    "from sklearn.metrics import roc_auc_score\n",
    "from sklearn.metrics import roc_curve"
   ]
  },
  {
   "cell_type": "code",
   "execution_count": null,
   "id": "2bbc6684",
   "metadata": {
    "id": "2bbc6684"
   },
   "outputs": [],
   "source": [
    "baseline_roc_auc = roc_auc_score(y_test, best_model.predict(X_test))\n",
    "fprB, tprB, thresholdsB = roc_curve(y_test, best_model.predict_proba(X_test)[:,1])"
   ]
  },
  {
   "cell_type": "code",
   "execution_count": null,
   "id": "bda86693",
   "metadata": {
    "colab": {
     "base_uri": "https://localhost:8080/",
     "height": 295
    },
    "id": "bda86693",
    "outputId": "bbb19c91-c716-44cb-f0e6-64990dc513d5"
   },
   "outputs": [],
   "source": [
    "plt.figure()\n",
    "plt.plot(fprB, tprB, label='GB(area = %0.2f)' % baseline_roc_auc)\n",
    "plt.plot([0, 1], [0, 1],'r--')\n",
    "plt.xlim([0.0, 1.0])\n",
    "plt.ylim([0.0, 1.05])\n",
    "plt.xlabel('False Positive Rate')\n",
    "plt.ylabel('True Positive Rate')\n",
    "plt.title('Receiver operating characteristic')\n",
    "plt.legend(loc=\"lower right\")\n",
    "plt.show()"
   ]
  },
  {
   "cell_type": "markdown",
   "id": "-75RQtd6A3mq",
   "metadata": {
    "id": "-75RQtd6A3mq"
   },
   "source": [
    "Recall - presicion with threshold values"
   ]
  },
  {
   "cell_type": "code",
   "execution_count": null,
   "id": "esWQY_AFAyQ9",
   "metadata": {
    "colab": {
     "base_uri": "https://localhost:8080/",
     "height": 312
    },
    "id": "esWQY_AFAyQ9",
    "outputId": "c5dde1b2-2d5f-48fa-889a-91b245c3399a"
   },
   "outputs": [],
   "source": [
    "### Predict test_y values and probabilities based on random forest model\n",
    "probs_y=best_model.predict_proba(X_test) \n",
    "  # probs_y is a 2-D array of probability of being labeled as 0 (first column of array) vs 1 (2nd column in array)\n",
    "\n",
    "from sklearn.metrics import precision_recall_curve\n",
    "precision, recall, thresholds = precision_recall_curve(y_test, probs_y[:, 1]) \n",
    "   #retrieve probability of being 1(in second column of probs_y)\n",
    "pr_auc = metrics.auc(recall, precision)\n",
    "\n",
    "plt.title(\"Precision-Recall vs Threshold Chart\")\n",
    "plt.plot(thresholds, precision[: -1], \"b--\", label=\"Precision\")\n",
    "plt.plot(thresholds, recall[: -1], \"r--\", label=\"Recall\")\n",
    "plt.ylabel(\"Precision, Recall\")\n",
    "plt.xlabel(\"Threshold\")\n",
    "plt.legend(loc=\"lower left\")\n",
    "plt.ylim([0,1])"
   ]
  },
  {
   "cell_type": "code",
   "execution_count": null,
   "id": "0N-QdP69A9bu",
   "metadata": {
    "id": "0N-QdP69A9bu"
   },
   "outputs": [],
   "source": [
    "import pickle\n",
    "#open a file, where you ant to store the data\n",
    "file = open('svm.pklv2', 'wb')\n",
    "# dump information to that file\n",
    "pickle.dump(best_model, file)\n",
    "file.close()"
   ]
  }
 ],
 "metadata": {
  "accelerator": "GPU",
  "colab": {
   "include_colab_link": true,
   "name": "SVM model.ipynb",
   "provenance": [],
   "toc_visible": true
  },
  "kernelspec": {
   "display_name": "Python 3",
   "language": "python",
   "name": "python3"
  },
  "language_info": {
   "codemirror_mode": {
    "name": "ipython",
    "version": 3
   },
   "file_extension": ".py",
   "mimetype": "text/x-python",
   "name": "python",
   "nbconvert_exporter": "python",
   "pygments_lexer": "ipython3",
   "version": "3.7.9"
  }
 },
 "nbformat": 4,
 "nbformat_minor": 5
}
