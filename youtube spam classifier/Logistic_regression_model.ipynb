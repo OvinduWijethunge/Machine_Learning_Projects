{
 "cells": [
  {
   "cell_type": "markdown",
   "id": "d8492091",
   "metadata": {
    "colab_type": "text",
    "id": "view-in-github"
   },
   "source": [
    "<a href=\"https://colab.research.google.com/github/OvinduWijethunge/Machine_Learning_Projects/blob/version-1/youtube%20spam%20classifier/Logistic_regression_model.ipynb\" target=\"_parent\"><img src=\"https://colab.research.google.com/assets/colab-badge.svg\" alt=\"Open In Colab\"/></a>"
   ]
  },
  {
   "cell_type": "code",
   "execution_count": 1,
   "id": "542fd584",
   "metadata": {
    "id": "542fd584"
   },
   "outputs": [],
   "source": [
    "import pandas as pd\n",
    "import numpy as np\n",
    "import matplotlib.pyplot as plt\n",
    "import seaborn as sns"
   ]
  },
  {
   "cell_type": "code",
   "execution_count": 2,
   "id": "857c2bf7",
   "metadata": {
    "id": "857c2bf7"
   },
   "outputs": [],
   "source": [
    "df = pd.read_csv('models.csv')\n",
    "#url = 'https://raw.githubusercontent.com/OvinduWijethunge/Machine_Learning_Projects/master/youtube%20spam%20classifier/model.csv'\n",
    "#df = pd.read_csv(url)"
   ]
  },
  {
   "cell_type": "code",
   "execution_count": 3,
   "id": "415d3a17",
   "metadata": {
    "colab": {
     "base_uri": "https://localhost:8080/",
     "height": 232
    },
    "id": "415d3a17",
    "outputId": "982183df-3523-4f7e-f40b-472ef57923f8"
   },
   "outputs": [
    {
     "data": {
      "text/html": [
       "<div>\n",
       "<style scoped>\n",
       "    .dataframe tbody tr th:only-of-type {\n",
       "        vertical-align: middle;\n",
       "    }\n",
       "\n",
       "    .dataframe tbody tr th {\n",
       "        vertical-align: top;\n",
       "    }\n",
       "\n",
       "    .dataframe thead th {\n",
       "        text-align: right;\n",
       "    }\n",
       "</style>\n",
       "<table border=\"1\" class=\"dataframe\">\n",
       "  <thead>\n",
       "    <tr style=\"text-align: right;\">\n",
       "      <th></th>\n",
       "      <th>Unnamed: 0</th>\n",
       "      <th>sim_content</th>\n",
       "      <th>sim_comment</th>\n",
       "      <th>word_count</th>\n",
       "      <th>duplicate_word_ratio</th>\n",
       "      <th>no_of_sentences</th>\n",
       "      <th>length_of_comment</th>\n",
       "      <th>num_of_punctuations</th>\n",
       "      <th>is_period_sequence</th>\n",
       "      <th>post_coment_gap</th>\n",
       "      <th>black_word_count</th>\n",
       "      <th>is_link</th>\n",
       "      <th>is_youtube_link</th>\n",
       "      <th>is_number</th>\n",
       "      <th>comment_duplication</th>\n",
       "      <th>is_spam</th>\n",
       "    </tr>\n",
       "  </thead>\n",
       "  <tbody>\n",
       "    <tr>\n",
       "      <th>0</th>\n",
       "      <td>0</td>\n",
       "      <td>0.179708</td>\n",
       "      <td>0.239557</td>\n",
       "      <td>1.866549</td>\n",
       "      <td>0.0000</td>\n",
       "      <td>1</td>\n",
       "      <td>6.528592</td>\n",
       "      <td>0.0</td>\n",
       "      <td>0</td>\n",
       "      <td>8.504918</td>\n",
       "      <td>0.111111</td>\n",
       "      <td>0</td>\n",
       "      <td>0</td>\n",
       "      <td>0</td>\n",
       "      <td>0.0</td>\n",
       "      <td>0</td>\n",
       "    </tr>\n",
       "    <tr>\n",
       "      <th>1</th>\n",
       "      <td>1</td>\n",
       "      <td>0.150545</td>\n",
       "      <td>0.184270</td>\n",
       "      <td>1.866549</td>\n",
       "      <td>0.0000</td>\n",
       "      <td>2</td>\n",
       "      <td>7.132631</td>\n",
       "      <td>2.0</td>\n",
       "      <td>0</td>\n",
       "      <td>13.681642</td>\n",
       "      <td>0.000000</td>\n",
       "      <td>0</td>\n",
       "      <td>0</td>\n",
       "      <td>0</td>\n",
       "      <td>0.0</td>\n",
       "      <td>0</td>\n",
       "    </tr>\n",
       "    <tr>\n",
       "      <th>2</th>\n",
       "      <td>2</td>\n",
       "      <td>0.167696</td>\n",
       "      <td>0.191896</td>\n",
       "      <td>2.260334</td>\n",
       "      <td>0.0625</td>\n",
       "      <td>3</td>\n",
       "      <td>8.354362</td>\n",
       "      <td>4.0</td>\n",
       "      <td>0</td>\n",
       "      <td>13.681642</td>\n",
       "      <td>0.125000</td>\n",
       "      <td>1</td>\n",
       "      <td>1</td>\n",
       "      <td>0</td>\n",
       "      <td>0.0</td>\n",
       "      <td>1</td>\n",
       "    </tr>\n",
       "    <tr>\n",
       "      <th>3</th>\n",
       "      <td>3</td>\n",
       "      <td>0.228679</td>\n",
       "      <td>0.217009</td>\n",
       "      <td>1.683387</td>\n",
       "      <td>0.0000</td>\n",
       "      <td>1</td>\n",
       "      <td>5.931295</td>\n",
       "      <td>0.0</td>\n",
       "      <td>0</td>\n",
       "      <td>13.681642</td>\n",
       "      <td>0.000000</td>\n",
       "      <td>0</td>\n",
       "      <td>0</td>\n",
       "      <td>0</td>\n",
       "      <td>0.0</td>\n",
       "      <td>0</td>\n",
       "    </tr>\n",
       "    <tr>\n",
       "      <th>4</th>\n",
       "      <td>4</td>\n",
       "      <td>0.105110</td>\n",
       "      <td>0.125598</td>\n",
       "      <td>2.122198</td>\n",
       "      <td>0.0000</td>\n",
       "      <td>2</td>\n",
       "      <td>7.962790</td>\n",
       "      <td>4.0</td>\n",
       "      <td>1</td>\n",
       "      <td>13.681642</td>\n",
       "      <td>0.076923</td>\n",
       "      <td>1</td>\n",
       "      <td>1</td>\n",
       "      <td>0</td>\n",
       "      <td>0.0</td>\n",
       "      <td>1</td>\n",
       "    </tr>\n",
       "  </tbody>\n",
       "</table>\n",
       "</div>"
      ],
      "text/plain": [
       "   Unnamed: 0  sim_content  sim_comment  word_count  duplicate_word_ratio  \\\n",
       "0           0     0.179708     0.239557    1.866549                0.0000   \n",
       "1           1     0.150545     0.184270    1.866549                0.0000   \n",
       "2           2     0.167696     0.191896    2.260334                0.0625   \n",
       "3           3     0.228679     0.217009    1.683387                0.0000   \n",
       "4           4     0.105110     0.125598    2.122198                0.0000   \n",
       "\n",
       "   no_of_sentences  length_of_comment  num_of_punctuations  \\\n",
       "0                1           6.528592                  0.0   \n",
       "1                2           7.132631                  2.0   \n",
       "2                3           8.354362                  4.0   \n",
       "3                1           5.931295                  0.0   \n",
       "4                2           7.962790                  4.0   \n",
       "\n",
       "   is_period_sequence  post_coment_gap  black_word_count  is_link  \\\n",
       "0                   0         8.504918          0.111111        0   \n",
       "1                   0        13.681642          0.000000        0   \n",
       "2                   0        13.681642          0.125000        1   \n",
       "3                   0        13.681642          0.000000        0   \n",
       "4                   1        13.681642          0.076923        1   \n",
       "\n",
       "   is_youtube_link  is_number  comment_duplication  is_spam  \n",
       "0                0          0                  0.0        0  \n",
       "1                0          0                  0.0        0  \n",
       "2                1          0                  0.0        1  \n",
       "3                0          0                  0.0        0  \n",
       "4                1          0                  0.0        1  "
      ]
     },
     "execution_count": 3,
     "metadata": {},
     "output_type": "execute_result"
    }
   ],
   "source": [
    "df.head()"
   ]
  },
  {
   "cell_type": "code",
   "execution_count": 4,
   "id": "26ac0752",
   "metadata": {
    "colab": {
     "base_uri": "https://localhost:8080/"
    },
    "id": "26ac0752",
    "outputId": "df8c7dc2-2ca0-44c3-ad2a-df54028506ac"
   },
   "outputs": [
    {
     "data": {
      "text/plain": [
       "Unnamed: 0              0\n",
       "sim_content             0\n",
       "sim_comment             0\n",
       "word_count              0\n",
       "duplicate_word_ratio    0\n",
       "no_of_sentences         0\n",
       "length_of_comment       0\n",
       "num_of_punctuations     0\n",
       "is_period_sequence      0\n",
       "post_coment_gap         0\n",
       "black_word_count        0\n",
       "is_link                 0\n",
       "is_youtube_link         0\n",
       "is_number               0\n",
       "comment_duplication     0\n",
       "is_spam                 0\n",
       "dtype: int64"
      ]
     },
     "execution_count": 4,
     "metadata": {},
     "output_type": "execute_result"
    }
   ],
   "source": [
    "df.isnull().sum()"
   ]
  },
  {
   "cell_type": "code",
   "execution_count": 5,
   "id": "d512cd2a",
   "metadata": {
    "colab": {
     "base_uri": "https://localhost:8080/"
    },
    "id": "d512cd2a",
    "outputId": "370a0150-dc53-4bb1-f0d5-a4126764822c"
   },
   "outputs": [
    {
     "data": {
      "text/plain": [
       "Index(['id', 'sim_content', 'sim_comment', 'word_count',\n",
       "       'duplicate_word_ratio', 'no_of_sentences', 'length_of_comment',\n",
       "       'num_of_punctuations', 'is_period_sequence', 'post_coment_gap',\n",
       "       'black_word_count', 'is_link', 'is_youtube_link', 'is_number',\n",
       "       'comment_duplication', 'is_spam'],\n",
       "      dtype='object')"
      ]
     },
     "execution_count": 5,
     "metadata": {},
     "output_type": "execute_result"
    }
   ],
   "source": [
    "df.rename(columns={'Unnamed: 0':'id'},inplace=True)\n",
    "df.columns"
   ]
  },
  {
   "cell_type": "markdown",
   "id": "f0a815df",
   "metadata": {
    "id": "f0a815df"
   },
   "source": [
    "#### Standerdization is not required for logistic regression"
   ]
  },
  {
   "cell_type": "code",
   "execution_count": 6,
   "id": "61a0b9ae",
   "metadata": {
    "id": "61a0b9ae"
   },
   "outputs": [],
   "source": [
    "dfc = df.copy()"
   ]
  },
  {
   "cell_type": "code",
   "execution_count": 7,
   "id": "22452185",
   "metadata": {
    "id": "22452185"
   },
   "outputs": [],
   "source": [
    "y = dfc['is_spam']\n",
    "X = dfc.drop(['is_spam','id'],axis=1)"
   ]
  },
  {
   "cell_type": "code",
   "execution_count": null,
   "id": "ccab1f07",
   "metadata": {
    "id": "ccab1f07"
   },
   "outputs": [],
   "source": []
  },
  {
   "cell_type": "markdown",
   "id": "04a977a6",
   "metadata": {
    "id": "04a977a6"
   },
   "source": [
    "#### Handle imbalnce dataset"
   ]
  },
  {
   "cell_type": "code",
   "execution_count": 8,
   "id": "84c2eb0f",
   "metadata": {
    "colab": {
     "base_uri": "https://localhost:8080/"
    },
    "id": "84c2eb0f",
    "outputId": "1f74fb49-910a-48fc-efca-0469955f1514"
   },
   "outputs": [
    {
     "data": {
      "text/plain": [
       "0    6255\n",
       "1     712\n",
       "Name: is_spam, dtype: int64"
      ]
     },
     "execution_count": 8,
     "metadata": {},
     "output_type": "execute_result"
    }
   ],
   "source": [
    "dfc['is_spam'].value_counts()"
   ]
  },
  {
   "cell_type": "code",
   "execution_count": 9,
   "id": "86b2321f",
   "metadata": {
    "colab": {
     "base_uri": "https://localhost:8080/"
    },
    "id": "86b2321f",
    "outputId": "27033a69-b3dd-4868-93c6-622ee5ef4afa"
   },
   "outputs": [
    {
     "name": "stdout",
     "output_type": "stream",
     "text": [
      "The number of classes before fit Counter({0: 6255, 1: 712})\n",
      "The number of classes after fit Counter({0: 6255, 1: 5629})\n"
     ]
    },
    {
     "name": "stderr",
     "output_type": "stream",
     "text": [
      "C:\\Users\\Acer\\anaconda3\\lib\\site-packages\\imblearn\\utils\\_validation.py:638: FutureWarning: Pass sampling_strategy=0.9 as keyword args. From version 0.9 passing these as positional arguments will result in an error\n",
      "  FutureWarning)\n"
     ]
    }
   ],
   "source": [
    "from imblearn.over_sampling import RandomOverSampler\n",
    "from collections import Counter\n",
    "\n",
    "os=RandomOverSampler(0.9)\n",
    "X_ns,y_ns=os.fit_sample(X,y)\n",
    "print(\"The number of classes before fit {}\".format(Counter(y)))\n",
    "print(\"The number of classes after fit {}\".format(Counter(y_ns)))\n",
    "\n",
    "X = X_ns\n",
    "y = y_ns"
   ]
  },
  {
   "cell_type": "code",
   "execution_count": 10,
   "id": "21ac0820",
   "metadata": {},
   "outputs": [],
   "source": [
    "from sklearn.model_selection import train_test_split\n",
    "X_train, X_test, y_train, y_test = train_test_split(X, y, test_size=0.3, random_state=10)"
   ]
  },
  {
   "cell_type": "markdown",
   "id": "4d406cda",
   "metadata": {
    "id": "4d406cda"
   },
   "source": [
    "#### Hyperparameter Tuninng"
   ]
  },
  {
   "cell_type": "code",
   "execution_count": 11,
   "id": "1c5b010e",
   "metadata": {
    "id": "1c5b010e"
   },
   "outputs": [],
   "source": [
    "from sklearn.linear_model import LogisticRegression"
   ]
  },
  {
   "cell_type": "code",
   "execution_count": 12,
   "id": "ddbc936b",
   "metadata": {
    "id": "ddbc936b"
   },
   "outputs": [],
   "source": [
    "lr = LogisticRegression()"
   ]
  },
  {
   "cell_type": "code",
   "execution_count": 13,
   "id": "86de6e8e",
   "metadata": {
    "colab": {
     "base_uri": "https://localhost:8080/"
    },
    "id": "86de6e8e",
    "outputId": "fc8720b5-5a5f-4cc3-e165-4ae80713ccc5"
   },
   "outputs": [
    {
     "data": {
      "text/plain": [
       "{'C': 1.0,\n",
       " 'class_weight': None,\n",
       " 'dual': False,\n",
       " 'fit_intercept': True,\n",
       " 'intercept_scaling': 1,\n",
       " 'l1_ratio': None,\n",
       " 'max_iter': 100,\n",
       " 'multi_class': 'auto',\n",
       " 'n_jobs': None,\n",
       " 'penalty': 'l2',\n",
       " 'random_state': None,\n",
       " 'solver': 'lbfgs',\n",
       " 'tol': 0.0001,\n",
       " 'verbose': 0,\n",
       " 'warm_start': False}"
      ]
     },
     "execution_count": 13,
     "metadata": {},
     "output_type": "execute_result"
    }
   ],
   "source": [
    "lr.get_params()"
   ]
  },
  {
   "cell_type": "code",
   "execution_count": 14,
   "id": "fd8968db",
   "metadata": {
    "id": "fd8968db"
   },
   "outputs": [],
   "source": [
    "solvers = ['newton-cg', 'lbfgs', 'liblinear']\n",
    "penalty = ['l2','l1','elasticnet','none']\n",
    "c_values = [100, 10, 1.0, 0.1, 0.01,0.001,0.0001]\n",
    "dual = [True,False]\n",
    "fit_intercept = [True,False]\n",
    "warm_start = [True,False]"
   ]
  },
  {
   "cell_type": "code",
   "execution_count": 15,
   "id": "39323b74",
   "metadata": {
    "id": "39323b74"
   },
   "outputs": [],
   "source": [
    "grid = dict(solver=solvers,penalty=penalty,C=c_values,dual=dual,fit_intercept=fit_intercept,warm_start=warm_start)"
   ]
  },
  {
   "cell_type": "code",
   "execution_count": 16,
   "id": "8fac3c82",
   "metadata": {
    "id": "8fac3c82"
   },
   "outputs": [],
   "source": [
    "from sklearn.model_selection import StratifiedKFold\n",
    "cv = StratifiedKFold(n_splits=10, shuffle=True) "
   ]
  },
  {
   "cell_type": "code",
   "execution_count": 17,
   "id": "1ed9e010",
   "metadata": {
    "id": "1ed9e010"
   },
   "outputs": [],
   "source": [
    "from sklearn.model_selection import RandomizedSearchCV\n",
    "lr_random = RandomizedSearchCV(estimator=lr, param_distributions=grid, n_jobs=-1,n_iter = 100, cv=cv, scoring='accuracy',error_score=0,return_train_score=True,verbose=2)"
   ]
  },
  {
   "cell_type": "code",
   "execution_count": 18,
   "id": "6237ea86",
   "metadata": {
    "colab": {
     "base_uri": "https://localhost:8080/"
    },
    "id": "6237ea86",
    "outputId": "eef472c3-7489-43e6-d1cb-a8489882f994"
   },
   "outputs": [
    {
     "name": "stdout",
     "output_type": "stream",
     "text": [
      "Fitting 10 folds for each of 100 candidates, totalling 1000 fits\n"
     ]
    },
    {
     "data": {
      "text/plain": [
       "RandomizedSearchCV(cv=StratifiedKFold(n_splits=10, random_state=None, shuffle=True),\n",
       "                   error_score=0, estimator=LogisticRegression(), n_iter=100,\n",
       "                   n_jobs=-1,\n",
       "                   param_distributions={'C': [100, 10, 1.0, 0.1, 0.01, 0.001,\n",
       "                                              0.0001],\n",
       "                                        'dual': [True, False],\n",
       "                                        'fit_intercept': [True, False],\n",
       "                                        'penalty': ['l2', 'l1', 'elasticnet',\n",
       "                                                    'none'],\n",
       "                                        'solver': ['newton-cg', 'lbfgs',\n",
       "                                                   'liblinear'],\n",
       "                                        'warm_start': [True, False]},\n",
       "                   return_train_score=True, scoring='accuracy', verbose=2)"
      ]
     },
     "execution_count": 18,
     "metadata": {},
     "output_type": "execute_result"
    }
   ],
   "source": [
    "lr_random.fit(X_train,y_train)"
   ]
  },
  {
   "cell_type": "markdown",
   "id": "4ef3b6b4",
   "metadata": {
    "id": "4ef3b6b4"
   },
   "source": [
    "### Evaluate"
   ]
  },
  {
   "cell_type": "code",
   "execution_count": 19,
   "id": "d743c352",
   "metadata": {
    "colab": {
     "base_uri": "https://localhost:8080/"
    },
    "id": "d743c352",
    "outputId": "cb2fbdc5-ba36-40ae-bd39-3df30f91faf7"
   },
   "outputs": [
    {
     "data": {
      "text/plain": [
       "LogisticRegression(C=100, solver='liblinear')"
      ]
     },
     "execution_count": 19,
     "metadata": {},
     "output_type": "execute_result"
    }
   ],
   "source": [
    "lr_random.best_estimator_"
   ]
  },
  {
   "cell_type": "code",
   "execution_count": 20,
   "id": "a54cc6bd",
   "metadata": {
    "colab": {
     "base_uri": "https://localhost:8080/"
    },
    "id": "a54cc6bd",
    "outputId": "535f2ec6-7c77-4858-a8cd-b3e775f3d0bd"
   },
   "outputs": [
    {
     "data": {
      "text/plain": [
       "0.8802612700175876"
      ]
     },
     "execution_count": 20,
     "metadata": {},
     "output_type": "execute_result"
    }
   ],
   "source": [
    "lr_random.best_score_"
   ]
  },
  {
   "cell_type": "code",
   "execution_count": 21,
   "id": "d3ba5f58",
   "metadata": {
    "colab": {
     "base_uri": "https://localhost:8080/"
    },
    "id": "d3ba5f58",
    "outputId": "0dc3b662-c7e2-4821-8073-ec35d740742c"
   },
   "outputs": [
    {
     "data": {
      "text/plain": [
       "{'warm_start': False,\n",
       " 'solver': 'liblinear',\n",
       " 'penalty': 'l2',\n",
       " 'fit_intercept': True,\n",
       " 'dual': False,\n",
       " 'C': 100}"
      ]
     },
     "execution_count": 21,
     "metadata": {},
     "output_type": "execute_result"
    }
   ],
   "source": [
    "lr_random.best_params_"
   ]
  },
  {
   "cell_type": "code",
   "execution_count": 22,
   "id": "e3f23daf",
   "metadata": {
    "id": "e3f23daf"
   },
   "outputs": [],
   "source": [
    "# To get the best model\n",
    "best_model = lr_random.best_estimator_"
   ]
  },
  {
   "cell_type": "code",
   "execution_count": 23,
   "id": "a3889397",
   "metadata": {
    "id": "a3889397"
   },
   "outputs": [],
   "source": [
    "y_pred = best_model.predict(X_test)"
   ]
  },
  {
   "cell_type": "code",
   "execution_count": 24,
   "id": "942c83fc",
   "metadata": {
    "id": "942c83fc"
   },
   "outputs": [],
   "source": [
    "err = (y_pred - y_test)"
   ]
  },
  {
   "cell_type": "code",
   "execution_count": 25,
   "id": "78e257f6",
   "metadata": {
    "colab": {
     "base_uri": "https://localhost:8080/",
     "height": 284
    },
    "id": "78e257f6",
    "outputId": "399df7e7-abee-499b-e26e-ddbd6cb3b32e"
   },
   "outputs": [
    {
     "data": {
      "text/plain": [
       "<AxesSubplot:>"
      ]
     },
     "execution_count": 25,
     "metadata": {},
     "output_type": "execute_result"
    },
    {
     "data": {
      "image/png": "[encoded data removed]",
      "text/plain": [
       "<Figure size 432x288 with 1 Axes>"
      ]
     },
     "metadata": {
      "needs_background": "light"
     },
     "output_type": "display_data"
    }
   ],
   "source": [
    "err.value_counts().plot(kind='bar',color='pink')"
   ]
  },
  {
   "cell_type": "code",
   "execution_count": 26,
   "id": "4291c9f2",
   "metadata": {
    "colab": {
     "base_uri": "https://localhost:8080/"
    },
    "id": "4291c9f2",
    "outputId": "aa4da999-abe9-4962-8a6f-a969f1380682"
   },
   "outputs": [
    {
     "name": "stdout",
     "output_type": "stream",
     "text": [
      "MAE: 0.10796410544026921\n",
      "MSE: 0.10796410544026921\n",
      "RMSE: 0.32857891813119905\n"
     ]
    }
   ],
   "source": [
    "from sklearn import metrics\n",
    "print('MAE:', metrics.mean_absolute_error(y_test,y_pred))\n",
    "print('MSE:', metrics.mean_squared_error(y_test, y_pred))\n",
    "print('RMSE:', np.sqrt(metrics.mean_squared_error(y_test, y_pred)))"
   ]
  },
  {
   "cell_type": "code",
   "execution_count": null,
   "id": "253ca04b",
   "metadata": {
    "id": "253ca04b"
   },
   "outputs": [],
   "source": []
  },
  {
   "cell_type": "code",
   "execution_count": 27,
   "id": "5af30903",
   "metadata": {
    "colab": {
     "base_uri": "https://localhost:8080/"
    },
    "id": "5af30903",
    "outputId": "d0d3df7d-e07f-4341-ad10-019f235f4450"
   },
   "outputs": [
    {
     "name": "stdout",
     "output_type": "stream",
     "text": [
      "[[1745  158]\n",
      " [ 227 1436]]\n",
      "              precision    recall  f1-score   support\n",
      "\n",
      "           0       0.88      0.92      0.90      1903\n",
      "           1       0.90      0.86      0.88      1663\n",
      "\n",
      "    accuracy                           0.89      3566\n",
      "   macro avg       0.89      0.89      0.89      3566\n",
      "weighted avg       0.89      0.89      0.89      3566\n",
      "\n"
     ]
    }
   ],
   "source": [
    "from sklearn.metrics import classification_report, confusion_matrix\n",
    "print(confusion_matrix(y_test, y_pred))\n",
    "print(classification_report(y_test, y_pred))"
   ]
  },
  {
   "cell_type": "code",
   "execution_count": 28,
   "id": "50dc9ae6",
   "metadata": {
    "id": "50dc9ae6"
   },
   "outputs": [],
   "source": [
    "cof = lr_random.best_estimator_.coef_.tolist()"
   ]
  },
  {
   "cell_type": "code",
   "execution_count": 29,
   "id": "f037bf58",
   "metadata": {
    "id": "f037bf58"
   },
   "outputs": [],
   "source": [
    "arr=cof[0]\n",
    "x_ax = [abs(x) for x in arr]"
   ]
  },
  {
   "cell_type": "code",
   "execution_count": 30,
   "id": "i6cZbk08L2Lg",
   "metadata": {
    "colab": {
     "base_uri": "https://localhost:8080/"
    },
    "id": "i6cZbk08L2Lg",
    "outputId": "b2fc911e-a806-4f14-bedc-f9b31c379a69"
   },
   "outputs": [
    {
     "data": {
      "text/plain": [
       "[1.8576031444400611,\n",
       " 7.128029353846581,\n",
       " 1.3285892298107476,\n",
       " 3.2578253983135976,\n",
       " 0.2601597459090647,\n",
       " 0.7671212153791395,\n",
       " 0.10522070792234602,\n",
       " 0.4101474658855383,\n",
       " 0.02274458422460851,\n",
       " 19.479773368270425,\n",
       " 4.185572863460147,\n",
       " 0.41304519848511834,\n",
       " 3.08590126984986,\n",
       " 4.586072411997283]"
      ]
     },
     "execution_count": 30,
     "metadata": {},
     "output_type": "execute_result"
    }
   ],
   "source": [
    "x_ax"
   ]
  },
  {
   "cell_type": "code",
   "execution_count": 31,
   "id": "d414506e",
   "metadata": {
    "id": "d414506e"
   },
   "outputs": [
    {
     "data": {
      "text/plain": [
       "Index(['id', 'sim_content', 'sim_comment', 'word_count',\n",
       "       'duplicate_word_ratio', 'no_of_sentences', 'length_of_comment',\n",
       "       'num_of_punctuations', 'is_period_sequence', 'post_coment_gap',\n",
       "       'black_word_count', 'is_link', 'is_youtube_link', 'is_number',\n",
       "       'comment_duplication', 'is_spam'],\n",
       "      dtype='object')"
      ]
     },
     "execution_count": 31,
     "metadata": {},
     "output_type": "execute_result"
    }
   ],
   "source": [
    "df.columns"
   ]
  },
  {
   "cell_type": "code",
   "execution_count": 32,
   "id": "84ff1aa0",
   "metadata": {
    "id": "84ff1aa0"
   },
   "outputs": [],
   "source": [
    "y_ax = ['sim_content', 'sim_comment', 'word_count',\n",
    "       'duplicate_word_ratio', 'no_of_sentences', 'length_of_comment',\n",
    "       'num_of_punctuations', 'is_period_sequence', 'post_coment_gap',\n",
    "       'black_word_count', 'is_link', 'is_youtube_link', 'is_number',\n",
    "       'comment_duplication']"
   ]
  },
  {
   "cell_type": "code",
   "execution_count": 33,
   "id": "d4855942",
   "metadata": {
    "colab": {
     "base_uri": "https://localhost:8080/",
     "height": 318
    },
    "id": "d4855942",
    "outputId": "111b15f6-1ad0-49e3-9fe5-51e9798e1e52"
   },
   "outputs": [
    {
     "name": "stderr",
     "output_type": "stream",
     "text": [
      "C:\\Users\\Acer\\anaconda3\\lib\\site-packages\\seaborn\\_decorators.py:43: FutureWarning: Pass the following variables as keyword args: x, y. From version 0.12, the only valid positional argument will be `data`, and passing other arguments without an explicit keyword will result in an error or misinterpretation.\n",
      "  FutureWarning\n"
     ]
    },
    {
     "data": {
      "image/png": "[encoded data removed]",
      "text/plain": [
       "<Figure size 432x288 with 1 Axes>"
      ]
     },
     "metadata": {
      "needs_background": "light"
     },
     "output_type": "display_data"
    }
   ],
   "source": [
    "sns.barplot(x_ax,y_ax,orient = 'h')\n",
    "#plt.xticks(rotation=90)\n",
    "plt.show()"
   ]
  },
  {
   "cell_type": "code",
   "execution_count": 34,
   "id": "1b269849",
   "metadata": {
    "id": "1b269849"
   },
   "outputs": [],
   "source": [
    "intercept = lr_random.best_estimator_.intercept_"
   ]
  },
  {
   "cell_type": "code",
   "execution_count": 35,
   "id": "1653f7a1",
   "metadata": {
    "colab": {
     "base_uri": "https://localhost:8080/"
    },
    "id": "1653f7a1",
    "outputId": "43a298fe-668c-40c5-fc2b-69f4dde30999"
   },
   "outputs": [
    {
     "data": {
      "text/plain": [
       "array([-3.51596107])"
      ]
     },
     "execution_count": 35,
     "metadata": {},
     "output_type": "execute_result"
    }
   ],
   "source": [
    "intercept"
   ]
  },
  {
   "cell_type": "code",
   "execution_count": 36,
   "id": "485d5aaa",
   "metadata": {
    "id": "485d5aaa"
   },
   "outputs": [],
   "source": [
    "# best score is  0.8450704225352113"
   ]
  },
  {
   "cell_type": "code",
   "execution_count": 37,
   "id": "8122885f",
   "metadata": {
    "id": "8122885f"
   },
   "outputs": [],
   "source": [
    "# get the best model in to instance (for save in disk)\n",
    "best_model = lr_random.best_estimator_ "
   ]
  },
  {
   "cell_type": "code",
   "execution_count": 38,
   "id": "90ee7dad",
   "metadata": {
    "id": "90ee7dad"
   },
   "outputs": [],
   "source": [
    "# for save the model if you want\n",
    "#import pickle\n",
    "# open a file, where you ant to store the data\n",
    "#file = open('random_forest_regression_model_v2.pkl', 'wb')\n",
    "# dump information to that file\n",
    "#pickle.dump(rf_random, file)"
   ]
  },
  {
   "cell_type": "markdown",
   "id": "f5b3bef4",
   "metadata": {
    "id": "f5b3bef4"
   },
   "source": [
    "### ROC "
   ]
  },
  {
   "cell_type": "code",
   "execution_count": 39,
   "id": "c3879104",
   "metadata": {
    "id": "c3879104"
   },
   "outputs": [],
   "source": [
    "from sklearn import metrics\n",
    "from sklearn.metrics import roc_auc_score\n",
    "from sklearn.metrics import roc_curve"
   ]
  },
  {
   "cell_type": "code",
   "execution_count": 40,
   "id": "9d67a92a",
   "metadata": {
    "id": "9d67a92a"
   },
   "outputs": [],
   "source": [
    "baseline_roc_auc = roc_auc_score(y_test, best_model.predict(X_test))\n",
    "fprB, tprB, thresholdsB = roc_curve(y_test, best_model.predict_proba(X_test)[:,1])"
   ]
  },
  {
   "cell_type": "code",
   "execution_count": 41,
   "id": "43473177",
   "metadata": {
    "colab": {
     "base_uri": "https://localhost:8080/",
     "height": 295
    },
    "id": "43473177",
    "outputId": "4595fce1-afc8-4fd7-8624-f52124389c04"
   },
   "outputs": [
    {
     "data": {
      "image/png": "[encoded data removed]",
      "text/plain": [
       "<Figure size 432x288 with 1 Axes>"
      ]
     },
     "metadata": {
      "needs_background": "light"
     },
     "output_type": "display_data"
    }
   ],
   "source": [
    "plt.figure()\n",
    "plt.plot(fprB, tprB, label='GB(area = %0.2f)' % baseline_roc_auc)\n",
    "plt.plot([0, 1], [0, 1],'r--')\n",
    "plt.xlim([0.0, 1.0])\n",
    "plt.ylim([0.0, 1.05])\n",
    "plt.xlabel('False Positive Rate')\n",
    "plt.ylabel('True Positive Rate')\n",
    "plt.title('Receiver operating characteristic')\n",
    "plt.legend(loc=\"lower right\")\n",
    "plt.show()"
   ]
  },
  {
   "cell_type": "markdown",
   "id": "xxFW3AC_MhYq",
   "metadata": {
    "id": "xxFW3AC_MhYq"
   },
   "source": [
    "**Recall - presicion with threshold values**"
   ]
  },
  {
   "cell_type": "code",
   "execution_count": 42,
   "id": "59D2CwqoMqI-",
   "metadata": {
    "colab": {
     "base_uri": "https://localhost:8080/",
     "height": 312
    },
    "id": "59D2CwqoMqI-",
    "outputId": "7bcfca24-e065-49d0-f251-4586f5ee5720"
   },
   "outputs": [
    {
     "data": {
      "text/plain": [
       "(0.0, 1.0)"
      ]
     },
     "execution_count": 42,
     "metadata": {},
     "output_type": "execute_result"
    },
    {
     "data": {
      "image/png": "[encoded data removed]",
      "text/plain": [
       "<Figure size 432x288 with 1 Axes>"
      ]
     },
     "metadata": {
      "needs_background": "light"
     },
     "output_type": "display_data"
    }
   ],
   "source": [
    "### Predict test_y values and probabilities based on random forest model\n",
    "probs_y=best_model.predict_proba(X_test) \n",
    "  # probs_y is a 2-D array of probability of being labeled as 0 (first column of array) vs 1 (2nd column in array)\n",
    "\n",
    "from sklearn.metrics import precision_recall_curve\n",
    "precision, recall, thresholds = precision_recall_curve(y_test, probs_y[:, 1]) \n",
    "   #retrieve probability of being 1(in second column of probs_y)\n",
    "pr_auc = metrics.auc(recall, precision)\n",
    "\n",
    "plt.title(\"Precision-Recall vs Threshold Chart\")\n",
    "plt.plot(thresholds, precision[: -1], \"b--\", label=\"Precision\")\n",
    "plt.plot(thresholds, recall[: -1], \"r--\", label=\"Recall\")\n",
    "plt.ylabel(\"Precision, Recall\")\n",
    "plt.xlabel(\"Threshold\")\n",
    "plt.legend(loc=\"lower left\")\n",
    "plt.ylim([0,1])"
   ]
  },
  {
   "cell_type": "code",
   "execution_count": 43,
   "id": "SmHNuEwjMuyO",
   "metadata": {
    "id": "SmHNuEwjMuyO"
   },
   "outputs": [],
   "source": [
    "import pickle\n",
    "#open a file, where you ant to store the data\n",
    "file = open('logistic_Regressionv3.pkl', 'wb')\n",
    "# dump information to that file\n",
    "pickle.dump(best_model, file)\n",
    "file.close()"
   ]
  },
  {
   "cell_type": "code",
   "execution_count": null,
   "id": "hddwB98bNA_J",
   "metadata": {
    "id": "hddwB98bNA_J"
   },
   "outputs": [],
   "source": []
  }
 ],
 "metadata": {
  "colab": {
   "include_colab_link": true,
   "name": "Logistic_regression_model.ipynb",
   "provenance": []
  },
  "kernelspec": {
   "display_name": "Python 3",
   "language": "python",
   "name": "python3"
  },
  "language_info": {
   "codemirror_mode": {
    "name": "ipython",
    "version": 3
   },
   "file_extension": ".py",
   "mimetype": "text/x-python",
   "name": "python",
   "nbconvert_exporter": "python",
   "pygments_lexer": "ipython3",
   "version": "3.7.9"
  }
 },
 "nbformat": 4,
 "nbformat_minor": 5
}
