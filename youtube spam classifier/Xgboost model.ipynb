{
  "nbformat": 4,
  "nbformat_minor": 5,
  "metadata": {
    "kernelspec": {
      "display_name": "Python 3",
      "language": "python",
      "name": "python3"
    },
    "language_info": {
      "codemirror_mode": {
        "name": "ipython",
        "version": 3
      },
      "file_extension": ".py",
      "mimetype": "text/x-python",
      "name": "python",
      "nbconvert_exporter": "python",
      "pygments_lexer": "ipython3",
      "version": "3.7.9"
    },
    "colab": {
      "name": "Xgboost model.ipynb",
      "provenance": [],
      "toc_visible": true,
      "include_colab_link": true
    },
    "accelerator": "GPU"
  },
  "cells": [
    {
      "cell_type": "markdown",
      "metadata": {
        "id": "view-in-github",
        "colab_type": "text"
      },
      "source": [
        "<a href=\"https://colab.research.google.com/github/OvinduWijethunge/Machine_Learning_Projects/blob/version-1/youtube%20spam%20classifier/Xgboost%20model.ipynb\" target=\"_parent\"><img src=\"https://colab.research.google.com/assets/colab-badge.svg\" alt=\"Open In Colab\"/></a>"
      ]
    },
    {
      "cell_type": "code",
      "metadata": {
        "id": "b6b751f6"
      },
      "source": [
        "import pandas as pd\n",
        "import numpy as np\n",
        "import matplotlib.pyplot as plt\n",
        "import seaborn as sns"
      ],
      "id": "b6b751f6",
      "execution_count": 1,
      "outputs": []
    },
    {
      "cell_type": "code",
      "metadata": {
        "id": "332e63ff"
      },
      "source": [
        "url = 'https://raw.githubusercontent.com/OvinduWijethunge/Machine_Learning_Projects/version-1/youtube%20spam%20classifier/model.csv'\n",
        "df = pd.read_csv(url)"
      ],
      "id": "332e63ff",
      "execution_count": 2,
      "outputs": []
    },
    {
      "cell_type": "code",
      "metadata": {
        "colab": {
          "base_uri": "https://localhost:8080/",
          "height": 232
        },
        "id": "a9e3662a",
        "outputId": "244a0953-5377-42cc-885b-da6aa7384c7b"
      },
      "source": [
        "df.head()"
      ],
      "id": "a9e3662a",
      "execution_count": 3,
      "outputs": [
        {
          "output_type": "execute_result",
          "data": {
            "text/html": [
              "<div>\n",
              "<style scoped>\n",
              "    .dataframe tbody tr th:only-of-type {\n",
              "        vertical-align: middle;\n",
              "    }\n",
              "\n",
              "    .dataframe tbody tr th {\n",
              "        vertical-align: top;\n",
              "    }\n",
              "\n",
              "    .dataframe thead th {\n",
              "        text-align: right;\n",
              "    }\n",
              "</style>\n",
              "<table border=\"1\" class=\"dataframe\">\n",
              "  <thead>\n",
              "    <tr style=\"text-align: right;\">\n",
              "      <th></th>\n",
              "      <th>Unnamed: 0</th>\n",
              "      <th>sim_content</th>\n",
              "      <th>sim_comment</th>\n",
              "      <th>word_count</th>\n",
              "      <th>duplicate_word_ratio</th>\n",
              "      <th>no_of_sentences</th>\n",
              "      <th>length_of_comment</th>\n",
              "      <th>num_of_punctuations</th>\n",
              "      <th>is_period_sequence</th>\n",
              "      <th>stop_word_ratio</th>\n",
              "      <th>post_coment_gap</th>\n",
              "      <th>black_word_count</th>\n",
              "      <th>is_link</th>\n",
              "      <th>is_youtube_link</th>\n",
              "      <th>is_number</th>\n",
              "      <th>comment_duplication</th>\n",
              "      <th>is_spam</th>\n",
              "    </tr>\n",
              "  </thead>\n",
              "  <tbody>\n",
              "    <tr>\n",
              "      <th>0</th>\n",
              "      <td>0</td>\n",
              "      <td>0.265993</td>\n",
              "      <td>0.239773</td>\n",
              "      <td>1.402189</td>\n",
              "      <td>0.000000</td>\n",
              "      <td>1</td>\n",
              "      <td>3.137146</td>\n",
              "      <td>0.0</td>\n",
              "      <td>0</td>\n",
              "      <td>0.0</td>\n",
              "      <td>39.978929</td>\n",
              "      <td>0.200000</td>\n",
              "      <td>0</td>\n",
              "      <td>0</td>\n",
              "      <td>0</td>\n",
              "      <td>0.0</td>\n",
              "      <td>0</td>\n",
              "    </tr>\n",
              "    <tr>\n",
              "      <th>1</th>\n",
              "      <td>1</td>\n",
              "      <td>0.327118</td>\n",
              "      <td>0.222346</td>\n",
              "      <td>2.769147</td>\n",
              "      <td>0.000000</td>\n",
              "      <td>1</td>\n",
              "      <td>4.905188</td>\n",
              "      <td>0.0</td>\n",
              "      <td>0</td>\n",
              "      <td>0.0</td>\n",
              "      <td>39.978929</td>\n",
              "      <td>0.000000</td>\n",
              "      <td>0</td>\n",
              "      <td>0</td>\n",
              "      <td>0</td>\n",
              "      <td>0.0</td>\n",
              "      <td>0</td>\n",
              "    </tr>\n",
              "    <tr>\n",
              "      <th>2</th>\n",
              "      <td>2</td>\n",
              "      <td>0.433986</td>\n",
              "      <td>0.309582</td>\n",
              "      <td>3.532625</td>\n",
              "      <td>0.032258</td>\n",
              "      <td>1</td>\n",
              "      <td>5.719015</td>\n",
              "      <td>0.0</td>\n",
              "      <td>0</td>\n",
              "      <td>0.0</td>\n",
              "      <td>39.978929</td>\n",
              "      <td>0.064516</td>\n",
              "      <td>0</td>\n",
              "      <td>0</td>\n",
              "      <td>0</td>\n",
              "      <td>0.0</td>\n",
              "      <td>0</td>\n",
              "    </tr>\n",
              "    <tr>\n",
              "      <th>3</th>\n",
              "      <td>3</td>\n",
              "      <td>0.201988</td>\n",
              "      <td>0.181141</td>\n",
              "      <td>1.818371</td>\n",
              "      <td>0.000000</td>\n",
              "      <td>1</td>\n",
              "      <td>3.770442</td>\n",
              "      <td>0.0</td>\n",
              "      <td>0</td>\n",
              "      <td>0.0</td>\n",
              "      <td>39.978929</td>\n",
              "      <td>0.000000</td>\n",
              "      <td>0</td>\n",
              "      <td>0</td>\n",
              "      <td>0</td>\n",
              "      <td>0.0</td>\n",
              "      <td>0</td>\n",
              "    </tr>\n",
              "    <tr>\n",
              "      <th>4</th>\n",
              "      <td>4</td>\n",
              "      <td>0.176259</td>\n",
              "      <td>0.125743</td>\n",
              "      <td>1.402189</td>\n",
              "      <td>0.000000</td>\n",
              "      <td>1</td>\n",
              "      <td>3.011349</td>\n",
              "      <td>0.0</td>\n",
              "      <td>0</td>\n",
              "      <td>0.0</td>\n",
              "      <td>39.978929</td>\n",
              "      <td>0.000000</td>\n",
              "      <td>0</td>\n",
              "      <td>0</td>\n",
              "      <td>0</td>\n",
              "      <td>0.0</td>\n",
              "      <td>0</td>\n",
              "    </tr>\n",
              "  </tbody>\n",
              "</table>\n",
              "</div>"
            ],
            "text/plain": [
              "   Unnamed: 0  sim_content  ...  comment_duplication  is_spam\n",
              "0           0     0.265993  ...                  0.0        0\n",
              "1           1     0.327118  ...                  0.0        0\n",
              "2           2     0.433986  ...                  0.0        0\n",
              "3           3     0.201988  ...                  0.0        0\n",
              "4           4     0.176259  ...                  0.0        0\n",
              "\n",
              "[5 rows x 17 columns]"
            ]
          },
          "metadata": {
            "tags": []
          },
          "execution_count": 3
        }
      ]
    },
    {
      "cell_type": "code",
      "metadata": {
        "colab": {
          "base_uri": "https://localhost:8080/"
        },
        "id": "569e6ac3",
        "outputId": "56e01dd9-0ca2-4251-b819-d0c1d1053db7"
      },
      "source": [
        "df.rename(columns={'Unnamed: 0':'id'},inplace=True)\n",
        "df.columns"
      ],
      "id": "569e6ac3",
      "execution_count": 4,
      "outputs": [
        {
          "output_type": "execute_result",
          "data": {
            "text/plain": [
              "Index(['id', 'sim_content', 'sim_comment', 'word_count',\n",
              "       'duplicate_word_ratio', 'no_of_sentences', 'length_of_comment',\n",
              "       'num_of_punctuations', 'is_period_sequence', 'stop_word_ratio',\n",
              "       'post_coment_gap', 'black_word_count', 'is_link', 'is_youtube_link',\n",
              "       'is_number', 'comment_duplication', 'is_spam'],\n",
              "      dtype='object')"
            ]
          },
          "metadata": {
            "tags": []
          },
          "execution_count": 4
        }
      ]
    },
    {
      "cell_type": "markdown",
      "metadata": {
        "id": "e6f3314d"
      },
      "source": [
        "#### Standardization  is no need for xgboost"
      ],
      "id": "e6f3314d"
    },
    {
      "cell_type": "code",
      "metadata": {
        "id": "f59660de"
      },
      "source": [
        "dfc = df.copy()"
      ],
      "id": "f59660de",
      "execution_count": 5,
      "outputs": []
    },
    {
      "cell_type": "code",
      "metadata": {
        "id": "fa3bf9fb"
      },
      "source": [
        "y = dfc['is_spam']\n",
        "X = dfc.drop(['is_spam','id'],axis=1)"
      ],
      "id": "fa3bf9fb",
      "execution_count": 6,
      "outputs": []
    },
    {
      "cell_type": "code",
      "metadata": {
        "id": "459cd683"
      },
      "source": [
        "from sklearn.model_selection import train_test_split\n",
        "X_train, X_test, y_train, y_test = train_test_split(X, y, test_size=0.2, random_state=42)"
      ],
      "id": "459cd683",
      "execution_count": 7,
      "outputs": []
    },
    {
      "cell_type": "markdown",
      "metadata": {
        "id": "2f345e56"
      },
      "source": [
        "#### Handle imbalnce dataset (here we gonna use oversampling instead of smotec)"
      ],
      "id": "2f345e56"
    },
    {
      "cell_type": "code",
      "metadata": {
        "colab": {
          "base_uri": "https://localhost:8080/"
        },
        "id": "f0be659c",
        "outputId": "1e4a49d6-303f-4e07-f18e-8316018a4004"
      },
      "source": [
        "from imblearn.over_sampling import RandomOverSampler\n",
        "from collections import Counter\n",
        "\n",
        "os=RandomOverSampler(0.9)\n",
        "X_train_ns,y_train_ns=os.fit_sample(X_train,y_train)\n",
        "print(\"The number of classes before fit {}\".format(Counter(y_train)))\n",
        "print(\"The number of classes after fit {}\".format(Counter(y_train_ns)))\n",
        "\n",
        "X_train = X_train_ns\n",
        "y_train = y_train_ns"
      ],
      "id": "f0be659c",
      "execution_count": 8,
      "outputs": [
        {
          "output_type": "stream",
          "text": [
            "The number of classes before fit Counter({0: 7865, 1: 643})\n",
            "The number of classes after fit Counter({0: 7865, 1: 7078})\n"
          ],
          "name": "stdout"
        },
        {
          "output_type": "stream",
          "text": [
            "/usr/local/lib/python3.7/dist-packages/sklearn/externals/six.py:31: FutureWarning: The module is deprecated in version 0.21 and will be removed in version 0.23 since we've dropped support for Python 2.7. Please rely on the official version of six (https://pypi.org/project/six/).\n",
            "  \"(https://pypi.org/project/six/).\", FutureWarning)\n",
            "/usr/local/lib/python3.7/dist-packages/sklearn/utils/deprecation.py:144: FutureWarning: The sklearn.neighbors.base module is  deprecated in version 0.22 and will be removed in version 0.24. The corresponding classes / functions should instead be imported from sklearn.neighbors. Anything that cannot be imported from sklearn.neighbors is now part of the private API.\n",
            "  warnings.warn(message, FutureWarning)\n",
            "/usr/local/lib/python3.7/dist-packages/sklearn/utils/deprecation.py:87: FutureWarning: Function safe_indexing is deprecated; safe_indexing is deprecated in version 0.22 and will be removed in version 0.24.\n",
            "  warnings.warn(msg, category=FutureWarning)\n"
          ],
          "name": "stderr"
        }
      ]
    },
    {
      "cell_type": "markdown",
      "metadata": {
        "id": "5d8d90db"
      },
      "source": [
        "#### Hyperparameter Tuninng\n"
      ],
      "id": "5d8d90db"
    },
    {
      "cell_type": "code",
      "metadata": {
        "id": "00c3bd4b"
      },
      "source": [
        "from xgboost import XGBClassifier"
      ],
      "id": "00c3bd4b",
      "execution_count": 9,
      "outputs": []
    },
    {
      "cell_type": "code",
      "metadata": {
        "id": "db09450c"
      },
      "source": [
        "xgb = XGBClassifier()"
      ],
      "id": "db09450c",
      "execution_count": 10,
      "outputs": []
    },
    {
      "cell_type": "code",
      "metadata": {
        "colab": {
          "base_uri": "https://localhost:8080/"
        },
        "id": "5eb338d4",
        "outputId": "8819be2e-3cbd-4bb8-ba67-4e984462f1a4"
      },
      "source": [
        "xgb.get_params()"
      ],
      "id": "5eb338d4",
      "execution_count": 11,
      "outputs": [
        {
          "output_type": "execute_result",
          "data": {
            "text/plain": [
              "{'base_score': 0.5,\n",
              " 'booster': 'gbtree',\n",
              " 'colsample_bylevel': 1,\n",
              " 'colsample_bynode': 1,\n",
              " 'colsample_bytree': 1,\n",
              " 'gamma': 0,\n",
              " 'learning_rate': 0.1,\n",
              " 'max_delta_step': 0,\n",
              " 'max_depth': 3,\n",
              " 'min_child_weight': 1,\n",
              " 'missing': None,\n",
              " 'n_estimators': 100,\n",
              " 'n_jobs': 1,\n",
              " 'nthread': None,\n",
              " 'objective': 'binary:logistic',\n",
              " 'random_state': 0,\n",
              " 'reg_alpha': 0,\n",
              " 'reg_lambda': 1,\n",
              " 'scale_pos_weight': 1,\n",
              " 'seed': None,\n",
              " 'silent': None,\n",
              " 'subsample': 1,\n",
              " 'verbosity': 1}"
            ]
          },
          "metadata": {
            "tags": []
          },
          "execution_count": 11
        }
      ]
    },
    {
      "cell_type": "code",
      "metadata": {
        "id": "16d2a015"
      },
      "source": [
        "grid = {\n",
        "    \n",
        "    'max_depth':range(3,50),\n",
        " 'min_child_weight':range(1,20),\n",
        " 'gamma':[i/10.0 for i in range(0,5)],\n",
        "    'subsample':[i/10.0 for i in range(6,10)],\n",
        " 'colsample_bytree':[i/10.0 for i in range(6,10)],\n",
        "    'reg_alpha':[1e-5, 1e-2, 0.1, 1, 100]\n",
        "}"
      ],
      "id": "16d2a015",
      "execution_count": 12,
      "outputs": []
    },
    {
      "cell_type": "code",
      "metadata": {
        "id": "4fd3f21b"
      },
      "source": [
        "from sklearn.model_selection import StratifiedKFold\n",
        "cv = StratifiedKFold(n_splits=10, shuffle=True)"
      ],
      "id": "4fd3f21b",
      "execution_count": 13,
      "outputs": []
    },
    {
      "cell_type": "code",
      "metadata": {
        "id": "a372ce83"
      },
      "source": [
        "from sklearn.model_selection import RandomizedSearchCV\n",
        "xgb_random = RandomizedSearchCV(estimator=xgb, param_distributions=grid, n_jobs=-1,n_iter = 100, cv=cv, scoring='accuracy',error_score=0,return_train_score=True,verbose=2)"
      ],
      "id": "a372ce83",
      "execution_count": 14,
      "outputs": []
    },
    {
      "cell_type": "code",
      "metadata": {
        "colab": {
          "base_uri": "https://localhost:8080/"
        },
        "id": "3d5bd0ad",
        "outputId": "c91b0163-f853-4c28-eed4-61adcf1c77e4"
      },
      "source": [
        "xgb_random.fit(X_train,y_train)"
      ],
      "id": "3d5bd0ad",
      "execution_count": 15,
      "outputs": [
        {
          "output_type": "stream",
          "text": [
            "Fitting 10 folds for each of 100 candidates, totalling 1000 fits\n"
          ],
          "name": "stdout"
        },
        {
          "output_type": "stream",
          "text": [
            "[Parallel(n_jobs=-1)]: Using backend LokyBackend with 2 concurrent workers.\n",
            "[Parallel(n_jobs=-1)]: Done  37 tasks      | elapsed:  1.0min\n",
            "[Parallel(n_jobs=-1)]: Done 158 tasks      | elapsed:  4.9min\n",
            "[Parallel(n_jobs=-1)]: Done 361 tasks      | elapsed: 11.8min\n",
            "[Parallel(n_jobs=-1)]: Done 644 tasks      | elapsed: 21.4min\n",
            "[Parallel(n_jobs=-1)]: Done 1000 out of 1000 | elapsed: 33.4min finished\n"
          ],
          "name": "stderr"
        },
        {
          "output_type": "execute_result",
          "data": {
            "text/plain": [
              "RandomizedSearchCV(cv=StratifiedKFold(n_splits=10, random_state=None, shuffle=True),\n",
              "                   error_score=0,\n",
              "                   estimator=XGBClassifier(base_score=0.5, booster='gbtree',\n",
              "                                           colsample_bylevel=1,\n",
              "                                           colsample_bynode=1,\n",
              "                                           colsample_bytree=1, gamma=0,\n",
              "                                           learning_rate=0.1, max_delta_step=0,\n",
              "                                           max_depth=3, min_child_weight=1,\n",
              "                                           missing=None, n_estimators=100,\n",
              "                                           n_jobs=1, nthread=None,\n",
              "                                           objective='bin...\n",
              "                   iid='deprecated', n_iter=100, n_jobs=-1,\n",
              "                   param_distributions={'colsample_bytree': [0.6, 0.7, 0.8,\n",
              "                                                             0.9],\n",
              "                                        'gamma': [0.0, 0.1, 0.2, 0.3, 0.4],\n",
              "                                        'max_depth': range(3, 50),\n",
              "                                        'min_child_weight': range(1, 20),\n",
              "                                        'reg_alpha': [1e-05, 0.01, 0.1, 1, 100],\n",
              "                                        'subsample': [0.6, 0.7, 0.8, 0.9]},\n",
              "                   pre_dispatch='2*n_jobs', random_state=None, refit=True,\n",
              "                   return_train_score=True, scoring='accuracy', verbose=2)"
            ]
          },
          "metadata": {
            "tags": []
          },
          "execution_count": 15
        }
      ]
    },
    {
      "cell_type": "markdown",
      "metadata": {
        "id": "e377d01b"
      },
      "source": [
        "#### Evaluvate ( accuracy, recall, precision, f1 score, ROC curve/ AUC)"
      ],
      "id": "e377d01b"
    },
    {
      "cell_type": "code",
      "metadata": {
        "id": "70f5e602"
      },
      "source": [
        "best_model = xgb_random.best_estimator_"
      ],
      "id": "70f5e602",
      "execution_count": 37,
      "outputs": []
    },
    {
      "cell_type": "code",
      "metadata": {
        "colab": {
          "base_uri": "https://localhost:8080/"
        },
        "id": "e33d9e78",
        "outputId": "2d75250a-2657-45d2-afd7-abe3535f203d"
      },
      "source": [
        "best_model"
      ],
      "id": "e33d9e78",
      "execution_count": 38,
      "outputs": [
        {
          "output_type": "execute_result",
          "data": {
            "text/plain": [
              "XGBClassifier(base_score=0.5, booster='gbtree', colsample_bylevel=1,\n",
              "              colsample_bynode=1, colsample_bytree=0.6, gamma=0.4,\n",
              "              learning_rate=0.1, max_delta_step=0, max_depth=23,\n",
              "              min_child_weight=1, missing=None, n_estimators=100, n_jobs=1,\n",
              "              nthread=None, objective='binary:logistic', random_state=0,\n",
              "              reg_alpha=0.1, reg_lambda=1, scale_pos_weight=1, seed=None,\n",
              "              silent=None, subsample=0.9, verbosity=1)"
            ]
          },
          "metadata": {
            "tags": []
          },
          "execution_count": 38
        }
      ]
    },
    {
      "cell_type": "code",
      "metadata": {
        "colab": {
          "base_uri": "https://localhost:8080/"
        },
        "id": "9bcf9d1f",
        "outputId": "8008e4b4-acd5-4977-e8e7-dac16b5e406e"
      },
      "source": [
        "xgb_random.best_params_"
      ],
      "id": "9bcf9d1f",
      "execution_count": 39,
      "outputs": [
        {
          "output_type": "execute_result",
          "data": {
            "text/plain": [
              "{'colsample_bytree': 0.6,\n",
              " 'gamma': 0.4,\n",
              " 'max_depth': 23,\n",
              " 'min_child_weight': 1,\n",
              " 'reg_alpha': 0.1,\n",
              " 'subsample': 0.9}"
            ]
          },
          "metadata": {
            "tags": []
          },
          "execution_count": 39
        }
      ]
    },
    {
      "cell_type": "code",
      "metadata": {
        "colab": {
          "base_uri": "https://localhost:8080/"
        },
        "id": "d04c6f44",
        "outputId": "96ef916a-22da-4a86-d776-10255719a9b6"
      },
      "source": [
        "xgb_random.best_score_"
      ],
      "id": "d04c6f44",
      "execution_count": 40,
      "outputs": [
        {
          "output_type": "execute_result",
          "data": {
            "text/plain": [
              "0.9933080818256302"
            ]
          },
          "metadata": {
            "tags": []
          },
          "execution_count": 40
        }
      ]
    },
    {
      "cell_type": "code",
      "metadata": {
        "id": "6058935d"
      },
      "source": [
        "y_pred = best_model.predict(X_test.values)"
      ],
      "id": "6058935d",
      "execution_count": 41,
      "outputs": []
    },
    {
      "cell_type": "code",
      "metadata": {
        "id": "c375d001"
      },
      "source": [
        "err  =(y_pred- y_test)"
      ],
      "id": "c375d001",
      "execution_count": 42,
      "outputs": []
    },
    {
      "cell_type": "code",
      "metadata": {
        "colab": {
          "base_uri": "https://localhost:8080/",
          "height": 282
        },
        "id": "f639bc5e",
        "outputId": "f7607328-e307-4aa9-dd26-862b85d3dcdf"
      },
      "source": [
        "err.value_counts().plot(kind='bar',color='brown')"
      ],
      "id": "f639bc5e",
      "execution_count": 43,
      "outputs": [
        {
          "output_type": "execute_result",
          "data": {
            "text/plain": [
              "<matplotlib.axes._subplots.AxesSubplot at 0x7f98bf207ad0>"
            ]
          },
          "metadata": {
            "tags": []
          },
          "execution_count": 43
        },
        {
          "output_type": "display_data",
          "data": {
            "image/png": "[encoded data removed]",
            "text/plain": [
              "<Figure size 432x288 with 1 Axes>"
            ]
          },
          "metadata": {
            "tags": [],
            "needs_background": "light"
          }
        }
      ]
    },
    {
      "cell_type": "code",
      "metadata": {
        "colab": {
          "base_uri": "https://localhost:8080/"
        },
        "id": "bcd3ecdf",
        "outputId": "a6af9acd-f166-4065-cdaa-d99553a15ee4"
      },
      "source": [
        "from sklearn import metrics\n",
        "print('MAE:', metrics.mean_absolute_error(y_test,y_pred))\n",
        "print('MSE:', metrics.mean_squared_error(y_test, y_pred))\n",
        "print('RMSE:', np.sqrt(metrics.mean_squared_error(y_test, y_pred)))"
      ],
      "id": "bcd3ecdf",
      "execution_count": 44,
      "outputs": [
        {
          "output_type": "stream",
          "text": [
            "MAE: 0.03385049365303244\n",
            "MSE: 0.03385049365303244\n",
            "RMSE: 0.1839850364921899\n"
          ],
          "name": "stdout"
        }
      ]
    },
    {
      "cell_type": "code",
      "metadata": {
        "id": "3RdQkRhUk8T9"
      },
      "source": [
        ""
      ],
      "id": "3RdQkRhUk8T9",
      "execution_count": null,
      "outputs": []
    },
    {
      "cell_type": "code",
      "metadata": {
        "id": "5c42b6fd"
      },
      "source": [
        "#indices=list(X_train)\n",
        "#feat_imp = pd.Series(best_model.feature_importances_, indices).sort_values(ascending=False)\n",
        "#feat_imp.plot(kind='bar', title='Importance of Features')\n",
        "#plt.ylabel('Feature Importance Score')"
      ],
      "id": "5c42b6fd",
      "execution_count": 24,
      "outputs": []
    },
    {
      "cell_type": "code",
      "metadata": {
        "colab": {
          "base_uri": "https://localhost:8080/"
        },
        "id": "8382bac6",
        "outputId": "4eaf4fc1-56ac-4f07-be4b-4ae486384b56"
      },
      "source": [
        "from sklearn.metrics import classification_report, confusion_matrix\n",
        "print(confusion_matrix(y_test, y_pred))\n",
        "print(classification_report(y_test, y_pred))"
      ],
      "id": "8382bac6",
      "execution_count": 45,
      "outputs": [
        {
          "output_type": "stream",
          "text": [
            "[[1933   25]\n",
            " [  47  122]]\n",
            "              precision    recall  f1-score   support\n",
            "\n",
            "           0       0.98      0.99      0.98      1958\n",
            "           1       0.83      0.72      0.77       169\n",
            "\n",
            "    accuracy                           0.97      2127\n",
            "   macro avg       0.90      0.85      0.88      2127\n",
            "weighted avg       0.96      0.97      0.97      2127\n",
            "\n"
          ],
          "name": "stdout"
        }
      ]
    },
    {
      "cell_type": "code",
      "metadata": {
        "colab": {
          "base_uri": "https://localhost:8080/"
        },
        "id": "583e81a4",
        "outputId": "ac97c808-f29a-412d-b4d0-c1ca85ca5166"
      },
      "source": [
        "print(\"accuracy is {}\".format(best_model.score(X_test.values, y_test.values)))"
      ],
      "id": "583e81a4",
      "execution_count": 46,
      "outputs": [
        {
          "output_type": "stream",
          "text": [
            "accuracy is 0.9661495063469676\n"
          ],
          "name": "stdout"
        }
      ]
    },
    {
      "cell_type": "code",
      "metadata": {
        "id": "ec76379b"
      },
      "source": [
        "#import pickle\n",
        "# open a file, where you ant to store the data\n",
        "#file = open('random_forest_regression_model_v2.pkl', 'wb')\n",
        "# dump information to that file\n",
        "#pickle.dump(rf_random, file)"
      ],
      "id": "ec76379b",
      "execution_count": 27,
      "outputs": []
    },
    {
      "cell_type": "markdown",
      "metadata": {
        "id": "940758ff"
      },
      "source": [
        "### ROC"
      ],
      "id": "940758ff"
    },
    {
      "cell_type": "code",
      "metadata": {
        "id": "b2a49362"
      },
      "source": [
        "from sklearn import metrics\n",
        "from sklearn.metrics import roc_auc_score\n",
        "from sklearn.metrics import roc_curve"
      ],
      "id": "b2a49362",
      "execution_count": 47,
      "outputs": []
    },
    {
      "cell_type": "code",
      "metadata": {
        "id": "bacb1080"
      },
      "source": [
        "baseline_roc_auc = roc_auc_score(y_test, best_model.predict(X_test.values))\n",
        "fprB, tprB, thresholdsB = roc_curve(y_test, best_model.predict_proba(X_test.values)[:,1])"
      ],
      "id": "bacb1080",
      "execution_count": 48,
      "outputs": []
    },
    {
      "cell_type": "code",
      "metadata": {
        "colab": {
          "base_uri": "https://localhost:8080/",
          "height": 295
        },
        "id": "9be906b4",
        "outputId": "6c038135-6ae8-4954-c0df-ad51c88af475"
      },
      "source": [
        "plt.figure()\n",
        "plt.plot(fprB, tprB, label='GB(area = %0.2f)' % baseline_roc_auc)\n",
        "plt.plot([0, 1], [0, 1],'r--')\n",
        "plt.xlim([0.0, 1.0])\n",
        "plt.ylim([0.0, 1.05])\n",
        "plt.xlabel('False Positive Rate')\n",
        "plt.ylabel('True Positive Rate')\n",
        "plt.title('Receiver operating characteristic')\n",
        "plt.legend(loc=\"lower right\")\n",
        "plt.show()"
      ],
      "id": "9be906b4",
      "execution_count": 49,
      "outputs": [
        {
          "output_type": "display_data",
          "data": {
            "image/png": "[encoded data removed]",
            "text/plain": [
              "<Figure size 432x288 with 1 Axes>"
            ]
          },
          "metadata": {
            "tags": [],
            "needs_background": "light"
          }
        }
      ]
    },
    {
      "cell_type": "code",
      "metadata": {
        "colab": {
          "base_uri": "https://localhost:8080/",
          "height": 312
        },
        "id": "7210a9f7",
        "outputId": "e318581f-657a-47fc-e701-1b9a8c9f205c"
      },
      "source": [
        "### Predict test_y values and probabilities based on xgboost model\n",
        "probs_y=best_model.predict_proba(X_test.values) \n",
        "  # probs_y is a 2-D array of probability of being labeled as 0 (first column of array) vs 1 (2nd column in array)\n",
        "\n",
        "from sklearn.metrics import precision_recall_curve\n",
        "precision, recall, thresholds = precision_recall_curve(y_test.values, probs_y[:, 1]) \n",
        "   #retrieve probability of being 1(in second column of probs_y)\n",
        "pr_auc = metrics.auc(recall, precision)\n",
        "\n",
        "plt.title(\"Precision-Recall vs Threshold Chart\")\n",
        "plt.plot(thresholds, precision[: -1], \"b--\", label=\"Precision\")\n",
        "plt.plot(thresholds, recall[: -1], \"r--\", label=\"Recall\")\n",
        "plt.ylabel(\"Precision, Recall\")\n",
        "plt.xlabel(\"Threshold\")\n",
        "plt.legend(loc=\"lower left\")\n",
        "plt.ylim([0,1])"
      ],
      "id": "7210a9f7",
      "execution_count": 50,
      "outputs": [
        {
          "output_type": "execute_result",
          "data": {
            "text/plain": [
              "(0.0, 1.0)"
            ]
          },
          "metadata": {
            "tags": []
          },
          "execution_count": 50
        },
        {
          "output_type": "display_data",
          "data": {
            "image/png": "[encoded data removed]",
            "text/plain": [
              "<Figure size 432x288 with 1 Axes>"
            ]
          },
          "metadata": {
            "tags": [],
            "needs_background": "light"
          }
        }
      ]
    },
    {
      "cell_type": "code",
      "metadata": {
        "id": "e-HHzmioWEyt"
      },
      "source": [
        "# IN spam classification domain we should much concern about reduce the False Positives, for that we have to increase Precision"
      ],
      "id": "e-HHzmioWEyt",
      "execution_count": 32,
      "outputs": []
    },
    {
      "cell_type": "code",
      "metadata": {
        "id": "pFBn_tmClK9Y"
      },
      "source": [
        ""
      ],
      "id": "pFBn_tmClK9Y",
      "execution_count": null,
      "outputs": []
    },
    {
      "cell_type": "markdown",
      "metadata": {
        "id": "CZqewwXhylkv"
      },
      "source": [
        "### After evaluate your best model among from all models then you can change the threshold of chosen model as your requirements as below"
      ],
      "id": "CZqewwXhylkv"
    },
    {
      "cell_type": "code",
      "metadata": {
        "id": "_j1I1dzccLoH"
      },
      "source": [
        "#THRESHOLD = 0.6\n",
        "#y_pred = np.where(best_model.predict_proba(X_test.values)[:,1] > THRESHOLD, 1, 0)"
      ],
      "id": "_j1I1dzccLoH",
      "execution_count": 33,
      "outputs": []
    },
    {
      "cell_type": "code",
      "metadata": {
        "id": "9FiFSaujv9qO"
      },
      "source": [
        "#from sklearn.metrics import classification_report, confusion_matrix\n",
        "#print(confusion_matrix(y_test, y_pred))\n",
        "#print(classification_report(y_test, y_pred))"
      ],
      "id": "9FiFSaujv9qO",
      "execution_count": 34,
      "outputs": []
    },
    {
      "cell_type": "code",
      "metadata": {
        "id": "orUU-Tn6wFzC"
      },
      "source": [
        "# we should choose the treshold according to our reqiurement"
      ],
      "id": "orUU-Tn6wFzC",
      "execution_count": 52,
      "outputs": []
    },
    {
      "cell_type": "code",
      "metadata": {
        "id": "8PUjA3WlrdxI"
      },
      "source": [
        ""
      ],
      "id": "8PUjA3WlrdxI",
      "execution_count": null,
      "outputs": []
    },
    {
      "cell_type": "code",
      "metadata": {
        "id": "noS8dHyBwm5v"
      },
      "source": [
        "# when you go to production mode,\n",
        "# you should save the model\n",
        "# you should save the scaler object\n",
        "# should add your custom threshold value when you predict"
      ],
      "id": "noS8dHyBwm5v",
      "execution_count": 36,
      "outputs": []
    },
    {
      "cell_type": "code",
      "metadata": {
        "id": "XXoVlbA5w-86"
      },
      "source": [
        "import pickle\n",
        "# open a file, where you ant to store the data\n",
        "file = open('xgboost_Classifier.pkl', 'wb')\n",
        "# dump information to that file\n",
        "pickle.dump(best_model, file)"
      ],
      "id": "XXoVlbA5w-86",
      "execution_count": 51,
      "outputs": []
    },
    {
      "cell_type": "markdown",
      "metadata": {
        "id": "q7DkC699GIVh"
      },
      "source": [
        "# New Section"
      ],
      "id": "q7DkC699GIVh"
    }
  ]
}