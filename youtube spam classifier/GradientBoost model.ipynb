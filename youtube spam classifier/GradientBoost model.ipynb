{
 "cells": [
  {
   "cell_type": "markdown",
   "id": "29359cca",
   "metadata": {
    "colab_type": "text",
    "id": "view-in-github"
   },
   "source": [
    "<a href=\"https://colab.research.google.com/github/OvinduWijethunge/Machine_Learning_Projects/blob/version-1/youtube%20spam%20classifier/GradientBoost%20model.ipynb\" target=\"_parent\"><img src=\"https://colab.research.google.com/assets/colab-badge.svg\" alt=\"Open In Colab\"/></a>"
   ]
  },
  {
   "cell_type": "code",
   "execution_count": 2,
   "id": "f488c7e9",
   "metadata": {
    "id": "f488c7e9"
   },
   "outputs": [],
   "source": [
    "import pandas as pd\n",
    "import numpy as np\n",
    "import matplotlib.pyplot as plt\n",
    "import seaborn as sns"
   ]
  },
  {
   "cell_type": "code",
   "execution_count": 9,
   "id": "c484908e",
   "metadata": {
    "id": "c484908e"
   },
   "outputs": [],
   "source": [
    "df = pd.read_csv('models.csv')\n",
    "#url = 'https://raw.githubusercontent.com/OvinduWijethunge/Machine_Learning_Projects/master/youtube%20spam%20classifier/model.csv'\n",
    "#df = pd.read_csv(url)\n",
    "pd.set_option('display.max_columns',None)"
   ]
  },
  {
   "cell_type": "code",
   "execution_count": 10,
   "id": "5861fc7d",
   "metadata": {
    "colab": {
     "base_uri": "https://localhost:8080/",
     "height": 232
    },
    "id": "5861fc7d",
    "outputId": "403e8bd6-5239-4b2e-ed04-8dfdb5e1af9f"
   },
   "outputs": [
    {
     "data": {
      "text/html": [
       "<div>\n",
       "<style scoped>\n",
       "    .dataframe tbody tr th:only-of-type {\n",
       "        vertical-align: middle;\n",
       "    }\n",
       "\n",
       "    .dataframe tbody tr th {\n",
       "        vertical-align: top;\n",
       "    }\n",
       "\n",
       "    .dataframe thead th {\n",
       "        text-align: right;\n",
       "    }\n",
       "</style>\n",
       "<table border=\"1\" class=\"dataframe\">\n",
       "  <thead>\n",
       "    <tr style=\"text-align: right;\">\n",
       "      <th></th>\n",
       "      <th>Unnamed: 0</th>\n",
       "      <th>sim_content</th>\n",
       "      <th>sim_comment</th>\n",
       "      <th>word_count</th>\n",
       "      <th>duplicate_word_ratio</th>\n",
       "      <th>length_of_comment</th>\n",
       "      <th>stop_word_ratio</th>\n",
       "      <th>post_coment_gap</th>\n",
       "      <th>black_word_count</th>\n",
       "      <th>comment_duplication</th>\n",
       "      <th>is_spam</th>\n",
       "      <th>no_of_sentences_2</th>\n",
       "      <th>no_of_sentences_3</th>\n",
       "      <th>num_of_punctuations_1.0</th>\n",
       "      <th>num_of_punctuations_2.0</th>\n",
       "      <th>num_of_punctuations_3.0</th>\n",
       "      <th>num_of_punctuations_4.0</th>\n",
       "      <th>num_of_punctuations_5.0</th>\n",
       "      <th>num_of_punctuations_6.0</th>\n",
       "      <th>is_period_sequence_1</th>\n",
       "      <th>is_link_1</th>\n",
       "      <th>is_youtube_link_1</th>\n",
       "      <th>is_number_1</th>\n",
       "    </tr>\n",
       "  </thead>\n",
       "  <tbody>\n",
       "    <tr>\n",
       "      <th>0</th>\n",
       "      <td>0</td>\n",
       "      <td>-1.038590</td>\n",
       "      <td>-0.870409</td>\n",
       "      <td>1.866549</td>\n",
       "      <td>0.0000</td>\n",
       "      <td>4.274240</td>\n",
       "      <td>0.000000</td>\n",
       "      <td>13.337643</td>\n",
       "      <td>0.222222</td>\n",
       "      <td>0.0</td>\n",
       "      <td>0</td>\n",
       "      <td>0</td>\n",
       "      <td>0</td>\n",
       "      <td>0</td>\n",
       "      <td>0</td>\n",
       "      <td>0</td>\n",
       "      <td>0</td>\n",
       "      <td>0</td>\n",
       "      <td>0</td>\n",
       "      <td>0</td>\n",
       "      <td>0</td>\n",
       "      <td>0</td>\n",
       "      <td>0</td>\n",
       "    </tr>\n",
       "    <tr>\n",
       "      <th>1</th>\n",
       "      <td>1</td>\n",
       "      <td>-1.103307</td>\n",
       "      <td>-0.971247</td>\n",
       "      <td>1.866549</td>\n",
       "      <td>0.0000</td>\n",
       "      <td>4.555200</td>\n",
       "      <td>0.111111</td>\n",
       "      <td>29.017218</td>\n",
       "      <td>0.000000</td>\n",
       "      <td>0.0</td>\n",
       "      <td>0</td>\n",
       "      <td>1</td>\n",
       "      <td>0</td>\n",
       "      <td>0</td>\n",
       "      <td>1</td>\n",
       "      <td>0</td>\n",
       "      <td>0</td>\n",
       "      <td>0</td>\n",
       "      <td>0</td>\n",
       "      <td>0</td>\n",
       "      <td>0</td>\n",
       "      <td>0</td>\n",
       "      <td>0</td>\n",
       "    </tr>\n",
       "    <tr>\n",
       "      <th>2</th>\n",
       "      <td>2</td>\n",
       "      <td>-1.064844</td>\n",
       "      <td>-0.957045</td>\n",
       "      <td>2.260334</td>\n",
       "      <td>0.0625</td>\n",
       "      <td>5.086086</td>\n",
       "      <td>0.062500</td>\n",
       "      <td>29.017218</td>\n",
       "      <td>0.125000</td>\n",
       "      <td>0.0</td>\n",
       "      <td>1</td>\n",
       "      <td>0</td>\n",
       "      <td>1</td>\n",
       "      <td>0</td>\n",
       "      <td>0</td>\n",
       "      <td>0</td>\n",
       "      <td>1</td>\n",
       "      <td>0</td>\n",
       "      <td>0</td>\n",
       "      <td>0</td>\n",
       "      <td>1</td>\n",
       "      <td>1</td>\n",
       "      <td>0</td>\n",
       "    </tr>\n",
       "    <tr>\n",
       "      <th>3</th>\n",
       "      <td>3</td>\n",
       "      <td>-0.936203</td>\n",
       "      <td>-0.910982</td>\n",
       "      <td>1.683387</td>\n",
       "      <td>0.0000</td>\n",
       "      <td>3.982309</td>\n",
       "      <td>0.142857</td>\n",
       "      <td>29.017218</td>\n",
       "      <td>0.142857</td>\n",
       "      <td>0.0</td>\n",
       "      <td>0</td>\n",
       "      <td>0</td>\n",
       "      <td>0</td>\n",
       "      <td>0</td>\n",
       "      <td>0</td>\n",
       "      <td>0</td>\n",
       "      <td>0</td>\n",
       "      <td>0</td>\n",
       "      <td>0</td>\n",
       "      <td>0</td>\n",
       "      <td>0</td>\n",
       "      <td>0</td>\n",
       "      <td>0</td>\n",
       "    </tr>\n",
       "    <tr>\n",
       "      <th>4</th>\n",
       "      <td>4</td>\n",
       "      <td>-1.212501</td>\n",
       "      <td>-1.085031</td>\n",
       "      <td>2.122197</td>\n",
       "      <td>0.0000</td>\n",
       "      <td>4.920915</td>\n",
       "      <td>0.000000</td>\n",
       "      <td>29.017218</td>\n",
       "      <td>0.076923</td>\n",
       "      <td>0.0</td>\n",
       "      <td>1</td>\n",
       "      <td>1</td>\n",
       "      <td>0</td>\n",
       "      <td>0</td>\n",
       "      <td>0</td>\n",
       "      <td>0</td>\n",
       "      <td>1</td>\n",
       "      <td>0</td>\n",
       "      <td>0</td>\n",
       "      <td>1</td>\n",
       "      <td>1</td>\n",
       "      <td>1</td>\n",
       "      <td>0</td>\n",
       "    </tr>\n",
       "  </tbody>\n",
       "</table>\n",
       "</div>"
      ],
      "text/plain": [
       "   Unnamed: 0  sim_content  sim_comment  word_count  duplicate_word_ratio  \\\n",
       "0           0    -1.038590    -0.870409    1.866549                0.0000   \n",
       "1           1    -1.103307    -0.971247    1.866549                0.0000   \n",
       "2           2    -1.064844    -0.957045    2.260334                0.0625   \n",
       "3           3    -0.936203    -0.910982    1.683387                0.0000   \n",
       "4           4    -1.212501    -1.085031    2.122197                0.0000   \n",
       "\n",
       "   length_of_comment  stop_word_ratio  post_coment_gap  black_word_count  \\\n",
       "0           4.274240         0.000000        13.337643          0.222222   \n",
       "1           4.555200         0.111111        29.017218          0.000000   \n",
       "2           5.086086         0.062500        29.017218          0.125000   \n",
       "3           3.982309         0.142857        29.017218          0.142857   \n",
       "4           4.920915         0.000000        29.017218          0.076923   \n",
       "\n",
       "   comment_duplication  is_spam  no_of_sentences_2  no_of_sentences_3  \\\n",
       "0                  0.0        0                  0                  0   \n",
       "1                  0.0        0                  1                  0   \n",
       "2                  0.0        1                  0                  1   \n",
       "3                  0.0        0                  0                  0   \n",
       "4                  0.0        1                  1                  0   \n",
       "\n",
       "   num_of_punctuations_1.0  num_of_punctuations_2.0  num_of_punctuations_3.0  \\\n",
       "0                        0                        0                        0   \n",
       "1                        0                        1                        0   \n",
       "2                        0                        0                        0   \n",
       "3                        0                        0                        0   \n",
       "4                        0                        0                        0   \n",
       "\n",
       "   num_of_punctuations_4.0  num_of_punctuations_5.0  num_of_punctuations_6.0  \\\n",
       "0                        0                        0                        0   \n",
       "1                        0                        0                        0   \n",
       "2                        1                        0                        0   \n",
       "3                        0                        0                        0   \n",
       "4                        1                        0                        0   \n",
       "\n",
       "   is_period_sequence_1  is_link_1  is_youtube_link_1  is_number_1  \n",
       "0                     0          0                  0            0  \n",
       "1                     0          0                  0            0  \n",
       "2                     0          1                  1            0  \n",
       "3                     0          0                  0            0  \n",
       "4                     1          1                  1            0  "
      ]
     },
     "execution_count": 10,
     "metadata": {},
     "output_type": "execute_result"
    }
   ],
   "source": [
    "df.head()"
   ]
  },
  {
   "cell_type": "code",
   "execution_count": 11,
   "id": "88152e65",
   "metadata": {
    "colab": {
     "base_uri": "https://localhost:8080/"
    },
    "id": "88152e65",
    "outputId": "3c176a37-59c9-4a14-bdcb-8dc505b16cbc"
   },
   "outputs": [
    {
     "data": {
      "text/plain": [
       "Index(['id', 'sim_content', 'sim_comment', 'word_count',\n",
       "       'duplicate_word_ratio', 'length_of_comment', 'stop_word_ratio',\n",
       "       'post_coment_gap', 'black_word_count', 'comment_duplication', 'is_spam',\n",
       "       'no_of_sentences_2', 'no_of_sentences_3', 'num_of_punctuations_1.0',\n",
       "       'num_of_punctuations_2.0', 'num_of_punctuations_3.0',\n",
       "       'num_of_punctuations_4.0', 'num_of_punctuations_5.0',\n",
       "       'num_of_punctuations_6.0', 'is_period_sequence_1', 'is_link_1',\n",
       "       'is_youtube_link_1', 'is_number_1'],\n",
       "      dtype='object')"
      ]
     },
     "execution_count": 11,
     "metadata": {},
     "output_type": "execute_result"
    }
   ],
   "source": [
    "df.rename(columns={'Unnamed: 0':'id'},inplace=True)\n",
    "df.columns"
   ]
  },
  {
   "cell_type": "markdown",
   "id": "26b6e724",
   "metadata": {
    "id": "26b6e724"
   },
   "source": [
    "#### Standardization  is no need for gb"
   ]
  },
  {
   "cell_type": "code",
   "execution_count": 12,
   "id": "fdbb0a39",
   "metadata": {
    "id": "fdbb0a39"
   },
   "outputs": [],
   "source": [
    "dfc = df.copy()"
   ]
  },
  {
   "cell_type": "code",
   "execution_count": 13,
   "id": "9c32a372",
   "metadata": {
    "id": "9c32a372"
   },
   "outputs": [],
   "source": [
    "y = dfc['is_spam']\n",
    "X = dfc.drop(['is_spam','id'],axis=1)"
   ]
  },
  {
   "cell_type": "code",
   "execution_count": 15,
   "id": "b60ffc1e",
   "metadata": {
    "id": "b60ffc1e"
   },
   "outputs": [
    {
     "data": {
      "text/plain": [
       "Index(['sim_content', 'sim_comment', 'word_count', 'duplicate_word_ratio',\n",
       "       'length_of_comment', 'stop_word_ratio', 'post_coment_gap',\n",
       "       'black_word_count', 'comment_duplication', 'no_of_sentences_2',\n",
       "       'no_of_sentences_3', 'num_of_punctuations_1.0',\n",
       "       'num_of_punctuations_2.0', 'num_of_punctuations_3.0',\n",
       "       'num_of_punctuations_4.0', 'num_of_punctuations_5.0',\n",
       "       'num_of_punctuations_6.0', 'is_period_sequence_1', 'is_link_1',\n",
       "       'is_youtube_link_1', 'is_number_1'],\n",
       "      dtype='object')"
      ]
     },
     "execution_count": 15,
     "metadata": {},
     "output_type": "execute_result"
    }
   ],
   "source": [
    "X.columns"
   ]
  },
  {
   "cell_type": "code",
   "execution_count": 16,
   "id": "22f72b06",
   "metadata": {},
   "outputs": [
    {
     "data": {
      "text/plain": [
       "0       0\n",
       "1       0\n",
       "2       1\n",
       "3       0\n",
       "4       1\n",
       "       ..\n",
       "6962    0\n",
       "6963    0\n",
       "6964    0\n",
       "6965    0\n",
       "6966    0\n",
       "Name: is_spam, Length: 6967, dtype: int64"
      ]
     },
     "execution_count": 16,
     "metadata": {},
     "output_type": "execute_result"
    }
   ],
   "source": [
    "y"
   ]
  },
  {
   "cell_type": "markdown",
   "id": "a812a80f",
   "metadata": {
    "id": "a812a80f"
   },
   "source": [
    "#### Handle imbalnce dataset (here we gonna use oversampling instead of smotec)"
   ]
  },
  {
   "cell_type": "code",
   "execution_count": 8,
   "id": "cb89bfce",
   "metadata": {
    "colab": {
     "base_uri": "https://localhost:8080/"
    },
    "id": "cb89bfce",
    "outputId": "da289cf8-3060-4899-8787-161f6739128c"
   },
   "outputs": [
    {
     "name": "stdout",
     "output_type": "stream",
     "text": [
      "The number of classes before fit Counter({0: 6255, 1: 712})\n",
      "The number of classes after fit Counter({0: 6255, 1: 5629})\n"
     ]
    },
    {
     "name": "stderr",
     "output_type": "stream",
     "text": [
      "C:\\Users\\Acer\\anaconda3\\lib\\site-packages\\imblearn\\utils\\_validation.py:638: FutureWarning: Pass sampling_strategy=0.9 as keyword args. From version 0.9 passing these as positional arguments will result in an error\n",
      "  FutureWarning)\n"
     ]
    }
   ],
   "source": [
    "from imblearn.over_sampling import RandomOverSampler\n",
    "from collections import Counter\n",
    "\n",
    "os=RandomOverSampler(0.9)\n",
    "X_ns,y_ns=os.fit_sample(X,y)\n",
    "print(\"The number of classes before fit {}\".format(Counter(y)))\n",
    "print(\"The number of classes after fit {}\".format(Counter(y_ns)))\n",
    "\n",
    "X = X_ns\n",
    "y = y_ns"
   ]
  },
  {
   "cell_type": "code",
   "execution_count": 9,
   "id": "1144b7c0",
   "metadata": {},
   "outputs": [],
   "source": [
    "from sklearn.model_selection import train_test_split\n",
    "X_train, X_test, y_train, y_test = train_test_split(X, y, test_size=0.3, random_state=42)"
   ]
  },
  {
   "cell_type": "markdown",
   "id": "753e1260",
   "metadata": {
    "id": "753e1260"
   },
   "source": [
    "#### Hyperparameter Tuninng"
   ]
  },
  {
   "cell_type": "code",
   "execution_count": 10,
   "id": "066d8e48",
   "metadata": {
    "id": "066d8e48"
   },
   "outputs": [],
   "source": [
    "from sklearn.ensemble import GradientBoostingClassifier"
   ]
  },
  {
   "cell_type": "code",
   "execution_count": 11,
   "id": "25ce5b99",
   "metadata": {
    "id": "25ce5b99"
   },
   "outputs": [],
   "source": [
    "gb = GradientBoostingClassifier()"
   ]
  },
  {
   "cell_type": "code",
   "execution_count": 12,
   "id": "15b76ae2",
   "metadata": {
    "colab": {
     "base_uri": "https://localhost:8080/"
    },
    "id": "15b76ae2",
    "outputId": "72ac8333-3841-4979-ee85-eb4c675b7b28"
   },
   "outputs": [
    {
     "data": {
      "text/plain": [
       "{'ccp_alpha': 0.0,\n",
       " 'criterion': 'friedman_mse',\n",
       " 'init': None,\n",
       " 'learning_rate': 0.1,\n",
       " 'loss': 'deviance',\n",
       " 'max_depth': 3,\n",
       " 'max_features': None,\n",
       " 'max_leaf_nodes': None,\n",
       " 'min_impurity_decrease': 0.0,\n",
       " 'min_impurity_split': None,\n",
       " 'min_samples_leaf': 1,\n",
       " 'min_samples_split': 2,\n",
       " 'min_weight_fraction_leaf': 0.0,\n",
       " 'n_estimators': 100,\n",
       " 'n_iter_no_change': None,\n",
       " 'random_state': None,\n",
       " 'subsample': 1.0,\n",
       " 'tol': 0.0001,\n",
       " 'validation_fraction': 0.1,\n",
       " 'verbose': 0,\n",
       " 'warm_start': False}"
      ]
     },
     "execution_count": 12,
     "metadata": {},
     "output_type": "execute_result"
    }
   ],
   "source": [
    "gb.get_params()"
   ]
  },
  {
   "cell_type": "code",
   "execution_count": 13,
   "id": "5e872111",
   "metadata": {
    "id": "5e872111"
   },
   "outputs": [],
   "source": [
    "grid={\n",
    "    'learning_rate':[0.15,0.1,0.05,0.01,0.005,0.001], \n",
    "    'n_estimators':[x for x in range(100,1000,2)],\n",
    "    'max_depth':[2,3,4,5,6,7],\n",
    "    'min_samples_split':[2,4,6,8,10,20,40,60,100], \n",
    "    'min_samples_leaf':[1,3,5,7,9],\n",
    "    'max_features':[2,3,4,5,6,7],\n",
    "    'subsample':[0.7,0.75,0.8,0.85,0.9,0.95,1]\n",
    "}"
   ]
  },
  {
   "cell_type": "code",
   "execution_count": 14,
   "id": "ec880c32",
   "metadata": {
    "id": "ec880c32"
   },
   "outputs": [],
   "source": [
    "from sklearn.model_selection import StratifiedKFold\n",
    "cv = StratifiedKFold(n_splits=10, shuffle=True)"
   ]
  },
  {
   "cell_type": "code",
   "execution_count": 15,
   "id": "8fc1e249",
   "metadata": {
    "id": "8fc1e249"
   },
   "outputs": [],
   "source": [
    "from sklearn.model_selection import RandomizedSearchCV\n",
    "gb_random = RandomizedSearchCV(estimator=gb, param_distributions=grid, n_jobs=-1,n_iter = 50, cv=cv, scoring='accuracy',error_score=0,return_train_score=True,verbose=2)"
   ]
  },
  {
   "cell_type": "code",
   "execution_count": 16,
   "id": "5cc6c6b4",
   "metadata": {
    "colab": {
     "base_uri": "https://localhost:8080/"
    },
    "id": "5cc6c6b4",
    "outputId": "6edbf7cc-ee99-4d8f-cfb8-65dd0f78538d"
   },
   "outputs": [
    {
     "name": "stdout",
     "output_type": "stream",
     "text": [
      "Fitting 10 folds for each of 50 candidates, totalling 500 fits\n"
     ]
    },
    {
     "data": {
      "text/plain": [
       "RandomizedSearchCV(cv=StratifiedKFold(n_splits=10, random_state=None, shuffle=True),\n",
       "                   error_score=0, estimator=GradientBoostingClassifier(),\n",
       "                   n_iter=50, n_jobs=-1,\n",
       "                   param_distributions={'learning_rate': [0.15, 0.1, 0.05, 0.01,\n",
       "                                                          0.005, 0.001],\n",
       "                                        'max_depth': [2, 3, 4, 5, 6, 7],\n",
       "                                        'max_features': [2, 3, 4, 5, 6, 7],\n",
       "                                        'min_samples_leaf': [1, 3, 5, 7, 9],\n",
       "                                        'min_samples_split': [2, 4, 6, 8, 10,\n",
       "                                                              20, 40, 60, 100],\n",
       "                                        'n_estimators': [100, 102, 104, 106,\n",
       "                                                         108, 110, 112, 114,\n",
       "                                                         116, 118, 120, 122,\n",
       "                                                         124, 126, 128, 130,\n",
       "                                                         132, 134, 136, 138,\n",
       "                                                         140, 142, 144, 146,\n",
       "                                                         148, 150, 152, 154,\n",
       "                                                         156, 158, ...],\n",
       "                                        'subsample': [0.7, 0.75, 0.8, 0.85, 0.9,\n",
       "                                                      0.95, 1]},\n",
       "                   return_train_score=True, scoring='accuracy', verbose=2)"
      ]
     },
     "execution_count": 16,
     "metadata": {},
     "output_type": "execute_result"
    }
   ],
   "source": [
    "gb_random.fit(X_train,y_train)"
   ]
  },
  {
   "cell_type": "markdown",
   "id": "ea7bcefb",
   "metadata": {
    "id": "ea7bcefb"
   },
   "source": [
    "#### Evaluvate"
   ]
  },
  {
   "cell_type": "code",
   "execution_count": 17,
   "id": "f2b7c759",
   "metadata": {
    "id": "f2b7c759"
   },
   "outputs": [],
   "source": [
    "best_model = gb_random.best_estimator_"
   ]
  },
  {
   "cell_type": "code",
   "execution_count": 18,
   "id": "71cbd844",
   "metadata": {
    "colab": {
     "base_uri": "https://localhost:8080/"
    },
    "id": "71cbd844",
    "outputId": "eb950763-211f-47c7-c9ab-65ba4fd4e2ea"
   },
   "outputs": [
    {
     "data": {
      "text/plain": [
       "GradientBoostingClassifier(learning_rate=0.15, max_depth=7, max_features=2,\n",
       "                           min_samples_leaf=9, min_samples_split=60,\n",
       "                           n_estimators=862, subsample=0.8)"
      ]
     },
     "execution_count": 18,
     "metadata": {},
     "output_type": "execute_result"
    }
   ],
   "source": [
    "best_model"
   ]
  },
  {
   "cell_type": "code",
   "execution_count": 19,
   "id": "326c7f67",
   "metadata": {
    "colab": {
     "base_uri": "https://localhost:8080/"
    },
    "id": "326c7f67",
    "outputId": "eab6f2a0-902d-4c32-8b82-9d1e18a9d281"
   },
   "outputs": [
    {
     "data": {
      "text/plain": [
       "{'subsample': 0.8,\n",
       " 'n_estimators': 862,\n",
       " 'min_samples_split': 60,\n",
       " 'min_samples_leaf': 9,\n",
       " 'max_features': 2,\n",
       " 'max_depth': 7,\n",
       " 'learning_rate': 0.15}"
      ]
     },
     "execution_count": 19,
     "metadata": {},
     "output_type": "execute_result"
    }
   ],
   "source": [
    "gb_random.best_params_"
   ]
  },
  {
   "cell_type": "code",
   "execution_count": 20,
   "id": "5760677e",
   "metadata": {
    "colab": {
     "base_uri": "https://localhost:8080/"
    },
    "id": "5760677e",
    "outputId": "2580e3b3-092e-4c8c-920c-52e61e36f628"
   },
   "outputs": [
    {
     "data": {
      "text/plain": [
       "0.9848528765157825"
      ]
     },
     "execution_count": 20,
     "metadata": {},
     "output_type": "execute_result"
    }
   ],
   "source": [
    "gb_random.best_score_"
   ]
  },
  {
   "cell_type": "code",
   "execution_count": 21,
   "id": "9b91cb79",
   "metadata": {
    "id": "9b91cb79"
   },
   "outputs": [],
   "source": [
    "y_pred = best_model.predict(X_test)"
   ]
  },
  {
   "cell_type": "code",
   "execution_count": 22,
   "id": "4aec2203",
   "metadata": {
    "id": "4aec2203"
   },
   "outputs": [],
   "source": [
    "err  =(y_pred- y_test)"
   ]
  },
  {
   "cell_type": "code",
   "execution_count": 23,
   "id": "92e15cff",
   "metadata": {
    "colab": {
     "base_uri": "https://localhost:8080/",
     "height": 282
    },
    "id": "92e15cff",
    "outputId": "4b6ee746-aadc-40b1-8564-c46aae149024"
   },
   "outputs": [
    {
     "data": {
      "text/plain": [
       "<AxesSubplot:>"
      ]
     },
     "execution_count": 23,
     "metadata": {},
     "output_type": "execute_result"
    },
    {
     "data": {
      "image/png": "[encoded data removed]",
      "text/plain": [
       "<Figure size 432x288 with 1 Axes>"
      ]
     },
     "metadata": {
      "needs_background": "light"
     },
     "output_type": "display_data"
    }
   ],
   "source": [
    "err.value_counts().plot(kind='bar',color='purple')"
   ]
  },
  {
   "cell_type": "code",
   "execution_count": 24,
   "id": "b0b60d72",
   "metadata": {
    "colab": {
     "base_uri": "https://localhost:8080/"
    },
    "id": "b0b60d72",
    "outputId": "8ad25256-044b-450d-dd3c-dc3a99957a19"
   },
   "outputs": [
    {
     "name": "stdout",
     "output_type": "stream",
     "text": [
      "MAE: 0.012619181155356141\n",
      "MSE: 0.012619181155356141\n",
      "RMSE: 0.11233512876814689\n"
     ]
    }
   ],
   "source": [
    "from sklearn import metrics\n",
    "print('MAE:', metrics.mean_absolute_error(y_test,y_pred))\n",
    "print('MSE:', metrics.mean_squared_error(y_test, y_pred))\n",
    "print('RMSE:', np.sqrt(metrics.mean_squared_error(y_test, y_pred)))"
   ]
  },
  {
   "cell_type": "code",
   "execution_count": 25,
   "id": "5290af84",
   "metadata": {
    "colab": {
     "base_uri": "https://localhost:8080/",
     "height": 1000
    },
    "id": "5290af84",
    "outputId": "9f5008c4-8bc4-4b35-91e9-443630109897"
   },
   "outputs": [
    {
     "data": {
      "text/plain": [
       "Text(0, 0.5, 'Feature Importance Score')"
      ]
     },
     "execution_count": 25,
     "metadata": {},
     "output_type": "execute_result"
    },
    {
     "data": {
      "image/png": "[encoded data removed]",
      "text/plain": [
       "<Figure size 432x288 with 1 Axes>"
      ]
     },
     "metadata": {
      "needs_background": "light"
     },
     "output_type": "display_data"
    }
   ],
   "source": [
    "indices=list(X_train)\n",
    "feat_imp = pd.Series(best_model.feature_importances_, indices).sort_values(ascending=False)\n",
    "feat_imp.plot(kind='bar', title='Importance of Features')\n",
    "plt.ylabel('Feature Importance Score')"
   ]
  },
  {
   "cell_type": "code",
   "execution_count": 26,
   "id": "4fb919a3",
   "metadata": {
    "colab": {
     "base_uri": "https://localhost:8080/"
    },
    "id": "4fb919a3",
    "outputId": "2b694928-a67a-4d6b-f72c-ce380ee72b92"
   },
   "outputs": [
    {
     "name": "stdout",
     "output_type": "stream",
     "text": [
      "[[1854   45]\n",
      " [   0 1667]]\n",
      "              precision    recall  f1-score   support\n",
      "\n",
      "           0       1.00      0.98      0.99      1899\n",
      "           1       0.97      1.00      0.99      1667\n",
      "\n",
      "    accuracy                           0.99      3566\n",
      "   macro avg       0.99      0.99      0.99      3566\n",
      "weighted avg       0.99      0.99      0.99      3566\n",
      "\n"
     ]
    }
   ],
   "source": [
    "from sklearn.metrics import classification_report, confusion_matrix\n",
    "print(confusion_matrix(y_test, y_pred))\n",
    "print(classification_report(y_test, y_pred))"
   ]
  },
  {
   "cell_type": "code",
   "execution_count": 27,
   "id": "bf7c7def",
   "metadata": {
    "colab": {
     "base_uri": "https://localhost:8080/"
    },
    "id": "bf7c7def",
    "outputId": "18db3a89-c859-41d9-b4f9-e7eb97f47618"
   },
   "outputs": [
    {
     "name": "stdout",
     "output_type": "stream",
     "text": [
      "accuracy is 0.9873808188446439\n"
     ]
    }
   ],
   "source": [
    "print(\"accuracy is {}\".format(best_model.score(X_test, y_test)))"
   ]
  },
  {
   "cell_type": "code",
   "execution_count": 27,
   "id": "bf4ee74c",
   "metadata": {
    "id": "bf4ee74c"
   },
   "outputs": [],
   "source": [
    "#import pickle\n",
    "# open a file, where you ant to store the data\n",
    "#file = open('random_forest_regression_model_v2.pkl', 'wb')\n",
    "# dump information to that file\n",
    "#pickle.dump(rf_random, file)"
   ]
  },
  {
   "cell_type": "markdown",
   "id": "9643fc7a",
   "metadata": {
    "id": "9643fc7a"
   },
   "source": [
    "## ROC curve"
   ]
  },
  {
   "cell_type": "code",
   "execution_count": 28,
   "id": "239212aa",
   "metadata": {
    "id": "239212aa"
   },
   "outputs": [],
   "source": [
    "from sklearn import metrics\n",
    "from sklearn.metrics import roc_auc_score\n",
    "from sklearn.metrics import roc_curve"
   ]
  },
  {
   "cell_type": "code",
   "execution_count": 29,
   "id": "2135b3c5",
   "metadata": {
    "id": "2135b3c5"
   },
   "outputs": [],
   "source": [
    "baseline_roc_auc = roc_auc_score(y_test, best_model.predict(X_test))\n",
    "fprB, tprB, thresholdsB = roc_curve(y_test, best_model.predict_proba(X_test)[:,1])"
   ]
  },
  {
   "cell_type": "code",
   "execution_count": 30,
   "id": "ad42f59c",
   "metadata": {
    "colab": {
     "base_uri": "https://localhost:8080/",
     "height": 295
    },
    "id": "ad42f59c",
    "outputId": "7125fa84-b948-4e20-b78c-ac127e26c152"
   },
   "outputs": [
    {
     "data": {
      "image/png": "[encoded data removed]",
      "text/plain": [
       "<Figure size 432x288 with 1 Axes>"
      ]
     },
     "metadata": {
      "needs_background": "light"
     },
     "output_type": "display_data"
    }
   ],
   "source": [
    "plt.figure()\n",
    "plt.plot(fprB, tprB, label='GB(area = %0.2f)' % baseline_roc_auc)\n",
    "plt.plot([0, 1], [0, 1],'r--')\n",
    "plt.xlim([0.0, 1.0])\n",
    "plt.ylim([0.0, 1.05])\n",
    "plt.xlabel('False Positive Rate')\n",
    "plt.ylabel('True Positive Rate')\n",
    "plt.title('Receiver operating characteristic')\n",
    "plt.legend(loc=\"lower right\")\n",
    "plt.show()"
   ]
  },
  {
   "cell_type": "code",
   "execution_count": 30,
   "id": "0bce00d6",
   "metadata": {
    "id": "0bce00d6"
   },
   "outputs": [],
   "source": []
  },
  {
   "cell_type": "markdown",
   "id": "qI5LL-1AjtN5",
   "metadata": {
    "id": "qI5LL-1AjtN5"
   },
   "source": [
    "**Recall - presicion with threshold values**"
   ]
  },
  {
   "cell_type": "code",
   "execution_count": 31,
   "id": "2_I9BonPj36v",
   "metadata": {
    "colab": {
     "base_uri": "https://localhost:8080/",
     "height": 312
    },
    "id": "2_I9BonPj36v",
    "outputId": "072bb97b-a757-4b69-a508-d38c83b3f282"
   },
   "outputs": [
    {
     "data": {
      "text/plain": [
       "(0.0, 1.0)"
      ]
     },
     "execution_count": 31,
     "metadata": {},
     "output_type": "execute_result"
    },
    {
     "data": {
      "image/png": "[encoded data removed]",
      "text/plain": [
       "<Figure size 432x288 with 1 Axes>"
      ]
     },
     "metadata": {
      "needs_background": "light"
     },
     "output_type": "display_data"
    }
   ],
   "source": [
    "### Predict test_y values and probabilities based on random forest model\n",
    "probs_y=best_model.predict_proba(X_test) \n",
    "  # probs_y is a 2-D array of probability of being labeled as 0 (first column of array) vs 1 (2nd column in array)\n",
    "\n",
    "from sklearn.metrics import precision_recall_curve\n",
    "precision, recall, thresholds = precision_recall_curve(y_test, probs_y[:, 1]) \n",
    "   #retrieve probability of being 1(in second column of probs_y)\n",
    "pr_auc = metrics.auc(recall, precision)\n",
    "\n",
    "plt.title(\"Precision-Recall vs Threshold Chart\")\n",
    "plt.plot(thresholds, precision[: -1], \"b--\", label=\"Precision\")\n",
    "plt.plot(thresholds, recall[: -1], \"r--\", label=\"Recall\")\n",
    "plt.ylabel(\"Precision, Recall\")\n",
    "plt.xlabel(\"Threshold\")\n",
    "plt.legend(loc=\"lower left\")\n",
    "plt.ylim([0,1])"
   ]
  },
  {
   "cell_type": "code",
   "execution_count": 32,
   "id": "g8n9AvSSj7Ba",
   "metadata": {
    "id": "g8n9AvSSj7Ba"
   },
   "outputs": [],
   "source": [
    "import pickle\n",
    "#open a file, where you ant to store the data\n",
    "file = open('gboostv1.pkl', 'wb')\n",
    "# dump information to that file\n",
    "pickle.dump(best_model, file)\n",
    "file.close()"
   ]
  },
  {
   "cell_type": "code",
   "execution_count": 32,
   "id": "NtYtoif8kI63",
   "metadata": {
    "id": "NtYtoif8kI63"
   },
   "outputs": [],
   "source": []
  }
 ],
 "metadata": {
  "accelerator": "GPU",
  "colab": {
   "include_colab_link": true,
   "name": "GradientBoost model.ipynb",
   "provenance": [],
   "toc_visible": true
  },
  "kernelspec": {
   "display_name": "Python 3",
   "language": "python",
   "name": "python3"
  },
  "language_info": {
   "codemirror_mode": {
    "name": "ipython",
    "version": 3
   },
   "file_extension": ".py",
   "mimetype": "text/x-python",
   "name": "python",
   "nbconvert_exporter": "python",
   "pygments_lexer": "ipython3",
   "version": "3.7.9"
  }
 },
 "nbformat": 4,
 "nbformat_minor": 5
}
